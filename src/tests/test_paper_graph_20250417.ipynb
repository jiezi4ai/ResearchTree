{
 "cells": [
  {
   "cell_type": "markdown",
   "id": "e1e2a84a",
   "metadata": {},
   "source": [
    "# Data Generation"
   ]
  },
  {
   "cell_type": "markdown",
   "id": "43fac205",
   "metadata": {},
   "source": [
    "## Setup"
   ]
  },
  {
   "cell_type": "code",
   "execution_count": 1,
   "id": "7a8b0d7f",
   "metadata": {},
   "outputs": [],
   "source": [
    "import copy\n",
    "from typing import List, Dict, Optional, Union, Tuple, Literal # Added Tuple"
   ]
  },
  {
   "cell_type": "code",
   "execution_count": 2,
   "id": "6d23ce2f",
   "metadata": {},
   "outputs": [],
   "source": [
    "import os\n",
    "import json\n",
    "\n",
    "import sys\n",
    "import os\n",
    "\n",
    "parent_dir = os.path.dirname(os.getcwd())\n",
    "sys.path.append(parent_dir)"
   ]
  },
  {
   "cell_type": "code",
   "execution_count": 3,
   "id": "453dbfae",
   "metadata": {},
   "outputs": [],
   "source": [
    "from graph.paper_graph import PaperGraph\n",
    "from graph.graph_viz import GraphViz"
   ]
  },
  {
   "cell_type": "code",
   "execution_count": 4,
   "id": "2e13e6de",
   "metadata": {},
   "outputs": [],
   "source": [
    "similarity_threshold = 0.7\n",
    "top_k_similar_papers = 20\n",
    "similar_papers = {}\n",
    "\n",
    "top_l_key_authors = 20\n",
    "key_authors = {}\n"
   ]
  },
  {
   "cell_type": "code",
   "execution_count": 5,
   "id": "08bf45ab",
   "metadata": {},
   "outputs": [],
   "source": [
    "# driving examples\n",
    "llm_api_key = os.getenv('GEMINI_API_KEY_3')\n",
    "llm_model_name=\"gemini-2.0-flash\"\n",
    "embed_api_key = os.getenv('GEMINI_API_KEY_3')\n",
    "embed_model_name=\"models/text-embedding-004\"\n",
    "\n",
    "research_topic = \"llm literature review\"\n",
    "seed_dois = ['10.48550/arXiv.2406.10252',  # AutoSurvey: Large Language Models Can Automatically Write Surveys\n",
    "            '10.48550/arXiv.2412.10415',  # Generative Adversarial Reviews: When LLMs Become the Critic\n",
    "            '10.48550/arXiv.2402.12928',  # A Literature Review of Literature Reviews in Pattern Analysis and Machine Intelligence \n",
    "            ]\n",
    "seed_titles = ['PaperRobot: Incremental Draft Generation of Scientific Ideas',\n",
    "            'From Hypothesis to Publication: A Comprehensive Survey of AI-Driven Research Support Systems'\n",
    "            ]"
   ]
  },
  {
   "cell_type": "code",
   "execution_count": 6,
   "id": "e1be897f",
   "metadata": {},
   "outputs": [],
   "source": [
    "import numpy as np\n",
    "from collections import Counter\n",
    "\n",
    "def get_graph_stats(graph):\n",
    "    \"\"\"basic stats for graph\"\"\"\n",
    "    graph_stats = {}\n",
    "    graph_stats['node_cnt'] = len(graph.nodes)\n",
    "    graph_stats['edge_cnt'] = len(graph.edges)\n",
    "    print(f\"Graph has {len(graph.nodes)} nodes and {len(graph.edges)} edges.\")\n",
    "\n",
    "    # check node types\n",
    "    node_types = [node_data.get('nodeType') for _, node_data in graph.nodes(data=True)]\n",
    "    node_types_cnt = Counter(node_types)\n",
    "    sorted_node_counts = node_types_cnt.most_common()  # rank order by descending\n",
    "    graph_stats['node_type'] = sorted_node_counts  # format like [(node type, nodes count), ...]\n",
    "    print(f\"There are {len(sorted_node_counts)} node types in this graph, they are:\\n{sorted_node_counts}\")\n",
    "\n",
    "    # check edge types\n",
    "    edge_types = [d.get('relationshipType') for _, _, d in graph.edges(data=True)]\n",
    "    edge_types_cnt = Counter(edge_types)\n",
    "    sorted_egdes_counts = edge_types_cnt.most_common()  # rank order by descending\n",
    "    graph_stats['edge_type'] = sorted_egdes_counts  # format like [(node type, nodes count), ...]\n",
    "    print(f\"There are {len(sorted_egdes_counts)} edge types in this graph, they are:\\n{sorted_egdes_counts}\")\n",
    "\n",
    "    return graph_stats"
   ]
  },
  {
   "cell_type": "code",
   "execution_count": 7,
   "id": "f612429a",
   "metadata": {},
   "outputs": [],
   "source": [
    "def get_paper_stats(graph:PaperGraph, seed_paper_dois):\n",
    "    \"\"\"get paper statistic in paper graph\"\"\"\n",
    "    papers_stats = []\n",
    "    for nid, node_data in graph.nodes(data=True):\n",
    "        if node_data.get('nodeType') == 'Paper':\n",
    "            # paper infos\n",
    "            title = graph.nodes[nid].get('title')\n",
    "            in_seed = True if nid in seed_paper_dois else False\n",
    "            overall_cite_cnt = node_data.get('citationCount')\n",
    "            overall_inf_cite_cnt = node_data.get('influentialCitationCount')\n",
    "            overall_ref_cnt = node_data.get('influentialCitationCount')\n",
    "\n",
    "            # for in edges\n",
    "            in_edges_info = graph.in_edges(nid, data=True)\n",
    "            local_citation_cnt = sum([1 for _, _, edge_data in in_edges_info if edge_data.get('relationshipType') == 'CITES'])\n",
    "            sim_cnt_1 = sum([1 for _, _, edge_data in in_edges_info if edge_data.get('relationshipType') == 'SIMILAR_TO'])\n",
    "        \n",
    "            # for out edges\n",
    "            out_edges_info = graph.out_edges(nid, data=True)\n",
    "            local_ref_cnt = sum([1 for _, _, edge_data in out_edges_info if edge_data.get('relationshipType') == 'CITES'])\n",
    "            sim_cnt_2 = sum([1 for _, _, edge_data in out_edges_info if edge_data.get('relationshipType') == 'SIMILAR_TO'])\n",
    "            local_sim_cnt = sim_cnt_1 + sim_cnt_2\n",
    "\n",
    "            # author infors\n",
    "            tot_author_cnt = sum([1 for u in graph.predecessors(nid) if graph.nodes[u].get('nodeType') == 'Author'])\n",
    "            h_index_lst, author_order_lst = [], []\n",
    "            for u in graph.predecessors(n):\n",
    "                if graph.nodes[u].get('nodeType') == 'Author':\n",
    "                    h_index = graph.nodes[u].get('hIndex')\n",
    "                    author_order = graph[u][nid].get('authorOrder')\n",
    "                    if h_index:\n",
    "                        h_index_lst.append(h_index)\n",
    "                        author_order_lst.append(author_order)\n",
    "            \n",
    "            if len(h_index_lst) > 0 and len(h_index_lst) == len(author_order):\n",
    "                avg_h_index = np.average(h_index_lst)\n",
    "                weight_h_index = sum([x / y for x, y in zip(h_index_lst, author_order_lst)]) / len(h_index_lst)\n",
    "            else:\n",
    "                avg_h_index = None\n",
    "                weight_h_index = None\n",
    "\n",
    "            paper_stats = {\"doi\":nid, \"title\":title, \"if_seed\": in_seed,\n",
    "                           \"local_citation_cnt\":local_citation_cnt, \"local_reference_cnt\": local_ref_cnt, \"local_similarity_cnt\":local_sim_cnt,\n",
    "                           \"global_citaion_cnt\":overall_cite_cnt, \"influencial_citation_cnt\":overall_inf_cite_cnt, \"global_refence_cnt\": overall_ref_cnt,\n",
    "                           \"author_cnt\":tot_author_cnt, \"avg_h_index\":avg_h_index, 'weighted_h_index':weight_h_index}\n",
    "            papers_stats.append(paper_stats)\n",
    "    return papers_stats"
   ]
  },
  {
   "cell_type": "code",
   "execution_count": 8,
   "id": "d77994c2",
   "metadata": {},
   "outputs": [],
   "source": [
    "def get_author_stats(graph, seed_author_ids):\n",
    "    \"\"\"get author statistic in paper graph\"\"\"\n",
    "\n",
    "    h_index_ref = {nid:node_data['hIndex'] for nid, node_data in graph.nodes(data=True) if node_data.get('nodeType') == 'Author' \n",
    "                   and node_data.get('hIndex') is not None}\n",
    "\n",
    "    authors_stats = []\n",
    "    for nid, node_data in graph.nodes(data=True):\n",
    "        if node_data.get('nodeType') == 'Author':\n",
    "            # properties\n",
    "            author_name = node_data.get('name')\n",
    "            h_index = node_data.get('hIndex')\n",
    "            in_seed = True if nid in seed_author_ids else False\n",
    "            global_paper_cnt = node_data.get('paperCount')\n",
    "            global_citation_cnt = node_data.get('citationCount')\n",
    "\n",
    "            # local stats\n",
    "            out_edges_info = graph.out_edges(nid, data=True)\n",
    "            local_paper_cnt = sum([1 for _, _, data in out_edges_info if data.get('relationshipType') == 'WRITES'])\n",
    "            # get coauthors\n",
    "            coauthor_ids = []\n",
    "            for u,v, edge_data in out_edges_info:\n",
    "                if edge_data.get('relationshipType') == 'WRITES':\n",
    "                    coauthors = edge_data.get('coauthors', [])\n",
    "                    coauthor_ids.extend([x['authorId'] for x in coauthors if x.get('authorId') is not None])\n",
    "            \n",
    "            # get top coauthors\n",
    "            coauthor_cnt = Counter(coauthor_ids)\n",
    "            top_coauthors = coauthor_cnt.most_common()[0:5]  # rank order by descending\n",
    "\n",
    "            # calculate top coauthor h-index\n",
    "            coauthor_cnt = 0\n",
    "            sum_coauthor_h_index = 0\n",
    "            for idx, item in enumerate(top_coauthors):\n",
    "                coauthor_id = item[0]\n",
    "                coauthor_hindex = h_index_ref.get(coauthor_id)\n",
    "                if coauthor_hindex is not None:\n",
    "                    sum_coauthor_h_index += coauthor_hindex /idx\n",
    "                    coauthor_cnt += 1\n",
    "            weighted_coauthor_h_index = sum_coauthor_h_index / coauthor_cnt if coauthor_cnt > 0 else None\n",
    "\n",
    "            author_stat = {\"author_id\":nid, \"author_name\":author_name, \"is_seed\":in_seed,\n",
    "                           \"h_index\":h_index, \"global_paper_cnt\":global_paper_cnt, \"global_citation_cnt\":global_citation_cnt,\n",
    "                           \"local_paper_cnt\":local_paper_cnt, \n",
    "                           \"top_coauthors\":top_coauthors, \"weighted_coauthor_h_index\": weighted_coauthor_h_index\n",
    "                          }\n",
    "            authors_stats.append(author_stat)\n",
    "    return authors_stats"
   ]
  },
  {
   "cell_type": "code",
   "execution_count": 9,
   "id": "47f42628",
   "metadata": {},
   "outputs": [],
   "source": [
    "from paper_expansion import PaperCollector\n",
    "\n",
    "ps = PaperCollector(   \n",
    "    research_topic = research_topic,   \n",
    "    seed_paper_titles = seed_titles, \n",
    "    seed_paper_dois = seed_dois,\n",
    "    llm_api_key = llm_api_key,\n",
    "    llm_model_name = llm_model_name,\n",
    "    embed_api_key = embed_api_key,\n",
    "    embed_model_name = embed_model_name,\n",
    "    from_dt = '2020-01-01',\n",
    "    to_dt = '2025-04-30',\n",
    "    fields_of_study = ['Computer Science'],\n",
    "    search_limit = 100,\n",
    "    recommend_limit = 100,\n",
    "    citation_limit = 100,\n",
    "    paper_graph_name = 'paper_graph'\n",
    "    )"
   ]
  },
  {
   "cell_type": "markdown",
   "id": "052cef30",
   "metadata": {},
   "source": [
    "## Initial Search"
   ]
  },
  {
   "cell_type": "markdown",
   "id": "16184e2b",
   "metadata": {},
   "source": [
    "### Data Geneeration"
   ]
  },
  {
   "cell_type": "code",
   "execution_count": 10,
   "id": "110521a9",
   "metadata": {},
   "outputs": [
    {
     "name": "stderr",
     "output_type": "stream",
     "text": [
      "2025-04-17 21:42:53,066 - INFO - SemanticScholarKit initialized with max_concurrency=10, sleep_interval=3.0s\n",
      "2025-04-17 21:42:53,070 - INFO - Fetching papers by 3 DOIs...\n",
      "2025-04-17 21:42:53,073 - INFO - Fetching papers by title: 'PaperRobot: Incremental Draft Generation of Scientific Ideas...'\n",
      "2025-04-17 21:42:53,075 - INFO - Fetching papers by title: 'From Hypothesis to Publication: A Comprehensive Survey of AI-Driven Research Support Systems...'\n",
      "2025-04-17 21:42:53,078 - INFO - Fetching papers by topic: 'llm literature review...'\n",
      "2025-04-17 21:42:53,080 - INFO - Running 4 initial query tasks concurrently...\n",
      "2025-04-17 21:42:53,083 - INFO - async_search_paper_by_ids: Creating 1 tasks for 3 IDs.\n",
      "2025-04-17 21:42:53,087 - INFO - async_search_paper_by_ids: Gathering 1 tasks...\n",
      "2025-04-17 21:42:53,091 - INFO - async_search_paper_by_keywords: Searching papers by keyword: 'PaperRobot: Incremental Draft Generation of Scient...' with effective limit 100.\n",
      "2025-04-17 21:42:53,092 - INFO - _sync_search_paper_by_keywords: Thread started for query 'PaperRobot: Incremental Draft Generation of Scient...' with limit 100.\n",
      "2025-04-17 21:42:53,092 - INFO - async_search_paper_by_keywords: Searching papers by keyword: 'From Hypothesis to Publication: A Comprehensive Su...' with effective limit 100.\n",
      "2025-04-17 21:42:53,095 - INFO - _sync_search_paper_by_keywords: Thread started for query 'From Hypothesis to Publication: A Comprehensive Su...' with limit 100.\n",
      "2025-04-17 21:42:53,095 - INFO - async_search_paper_by_keywords: Searching papers by keyword: 'llm literature review...' with effective limit 100.\n",
      "2025-04-17 21:42:53,099 - INFO - _sync_search_paper_by_keywords: Thread started for query 'llm literature review...' with limit 100.\n",
      "2025-04-17 21:42:53,100 - INFO - _sync_get_papers: Thread started for batch (3 IDs, first 5: ['10.48550/arXiv.2406.10252', '10.48550/arXiv.2412.10415', '10.48550/arXiv.2402.12928']...).\n"
     ]
    },
    {
     "name": "stdout",
     "output_type": "stream",
     "text": [
      "--- Running Initial Query for Seed Papers Information ---\n"
     ]
    },
    {
     "name": "stderr",
     "output_type": "stream",
     "text": [
      "2025-04-17 21:42:53,371 - INFO - HTTP Request: GET https://api.semanticscholar.org/graph/v1/paper/search?query=llm+literature+review&fields=abstract%2Cauthors%2CcitationCount%2CcitationStyles%2CcorpusId%2CexternalIds%2CfieldsOfStudy%2CinfluentialCitationCount%2CisOpenAccess%2Cjournal%2CopenAccessPdf%2CpaperId%2CpublicationDate%2CpublicationTypes%2CpublicationVenue%2CreferenceCount%2Cs2FieldsOfStudy%2Ctitle%2Curl%2Cvenue%2Cyear&offset=0&limit=100 \"HTTP/1.1 429 \"\n",
      "2025-04-17 21:42:53,565 - INFO - HTTP Request: GET https://api.semanticscholar.org/graph/v1/paper/search?query=From+Hypothesis+to+Publication%3A+A+Comprehensive+Survey+of+AI-Driven+Research+Support+Systems&fields=abstract%2Cauthors%2CcitationCount%2CcitationStyles%2CcorpusId%2CexternalIds%2CfieldsOfStudy%2CinfluentialCitationCount%2CisOpenAccess%2Cjournal%2CopenAccessPdf%2CpaperId%2CpublicationDate%2CpublicationTypes%2CpublicationVenue%2CreferenceCount%2Cs2FieldsOfStudy%2Ctitle%2Curl%2Cvenue%2Cyear&offset=0&limit=100 \"HTTP/1.1 429 \"\n",
      "2025-04-17 21:42:53,623 - INFO - HTTP Request: GET https://api.semanticscholar.org/graph/v1/paper/search?query=PaperRobot%3A+Incremental+Draft+Generation+of+Scientific+Ideas&fields=abstract%2Cauthors%2CcitationCount%2CcitationStyles%2CcorpusId%2CexternalIds%2CfieldsOfStudy%2CinfluentialCitationCount%2CisOpenAccess%2Cjournal%2CopenAccessPdf%2CpaperId%2CpublicationDate%2CpublicationTypes%2CpublicationVenue%2CreferenceCount%2Cs2FieldsOfStudy%2Ctitle%2Curl%2Cvenue%2Cyear&offset=0&limit=100 \"HTTP/1.1 429 \"\n",
      "2025-04-17 21:42:53,624 - INFO - HTTP Request: POST https://api.semanticscholar.org/graph/v1/paper/batch?fields=abstract%2Cauthors%2CcitationCount%2CcitationStyles%2CcorpusId%2CexternalIds%2CfieldsOfStudy%2CinfluentialCitationCount%2CisOpenAccess%2Cjournal%2CopenAccessPdf%2CpaperId%2CpublicationDate%2CpublicationTypes%2CpublicationVenue%2CreferenceCount%2Cs2FieldsOfStudy%2Ctitle%2Curl%2Cvenue%2Cyear \"HTTP/1.1 200 OK\"\n",
      "2025-04-17 21:42:53,626 - INFO - _sync_get_papers: API call successful for batch (first 5: ['10.48550/arXiv.2406.10252', '10.48550/arXiv.2412.10415', '10.48550/arXiv.2402.12928']...), returning 3 items.\n",
      "2025-04-17 21:42:56,630 - INFO - async_search_paper_by_ids: Gather complete. Processing results.\n",
      "2025-04-17 21:43:23,675 - INFO - HTTP Request: GET https://api.semanticscholar.org/graph/v1/paper/search?query=llm+literature+review&fields=abstract%2Cauthors%2CcitationCount%2CcitationStyles%2CcorpusId%2CexternalIds%2CfieldsOfStudy%2CinfluentialCitationCount%2CisOpenAccess%2Cjournal%2CopenAccessPdf%2CpaperId%2CpublicationDate%2CpublicationTypes%2CpublicationVenue%2CreferenceCount%2Cs2FieldsOfStudy%2Ctitle%2Curl%2Cvenue%2Cyear&offset=0&limit=100 \"HTTP/1.1 429 \"\n",
      "2025-04-17 21:43:24,360 - INFO - HTTP Request: GET https://api.semanticscholar.org/graph/v1/paper/search?query=From+Hypothesis+to+Publication%3A+A+Comprehensive+Survey+of+AI-Driven+Research+Support+Systems&fields=abstract%2Cauthors%2CcitationCount%2CcitationStyles%2CcorpusId%2CexternalIds%2CfieldsOfStudy%2CinfluentialCitationCount%2CisOpenAccess%2Cjournal%2CopenAccessPdf%2CpaperId%2CpublicationDate%2CpublicationTypes%2CpublicationVenue%2CreferenceCount%2Cs2FieldsOfStudy%2Ctitle%2Curl%2Cvenue%2Cyear&offset=0&limit=100 \"HTTP/1.1 429 \"\n",
      "2025-04-17 21:43:28,353 - INFO - HTTP Request: GET https://api.semanticscholar.org/graph/v1/paper/search?query=PaperRobot%3A+Incremental+Draft+Generation+of+Scientific+Ideas&fields=abstract%2Cauthors%2CcitationCount%2CcitationStyles%2CcorpusId%2CexternalIds%2CfieldsOfStudy%2CinfluentialCitationCount%2CisOpenAccess%2Cjournal%2CopenAccessPdf%2CpaperId%2CpublicationDate%2CpublicationTypes%2CpublicationVenue%2CreferenceCount%2Cs2FieldsOfStudy%2Ctitle%2Curl%2Cvenue%2Cyear&offset=0&limit=100 \"HTTP/1.1 200 OK\"\n",
      "2025-04-17 21:43:28,355 - INFO - _sync_search_paper_by_keywords: API call successful for query 'PaperRobot: Incremental Draft Generation of Scient...', returning 1 items.\n",
      "2025-04-17 21:43:53,976 - INFO - HTTP Request: GET https://api.semanticscholar.org/graph/v1/paper/search?query=llm+literature+review&fields=abstract%2Cauthors%2CcitationCount%2CcitationStyles%2CcorpusId%2CexternalIds%2CfieldsOfStudy%2CinfluentialCitationCount%2CisOpenAccess%2Cjournal%2CopenAccessPdf%2CpaperId%2CpublicationDate%2CpublicationTypes%2CpublicationVenue%2CreferenceCount%2Cs2FieldsOfStudy%2Ctitle%2Curl%2Cvenue%2Cyear&offset=0&limit=100 \"HTTP/1.1 429 \"\n",
      "2025-04-17 21:43:54,888 - INFO - HTTP Request: GET https://api.semanticscholar.org/graph/v1/paper/search?query=From+Hypothesis+to+Publication%3A+A+Comprehensive+Survey+of+AI-Driven+Research+Support+Systems&fields=abstract%2Cauthors%2CcitationCount%2CcitationStyles%2CcorpusId%2CexternalIds%2CfieldsOfStudy%2CinfluentialCitationCount%2CisOpenAccess%2Cjournal%2CopenAccessPdf%2CpaperId%2CpublicationDate%2CpublicationTypes%2CpublicationVenue%2CreferenceCount%2Cs2FieldsOfStudy%2Ctitle%2Curl%2Cvenue%2Cyear&offset=0&limit=100 \"HTTP/1.1 200 OK\"\n",
      "2025-04-17 21:43:54,891 - INFO - _sync_search_paper_by_keywords: API call successful for query 'From Hypothesis to Publication: A Comprehensive Su...', returning 3 items.\n",
      "2025-04-17 21:44:24,287 - INFO - HTTP Request: GET https://api.semanticscholar.org/graph/v1/paper/search?query=llm+literature+review&fields=abstract%2Cauthors%2CcitationCount%2CcitationStyles%2CcorpusId%2CexternalIds%2CfieldsOfStudy%2CinfluentialCitationCount%2CisOpenAccess%2Cjournal%2CopenAccessPdf%2CpaperId%2CpublicationDate%2CpublicationTypes%2CpublicationVenue%2CreferenceCount%2Cs2FieldsOfStudy%2Ctitle%2Curl%2Cvenue%2Cyear&offset=0&limit=100 \"HTTP/1.1 429 \"\n",
      "2025-04-17 21:44:54,591 - INFO - HTTP Request: GET https://api.semanticscholar.org/graph/v1/paper/search?query=llm+literature+review&fields=abstract%2Cauthors%2CcitationCount%2CcitationStyles%2CcorpusId%2CexternalIds%2CfieldsOfStudy%2CinfluentialCitationCount%2CisOpenAccess%2Cjournal%2CopenAccessPdf%2CpaperId%2CpublicationDate%2CpublicationTypes%2CpublicationVenue%2CreferenceCount%2Cs2FieldsOfStudy%2Ctitle%2Curl%2Cvenue%2Cyear&offset=0&limit=100 \"HTTP/1.1 429 \"\n",
      "2025-04-17 21:45:26,307 - INFO - HTTP Request: GET https://api.semanticscholar.org/graph/v1/paper/search?query=llm+literature+review&fields=abstract%2Cauthors%2CcitationCount%2CcitationStyles%2CcorpusId%2CexternalIds%2CfieldsOfStudy%2CinfluentialCitationCount%2CisOpenAccess%2Cjournal%2CopenAccessPdf%2CpaperId%2CpublicationDate%2CpublicationTypes%2CpublicationVenue%2CreferenceCount%2Cs2FieldsOfStudy%2Ctitle%2Curl%2Cvenue%2Cyear&offset=0&limit=100 \"HTTP/1.1 200 OK\"\n",
      "2025-04-17 21:45:38,827 - INFO - HTTP Request: GET https://api.semanticscholar.org/graph/v1/paper/search?query=llm+literature+review&fields=abstract%2Cauthors%2CcitationCount%2CcitationStyles%2CcorpusId%2CexternalIds%2CfieldsOfStudy%2CinfluentialCitationCount%2CisOpenAccess%2Cjournal%2CopenAccessPdf%2CpaperId%2CpublicationDate%2CpublicationTypes%2CpublicationVenue%2CreferenceCount%2Cs2FieldsOfStudy%2Ctitle%2Curl%2Cvenue%2Cyear&offset=100&limit=100 \"HTTP/1.1 200 OK\"\n",
      "2025-04-17 21:45:39,211 - INFO - _sync_search_paper_by_keywords: API call successful for query 'llm literature review...', returning 100 items.\n",
      "2025-04-17 21:45:42,231 - INFO - Graph state after initial search tasks. Nodes: 661, Edges: 570\n"
     ]
    }
   ],
   "source": [
    "# --- INITIAL QUERY on SEED ---\n",
    "# initial query for seed papers basic information\n",
    "print(\"--- Running Initial Query for Seed Papers Information ---\")\n",
    "await ps.init_search(\n",
    "    ps.research_topic,\n",
    "    ps.seed_paper_titles,\n",
    "    ps.seed_paper_dois,\n",
    "    ps.search_limit,\n",
    "    ps.from_dt,\n",
    "    ps.to_dt\n",
    ")"
   ]
  },
  {
   "cell_type": "markdown",
   "id": "76440c6d",
   "metadata": {},
   "source": [
    "### Basic Stats"
   ]
  },
  {
   "cell_type": "code",
   "execution_count": 11,
   "id": "537aecd5",
   "metadata": {},
   "outputs": [
    {
     "name": "stdout",
     "output_type": "stream",
     "text": [
      "4 27\n"
     ]
    }
   ],
   "source": [
    "# get seed DOIs\n",
    "seed_paper_dois = [node['id'] for node in ps.nodes_json if node['labels'] == ['Paper'] and node['properties'].get('from_seed')==True]\n",
    "seed_author_ids = []\n",
    "for node in ps.nodes_json:\n",
    "    if node['labels'] == ['Paper'] and node['properties'].get('from_seed')==True and isinstance(node['properties'].get('authors'), list):\n",
    "        authors_id = [x['authorId'] for x in node['properties']['authors'] if x['authorId'] is not None] \n",
    "        seed_author_ids.extend(authors_id)\n",
    "seed_paper_json = [node for node in ps.nodes_json if node['labels'] == ['Paper'] and node['properties'].get('from_seed')==True]\n",
    "ps.explored_nodes['seed'].extend(seed_paper_dois) \n",
    "\n",
    "print(len(seed_paper_dois), len(seed_author_ids))"
   ]
  },
  {
   "cell_type": "code",
   "execution_count": 14,
   "id": "66e3016c",
   "metadata": {},
   "outputs": [
    {
     "name": "stdout",
     "output_type": "stream",
     "text": [
      "Graph has 661 nodes and 570 edges.\n",
      "There are 4 node types in this graph, they are:\n",
      "[('Author', 455), ('Paper', 102), ('Journal', 56), ('Venue', 48)]\n",
      "There are 3 edge types in this graph, they are:\n",
      "[('WRITES', 459), ('PRINTS_ON', 59), ('RELEASES_IN', 52)]\n"
     ]
    }
   ],
   "source": [
    "# basic stats\n",
    "G = copy.deepcopy(ps.pg)\n",
    "graph_stat = get_graph_stats(G)"
   ]
  },
  {
   "cell_type": "markdown",
   "id": "820e5972",
   "metadata": {},
   "source": [
    "### Similarity"
   ]
  },
  {
   "cell_type": "code",
   "execution_count": 16,
   "id": "5cc0e93b",
   "metadata": {},
   "outputs": [
    {
     "name": "stderr",
     "output_type": "stream",
     "text": [
      "2025-04-17 21:49:43,966 - INFO - Generating embeddings for 94 papers...\n",
      "2025-04-17 21:50:02,698 - INFO - Shape of embeds_1: (94, 768)\n",
      "2025-04-17 21:50:02,699 - INFO - Shape of embeds_2: (94, 768)\n",
      "2025-04-17 21:50:02,699 - INFO - Calculating similarity matrix...\n",
      "2025-04-17 21:50:02,713 - INFO - Processing similarity matrix to create relationships...\n"
     ]
    }
   ],
   "source": [
    "# --- INTERMEDIATE: CALCULATE SIMILARITY ---\n",
    "# get all paper infos\n",
    "paper_nodes_json = [node for node in ps.nodes_json \n",
    "                    if node['labels'] == ['Paper'] and \n",
    "                    node['properties'].get('title') is not None and node['properties'].get('abstract') is not None]\n",
    "paper_dois = [node['id'] for node in paper_nodes_json]\n",
    "\n",
    "# calculate paper nodes similarity\n",
    "semantic_similar_pool = await ps.cal_embed_and_similarity(\n",
    "    paper_nodes_json=paper_nodes_json,\n",
    "    paper_dois_1=paper_dois, \n",
    "    paper_dois_2=paper_dois,\n",
    "    similarity_threshold=similarity_threshold,\n",
    "    )"
   ]
  },
  {
   "cell_type": "code",
   "execution_count": null,
   "id": "0cc0e57d",
   "metadata": {},
   "outputs": [],
   "source": [
    "edges_json = semantic_similar_pool\n",
    "if type(edges_json) == dict:\n",
    "    edges_json = [edges_json]\n",
    "\n",
    "nx_edges_info = []\n",
    "for item in edges_json:\n",
    "    source_id = item['startNodeId']\n",
    "    target_id = item['endNodeId']\n",
    "    properties = item['properties']\n",
    "    properties['relationshipType'] = item['relationshipType']\n",
    "    # be aware that relationship shall take the form like (4, 5, dict(route=282)) for networkX\n",
    "    nx_edges_info.append((source_id, target_id, properties))  \n",
    "\n",
    "G.add_edges_from(nx_edges_info)"
   ]
  },
  {
   "cell_type": "markdown",
   "id": "cd1a1730",
   "metadata": {},
   "source": [
    "### Filtering & Ranking"
   ]
  },
  {
   "cell_type": "markdown",
   "id": "96bf8abd",
   "metadata": {},
   "source": [
    "Basic Stats"
   ]
  },
  {
   "cell_type": "code",
   "execution_count": null,
   "id": "79b553b5",
   "metadata": {},
   "outputs": [],
   "source": [
    "# basic stats\n",
    "graph_stat = get_graph_stats(G)"
   ]
  },
  {
   "cell_type": "markdown",
   "id": "852d2314",
   "metadata": {},
   "source": [
    "Paper Stats"
   ]
  },
  {
   "cell_type": "code",
   "execution_count": null,
   "id": "8c4febe8",
   "metadata": {},
   "outputs": [],
   "source": [
    "# for now the paper does not have citation chain\n",
    "paper_stats_similar = get_paper_stats(G, seed_paper_dois, order_by='similarity')"
   ]
  },
  {
   "cell_type": "code",
   "execution_count": null,
   "id": "d7be1483",
   "metadata": {},
   "outputs": [],
   "source": [
    "filtered_papers_stats = [x for x in paper_stats_similar if x['if_seed'] == False][0:top_k_similar_papers]\n",
    "filtered_papers_dois = [x['doi'] for x in filtered_papers_stats]\n",
    "for item in filtered_papers_stats:\n",
    "    print(item)"
   ]
  },
  {
   "cell_type": "code",
   "execution_count": null,
   "id": "22516e00",
   "metadata": {},
   "outputs": [],
   "source": [
    "similar_papers['from_init_search'] = filtered_papers_stats"
   ]
  },
  {
   "cell_type": "markdown",
   "id": "85c2c927",
   "metadata": {},
   "source": [
    "Author Stats"
   ]
  },
  {
   "cell_type": "code",
   "execution_count": null,
   "id": "774b5bf9",
   "metadata": {},
   "outputs": [],
   "source": [
    "author_stats = get_author_stats(G, seed_author_ids)"
   ]
  },
  {
   "cell_type": "code",
   "execution_count": null,
   "id": "e08a4828",
   "metadata": {},
   "outputs": [],
   "source": [
    "sorted_author_writes = sorted(author_stats, key=lambda x:x['local_paper_cnt'], reverse=True)"
   ]
  },
  {
   "cell_type": "code",
   "execution_count": null,
   "id": "1c45ba6c",
   "metadata": {},
   "outputs": [],
   "source": [
    "filtered_authors = [x for x in sorted_author_writes if x['is_seed'] == False][0:top_l_key_authors]\n",
    "key_authors['init_search'] = filtered_authors\n",
    "for item in filtered_authors:\n",
    "    print(item)"
   ]
  },
  {
   "cell_type": "markdown",
   "id": "5a7a453b",
   "metadata": {},
   "source": [
    "### Graph Viz"
   ]
  },
  {
   "cell_type": "code",
   "execution_count": null,
   "id": "9235a857",
   "metadata": {},
   "outputs": [],
   "source": [
    "# from graph.graph_viz import GraphViz\n",
    "viz = GraphViz(G, 'Paper Graph After Init Search')\n",
    "viz.preprocessing()\n",
    "viz.visulization()"
   ]
  },
  {
   "cell_type": "code",
   "execution_count": null,
   "id": "5e0f3be5",
   "metadata": {},
   "outputs": [],
   "source": []
  }
 ],
 "metadata": {
  "kernelspec": {
   "display_name": "ai4fun",
   "language": "python",
   "name": "python3"
  },
  "language_info": {
   "codemirror_mode": {
    "name": "ipython",
    "version": 3
   },
   "file_extension": ".py",
   "mimetype": "text/x-python",
   "name": "python",
   "nbconvert_exporter": "python",
   "pygments_lexer": "ipython3",
   "version": "3.10.13"
  }
 },
 "nbformat": 4,
 "nbformat_minor": 5
}
