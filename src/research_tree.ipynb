{
 "cells": [
  {
   "cell_type": "code",
   "execution_count": 1,
   "metadata": {},
   "outputs": [
    {
     "name": "stdout",
     "output_type": "stream",
     "text": [
      "/home/jiezi/Code/GitHub/ResearchRetrospect/wip\n"
     ]
    }
   ],
   "source": [
    "import os\n",
    "import sys\n",
    "parent_dir = os.path.dirname(os.getcwd())\n",
    "print(parent_dir)\n",
    "sys.path.append(parent_dir)"
   ]
  },
  {
   "cell_type": "code",
   "execution_count": 2,
   "metadata": {},
   "outputs": [],
   "source": [
    "title = \"HippoRAG: Neurobiologically Inspired Long-Term Memory for Large Language Models\""
   ]
  },
  {
   "cell_type": "markdown",
   "metadata": {},
   "source": [
    "# Research Tree"
   ]
  },
  {
   "cell_type": "markdown",
   "metadata": {},
   "source": [
    "Generate most important and relevant researches and formalize research tree."
   ]
  },
  {
   "cell_type": "markdown",
   "metadata": {},
   "source": [
    "## Start Point"
   ]
  },
  {
   "cell_type": "markdown",
   "metadata": {},
   "source": [
    "Take a recent HippoRAG paper for example. \n",
    "- It rooted in RAG;\n",
    "- Some of the key researchs like GraphRAG should be included;\n",
    "- Better to have related works in llm memory and llm reasoning."
   ]
  },
  {
   "cell_type": "markdown",
   "metadata": {},
   "source": [
    "### Original Title Search"
   ]
  },
  {
   "cell_type": "code",
   "execution_count": 4,
   "metadata": {},
   "outputs": [
    {
     "name": "stderr",
     "output_type": "stream",
     "text": [
      "2025-03-10 09:54:04,581 - INFO - HTTP Request: GET https://api.semanticscholar.org/graph/v1/paper/search?query=HippoRAG%3A+Neurobiologically+Inspired+Long-Term+Memory+for+Large+Language+Models&fields=abstract%2Cauthors%2CcitationCount%2CcitationStyles%2CcorpusId%2CexternalIds%2CfieldsOfStudy%2CinfluentialCitationCount%2CisOpenAccess%2Cjournal%2CopenAccessPdf%2CpaperId%2CpublicationDate%2CpublicationTypes%2CpublicationVenue%2CreferenceCount%2Cs2FieldsOfStudy%2Ctitle%2Curl%2Cvenue%2Cyear&offset=0&limit=100 \"HTTP/1.1 200 OK\"\n"
     ]
    },
    {
     "name": "stdout",
     "output_type": "stream",
     "text": [
      "4308208fac24626e0c927ee728038aadc4e87266\n"
     ]
    },
    {
     "name": "stderr",
     "output_type": "stream",
     "text": [
      "2025-03-10 09:54:06,047 - INFO - HTTP Request: GET https://api.semanticscholar.org/graph/v1/paper/4308208fac24626e0c927ee728038aadc4e87266/references?fields=contexts%2Cintents%2CcontextsWithIntent%2CisInfluential%2Cabstract%2Cauthors%2CcitationCount%2CcitationStyles%2CcorpusId%2CexternalIds%2CfieldsOfStudy%2CinfluentialCitationCount%2CisOpenAccess%2Cjournal%2CopenAccessPdf%2CpaperId%2CpublicationDate%2CpublicationTypes%2CpublicationVenue%2CreferenceCount%2Cs2FieldsOfStudy%2Ctitle%2Curl%2Cvenue%2Cyear&offset=0&limit=100 \"HTTP/1.1 429 \"\n",
      "2025-03-10 09:54:38,789 - INFO - HTTP Request: GET https://api.semanticscholar.org/graph/v1/paper/4308208fac24626e0c927ee728038aadc4e87266/references?fields=contexts%2Cintents%2CcontextsWithIntent%2CisInfluential%2Cabstract%2Cauthors%2CcitationCount%2CcitationStyles%2CcorpusId%2CexternalIds%2CfieldsOfStudy%2CinfluentialCitationCount%2CisOpenAccess%2Cjournal%2CopenAccessPdf%2CpaperId%2CpublicationDate%2CpublicationTypes%2CpublicationVenue%2CreferenceCount%2Cs2FieldsOfStudy%2Ctitle%2Curl%2Cvenue%2Cyear&offset=0&limit=100 \"HTTP/1.1 200 OK\"\n"
     ]
    },
    {
     "name": "stdout",
     "output_type": "stream",
     "text": [
      "76\n"
     ]
    },
    {
     "name": "stderr",
     "output_type": "stream",
     "text": [
      "2025-03-10 09:54:43,193 - INFO - HTTP Request: GET https://api.semanticscholar.org/graph/v1/paper/4308208fac24626e0c927ee728038aadc4e87266/citations?fields=contexts%2Cintents%2CcontextsWithIntent%2CisInfluential%2Cabstract%2Cauthors%2CcitationCount%2CcitationStyles%2CcorpusId%2CexternalIds%2CfieldsOfStudy%2CinfluentialCitationCount%2CisOpenAccess%2Cjournal%2CopenAccessPdf%2CpaperId%2CpublicationDate%2CpublicationTypes%2CpublicationVenue%2CreferenceCount%2Cs2FieldsOfStudy%2Ctitle%2Curl%2Cvenue%2Cyear&offset=0&limit=100 \"HTTP/1.1 200 OK\"\n"
     ]
    },
    {
     "name": "stdout",
     "output_type": "stream",
     "text": [
      "17\n"
     ]
    },
    {
     "name": "stderr",
     "output_type": "stream",
     "text": [
      "2025-03-10 09:54:49,028 - INFO - HTTP Request: POST https://api.semanticscholar.org/recommendations/v1/papers/?fields=abstract%2Cauthors%2CcitationCount%2CcitationStyles%2CcorpusId%2CexternalIds%2CfieldsOfStudy%2CinfluentialCitationCount%2CisOpenAccess%2Cjournal%2CopenAccessPdf%2CpaperId%2CpublicationDate%2CpublicationTypes%2CpublicationVenue%2CreferenceCount%2Cs2FieldsOfStudy%2Ctitle%2Curl%2Cvenue%2Cyear&limit=100 \"HTTP/1.1 200 OK\"\n"
     ]
    },
    {
     "name": "stdout",
     "output_type": "stream",
     "text": [
      "100\n"
     ]
    }
   ],
   "source": [
    "from apis.semanticscholar_tool import SemanticScholarKit\n",
    "\n",
    "s2 = SemanticScholarKit()\n",
    "s2_metadata = s2.search_paper_by_keywords(query=title, limit=100)\n",
    "\n",
    "paper_s2_id = s2_metadata[0].get('paperId')\n",
    "print(paper_s2_id)\n",
    "\n",
    "citing_metadata = s2.get_semanticscholar_references(paper_id=paper_s2_id, limit=100)\n",
    "print(len(citing_metadata))\n",
    "\n",
    "citedby_metadata = s2.get_semanticscholar_citedby(paper_id=paper_s2_id, limit=100)\n",
    "print(len(citedby_metadata))\n",
    "\n",
    "paper_recommended_info = s2.find_recommendations(positive_paper_ids=[paper_s2_id])\n",
    "print(len(paper_recommended_info))"
   ]
  },
  {
   "cell_type": "code",
   "execution_count": 47,
   "metadata": {},
   "outputs": [
    {
     "data": {
      "text/plain": [
       "dict_keys(['paperId', 'externalIds', 'corpusId', 'publicationVenue', 'url', 'title', 'abstract', 'venue', 'year', 'referenceCount', 'citationCount', 'influentialCitationCount', 'isOpenAccess', 'openAccessPdf', 'fieldsOfStudy', 's2FieldsOfStudy', 'publicationTypes', 'publicationDate', 'journal', 'citationStyles', 'authors', 'relationship', 'description', 'query', 'source'])"
      ]
     },
     "execution_count": 47,
     "metadata": {},
     "output_type": "execute_result"
    }
   ],
   "source": [
    "s2_metadata[0].keys()"
   ]
  },
  {
   "cell_type": "code",
   "execution_count": 48,
   "metadata": {},
   "outputs": [
    {
     "data": {
      "text/plain": [
       "2024"
      ]
     },
     "execution_count": 48,
     "metadata": {},
     "output_type": "execute_result"
    }
   ],
   "source": [
    "s2_metadata[0]['year']"
   ]
  },
  {
   "cell_type": "code",
   "execution_count": 49,
   "metadata": {},
   "outputs": [
    {
     "data": {
      "text/plain": [
       "'2024-05-23'"
      ]
     },
     "execution_count": 49,
     "metadata": {},
     "output_type": "execute_result"
    }
   ],
   "source": [
    "s2_metadata[0]['publicationDate']"
   ]
  },
  {
   "cell_type": "code",
   "execution_count": 51,
   "metadata": {},
   "outputs": [
    {
     "name": "stdout",
     "output_type": "stream",
     "text": [
      "2021-05-23 2027-05-23\n"
     ]
    }
   ],
   "source": [
    "from datetime import datetime, timedelta\n",
    "from dateutil.relativedelta import relativedelta\n",
    "\n",
    "month_range = 36  # months to track for papers\n",
    "\n",
    "publish_dt = datetime.strptime(s2_metadata[0]['publicationDate'], \"%Y-%m-%d\")\n",
    "from_dt = (publish_dt - relativedelta(months=month_range)).strftime('%Y-%m-%d') \n",
    "to_dt = (publish_dt + relativedelta(months=month_range)).strftime('%Y-%m-%d') \n",
    "print(from_dt, to_dt)"
   ]
  },
  {
   "cell_type": "code",
   "execution_count": null,
   "metadata": {},
   "outputs": [],
   "source": [
    "# store and process all potential papers\n",
    "doi_id_pool = set()\n",
    "extended_paper_info = []"
   ]
  },
  {
   "cell_type": "code",
   "execution_count": null,
   "metadata": {},
   "outputs": [],
   "source": [
    "# for papers from initial search \n",
    "for item in s2_metadata:\n",
    "    # set up paper doi\n",
    "    paper_id = item.get('paperId')\n",
    "    if paper_id is not None:\n",
    "        doi = item.get('externalIds',{}).get('DOI')\n",
    "        arxiv_id = item.get('externalIds',{}).get('ArXiv')\n",
    "        publish_dt = item.get('publicationDate', '2000-01-01')\n",
    "        if doi is None:\n",
    "            if arxiv_id is not None:\n",
    "                doi = f\"10.48550/arXiv.{arxiv_id}\"  # assign 10.48550/arXiv. for arxiv id https://info.arxiv.org/help/doi.html\n",
    "            else:\n",
    "                doi = paper_id\n",
    "\n",
    "        if doi not in doi_id_pool and (publish_dt > from_dt and publish_dt < to_dt):\n",
    "            item['relationship'] = \"title search\"\n",
    "            item['description'] = \"initial search in semantic scholar by paper title\"\n",
    "            item['query'] = title\n",
    "            item['source'] = \"semantic_scholar\"\n",
    "            extended_paper_info.append(item)\n",
    "            doi_id_pool.add(doi)"
   ]
  },
  {
   "cell_type": "code",
   "execution_count": null,
   "metadata": {},
   "outputs": [
    {
     "name": "stdout",
     "output_type": "stream",
     "text": [
      "1 1\n"
     ]
    }
   ],
   "source": [
    "print(len(extended_paper_info), len(doi_id_pool))"
   ]
  },
  {
   "cell_type": "code",
   "execution_count": null,
   "metadata": {},
   "outputs": [],
   "source": [
    "# for citing papers\n",
    "for item in citing_metadata:\n",
    "    item = item.get('citedPaper', {})\n",
    "    # set up paper doi\n",
    "    paper_id = item.get('paperId')\n",
    "    if paper_id is not None:\n",
    "        doi = item.get('externalIds',{}).get('DOI')\n",
    "        arxiv_id = item.get('externalIds',{}).get('ArXiv')\n",
    "        publish_dt = item.get('publicationDate', '2000-01-01')\n",
    "        if doi is None:\n",
    "            if arxiv_id is not None:\n",
    "                doi = f\"10.48550/arXiv.{arxiv_id}\"  # assign 10.48550/arXiv. for arxiv id https://info.arxiv.org/help/doi.html\n",
    "            else:\n",
    "                doi = paper_id\n",
    "\n",
    "        if doi not in doi_id_pool and (publish_dt > from_dt and publish_dt < to_dt):\n",
    "            item['relationship'] = \"citing\"\n",
    "            item['description'] = \"original paper citing this paper\"\n",
    "            item['query'] = title\n",
    "            item['source'] = \"semantic_scholar\"\n",
    "            extended_paper_info.append(item)\n",
    "            doi_id_pool.add(doi)"
   ]
  },
  {
   "cell_type": "code",
   "execution_count": 31,
   "metadata": {},
   "outputs": [
    {
     "name": "stdout",
     "output_type": "stream",
     "text": [
      "74 74\n"
     ]
    }
   ],
   "source": [
    "print(len(extended_paper_info), len(doi_id_pool))"
   ]
  },
  {
   "cell_type": "code",
   "execution_count": null,
   "metadata": {},
   "outputs": [],
   "source": [
    "# for cited by papoers\n",
    "for item in citedby_metadata:\n",
    "    item = item.get('citingPaper', {})\n",
    "    # set up paper doi\n",
    "    paper_id = item.get('paperId')\n",
    "    if paper_id is not None:\n",
    "        doi = item.get('externalIds',{}).get('DOI')\n",
    "        arxiv_id = item.get('externalIds',{}).get('ArXiv')\n",
    "        publish_dt = item.get('publicationDate', '2000-01-01')\n",
    "        if doi is None:\n",
    "            if arxiv_id is not None:\n",
    "                doi = f\"10.48550/arXiv.{arxiv_id}\"  # assign 10.48550/arXiv. for arxiv id https://info.arxiv.org/help/doi.html\n",
    "            else:\n",
    "                doi = paper_id\n",
    "\n",
    "        if doi not in doi_id_pool and (publish_dt > from_dt and publish_dt < to_dt):\n",
    "            item['relationship'] = \"citedby\"\n",
    "            item['description'] = \"original paper cited by this paper\"\n",
    "            item['query'] = title\n",
    "            item['source'] = \"semantic_scholar\"\n",
    "            extended_paper_info.append(item)\n",
    "            doi_id_pool.add(doi)"
   ]
  },
  {
   "cell_type": "code",
   "execution_count": 33,
   "metadata": {},
   "outputs": [
    {
     "name": "stdout",
     "output_type": "stream",
     "text": [
      "91 91\n"
     ]
    }
   ],
   "source": [
    "print(len(extended_paper_info), len(doi_id_pool))"
   ]
  },
  {
   "cell_type": "code",
   "execution_count": null,
   "metadata": {},
   "outputs": [],
   "source": [
    "# for recommended papers\n",
    "for item in paper_recommended_info:\n",
    "    # set up paper doi\n",
    "    paper_id = item.get('paperId')\n",
    "    if paper_id is not None:\n",
    "        doi = item.get('externalIds',{}).get('DOI')\n",
    "        arxiv_id = item.get('externalIds',{}).get('ArXiv')\n",
    "        publish_dt = item.get('publicationDate', '2000-01-01')\n",
    "        if doi is None:\n",
    "            if arxiv_id is not None:\n",
    "                doi = f\"10.48550/arXiv.{arxiv_id}\"  # assign 10.48550/arXiv. for arxiv id https://info.arxiv.org/help/doi.html\n",
    "            else:\n",
    "                doi = paper_id\n",
    "\n",
    "        if doi not in doi_id_pool and (publish_dt > from_dt and publish_dt < to_dt):\n",
    "            item['relationship'] = \"title search\"\n",
    "            item['description'] = \"initial search in semantic scholar by paper title\"\n",
    "            item['query'] = title\n",
    "            item['source'] = \"semantic_scholar\"\n",
    "            extended_paper_info.append(item)\n",
    "            doi_id_pool.add(doi)"
   ]
  },
  {
   "cell_type": "markdown",
   "metadata": {},
   "source": [
    "### Expand to Other Papers by Same Author"
   ]
  },
  {
   "cell_type": "code",
   "execution_count": 18,
   "metadata": {},
   "outputs": [],
   "source": [
    "authors = s2_metadata[0].get('authors')"
   ]
  },
  {
   "cell_type": "code",
   "execution_count": 19,
   "metadata": {},
   "outputs": [],
   "source": [
    "author_ids = [x.get('authorId') for x in authors if x.get('authorId') is not None]"
   ]
  },
  {
   "cell_type": "code",
   "execution_count": 11,
   "metadata": {},
   "outputs": [
    {
     "name": "stderr",
     "output_type": "stream",
     "text": [
      "2025-03-10 09:55:52,619 - INFO - HTTP Request: POST https://api.semanticscholar.org/graph/v1/author/batch?fields=affiliations%2CauthorId%2CcitationCount%2CexternalIds%2ChIndex%2Chomepage%2Cname%2CpaperCount%2Cpapers%2Cpapers.abstract%2Cpapers.authors%2Cpapers.citationCount%2Cpapers.corpusId%2Cpapers.externalIds%2Cpapers.fieldsOfStudy%2Cpapers.influentialCitationCount%2Cpapers.isOpenAccess%2Cpapers.journal%2Cpapers.openAccessPdf%2Cpapers.paperId%2Cpapers.publicationDate%2Cpapers.publicationTypes%2Cpapers.publicationVenue%2Cpapers.referenceCount%2Cpapers.s2FieldsOfStudy%2Cpapers.title%2Cpapers.url%2Cpapers.venue%2Cpapers.year%2Curl \"HTTP/1.1 200 OK\"\n"
     ]
    }
   ],
   "source": [
    "from semanticscholar import SemanticScholar\n",
    "sch = SemanticScholar()\n",
    "authors_metadata = sch.get_authors(author_ids)"
   ]
  },
  {
   "cell_type": "code",
   "execution_count": 24,
   "metadata": {},
   "outputs": [
    {
     "name": "stdout",
     "output_type": "stream",
     "text": [
      "5 5\n"
     ]
    }
   ],
   "source": [
    "print(len(authors_metadata), len(author_ids))"
   ]
  },
  {
   "cell_type": "code",
   "execution_count": 55,
   "metadata": {},
   "outputs": [],
   "source": [
    "for idx, author in enumerate(authors_metadata):\n",
    "    if idx < 5:\n",
    "        author_id = author.authorId\n",
    "        papers = author.papers \n",
    "        if papers is not None and papers != []:\n",
    "            for item in papers:\n",
    "                item = item.__dict__['_data']\n",
    "                # set up paper doi\n",
    "                paper_id = item.get('paperId')\n",
    "                if paper_id is not None:\n",
    "                    doi = item.get('externalIds',{}).get('DOI')\n",
    "                    arxiv_id = item.get('externalIds',{}).get('ArXiv')\n",
    "                    publish_dt = item['publicationDate']\n",
    "                    if publish_dt is None:\n",
    "                        publish_dt = f\"{item['year']}-01-01\" if item['year'] is not None else '2000-01-01'\n",
    "\n",
    "                    if doi is None:\n",
    "                        if arxiv_id is not None:\n",
    "                            doi = f\"10.48550/arXiv.{arxiv_id}\"  # assign 10.48550/arXiv. for arxiv id https://info.arxiv.org/help/doi.html\n",
    "                        else:\n",
    "                            doi = paper_id\n",
    "\n",
    "                    if doi not in doi_id_pool and (publish_dt > from_dt and publish_dt < to_dt):\n",
    "                        item['relationship'] = \"author search\"\n",
    "                        item['description'] = \"other papers from same author\"\n",
    "                        item['query'] = author_id\n",
    "                        item['source'] = \"semantic_scholar\"\n",
    "                        extended_paper_info.append(item)\n",
    "                        doi_id_pool.add(doi)"
   ]
  },
  {
   "cell_type": "code",
   "execution_count": 56,
   "metadata": {},
   "outputs": [
    {
     "name": "stdout",
     "output_type": "stream",
     "text": [
      "214 214\n"
     ]
    }
   ],
   "source": [
    "print(len(extended_paper_info), len(doi_id_pool))"
   ]
  },
  {
   "cell_type": "markdown",
   "metadata": {},
   "source": [
    "## Keywords & Topics Expansion"
   ]
  },
  {
   "cell_type": "markdown",
   "metadata": {},
   "source": [
    "### Extract keywords and topics"
   ]
  },
  {
   "cell_type": "code",
   "execution_count": 57,
   "metadata": {},
   "outputs": [],
   "source": [
    "title = s2_metadata[0].get('title')\n",
    "abstract = s2_metadata[0].get('abstract')"
   ]
  },
  {
   "cell_type": "code",
   "execution_count": 58,
   "metadata": {},
   "outputs": [],
   "source": [
    "domains = \", \".join(s2_metadata[0].get('fieldsOfStudy'))"
   ]
  },
  {
   "cell_type": "code",
   "execution_count": 74,
   "metadata": {},
   "outputs": [],
   "source": [
    "keywords_topics_example = {\n",
    "    \"field_of_study\": [\"Political Science\", \"Social Media Studies\", \"Communication Studies\", \"Sociology, Digital Culture\"],\n",
    "    \"keywords_and_topics\": [\"social media usage\", \"political polarization\", \"mixed-methods approach\", \"semi-structured interviews\"],\n",
    "    \"tags\": [\"online behavior\", \"echo chambers\", \"survey methodology\", \"young adults\", \"political communication\", \"digital ethnography\", \"ideology\"],\n",
    "    \"queries\": [\"youth political polarization\", \"youth social media usage\", \"'online behavior' AND 'ideology'\"]\n",
    "}\n",
    "\n",
    "keywords_topics_prompt = \"\"\"You are a sophisticated academic scholar with expertise in {domain}. \n",
    "You are renowned for your ability to quickly grasp the core concepts of research papers and expertly categorize and tag information for optimal organization and retrieval.\n",
    "\n",
    "## TASK\n",
    "When presented with title and abstraction of a research paper, you will meticulously analyze its content and provide the following:\n",
    "- field_of_study: Propose 2-4 detailed academic fields that this research would logically fall under. Consider the interdisciplinary nature of the paragraph as well.\n",
    "- keywords_and_topics: Identify 3-5 key terms, phrases or topics that accurately capture the specific subject matter and central ideas discussed within the paragraph. These keywords should be highly relevant and representative within the specific research area.\n",
    "- tags: Suggest 3-5 concise tags that could be used to further refine the indexing and searchability of the paragraph. These tags might include specific methodologies, theories, named entities, or emerging concepts mentioned within the text. They should be specific enough to differentiate the content from the broader categories.\n",
    "- queries: based on the above information, compose 2-4 queries to search from Google Scholar for more research work (not restrict to this paper) on related topics.\n",
    "\n",
    "Make sure you output in json with double quotes.\n",
    "\n",
    "## EXAMPLE\n",
    "Here is an example for demonstraction purpose only. Do not use this specific example in your response, it is solely illustrative.\n",
    "\n",
    "Input Paragraph:  \n",
    "<title>  Social media usage heighten political polarization in youth - A quantitative study</title>\n",
    "<abstract>\n",
    "\"This study employed a mixed-methods approach to investigate the impact of social media usage on political polarization among young adults in urban areas. \n",
    "Quantitative data was collected through a survey of 500 participants, while qualitative data was gathered via semi-structured interviews with a subset of 25 participants. \n",
    "The findings suggest a correlation between increased exposure to ideologically homogeneous content online and heightened political polarization.\"\n",
    "</abstract>\n",
    "\n",
    "Hypothetical Output from this Example (Again, illustrative and not to be used in the actual response):\n",
    "```json\n",
    "{example_json}\n",
    "```\n",
    "\n",
    "## INSTRUCTIONS\n",
    "1. Be precise with keywords and topics, avoid overly broad or generic terms.\n",
    "2. Prioritize terms that are most representative and distinctive for the paper.\n",
    "\n",
    "## INPUT\n",
    "Now start analyzing the following paper.\n",
    "<title> {title} </title>\n",
    "<abstract>\n",
    "{abstract}\n",
    "</abstract>\n",
    "\n",
    "## OUTPUT\n",
    "\n",
    "\"\"\""
   ]
  },
  {
   "cell_type": "code",
   "execution_count": 75,
   "metadata": {},
   "outputs": [],
   "source": [
    "from models.llms import llm_gen_w_retry\n",
    "\n",
    "temperature = 0.1\n",
    "gemini_api_key = os.getenv('GEMINI_API_KEY_1')\n",
    "gemini_model_name = \"gemini-2.0-flash\"\n",
    "qa_prompt = keywords_topics_prompt.format(\n",
    "    domain = domains,\n",
    "    example_json = keywords_topics_example,\n",
    "    title = title,\n",
    "    abstract = abstract\n",
    ")"
   ]
  },
  {
   "cell_type": "code",
   "execution_count": 76,
   "metadata": {},
   "outputs": [
    {
     "name": "stderr",
     "output_type": "stream",
     "text": [
      "2025-03-10 10:57:24,931 - INFO - AFC is enabled with max remote calls: 10.\n",
      "2025-03-10 10:57:27,195 - INFO - AFC remote call 1 is done.\n"
     ]
    }
   ],
   "source": [
    "keywords_topics_info = llm_gen_w_retry(gemini_api_key, gemini_model_name, qa_prompt, sys_prompt=None, temperature=0.6)"
   ]
  },
  {
   "cell_type": "code",
   "execution_count": 77,
   "metadata": {},
   "outputs": [],
   "source": [
    "import json\n",
    "from json_repair import repair_json  # https://github.com/mangiucugna/json_repair/\n",
    "\n",
    "keywords_topics_json = json.loads(repair_json(keywords_topics_info))\n",
    "field_of_study = keywords_topics_json.get('field_of_study')\n",
    "keywords_and_topics = keywords_topics_json.get('keywords_and_topics')\n",
    "tags = keywords_topics_json.get('tags')\n",
    "queries = keywords_topics_json.get('queries')"
   ]
  },
  {
   "cell_type": "code",
   "execution_count": 78,
   "metadata": {},
   "outputs": [
    {
     "data": {
      "text/plain": [
       "(['Natural Language Processing',\n",
       "  'Artificial Intelligence',\n",
       "  'Cognitive Science',\n",
       "  'Machine Learning'],\n",
       " ['Large Language Models (LLMs)',\n",
       "  'Retrieval-Augmented Generation (RAG)',\n",
       "  'Long-Term Memory',\n",
       "  'Hippocampal Indexing Theory',\n",
       "  'Knowledge Integration',\n",
       "  'Personalized PageRank',\n",
       "  'HippoRAG'],\n",
       " ['Multi-hop Question Answering',\n",
       "  'Catastrophic Forgetting',\n",
       "  'Neurobiologically Inspired AI',\n",
       "  'Iterative Retrieval (IRCoT)',\n",
       "  'Knowledge Graphs',\n",
       "  'Neocortex',\n",
       "  'Hippocampus'],\n",
       " ['neurobiologically inspired memory models for LLMs',\n",
       "  'knowledge graph enhanced retrieval for LLMs',\n",
       "  'long-term memory in large language models',\n",
       "  'comparison of RAG methods for multi-hop question answering'])"
      ]
     },
     "execution_count": 78,
     "metadata": {},
     "output_type": "execute_result"
    }
   ],
   "source": [
    "field_of_study, keywords_and_topics, tags, queries"
   ]
  },
  {
   "cell_type": "markdown",
   "metadata": {},
   "source": [
    "### Search for paper information by keywords and topics"
   ]
  },
  {
   "cell_type": "code",
   "execution_count": 79,
   "metadata": {},
   "outputs": [
    {
     "name": "stderr",
     "output_type": "stream",
     "text": [
      "2025-03-10 10:57:53,046 - INFO - HTTP Request: GET https://api.semanticscholar.org/graph/v1/paper/search?query=neurobiologically+inspired+memory+models+for+LLMs&fields=abstract%2Cauthors%2CcitationCount%2CcitationStyles%2CcorpusId%2CexternalIds%2CfieldsOfStudy%2CinfluentialCitationCount%2CisOpenAccess%2Cjournal%2CopenAccessPdf%2CpaperId%2CpublicationDate%2CpublicationTypes%2CpublicationVenue%2CreferenceCount%2Cs2FieldsOfStudy%2Ctitle%2Curl%2Cvenue%2Cyear&offset=0&limit=100 \"HTTP/1.1 200 OK\"\n",
      "2025-03-10 10:58:05,126 - INFO - HTTP Request: GET https://api.semanticscholar.org/graph/v1/paper/search?query=knowledge+graph+enhanced+retrieval+for+LLMs&fields=abstract%2Cauthors%2CcitationCount%2CcitationStyles%2CcorpusId%2CexternalIds%2CfieldsOfStudy%2CinfluentialCitationCount%2CisOpenAccess%2Cjournal%2CopenAccessPdf%2CpaperId%2CpublicationDate%2CpublicationTypes%2CpublicationVenue%2CreferenceCount%2Cs2FieldsOfStudy%2Ctitle%2Curl%2Cvenue%2Cyear&offset=0&limit=100 \"HTTP/1.1 429 \"\n",
      "2025-03-10 10:58:36,479 - INFO - HTTP Request: GET https://api.semanticscholar.org/graph/v1/paper/search?query=knowledge+graph+enhanced+retrieval+for+LLMs&fields=abstract%2Cauthors%2CcitationCount%2CcitationStyles%2CcorpusId%2CexternalIds%2CfieldsOfStudy%2CinfluentialCitationCount%2CisOpenAccess%2Cjournal%2CopenAccessPdf%2CpaperId%2CpublicationDate%2CpublicationTypes%2CpublicationVenue%2CreferenceCount%2Cs2FieldsOfStudy%2Ctitle%2Curl%2Cvenue%2Cyear&offset=0&limit=100 \"HTTP/1.1 429 \"\n",
      "2025-03-10 10:59:07,452 - INFO - HTTP Request: GET https://api.semanticscholar.org/graph/v1/paper/search?query=knowledge+graph+enhanced+retrieval+for+LLMs&fields=abstract%2Cauthors%2CcitationCount%2CcitationStyles%2CcorpusId%2CexternalIds%2CfieldsOfStudy%2CinfluentialCitationCount%2CisOpenAccess%2Cjournal%2CopenAccessPdf%2CpaperId%2CpublicationDate%2CpublicationTypes%2CpublicationVenue%2CreferenceCount%2Cs2FieldsOfStudy%2Ctitle%2Curl%2Cvenue%2Cyear&offset=0&limit=100 \"HTTP/1.1 429 \"\n",
      "2025-03-10 10:59:39,442 - INFO - HTTP Request: GET https://api.semanticscholar.org/graph/v1/paper/search?query=knowledge+graph+enhanced+retrieval+for+LLMs&fields=abstract%2Cauthors%2CcitationCount%2CcitationStyles%2CcorpusId%2CexternalIds%2CfieldsOfStudy%2CinfluentialCitationCount%2CisOpenAccess%2Cjournal%2CopenAccessPdf%2CpaperId%2CpublicationDate%2CpublicationTypes%2CpublicationVenue%2CreferenceCount%2Cs2FieldsOfStudy%2Ctitle%2Curl%2Cvenue%2Cyear&offset=0&limit=100 \"HTTP/1.1 200 OK\"\n",
      "2025-03-10 10:59:51,314 - INFO - HTTP Request: GET https://api.semanticscholar.org/graph/v1/paper/search?query=long-term+memory+in+large+language+models&fields=abstract%2Cauthors%2CcitationCount%2CcitationStyles%2CcorpusId%2CexternalIds%2CfieldsOfStudy%2CinfluentialCitationCount%2CisOpenAccess%2Cjournal%2CopenAccessPdf%2CpaperId%2CpublicationDate%2CpublicationTypes%2CpublicationVenue%2CreferenceCount%2Cs2FieldsOfStudy%2Ctitle%2Curl%2Cvenue%2Cyear&offset=0&limit=100 \"HTTP/1.1 429 \"\n",
      "2025-03-10 11:00:23,915 - INFO - HTTP Request: GET https://api.semanticscholar.org/graph/v1/paper/search?query=long-term+memory+in+large+language+models&fields=abstract%2Cauthors%2CcitationCount%2CcitationStyles%2CcorpusId%2CexternalIds%2CfieldsOfStudy%2CinfluentialCitationCount%2CisOpenAccess%2Cjournal%2CopenAccessPdf%2CpaperId%2CpublicationDate%2CpublicationTypes%2CpublicationVenue%2CreferenceCount%2Cs2FieldsOfStudy%2Ctitle%2Curl%2Cvenue%2Cyear&offset=0&limit=100 \"HTTP/1.1 200 OK\"\n",
      "2025-03-10 11:00:35,826 - INFO - HTTP Request: GET https://api.semanticscholar.org/graph/v1/paper/search?query=comparison+of+RAG+methods+for+multi-hop+question+answering&fields=abstract%2Cauthors%2CcitationCount%2CcitationStyles%2CcorpusId%2CexternalIds%2CfieldsOfStudy%2CinfluentialCitationCount%2CisOpenAccess%2Cjournal%2CopenAccessPdf%2CpaperId%2CpublicationDate%2CpublicationTypes%2CpublicationVenue%2CreferenceCount%2Cs2FieldsOfStudy%2Ctitle%2Curl%2Cvenue%2Cyear&offset=0&limit=100 \"HTTP/1.1 429 \"\n",
      "2025-03-10 11:01:06,874 - INFO - HTTP Request: GET https://api.semanticscholar.org/graph/v1/paper/search?query=comparison+of+RAG+methods+for+multi-hop+question+answering&fields=abstract%2Cauthors%2CcitationCount%2CcitationStyles%2CcorpusId%2CexternalIds%2CfieldsOfStudy%2CinfluentialCitationCount%2CisOpenAccess%2Cjournal%2CopenAccessPdf%2CpaperId%2CpublicationDate%2CpublicationTypes%2CpublicationVenue%2CreferenceCount%2Cs2FieldsOfStudy%2Ctitle%2Curl%2Cvenue%2Cyear&offset=0&limit=100 \"HTTP/1.1 200 OK\"\n"
     ]
    }
   ],
   "source": [
    "import time\n",
    "related_papers_metadata = []\n",
    "for query in queries:\n",
    "    paper_meta = s2.search_paper_by_keywords(query=query, limit=100)\n",
    "    related_papers_metadata.append(paper_meta)\n",
    "    time.sleep(10)"
   ]
  },
  {
   "cell_type": "code",
   "execution_count": 80,
   "metadata": {},
   "outputs": [
    {
     "name": "stdout",
     "output_type": "stream",
     "text": [
      "4 4\n"
     ]
    }
   ],
   "source": [
    "print(len(related_papers_metadata), len(queries))"
   ]
  },
  {
   "cell_type": "code",
   "execution_count": 82,
   "metadata": {},
   "outputs": [],
   "source": [
    "for idx, papers in enumerate(related_papers_metadata):\n",
    "    # set up paper doi\n",
    "    query = queries[idx]\n",
    "    for item in papers:\n",
    "        paper_id = item.get('paperId')\n",
    "        doi = item.get('externalIds',{}).get('DOI')\n",
    "        arxiv_id = item.get('externalIds',{}).get('ArXiv')\n",
    "        publish_dt = item['publicationDate']\n",
    "        if publish_dt is None:\n",
    "            publish_dt = f\"{item['year']}-01-01\" if item['year'] is not None else '2000-01-01'\n",
    "            \n",
    "        if doi is None:\n",
    "            if arxiv_id is not None:\n",
    "                doi = f\"10.48550/arXiv.{arxiv_id}\"  # assign 10.48550/arXiv. for arxiv id https://info.arxiv.org/help/doi.html\n",
    "            else:\n",
    "                doi = paper_id\n",
    "\n",
    "        if doi not in doi_id_pool and (publish_dt > from_dt and publish_dt < to_dt):\n",
    "            item['relationship'] = \"related\"\n",
    "            item['description'] = \"this paper shares keywords / topic with orginal paper\"\n",
    "            item['query'] = query\n",
    "            item['source'] = \"semantic_scholar\"\n",
    "            extended_paper_info.append(item)\n",
    "            doi_id_pool.add(doi)   "
   ]
  },
  {
   "cell_type": "code",
   "execution_count": 83,
   "metadata": {},
   "outputs": [
    {
     "name": "stdout",
     "output_type": "stream",
     "text": [
      "488 488\n"
     ]
    }
   ],
   "source": [
    "print(len(extended_paper_info), len(doi_id_pool))"
   ]
  },
  {
   "cell_type": "markdown",
   "metadata": {},
   "source": [
    "### Expansion from Other Sources"
   ]
  },
  {
   "cell_type": "markdown",
   "metadata": {},
   "source": [
    "TODO: from sources like Github, huggingface, paper with code"
   ]
  },
  {
   "cell_type": "markdown",
   "metadata": {},
   "source": [
    "## Embedding & Filtering"
   ]
  },
  {
   "cell_type": "markdown",
   "metadata": {},
   "source": [
    "- First embedding based on title and abstract.\n",
    "- Then utilize semantic similarity to get rid of irrelevant papers."
   ]
  },
  {
   "cell_type": "code",
   "execution_count": 84,
   "metadata": {},
   "outputs": [
    {
     "name": "stdout",
     "output_type": "stream",
     "text": [
      "TITLE: HippoRAG: Neurobiologically Inspired Long-Term Memory for Large Language Models \n",
      "ABSTRACT: In order to thrive in hostile and ever-changing natural environments, mammalian brains evolved to store large amounts of knowledge about the world and continually integrate new information while avoiding catastrophic forgetting. Despite the impressive accomplishments, large language models (LLMs), even with retrieval-augmented generation (RAG), still struggle to efficiently and effectively integrate a large amount of new experiences after pre-training. In this work, we introduce HippoRAG, a novel retrieval framework inspired by the hippocampal indexing theory of human long-term memory to enable deeper and more efficient knowledge integration over new experiences. HippoRAG synergistically orchestrates LLMs, knowledge graphs, and the Personalized PageRank algorithm to mimic the different roles of neocortex and hippocampus in human memory. We compare HippoRAG with existing RAG methods on multi-hop question answering and show that our method outperforms the state-of-the-art methods remarkably, by up to 20%. Single-step retrieval with HippoRAG achieves comparable or better performance than iterative retrieval like IRCoT while being 10-30 times cheaper and 6-13 times faster, and integrating HippoRAG into IRCoT brings further substantial gains. Finally, we show that our method can tackle new types of scenarios that are out of reach of existing methods. Code and data are available at https://github.com/OSU-NLP-Group/HippoRAG.\n"
     ]
    }
   ],
   "source": [
    "from models.embedding_models import gemini_embedding_async\n",
    "\n",
    "gemini_api_key = os.getenv('GEMINI_API_KEY_1')\n",
    "gemini_embed_mdl_name = \"models/text-embedding-004\"\n",
    "\n",
    "target_info = f\"TITLE: {s2_metadata[0].get('title')} \\nABSTRACT: {s2_metadata[0].get('abstract')}\"\n",
    "print(target_info)"
   ]
  },
  {
   "cell_type": "code",
   "execution_count": 102,
   "metadata": {},
   "outputs": [],
   "source": [
    "texts = []\n",
    "candit_paper_info = []\n",
    "for item in extended_paper_info:\n",
    "    if item.get('title') is not None and item.get('abstract') is not None:\n",
    "        texts.append(f\"TITLE: {item.get('title')} \\nABSTRACT: {item.get('abstract')}\")\n",
    "        candit_paper_info.append(item)"
   ]
  },
  {
   "cell_type": "code",
   "execution_count": 92,
   "metadata": {},
   "outputs": [],
   "source": [
    "all_embeds = await gemini_embedding_async(gemini_api_key, gemini_embed_mdl_name, texts, 10)"
   ]
  },
  {
   "cell_type": "code",
   "execution_count": 93,
   "metadata": {},
   "outputs": [],
   "source": [
    "import numpy as np\n",
    "from models.embedding_models import semantic_similarity_matrix\n",
    "\n",
    "similarity_matrix = semantic_similarity_matrix(all_embeds[0], all_embeds[1:])\n",
    "similarity_matrix = np.array(similarity_matrix)"
   ]
  },
  {
   "cell_type": "code",
   "execution_count": 95,
   "metadata": {},
   "outputs": [],
   "source": [
    "sims = similarity_matrix[0].tolist()"
   ]
  },
  {
   "cell_type": "code",
   "execution_count": 96,
   "metadata": {},
   "outputs": [
    {
     "name": "stdout",
     "output_type": "stream",
     "text": [
      "473 472\n"
     ]
    }
   ],
   "source": [
    "print(len(texts), len(sims))"
   ]
  },
  {
   "cell_type": "code",
   "execution_count": 98,
   "metadata": {},
   "outputs": [
    {
     "name": "stderr",
     "output_type": "stream",
     "text": [
      "/home/jiezi/miniconda3/envs/ai4fun/lib/python3.10/site-packages/IPython/core/pylabtools.py:170: UserWarning: Glyph 39057 (\\N{CJK UNIFIED IDEOGRAPH-9891}) missing from font(s) DejaVu Sans.\n",
      "  fig.canvas.print_figure(bytes_io, **kw)\n",
      "/home/jiezi/miniconda3/envs/ai4fun/lib/python3.10/site-packages/IPython/core/pylabtools.py:170: UserWarning: Glyph 25968 (\\N{CJK UNIFIED IDEOGRAPH-6570}) missing from font(s) DejaVu Sans.\n",
      "  fig.canvas.print_figure(bytes_io, **kw)\n",
      "/home/jiezi/miniconda3/envs/ai4fun/lib/python3.10/site-packages/IPython/core/pylabtools.py:170: UserWarning: Glyph 25454 (\\N{CJK UNIFIED IDEOGRAPH-636E}) missing from font(s) DejaVu Sans.\n",
      "  fig.canvas.print_figure(bytes_io, **kw)\n",
      "/home/jiezi/miniconda3/envs/ai4fun/lib/python3.10/site-packages/IPython/core/pylabtools.py:170: UserWarning: Glyph 20998 (\\N{CJK UNIFIED IDEOGRAPH-5206}) missing from font(s) DejaVu Sans.\n",
      "  fig.canvas.print_figure(bytes_io, **kw)\n",
      "/home/jiezi/miniconda3/envs/ai4fun/lib/python3.10/site-packages/IPython/core/pylabtools.py:170: UserWarning: Glyph 24067 (\\N{CJK UNIFIED IDEOGRAPH-5E03}) missing from font(s) DejaVu Sans.\n",
      "  fig.canvas.print_figure(bytes_io, **kw)\n",
      "/home/jiezi/miniconda3/envs/ai4fun/lib/python3.10/site-packages/IPython/core/pylabtools.py:170: UserWarning: Glyph 30452 (\\N{CJK UNIFIED IDEOGRAPH-76F4}) missing from font(s) DejaVu Sans.\n",
      "  fig.canvas.print_figure(bytes_io, **kw)\n",
      "/home/jiezi/miniconda3/envs/ai4fun/lib/python3.10/site-packages/IPython/core/pylabtools.py:170: UserWarning: Glyph 26041 (\\N{CJK UNIFIED IDEOGRAPH-65B9}) missing from font(s) DejaVu Sans.\n",
      "  fig.canvas.print_figure(bytes_io, **kw)\n",
      "/home/jiezi/miniconda3/envs/ai4fun/lib/python3.10/site-packages/IPython/core/pylabtools.py:170: UserWarning: Glyph 22270 (\\N{CJK UNIFIED IDEOGRAPH-56FE}) missing from font(s) DejaVu Sans.\n",
      "  fig.canvas.print_figure(bytes_io, **kw)\n",
      "/home/jiezi/miniconda3/envs/ai4fun/lib/python3.10/site-packages/IPython/core/pylabtools.py:170: UserWarning: Glyph 20540 (\\N{CJK UNIFIED IDEOGRAPH-503C}) missing from font(s) DejaVu Sans.\n",
      "  fig.canvas.print_figure(bytes_io, **kw)\n"
     ]
    },
    {
     "data": {
      "image/png": "[encoded data removed]",
      "text/plain": [
       "<Figure size 640x480 with 1 Axes>"
      ]
     },
     "metadata": {},
     "output_type": "display_data"
    }
   ],
   "source": [
    "import matplotlib.pyplot as plt\n",
    "import numpy as np\n",
    "\n",
    "# 使用 matplotlib 创建直方图\n",
    "plt.hist(sims, bins=10)  # bins 参数可以调整柱子的数量\n",
    "plt.xlabel('数据值')\n",
    "plt.ylabel('频数')\n",
    "plt.title('数据分布直方图')\n",
    "plt.grid(True) # 添加网格线，可选\n",
    "plt.show()"
   ]
  },
  {
   "cell_type": "code",
   "execution_count": 104,
   "metadata": {},
   "outputs": [
    {
     "name": "stdout",
     "output_type": "stream",
     "text": [
      "96 96\n"
     ]
    }
   ],
   "source": [
    "filtered_paper_metadata = []\n",
    "filtered_embedings = []\n",
    "\n",
    "for idx, item in enumerate(candit_paper_info[1:]):\n",
    "    if sims[idx] > 0.7:\n",
    "        filtered_paper_metadata.append(item)\n",
    "        filtered_embedings.append(all_embeds[idx])\n",
    "\n",
    "print(len(filtered_paper_metadata), len(filtered_embedings))"
   ]
  },
  {
   "cell_type": "code",
   "execution_count": 108,
   "metadata": {},
   "outputs": [
    {
     "name": "stdout",
     "output_type": "stream",
     "text": [
      "neurobiologically inspired memory models for LLMs MemoRAG: Moving towards Next-Gen RAG Via Memory-Inspired Knowledge Discovery\n",
      "neurobiologically inspired memory models for LLMs Cogito, ergo sum: A Neurobiologically-Inspired Cognition-Memory-Growth System for Code Generation\n",
      "neurobiologically inspired memory models for LLMs Cognitive Personalized Search Integrating Large Language Models with an Efficient Memory Mechanism\n",
      "neurobiologically inspired memory models for LLMs Larimar: Large Language Models with Episodic Memory Control\n",
      "neurobiologically inspired memory models for LLMs RET-LLM: Towards a General Read-Write Memory for Large Language Models\n",
      "neurobiologically inspired memory models for LLMs GraphInsight: Unlocking Insights in Large Language Models for Graph Structure Understanding\n",
      "neurobiologically inspired memory models for LLMs GIVE: Structured Reasoning of Large Language Models with Knowledge Graph Inspired Veracity Extrapolation\n",
      "neurobiologically inspired memory models for LLMs Memory3: Language Modeling with Explicit Memory\n",
      "neurobiologically inspired memory models for LLMs HiAgent: Hierarchical Working Memory Management for Solving Long-Horizon Agent Tasks with Large Language Model\n",
      "neurobiologically inspired memory models for LLMs OlaGPT: Empowering LLMs With Human-like Problem-Solving Abilities\n",
      "neurobiologically inspired memory models for LLMs A Hippocampus-Inspired Environment-Specific Knowledge Acquisition System Utilizing Common Knowledge with Contextual Information\n",
      "neurobiologically inspired memory models for LLMs GEM-RAG: Graphical Eigen Memories for Retrieval Augmented Generation\n",
      "knowledge graph enhanced retrieval for LLMs Knowledge Graph Enhanced Retrieval-Augmented Generation for Failure Mode and Effects Analysis\n",
      "knowledge graph enhanced retrieval for LLMs How to Build an Adaptive AI Tutor for Any Course Using Knowledge Graph-Enhanced Retrieval-Augmented Generation (KG-RAG)\n",
      "knowledge graph enhanced retrieval for LLMs KRAGEN: a knowledge graph-enhanced RAG framework for biomedical problem solving using large language models\n",
      "knowledge graph enhanced retrieval for LLMs Graph Neural Network Enhanced Retrieval for Question Answering of LLMs\n",
      "knowledge graph enhanced retrieval for LLMs HyKGE: A Hypothesis Knowledge Graph Enhanced Framework for Accurate and Reliable Medical LLMs Responses\n",
      "knowledge graph enhanced retrieval for LLMs Reasoning-Enhanced Healthcare Predictions with Knowledge Graph Community Retrieval\n",
      "knowledge graph enhanced retrieval for LLMs Think-on-Graph 2.0: Deep and Interpretable Large Language Model Reasoning with Knowledge Graph-guided Retrieval\n",
      "knowledge graph enhanced retrieval for LLMs TravelRAG: A Tourist Attraction Retrieval Framework Based on Multi-Layer Knowledge Graph\n",
      "knowledge graph enhanced retrieval for LLMs FiDeLiS: Faithful Reasoning in Large Language Model for Knowledge Graph Question Answering\n",
      "knowledge graph enhanced retrieval for LLMs Biomedical knowledge graph-optimized prompt generation for large language models\n",
      "knowledge graph enhanced retrieval for LLMs When Graph Meets Retrieval Augmented Generation for Wireless Networks: A Tutorial and Case Study\n",
      "knowledge graph enhanced retrieval for LLMs ESCARGOT: an AI agent leveraging large language models, dynamic graph of thoughts, and biomedical knowledge graphs for enhanced reasoning\n",
      "knowledge graph enhanced retrieval for LLMs CRAT: A Multi-Agent Framework for Causality-Enhanced Reflective and Retrieval-Augmented Translation with Large Language Models\n",
      "knowledge graph enhanced retrieval for LLMs SimGRAG: Leveraging Similar Subgraphs for Knowledge Graphs Driven Retrieval-Augmented Generation\n",
      "knowledge graph enhanced retrieval for LLMs GFM-RAG: Graph Foundation Model for Retrieval Augmented Generation\n",
      "knowledge graph enhanced retrieval for LLMs Graph-constrained Reasoning: Faithful Reasoning on Knowledge Graphs with Large Language Models\n",
      "knowledge graph enhanced retrieval for LLMs Intelligent knowledge base search tool using large language model and graph neural network\n",
      "knowledge graph enhanced retrieval for LLMs LightRAG: Simple and Fast Retrieval-Augmented Generation\n",
      "knowledge graph enhanced retrieval for LLMs HyPA-RAG: A Hybrid Parameter Adaptive Retrieval-Augmented Generation System for AI Legal and Policy Applications\n",
      "knowledge graph enhanced retrieval for LLMs LLM4Tag: Automatic Tagging System for Information Retrieval via Large Language Models\n",
      "knowledge graph enhanced retrieval for LLMs Fine-Grained Stateful Knowledge Exploration: A Novel Paradigm for Integrating Knowledge Graphs with Large Language Models\n",
      "knowledge graph enhanced retrieval for LLMs G-RAG: Knowledge Expansion in Material Science\n",
      "knowledge graph enhanced retrieval for LLMs From Documents to Dialogue: Building KG-RAG Enhanced AI Assistants\n",
      "knowledge graph enhanced retrieval for LLMs A Hybrid RAG System with Comprehensive Enhancement on Complex Reasoning\n",
      "knowledge graph enhanced retrieval for LLMs Enhancing Question-Answering with Knowledge Graph Retrieval and Generation using LLMs\n",
      "knowledge graph enhanced retrieval for LLMs HybridContextQA: A Hybrid Approach for Complex Question Answering using Knowledge Graph Construction and Context Retrieval with LLMs\n",
      "knowledge graph enhanced retrieval for LLMs Knowledge Graph-Enhanced Large Language Models via Path Selection\n",
      "knowledge graph enhanced retrieval for LLMs Retrieve-Rewrite-Answer: A KG-to-Text Enhanced LLMs Framework for Knowledge Graph Question Answering\n",
      "knowledge graph enhanced retrieval for LLMs Reasoning Graph Enhanced Exemplars Retrieval for In-Context Learning\n",
      "knowledge graph enhanced retrieval for LLMs An Enhanced Prompt-Based LLM Reasoning Scheme via Knowledge Graph-Integrated Collaboration\n",
      "knowledge graph enhanced retrieval for LLMs Graph-Augmented Reasoning: Evolving Step-by-Step Knowledge Graph Retrieval for LLM Reasoning\n",
      "knowledge graph enhanced retrieval for LLMs GNN-RAG: Graph Neural Retrieval for Large Language Model Reasoning\n",
      "knowledge graph enhanced retrieval for LLMs Simple is Effective: The Roles of Graphs and Large Language Models in Knowledge-Graph-Based Retrieval-Augmented Generation\n",
      "knowledge graph enhanced retrieval for LLMs Retrieval-Augmented Language Model for Extreme Multi-Label Knowledge Graph Link Prediction\n",
      "knowledge graph enhanced retrieval for LLMs Document Knowledge Graph to Enhance Question Answering with Retrieval Augmented Generation\n",
      "knowledge graph enhanced retrieval for LLMs Leveraging LLM based Retrieval-Augmented Generation for Legal Knowledge Graph Completion\n",
      "knowledge graph enhanced retrieval for LLMs Enhancing Vector based Retrieval Augmented Generation with Contextual Knowledge Graph Construction\n",
      "knowledge graph enhanced retrieval for LLMs TKG-RAG: A Retrieval-Augmented Generation Framework with Text-chunk Knowledge Graph\n",
      "knowledge graph enhanced retrieval for LLMs TimeR^4 : Time-aware Retrieval-Augmented Large Language Models for Temporal Knowledge Graph Question Answering\n",
      "knowledge graph enhanced retrieval for LLMs Harnessing Large Language Models for Knowledge Graph Question Answering via Adaptive Multi-Aspect Retrieval-Augmentation\n",
      "knowledge graph enhanced retrieval for LLMs OneGen: Efficient One-Pass Unified Generation and Retrieval for LLMs\n",
      "knowledge graph enhanced retrieval for LLMs A New Pipeline for Knowledge Graph Reasoning Enhanced by Large Language Models Without Fine-Tuning\n",
      "knowledge graph enhanced retrieval for LLMs Hybrid Retrieval-Augmented Generation Approach for LLMs Query Response Enhancement\n",
      "knowledge graph enhanced retrieval for LLMs Adapting to Non-Stationary Environments: Multi-Armed Bandit Enhanced Retrieval-Augmented Generation on Knowledge Graphs\n",
      "knowledge graph enhanced retrieval for LLMs G-Retriever: Retrieval-Augmented Generation for Textual Graph Understanding and Question Answering\n",
      "knowledge graph enhanced retrieval for LLMs Cross-Data Knowledge Graph Construction for LLM-enabled Educational Question-Answering System: A Case Study at HCMUT\n",
      "knowledge graph enhanced retrieval for LLMs Retrieval-enhanced Knowledge Editing in Language Models for Multi-Hop Question Answering\n",
      "knowledge graph enhanced retrieval for LLMs QCG-Rerank: Chunks Graph Rerank with Query Expansion in Retrieval-Augmented LLMs for Tourism Domain\n",
      "long-term memory in large language models Recursively Summarizing Enables Long-Term Dialogue Memory in Large Language Models\n",
      "long-term memory in large language models Improving Long-Term Conversational Abilities of Large Language Models Through Behavior Memory\n",
      "long-term memory in large language models Augmenting Language Models with Long-Term Memory\n",
      "long-term memory in large language models Integrating Temporal Representations for Dynamic Memory Retrieval and Management in Large Language Models\n",
      "long-term memory in large language models FragRel: Exploiting Fragment-level Relations in the External Memory of Large Language Models\n",
      "long-term memory in large language models Exploring Synaptic Resonance in Large Language Models: A Novel Approach to Contextual Memory Integration\n",
      "long-term memory in large language models RecallM: An Adaptable Memory Mechanism with Temporal Understanding for Large Language Models\n",
      "long-term memory in large language models Toward Conversational Agents with Context and Time Sensitive Long-term Memory\n",
      "long-term memory in large language models Evaluating Very Long-Term Conversational Memory of LLM Agents\n",
      "long-term memory in large language models Enhancing Long-Term Memory using Hierarchical Aggregate Tree for Retrieval Augmented Generation\n",
      "long-term memory in large language models Think-in-Memory: Recalling and Post-thinking Enable LLMs with Long-Term Memory\n",
      "long-term memory in large language models M+: Extending MemoryLLM with Scalable Long-Term Memory\n",
      "long-term memory in large language models Knowledge Graph Tuning: Real-time Large Language Model Personalization based on Human Feedback\n",
      "73\n"
     ]
    }
   ],
   "source": [
    "i = 0 \n",
    "for item in filtered_paper_metadata:\n",
    "    if item.get('relationship') in ['related', 'recommended']:\n",
    "        print(item.get('query'), item.get('title'))\n",
    "        i += 1\n",
    "print(i)"
   ]
  },
  {
   "cell_type": "code",
   "execution_count": 105,
   "metadata": {},
   "outputs": [
    {
     "name": "stdout",
     "output_type": "stream",
     "text": [
      "From Local to Global: A Graph RAG Approach to Query-Focused Summarization\n",
      "RAPTOR: Recursive Abstractive Processing for Tree-Organized Retrieval\n",
      "Reasoning on Graphs: Faithful and Interpretable Large Language Model Reasoning\n",
      "Enhancing Retrieval-Augmented Large Language Models with Iterative Retrieval-Generation Synergy\n",
      "Active Retrieval Augmented Generation\n",
      "In-Context Retrieval-Augmented Language Models\n",
      "Interleaving Retrieval with Chain-of-Thought Reasoning for Knowledge-Intensive Multi-Step Questions\n",
      "Deep Bidirectional Language-Knowledge Graph Pretraining\n",
      "Retrieval-Augmented Generation for Knowledge-Intensive NLP Tasks\n",
      "Think-on-Graph: Deep and Responsible Reasoning of Large Language Model with Knowledge Graph\n",
      "RAS: Retrieval-And-Structuring for Knowledge-Intensive LLM Generation\n",
      "VideoRAG: Retrieval-Augmented Generation with Extreme Long-Context Videos\n",
      "Human-inspired Perspectives: A Survey on AI Long-term Memory\n",
      "Inference Scaling for Long-Context Retrieval Augmented Generation\n",
      "Reward-RAG: Enhancing RAG with Reward Driven Supervision\n",
      "Self-Updatable Large Language Models by Integrating Context into Model Parameters\n",
      "KAG: Boosting LLMs in Professional Domains via Knowledge Augmented Generation\n",
      "Graph Retrieval-Augmented Generation: A Survey\n",
      "Retrieval-Augmented Generation for AI-Generated Content: A Survey\n",
      "TIARA: Multi-grained Retrieval for Robust Question Answering over Large Knowledge Base\n",
      "From RAG to Memory: Non-Parametric Continual Learning for Large Language Models\n",
      "Attention in Large Language Models Yields Efficient Zero-Shot Re-Rankers\n",
      "Adaptive Chameleon or Stubborn Sloth: Revealing the Behavior of Large Language Models in Knowledge Conflicts\n",
      "MemoRAG: Moving towards Next-Gen RAG Via Memory-Inspired Knowledge Discovery\n",
      "Cogito, ergo sum: A Neurobiologically-Inspired Cognition-Memory-Growth System for Code Generation\n",
      "Cognitive Personalized Search Integrating Large Language Models with an Efficient Memory Mechanism\n",
      "Larimar: Large Language Models with Episodic Memory Control\n",
      "RET-LLM: Towards a General Read-Write Memory for Large Language Models\n",
      "GraphInsight: Unlocking Insights in Large Language Models for Graph Structure Understanding\n",
      "GIVE: Structured Reasoning of Large Language Models with Knowledge Graph Inspired Veracity Extrapolation\n",
      "Memory3: Language Modeling with Explicit Memory\n",
      "HiAgent: Hierarchical Working Memory Management for Solving Long-Horizon Agent Tasks with Large Language Model\n",
      "OlaGPT: Empowering LLMs With Human-like Problem-Solving Abilities\n",
      "A Hippocampus-Inspired Environment-Specific Knowledge Acquisition System Utilizing Common Knowledge with Contextual Information\n",
      "GEM-RAG: Graphical Eigen Memories for Retrieval Augmented Generation\n",
      "Knowledge Graph Enhanced Retrieval-Augmented Generation for Failure Mode and Effects Analysis\n",
      "How to Build an Adaptive AI Tutor for Any Course Using Knowledge Graph-Enhanced Retrieval-Augmented Generation (KG-RAG)\n",
      "KRAGEN: a knowledge graph-enhanced RAG framework for biomedical problem solving using large language models\n",
      "Graph Neural Network Enhanced Retrieval for Question Answering of LLMs\n",
      "HyKGE: A Hypothesis Knowledge Graph Enhanced Framework for Accurate and Reliable Medical LLMs Responses\n",
      "Reasoning-Enhanced Healthcare Predictions with Knowledge Graph Community Retrieval\n",
      "Think-on-Graph 2.0: Deep and Interpretable Large Language Model Reasoning with Knowledge Graph-guided Retrieval\n",
      "TravelRAG: A Tourist Attraction Retrieval Framework Based on Multi-Layer Knowledge Graph\n",
      "FiDeLiS: Faithful Reasoning in Large Language Model for Knowledge Graph Question Answering\n",
      "Biomedical knowledge graph-optimized prompt generation for large language models\n",
      "When Graph Meets Retrieval Augmented Generation for Wireless Networks: A Tutorial and Case Study\n",
      "ESCARGOT: an AI agent leveraging large language models, dynamic graph of thoughts, and biomedical knowledge graphs for enhanced reasoning\n",
      "CRAT: A Multi-Agent Framework for Causality-Enhanced Reflective and Retrieval-Augmented Translation with Large Language Models\n",
      "SimGRAG: Leveraging Similar Subgraphs for Knowledge Graphs Driven Retrieval-Augmented Generation\n",
      "GFM-RAG: Graph Foundation Model for Retrieval Augmented Generation\n",
      "Graph-constrained Reasoning: Faithful Reasoning on Knowledge Graphs with Large Language Models\n",
      "Intelligent knowledge base search tool using large language model and graph neural network\n",
      "LightRAG: Simple and Fast Retrieval-Augmented Generation\n",
      "HyPA-RAG: A Hybrid Parameter Adaptive Retrieval-Augmented Generation System for AI Legal and Policy Applications\n",
      "LLM4Tag: Automatic Tagging System for Information Retrieval via Large Language Models\n",
      "Fine-Grained Stateful Knowledge Exploration: A Novel Paradigm for Integrating Knowledge Graphs with Large Language Models\n",
      "G-RAG: Knowledge Expansion in Material Science\n",
      "From Documents to Dialogue: Building KG-RAG Enhanced AI Assistants\n",
      "A Hybrid RAG System with Comprehensive Enhancement on Complex Reasoning\n",
      "Enhancing Question-Answering with Knowledge Graph Retrieval and Generation using LLMs\n",
      "HybridContextQA: A Hybrid Approach for Complex Question Answering using Knowledge Graph Construction and Context Retrieval with LLMs\n",
      "Knowledge Graph-Enhanced Large Language Models via Path Selection\n",
      "Retrieve-Rewrite-Answer: A KG-to-Text Enhanced LLMs Framework for Knowledge Graph Question Answering\n",
      "Reasoning Graph Enhanced Exemplars Retrieval for In-Context Learning\n",
      "An Enhanced Prompt-Based LLM Reasoning Scheme via Knowledge Graph-Integrated Collaboration\n",
      "Graph-Augmented Reasoning: Evolving Step-by-Step Knowledge Graph Retrieval for LLM Reasoning\n",
      "GNN-RAG: Graph Neural Retrieval for Large Language Model Reasoning\n",
      "Simple is Effective: The Roles of Graphs and Large Language Models in Knowledge-Graph-Based Retrieval-Augmented Generation\n",
      "Retrieval-Augmented Language Model for Extreme Multi-Label Knowledge Graph Link Prediction\n",
      "Document Knowledge Graph to Enhance Question Answering with Retrieval Augmented Generation\n",
      "Leveraging LLM based Retrieval-Augmented Generation for Legal Knowledge Graph Completion\n",
      "Enhancing Vector based Retrieval Augmented Generation with Contextual Knowledge Graph Construction\n",
      "TKG-RAG: A Retrieval-Augmented Generation Framework with Text-chunk Knowledge Graph\n",
      "TimeR^4 : Time-aware Retrieval-Augmented Large Language Models for Temporal Knowledge Graph Question Answering\n",
      "Harnessing Large Language Models for Knowledge Graph Question Answering via Adaptive Multi-Aspect Retrieval-Augmentation\n",
      "OneGen: Efficient One-Pass Unified Generation and Retrieval for LLMs\n",
      "A New Pipeline for Knowledge Graph Reasoning Enhanced by Large Language Models Without Fine-Tuning\n",
      "Hybrid Retrieval-Augmented Generation Approach for LLMs Query Response Enhancement\n",
      "Adapting to Non-Stationary Environments: Multi-Armed Bandit Enhanced Retrieval-Augmented Generation on Knowledge Graphs\n",
      "G-Retriever: Retrieval-Augmented Generation for Textual Graph Understanding and Question Answering\n",
      "Cross-Data Knowledge Graph Construction for LLM-enabled Educational Question-Answering System: A Case Study at HCMUT\n",
      "Retrieval-enhanced Knowledge Editing in Language Models for Multi-Hop Question Answering\n",
      "QCG-Rerank: Chunks Graph Rerank with Query Expansion in Retrieval-Augmented LLMs for Tourism Domain\n",
      "Recursively Summarizing Enables Long-Term Dialogue Memory in Large Language Models\n",
      "Improving Long-Term Conversational Abilities of Large Language Models Through Behavior Memory\n",
      "Augmenting Language Models with Long-Term Memory\n",
      "Integrating Temporal Representations for Dynamic Memory Retrieval and Management in Large Language Models\n",
      "FragRel: Exploiting Fragment-level Relations in the External Memory of Large Language Models\n",
      "Exploring Synaptic Resonance in Large Language Models: A Novel Approach to Contextual Memory Integration\n",
      "RecallM: An Adaptable Memory Mechanism with Temporal Understanding for Large Language Models\n",
      "Toward Conversational Agents with Context and Time Sensitive Long-term Memory\n",
      "Evaluating Very Long-Term Conversational Memory of LLM Agents\n",
      "Enhancing Long-Term Memory using Hierarchical Aggregate Tree for Retrieval Augmented Generation\n",
      "Think-in-Memory: Recalling and Post-thinking Enable LLMs with Long-Term Memory\n",
      "M+: Extending MemoryLLM with Scalable Long-Term Memory\n",
      "Knowledge Graph Tuning: Real-time Large Language Model Personalization based on Human Feedback\n"
     ]
    }
   ],
   "source": [
    "for item in filtered_paper_metadata:\n",
    "    print(item.get('title'))"
   ]
  },
  {
   "cell_type": "markdown",
   "metadata": {},
   "source": [
    "Filtering by threshold, however, may incur major information loss, since:\n",
    "- the semantic similarity at its best only suggests \"similar\" paper. \n",
    "- Other related papers, like papers in citation chain would be lost. "
   ]
  },
  {
   "cell_type": "code",
   "execution_count": 121,
   "metadata": {},
   "outputs": [
    {
     "name": "stdout",
     "output_type": "stream",
     "text": [
      "76\n",
      "68\n",
      "16\n",
      "7\n"
     ]
    }
   ],
   "source": [
    "print(len(citing_metadata))\n",
    "i = 0\n",
    "for item in citing_metadata:\n",
    "    if item.get('citedPaper') not in filtered_paper_metadata:\n",
    "        i += 1 \n",
    "print(i)\n",
    "\n",
    "\n",
    "print(len(citedby_metadata))\n",
    "j = 0\n",
    "for item in citedby_metadata:\n",
    "    if item.get('citingPaper') not in filtered_paper_metadata:\n",
    "        j += 1 \n",
    "print(j)"
   ]
  },
  {
   "cell_type": "markdown",
   "metadata": {},
   "source": [
    "### Clustering and Community Detection"
   ]
  },
  {
   "cell_type": "markdown",
   "metadata": {},
   "source": [
    "How to conduct community detection with both graph characteristcs and key information embeddings?"
   ]
  },
  {
   "cell_type": "code",
   "execution_count": 113,
   "metadata": {},
   "outputs": [
    {
     "name": "stdout",
     "output_type": "stream",
     "text": [
      "聚类结果:\n",
      "========================================\n",
      "\n",
      "Cluster 0:\n",
      "- A-MEM: Agentic Memory for LLM Agents\n",
      "- Attention in Large Language Models Yields Efficient Zero-Shot Re-Rankers\n",
      "- Vector Storage Based Long-term Memory Research on LLM\n",
      "- Evaluating Very Long-Term Conversational Memory of LLM Agents\n",
      "- Improving Long-Term Conversational Abilities of Large Language Models Through Behavior Memory\n",
      "- Recursively Summarizing Enables Long-Term Dialogue Memory in Large Language Models\n",
      "- Leveraging Memory Retrieval to Enhance LLM-based Generative Recommendation\n",
      "- MemoRAG: Moving towards Next-Gen RAG Via Memory-Inspired Knowledge Discovery\n",
      "- Cognitive Personalized Search Integrating Large Language Models with an Efficient Memory Mechanism\n",
      "- FragRel: Exploiting Fragment-level Relations in the External Memory of Large Language Models\n",
      "- Compressing Long Context for Enhancing RAG with AMR-based Concept Distillation\n",
      "- Audiobox TTA-RAG: Improving Zero-Shot and Few-Shot Text-To-Audio with Retrieval-Augmented Generation\n",
      "- Domain Adaptation for Conversational Query Production with the RAG Model Feedback\n",
      "- RAG-Inspired Robotic Task Planning Using Large Language Models\n",
      "- AtomR: Atomic Operator-Empowered Large Language Models for Heterogeneous Knowledge Reasoning\n",
      "- From Local to Global: A Graph RAG Approach to Query-Focused Summarization\n",
      "- RAS: Retrieval-And-Structuring for Knowledge-Intensive LLM Generation\n",
      "- Human-inspired Perspectives: A Survey on AI Long-term Memory\n",
      "- KAG: Boosting LLMs in Professional Domains via Knowledge Augmented Generation\n",
      "- MemLLM: Finetuning LLMs to Use An Explicit Read-Write Memory\n",
      "- Human-like Episodic Memory for Infinite Context LLMs\n",
      "- HiAgent: Hierarchical Working Memory Management for Solving Long-Horizon Agent Tasks with Large Language Model\n",
      "- Fine-Grained Guidance for Retrievers: Leveraging LLMs' Feedback in Retrieval-Augmented Generation\n",
      "- Retrieval-Augmented Generation with Graphs (GraphRAG)\n",
      "- RAG-WM: An Efficient Black-Box Watermarking Approach for Retrieval-Augmented Generation of Large Language Models\n",
      "- Astute RAG: Overcoming Imperfect Retrieval Augmentation and Knowledge Conflicts for Large Language Models\n",
      "- Prompt-RAG: Pioneering Vector Embedding-Free Retrieval-Augmented Generation in Niche Domains, Exemplified by Korean Medicine\n",
      "========================================\n",
      "\n",
      "Cluster 1:\n",
      "- Dynamic Knowledge Integration for Enhanced Vision-Language Reasoning\n",
      "- M+: Extending MemoryLLM with Scalable Long-Term Memory\n",
      "- Exploring Synaptic Resonance in Large Language Models: A Novel Approach to Contextual Memory Integration\n",
      "- Does RAG Really Perform Bad For Long-Context Processing?\n",
      "- Cogito, ergo sum: A Neurobiologically-Inspired Cognition-Memory-Growth System for Code Generation\n",
      "- Augmenting Language Models with Long-Term Memory\n",
      "- Think-in-Memory: Recalling and Post-thinking Enable LLMs with Long-Term Memory\n",
      "- Enhancing Long-Term Memory using Hierarchical Aggregate Tree for Retrieval Augmented Generation\n",
      "- On the Structural Memory of LLM Agents\n",
      "- Enhancing Long Context Performance in LLMs Through Inner Loop Query Mechanism\n",
      "- LLMs Know What They Need: Leveraging a Missing Information Guided Framework to Empower Retrieval-Augmented Generation\n",
      "- Think-on-Graph 2.0: Deep and Interpretable Large Language Model Reasoning with Knowledge Graph-guided Retrieval\n",
      "- Analyzing and Reducing Catastrophic Forgetting in Parameter Efficient Tuning\n",
      "- RAPTOR: Recursive Abstractive Processing for Tree-Organized Retrieval\n",
      "- Investigating Context-Faithfulness in Large Language Models: The Roles of Memory Strength and Evidence Style\n",
      "- When to Retrieve: Teaching LLMs to Utilize Information Retrieval Effectively\n",
      "- Relational Database Augmented Large Language Model\n",
      "- Memorizing Documents with Guidance in Large Language Models\n",
      "- Towards Understanding Retrieval Accuracy and Prompt Quality in RAG Systems\n",
      "- When Machine Unlearning Meets Retrieval-Augmented Generation (RAG): Keep Secret or Forget Knowledge?\n",
      "- Learn or Recall? Revisiting Incremental Learning with Pre-trained Language Models\n",
      "========================================\n",
      "\n",
      "Cluster 2:\n",
      "- Infinite Retrieval: Attention Enhanced LLMs in Long-Context Processing\n",
      "- Hypencoder: Hypernetworks for Information Retrieval\n",
      "- Long-Context Inference with Retrieval-Augmented Speculative Decoding\n",
      "- Contextual Memory Reweaving in Large Language Models Using Layered Latent State Reconstruction\n",
      "- EpMAN: Episodic Memory AttentioN for Generalizing to Longer Contexts\n",
      "- InfiniteHiP: Extending Language Model Context Up to 3 Million Tokens on a Single GPU\n",
      "- Diversity Enhances an LLM's Performance in RAG and Long-context Task\n",
      "- Enhancing Large Language Models with RAG for Visual Language Navigation in Continuous Environments\n",
      "- Deep Bidirectional Language-Knowledge Graph Pretraining\n",
      "- Adaptive Chameleon or Stubborn Sloth: Revealing the Behavior of Large Language Models in Knowledge Conflicts\n",
      "- RecallM: An Adaptable Memory Mechanism with Temporal Understanding for Large Language Models\n",
      "- RAM: Towards an Ever-Improving Memory System by Learning from Communications\n",
      "- AriGraph: Learning Knowledge Graph World Models with Episodic Memory for LLM Agents\n",
      "- LLM is Knowledge Graph Reasoner: LLM's Intuition-aware Knowledge Graph Reasoning for Cold-start Sequential Recommendation\n",
      "- Enhancing Retrieval-Augmented Large Language Models with Iterative Retrieval-Generation Synergy\n",
      "- Active Retrieval Augmented Generation\n",
      "- In-Context Retrieval-Augmented Language Models\n",
      "- RAG-Instruct: Boosting LLMs with Diverse Retrieval-Augmented Instructions\n",
      "- Fine-tuning and Prompt Engineering with Cognitive Knowledge Graphs for Scholarly Knowledge Organization\n",
      "- Orthogonal Subspace Learning for Language Model Continual Learning\n",
      "========================================\n",
      "\n",
      "Cluster 3:\n",
      "- HippoRAG: Neurobiologically Inspired Long-Term Memory for Large Language Models\n",
      "- From RAG to Memory: Non-Parametric Continual Learning for Large Language Models\n",
      "- Are Large Language Models In-Context Graph Learners?\n",
      "- GEM-RAG: Graphical Eigen Memories for Retrieval Augmented Generation\n",
      "- Emotional RAG: Enhancing Role-Playing Agents through Emotional Retrieval\n",
      "- DH-RAG: A Dynamic Historical Context-Powered Retrieval-Augmented Generation Method for Multi-Turn Dialogue\n",
      "- RAG vs. GraphRAG: A Systematic Evaluation and Key Insights\n",
      "- GraphInsight: Unlocking Insights in Large Language Models for Graph Structure Understanding\n",
      "- Parenting: Optimizing Knowledge Selection of Retrieval-Augmented Language Models with Parameter Decoupling and Tailored Tuning\n",
      "- Retrieval Meets Reasoning: Dynamic In-Context Editing for Long-Text Understanding\n",
      "- Retrieval-Augmented Generation and LLM Agents for Biomimicry Design Solutions\n",
      "- Graph of Records: Boosting Retrieval Augmented Generation for Long-context Summarization with Graphs\n",
      "- C-3PO: Compact Plug-and-Play Proxy Optimization to Achieve Human-like Retrieval-Augmented Generation\n",
      "- EmbodiedRAG: Dynamic 3D Scene Graph Retrieval for Efficient and Scalable Robot Task Planning\n",
      "- Making Large Language Models Perform Better in Knowledge Graph Completion\n",
      "- Interleaving Retrieval with Chain-of-Thought Reasoning for Knowledge-Intensive Multi-Step Questions\n",
      "- Retrieval-Augmented Generation for Knowledge-Intensive NLP Tasks\n",
      "- VideoRAG: Retrieval-Augmented Generation with Extreme Long-Context Videos\n",
      "- Reward-RAG: Enhancing RAG with Reward Driven Supervision\n",
      "- Retrieval-Augmented Generation for AI-Generated Content: A Survey\n",
      "- CogNGen: Constructing the Kernel of a Hyperdimensional Predictive Processing Cognitive Architecture\n",
      "- Modular RAG: Transforming RAG Systems into LEGO-like Reconfigurable Frameworks\n",
      "- Integrating Temporal Representations for Dynamic Memory Retrieval and Management in Large Language Models\n",
      "- In Defense of RAG in the Era of Long-Context Language Models\n",
      "- MultiHop-RAG: Benchmarking Retrieval-Augmented Generation for Multi-Hop Queries\n",
      "- RAG-DDR: Optimizing Retrieval-Augmented Generation Using Differentiable Data Rewards\n",
      "- RAG Foundry: A Framework for Enhancing LLMs for Retrieval Augmented Generation\n",
      "- RAGServe: Fast Quality-Aware RAG Systems with Configuration Adaptation\n",
      "- RAGBench: Explainable Benchmark for Retrieval-Augmented Generation Systems\n",
      "- Toward General Instruction-Following Alignment for Retrieval-Augmented Generation\n",
      "- PA-RAG: RAG Alignment via Multi-Perspective Preference Optimization\n",
      "- Improving Retrieval-Augmented Generation through Multi-Agent Reinforcement Learning\n",
      "- The Good and The Bad: Exploring Privacy Issues in Retrieval-Augmented Generation (RAG)\n",
      "- On Exploring the Reasoning Capability of Large Language Models with Knowledge Graphs\n",
      "- Augmented Large Language Models with Parametric Knowledge Guiding\n",
      "========================================\n",
      "\n",
      "Cluster 4:\n",
      "- TIARA: Multi-grained Retrieval for Robust Question Answering over Large Knowledge Base\n",
      "- Memory3: Language Modeling with Explicit Memory\n",
      "- Knowledge Graph Tuning: Real-time Large Language Model Personalization based on Human Feedback\n",
      "- Knowledge Graph Large Language Model (KG-LLM) for Link Prediction\n",
      "- Cross-Data Knowledge Graph Construction for LLM-enabled Educational Question-Answering System: A Case Study at HCMUT\n",
      "- An Enhanced Prompt-Based LLM Reasoning Scheme via Knowledge Graph-Integrated Collaboration\n",
      "- Temporal Knowledge Graph Reasoning With Dynamic Memory Enhancement\n",
      "- KRAGEN: a knowledge graph-enhanced RAG framework for biomedical problem solving using large language models\n",
      "- Knowledge Graph-Enhanced Large Language Models via Path Selection\n",
      "- Think-on-Graph: Deep and Responsible Reasoning of Large Language Model on Knowledge Graph\n",
      "- Multimodal Reasoning with Multimodal Knowledge Graph\n",
      "- FiDeLiS: Faithful Reasoning in Large Language Model for Knowledge Graph Question Answering\n",
      "- Two-stage Generative Question Answering on Temporal Knowledge Graph Using Large Language Models\n",
      "- Simple is Effective: The Roles of Graphs and Large Language Models in Knowledge-Graph-Based Retrieval-Augmented Generation\n",
      "- UniOQA: A Unified Framework for Knowledge Graph Question Answering with Large Language Models\n",
      "- Reasoning on Efficient Knowledge Paths: Knowledge Graph Guides Large Language Model for Domain Question Answering\n",
      "- A New Pipeline for Knowledge Graph Reasoning Enhanced by Large Language Models Without Fine-Tuning\n",
      "- Reasoning on Graphs: Faithful and Interpretable Large Language Model Reasoning\n",
      "- Inference Scaling for Long-Context Retrieval Augmented Generation\n",
      "- Self-Updatable Large Language Models by Integrating Context into Model Parameters\n",
      "- Graph Retrieval-Augmented Generation: A Survey\n",
      "- A Graph-Based Approach for Conversational AI-Driven Personal Memory Capture and Retrieval in a Real-world Application\n",
      "- CypherBench: Towards Precise Retrieval over Full-scale Modern Knowledge Graphs in the LLM Era\n",
      "- Graph-constrained Reasoning: Faithful Reasoning on Knowledge Graphs with Large Language Models\n",
      "- Knowledge-Augmented Language Model Prompting for Zero-Shot Knowledge Graph Question Answering\n",
      "- Retrieve-Rewrite-Answer: A KG-to-Text Enhanced LLMs Framework for Knowledge Graph Question Answering\n",
      "- Logic Query of Thoughts: Guiding Large Language Models to Answer Complex Logic Queries with Knowledge Graphs\n",
      "- ActiveRAG: Revealing the Treasures of Knowledge via Active Learning\n",
      "- QRMeM: Unleash the Length Limitation through Question then Reflection Memory Mechanism\n",
      "- Causal Graph Discovery with Retrieval-Augmented Generation based Large Language Models\n"
     ]
    }
   ],
   "source": [
    "from sklearn.cluster import KMeans\n",
    "\n",
    "num_clusters = 5  #  设置聚类的数量， 这通常需要根据实际情况调整\n",
    "kmeans = KMeans(n_clusters=num_clusters, random_state=0, n_init=10) # 显式设置 n_init\n",
    "clusters = kmeans.fit_predict(filtered_embedings)\n",
    "\n",
    "# 步骤 5:  展示聚类结果\n",
    "print(\"聚类结果:\")\n",
    "for i in range(num_clusters):\n",
    "    print(\"=\"*40)\n",
    "    print(f\"\\nCluster {i}:\")\n",
    "    for sentence_id, cluster_id in enumerate(clusters):\n",
    "        if cluster_id == i:\n",
    "            print(f\"- {filtered_paper_metadata[sentence_id].get('title')}\")"
   ]
  },
  {
   "cell_type": "code",
   "execution_count": 115,
   "metadata": {},
   "outputs": [
    {
     "data": {
      "image/png": "[encoded data removed]",
      "text/plain": [
       "<Figure size 1500x500 with 3 Axes>"
      ]
     },
     "metadata": {},
     "output_type": "display_data"
    },
    {
     "name": "stdout",
     "output_type": "stream",
     "text": [
      "\n",
      "聚类评估指标:\n",
      "k=2: Silhouette Score: 0.0476, Davies-Bouldin Index: 3.3061, Inertia: 45.7039\n",
      "k=3: Silhouette Score: 0.0568, Davies-Bouldin Index: 3.2482, Inertia: 43.1277\n",
      "k=4: Silhouette Score: 0.0637, Davies-Bouldin Index: 3.1468, Inertia: 41.6514\n",
      "k=5: Silhouette Score: 0.0558, Davies-Bouldin Index: 3.4440, Inertia: 40.9208\n",
      "k=6: Silhouette Score: 0.0575, Davies-Bouldin Index: 3.4771, Inertia: 39.9500\n",
      "\n",
      "基于 Silhouette Score, 建议的最优 k 值为: 4\n",
      "基于 Davies-Bouldin Index, 建议的最优 k 值为: 4\n",
      "\n",
      "请参考 Elbow Method 图表， 综合评估并选择最终的 k 值。\n",
      "\n",
      "使用最优 k 值 (4) 的聚类结果:\n",
      "\n",
      "Cluster 0:\n",
      "- Cogito, ergo sum: A Neurobiologically-Inspired Cognition-Memory-Growth System for Code Generation\n",
      "- Compressing Long Context for Enhancing RAG with AMR-based Concept Distillation\n",
      "- Audiobox TTA-RAG: Improving Zero-Shot and Few-Shot Text-To-Audio with Retrieval-Augmented Generation\n",
      "- RAG-Inspired Robotic Task Planning Using Large Language Models\n",
      "- AtomR: Atomic Operator-Empowered Large Language Models for Heterogeneous Knowledge Reasoning\n",
      "- Analyzing and Reducing Catastrophic Forgetting in Parameter Efficient Tuning\n",
      "- From Local to Global: A Graph RAG Approach to Query-Focused Summarization\n",
      "- Fine-Grained Guidance for Retrievers: Leveraging LLMs' Feedback in Retrieval-Augmented Generation\n",
      "- Retrieval-Augmented Generation with Graphs (GraphRAG)\n",
      "- RAG-WM: An Efficient Black-Box Watermarking Approach for Retrieval-Augmented Generation of Large Language Models\n",
      "- Astute RAG: Overcoming Imperfect Retrieval Augmentation and Knowledge Conflicts for Large Language Models\n",
      "- Prompt-RAG: Pioneering Vector Embedding-Free Retrieval-Augmented Generation in Niche Domains, Exemplified by Korean Medicine\n",
      "\n",
      "Cluster 1:\n",
      "- HippoRAG: Neurobiologically Inspired Long-Term Memory for Large Language Models\n",
      "- From RAG to Memory: Non-Parametric Continual Learning for Large Language Models\n",
      "- Are Large Language Models In-Context Graph Learners?\n",
      "- GEM-RAG: Graphical Eigen Memories for Retrieval Augmented Generation\n",
      "- Emotional RAG: Enhancing Role-Playing Agents through Emotional Retrieval\n",
      "- DH-RAG: A Dynamic Historical Context-Powered Retrieval-Augmented Generation Method for Multi-Turn Dialogue\n",
      "- RAG vs. GraphRAG: A Systematic Evaluation and Key Insights\n",
      "- GraphInsight: Unlocking Insights in Large Language Models for Graph Structure Understanding\n",
      "- Parenting: Optimizing Knowledge Selection of Retrieval-Augmented Language Models with Parameter Decoupling and Tailored Tuning\n",
      "- Retrieval Meets Reasoning: Dynamic In-Context Editing for Long-Text Understanding\n",
      "- Graph of Records: Boosting Retrieval Augmented Generation for Long-context Summarization with Graphs\n",
      "- C-3PO: Compact Plug-and-Play Proxy Optimization to Achieve Human-like Retrieval-Augmented Generation\n",
      "- EmbodiedRAG: Dynamic 3D Scene Graph Retrieval for Efficient and Scalable Robot Task Planning\n",
      "- AriGraph: Learning Knowledge Graph World Models with Episodic Memory for LLM Agents\n",
      "- Making Large Language Models Perform Better in Knowledge Graph Completion\n",
      "- Interleaving Retrieval with Chain-of-Thought Reasoning for Knowledge-Intensive Multi-Step Questions\n",
      "- Retrieval-Augmented Generation for Knowledge-Intensive NLP Tasks\n",
      "- VideoRAG: Retrieval-Augmented Generation with Extreme Long-Context Videos\n",
      "- Reward-RAG: Enhancing RAG with Reward Driven Supervision\n",
      "- Graph Retrieval-Augmented Generation: A Survey\n",
      "- Retrieval-Augmented Generation for AI-Generated Content: A Survey\n",
      "- CogNGen: Constructing the Kernel of a Hyperdimensional Predictive Processing Cognitive Architecture\n",
      "- Modular RAG: Transforming RAG Systems into LEGO-like Reconfigurable Frameworks\n",
      "- RAG-Instruct: Boosting LLMs with Diverse Retrieval-Augmented Instructions\n",
      "- Integrating Temporal Representations for Dynamic Memory Retrieval and Management in Large Language Models\n",
      "- In Defense of RAG in the Era of Long-Context Language Models\n",
      "- MultiHop-RAG: Benchmarking Retrieval-Augmented Generation for Multi-Hop Queries\n",
      "- RAG-DDR: Optimizing Retrieval-Augmented Generation Using Differentiable Data Rewards\n",
      "- RAG Foundry: A Framework for Enhancing LLMs for Retrieval Augmented Generation\n",
      "- RAGServe: Fast Quality-Aware RAG Systems with Configuration Adaptation\n",
      "- RAGBench: Explainable Benchmark for Retrieval-Augmented Generation Systems\n",
      "- Toward General Instruction-Following Alignment for Retrieval-Augmented Generation\n",
      "- PA-RAG: RAG Alignment via Multi-Perspective Preference Optimization\n",
      "- Improving Retrieval-Augmented Generation through Multi-Agent Reinforcement Learning\n",
      "- The Good and The Bad: Exploring Privacy Issues in Retrieval-Augmented Generation (RAG)\n",
      "- On Exploring the Reasoning Capability of Large Language Models with Knowledge Graphs\n",
      "- Logic Query of Thoughts: Guiding Large Language Models to Answer Complex Logic Queries with Knowledge Graphs\n",
      "- Augmented Large Language Models with Parametric Knowledge Guiding\n",
      "\n",
      "Cluster 2:\n",
      "- A-MEM: Agentic Memory for LLM Agents\n",
      "- Dynamic Knowledge Integration for Enhanced Vision-Language Reasoning\n",
      "- Infinite Retrieval: Attention Enhanced LLMs in Long-Context Processing\n",
      "- M+: Extending MemoryLLM with Scalable Long-Term Memory\n",
      "- Hypencoder: Hypernetworks for Information Retrieval\n",
      "- Long-Context Inference with Retrieval-Augmented Speculative Decoding\n",
      "- Exploring Synaptic Resonance in Large Language Models: A Novel Approach to Contextual Memory Integration\n",
      "- Contextual Memory Reweaving in Large Language Models Using Layered Latent State Reconstruction\n",
      "- Does RAG Really Perform Bad For Long-Context Processing?\n",
      "- EpMAN: Episodic Memory AttentioN for Generalizing to Longer Contexts\n",
      "- InfiniteHiP: Extending Language Model Context Up to 3 Million Tokens on a Single GPU\n",
      "- Diversity Enhances an LLM's Performance in RAG and Long-context Task\n",
      "- Enhancing Large Language Models with RAG for Visual Language Navigation in Continuous Environments\n",
      "- Deep Bidirectional Language-Knowledge Graph Pretraining\n",
      "- Attention in Large Language Models Yields Efficient Zero-Shot Re-Rankers\n",
      "- Adaptive Chameleon or Stubborn Sloth: Revealing the Behavior of Large Language Models in Knowledge Conflicts\n",
      "- Vector Storage Based Long-term Memory Research on LLM\n",
      "- Evaluating Very Long-Term Conversational Memory of LLM Agents\n",
      "- Augmenting Language Models with Long-Term Memory\n",
      "- Think-in-Memory: Recalling and Post-thinking Enable LLMs with Long-Term Memory\n",
      "- Improving Long-Term Conversational Abilities of Large Language Models Through Behavior Memory\n",
      "- Enhancing Long-Term Memory using Hierarchical Aggregate Tree for Retrieval Augmented Generation\n",
      "- Recursively Summarizing Enables Long-Term Dialogue Memory in Large Language Models\n",
      "- On the Structural Memory of LLM Agents\n",
      "- Leveraging Memory Retrieval to Enhance LLM-based Generative Recommendation\n",
      "- MemoRAG: Moving towards Next-Gen RAG Via Memory-Inspired Knowledge Discovery\n",
      "- Cognitive Personalized Search Integrating Large Language Models with an Efficient Memory Mechanism\n",
      "- FragRel: Exploiting Fragment-level Relations in the External Memory of Large Language Models\n",
      "- Enhancing Long Context Performance in LLMs Through Inner Loop Query Mechanism\n",
      "- RecallM: An Adaptable Memory Mechanism with Temporal Understanding for Large Language Models\n",
      "- Domain Adaptation for Conversational Query Production with the RAG Model Feedback\n",
      "- LLMs Know What They Need: Leveraging a Missing Information Guided Framework to Empower Retrieval-Augmented Generation\n",
      "- Retrieval-Augmented Generation and LLM Agents for Biomimicry Design Solutions\n",
      "- RAM: Towards an Ever-Improving Memory System by Learning from Communications\n",
      "- RAPTOR: Recursive Abstractive Processing for Tree-Organized Retrieval\n",
      "- Active Retrieval Augmented Generation\n",
      "- In-Context Retrieval-Augmented Language Models\n",
      "- Human-inspired Perspectives: A Survey on AI Long-term Memory\n",
      "- KAG: Boosting LLMs in Professional Domains via Knowledge Augmented Generation\n",
      "- Investigating Context-Faithfulness in Large Language Models: The Roles of Memory Strength and Evidence Style\n",
      "- MemLLM: Finetuning LLMs to Use An Explicit Read-Write Memory\n",
      "- When to Retrieve: Teaching LLMs to Utilize Information Retrieval Effectively\n",
      "- Relational Database Augmented Large Language Model\n",
      "- Human-like Episodic Memory for Infinite Context LLMs\n",
      "- HiAgent: Hierarchical Working Memory Management for Solving Long-Horizon Agent Tasks with Large Language Model\n",
      "- Memorizing Documents with Guidance in Large Language Models\n",
      "- Towards Understanding Retrieval Accuracy and Prompt Quality in RAG Systems\n",
      "- When Machine Unlearning Meets Retrieval-Augmented Generation (RAG): Keep Secret or Forget Knowledge?\n",
      "- Orthogonal Subspace Learning for Language Model Continual Learning\n",
      "- Learn or Recall? Revisiting Incremental Learning with Pre-trained Language Models\n",
      "\n",
      "Cluster 3:\n",
      "- TIARA: Multi-grained Retrieval for Robust Question Answering over Large Knowledge Base\n",
      "- Memory3: Language Modeling with Explicit Memory\n",
      "- Knowledge Graph Tuning: Real-time Large Language Model Personalization based on Human Feedback\n",
      "- Knowledge Graph Large Language Model (KG-LLM) for Link Prediction\n",
      "- Cross-Data Knowledge Graph Construction for LLM-enabled Educational Question-Answering System: A Case Study at HCMUT\n",
      "- An Enhanced Prompt-Based LLM Reasoning Scheme via Knowledge Graph-Integrated Collaboration\n",
      "- LLM is Knowledge Graph Reasoner: LLM's Intuition-aware Knowledge Graph Reasoning for Cold-start Sequential Recommendation\n",
      "- Temporal Knowledge Graph Reasoning With Dynamic Memory Enhancement\n",
      "- KRAGEN: a knowledge graph-enhanced RAG framework for biomedical problem solving using large language models\n",
      "- Think-on-Graph 2.0: Deep and Interpretable Large Language Model Reasoning with Knowledge Graph-guided Retrieval\n",
      "- Knowledge Graph-Enhanced Large Language Models via Path Selection\n",
      "- Think-on-Graph: Deep and Responsible Reasoning of Large Language Model on Knowledge Graph\n",
      "- Multimodal Reasoning with Multimodal Knowledge Graph\n",
      "- FiDeLiS: Faithful Reasoning in Large Language Model for Knowledge Graph Question Answering\n",
      "- Two-stage Generative Question Answering on Temporal Knowledge Graph Using Large Language Models\n",
      "- Simple is Effective: The Roles of Graphs and Large Language Models in Knowledge-Graph-Based Retrieval-Augmented Generation\n",
      "- UniOQA: A Unified Framework for Knowledge Graph Question Answering with Large Language Models\n",
      "- Reasoning on Efficient Knowledge Paths: Knowledge Graph Guides Large Language Model for Domain Question Answering\n",
      "- A New Pipeline for Knowledge Graph Reasoning Enhanced by Large Language Models Without Fine-Tuning\n",
      "- Reasoning on Graphs: Faithful and Interpretable Large Language Model Reasoning\n",
      "- Enhancing Retrieval-Augmented Large Language Models with Iterative Retrieval-Generation Synergy\n",
      "- RAS: Retrieval-And-Structuring for Knowledge-Intensive LLM Generation\n",
      "- Inference Scaling for Long-Context Retrieval Augmented Generation\n",
      "- Self-Updatable Large Language Models by Integrating Context into Model Parameters\n",
      "- A Graph-Based Approach for Conversational AI-Driven Personal Memory Capture and Retrieval in a Real-world Application\n",
      "- CypherBench: Towards Precise Retrieval over Full-scale Modern Knowledge Graphs in the LLM Era\n",
      "- Graph-constrained Reasoning: Faithful Reasoning on Knowledge Graphs with Large Language Models\n",
      "- Knowledge-Augmented Language Model Prompting for Zero-Shot Knowledge Graph Question Answering\n",
      "- Retrieve-Rewrite-Answer: A KG-to-Text Enhanced LLMs Framework for Knowledge Graph Question Answering\n",
      "- ActiveRAG: Revealing the Treasures of Knowledge via Active Learning\n",
      "- Fine-tuning and Prompt Engineering with Cognitive Knowledge Graphs for Scholarly Knowledge Organization\n",
      "- QRMeM: Unleash the Length Limitation through Question then Reflection Memory Mechanism\n",
      "- Causal Graph Discovery with Retrieval-Augmented Generation based Large Language Models\n"
     ]
    }
   ],
   "source": [
    "\n",
    "from sklearn.cluster import KMeans\n",
    "from sklearn.metrics import silhouette_score, davies_bouldin_score\n",
    "import numpy as np\n",
    "import matplotlib.pyplot as plt\n",
    "\n",
    "# 步骤 4: 尝试不同的 k 值并评估聚类指标\n",
    "silhouette_scores = []\n",
    "davies_bouldin_scores = []\n",
    "inertia_values = []  # 用于 Elbow Method\n",
    "k_values = range(2, 7)  #  尝试 k 从 2 到 6， 你可以根据需要调整范围\n",
    "\n",
    "for k in k_values:\n",
    "    kmeans = KMeans(n_clusters=k, random_state=0, n_init=10)\n",
    "    clusters = kmeans.fit_predict(filtered_embedings)\n",
    "    inertia_values.append(kmeans.inertia_) #  inertia_ 对应 KMeans 的 Within-Cluster Sum of Squares (WCSS)\n",
    "\n",
    "    #  计算 Silhouette Score,  注意需要处理簇的数量少于 2 的情况\n",
    "    if len(set(clusters)) > 1: # 确保簇的数量大于 1 才能计算 Silhouette Score\n",
    "        silhouette_avg = silhouette_score(filtered_embedings, clusters)\n",
    "        silhouette_scores.append(silhouette_avg)\n",
    "    else:\n",
    "        silhouette_scores.append(np.nan) #  如果簇的数量为 1,  Silhouette Score  无法计算， 用 NaN 填充\n",
    "\n",
    "    # 计算 Davies-Bouldin Index\n",
    "    davies_bouldin = davies_bouldin_score(filtered_embedings, clusters)\n",
    "    davies_bouldin_scores.append(davies_bouldin)\n",
    "\n",
    "\n",
    "# 步骤 5:  可视化评估指标和 Elbow Method\n",
    "\n",
    "plt.figure(figsize=(15, 5))\n",
    "\n",
    "#  子图 1: Silhouette Score\n",
    "plt.subplot(1, 3, 1)\n",
    "plt.plot(k_values, silhouette_scores, marker='o')\n",
    "plt.title('Silhouette Score for Different k')\n",
    "plt.xlabel('Number of clusters (k)')\n",
    "plt.ylabel('Silhouette Score')\n",
    "plt.xticks(k_values) # 确保 x 轴刻度是整数 k 值\n",
    "plt.grid(True)\n",
    "\n",
    "# 子图 2: Davies-Bouldin Index\n",
    "plt.subplot(1, 3, 2)\n",
    "plt.plot(k_values, davies_bouldin_scores, marker='o')\n",
    "plt.title('Davies-Bouldin Index for Different k')\n",
    "plt.xlabel('Number of clusters (k)')\n",
    "plt.ylabel('Davies-Bouldin Index')\n",
    "plt.xticks(k_values)\n",
    "plt.grid(True)\n",
    "\n",
    "\n",
    "# 子图 3: Elbow Method (Inertia)\n",
    "plt.subplot(1, 3, 3)\n",
    "plt.plot(k_values, inertia_values, marker='o')\n",
    "plt.title('Elbow Method for Optimal k')\n",
    "plt.xlabel('Number of clusters (k)')\n",
    "plt.ylabel('Inertia (Within-Cluster Sum of Squares)')\n",
    "plt.xticks(k_values)\n",
    "plt.grid(True)\n",
    "\n",
    "\n",
    "plt.tight_layout()  # 调整子图布局，避免重叠\n",
    "plt.show()\n",
    "\n",
    "\n",
    "# 步骤 6:  基于指标选择最优的 k 值 (简单的选择方法， 你可以根据需要调整)\n",
    "#  这里我们简单地选择 Silhouette Score 最高， Davies-Bouldin Index 最低的 k 值作为参考\n",
    "optimal_k_silhouette = k_values[np.nanargmax(silhouette_scores)] # nanargmax 处理 NaN 值\n",
    "optimal_k_db = k_values[np.argmin(davies_bouldin_scores)]\n",
    "\n",
    "\n",
    "print(\"\\n聚类评估指标:\")\n",
    "for i, k in enumerate(k_values):\n",
    "    sil_score = silhouette_scores[i] if not np.isnan(silhouette_scores[i]) else \"N/A\" #  处理 NaN 值\n",
    "    print(f\"k={k}: Silhouette Score: {sil_score:.4f}, Davies-Bouldin Index: {davies_bouldin_scores[i]:.4f}, Inertia: {inertia_values[i]:.4f}\")\n",
    "    \n",
    "print(f\"\\n基于 Silhouette Score, 建议的最优 k 值为: {optimal_k_silhouette}\")\n",
    "print(f\"基于 Davies-Bouldin Index, 建议的最优 k 值为: {optimal_k_db}\")\n",
    "print(\"\\n请参考 Elbow Method 图表， 综合评估并选择最终的 k 值。\")\n",
    "\n",
    "\n",
    "#  步骤 7:  使用最优的 k 值重新聚类并展示结果 (可选， 这里使用 Silhouette Score 建议的 k 值)\n",
    "best_k = optimal_k_silhouette #  你可以根据你的评估选择 optimal_k_db 或手动选择\n",
    "kmeans_optimal = KMeans(n_clusters=best_k, random_state=0, n_init=10)\n",
    "optimal_clusters = kmeans_optimal.fit_predict(filtered_embedings)\n",
    "\n",
    "print(f\"\\n使用最优 k 值 ({best_k}) 的聚类结果:\")\n",
    "for i in range(best_k):\n",
    "    print(f\"\\nCluster {i}:\")\n",
    "    for sentence_id, cluster_id in enumerate(optimal_clusters):\n",
    "        if cluster_id == i:\n",
    "            print(f\"- {filtered_paper_metadata[sentence_id].get('title')}\")"
   ]
  },
  {
   "cell_type": "code",
   "execution_count": null,
   "metadata": {},
   "outputs": [],
   "source": []
  },
  {
   "cell_type": "code",
   "execution_count": null,
   "metadata": {},
   "outputs": [],
   "source": [
    "s2_metadata + citing_metadata + citedby_metadata + paper_recommended_info  # 100\n",
    "paper_from_authors  # 200\n",
    "s2_realted_papers_metadata"
   ]
  },
  {
   "cell_type": "markdown",
   "metadata": {},
   "source": [
    "## One-hop Information"
   ]
  },
  {
   "cell_type": "markdown",
   "metadata": {},
   "source": [
    "## Two-hop Expansion"
   ]
  },
  {
   "cell_type": "markdown",
   "metadata": {},
   "source": [
    "## Deep Search"
   ]
  },
  {
   "cell_type": "markdown",
   "metadata": {},
   "source": []
  }
 ],
 "metadata": {
  "kernelspec": {
   "display_name": "ai4fun",
   "language": "python",
   "name": "python3"
  },
  "language_info": {
   "codemirror_mode": {
    "name": "ipython",
    "version": 3
   },
   "file_extension": ".py",
   "mimetype": "text/x-python",
   "name": "python",
   "nbconvert_exporter": "python",
   "pygments_lexer": "ipython3",
   "version": "3.10.16"
  }
 },
 "nbformat": 4,
 "nbformat_minor": 2
}
