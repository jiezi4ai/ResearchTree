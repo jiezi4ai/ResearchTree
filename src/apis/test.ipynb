{
 "cells": [
  {
   "cell_type": "code",
   "execution_count": 1,
   "id": "4c6d809d",
   "metadata": {},
   "outputs": [
    {
     "name": "stderr",
     "output_type": "stream",
     "text": [
      "2025-04-25 12:03:04,076 - SemanticScholarKit - INFO - SemanticScholarKit initialized with: max_concurrency=20, max_retry=5, sleep_interval=3.0s\n",
      "INFO:SemanticScholarKit:SemanticScholarKit initialized with: max_concurrency=20, max_retry=5, sleep_interval=3.0s\n"
     ]
    }
   ],
   "source": [
    "from s2_api import SemanticScholarKit\n",
    "s2 = SemanticScholarKit()\n",
    "result = await s2.get_authors(author_ids=['2341358168', '74214430'])"
   ]
  },
  {
   "cell_type": "code",
   "execution_count": 26,
   "id": "a2f9dc5f",
   "metadata": {},
   "outputs": [
    {
     "data": {
      "text/plain": [
       "[{'paperId': '0d1ec57726d2f7eef8e247b6a7c048ccbc80bd15', 'externalIds': {'DOI': '10.1109/ICARC64760.2025.10962863', 'CorpusId': 277821847}, 'corpusId': 277821847, 'publicationVenue': None, 'url': 'https://www.semanticscholar.org/paper/0d1ec57726d2f7eef8e247b6a7c048ccbc80bd15', 'title': 'Enhancing AI Classification Performance: A Framework for Textual Data Quality Assessment', 'abstract': None, 'venue': '2025 5th International Conference on Advanced Research in Computing (ICARC)', 'year': 2025, 'referenceCount': 21, 'citationCount': 0, 'influentialCitationCount': 0, 'isOpenAccess': False, 'openAccessPdf': {'url': '', 'status': None, 'license': None, 'disclaimer': \"Notice: This paper's abstract has been elided by the publisher. Paper or abstract available at https://api.unpaywall.org/v2/10.1109/ICARC64760.2025.10962863?email=<INSERT_YOUR_EMAIL> or https://doi.org/10.1109/ICARC64760.2025.10962863, which is subject to the license by the author or copyright owner provided with this content. Please go to the source to verify the license and copyright information for your use.\"}, 'fieldsOfStudy': None, 's2FieldsOfStudy': [{'category': 'Computer Science', 'source': 's2-fos-model'}], 'publicationTypes': ['Conference', 'Review'], 'publicationDate': '2025-02-19', 'journal': {'pages': '1-6', 'name': '2025 5th International Conference on Advanced Research in Computing (ICARC)'}, 'authors': [{'authorId': '2355619193', 'name': 'B.S.M.N. Bibulewela'}, {'authorId': '2341358168', 'name': 'Dilani Wickramaarachchi'}, {'authorId': '100918808', 'name': 'P. Asanka'}]},\n",
       " {'paperId': '1b8e768c2677a75b0a95e2a74d5f4cfa48dced56', 'externalIds': {'DOI': '10.1109/ICARC64760.2025.10963287', 'CorpusId': 277821132}, 'corpusId': 277821132, 'publicationVenue': None, 'url': 'https://www.semanticscholar.org/paper/1b8e768c2677a75b0a95e2a74d5f4cfa48dced56', 'title': 'Large Language Model (LLM) Support for Preliminary Consultation in Healthcare', 'abstract': None, 'venue': '2025 5th International Conference on Advanced Research in Computing (ICARC)', 'year': 2025, 'referenceCount': 30, 'citationCount': 0, 'influentialCitationCount': 0, 'isOpenAccess': False, 'openAccessPdf': {'url': '', 'status': 'CLOSED', 'license': None, 'disclaimer': \"Notice: This paper's abstract has been elided by the publisher. Paper or abstract available at https://api.unpaywall.org/v2/10.1109/ICARC64760.2025.10963287?email=<INSERT_YOUR_EMAIL> or https://doi.org/10.1109/ICARC64760.2025.10963287, which is subject to the license by the author or copyright owner provided with this content. Please go to the source to verify the license and copyright information for your use.\"}, 'fieldsOfStudy': None, 's2FieldsOfStudy': [{'category': 'Medicine', 'source': 's2-fos-model'}, {'category': 'Computer Science', 'source': 's2-fos-model'}], 'publicationTypes': ['Conference'], 'publicationDate': '2025-02-19', 'journal': {'pages': '1-6', 'name': '2025 5th International Conference on Advanced Research in Computing (ICARC)'}, 'authors': [{'authorId': '2355612586', 'name': 'Fernando S.P.A.A'}, {'authorId': '2341358168', 'name': 'Dilani Wickramaarachchi'}]},\n",
       " {'paperId': '1d51d9f781d646264dc0e2e9d5377c20081e6f54', 'externalIds': {'DOI': '10.1109/ICARC64760.2025.10963099', 'CorpusId': 277823515}, 'corpusId': 277823515, 'publicationVenue': None, 'url': 'https://www.semanticscholar.org/paper/1d51d9f781d646264dc0e2e9d5377c20081e6f54', 'title': 'Evaluating AI-Based Unit Testing Tools: A Focus on Usability, Reliability, and Integration', 'abstract': None, 'venue': '2025 5th International Conference on Advanced Research in Computing (ICARC)', 'year': 2025, 'referenceCount': 27, 'citationCount': 0, 'influentialCitationCount': 0, 'isOpenAccess': False, 'openAccessPdf': {'url': '', 'status': 'CLOSED', 'license': None, 'disclaimer': \"Notice: This paper's abstract has been elided by the publisher. Paper or abstract available at https://api.unpaywall.org/v2/10.1109/ICARC64760.2025.10963099?email=<INSERT_YOUR_EMAIL> or https://doi.org/10.1109/ICARC64760.2025.10963099, which is subject to the license by the author or copyright owner provided with this content. Please go to the source to verify the license and copyright information for your use.\"}, 'fieldsOfStudy': None, 's2FieldsOfStudy': [{'category': 'Computer Science', 'source': 's2-fos-model'}], 'publicationTypes': ['Conference'], 'publicationDate': '2025-02-19', 'journal': {'pages': '1-6', 'name': '2025 5th International Conference on Advanced Research in Computing (ICARC)'}, 'authors': [{'authorId': '2355630872', 'name': 'Hafsa Aarifeen'}, {'authorId': '2341358168', 'name': 'Dilani Wickramaarachchi'}]},\n",
       " {'paperId': '2a5c1b98dc5cece3d5f6c02297b48631442a80c7', 'externalIds': {'DOI': '10.1109/ICARC64760.2025.10963173', 'CorpusId': 277821026}, 'corpusId': 277821026, 'publicationVenue': None, 'url': 'https://www.semanticscholar.org/paper/2a5c1b98dc5cece3d5f6c02297b48631442a80c7', 'title': 'Assessing the Limits of Automated Accessibility Testing: Insights for QA Engineers and Tool Developers', 'abstract': None, 'venue': '2025 5th International Conference on Advanced Research in Computing (ICARC)', 'year': 2025, 'referenceCount': 20, 'citationCount': 0, 'influentialCitationCount': 0, 'isOpenAccess': False, 'openAccessPdf': {'url': '', 'status': None, 'license': None, 'disclaimer': \"Notice: This paper's abstract has been elided by the publisher. Paper or abstract available at https://api.unpaywall.org/v2/10.1109/ICARC64760.2025.10963173?email=<INSERT_YOUR_EMAIL> or https://doi.org/10.1109/ICARC64760.2025.10963173, which is subject to the license by the author or copyright owner provided with this content. Please go to the source to verify the license and copyright information for your use.\"}, 'fieldsOfStudy': None, 's2FieldsOfStudy': [{'category': 'Computer Science', 'source': 's2-fos-model'}], 'publicationTypes': ['Conference', 'Review'], 'publicationDate': '2025-02-19', 'journal': {'pages': '1-6', 'name': '2025 5th International Conference on Advanced Research in Computing (ICARC)'}, 'authors': [{'authorId': '2355611522', 'name': 'Tashmi Kodithuwakku'}, {'authorId': '2341358168', 'name': 'Dilani Wickramaarachchi'}]},\n",
       " {'paperId': '313922ac9043f0d4f7ccf098d8b5e21de94e0667', 'externalIds': {'DOI': '10.1109/ICARC64760.2025.10963273', 'CorpusId': 277822674}, 'corpusId': 277822674, 'publicationVenue': None, 'url': 'https://www.semanticscholar.org/paper/313922ac9043f0d4f7ccf098d8b5e21de94e0667', 'title': 'Enhancing Systematic Literature Reviews: Evaluating the Performance of LLM-Based Tools Across Key Systematic Literature Review Stages', 'abstract': None, 'venue': '2025 5th International Conference on Advanced Research in Computing (ICARC)', 'year': 2025, 'referenceCount': 34, 'citationCount': 0, 'influentialCitationCount': 0, 'isOpenAccess': False, 'openAccessPdf': {'url': '', 'status': 'CLOSED', 'license': None, 'disclaimer': \"Notice: This paper's abstract has been elided by the publisher. Paper or abstract available at https://api.unpaywall.org/v2/10.1109/ICARC64760.2025.10963273?email=<INSERT_YOUR_EMAIL> or https://doi.org/10.1109/ICARC64760.2025.10963273, which is subject to the license by the author or copyright owner provided with this content. Please go to the source to verify the license and copyright information for your use.\"}, 'fieldsOfStudy': None, 's2FieldsOfStudy': [{'category': 'Computer Science', 'source': 's2-fos-model'}], 'publicationTypes': ['Conference', 'Review'], 'publicationDate': '2025-02-19', 'journal': {'pages': '1-6', 'name': '2025 5th International Conference on Advanced Research in Computing (ICARC)'}, 'authors': [{'authorId': '2356576208', 'name': 'Numaya Silva'}, {'authorId': '2341358168', 'name': 'Dilani Wickramaarachchi'}]},\n",
       " {'paperId': 'b070e8de22ebf692300730d7303fae8e1bdaf6af', 'externalIds': {'DOI': '10.4038/icter.v17i4.7284', 'CorpusId': 275859336}, 'corpusId': 275859336, 'publicationVenue': None, 'url': 'https://www.semanticscholar.org/paper/b070e8de22ebf692300730d7303fae8e1bdaf6af', 'title': 'A Theory of Planned Behaviour (TPB) Based Study on the Reluctance of Sri Lankan IT Undergraduates in Pursuing a Software Quality Assurance Career', 'abstract': None, 'venue': 'International Journal on Advances in ICT for Emerging Regions (ICTer)', 'year': 2025, 'referenceCount': 0, 'citationCount': 0, 'influentialCitationCount': 0, 'isOpenAccess': False, 'openAccessPdf': {'url': '', 'status': None, 'license': None, 'disclaimer': \"Notice: This paper's abstract has been elided by the publisher. Paper or abstract available at https://api.unpaywall.org/v2/10.4038/icter.v17i4.7284?email=<INSERT_YOUR_EMAIL> or https://doi.org/10.4038/icter.v17i4.7284, which is subject to the license by the author or copyright owner provided with this content. Please go to the source to verify the license and copyright information for your use.\"}, 'fieldsOfStudy': None, 's2FieldsOfStudy': [{'category': 'Computer Science', 'source': 's2-fos-model'}], 'publicationTypes': ['JournalArticle', 'Review'], 'publicationDate': '2025-01-23', 'journal': {'name': 'International Journal on Advances in ICT for Emerging Regions (ICTer)'}, 'authors': [{'authorId': '100918808', 'name': 'P. Asanka'}, {'authorId': '2220065461', 'name': 'Chathura Rajapakshe'}, {'authorId': '2341358168', 'name': 'Dilani Wickramaarachchi'}]},\n",
       " {'paperId': 'fe393c1a00db40cbbd08872e068bf211fdee07e0', 'externalIds': {'DOI': '10.1109/ICARC64760.2025.10962918', 'CorpusId': 277822308}, 'corpusId': 277822308, 'publicationVenue': None, 'url': 'https://www.semanticscholar.org/paper/fe393c1a00db40cbbd08872e068bf211fdee07e0', 'title': 'Leveraging AI to Ensure Authenticity in Student Assignments: A Knowledge-Based Validation and Evaluation Framework', 'abstract': None, 'venue': '2025 5th International Conference on Advanced Research in Computing (ICARC)', 'year': 2025, 'referenceCount': 13, 'citationCount': 0, 'influentialCitationCount': 0, 'isOpenAccess': False, 'openAccessPdf': {'url': '', 'status': None, 'license': None, 'disclaimer': \"Notice: This paper's abstract has been elided by the publisher. Paper or abstract available at https://api.unpaywall.org/v2/10.1109/ICARC64760.2025.10962918?email=<INSERT_YOUR_EMAIL> or https://doi.org/10.1109/ICARC64760.2025.10962918, which is subject to the license by the author or copyright owner provided with this content. Please go to the source to verify the license and copyright information for your use.\"}, 'fieldsOfStudy': None, 's2FieldsOfStudy': [{'category': 'Computer Science', 'source': 's2-fos-model'}, {'category': 'Education', 'source': 's2-fos-model'}], 'publicationTypes': ['Conference'], 'publicationDate': '2025-02-19', 'journal': {'pages': '1-6', 'name': '2025 5th International Conference on Advanced Research in Computing (ICARC)'}, 'authors': [{'authorId': '2355626700', 'name': 'Chinthaka Hondarangala'}, {'authorId': '2341358168', 'name': 'Dilani Wickramaarachchi'}]},\n",
       " {'paperId': '5a6fa63a1ef59dbd4bc28bde7c6ee84040fa92f4', 'externalIds': {'DOI': '10.1109/SLAAI-ICAI63667.2024.10844968', 'CorpusId': 275759920}, 'corpusId': 275759920, 'publicationVenue': None, 'url': 'https://www.semanticscholar.org/paper/5a6fa63a1ef59dbd4bc28bde7c6ee84040fa92f4', 'title': 'Quality Assurance for LLM-Generated Test Cases: A Systematic Literature Review', 'abstract': None, 'venue': '2024 8th SLAAI International Conference on Artificial Intelligence (SLAAI-ICAI)', 'year': 2024, 'referenceCount': 72, 'citationCount': 0, 'influentialCitationCount': 0, 'isOpenAccess': False, 'openAccessPdf': {'url': '', 'status': 'CLOSED', 'license': None, 'disclaimer': \"Notice: This paper's abstract has been elided by the publisher. Paper or abstract available at https://api.unpaywall.org/v2/10.1109/SLAAI-ICAI63667.2024.10844968?email=<INSERT_YOUR_EMAIL> or https://doi.org/10.1109/SLAAI-ICAI63667.2024.10844968, which is subject to the license by the author or copyright owner provided with this content. Please go to the source to verify the license and copyright information for your use.\"}, 'fieldsOfStudy': None, 's2FieldsOfStudy': [{'category': 'Computer Science', 'source': 's2-fos-model'}], 'publicationTypes': ['Conference', 'Review'], 'publicationDate': '2024-12-18', 'journal': {'pages': '1-6', 'name': '2024 8th SLAAI International Conference on Artificial Intelligence (SLAAI-ICAI)'}, 'authors': [{'authorId': '2341349779', 'name': 'Hasali Edirisinghe'}, {'authorId': '2341358168', 'name': 'Dilani Wickramaarachchi'}]}]"
      ]
     },
     "execution_count": 26,
     "metadata": {},
     "output_type": "execute_result"
    }
   ],
   "source": [
    "result[0].papers"
   ]
  },
  {
   "cell_type": "code",
   "execution_count": 27,
   "id": "30997df4",
   "metadata": {},
   "outputs": [],
   "source": [
    "ref_info = await s2.get_paper_references(paper_id='fe393c1a00db40cbbd08872e068bf211fdee07e0', limit=100)"
   ]
  },
  {
   "cell_type": "code",
   "execution_count": 28,
   "id": "0acf56b0",
   "metadata": {},
   "outputs": [
    {
     "data": {
      "text/plain": [
       "<semanticscholar.PaginatedResults.PaginatedResults at 0x12810a110>"
      ]
     },
     "execution_count": 28,
     "metadata": {},
     "output_type": "execute_result"
    }
   ],
   "source": [
    "ref_info"
   ]
  },
  {
   "cell_type": "code",
   "execution_count": 31,
   "id": "0b4eaa85",
   "metadata": {},
   "outputs": [
    {
     "data": {
      "text/plain": [
       "semanticscholar.Reference.Reference"
      ]
     },
     "execution_count": 31,
     "metadata": {},
     "output_type": "execute_result"
    }
   ],
   "source": [
    "type(ref_info[0])"
   ]
  },
  {
   "cell_type": "code",
   "execution_count": 30,
   "id": "9234d7ad",
   "metadata": {},
   "outputs": [
    {
     "data": {
      "text/plain": [
       "{'isInfluential': True, 'contexts': ['This efficiency allows teachers to focus more on direct instruction, improving overall education quality [6].', 'Finally, financial and resource constraints hinder widespread adoption, particularly in low-resource institutions, due to the high costs of AI systems and infrastructure requirements [6].', 'Data privacy and security remain critical concerns, as AI systems depend on sensitive student data, raising issues about protection and compliance with regulations [6].', 'Moreover, AI systems play an important role in formative assessment by offering timely feedback that helps students identify strengths and weaknesses, fostering continuous learning and improvement [6].', 'This adaptability ensures students are challenged at appropriate levels, preventing boredom and disengagement [6].'], 'intents': [], 'contextsWithIntent': [{'context': 'This efficiency allows teachers to focus more on direct instruction, improving overall education quality [6].', 'intents': []}, {'context': 'Finally, financial and resource constraints hinder widespread adoption, particularly in low-resource institutions, due to the high costs of AI systems and infrastructure requirements [6].', 'intents': []}, {'context': 'Data privacy and security remain critical concerns, as AI systems depend on sensitive student data, raising issues about protection and compliance with regulations [6].', 'intents': []}, {'context': 'Moreover, AI systems play an important role in formative assessment by offering timely feedback that helps students identify strengths and weaknesses, fostering continuous learning and improvement [6].', 'intents': []}, {'context': 'This adaptability ensures students are challenged at appropriate levels, preventing boredom and disengagement [6].', 'intents': []}], 'citedPaper': {'paperId': '79adf90f279f05ffc53ded255f9c5825515e398a', 'externalIds': {'DOI': '10.3390/su16073034', 'CorpusId': 268973475}, 'corpusId': 268973475, 'publicationVenue': {'id': '8775599f-4f9a-45f0-900e-7f4de68e6843', 'name': 'Sustainability', 'type': 'journal', 'issn': '2071-1050', 'url': 'http://www.e-helvetica.nb.admin.ch/directAccess?callnumber=bel-172127', 'alternate_urls': ['http://mdpi.com/journal/sustainability', 'http://nbn-resolving.de/urn/resolver.pl?urn=urn:nbn:ch:bel-172127']}, 'url': 'https://www.semanticscholar.org/paper/79adf90f279f05ffc53ded255f9c5825515e398a', 'title': 'Generative AI for Customizable Learning Experiences', 'abstract': 'The introduction of accessible generative artificial intelligence opens promising opportunities for the implementation of personalized learning methods in any educational environment. Personalized learning has been conceptualized for a long time, but it has only recently become realistic and truly achievable. In this paper, we propose an affordable and sustainable approach toward personalizing learning materials as part of the complete educational process. We have created a tool within a pre-existing learning management system at a software engineering college that automatically generates learning materials based on the learning outcomes provided by the professor for a particular class. The learning materials were composed in three distinct styles, the initial one being the traditional professor style and the other two variations adopting a pop-culture influence, namely Batman and Wednesday Addams. Each lesson, besides being delivered in three different formats, contained automatically generated multiple-choice questions that students could use to check their progress. This paper contains complete instructions for developing such a tool with the help of large language models using OpenAI’s API and an analysis of the preliminary experiment of its usage performed with the help of 20 college students studying software engineering at a European university. Participation in the study was optional and on voluntary basis. Each student’s tool usage was quantified, and two questionnaires were conducted: one immediately after subject completion and another 6 months later to assess both immediate and long-term effects, perceptions, and preferences. The results indicate that students found the multiple variants of the learning materials really engaging. While predominantly utilizing the traditional variant of the learning materials, they found this approach inspiring, would recommend it to other students, and would like to see it more in classes. The most popular feature were the automatically generated quiz-style tests that they used to assess their understanding. Preliminary evidence suggests that the use of various versions of learning materials leads to an increase in students’ study time, especially for students who have not mastered the topic otherwise. The study’s small sample size of 20 students restricts its ability to generalize its findings, but its results provide useful early insights and lay the groundwork for future research on AI-supported educational strategies.', 'venue': 'Sustainability', 'year': 2024, 'referenceCount': 91, 'citationCount': 56, 'influentialCitationCount': 1, 'isOpenAccess': True, 'openAccessPdf': {'url': 'https://www.mdpi.com/2071-1050/16/7/3034/pdf?version=1712310661', 'status': 'GOLD', 'license': 'CCBY', 'disclaimer': 'Notice: This abstract is extracted from the open access paper or abstract available at https://api.unpaywall.org/v2/10.3390/su16073034?email=<INSERT_YOUR_EMAIL> or https://doi.org/10.3390/su16073034, which is subject to the license by the author or copyright owner provided with this content. Please go to the source to verify the license and copyright information for your use.'}, 'fieldsOfStudy': None, 's2FieldsOfStudy': [{'category': 'Computer Science', 'source': 's2-fos-model'}, {'category': 'Education', 'source': 's2-fos-model'}, {'category': 'Engineering', 'source': 's2-fos-model'}], 'publicationTypes': ['JournalArticle'], 'publicationDate': '2024-04-05', 'journal': {'name': 'Sustainability'}, 'citationStyles': {'bibtex': '@Article{Pesovski2024GenerativeAF,\\n author = {Ivica Pesovski and Ricardo Santos and Roberto Henriques and V. Trajkovik},\\n booktitle = {Sustainability},\\n journal = {Sustainability},\\n title = {Generative AI for Customizable Learning Experiences},\\n year = {2024}\\n}\\n'}, 'authors': [{'authorId': '2163625896', 'name': 'Ivica Pesovski'}, {'authorId': '2237747351', 'name': 'Ricardo Santos'}, {'authorId': '2178993100', 'name': 'Roberto Henriques'}, {'authorId': '3272045', 'name': 'V. Trajkovik'}]}}"
      ]
     },
     "execution_count": 30,
     "metadata": {},
     "output_type": "execute_result"
    }
   ],
   "source": [
    "ref_info[0]"
   ]
  },
  {
   "cell_type": "code",
   "execution_count": 33,
   "id": "4a072de0",
   "metadata": {},
   "outputs": [
    {
     "data": {
      "text/plain": [
       "{1}"
      ]
     },
     "execution_count": 33,
     "metadata": {},
     "output_type": "execute_result"
    }
   ],
   "source": [
    "set({1,2}) - set({2,3,4,5})"
   ]
  },
  {
   "cell_type": "code",
   "execution_count": 29,
   "id": "3b4c118a",
   "metadata": {},
   "outputs": [
    {
     "ename": "RetryError",
     "evalue": "RetryError[<Future at 0x1280d1f00 state=finished raised ConnectionRefusedError>]",
     "output_type": "error",
     "traceback": [
      "\u001b[0;31m---------------------------------------------------------------------------\u001b[0m",
      "\u001b[0;31mConnectionRefusedError\u001b[0m                    Traceback (most recent call last)",
      "File \u001b[0;32m/opt/miniconda3/envs/jiezi4ai/lib/python3.10/site-packages/tenacity/asyncio/__init__.py:114\u001b[0m, in \u001b[0;36mAsyncRetrying.__call__\u001b[0;34m(self, fn, *args, **kwargs)\u001b[0m\n\u001b[1;32m    113\u001b[0m \u001b[38;5;28;01mtry\u001b[39;00m:\n\u001b[0;32m--> 114\u001b[0m     result \u001b[38;5;241m=\u001b[39m \u001b[38;5;28;01mawait\u001b[39;00m fn(\u001b[38;5;241m*\u001b[39margs, \u001b[38;5;241m*\u001b[39m\u001b[38;5;241m*\u001b[39mkwargs)\n\u001b[1;32m    115\u001b[0m \u001b[38;5;28;01mexcept\u001b[39;00m \u001b[38;5;167;01mBaseException\u001b[39;00m:  \u001b[38;5;66;03m# noqa: B902\u001b[39;00m\n",
      "File \u001b[0;32m/opt/miniconda3/envs/jiezi4ai/lib/python3.10/site-packages/semanticscholar/ApiRequester.py:136\u001b[0m, in \u001b[0;36mApiRequester._get_data_async\u001b[0;34m(self, url, parameters, headers, payload)\u001b[0m\n\u001b[1;32m    135\u001b[0m \u001b[38;5;28;01melif\u001b[39;00m r\u001b[38;5;241m.\u001b[39mstatus_code \u001b[38;5;241m==\u001b[39m \u001b[38;5;241m429\u001b[39m:\n\u001b[0;32m--> 136\u001b[0m     \u001b[38;5;28;01mraise\u001b[39;00m \u001b[38;5;167;01mConnectionRefusedError\u001b[39;00m(\u001b[38;5;124m'\u001b[39m\u001b[38;5;124mHTTP status 429 Too Many Requests.\u001b[39m\u001b[38;5;124m'\u001b[39m)\n\u001b[1;32m    137\u001b[0m \u001b[38;5;28;01melif\u001b[39;00m r\u001b[38;5;241m.\u001b[39mstatus_code \u001b[38;5;241m==\u001b[39m \u001b[38;5;241m500\u001b[39m:\n",
      "\u001b[0;31mConnectionRefusedError\u001b[0m: HTTP status 429 Too Many Requests.",
      "\nThe above exception was the direct cause of the following exception:\n",
      "\u001b[0;31mRetryError\u001b[0m                                Traceback (most recent call last)",
      "Cell \u001b[0;32mIn[29], line 3\u001b[0m\n\u001b[1;32m      1\u001b[0m \u001b[38;5;28;01mfrom\u001b[39;00m \u001b[38;5;21;01msemanticscholar\u001b[39;00m \u001b[38;5;28;01mimport\u001b[39;00m AsyncSemanticScholar\n\u001b[1;32m      2\u001b[0m s2_org \u001b[38;5;241m=\u001b[39m AsyncSemanticScholar()\n\u001b[0;32m----> 3\u001b[0m test \u001b[38;5;241m=\u001b[39m \u001b[38;5;28;01mawait\u001b[39;00m s2_org\u001b[38;5;241m.\u001b[39mget_paper_references(paper_id\u001b[38;5;241m=\u001b[39m\u001b[38;5;124m'\u001b[39m\u001b[38;5;124mfe393c1a00db40cbbd08872e068bf211fdee07e0\u001b[39m\u001b[38;5;124m'\u001b[39m, limit\u001b[38;5;241m=\u001b[39m\u001b[38;5;241m100\u001b[39m)\n",
      "File \u001b[0;32m/opt/miniconda3/envs/jiezi4ai/lib/python3.10/site-packages/semanticscholar/AsyncSemanticScholar.py:383\u001b[0m, in \u001b[0;36mAsyncSemanticScholar.get_paper_references\u001b[0;34m(self, paper_id, fields, limit)\u001b[0m\n\u001b[1;32m    380\u001b[0m base_url \u001b[38;5;241m=\u001b[39m \u001b[38;5;28mself\u001b[39m\u001b[38;5;241m.\u001b[39mapi_url \u001b[38;5;241m+\u001b[39m \u001b[38;5;28mself\u001b[39m\u001b[38;5;241m.\u001b[39mBASE_PATH_GRAPH\n\u001b[1;32m    381\u001b[0m url \u001b[38;5;241m=\u001b[39m \u001b[38;5;124mf\u001b[39m\u001b[38;5;124m'\u001b[39m\u001b[38;5;132;01m{\u001b[39;00mbase_url\u001b[38;5;132;01m}\u001b[39;00m\u001b[38;5;124m/paper/\u001b[39m\u001b[38;5;132;01m{\u001b[39;00mpaper_id\u001b[38;5;132;01m}\u001b[39;00m\u001b[38;5;124m/references\u001b[39m\u001b[38;5;124m'\u001b[39m\n\u001b[0;32m--> 383\u001b[0m results \u001b[38;5;241m=\u001b[39m \u001b[38;5;28;01mawait\u001b[39;00m PaginatedResults\u001b[38;5;241m.\u001b[39mcreate(\n\u001b[1;32m    384\u001b[0m         requester\u001b[38;5;241m=\u001b[39m\u001b[38;5;28mself\u001b[39m\u001b[38;5;241m.\u001b[39m_requester,\n\u001b[1;32m    385\u001b[0m         data_type\u001b[38;5;241m=\u001b[39mReference,\n\u001b[1;32m    386\u001b[0m         url\u001b[38;5;241m=\u001b[39murl,\n\u001b[1;32m    387\u001b[0m         fields\u001b[38;5;241m=\u001b[39mfields,\n\u001b[1;32m    388\u001b[0m         limit\u001b[38;5;241m=\u001b[39mlimit\n\u001b[1;32m    389\u001b[0m     )\n\u001b[1;32m    391\u001b[0m \u001b[38;5;28;01mreturn\u001b[39;00m results\n",
      "File \u001b[0;32m/opt/miniconda3/envs/jiezi4ai/lib/python3.10/site-packages/semanticscholar/PaginatedResults.py:54\u001b[0m, in \u001b[0;36mPaginatedResults.create\u001b[0;34m(cls, *args, **kwargs)\u001b[0m\n\u001b[1;32m     43\u001b[0m \u001b[38;5;129m@classmethod\u001b[39m\n\u001b[1;32m     44\u001b[0m \u001b[38;5;28;01masync\u001b[39;00m \u001b[38;5;28;01mdef\u001b[39;00m \u001b[38;5;21mcreate\u001b[39m(\n\u001b[1;32m     45\u001b[0m             \u001b[38;5;28mcls\u001b[39m,\n\u001b[1;32m     46\u001b[0m             \u001b[38;5;241m*\u001b[39margs, \n\u001b[1;32m     47\u001b[0m             \u001b[38;5;241m*\u001b[39m\u001b[38;5;241m*\u001b[39mkwargs\n\u001b[1;32m     48\u001b[0m         ):\n\u001b[1;32m     50\u001b[0m     obj \u001b[38;5;241m=\u001b[39m \u001b[38;5;28mcls\u001b[39m(\n\u001b[1;32m     51\u001b[0m         \u001b[38;5;241m*\u001b[39margs,\n\u001b[1;32m     52\u001b[0m         \u001b[38;5;241m*\u001b[39m\u001b[38;5;241m*\u001b[39mkwargs\n\u001b[1;32m     53\u001b[0m     )\n\u001b[0;32m---> 54\u001b[0m     \u001b[38;5;28;01mawait\u001b[39;00m obj\u001b[38;5;241m.\u001b[39m_async_get_next_page()\n\u001b[1;32m     56\u001b[0m     \u001b[38;5;28;01mreturn\u001b[39;00m obj\n",
      "File \u001b[0;32m/opt/miniconda3/envs/jiezi4ai/lib/python3.10/site-packages/semanticscholar/PaginatedResults.py:148\u001b[0m, in \u001b[0;36mPaginatedResults._async_get_next_page\u001b[0;34m(self)\u001b[0m\n\u001b[1;32m    144\u001b[0m     \u001b[38;5;28;01mraise\u001b[39;00m NoMorePagesException(\u001b[38;5;124m'\u001b[39m\u001b[38;5;124mNo more pages to fetch.\u001b[39m\u001b[38;5;124m'\u001b[39m)\n\u001b[1;32m    146\u001b[0m \u001b[38;5;28mself\u001b[39m\u001b[38;5;241m.\u001b[39m_build_params()\n\u001b[0;32m--> 148\u001b[0m results \u001b[38;5;241m=\u001b[39m \u001b[38;5;28;01mawait\u001b[39;00m \u001b[38;5;28mself\u001b[39m\u001b[38;5;241m.\u001b[39m_request_data()\n\u001b[1;32m    150\u001b[0m \u001b[38;5;28;01mreturn\u001b[39;00m \u001b[38;5;28mself\u001b[39m\u001b[38;5;241m.\u001b[39m_update_params(results)\n",
      "File \u001b[0;32m/opt/miniconda3/envs/jiezi4ai/lib/python3.10/site-packages/semanticscholar/PaginatedResults.py:135\u001b[0m, in \u001b[0;36mPaginatedResults._request_data\u001b[0;34m(self)\u001b[0m\n\u001b[1;32m    134\u001b[0m \u001b[38;5;28;01masync\u001b[39;00m \u001b[38;5;28;01mdef\u001b[39;00m \u001b[38;5;21m_request_data\u001b[39m(\u001b[38;5;28mself\u001b[39m) \u001b[38;5;241m-\u001b[39m\u001b[38;5;241m>\u001b[39m Union[\u001b[38;5;28mdict\u001b[39m, List[\u001b[38;5;28mdict\u001b[39m]]:\n\u001b[0;32m--> 135\u001b[0m     \u001b[38;5;28;01mreturn\u001b[39;00m \u001b[38;5;28;01mawait\u001b[39;00m \u001b[38;5;28mself\u001b[39m\u001b[38;5;241m.\u001b[39m_requester\u001b[38;5;241m.\u001b[39mget_data_async(\n\u001b[1;32m    136\u001b[0m         \u001b[38;5;28mself\u001b[39m\u001b[38;5;241m.\u001b[39m_url,\n\u001b[1;32m    137\u001b[0m         \u001b[38;5;28mself\u001b[39m\u001b[38;5;241m.\u001b[39m_parameters,\n\u001b[1;32m    138\u001b[0m         \u001b[38;5;28mself\u001b[39m\u001b[38;5;241m.\u001b[39m_headers\n\u001b[1;32m    139\u001b[0m     )\n",
      "File \u001b[0;32m/opt/miniconda3/envs/jiezi4ai/lib/python3.10/site-packages/semanticscholar/ApiRequester.py:90\u001b[0m, in \u001b[0;36mApiRequester.get_data_async\u001b[0;34m(self, url, parameters, headers, payload)\u001b[0m\n\u001b[1;32m     79\u001b[0m \u001b[38;5;250m\u001b[39m\u001b[38;5;124;03m'''\u001b[39;00m\n\u001b[1;32m     80\u001b[0m \u001b[38;5;124;03mGet data from Semantic Scholar API\u001b[39;00m\n\u001b[1;32m     81\u001b[0m \n\u001b[0;32m   (...)\u001b[0m\n\u001b[1;32m     87\u001b[0m \u001b[38;5;124;03m:rtype: :class:`dict` or :class:`List` of :class:`dict`\u001b[39;00m\n\u001b[1;32m     88\u001b[0m \u001b[38;5;124;03m'''\u001b[39;00m\n\u001b[1;32m     89\u001b[0m \u001b[38;5;28;01mif\u001b[39;00m \u001b[38;5;28mself\u001b[39m\u001b[38;5;241m.\u001b[39mretry:\n\u001b[0;32m---> 90\u001b[0m     \u001b[38;5;28;01mreturn\u001b[39;00m \u001b[38;5;28;01mawait\u001b[39;00m \u001b[38;5;28mself\u001b[39m\u001b[38;5;241m.\u001b[39m_get_data_async(\n\u001b[1;32m     91\u001b[0m         url, parameters, headers, payload)\n\u001b[1;32m     92\u001b[0m \u001b[38;5;28;01mreturn\u001b[39;00m \u001b[38;5;28;01mawait\u001b[39;00m \u001b[38;5;28mself\u001b[39m\u001b[38;5;241m.\u001b[39m_get_data_async\u001b[38;5;241m.\u001b[39mretry_with(\n\u001b[1;32m     93\u001b[0m         stop\u001b[38;5;241m=\u001b[39mstop_after_attempt(\u001b[38;5;241m1\u001b[39m)\n\u001b[1;32m     94\u001b[0m     )(\u001b[38;5;28mself\u001b[39m, url, parameters, headers, payload)\n",
      "File \u001b[0;32m/opt/miniconda3/envs/jiezi4ai/lib/python3.10/site-packages/tenacity/asyncio/__init__.py:189\u001b[0m, in \u001b[0;36mAsyncRetrying.wraps.<locals>.async_wrapped\u001b[0;34m(*args, **kwargs)\u001b[0m\n\u001b[1;32m    187\u001b[0m copy \u001b[38;5;241m=\u001b[39m \u001b[38;5;28mself\u001b[39m\u001b[38;5;241m.\u001b[39mcopy()\n\u001b[1;32m    188\u001b[0m async_wrapped\u001b[38;5;241m.\u001b[39mstatistics \u001b[38;5;241m=\u001b[39m copy\u001b[38;5;241m.\u001b[39mstatistics  \u001b[38;5;66;03m# type: ignore[attr-defined]\u001b[39;00m\n\u001b[0;32m--> 189\u001b[0m \u001b[38;5;28;01mreturn\u001b[39;00m \u001b[38;5;28;01mawait\u001b[39;00m copy(fn, \u001b[38;5;241m*\u001b[39margs, \u001b[38;5;241m*\u001b[39m\u001b[38;5;241m*\u001b[39mkwargs)\n",
      "File \u001b[0;32m/opt/miniconda3/envs/jiezi4ai/lib/python3.10/site-packages/tenacity/asyncio/__init__.py:111\u001b[0m, in \u001b[0;36mAsyncRetrying.__call__\u001b[0;34m(self, fn, *args, **kwargs)\u001b[0m\n\u001b[1;32m    109\u001b[0m retry_state \u001b[38;5;241m=\u001b[39m RetryCallState(retry_object\u001b[38;5;241m=\u001b[39m\u001b[38;5;28mself\u001b[39m, fn\u001b[38;5;241m=\u001b[39mfn, args\u001b[38;5;241m=\u001b[39margs, kwargs\u001b[38;5;241m=\u001b[39mkwargs)\n\u001b[1;32m    110\u001b[0m \u001b[38;5;28;01mwhile\u001b[39;00m \u001b[38;5;28;01mTrue\u001b[39;00m:\n\u001b[0;32m--> 111\u001b[0m     do \u001b[38;5;241m=\u001b[39m \u001b[38;5;28;01mawait\u001b[39;00m \u001b[38;5;28mself\u001b[39m\u001b[38;5;241m.\u001b[39miter(retry_state\u001b[38;5;241m=\u001b[39mretry_state)\n\u001b[1;32m    112\u001b[0m     \u001b[38;5;28;01mif\u001b[39;00m \u001b[38;5;28misinstance\u001b[39m(do, DoAttempt):\n\u001b[1;32m    113\u001b[0m         \u001b[38;5;28;01mtry\u001b[39;00m:\n",
      "File \u001b[0;32m/opt/miniconda3/envs/jiezi4ai/lib/python3.10/site-packages/tenacity/asyncio/__init__.py:153\u001b[0m, in \u001b[0;36mAsyncRetrying.iter\u001b[0;34m(self, retry_state)\u001b[0m\n\u001b[1;32m    151\u001b[0m result \u001b[38;5;241m=\u001b[39m \u001b[38;5;28;01mNone\u001b[39;00m\n\u001b[1;32m    152\u001b[0m \u001b[38;5;28;01mfor\u001b[39;00m action \u001b[38;5;129;01min\u001b[39;00m \u001b[38;5;28mself\u001b[39m\u001b[38;5;241m.\u001b[39miter_state\u001b[38;5;241m.\u001b[39mactions:\n\u001b[0;32m--> 153\u001b[0m     result \u001b[38;5;241m=\u001b[39m \u001b[38;5;28;01mawait\u001b[39;00m action(retry_state)\n\u001b[1;32m    154\u001b[0m \u001b[38;5;28;01mreturn\u001b[39;00m result\n",
      "File \u001b[0;32m/opt/miniconda3/envs/jiezi4ai/lib/python3.10/site-packages/tenacity/_utils.py:99\u001b[0m, in \u001b[0;36mwrap_to_async_func.<locals>.inner\u001b[0;34m(*args, **kwargs)\u001b[0m\n\u001b[1;32m     98\u001b[0m \u001b[38;5;28;01masync\u001b[39;00m \u001b[38;5;28;01mdef\u001b[39;00m \u001b[38;5;21minner\u001b[39m(\u001b[38;5;241m*\u001b[39margs: typing\u001b[38;5;241m.\u001b[39mAny, \u001b[38;5;241m*\u001b[39m\u001b[38;5;241m*\u001b[39mkwargs: typing\u001b[38;5;241m.\u001b[39mAny) \u001b[38;5;241m-\u001b[39m\u001b[38;5;241m>\u001b[39m typing\u001b[38;5;241m.\u001b[39mAny:\n\u001b[0;32m---> 99\u001b[0m     \u001b[38;5;28;01mreturn\u001b[39;00m \u001b[43mcall\u001b[49m\u001b[43m(\u001b[49m\u001b[38;5;241;43m*\u001b[39;49m\u001b[43margs\u001b[49m\u001b[43m,\u001b[49m\u001b[43m \u001b[49m\u001b[38;5;241;43m*\u001b[39;49m\u001b[38;5;241;43m*\u001b[39;49m\u001b[43mkwargs\u001b[49m\u001b[43m)\u001b[49m\n",
      "File \u001b[0;32m/opt/miniconda3/envs/jiezi4ai/lib/python3.10/site-packages/tenacity/__init__.py:419\u001b[0m, in \u001b[0;36mBaseRetrying._post_stop_check_actions.<locals>.exc_check\u001b[0;34m(rs)\u001b[0m\n\u001b[1;32m    417\u001b[0m \u001b[38;5;28;01mif\u001b[39;00m \u001b[38;5;28mself\u001b[39m\u001b[38;5;241m.\u001b[39mreraise:\n\u001b[1;32m    418\u001b[0m     \u001b[38;5;28;01mraise\u001b[39;00m retry_exc\u001b[38;5;241m.\u001b[39mreraise()\n\u001b[0;32m--> 419\u001b[0m \u001b[38;5;28;01mraise\u001b[39;00m retry_exc \u001b[38;5;28;01mfrom\u001b[39;00m \u001b[38;5;21;01mfut\u001b[39;00m\u001b[38;5;21;01m.\u001b[39;00m\u001b[38;5;21;01mexception\u001b[39;00m()\n",
      "\u001b[0;31mRetryError\u001b[0m: RetryError[<Future at 0x1280d1f00 state=finished raised ConnectionRefusedError>]"
     ]
    }
   ],
   "source": [
    "from semanticscholar import AsyncSemanticScholar\n",
    "s2_org = AsyncSemanticScholar()\n",
    "test = await s2_org.get_paper_references(paper_id='fe393c1a00db40cbbd08872e068bf211fdee07e0', limit=100)"
   ]
  },
  {
   "cell_type": "code",
   "execution_count": null,
   "id": "056b8467",
   "metadata": {},
   "outputs": [],
   "source": [
    "from semanticscholar import SemanticScholar\n",
    "s2_new = SemanticScholar()\n",
    "test_new = s2_org.get_paper_references(paper_id='fe393c1a00db40cbbd08872e068bf211fdee07e0', limit=100)"
   ]
  },
  {
   "cell_type": "code",
   "execution_count": 4,
   "id": "86e0661f",
   "metadata": {},
   "outputs": [],
   "source": [
    "from semanticscholar.Author import Author\n",
    "results_dict = [item.raw_data for item in result if isinstance(item, Author)]"
   ]
  },
  {
   "cell_type": "code",
   "execution_count": 19,
   "id": "02a11f9c",
   "metadata": {},
   "outputs": [],
   "source": [
    "s2_missing_abstract = set()\n",
    "for item in results_dict:\n",
    "    papers = item.get('papers')\n",
    "    if isinstance(papers, list) and len(papers):\n",
    "        for paper in papers:\n",
    "            s2_id = paper.get('paperId')\n",
    "            abstract = paper.get('abstract')\n",
    "            if abstract is None:\n",
    "                s2_missing_abstract.add(s2_id)"
   ]
  },
  {
   "cell_type": "code",
   "execution_count": 20,
   "id": "16d3a6a9",
   "metadata": {},
   "outputs": [
    {
     "data": {
      "text/plain": [
       "{'016939ac08aa063ad831c8a0200da0bf8f2ef814',\n",
       " '02acafa747b1cc7d6ccadb659c047d2827b05e39',\n",
       " '07b57da7137b7276432790b5251ddc13caff1fe4',\n",
       " '087b98a1043a42af7f03a47b96e3917628399bf8',\n",
       " '0b30814c1d5128ce76023212ab38e58591dcf03d',\n",
       " '0d1ec57726d2f7eef8e247b6a7c048ccbc80bd15',\n",
       " '0ebcf5861c81ab65c9bc839ce007819df55a99f0',\n",
       " '0ecd780d43820bdc5f23716a3680ccf140ebc07d',\n",
       " '10fb0598d79b7806890015d54a3de24cc9f72389',\n",
       " '1b8e768c2677a75b0a95e2a74d5f4cfa48dced56',\n",
       " '1d51d9f781d646264dc0e2e9d5377c20081e6f54',\n",
       " '20d09cd0ff9eeb016b5ad875e745e44583dd00a1',\n",
       " '21d74f7751db494c26b7a25ec42bd6a3c48edb04',\n",
       " '28e52e68824a2b1ddba9423c54d7ffbb4c8a76d9',\n",
       " '29352a5e1b1b21a515cd8716c925b7ba30efd97d',\n",
       " '2a5c1b98dc5cece3d5f6c02297b48631442a80c7',\n",
       " '2e98dd4eb01e4f1533ad01e7ae2db00017cd9bad',\n",
       " '313922ac9043f0d4f7ccf098d8b5e21de94e0667',\n",
       " '39f7be5afabfec3c07fc5dcc687b0fc46d85d1a4',\n",
       " '3a8779b3096abcc9708aeb8d8a6fd03ff0c163a9',\n",
       " '3d07384ef35e0708acb9db1db3bfb1c0694b97d5',\n",
       " '3d61528853df741ae6db14270b49e1bbfd14e7a8',\n",
       " '4c141a41ee69357af629c85a8e4cdd9fc02d803a',\n",
       " '5098e1f4af1c66fdfa1c812be6602fe83391a37a',\n",
       " '55dc58c96514500d2ba72e6827f6fdeb85d47951',\n",
       " '5a6fa63a1ef59dbd4bc28bde7c6ee84040fa92f4',\n",
       " '5ce7c54c05284946189fa7428fdd568f0c383de0',\n",
       " '5da4377402c9e9827eec64ecc66936375403a975',\n",
       " '735975e69ad08cf15b8a0539192088e43059c861',\n",
       " '77f84ee4b2a4630d8e687c18014776627e3ce5e6',\n",
       " '7d2bc884aea1b1843404d4b586af9ba6499ce297',\n",
       " '8b0dee4951b38a2bb9ef1e88696a922d8d139cd4',\n",
       " '8b62b3eeb34407a92a7d447d78ccefae0c7945c3',\n",
       " '8c1e6870dd5b11efe5771bb3d16094f612c12835',\n",
       " '8eca2da3ed0c17d0d975ada22fe7d2ee8eacdcfa',\n",
       " '90bfc6bea6e40a2e65b5f4c54d96038f083301cf',\n",
       " '9a149d283607e973cbc375a50e33528bcf42df42',\n",
       " '9e223df7af7da2b3dc3efdbe069880bfc546bcfb',\n",
       " 'aa07e62f04dfb8d114e43915737d4166b2220757',\n",
       " 'acb76e7d6bc81b9c61dfd811f1510dc6f97c8387',\n",
       " 'b070e8de22ebf692300730d7303fae8e1bdaf6af',\n",
       " 'b24cc530a168e287535aa4318ca9aebf811d843e',\n",
       " 'b293c61aaa66325894c2432e9ee11c326f22b8d6',\n",
       " 'b6150a6b8c60f6fe12736306a941eadc6e416ce5',\n",
       " 'b6fa1841fefdc92bcd4aa134b2965dd270c351c1',\n",
       " 'b8b9f3debc6f319f39713508e730475a17ade5e6',\n",
       " 'bb1609e3a3a9f80dae85dc2480d992c8772efc97',\n",
       " 'bb63ebdddbc2d5e758e490661c8a9a4ae933bd2e',\n",
       " 'be1ac466e964de120679454f613098d361b22994',\n",
       " 'c45a5c583426b886ce0ab3c71f7cbe5c6e90a787',\n",
       " 'c4611f41914f5250a764c75dc100216f4c50b3a0',\n",
       " 'c6490fb4213db092eafb35760c0c1f33969bc60c',\n",
       " 'cb61042d1fcc2492c8a913585f7d5a2ee633ef55',\n",
       " 'ce71ea6fd194cc7198fedb3faa94c9eebb033f49',\n",
       " 'dcbb12aab33659093d3ab619a0c0eb6f596b59c4',\n",
       " 'e6a9d49d7d794e425ceecd00e39cdfecf92e2c1f',\n",
       " 'eb412aa29b74428fb41573a200b93d38a1a64d7d',\n",
       " 'ebd71a5b8229b9a702d5f39c0d4b345479a8bb70',\n",
       " 'ecbff1fe6d11590ab22c055642d2a8d13761dda2',\n",
       " 'fb414cded3c1faf6cc658bda01365d31f25a53bc',\n",
       " 'fdd0c08a4a439cfdd291420de8472046741f7b80',\n",
       " 'fe393c1a00db40cbbd08872e068bf211fdee07e0',\n",
       " 'ffbf4540f4e3152d412c34ffc03d105d30e5ff18'}"
      ]
     },
     "execution_count": 20,
     "metadata": {},
     "output_type": "execute_result"
    }
   ],
   "source": [
    "s2_missing_abstract"
   ]
  },
  {
   "cell_type": "code",
   "execution_count": 7,
   "id": "6aae6289",
   "metadata": {},
   "outputs": [
    {
     "data": {
      "text/plain": [
       "dict"
      ]
     },
     "execution_count": 7,
     "metadata": {},
     "output_type": "execute_result"
    }
   ],
   "source": [
    "type(results_dict[0]['papers'][0])"
   ]
  },
  {
   "cell_type": "code",
   "execution_count": 8,
   "id": "d6d3bbeb",
   "metadata": {},
   "outputs": [
    {
     "data": {
      "text/plain": [
       "{1}"
      ]
     },
     "execution_count": 8,
     "metadata": {},
     "output_type": "execute_result"
    }
   ],
   "source": [
    "set({1,2,3}) - set({2,3,4})"
   ]
  },
  {
   "cell_type": "code",
   "execution_count": 9,
   "id": "bb1c2315",
   "metadata": {},
   "outputs": [],
   "source": [
    "author_by_paper = await s2.get_paper_authors(paper_id='a6aed0c4e0f39a55edb407f492e41f178a62907f')"
   ]
  },
  {
   "cell_type": "code",
   "execution_count": 10,
   "id": "6e1d514f",
   "metadata": {},
   "outputs": [
    {
     "data": {
      "text/plain": [
       "<semanticscholar.PaginatedResults.PaginatedResults at 0x1078dbb80>"
      ]
     },
     "execution_count": 10,
     "metadata": {},
     "output_type": "execute_result"
    }
   ],
   "source": [
    "author_by_paper"
   ]
  },
  {
   "cell_type": "code",
   "execution_count": 12,
   "id": "4ed32331",
   "metadata": {},
   "outputs": [
    {
     "data": {
      "text/plain": [
       "7"
      ]
     },
     "execution_count": 12,
     "metadata": {},
     "output_type": "execute_result"
    }
   ],
   "source": [
    "len(author_by_paper)"
   ]
  },
  {
   "cell_type": "code",
   "execution_count": 13,
   "id": "017f3396",
   "metadata": {},
   "outputs": [
    {
     "data": {
      "text/plain": [
       "semanticscholar.Author.Author"
      ]
     },
     "execution_count": 13,
     "metadata": {},
     "output_type": "execute_result"
    }
   ],
   "source": [
    "type(author_by_paper[0])"
   ]
  },
  {
   "cell_type": "code",
   "execution_count": null,
   "id": "5213bb10",
   "metadata": {},
   "outputs": [],
   "source": [
    "import logging\n",
    "logging.basicConfig(level=logging.INFO, format='%(asctime)s - %(levelname)s - %(message)s')\n",
    "logger = logging.getLogger(__name__)"
   ]
  },
  {
   "cell_type": "code",
   "execution_count": 5,
   "id": "85d89015",
   "metadata": {},
   "outputs": [],
   "source": [
    "a = []\n",
    "if a:\n",
    "    print(111)"
   ]
  },
  {
   "cell_type": "code",
   "execution_count": null,
   "id": "f8a7c325",
   "metadata": {},
   "outputs": [],
   "source": [
    "from semanticscholar import AsyncSemanticScholar, SemanticScholar, Paper, Author\n",
    "\n",
    "s2 = AsyncSemanticScholar()\n",
    "srch_results = await s2.search_paper(\n",
    "    query=\"PaperRobot: Incremental Draft Generation of Scientific Ideas\",\n",
    "    fields_of_study=['Computer Science'],\n",
    "    publication_types=['JournalArticle', 'Preprint', 'Review', 'Conference'],\n",
    "    match_title=True)"
   ]
  },
  {
   "cell_type": "code",
   "execution_count": null,
   "id": "e2b4c1a0",
   "metadata": {},
   "outputs": [],
   "source": [
    "srch_results"
   ]
  },
  {
   "cell_type": "code",
   "execution_count": null,
   "id": "0ffea6fb",
   "metadata": {},
   "outputs": [],
   "source": [
    "from semanticscholar import AsyncSemanticScholar, SemanticScholar, Paper, Author\n",
    "\n",
    "s2 = AsyncSemanticScholar()\n",
    "srch_results = await s2.search_paper(\n",
    "    query=\"PaperRobot: Incremental Dreft\",\n",
    "    fields_of_study=['Computer Science'],\n",
    "    publication_types=['JournalArticle', 'Preprint', 'Review', 'Conference'],\n",
    "    match_title=True)"
   ]
  },
  {
   "cell_type": "code",
   "execution_count": null,
   "id": "71d2f86a",
   "metadata": {},
   "outputs": [],
   "source": [
    "help(srch_results)"
   ]
  },
  {
   "cell_type": "code",
   "execution_count": null,
   "id": "0877778b",
   "metadata": {},
   "outputs": [],
   "source": [
    "srch_results.raw_data.get('abstract')"
   ]
  },
  {
   "cell_type": "code",
   "execution_count": null,
   "id": "e4dbc938",
   "metadata": {},
   "outputs": [],
   "source": [
    "srch_results.authors"
   ]
  },
  {
   "cell_type": "code",
   "execution_count": null,
   "id": "4db78803",
   "metadata": {},
   "outputs": [],
   "source": [
    "srch_results"
   ]
  },
  {
   "cell_type": "code",
   "execution_count": null,
   "id": "042f0c01",
   "metadata": {},
   "outputs": [],
   "source": [
    "author_results = await s2.search_paper"
   ]
  },
  {
   "cell_type": "code",
   "execution_count": null,
   "id": "2813c0b4",
   "metadata": {},
   "outputs": [],
   "source": [
    "author_1 = await s2.get_paper_authors(paper_id='a6aed0c4e0f39a55edb407f492e41f178a62907f')"
   ]
  },
  {
   "cell_type": "code",
   "execution_count": null,
   "id": "c2433b69",
   "metadata": {},
   "outputs": [],
   "source": [
    "for item in author_1:\n",
    "    print(item)"
   ]
  },
  {
   "cell_type": "code",
   "execution_count": null,
   "id": "bf908370",
   "metadata": {},
   "outputs": [],
   "source": [
    "author_1"
   ]
  },
  {
   "cell_type": "code",
   "execution_count": null,
   "id": "5f9408da",
   "metadata": {},
   "outputs": [],
   "source": [
    "a = set({1,2,3})\n",
    "a.add(4)"
   ]
  },
  {
   "cell_type": "code",
   "execution_count": null,
   "id": "966321a9",
   "metadata": {},
   "outputs": [],
   "source": [
    "a.update([4])"
   ]
  },
  {
   "cell_type": "code",
   "execution_count": null,
   "id": "98a9ac6a",
   "metadata": {},
   "outputs": [],
   "source": [
    "dct = {'a':1, 'b':2}"
   ]
  },
  {
   "cell_type": "code",
   "execution_count": null,
   "id": "cd5bf8ce",
   "metadata": {},
   "outputs": [],
   "source": [
    "list(dct.values())"
   ]
  },
  {
   "cell_type": "code",
   "execution_count": null,
   "id": "6cd44c8a",
   "metadata": {},
   "outputs": [],
   "source": [
    "i = 0\n",
    "for item in srch_results:\n",
    "    if i < 10:\n",
    "        print(item._data)\n",
    "        i += 1\n",
    "    else:\n",
    "        break"
   ]
  },
  {
   "cell_type": "code",
   "execution_count": null,
   "id": "2e7393ee",
   "metadata": {},
   "outputs": [],
   "source": [
    "srch_results = await s2.search_paper(\n",
    "    query=\"llm for knowledge graph\",\n",
    "    fields_of_study=['Computer Science'],\n",
    "    publication_types=['Review'])"
   ]
  },
  {
   "cell_type": "code",
   "execution_count": null,
   "id": "395fd4b4",
   "metadata": {},
   "outputs": [],
   "source": [
    "i = 0\n",
    "for item in srch_results:\n",
    "    if i < 10:\n",
    "        print(item._data['title'])\n",
    "        i += 1\n",
    "    else:\n",
    "        break"
   ]
  },
  {
   "cell_type": "code",
   "execution_count": null,
   "id": "d5e749b5",
   "metadata": {},
   "outputs": [],
   "source": [
    "srch_results = await s2.search_paper(\n",
    "    query=\"llm for knowledge graph\",\n",
    "    fields_of_study=['Computer Science'],\n",
    "    publication_types=['JournalArticle', 'Preprint', 'Review', 'Conference'])"
   ]
  },
  {
   "cell_type": "code",
   "execution_count": null,
   "id": "1742cf30",
   "metadata": {},
   "outputs": [],
   "source": [
    "srch_results"
   ]
  },
  {
   "cell_type": "code",
   "execution_count": null,
   "id": "2a7aa274",
   "metadata": {},
   "outputs": [],
   "source": [
    "i = 0\n",
    "for item in srch_results:\n",
    "    if i < 10:\n",
    "        print(item._data['title'])\n",
    "        i += 1\n",
    "    else:\n",
    "        break"
   ]
  },
  {
   "cell_type": "code",
   "execution_count": null,
   "id": "e40fd2f3",
   "metadata": {},
   "outputs": [],
   "source": [
    "set({1,2,3}) | set({2,3,4})"
   ]
  },
  {
   "cell_type": "code",
   "execution_count": null,
   "id": "26e0ded5",
   "metadata": {},
   "outputs": [],
   "source": [
    "a = set({1,2,3})\n",
    "b = set({2,3,4})"
   ]
  },
  {
   "cell_type": "code",
   "execution_count": null,
   "id": "e9500269",
   "metadata": {},
   "outputs": [],
   "source": [
    "x = a"
   ]
  },
  {
   "cell_type": "code",
   "execution_count": null,
   "id": "7ea2cdc9",
   "metadata": {},
   "outputs": [],
   "source": [
    "x.update([3,4,5])"
   ]
  },
  {
   "cell_type": "code",
   "execution_count": null,
   "id": "f0469a66",
   "metadata": {},
   "outputs": [],
   "source": [
    "x"
   ]
  },
  {
   "cell_type": "code",
   "execution_count": null,
   "id": "6b9dfd7c",
   "metadata": {},
   "outputs": [],
   "source": [
    "a"
   ]
  },
  {
   "cell_type": "code",
   "execution_count": null,
   "id": "c774cfd0",
   "metadata": {},
   "outputs": [],
   "source": [
    "from s2_api import SemanticScholarKit\n",
    "s2 = SemanticScholarKit()"
   ]
  },
  {
   "cell_type": "code",
   "execution_count": 3,
   "id": "73f0dba6",
   "metadata": {},
   "outputs": [
    {
     "name": "stderr",
     "output_type": "stream",
     "text": [
      "2025-04-25 11:04:10,405 - INFO - SemanticScholarKit initialized with max_concurrency=20, sleep_interval=3.0s\n",
      "2025-04-25 11:04:10,406 - INFO - async_search_paper_by_keywords: Searching papers by keyword: 'aperRobot: Incremental Draft Genera...' with effective limit 100.\n",
      "2025-04-25 11:04:10,407 - INFO - _sync_search_paper_by_keywords: Thread started for query 'aperRobot: Incremental Draft Genera...' with limit 100.\n",
      "2025-04-25 11:04:11,565 - INFO - HTTP Request: GET https://api.semanticscholar.org/graph/v1/paper/search/match?query=aperRobot%3A%20Incremental%20Draft%20Genera&fields=abstract%2Cauthors%2CcitationCount%2CcitationStyles%2CcorpusId%2CexternalIds%2CfieldsOfStudy%2CinfluentialCitationCount%2CisOpenAccess%2Cjournal%2CopenAccessPdf%2CpaperId%2CpublicationDate%2CpublicationTypes%2CpublicationVenue%2CreferenceCount%2Cs2FieldsOfStudy%2Ctitle%2Curl%2Cvenue%2Cyear&offset=0&limit=100 \"HTTP/1.1 404 Not Found\"\n",
      "2025-04-25 11:04:11,567 - ERROR - Error in _sync_search_paper_by_keywords for query 'aperRobot: Incremental Draft Genera...': Title match not found\n",
      "Traceback (most recent call last):\n",
      "  File \"/Users/jiezi/Documents/Local Code/Project/ResearchTree/src/apis/s2_api.py\", line 110, in _sync_search_paper_by_keywords\n",
      "    results = self.scholar.search_paper(**kwargs)\n",
      "  File \"/opt/miniconda3/envs/jiezi4ai/lib/python3.10/site-packages/semanticscholar/SemanticScholar.py\", line 359, in search_paper\n",
      "    results = loop.run_until_complete(\n",
      "  File \"/opt/miniconda3/envs/jiezi4ai/lib/python3.10/site-packages/nest_asyncio.py\", line 98, in run_until_complete\n",
      "    return f.result()\n",
      "  File \"/opt/miniconda3/envs/jiezi4ai/lib/python3.10/asyncio/futures.py\", line 201, in result\n",
      "    raise self._exception.with_traceback(self._exception_tb)\n",
      "  File \"/opt/miniconda3/envs/jiezi4ai/lib/python3.10/asyncio/tasks.py\", line 232, in __step\n",
      "    result = coro.send(None)\n",
      "  File \"/opt/miniconda3/envs/jiezi4ai/lib/python3.10/site-packages/semanticscholar/AsyncSemanticScholar.py\", line 513, in search_paper\n",
      "    results = await PaginatedResults.create(\n",
      "  File \"/opt/miniconda3/envs/jiezi4ai/lib/python3.10/site-packages/semanticscholar/PaginatedResults.py\", line 54, in create\n",
      "    await obj._async_get_next_page()\n",
      "  File \"/opt/miniconda3/envs/jiezi4ai/lib/python3.10/site-packages/semanticscholar/PaginatedResults.py\", line 148, in _async_get_next_page\n",
      "    results = await self._request_data()\n",
      "  File \"/opt/miniconda3/envs/jiezi4ai/lib/python3.10/site-packages/semanticscholar/PaginatedResults.py\", line 135, in _request_data\n",
      "    return await self._requester.get_data_async(\n",
      "  File \"/opt/miniconda3/envs/jiezi4ai/lib/python3.10/site-packages/semanticscholar/ApiRequester.py\", line 90, in get_data_async\n",
      "    return await self._get_data_async(\n",
      "  File \"/opt/miniconda3/envs/jiezi4ai/lib/python3.10/site-packages/tenacity/asyncio/__init__.py\", line 189, in async_wrapped\n",
      "    return await copy(fn, *args, **kwargs)\n",
      "  File \"/opt/miniconda3/envs/jiezi4ai/lib/python3.10/site-packages/tenacity/asyncio/__init__.py\", line 111, in __call__\n",
      "    do = await self.iter(retry_state=retry_state)\n",
      "  File \"/opt/miniconda3/envs/jiezi4ai/lib/python3.10/site-packages/tenacity/asyncio/__init__.py\", line 153, in iter\n",
      "    result = await action(retry_state)\n",
      "  File \"/opt/miniconda3/envs/jiezi4ai/lib/python3.10/site-packages/tenacity/_utils.py\", line 99, in inner\n",
      "    return call(*args, **kwargs)\n",
      "  File \"/opt/miniconda3/envs/jiezi4ai/lib/python3.10/site-packages/tenacity/__init__.py\", line 398, in <lambda>\n",
      "    self._add_action_func(lambda rs: rs.outcome.result())\n",
      "  File \"/opt/miniconda3/envs/jiezi4ai/lib/python3.10/concurrent/futures/_base.py\", line 451, in result\n",
      "    return self.__get_result()\n",
      "  File \"/opt/miniconda3/envs/jiezi4ai/lib/python3.10/concurrent/futures/_base.py\", line 403, in __get_result\n",
      "    raise self._exception\n",
      "  File \"/opt/miniconda3/envs/jiezi4ai/lib/python3.10/site-packages/tenacity/asyncio/__init__.py\", line 114, in __call__\n",
      "    result = await fn(*args, **kwargs)\n",
      "  File \"/opt/miniconda3/envs/jiezi4ai/lib/python3.10/site-packages/semanticscholar/ApiRequester.py\", line 134, in _get_data_async\n",
      "    raise ObjectNotFoundException(data['error'])\n",
      "semanticscholar.SemanticScholarException.ObjectNotFoundException: Title match not found\n"
     ]
    }
   ],
   "source": [
    "from s2_api import SemanticScholarKit\n",
    "s2 = SemanticScholarKit()\n",
    "result = await s2.async_search_paper_by_keywords(\n",
    "    query='aperRobot: Incremental Draft Genera', \n",
    "    match_title=True)"
   ]
  },
  {
   "cell_type": "code",
   "execution_count": 4,
   "id": "4f86f494",
   "metadata": {},
   "outputs": [
    {
     "data": {
      "text/plain": [
       "[]"
      ]
     },
     "execution_count": 4,
     "metadata": {},
     "output_type": "execute_result"
    }
   ],
   "source": [
    "result"
   ]
  },
  {
   "cell_type": "code",
   "execution_count": null,
   "id": "4019d90e",
   "metadata": {},
   "outputs": [],
   "source": []
  }
 ],
 "metadata": {
  "kernelspec": {
   "display_name": "ai4fun",
   "language": "python",
   "name": "python3"
  },
  "language_info": {
   "codemirror_mode": {
    "name": "ipython",
    "version": 3
   },
   "file_extension": ".py",
   "mimetype": "text/x-python",
   "name": "python",
   "nbconvert_exporter": "python",
   "pygments_lexer": "ipython3",
   "version": "3.10.13"
  }
 },
 "nbformat": 4,
 "nbformat_minor": 5
}
