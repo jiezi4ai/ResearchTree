{
 "cells": [
  {
   "cell_type": "code",
   "execution_count": 14,
   "id": "5213bb10",
   "metadata": {},
   "outputs": [],
   "source": [
    "import logging\n",
    "logging.basicConfig(level=logging.INFO, format='%(asctime)s - %(levelname)s - %(message)s')\n",
    "logger = logging.getLogger(__name__)"
   ]
  },
  {
   "cell_type": "code",
   "execution_count": null,
   "id": "f8a7c325",
   "metadata": {},
   "outputs": [
    {
     "name": "stderr",
     "output_type": "stream",
     "text": [
      "/opt/miniconda3/envs/jiezi4ai/lib/python3.10/site-packages/semanticscholar/AsyncSemanticScholar.py:48: UserWarning: The debug parameter is deprecated and will be removed in a                 future release. Use Python's standard logging in DEBUG level                 instead.\n",
      "  warnings.warn(\n",
      "DEBUG:semanticscholar:HTTP Request: GET https://api.semanticscholar.org/graph/v1/paper/search/match\n",
      "DEBUG:semanticscholar:Headers: {}\n",
      "DEBUG:semanticscholar:Payload: None\n",
      "DEBUG:semanticscholar:cURL command: curl -X GET https://api.semanticscholar.org/graph/v1/paper/search/match\n",
      "DEBUG:httpx:load_ssl_context verify=True cert=None trust_env=True http2=False\n",
      "DEBUG:httpx:load_verify_locations cafile='/opt/miniconda3/envs/jiezi4ai/lib/python3.10/site-packages/certifi/cacert.pem'\n",
      "DEBUG:httpcore.connection:connect_tcp.started host='api.semanticscholar.org' port=443 local_address=None timeout=30 socket_options=None\n",
      "DEBUG:httpcore.connection:connect_tcp.complete return_value=<httpcore._backends.anyio.AnyIOStream object at 0x11113d930>\n",
      "DEBUG:httpcore.connection:start_tls.started ssl_context=<ssl.SSLContext object at 0x103ed9140> server_hostname='api.semanticscholar.org' timeout=30\n",
      "DEBUG:httpcore.connection:start_tls.complete return_value=<httpcore._backends.anyio.AnyIOStream object at 0x11113ea40>\n",
      "DEBUG:httpcore.http11:send_request_headers.started request=<Request [b'GET']>\n",
      "DEBUG:httpcore.http11:send_request_headers.complete\n",
      "DEBUG:httpcore.http11:send_request_body.started request=<Request [b'GET']>\n",
      "DEBUG:httpcore.http11:send_request_body.complete\n",
      "DEBUG:httpcore.http11:receive_response_headers.started request=<Request [b'GET']>\n",
      "DEBUG:httpcore.http11:receive_response_headers.complete return_value=(b'HTTP/1.1', 200, b'OK', [(b'Content-Type', b'application/json'), (b'Content-Length', b'3508'), (b'Connection', b'keep-alive'), (b'Date', b'Thu, 24 Apr 2025 08:00:30 GMT'), (b'x-amzn-Remapped-Date', b'Thu, 24 Apr 2025 08:00:30 GMT'), (b'x-amzn-RequestId', b'828245ec-f8f7-4644-ae01-b8d0c2660deb'), (b'Access-Control-Allow-Origin', b'*'), (b'x-amzn-Remapped-Content-Length', b'3508'), (b'x-amzn-Remapped-Connection', b'keep-alive'), (b'x-amz-apigw-id', b'JhJguEOGPHcEqNg='), (b'x-amzn-Remapped-Server', b'gunicorn'), (b'X-Cache', b'Miss from cloudfront'), (b'Via', b'1.1 e7ed7eb75a85fa319ecec449d025f172.cloudfront.net (CloudFront)'), (b'X-Amz-Cf-Pop', b'PHX50-C2'), (b'X-Amz-Cf-Id', b'uRe0JKFIQJHgFMmkZl6iDNPVuuAtpHmIiD3yx6gWEHMkMYrGgjDe2w==')])\n",
      "INFO:httpx:HTTP Request: GET https://api.semanticscholar.org/graph/v1/paper/search/match?query=PaperRobot%3A%20Incremental%20Draft%20Generation%20of%20Scientific%20Ideas&publicationTypes=JournalArticle%2CPreprint%2CReview%2CConference&fieldsOfStudy=Computer%20Science&fields=abstract%2Cauthors%2CcitationCount%2CcitationStyles%2CcorpusId%2CexternalIds%2CfieldsOfStudy%2CinfluentialCitationCount%2CisOpenAccess%2Cjournal%2CopenAccessPdf%2CpaperId%2CpublicationDate%2CpublicationTypes%2CpublicationVenue%2CreferenceCount%2Cs2FieldsOfStudy%2Ctitle%2Curl%2Cvenue%2Cyear&offset=0&limit=100 \"HTTP/1.1 200 OK\"\n",
      "DEBUG:httpcore.http11:receive_response_body.started request=<Request [b'GET']>\n",
      "DEBUG:httpcore.http11:receive_response_body.complete\n",
      "DEBUG:httpcore.http11:response_closed.started\n",
      "DEBUG:httpcore.http11:response_closed.complete\n",
      "DEBUG:httpcore.connection:close.started\n",
      "DEBUG:httpcore.connection:close.complete\n"
     ]
    }
   ],
   "source": [
    "from semanticscholar import AsyncSemanticScholar, SemanticScholar, Paper, Author\n",
    "\n",
    "s2 = AsyncSemanticScholar()\n",
    "srch_results = await s2.search_paper(\n",
    "    query=\"PaperRobot: Incremental Draft Generation of Scientific Ideas\",\n",
    "    fields_of_study=['Computer Science'],\n",
    "    publication_types=['JournalArticle', 'Preprint', 'Review', 'Conference'],\n",
    "    match_title=True)"
   ]
  },
  {
   "cell_type": "code",
   "execution_count": 8,
   "id": "0ffea6fb",
   "metadata": {},
   "outputs": [
    {
     "data": {
      "text/plain": [
       "semanticscholar.Paper.Paper"
      ]
     },
     "execution_count": 8,
     "metadata": {},
     "output_type": "execute_result"
    }
   ],
   "source": [
    "type(srch_results)"
   ]
  },
  {
   "cell_type": "code",
   "execution_count": 10,
   "id": "71d2f86a",
   "metadata": {},
   "outputs": [
    {
     "name": "stdout",
     "output_type": "stream",
     "text": [
      "Help on Paper in module semanticscholar.Paper object:\n",
      "\n",
      "class Paper(semanticscholar.SemanticScholarObject.SemanticScholarObject)\n",
      " |  Paper(data) -> None\n",
      " |  \n",
      " |  This class abstracts a paper.\n",
      " |  \n",
      " |  Method resolution order:\n",
      " |      Paper\n",
      " |      semanticscholar.SemanticScholarObject.SemanticScholarObject\n",
      " |      builtins.object\n",
      " |  \n",
      " |  Methods defined here:\n",
      " |  \n",
      " |  __init__(self, data) -> None\n",
      " |      Initialize self.  See help(type(self)) for accurate signature.\n",
      " |  \n",
      " |  ----------------------------------------------------------------------\n",
      " |  Readonly properties defined here:\n",
      " |  \n",
      " |  abstract\n",
      " |      :type: :class:`str`\n",
      " |  \n",
      " |  authors\n",
      " |      :type: :class:`list`\n",
      " |  \n",
      " |  citationCount\n",
      " |      :type: :class:`int`\n",
      " |  \n",
      " |  citationStyles\n",
      " |      :type: :class:`dict`\n",
      " |  \n",
      " |  citations\n",
      " |      :type: :class:`list`\n",
      " |  \n",
      " |  corpusId\n",
      " |      :type: :class:`str`\n",
      " |  \n",
      " |  embedding\n",
      " |      :type: :class:`dict`\n",
      " |  \n",
      " |  externalIds\n",
      " |      :type: :class:`dict`\n",
      " |  \n",
      " |  fieldsOfStudy\n",
      " |      :type: :class:`list`\n",
      " |  \n",
      " |  influentialCitationCount\n",
      " |      :type: :class:`int`\n",
      " |  \n",
      " |  isOpenAccess\n",
      " |      :type: :class:`bool`\n",
      " |  \n",
      " |  journal\n",
      " |      :type: :class:`semanticscholar.Journal.Journal`\n",
      " |  \n",
      " |  openAccessPdf\n",
      " |      :type: :class:`dict`\n",
      " |  \n",
      " |  paperId\n",
      " |      :type: :class:`str`\n",
      " |  \n",
      " |  publicationDate\n",
      " |      :type: :class:`datetime`\n",
      " |  \n",
      " |  publicationTypes\n",
      " |      :type: :class:`list`\n",
      " |  \n",
      " |  publicationVenue\n",
      " |      :type: :class:`semanticscholar.PublicationVenue.PublicationVenue`\n",
      " |  \n",
      " |  referenceCount\n",
      " |      :type: :class:`int`\n",
      " |  \n",
      " |  references\n",
      " |      :type: :class:`list`\n",
      " |  \n",
      " |  s2FieldsOfStudy\n",
      " |      :type: :class:`list`\n",
      " |  \n",
      " |  title\n",
      " |      :type: :class:`str`\n",
      " |  \n",
      " |  tldr\n",
      " |      :type: :class:`semanticscholar.Tldr.Tldr`\n",
      " |  \n",
      " |  url\n",
      " |      :type: :class:`str`\n",
      " |  \n",
      " |  venue\n",
      " |      :type: :class:`str`\n",
      " |  \n",
      " |  year\n",
      " |      :type: :class:`int`\n",
      " |  \n",
      " |  ----------------------------------------------------------------------\n",
      " |  Data and other attributes defined here:\n",
      " |  \n",
      " |  FIELDS = ['abstract', 'authors', 'authors.affiliations', 'authors.auth...\n",
      " |  \n",
      " |  SEARCH_FIELDS = ['abstract', 'authors', 'citationCount', 'citationStyl...\n",
      " |  \n",
      " |  ----------------------------------------------------------------------\n",
      " |  Methods inherited from semanticscholar.SemanticScholarObject.SemanticScholarObject:\n",
      " |  \n",
      " |  __getitem__(self, key) -> Any\n",
      " |  \n",
      " |  __repr__(self) -> Any\n",
      " |      Return repr(self).\n",
      " |  \n",
      " |  __str__(self) -> str\n",
      " |      Return str(self).\n",
      " |  \n",
      " |  keys(self) -> list\n",
      " |      Returns a list of all keys in the API response data.\n",
      " |      \n",
      " |      :rtype: :class:`list`\n",
      " |  \n",
      " |  ----------------------------------------------------------------------\n",
      " |  Readonly properties inherited from semanticscholar.SemanticScholarObject.SemanticScholarObject:\n",
      " |  \n",
      " |  raw_data\n",
      " |      The API response data in its original JSON structure,\n",
      " |      represented as a `dict`.\n",
      " |      \n",
      " |      :type: :class:`dict`\n",
      " |  \n",
      " |  ----------------------------------------------------------------------\n",
      " |  Data descriptors inherited from semanticscholar.SemanticScholarObject.SemanticScholarObject:\n",
      " |  \n",
      " |  __dict__\n",
      " |      dictionary for instance variables (if defined)\n",
      " |  \n",
      " |  __weakref__\n",
      " |      list of weak references to the object (if defined)\n",
      "\n"
     ]
    }
   ],
   "source": [
    "help(srch_results)"
   ]
  },
  {
   "cell_type": "code",
   "execution_count": 13,
   "id": "0877778b",
   "metadata": {},
   "outputs": [
    {
     "data": {
      "text/plain": [
       "'We present a PaperRobot who performs as an automatic research assistant by (1) conducting deep understanding of a large collection of human-written papers in a target domain and constructing comprehensive background knowledge graphs (KGs); (2) creating new ideas by predicting links from the background KGs, by combining graph attention and contextual text attention; (3) incrementally writing some key elements of a new paper based on memory-attention networks: from the input title along with predicted related entities to generate a paper abstract, from the abstract to generate conclusion and future work, and finally from future work to generate a title for a follow-on paper. Turing Tests, where a biomedical domain expert is asked to compare a system output and a human-authored string, show PaperRobot generated abstracts, conclusion and future work sections, and new titles are chosen over human-written ones up to 30%, 24% and 12% of the time, respectively.'"
      ]
     },
     "execution_count": 13,
     "metadata": {},
     "output_type": "execute_result"
    }
   ],
   "source": [
    "srch_results.raw_data.get('abstract')"
   ]
  },
  {
   "cell_type": "code",
   "execution_count": 16,
   "id": "e4dbc938",
   "metadata": {},
   "outputs": [
    {
     "data": {
      "text/plain": [
       "[{'authorId': '1786863', 'name': 'Qingyun Wang'},\n",
       " {'authorId': '34170717', 'name': 'Lifu Huang'},\n",
       " {'authorId': None, 'name': 'Zhiying Jiang'},\n",
       " {'authorId': '152971314', 'name': 'Kevin Knight'},\n",
       " {'authorId': '144016781', 'name': 'Heng Ji'},\n",
       " {'authorId': '143977268', 'name': 'Mohit Bansal'},\n",
       " {'authorId': '145081697', 'name': 'Yi Luan'}]"
      ]
     },
     "execution_count": 16,
     "metadata": {},
     "output_type": "execute_result"
    }
   ],
   "source": [
    "srch_results.authors"
   ]
  },
  {
   "cell_type": "code",
   "execution_count": 17,
   "id": "4db78803",
   "metadata": {},
   "outputs": [
    {
     "data": {
      "text/plain": [
       "{'paperId': 'a6aed0c4e0f39a55edb407f492e41f178a62907f', 'externalIds': {'MAG': '2945165791', 'DBLP': 'journals/corr/abs-1905-07870', 'ArXiv': '1905.07870', 'ACL': 'P19-1191', 'DOI': '10.18653/v1/P19-1191', 'CorpusId': 159040684}, 'corpusId': 159040684, 'publicationVenue': {'id': '1e33b3be-b2ab-46e9-96e8-d4eb4bad6e44', 'name': 'Annual Meeting of the Association for Computational Linguistics', 'type': 'conference', 'alternate_names': ['Annu Meet Assoc Comput Linguistics', 'Meeting of the Association for Computational Linguistics', 'ACL', 'Meet Assoc Comput Linguistics'], 'url': 'https://www.aclweb.org/anthology/venues/acl/'}, 'url': 'https://www.semanticscholar.org/paper/a6aed0c4e0f39a55edb407f492e41f178a62907f', 'title': 'PaperRobot: Incremental Draft Generation of Scientific Ideas', 'abstract': 'We present a PaperRobot who performs as an automatic research assistant by (1) conducting deep understanding of a large collection of human-written papers in a target domain and constructing comprehensive background knowledge graphs (KGs); (2) creating new ideas by predicting links from the background KGs, by combining graph attention and contextual text attention; (3) incrementally writing some key elements of a new paper based on memory-attention networks: from the input title along with predicted related entities to generate a paper abstract, from the abstract to generate conclusion and future work, and finally from future work to generate a title for a follow-on paper. Turing Tests, where a biomedical domain expert is asked to compare a system output and a human-authored string, show PaperRobot generated abstracts, conclusion and future work sections, and new titles are chosen over human-written ones up to 30%, 24% and 12% of the time, respectively.', 'venue': 'Annual Meeting of the Association for Computational Linguistics', 'year': 2019, 'referenceCount': 63, 'citationCount': 54, 'influentialCitationCount': 6, 'isOpenAccess': True, 'openAccessPdf': {'url': 'https://www.aclweb.org/anthology/P19-1191.pdf', 'status': 'HYBRID', 'license': 'CCBY', 'disclaimer': 'Notice: This abstract is extracted from the open access paper or abstract available at https://arxiv.org/abs/1905.07870, which is subject to the license by the author or copyright owner provided with this content. Please go to the source to verify the license and copyright information for your use.'}, 'fieldsOfStudy': ['Computer Science'], 's2FieldsOfStudy': [{'category': 'Computer Science', 'source': 'external'}, {'category': 'Computer Science', 'source': 's2-fos-model'}], 'publicationTypes': ['JournalArticle', 'Conference'], 'publicationDate': '2019-05-20', 'journal': {'name': 'ArXiv', 'volume': 'abs/1905.07870'}, 'citationStyles': {'bibtex': '@Article{Wang2019PaperRobotID,\\n author = {Qingyun Wang and Lifu Huang and Zhiying Jiang and Kevin Knight and Heng Ji and Mohit Bansal and Yi Luan},\\n booktitle = {Annual Meeting of the Association for Computational Linguistics},\\n journal = {ArXiv},\\n title = {PaperRobot: Incremental Draft Generation of Scientific Ideas},\\n volume = {abs/1905.07870},\\n year = {2019}\\n}\\n'}, 'authors': [{'authorId': '1786863', 'name': 'Qingyun Wang'}, {'authorId': '34170717', 'name': 'Lifu Huang'}, {'authorId': None, 'name': 'Zhiying Jiang'}, {'authorId': '152971314', 'name': 'Kevin Knight'}, {'authorId': '144016781', 'name': 'Heng Ji'}, {'authorId': '143977268', 'name': 'Mohit Bansal'}, {'authorId': '145081697', 'name': 'Yi Luan'}], 'matchScore': 220.2891}"
      ]
     },
     "execution_count": 17,
     "metadata": {},
     "output_type": "execute_result"
    }
   ],
   "source": [
    "srch_results"
   ]
  },
  {
   "cell_type": "code",
   "execution_count": null,
   "id": "042f0c01",
   "metadata": {},
   "outputs": [
    {
     "data": {
      "text/plain": [
       "{1, 2, 3, 4}"
      ]
     },
     "execution_count": 6,
     "metadata": {},
     "output_type": "execute_result"
    }
   ],
   "source": [
    "author_results = await s2.search_paper"
   ]
  },
  {
   "cell_type": "code",
   "execution_count": 18,
   "id": "2813c0b4",
   "metadata": {},
   "outputs": [
    {
     "name": "stderr",
     "output_type": "stream",
     "text": [
      "DEBUG:semanticscholar:HTTP Request: GET https://api.semanticscholar.org/graph/v1/paper/a6aed0c4e0f39a55edb407f492e41f178a62907f/authors\n",
      "DEBUG:semanticscholar:Headers: None\n",
      "DEBUG:semanticscholar:Payload: None\n",
      "DEBUG:semanticscholar:cURL command: curl -X GET https://api.semanticscholar.org/graph/v1/paper/a6aed0c4e0f39a55edb407f492e41f178a62907f/authors\n",
      "DEBUG:httpx:load_ssl_context verify=True cert=None trust_env=True http2=False\n",
      "DEBUG:httpx:load_verify_locations cafile='/opt/miniconda3/envs/jiezi4ai/lib/python3.10/site-packages/certifi/cacert.pem'\n",
      "DEBUG:httpcore.connection:connect_tcp.started host='api.semanticscholar.org' port=443 local_address=None timeout=30 socket_options=None\n",
      "DEBUG:httpcore.connection:connect_tcp.complete return_value=<httpcore._backends.anyio.AnyIOStream object at 0x11142bf40>\n",
      "DEBUG:httpcore.connection:start_tls.started ssl_context=<ssl.SSLContext object at 0x111793040> server_hostname='api.semanticscholar.org' timeout=30\n",
      "DEBUG:httpcore.connection:start_tls.complete return_value=<httpcore._backends.anyio.AnyIOStream object at 0x1115fe410>\n",
      "DEBUG:httpcore.http11:send_request_headers.started request=<Request [b'GET']>\n",
      "DEBUG:httpcore.http11:send_request_headers.complete\n",
      "DEBUG:httpcore.http11:send_request_body.started request=<Request [b'GET']>\n",
      "DEBUG:httpcore.http11:send_request_body.complete\n",
      "DEBUG:httpcore.http11:receive_response_headers.started request=<Request [b'GET']>\n",
      "DEBUG:httpcore.http11:receive_response_headers.complete return_value=(b'HTTP/1.1', 200, b'OK', [(b'Content-Type', b'application/json'), (b'Content-Length', b'1828'), (b'Connection', b'keep-alive'), (b'Date', b'Thu, 24 Apr 2025 08:58:21 GMT'), (b'x-amzn-Remapped-Date', b'Thu, 24 Apr 2025 08:58:21 GMT'), (b'x-amzn-RequestId', b'eb9c0149-555d-40cb-8606-c869b89ae9f1'), (b'Access-Control-Allow-Origin', b'*'), (b'x-amzn-Remapped-Content-Length', b'1828'), (b'x-amzn-Remapped-Connection', b'keep-alive'), (b'x-amz-apigw-id', b'JhR_GGKyPHcEUqQ='), (b'x-amzn-Remapped-Server', b'gunicorn'), (b'X-Cache', b'Miss from cloudfront'), (b'Via', b'1.1 cd5b32a9ae39315ee42c37bf95fc4a1a.cloudfront.net (CloudFront)'), (b'X-Amz-Cf-Pop', b'PHX50-C2'), (b'X-Amz-Cf-Id', b'uoII3kaX5ufxwcyHt_VWIR6quIRmF4rf9MLXCAWC8RCW2LbNDLnFag==')])\n",
      "INFO:httpx:HTTP Request: GET https://api.semanticscholar.org/graph/v1/paper/a6aed0c4e0f39a55edb407f492e41f178a62907f/authors?fields=affiliations%2CauthorId%2CcitationCount%2CexternalIds%2ChIndex%2Chomepage%2Cname%2CpaperCount%2Curl&offset=0&limit=100 \"HTTP/1.1 200 OK\"\n",
      "DEBUG:httpcore.http11:receive_response_body.started request=<Request [b'GET']>\n",
      "DEBUG:httpcore.http11:receive_response_body.complete\n",
      "DEBUG:httpcore.http11:response_closed.started\n",
      "DEBUG:httpcore.http11:response_closed.complete\n",
      "DEBUG:httpcore.connection:close.started\n",
      "DEBUG:httpcore.connection:close.complete\n"
     ]
    }
   ],
   "source": [
    "author_1 = await s2.get_paper_authors(paper_id='a6aed0c4e0f39a55edb407f492e41f178a62907f')"
   ]
  },
  {
   "cell_type": "code",
   "execution_count": 20,
   "id": "c2433b69",
   "metadata": {},
   "outputs": [
    {
     "name": "stdout",
     "output_type": "stream",
     "text": [
      "{'authorId': '1786863', 'externalIds': {'DBLP': ['Qingyun Wang 0005'], 'ORCID': '0000-0002-2659-6100'}, 'url': 'https://www.semanticscholar.org/author/1786863', 'name': 'Qingyun Wang', 'affiliations': ['University of Illinois at Urbana-Champaign'], 'homepage': 'https://eaglew.github.io/', 'paperCount': 28, 'citationCount': 689, 'hIndex': 10}\n",
      "{'authorId': '34170717', 'externalIds': {'DBLP': ['Lifu Huang']}, 'url': 'https://www.semanticscholar.org/author/34170717', 'name': 'Lifu Huang', 'affiliations': [], 'homepage': None, 'paperCount': 78, 'citationCount': 3056, 'hIndex': 28}\n",
      "{'authorId': None, 'externalIds': None, 'url': None, 'name': 'Zhiying Jiang', 'affiliations': None, 'homepage': None, 'paperCount': None, 'citationCount': None, 'hIndex': None}\n",
      "{'authorId': '152971314', 'externalIds': {'DBLP': ['Kevin Knight']}, 'url': 'https://www.semanticscholar.org/author/152971314', 'name': 'Kevin Knight', 'affiliations': [], 'homepage': None, 'paperCount': 248, 'citationCount': 20616, 'hIndex': 70}\n",
      "{'authorId': '144016781', 'externalIds': {'DBLP': ['Heng Ji', 'Hua Ji', 'Huaimeng Ji']}, 'url': 'https://www.semanticscholar.org/author/144016781', 'name': 'Heng Ji', 'affiliations': [], 'homepage': None, 'paperCount': 313, 'citationCount': 13282, 'hIndex': 57}\n",
      "{'authorId': '143977268', 'externalIds': {'DBLP': ['Mohit Bansal']}, 'url': 'https://www.semanticscholar.org/author/143977268', 'name': 'Mohit Bansal', 'affiliations': ['UNC Chapel Hill'], 'homepage': 'http://www.cs.unc.edu/~mbansal/', 'paperCount': 310, 'citationCount': 24152, 'hIndex': 76}\n",
      "{'authorId': '145081697', 'externalIds': {'DBLP': ['Yi Luan']}, 'url': 'https://www.semanticscholar.org/author/145081697', 'name': 'Yi Luan', 'affiliations': [], 'homepage': None, 'paperCount': 48, 'citationCount': 2691, 'hIndex': 18}\n"
     ]
    }
   ],
   "source": [
    "for item in author_1:\n",
    "    print(item)"
   ]
  },
  {
   "cell_type": "code",
   "execution_count": 21,
   "id": "bf908370",
   "metadata": {},
   "outputs": [
    {
     "data": {
      "text/plain": [
       "<semanticscholar.PaginatedResults.PaginatedResults at 0x11113d840>"
      ]
     },
     "execution_count": 21,
     "metadata": {},
     "output_type": "execute_result"
    }
   ],
   "source": [
    "author_1"
   ]
  },
  {
   "cell_type": "code",
   "execution_count": 23,
   "id": "5f9408da",
   "metadata": {},
   "outputs": [],
   "source": [
    "a = set({1,2,3})\n",
    "a.add(4)"
   ]
  },
  {
   "cell_type": "code",
   "execution_count": 25,
   "id": "966321a9",
   "metadata": {},
   "outputs": [],
   "source": [
    "a.update([4])"
   ]
  },
  {
   "cell_type": "code",
   "execution_count": 27,
   "id": "98a9ac6a",
   "metadata": {},
   "outputs": [],
   "source": [
    "dct = {'a':1, 'b':2}"
   ]
  },
  {
   "cell_type": "code",
   "execution_count": 29,
   "id": "cd5bf8ce",
   "metadata": {},
   "outputs": [
    {
     "data": {
      "text/plain": [
       "[1, 2]"
      ]
     },
     "execution_count": 29,
     "metadata": {},
     "output_type": "execute_result"
    }
   ],
   "source": [
    "list(dct.values())"
   ]
  },
  {
   "cell_type": "code",
   "execution_count": 3,
   "id": "6cd44c8a",
   "metadata": {},
   "outputs": [
    {
     "name": "stdout",
     "output_type": "stream",
     "text": [
      "{'paperId': 'a6aed0c4e0f39a55edb407f492e41f178a62907f', 'externalIds': {'MAG': '2945165791', 'DBLP': 'journals/corr/abs-1905-07870', 'ArXiv': '1905.07870', 'ACL': 'P19-1191', 'DOI': '10.18653/v1/P19-1191', 'CorpusId': 159040684}, 'corpusId': 159040684, 'publicationVenue': {'id': '1e33b3be-b2ab-46e9-96e8-d4eb4bad6e44', 'name': 'Annual Meeting of the Association for Computational Linguistics', 'type': 'conference', 'alternate_names': ['Annu Meet Assoc Comput Linguistics', 'Meeting of the Association for Computational Linguistics', 'ACL', 'Meet Assoc Comput Linguistics'], 'url': 'https://www.aclweb.org/anthology/venues/acl/'}, 'url': 'https://www.semanticscholar.org/paper/a6aed0c4e0f39a55edb407f492e41f178a62907f', 'title': 'PaperRobot: Incremental Draft Generation of Scientific Ideas', 'abstract': 'We present a PaperRobot who performs as an automatic research assistant by (1) conducting deep understanding of a large collection of human-written papers in a target domain and constructing comprehensive background knowledge graphs (KGs); (2) creating new ideas by predicting links from the background KGs, by combining graph attention and contextual text attention; (3) incrementally writing some key elements of a new paper based on memory-attention networks: from the input title along with predicted related entities to generate a paper abstract, from the abstract to generate conclusion and future work, and finally from future work to generate a title for a follow-on paper. Turing Tests, where a biomedical domain expert is asked to compare a system output and a human-authored string, show PaperRobot generated abstracts, conclusion and future work sections, and new titles are chosen over human-written ones up to 30%, 24% and 12% of the time, respectively.', 'venue': 'Annual Meeting of the Association for Computational Linguistics', 'year': 2019, 'referenceCount': 63, 'citationCount': 54, 'influentialCitationCount': 6, 'isOpenAccess': True, 'openAccessPdf': {'url': 'https://www.aclweb.org/anthology/P19-1191.pdf', 'status': 'HYBRID', 'license': 'CCBY', 'disclaimer': 'Notice: This abstract is extracted from the open access paper or abstract available at https://arxiv.org/abs/1905.07870, which is subject to the license by the author or copyright owner provided with this content. Please go to the source to verify the license and copyright information for your use.'}, 'fieldsOfStudy': ['Computer Science'], 's2FieldsOfStudy': [{'category': 'Computer Science', 'source': 'external'}, {'category': 'Computer Science', 'source': 's2-fos-model'}], 'publicationTypes': ['JournalArticle', 'Conference'], 'publicationDate': '2019-05-20', 'journal': {'name': 'ArXiv', 'volume': 'abs/1905.07870'}, 'citationStyles': {'bibtex': '@Article{Wang2019PaperRobotID,\\n author = {Qingyun Wang and Lifu Huang and Zhiying Jiang and Kevin Knight and Heng Ji and Mohit Bansal and Yi Luan},\\n booktitle = {Annual Meeting of the Association for Computational Linguistics},\\n journal = {ArXiv},\\n title = {PaperRobot: Incremental Draft Generation of Scientific Ideas},\\n volume = {abs/1905.07870},\\n year = {2019}\\n}\\n'}, 'authors': [{'authorId': '1786863', 'name': 'Qingyun Wang'}, {'authorId': '34170717', 'name': 'Lifu Huang'}, {'authorId': None, 'name': 'Zhiying Jiang'}, {'authorId': '152971314', 'name': 'Kevin Knight'}, {'authorId': '144016781', 'name': 'Heng Ji'}, {'authorId': '143977268', 'name': 'Mohit Bansal'}, {'authorId': '145081697', 'name': 'Yi Luan'}]}\n"
     ]
    }
   ],
   "source": [
    "i = 0\n",
    "for item in srch_results:\n",
    "    if i < 10:\n",
    "        print(item._data)\n",
    "        i += 1\n",
    "    else:\n",
    "        break"
   ]
  },
  {
   "cell_type": "code",
   "execution_count": 4,
   "id": "2e7393ee",
   "metadata": {},
   "outputs": [],
   "source": [
    "srch_results = await s2.search_paper(\n",
    "    query=\"llm for knowledge graph\",\n",
    "    fields_of_study=['Computer Science'],\n",
    "    publication_types=['Review'])"
   ]
  },
  {
   "cell_type": "code",
   "execution_count": 6,
   "id": "395fd4b4",
   "metadata": {},
   "outputs": [
    {
     "name": "stdout",
     "output_type": "stream",
     "text": [
      "Representing the Interaction between Users and Products via LLM-assisted Knowledge Graph Construction\n",
      "CancerKG.ORG - A Web-scale, Interactive, Verifiable Knowledge Graph-LLM Hybrid for Assisting with Optimal Cancer Treatment and Care\n",
      "CKGFuzzer: LLM-Based Fuzz Driver Generation Enhanced By Code Knowledge Graph\n",
      "A survey of LLM-augmented knowledge graph construction and application in complex product design\n",
      "SKG-LLM: Developing a Mathematical Model for Stroke Knowledge Graph Construction Using Large Language Models\n",
      "Intelligent Checking Method for Construction Schemes via Fusion of Knowledge Graph and Large Language Models\n",
      "Evaluating Large Language Models for Structured Science Summarization in the Open Research Knowledge Graph\n",
      "A Knowledge Graph Modeling Approach for Augmenting Language Model-Based Contract Risk Identification\n",
      "Knowledge Graph-Enhanced Semantic Cache for Low-Latency and Cost-Effective Inference in Large Language Models\n",
      "Augmenting Patent Summarization using Large Language Model with Knowledge Graph\n"
     ]
    }
   ],
   "source": [
    "i = 0\n",
    "for item in srch_results:\n",
    "    if i < 10:\n",
    "        print(item._data['title'])\n",
    "        i += 1\n",
    "    else:\n",
    "        break"
   ]
  },
  {
   "cell_type": "code",
   "execution_count": 11,
   "id": "d5e749b5",
   "metadata": {},
   "outputs": [],
   "source": [
    "srch_results = await s2.search_paper(\n",
    "    query=\"llm for knowledge graph\",\n",
    "    fields_of_study=['Computer Science'],\n",
    "    publication_types=['JournalArticle', 'Preprint', 'Review', 'Conference'])"
   ]
  },
  {
   "cell_type": "code",
   "execution_count": 13,
   "id": "1742cf30",
   "metadata": {},
   "outputs": [
    {
     "data": {
      "text/plain": [
       "<semanticscholar.PaginatedResults.PaginatedResults at 0x108ad8fd0>"
      ]
     },
     "execution_count": 13,
     "metadata": {},
     "output_type": "execute_result"
    }
   ],
   "source": [
    "srch_results"
   ]
  },
  {
   "cell_type": "code",
   "execution_count": 12,
   "id": "2a7aa274",
   "metadata": {},
   "outputs": [
    {
     "name": "stdout",
     "output_type": "stream",
     "text": [
      "An Adaptive Framework Embedded with LLM for Knowledge Graph Construction\n",
      "Knowledge Graph Large Language Model (KG-LLM) for Link Prediction\n",
      "Extract, Define, Canonicalize: An LLM-based Framework for Knowledge Graph Construction\n",
      "LinkQ: An LLM-Assisted Visual Interface for Knowledge Graph Question-Answering\n",
      "LLM-based Discriminative Reasoning for Knowledge Graph Question Answering\n",
      "Assessing the Evolution of LLM Capabilities for Knowledge Graph Engineering in 2023\n",
      "Iterative Zero-Shot LLM Prompting for Knowledge Graph Construction\n",
      "KLR-KGC: Knowledge-Guided LLM Reasoning for Knowledge Graph Completion\n",
      "LLM4EduKG: LLM for Automatic Construction of Educational Knowledge Graph\n",
      "GLTW: Joint Improved Graph Transformer and LLM via Three-Word Language for Knowledge Graph Completion\n"
     ]
    }
   ],
   "source": [
    "i = 0\n",
    "for item in srch_results:\n",
    "    if i < 10:\n",
    "        print(item._data['title'])\n",
    "        i += 1\n",
    "    else:\n",
    "        break"
   ]
  },
  {
   "cell_type": "code",
   "execution_count": 1,
   "id": "e40fd2f3",
   "metadata": {},
   "outputs": [
    {
     "data": {
      "text/plain": [
       "{1, 2, 3, 4}"
      ]
     },
     "execution_count": 1,
     "metadata": {},
     "output_type": "execute_result"
    }
   ],
   "source": [
    "set({1,2,3}) | set({2,3,4})"
   ]
  },
  {
   "cell_type": "code",
   "execution_count": 2,
   "id": "26e0ded5",
   "metadata": {},
   "outputs": [],
   "source": [
    "a = set({1,2,3})\n",
    "b = set({2,3,4})"
   ]
  },
  {
   "cell_type": "code",
   "execution_count": 3,
   "id": "e9500269",
   "metadata": {},
   "outputs": [],
   "source": [
    "x = a"
   ]
  },
  {
   "cell_type": "code",
   "execution_count": 4,
   "id": "7ea2cdc9",
   "metadata": {},
   "outputs": [],
   "source": [
    "x.update([3,4,5])"
   ]
  },
  {
   "cell_type": "code",
   "execution_count": 5,
   "id": "f0469a66",
   "metadata": {},
   "outputs": [
    {
     "data": {
      "text/plain": [
       "{1, 2, 3, 4, 5}"
      ]
     },
     "execution_count": 5,
     "metadata": {},
     "output_type": "execute_result"
    }
   ],
   "source": [
    "x"
   ]
  },
  {
   "cell_type": "code",
   "execution_count": 6,
   "id": "6b9dfd7c",
   "metadata": {},
   "outputs": [
    {
     "data": {
      "text/plain": [
       "{1, 2, 3, 4, 5}"
      ]
     },
     "execution_count": 6,
     "metadata": {},
     "output_type": "execute_result"
    }
   ],
   "source": [
    "a"
   ]
  },
  {
   "cell_type": "code",
   "execution_count": null,
   "id": "c774cfd0",
   "metadata": {},
   "outputs": [],
   "source": []
  }
 ],
 "metadata": {
  "kernelspec": {
   "display_name": "ai4fun",
   "language": "python",
   "name": "python3"
  },
  "language_info": {
   "codemirror_mode": {
    "name": "ipython",
    "version": 3
   },
   "file_extension": ".py",
   "mimetype": "text/x-python",
   "name": "python",
   "nbconvert_exporter": "python",
   "pygments_lexer": "ipython3",
   "version": "3.10.13"
  }
 },
 "nbformat": 4,
 "nbformat_minor": 5
}
