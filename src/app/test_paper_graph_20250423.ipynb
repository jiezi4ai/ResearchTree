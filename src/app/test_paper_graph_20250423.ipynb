{
 "cells": [
  {
   "cell_type": "markdown",
   "id": "ad67f75e",
   "metadata": {},
   "source": [
    "# Setup"
   ]
  },
  {
   "cell_type": "code",
   "execution_count": 1,
   "id": "7766de8e",
   "metadata": {},
   "outputs": [],
   "source": [
    "import copy\n",
    "from typing import List, Dict, Optional, Union, Tuple, Literal"
   ]
  },
  {
   "cell_type": "code",
   "execution_count": 2,
   "id": "438adae8",
   "metadata": {},
   "outputs": [],
   "source": [
    "import os\n",
    "import json\n",
    "\n",
    "import sys\n",
    "import os\n",
    "\n",
    "parent_dir = os.path.dirname(os.getcwd())\n",
    "sys.path.append(parent_dir)"
   ]
  },
  {
   "cell_type": "code",
   "execution_count": 3,
   "id": "12cbac1e",
   "metadata": {},
   "outputs": [],
   "source": [
    "from graph.paper_graph import PaperGraph\n",
    "from graph.graph_viz import GraphViz\n",
    "from app.paper_data_collect import PaperSearch\n",
    "from graph.graph_stats import get_graph_stats, get_author_stats, get_paper_stats"
   ]
  },
  {
   "cell_type": "code",
   "execution_count": 4,
   "id": "fa3fc05a",
   "metadata": {},
   "outputs": [],
   "source": [
    "params = {\n",
    "    # params for paper collection\n",
    "    'search_limit': 100,\n",
    "    'recommend_limit': 50,\n",
    "    'citation_limit': 100,\n",
    "    # params for expanded search\n",
    "    'similarity_threshold': 0.7,\n",
    "    'top_k_similar_papers': 20,\n",
    "    'top_l_key_authors': 20,\n",
    "    # paprams for stopping criteria\n",
    "    'min_paper_cnt': 50,\n",
    "    'min_author_cnt': 50,\n",
    "    'min_corssref_papers': 20,\n",
    "    'min_key_authors': 10,\n",
    "}"
   ]
  },
  {
   "cell_type": "code",
   "execution_count": 5,
   "id": "ee40269d",
   "metadata": {},
   "outputs": [],
   "source": [
    "# driving examples\n",
    "llm_api_key = os.getenv('GEMINI_API_KEY_3')\n",
    "llm_model_name=\"gemini-2.0-flash\"\n",
    "embed_api_key = os.getenv('GEMINI_API_KEY_3')\n",
    "embed_model_name=\"models/text-embedding-004\""
   ]
  },
  {
   "cell_type": "code",
   "execution_count": 6,
   "id": "5dccb29a",
   "metadata": {},
   "outputs": [],
   "source": [
    "# from user input\n",
    "research_topics = [\"llm literature review\"]\n",
    "seed_dois = ['10.48550/arXiv.2406.10252',  # AutoSurvey: Large Language Models Can Automatically Write Surveys\n",
    "            '10.48550/arXiv.2412.10415',  # Generative Adversarial Reviews: When LLMs Become the Critic\n",
    "            '10.48550/arXiv.2402.12928',  # A Literature Review of Literature Reviews in Pattern Analysis and Machine Intelligence \n",
    "            ]\n",
    "seed_titles = ['PaperRobot: Incremental Draft Generation of Scientific Ideas',\n",
    "            'From Hypothesis to Publication: A Comprehensive Survey of AI-Driven Research Support Systems'\n",
    "            ]\n",
    "# constraints\n",
    "from_dt = '2020-01-01'\n",
    "to_dt = '2025-04-30'\n",
    "fields_of_study = ['Computer Science']"
   ]
  },
  {
   "cell_type": "code",
   "execution_count": 7,
   "id": "d1e8a3d2",
   "metadata": {},
   "outputs": [
    {
     "name": "stderr",
     "output_type": "stream",
     "text": [
      "2025-04-23 21:39:39,035 - INFO - SemanticScholarKit initialized with max_concurrency=20, sleep_interval=3.0s\n",
      "2025-04-23 21:39:39,037 - INFO - SemanticScholarKit initialized with max_concurrency=20, sleep_interval=3.0s\n",
      "2025-04-23 21:39:39,038 - INFO - SemanticScholarKit initialized with max_concurrency=20, sleep_interval=3.0s\n",
      "2025-04-23 21:39:39,038 - INFO - SemanticScholarKit initialized with max_concurrency=20, sleep_interval=3.0s\n",
      "2025-04-23 21:39:39,038 - INFO - SemanticScholarKit initialized with max_concurrency=20, sleep_interval=3.0s\n"
     ]
    }
   ],
   "source": [
    "ps = PaperSearch(   \n",
    "    seed_research_topics = research_topics,   \n",
    "    seed_paper_titles = seed_titles, \n",
    "    seed_paper_dois = seed_dois,\n",
    "    from_dt = from_dt,\n",
    "    to_dt = to_dt,\n",
    "    fields_of_study = fields_of_study,\n",
    "    )"
   ]
  },
  {
   "cell_type": "markdown",
   "id": "50f2e719",
   "metadata": {},
   "source": [
    "# Round 1"
   ]
  },
  {
   "cell_type": "code",
   "execution_count": 8,
   "id": "d369e328",
   "metadata": {},
   "outputs": [],
   "source": [
    "iteration = 1\n",
    "citation_limit = 100\n",
    "recommend_limit = 100\n",
    "search_limit = 50\n",
    "\n",
    "from_dt = '2020-01-01'\n",
    "to_dt = '2025-04-30'\n",
    "fields_of_study = ['Computer Science']"
   ]
  },
  {
   "cell_type": "markdown",
   "id": "e5d85d6a",
   "metadata": {},
   "source": [
    "## Initial Search"
   ]
  },
  {
   "cell_type": "markdown",
   "id": "9603246b",
   "metadata": {},
   "source": [
    "### Collection"
   ]
  },
  {
   "cell_type": "code",
   "execution_count": 9,
   "id": "8d2b3949",
   "metadata": {},
   "outputs": [],
   "source": [
    "# candidates for next round\n",
    "candidates = {\n",
    "    'candit_dois': set(),\n",
    "    'candit_author_ids': set(),\n",
    "    'candit_ref_dois': set(),\n",
    "    'candit_citing_dois': set(),\n",
    "    'candit_topics': set()\n",
    "}\n"
   ]
  },
  {
   "cell_type": "code",
   "execution_count": 10,
   "id": "ad3371f3",
   "metadata": {},
   "outputs": [],
   "source": [
    "# post-pone topic search since it takes too much time \n",
    "if len(ps.seed_paper_titles) > 0 or len(ps.seed_paper_dois) > 0:\n",
    "    candidates['candit_topics'].update(ps.research_topics)\n",
    "    topics = []\n",
    "else:\n",
    "    topics = ps.research_topics"
   ]
  },
  {
   "cell_type": "code",
   "execution_count": 11,
   "id": "d0deb26b",
   "metadata": {},
   "outputs": [],
   "source": [
    "if len(seed_dois) > 2:\n",
    "    pos_paper_dois = seed_dois\n",
    "else:\n",
    "    pos_paper_dois = []"
   ]
  },
  {
   "cell_type": "code",
   "execution_count": 12,
   "id": "595a6e0c",
   "metadata": {},
   "outputs": [
    {
     "name": "stderr",
     "output_type": "stream",
     "text": [
      "2025-04-23 21:39:43,439 - INFO - Search 2 paper titles and 3 for paper information.\n",
      "2025-04-23 21:39:43,440 - INFO - Fetching papers by 3 DOIs...\n",
      "2025-04-23 21:39:43,440 - INFO - Fetching papers by title: 'PaperRobot: Incremental Draft Generation of Scientific Ideas...'\n",
      "2025-04-23 21:39:43,440 - INFO - Fetching papers by title: 'From Hypothesis to Publication: A Comprehensive Survey of AI-Driven Research Support Systems...'\n",
      "2025-04-23 21:39:43,441 - INFO - Running 3 initial query tasks concurrently...\n",
      "2025-04-23 21:39:43,441 - INFO - Preparing reference for 3 papers and citing for 3 papers.\n",
      "2025-04-23 21:39:43,441 - INFO - Running 6 citation collection tasks concurrently...\n",
      "2025-04-23 21:39:43,442 - INFO - Recommend papers based on 3 positive papers and 0 papers.\n",
      "2025-04-23 21:39:43,442 - INFO - Fetching recommendations based on 3 papers...\n",
      "2025-04-23 21:39:43,442 - INFO - async_get_s2_recommended_papers: Fetching recommendations based on 3 positive IDs with effective limit 100.\n",
      "2025-04-23 21:39:43,443 - INFO - _sync_get_recommended_papers: Thread started based on 3 positive IDs (first 5: ['10.48550/arXiv.2406.10252', '10.48550/arXiv.2412.10415', '10.48550/arXiv.2402.12928']...) with limit 100.\n",
      "2025-04-23 21:39:43,443 - INFO - async_search_paper_by_ids: Creating 1 tasks for 3 IDs.\n",
      "2025-04-23 21:39:43,446 - INFO - async_search_paper_by_ids: Gathering 1 tasks...\n",
      "2025-04-23 21:39:43,446 - INFO - async_search_paper_by_keywords: Searching papers by keyword: 'PaperRobot: Incremental Draft Generation of Scient...' with effective limit 50.\n",
      "2025-04-23 21:39:43,447 - INFO - _sync_search_paper_by_keywords: Thread started for query 'PaperRobot: Incremental Draft Generation of Scient...' with limit 50.\n",
      "2025-04-23 21:39:43,447 - INFO - async_search_paper_by_keywords: Searching papers by keyword: 'From Hypothesis to Publication: A Comprehensive Su...' with effective limit 50.\n",
      "2025-04-23 21:39:43,449 - INFO - _sync_search_paper_by_keywords: Thread started for query 'From Hypothesis to Publication: A Comprehensive Su...' with limit 50.\n",
      "2025-04-23 21:39:43,449 - INFO - Fetching papers cited by 10.48550/arXiv.2406.10252...\n",
      "2025-04-23 21:39:43,450 - INFO - async_get_s2_cited_papers: Fetching references for paper 10.48550/arXiv.2406.10252 with effective limit 100.\n",
      "2025-04-23 21:39:43,451 - INFO - _sync_get_paper_references: Thread started for paper 10.48550/arXiv.2406.10252 with limit 100.\n",
      "2025-04-23 21:39:43,451 - INFO - Fetching papers cited by 10.48550/arXiv.2412.10415...\n",
      "2025-04-23 21:39:43,452 - INFO - async_get_s2_cited_papers: Fetching references for paper 10.48550/arXiv.2412.10415 with effective limit 100.\n",
      "2025-04-23 21:39:43,453 - INFO - _sync_get_paper_references: Thread started for paper 10.48550/arXiv.2412.10415 with limit 100.\n",
      "2025-04-23 21:39:43,453 - INFO - Fetching papers cited by 10.48550/arXiv.2402.12928...\n",
      "2025-04-23 21:39:43,454 - INFO - async_get_s2_cited_papers: Fetching references for paper 10.48550/arXiv.2402.12928 with effective limit 100.\n",
      "2025-04-23 21:39:43,455 - INFO - _sync_get_paper_references: Thread started for paper 10.48550/arXiv.2402.12928 with limit 100.\n",
      "2025-04-23 21:39:43,455 - INFO - Fetching papers citing 10.48550/arXiv.2406.10252...\n",
      "2025-04-23 21:39:43,456 - INFO - async_get_s2_citing_papers: Fetching citations for paper 10.48550/arXiv.2406.10252 with effective limit 100.\n",
      "2025-04-23 21:39:43,457 - INFO - _sync_get_paper_citations: Thread started for paper 10.48550/arXiv.2406.10252 with limit 100.\n",
      "2025-04-23 21:39:43,457 - INFO - Fetching papers citing 10.48550/arXiv.2412.10415...\n",
      "2025-04-23 21:39:43,459 - INFO - async_get_s2_citing_papers: Fetching citations for paper 10.48550/arXiv.2412.10415 with effective limit 100.\n",
      "2025-04-23 21:39:43,460 - INFO - _sync_get_paper_citations: Thread started for paper 10.48550/arXiv.2412.10415 with limit 100.\n",
      "2025-04-23 21:39:43,461 - INFO - Fetching papers citing 10.48550/arXiv.2402.12928...\n",
      "2025-04-23 21:39:43,462 - INFO - async_get_s2_citing_papers: Fetching citations for paper 10.48550/arXiv.2402.12928 with effective limit 100.\n",
      "2025-04-23 21:39:43,463 - INFO - _sync_get_paper_citations: Thread started for paper 10.48550/arXiv.2402.12928 with limit 100.\n",
      "2025-04-23 21:39:43,463 - INFO - _sync_get_papers: Thread started for batch (3 IDs, first 5: ['10.48550/arXiv.2406.10252', '10.48550/arXiv.2412.10415', '10.48550/arXiv.2402.12928']...).\n"
     ]
    },
    {
     "name": "stdout",
     "output_type": "stream",
     "text": [
      "--- Running Round 1 Query for Papers Information ---\n"
     ]
    },
    {
     "name": "stderr",
     "output_type": "stream",
     "text": [
      "2025-04-23 21:39:43,852 - INFO - HTTP Request: GET https://api.semanticscholar.org/graph/v1/paper/10.48550/arXiv.2402.12928/citations?fields=contexts%2Cintents%2CcontextsWithIntent%2CisInfluential%2Cabstract%2Cauthors%2CcitationCount%2CcitationStyles%2CcorpusId%2CexternalIds%2CfieldsOfStudy%2CinfluentialCitationCount%2CisOpenAccess%2Cjournal%2CopenAccessPdf%2CpaperId%2CpublicationDate%2CpublicationTypes%2CpublicationVenue%2CreferenceCount%2Cs2FieldsOfStudy%2Ctitle%2Curl%2Cvenue%2Cyear&offset=0&limit=100 \"HTTP/1.1 200 OK\"\n",
      "2025-04-23 21:39:43,854 - INFO - _sync_get_paper_citations: API call successful for paper 10.48550/arXiv.2402.12928, returning 0 items.\n",
      "2025-04-23 21:39:44,017 - INFO - HTTP Request: GET https://api.semanticscholar.org/graph/v1/paper/10.48550/arXiv.2406.10252/citations?fields=contexts%2Cintents%2CcontextsWithIntent%2CisInfluential%2Cabstract%2Cauthors%2CcitationCount%2CcitationStyles%2CcorpusId%2CexternalIds%2CfieldsOfStudy%2CinfluentialCitationCount%2CisOpenAccess%2Cjournal%2CopenAccessPdf%2CpaperId%2CpublicationDate%2CpublicationTypes%2CpublicationVenue%2CreferenceCount%2Cs2FieldsOfStudy%2Ctitle%2Curl%2Cvenue%2Cyear&offset=0&limit=100 \"HTTP/1.1 200 OK\"\n",
      "2025-04-23 21:39:44,029 - INFO - HTTP Request: GET https://api.semanticscholar.org/graph/v1/paper/10.48550/arXiv.2412.10415/citations?fields=contexts%2Cintents%2CcontextsWithIntent%2CisInfluential%2Cabstract%2Cauthors%2CcitationCount%2CcitationStyles%2CcorpusId%2CexternalIds%2CfieldsOfStudy%2CinfluentialCitationCount%2CisOpenAccess%2Cjournal%2CopenAccessPdf%2CpaperId%2CpublicationDate%2CpublicationTypes%2CpublicationVenue%2CreferenceCount%2Cs2FieldsOfStudy%2Ctitle%2Curl%2Cvenue%2Cyear&offset=0&limit=100 \"HTTP/1.1 200 OK\"\n",
      "2025-04-23 21:39:44,030 - INFO - _sync_get_paper_citations: API call successful for paper 10.48550/arXiv.2412.10415, returning 1 items.\n",
      "2025-04-23 21:39:44,043 - INFO - HTTP Request: POST https://api.semanticscholar.org/graph/v1/paper/batch?fields=abstract%2Cauthors%2CcitationCount%2CcitationStyles%2CcorpusId%2CexternalIds%2CfieldsOfStudy%2CinfluentialCitationCount%2CisOpenAccess%2Cjournal%2CopenAccessPdf%2CpaperId%2CpublicationDate%2CpublicationTypes%2CpublicationVenue%2CreferenceCount%2Cs2FieldsOfStudy%2Ctitle%2Curl%2Cvenue%2Cyear \"HTTP/1.1 200 OK\"\n",
      "2025-04-23 21:39:44,045 - INFO - _sync_get_papers: API call successful for batch (first 5: ['10.48550/arXiv.2406.10252', '10.48550/arXiv.2412.10415', '10.48550/arXiv.2402.12928']...), returning 3 items.\n",
      "2025-04-23 21:39:44,106 - INFO - HTTP Request: GET https://api.semanticscholar.org/graph/v1/paper/10.48550/arXiv.2412.10415/references?fields=contexts%2Cintents%2CcontextsWithIntent%2CisInfluential%2Cabstract%2Cauthors%2CcitationCount%2CcitationStyles%2CcorpusId%2CexternalIds%2CfieldsOfStudy%2CinfluentialCitationCount%2CisOpenAccess%2Cjournal%2CopenAccessPdf%2CpaperId%2CpublicationDate%2CpublicationTypes%2CpublicationVenue%2CreferenceCount%2Cs2FieldsOfStudy%2Ctitle%2Curl%2Cvenue%2Cyear&offset=0&limit=100 \"HTTP/1.1 200 OK\"\n",
      "2025-04-23 21:39:44,125 - INFO - _sync_get_paper_citations: API call successful for paper 10.48550/arXiv.2406.10252, returning 16 items.\n",
      "2025-04-23 21:39:44,279 - INFO - HTTP Request: GET https://api.semanticscholar.org/graph/v1/paper/10.48550/arXiv.2402.12928/references?fields=contexts%2Cintents%2CcontextsWithIntent%2CisInfluential%2Cabstract%2Cauthors%2CcitationCount%2CcitationStyles%2CcorpusId%2CexternalIds%2CfieldsOfStudy%2CinfluentialCitationCount%2CisOpenAccess%2Cjournal%2CopenAccessPdf%2CpaperId%2CpublicationDate%2CpublicationTypes%2CpublicationVenue%2CreferenceCount%2Cs2FieldsOfStudy%2Ctitle%2Curl%2Cvenue%2Cyear&offset=0&limit=100 \"HTTP/1.1 200 OK\"\n",
      "2025-04-23 21:39:44,386 - INFO - _sync_get_paper_references: API call successful for paper 10.48550/arXiv.2412.10415, returning 67 items.\n",
      "2025-04-23 21:39:44,506 - INFO - HTTP Request: GET https://api.semanticscholar.org/graph/v1/paper/search/match?query=From+Hypothesis+to+Publication%3A+A+Comprehensive+Survey+of+AI-Driven+Research+Support+Systems&fieldsOfStudy=Computer+Science&fields=abstract%2Cauthors%2CcitationCount%2CcitationStyles%2CcorpusId%2CexternalIds%2CfieldsOfStudy%2CinfluentialCitationCount%2CisOpenAccess%2Cjournal%2CopenAccessPdf%2CpaperId%2CpublicationDate%2CpublicationTypes%2CpublicationVenue%2CreferenceCount%2Cs2FieldsOfStudy%2Ctitle%2Curl%2Cvenue%2Cyear&offset=0&limit=50 \"HTTP/1.1 200 OK\"\n",
      "2025-04-23 21:39:44,648 - INFO - HTTP Request: GET https://api.semanticscholar.org/graph/v1/paper/search/match?query=PaperRobot%3A+Incremental+Draft+Generation+of+Scientific+Ideas&fieldsOfStudy=Computer+Science&fields=abstract%2Cauthors%2CcitationCount%2CcitationStyles%2CcorpusId%2CexternalIds%2CfieldsOfStudy%2CinfluentialCitationCount%2CisOpenAccess%2Cjournal%2CopenAccessPdf%2CpaperId%2CpublicationDate%2CpublicationTypes%2CpublicationVenue%2CreferenceCount%2Cs2FieldsOfStudy%2Ctitle%2Curl%2Cvenue%2Cyear&offset=0&limit=50 \"HTTP/1.1 200 OK\"\n",
      "2025-04-23 21:39:44,896 - INFO - HTTP Request: GET https://api.semanticscholar.org/graph/v1/paper/10.48550/arXiv.2406.10252/references?fields=contexts%2Cintents%2CcontextsWithIntent%2CisInfluential%2Cabstract%2Cauthors%2CcitationCount%2CcitationStyles%2CcorpusId%2CexternalIds%2CfieldsOfStudy%2CinfluentialCitationCount%2CisOpenAccess%2Cjournal%2CopenAccessPdf%2CpaperId%2CpublicationDate%2CpublicationTypes%2CpublicationVenue%2CreferenceCount%2Cs2FieldsOfStudy%2Ctitle%2Curl%2Cvenue%2Cyear&offset=0&limit=100 \"HTTP/1.1 200 OK\"\n",
      "2025-04-23 21:39:45,076 - INFO - HTTP Request: GET https://api.semanticscholar.org/graph/v1/paper/10.48550/arXiv.2402.12928/references?fields=contexts%2Cintents%2CcontextsWithIntent%2CisInfluential%2Cabstract%2Cauthors%2CcitationCount%2CcitationStyles%2CcorpusId%2CexternalIds%2CfieldsOfStudy%2CinfluentialCitationCount%2CisOpenAccess%2Cjournal%2CopenAccessPdf%2CpaperId%2CpublicationDate%2CpublicationTypes%2CpublicationVenue%2CreferenceCount%2Cs2FieldsOfStudy%2Ctitle%2Curl%2Cvenue%2Cyear&offset=100&limit=100 \"HTTP/1.1 200 OK\"\n",
      "2025-04-23 21:39:45,155 - INFO - _sync_get_paper_references: API call successful for paper 10.48550/arXiv.2406.10252, returning 54 items.\n",
      "2025-04-23 21:39:45,184 - INFO - _sync_get_paper_references: API call successful for paper 10.48550/arXiv.2402.12928, returning 163 items.\n",
      "2025-04-23 21:39:46,857 - INFO - Processing 0 citing papers for 10.48550/arXiv.2402.12928.\n",
      "2025-04-23 21:39:47,031 - INFO - Fetching abstracts for 1 citing papers.\n",
      "2025-04-23 21:39:47,032 - INFO - async_search_paper_by_ids: Creating 1 tasks for 1 IDs.\n",
      "2025-04-23 21:39:47,032 - INFO - async_search_paper_by_ids: Gathering 1 tasks...\n",
      "2025-04-23 21:39:47,033 - INFO - _sync_get_papers: Thread started for batch (1 IDs, first 5: ['987d0cbe751780b9b993ebf8e670fb0d18fdaabe']...).\n",
      "2025-04-23 21:39:47,047 - INFO - async_search_paper_by_ids: Gather complete. Processing results.\n",
      "2025-04-23 21:39:47,127 - INFO - Fetching abstracts for 16 citing papers.\n",
      "2025-04-23 21:39:47,128 - INFO - async_search_paper_by_ids: Creating 1 tasks for 16 IDs.\n",
      "2025-04-23 21:39:47,129 - INFO - async_search_paper_by_ids: Gathering 1 tasks...\n",
      "2025-04-23 21:39:47,130 - INFO - _sync_get_papers: Thread started for batch (16 IDs, first 5: ['e42054d042e2e5b3efe6e96cd6dd1c76ab3ca358', '1191a81272747b2add72d16c6a1ff00d1d8b8b2f', '990f27e2ed2ceeadae4b4b7fe3ba38ae6a6cefce', '613912aa7c10372e95ec43dea4b80d41d47002ee', '4f88d2417fcd299dd75e1bda0c50135e04e592d7']...).\n",
      "2025-04-23 21:39:47,389 - INFO - Fetching abstracts for 45 cited papers (references).\n",
      "2025-04-23 21:39:47,390 - INFO - async_search_paper_by_ids: Creating 1 tasks for 45 IDs.\n",
      "2025-04-23 21:39:47,391 - INFO - async_search_paper_by_ids: Gathering 1 tasks...\n",
      "2025-04-23 21:39:47,391 - INFO - _sync_get_papers: Thread started for batch (45 IDs, first 5: ['208b93a39802466785169494caa7f2a8995ea39f', '3f98cf521222c65522200037c0eb95a17081b2dd', '1a4c6856292b8c64d19a812a77f0aa6fd47cb96c', '0c72450890a54b68d63baa99376131fda8f06cf9', '33161a5a9b5dcb635b5a97475e6a6209a69ada7d']...).\n",
      "2025-04-23 21:39:47,551 - INFO - HTTP Request: POST https://api.semanticscholar.org/graph/v1/paper/batch?fields=abstract%2Cauthors%2CcitationCount%2CcitationStyles%2CcorpusId%2CexternalIds%2CfieldsOfStudy%2CinfluentialCitationCount%2CisOpenAccess%2Cjournal%2CopenAccessPdf%2CpaperId%2CpublicationDate%2CpublicationTypes%2CpublicationVenue%2CreferenceCount%2Cs2FieldsOfStudy%2Ctitle%2Curl%2Cvenue%2Cyear \"HTTP/1.1 200 OK\"\n",
      "2025-04-23 21:39:47,553 - INFO - _sync_get_papers: API call successful for batch (first 5: ['987d0cbe751780b9b993ebf8e670fb0d18fdaabe']...), returning 1 items.\n",
      "2025-04-23 21:39:47,594 - INFO - HTTP Request: POST https://api.semanticscholar.org/graph/v1/paper/batch?fields=abstract%2Cauthors%2CcitationCount%2CcitationStyles%2CcorpusId%2CexternalIds%2CfieldsOfStudy%2CinfluentialCitationCount%2CisOpenAccess%2Cjournal%2CopenAccessPdf%2CpaperId%2CpublicationDate%2CpublicationTypes%2CpublicationVenue%2CreferenceCount%2Cs2FieldsOfStudy%2Ctitle%2Curl%2Cvenue%2Cyear \"HTTP/1.1 200 OK\"\n",
      "2025-04-23 21:39:47,651 - INFO - After paper search: Nodes: 34, Edges: 28\n",
      "2025-04-23 21:39:47,695 - INFO - _sync_get_papers: API call successful for batch (first 5: ['e42054d042e2e5b3efe6e96cd6dd1c76ab3ca358', '1191a81272747b2add72d16c6a1ff00d1d8b8b2f', '990f27e2ed2ceeadae4b4b7fe3ba38ae6a6cefce', '613912aa7c10372e95ec43dea4b80d41d47002ee', '4f88d2417fcd299dd75e1bda0c50135e04e592d7']...), returning 16 items.\n",
      "2025-04-23 21:39:48,157 - INFO - Fetching abstracts for 41 cited papers (references).\n",
      "2025-04-23 21:39:48,158 - INFO - async_search_paper_by_ids: Creating 1 tasks for 41 IDs.\n",
      "2025-04-23 21:39:48,158 - INFO - async_search_paper_by_ids: Gathering 1 tasks...\n",
      "2025-04-23 21:39:48,159 - INFO - _sync_get_papers: Thread started for batch (41 IDs, first 5: ['403c69991bcfd4d37e77da69d264023d25456d5c', '163b4d6a79a5b19af88b8585456363340d9efd04', 'a6fdb277d0a4b09899f802bda3359f5c2021a156', '65fe385a665480b41fafc56d76a3bd72e92e8886', '0484f05b6b3c11a9344cb623649ae867f172046f']...).\n",
      "2025-04-23 21:39:48,186 - INFO - Fetching abstracts for 128 cited papers (references).\n",
      "2025-04-23 21:39:48,187 - INFO - async_search_paper_by_ids: Creating 2 tasks for 128 IDs.\n",
      "2025-04-23 21:39:48,187 - INFO - async_search_paper_by_ids: Gathering 2 tasks...\n",
      "2025-04-23 21:39:48,189 - INFO - _sync_get_papers: Thread started for batch (100 IDs, first 5: ['3599a236f285af48782fc30b1341d13ec7320735', '94db8a625418800c8ae7b48157a9cad1c8129051', '43dd183b0656c593d13c37075eafafbe1ae64be0', '1163e9b771bd1c43249fa959bf84a63d5dbfa08d', 'af5e925496940771c51146922fddf3c2886cec78']...).\n",
      "2025-04-23 21:39:48,190 - INFO - _sync_get_papers: Thread started for batch (28 IDs, first 5: ['8d3ab6acd6d1cf3b4c9276c75f0b98fde110ba3c', '72020be1edf8ea2499a8247b4fd49fed41879422', '02d49b4dbaf8c093034918a76648fea53961753d', 'c916f21c327bd9dd95033aa584d9fe774a96a3b0', 'f9a7175198a2c9f3ab0134a12a7e9e5369428e42']...).\n",
      "2025-04-23 21:39:48,278 - INFO - HTTP Request: POST https://api.semanticscholar.org/graph/v1/paper/batch?fields=abstract%2Cauthors%2CcitationCount%2CcitationStyles%2CcorpusId%2CexternalIds%2CfieldsOfStudy%2CinfluentialCitationCount%2CisOpenAccess%2Cjournal%2CopenAccessPdf%2CpaperId%2CpublicationDate%2CpublicationTypes%2CpublicationVenue%2CreferenceCount%2Cs2FieldsOfStudy%2Ctitle%2Curl%2Cvenue%2Cyear \"HTTP/1.1 200 OK\"\n",
      "2025-04-23 21:39:48,387 - INFO - HTTP Request: POST https://api.semanticscholar.org/recommendations/v1/papers/?fields=abstract%2Cauthors%2CcitationCount%2CcitationStyles%2CcorpusId%2CexternalIds%2CfieldsOfStudy%2CinfluentialCitationCount%2CisOpenAccess%2Cjournal%2CopenAccessPdf%2CpaperId%2CpublicationDate%2CpublicationTypes%2CpublicationVenue%2CreferenceCount%2Cs2FieldsOfStudy%2Ctitle%2Curl%2Cvenue%2Cyear&limit=100 \"HTTP/1.1 200 OK\"\n",
      "2025-04-23 21:39:48,494 - INFO - _sync_get_papers: API call successful for batch (first 5: ['208b93a39802466785169494caa7f2a8995ea39f', '3f98cf521222c65522200037c0eb95a17081b2dd', '1a4c6856292b8c64d19a812a77f0aa6fd47cb96c', '0c72450890a54b68d63baa99376131fda8f06cf9', '33161a5a9b5dcb635b5a97475e6a6209a69ada7d']...), returning 45 items.\n",
      "2025-04-23 21:39:48,623 - INFO - _sync_get_recommended_papers: API call successful, returning 100 items.\n",
      "2025-04-23 21:39:48,896 - INFO - HTTP Request: POST https://api.semanticscholar.org/graph/v1/paper/batch?fields=abstract%2Cauthors%2CcitationCount%2CcitationStyles%2CcorpusId%2CexternalIds%2CfieldsOfStudy%2CinfluentialCitationCount%2CisOpenAccess%2Cjournal%2CopenAccessPdf%2CpaperId%2CpublicationDate%2CpublicationTypes%2CpublicationVenue%2CreferenceCount%2Cs2FieldsOfStudy%2Ctitle%2Curl%2Cvenue%2Cyear \"HTTP/1.1 200 OK\"\n",
      "2025-04-23 21:39:49,001 - INFO - _sync_get_papers: API call successful for batch (first 5: ['8d3ab6acd6d1cf3b4c9276c75f0b98fde110ba3c', '72020be1edf8ea2499a8247b4fd49fed41879422', '02d49b4dbaf8c093034918a76648fea53961753d', 'c916f21c327bd9dd95033aa584d9fe774a96a3b0', 'f9a7175198a2c9f3ab0134a12a7e9e5369428e42']...), returning 28 items.\n",
      "2025-04-23 21:39:49,279 - INFO - HTTP Request: POST https://api.semanticscholar.org/graph/v1/paper/batch?fields=abstract%2Cauthors%2CcitationCount%2CcitationStyles%2CcorpusId%2CexternalIds%2CfieldsOfStudy%2CinfluentialCitationCount%2CisOpenAccess%2Cjournal%2CopenAccessPdf%2CpaperId%2CpublicationDate%2CpublicationTypes%2CpublicationVenue%2CreferenceCount%2Cs2FieldsOfStudy%2Ctitle%2Curl%2Cvenue%2Cyear \"HTTP/1.1 200 OK\"\n",
      "2025-04-23 21:39:49,693 - INFO - _sync_get_papers: API call successful for batch (first 5: ['3599a236f285af48782fc30b1341d13ec7320735', '94db8a625418800c8ae7b48157a9cad1c8129051', '43dd183b0656c593d13c37075eafafbe1ae64be0', '1163e9b771bd1c43249fa959bf84a63d5dbfa08d', 'af5e925496940771c51146922fddf3c2886cec78']...), returning 100 items.\n",
      "2025-04-23 21:39:50,555 - INFO - async_search_paper_by_ids: Gather complete. Processing results.\n",
      "2025-04-23 21:39:50,556 - INFO - Found abstracts for 1 citing papers.\n",
      "2025-04-23 21:39:50,556 - INFO - Processing 1 citing papers for 10.48550/arXiv.2412.10415.\n",
      "2025-04-23 21:39:50,696 - INFO - async_search_paper_by_ids: Gather complete. Processing results.\n",
      "2025-04-23 21:39:50,697 - INFO - Found abstracts for 16 citing papers.\n",
      "2025-04-23 21:39:50,698 - INFO - Processing 16 citing papers for 10.48550/arXiv.2406.10252.\n",
      "2025-04-23 21:39:51,498 - INFO - async_search_paper_by_ids: Gather complete. Processing results.\n",
      "2025-04-23 21:39:51,499 - INFO - Found abstracts for 39 cited papers.\n",
      "2025-04-23 21:39:51,500 - INFO - Processing 67 cited papers for 10.48550/arXiv.2412.10415.\n",
      "2025-04-23 21:39:51,626 - INFO - Fetching abstracts for 98 recommended papers.\n",
      "2025-04-23 21:39:51,627 - INFO - async_search_paper_by_ids: Creating 1 tasks for 98 IDs.\n",
      "2025-04-23 21:39:51,628 - INFO - async_search_paper_by_ids: Gathering 1 tasks...\n",
      "2025-04-23 21:39:51,628 - INFO - _sync_get_papers: Thread started for batch (98 IDs, first 5: ['350d3d14c79d156122b8553366aef6eb3a7ed194', 'da344f2ba6d2b9781d016ad06b1b9188ea1d7e0f', '531ca92e483db6e6f498eaed40f74bc4046b9bb4', '79e57387a664a5d7b128b2790a8f38f827e09124', '25d2b1db905695d00e8570d51ef152bd6efca4a7']...).\n",
      "2025-04-23 21:39:52,615 - INFO - HTTP Request: POST https://api.semanticscholar.org/graph/v1/paper/batch?fields=abstract%2Cauthors%2CcitationCount%2CcitationStyles%2CcorpusId%2CexternalIds%2CfieldsOfStudy%2CinfluentialCitationCount%2CisOpenAccess%2Cjournal%2CopenAccessPdf%2CpaperId%2CpublicationDate%2CpublicationTypes%2CpublicationVenue%2CreferenceCount%2Cs2FieldsOfStudy%2Ctitle%2Curl%2Cvenue%2Cyear \"HTTP/1.1 200 OK\"\n",
      "2025-04-23 21:39:52,696 - INFO - async_search_paper_by_ids: Gather complete. Processing results.\n",
      "2025-04-23 21:39:52,697 - INFO - Found abstracts for 77 cited papers.\n",
      "2025-04-23 21:39:52,698 - INFO - Processing 163 cited papers for 10.48550/arXiv.2402.12928.\n",
      "2025-04-23 21:39:52,960 - INFO - _sync_get_papers: API call successful for batch (first 5: ['350d3d14c79d156122b8553366aef6eb3a7ed194', 'da344f2ba6d2b9781d016ad06b1b9188ea1d7e0f', '531ca92e483db6e6f498eaed40f74bc4046b9bb4', '79e57387a664a5d7b128b2790a8f38f827e09124', '25d2b1db905695d00e8570d51ef152bd6efca4a7']...), returning 98 items.\n",
      "2025-04-23 21:39:53,811 - INFO - HTTP Request: POST https://api.semanticscholar.org/graph/v1/paper/batch?fields=abstract%2Cauthors%2CcitationCount%2CcitationStyles%2CcorpusId%2CexternalIds%2CfieldsOfStudy%2CinfluentialCitationCount%2CisOpenAccess%2Cjournal%2CopenAccessPdf%2CpaperId%2CpublicationDate%2CpublicationTypes%2CpublicationVenue%2CreferenceCount%2Cs2FieldsOfStudy%2Ctitle%2Curl%2Cvenue%2Cyear \"HTTP/1.1 200 OK\"\n",
      "2025-04-23 21:39:54,028 - INFO - _sync_get_papers: API call successful for batch (first 5: ['403c69991bcfd4d37e77da69d264023d25456d5c', '163b4d6a79a5b19af88b8585456363340d9efd04', 'a6fdb277d0a4b09899f802bda3359f5c2021a156', '65fe385a665480b41fafc56d76a3bd72e92e8886', '0484f05b6b3c11a9344cb623649ae867f172046f']...), returning 41 items.\n",
      "2025-04-23 21:39:55,963 - INFO - async_search_paper_by_ids: Gather complete. Processing results.\n",
      "2025-04-23 21:39:55,964 - INFO - Found abstracts for 96 recommended papers.\n",
      "2025-04-23 21:39:55,965 - INFO - Processing 100 recommended papers.\n",
      "2025-04-23 21:39:55,979 - INFO - After recommendation: Nodes: 672, Edges: 564\n",
      "2025-04-23 21:39:57,031 - INFO - async_search_paper_by_ids: Gather complete. Processing results.\n",
      "2025-04-23 21:39:57,031 - INFO - Found abstracts for 39 cited papers.\n",
      "2025-04-23 21:39:57,032 - INFO - Processing 54 cited papers for 10.48550/arXiv.2406.10252.\n",
      "2025-04-23 21:39:57,036 - INFO - Main citation collection tasks finished.\n",
      "2025-04-23 21:39:57,037 - INFO - Main citation collection tasks finished.\n",
      "2025-04-23 21:39:57,037 - INFO - Main citation collection tasks finished.\n",
      "2025-04-23 21:39:57,037 - INFO - Main citation collection tasks finished.\n",
      "2025-04-23 21:39:57,037 - INFO - Main citation collection tasks finished.\n",
      "2025-04-23 21:39:57,037 - INFO - Main citation collection tasks finished.\n",
      "2025-04-23 21:39:57,040 - INFO - After citation search: Nodes: 2140, Edges: 2091\n"
     ]
    }
   ],
   "source": [
    "# --- ROUND 1 QUERY ---\n",
    "# initial query for seed papers basic information\n",
    "print(f\"--- Running Round {iteration} Query for Papers Information ---\")\n",
    "await ps.consolidated_search(\n",
    "    topics=topics,\n",
    "    paper_titles=ps.seed_paper_titles,\n",
    "    paper_dois=ps.seed_paper_dois,\n",
    "    ref_paper_dois=ps.seed_paper_dois,\n",
    "    citing_paper_dois=ps.seed_paper_dois,\n",
    "    pos_paper_dois=pos_paper_dois,\n",
    "    from_dt=ps.from_dt,\n",
    "    to_dt=ps.to_dt,\n",
    "    fields_of_study=ps.fields_of_study\n",
    ")"
   ]
  },
  {
   "cell_type": "code",
   "execution_count": 13,
   "id": "7b8c0747",
   "metadata": {},
   "outputs": [
    {
     "name": "stdout",
     "output_type": "stream",
     "text": [
      "2140 2091\n"
     ]
    }
   ],
   "source": [
    "print(len(ps.nodes_json), len(ps.edges_json))"
   ]
  },
  {
   "cell_type": "markdown",
   "id": "09e268f6",
   "metadata": {},
   "source": [
    "### Routing"
   ]
  },
  {
   "cell_type": "code",
   "execution_count": 15,
   "id": "dc58d1f5",
   "metadata": {},
   "outputs": [
    {
     "name": "stdout",
     "output_type": "stream",
     "text": [
      "4 27\n"
     ]
    }
   ],
   "source": [
    "# core papers and core authors nodes\n",
    "core_paper_dois = set()\n",
    "for node in ps.nodes_json:\n",
    "    if node['labels'] == ['Paper']:\n",
    "        if node['properties'].get('from_seed', False) == True:\n",
    "            core_paper_dois.add(node['id'])\n",
    "        elif node['properties'].get('from_title_search', False) == True:\n",
    "            core_paper_dois.add(node['id'])\n",
    "\n",
    "core_author_ids = set()\n",
    "for item in ps.nodes_json:\n",
    "    if item['id'] in core_paper_dois and isinstance(item['properties'].get('authors'), list):\n",
    "        authors_id = [x['authorId'] for x in item['properties']['authors'] if x['authorId'] is not None] \n",
    "        core_author_ids.update(authors_id)\n",
    "\n",
    "print(len(core_paper_dois), len(core_author_ids))"
   ]
  },
  {
   "cell_type": "code",
   "execution_count": 16,
   "id": "99a00bb2",
   "metadata": {},
   "outputs": [],
   "source": [
    "from app.paper_similarity_calculation import PaperSim\n",
    "\n",
    "sim = PaperSim(\n",
    "    embed_api_key = embed_api_key,\n",
    "    embed_model_name = embed_model_name\n",
    ")"
   ]
  },
  {
   "cell_type": "code",
   "execution_count": 17,
   "id": "572d70e1",
   "metadata": {},
   "outputs": [],
   "source": [
    "# generate paper graph from nodes / edges json\n",
    "G_pre = PaperGraph(name='Paper Graph Init Search')\n",
    "G_pre.add_graph_nodes(ps.nodes_json)\n",
    "G_pre.add_graph_edges(ps.edges_json)"
   ]
  },
  {
   "cell_type": "code",
   "execution_count": 18,
   "id": "572caf91",
   "metadata": {},
   "outputs": [],
   "source": [
    "# check core paper completeness\n",
    "# paper complete\n",
    "candidates['candit_dois'].update([doi for doi in core_paper_dois if doi not in ps.explored_nodes['paper']]) \n",
    "# citation complete\n",
    "candidates['candit_ref_dois'].update([doi for doi in core_paper_dois if doi not in ps.explored_nodes['reference']])\n",
    "candidates['candit_citing_dois'].update([doi for doi in core_paper_dois if doi not in ps.explored_nodes['citing']])\n",
    "# author complete\n",
    "candidates['candit_author_ids'].update([aid for aid in core_author_ids if aid not in ps.explored_nodes['author']]) "
   ]
  },
  {
   "cell_type": "code",
   "execution_count": 20,
   "id": "f4cf9590",
   "metadata": {},
   "outputs": [
    {
     "name": "stdout",
     "output_type": "stream",
     "text": [
      "Graph has 2019 nodes and 2091 edges.\n",
      "There are 4 node types in this graph, they are:\n",
      "[('Author', 1616), ('Paper', 293), ('Journal', 58), ('Venue', 52)]\n",
      "There are 4 edge types in this graph, they are:\n",
      "[('WRITES', 1684), ('CITES', 200), ('RELEASES_IN', 112), ('PRINTS_ON', 95)]\n"
     ]
    }
   ],
   "source": [
    "# --- Graph Stat ---\n",
    "g_stat = get_graph_stats(G_pre)   # graph stats\n",
    "\n",
    "# valid paper with abstracts\n",
    "complete_paper_json = [node for node in ps.nodes_json \n",
    "                        if node['labels'] == ['Paper'] \n",
    "                        and node['properties'].get('title') is not None and node['properties'].get('abstract') is not None]\n",
    "complete_paper_dois = [node['id'] for node in complete_paper_json]"
   ]
  },
  {
   "cell_type": "code",
   "execution_count": 22,
   "id": "292fe22f",
   "metadata": {},
   "outputs": [
    {
     "name": "stderr",
     "output_type": "stream",
     "text": [
      "2025-04-23 21:47:25,208 - INFO - Generating embeddings for 260 papers...\n",
      "2025-04-23 21:47:33,266 - INFO - Shape of embeds_1: (260, 768)\n",
      "2025-04-23 21:47:33,267 - INFO - Shape of embeds_2: (260, 768)\n",
      "2025-04-23 21:47:33,268 - INFO - Calculating similarity matrix...\n",
      "2025-04-23 21:47:33,273 - INFO - Processing similarity matrix to create relationships...\n"
     ]
    }
   ],
   "source": [
    "# --- SIMILARITY CALCULATION ---\n",
    "# check if similarity with edge type\n",
    "edge_types = [x[0] for x in g_stat['edge_type']]\n",
    "\n",
    "if 'SIMILAR_TO' not in edge_types:\n",
    "    # calculate paper nodes similarity\n",
    "    semantic_similar_pool = await sim.cal_embed_and_similarity(\n",
    "        paper_nodes_json = complete_paper_json,\n",
    "        paper_dois_1 = complete_paper_dois, \n",
    "        paper_dois_2 = complete_paper_dois,\n",
    "        similarity_threshold=params['similarity_threshold'],\n",
    "        )\n",
    "\n",
    "    # add similarity edges to graph\n",
    "    G_pre.add_graph_edges(semantic_similar_pool)  "
   ]
  },
  {
   "cell_type": "code",
   "execution_count": 23,
   "id": "8fe29c42",
   "metadata": {},
   "outputs": [
    {
     "name": "stdout",
     "output_type": "stream",
     "text": [
      "Graph has 1979 nodes and 4889 edges.\n",
      "There are 4 node types in this graph, they are:\n",
      "[('Author', 1584), ('Paper', 288), ('Journal', 56), ('Venue', 51)]\n",
      "There are 5 edge types in this graph, they are:\n",
      "[('SIMILAR_TO', 2831), ('WRITES', 1652), ('CITES', 200), ('RELEASES_IN', 112), ('PRINTS_ON', 94)]\n"
     ]
    }
   ],
   "source": [
    "# --- PRUNNING ---\n",
    "# pruning by connectivity\n",
    "sub_graphs = G_pre.find_wcc_subgraphs(target_nodes=core_paper_dois)\n",
    "if sub_graphs is not None and len(sub_graphs) > 0:\n",
    "    G_post  = sub_graphs[0]\n",
    "    # get stats after prunning\n",
    "    g_stat = get_graph_stats(G_post)\n",
    "else:\n",
    "    G_post = G_pre"
   ]
  },
  {
   "cell_type": "code",
   "execution_count": 24,
   "id": "1e697f0c",
   "metadata": {},
   "outputs": [],
   "source": [
    "# --- GET KEY STATS ---\n",
    "# check paper count and author count\n",
    "paper_cnt, author_cnt = 0, 0\n",
    "for item in g_stat['node_type']:\n",
    "    if item[0] == 'Paper':\n",
    "        paper_cnt = item[1]\n",
    "    elif item[0] == 'Author':\n",
    "        author_cnt = item[1]"
   ]
  },
  {
   "cell_type": "code",
   "execution_count": 25,
   "id": "feb35119",
   "metadata": {},
   "outputs": [],
   "source": [
    "paper_stats = get_paper_stats(G_post, core_paper_dois)  # paper stats on graph\n",
    "author_stats = get_author_stats(G_post, core_author_ids)  # author stats on graph\n",
    "\n",
    "# check crossref\n",
    "crossref_stats = []\n",
    "for x in paper_stats:\n",
    "    if (x['if_seed'] == False  # exclude seed papers \n",
    "        and x['local_citation_cnt'] > min(len(core_paper_dois),  5)):  # select most refered papers in graph\n",
    "        crossref_stats.append(x)\n",
    "\n",
    "# check key authors\n",
    "key_authors_stats = []\n",
    "for x in author_stats:\n",
    "    if (x['if_seed'] == False  # exclude seed authors \n",
    "        and x['local_paper_cnt'] > min(len(core_paper_dois), 5)):  # select most refered papers in graph\n",
    "        key_authors_stats.append(x)\n",
    "\n",
    "# check paper similarity\n",
    "sorted_paper_similarity = sorted(paper_stats, key=lambda x:x['max_sim_to_seed'], reverse=True)\n",
    "\n",
    "# if cross ref insufficient, further expand similar papers on citation chain\n",
    "if len(crossref_stats) < params['min_corssref_papers']:\n",
    "    # filter top similar papers (to help build crossref)\n",
    "    i = 0\n",
    "    for item in sorted_paper_similarity:\n",
    "        if i < params['top_k_similar_papers']:\n",
    "            if item['if_seed'] == False and item['doi'] not in ps.explored_nodes['reference']:\n",
    "                candidates['candit_ref_dois'].add(item['doi'])\n",
    "                i += 1\n",
    "        else:\n",
    "            break\n",
    "\n",
    "# if key authors not have complete information\n",
    "if len(key_authors_stats) > params['min_key_authors']:\n",
    "    sorted_key_authors = sorted(key_authors_stats, key=lambda x:x['local_paper_cnt'], reverse=True)\n",
    "    # filter key authors (to amplify information)\n",
    "    i = 0\n",
    "    for item in sorted_key_authors:\n",
    "        if i < params['top_l_key_authors']:\n",
    "            if item['if_seed'] == False and item['author_id'] not in ps.explored_nodes['author']:\n",
    "                candidates['candit_author_ids'].add(item['author_id'])\n",
    "                i += 1\n",
    "        else:\n",
    "            break"
   ]
  },
  {
   "cell_type": "code",
   "execution_count": 26,
   "id": "b4be0147",
   "metadata": {},
   "outputs": [
    {
     "data": {
      "text/plain": [
       "{'candit_dois': {'10.48550/arXiv.2503.01424'},\n",
       " 'candit_author_ids': {'2108024279',\n",
       "  '2112678409',\n",
       "  '2116271777',\n",
       "  '2118640235',\n",
       "  '2216503559',\n",
       "  '2257010530',\n",
       "  '2259709647',\n",
       "  '2262020955',\n",
       "  '2265878959',\n",
       "  '2265930173',\n",
       "  '2268132119',\n",
       "  '2273779175',\n",
       "  '2275569993',\n",
       "  '2284824283',\n",
       "  '2284825678',\n",
       "  '2284827556',\n",
       "  '2286328804',\n",
       "  '2289004972',\n",
       "  '2293356300',\n",
       "  '2307012818',\n",
       "  '2328342585',\n",
       "  '2335566763',\n",
       "  '2335569348',\n",
       "  '2337225259',\n",
       "  '2349068478',\n",
       "  '2674998',\n",
       "  '51056442'},\n",
       " 'candit_ref_dois': {'10.1007/s00607-023-01181-x',\n",
       "  '10.48550/arXiv.2306.00622',\n",
       "  '10.48550/arXiv.2307.05492',\n",
       "  '10.48550/arXiv.2310.01783',\n",
       "  '10.48550/arXiv.2404.07738',\n",
       "  '10.48550/arXiv.2406.05688',\n",
       "  '10.48550/arXiv.2408.07884',\n",
       "  '10.48550/arXiv.2408.10365',\n",
       "  '10.48550/arXiv.2410.03019',\n",
       "  '10.48550/arXiv.2411.00816',\n",
       "  '10.48550/arXiv.2502.17086',\n",
       "  '10.48550/arXiv.2502.19614',\n",
       "  '10.48550/arXiv.2503.01424',\n",
       "  '10.48550/arXiv.2503.04629',\n",
       "  '10.48550/arXiv.2503.08506',\n",
       "  '10.48550/arXiv.2503.08549',\n",
       "  '10.48550/arXiv.2503.08569',\n",
       "  '10.48550/arXiv.2503.21248',\n",
       "  '10.48550/arXiv.2503.24047',\n",
       "  '10.48550/arXiv.2504.08762',\n",
       "  '10.48550/arXiv.2504.09737'},\n",
       " 'candit_citing_dois': {'10.48550/arXiv.2503.01424'},\n",
       " 'candit_topics': {'llm literature review'}}"
      ]
     },
     "execution_count": 26,
     "metadata": {},
     "output_type": "execute_result"
    }
   ],
   "source": [
    "candidates"
   ]
  },
  {
   "cell_type": "code",
   "execution_count": null,
   "id": "6a7e1c46",
   "metadata": {},
   "outputs": [],
   "source": [
    "len(core_author_ids)"
   ]
  },
  {
   "cell_type": "code",
   "execution_count": null,
   "id": "85d2787f",
   "metadata": {},
   "outputs": [],
   "source": [
    "candit_ref_dois"
   ]
  },
  {
   "cell_type": "code",
   "execution_count": null,
   "id": "3c2b693c",
   "metadata": {},
   "outputs": [],
   "source": [
    "sorted_paper_similarity"
   ]
  },
  {
   "cell_type": "code",
   "execution_count": null,
   "id": "5dc93709",
   "metadata": {},
   "outputs": [],
   "source": [
    "topic_ids = set([nid for nid, node_data in G_post.nodes(data=True) if node_data.get('node_type') == 'Topic'])\n",
    "topic_stats = []\n",
    "for tid in topic_ids:\n",
    "    i = 0\n",
    "    topic = G_post.nodes(tid).get('topic_name')\n",
    "    for u, v, edge_data in G_post.in_edges(tid, data=True):\n",
    "        if edge_data.get('relationshipType') == 'DISCUSS':\n",
    "            i += 1\n",
    "    topic_stats.append({'topic_id':tid, 'topic_name':topic, 'related_papers':i})"
   ]
  },
  {
   "cell_type": "code",
   "execution_count": null,
   "id": "1cb8b49b",
   "metadata": {},
   "outputs": [],
   "source": [
    "core_paper_json = [x for x in complete_paper_json if x['id'] in core_paper_dois]\n",
    "if len(topic_stats) < 4:\n",
    "    keywords_topics_json = await ps.topic_generation(\n",
    "        seed_paper_json=core_paper_json,\n",
    "        llm_api_key=llm_api_key,\n",
    "        llm_model_name=llm_model_name,\n",
    "        round=1\n",
    "        )\n",
    "    topic_queries = keywords_topics_json.get('queries', [])\n",
    "    candit_topics.update(topic_queries)"
   ]
  },
  {
   "cell_type": "code",
   "execution_count": null,
   "id": "0b5412ce",
   "metadata": {},
   "outputs": [],
   "source": [
    "candit_topics"
   ]
  },
  {
   "cell_type": "code",
   "execution_count": null,
   "id": "57a74ea8",
   "metadata": {},
   "outputs": [],
   "source": [
    "key_authors_stats"
   ]
  },
  {
   "cell_type": "code",
   "execution_count": null,
   "id": "90325293",
   "metadata": {},
   "outputs": [],
   "source": [
    "G_post.nodes('2112678409')"
   ]
  },
  {
   "cell_type": "code",
   "execution_count": null,
   "id": "bb097a5e",
   "metadata": {},
   "outputs": [],
   "source": [
    "candit_author_ids"
   ]
  },
  {
   "cell_type": "code",
   "execution_count": null,
   "id": "ec7cbea8",
   "metadata": {},
   "outputs": [],
   "source": [
    "candit_dois\n",
    "candit_author_ids\n",
    "candit_ref_dois, candit_citing_dois = [], []"
   ]
  },
  {
   "cell_type": "code",
   "execution_count": null,
   "id": "22a3cd1e",
   "metadata": {},
   "outputs": [],
   "source": [
    "item"
   ]
  },
  {
   "cell_type": "code",
   "execution_count": null,
   "id": "ad9113c0",
   "metadata": {},
   "outputs": [],
   "source": [
    "for item in complete_paper_json:\n",
    "    print(item.get('properties', {}).get('title'))"
   ]
  },
  {
   "cell_type": "code",
   "execution_count": null,
   "id": "63bb1595",
   "metadata": {},
   "outputs": [],
   "source": [
    "candit_citing_dois"
   ]
  },
  {
   "cell_type": "code",
   "execution_count": null,
   "id": "b42cf5a7",
   "metadata": {},
   "outputs": [],
   "source": [
    "candit_ref_dois"
   ]
  },
  {
   "cell_type": "code",
   "execution_count": null,
   "id": "3bfb27bf",
   "metadata": {},
   "outputs": [],
   "source": []
  }
 ],
 "metadata": {
  "kernelspec": {
   "display_name": "ai4fun",
   "language": "python",
   "name": "python3"
  },
  "language_info": {
   "codemirror_mode": {
    "name": "ipython",
    "version": 3
   },
   "file_extension": ".py",
   "mimetype": "text/x-python",
   "name": "python",
   "nbconvert_exporter": "python",
   "pygments_lexer": "ipython3",
   "version": "3.10.13"
  }
 },
 "nbformat": 4,
 "nbformat_minor": 5
}
