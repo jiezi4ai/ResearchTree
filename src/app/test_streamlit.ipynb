{
 "cells": [
  {
   "cell_type": "code",
   "execution_count": null,
   "id": "9300fa00",
   "metadata": {},
   "outputs": [],
   "source": [
    "import streamlit as st\n",
    "import pandas as pd\n",
    "import numpy as np\n",
    "\n",
    "st.title('Discover Literature Works and Build A Research Tree!')\n",
    "\n",
    "if 'num_title_input_boxes' not in st.session_state:\n",
    "    st.session_state['num_title_input_boxes'] = 3\n",
    "\n",
    "# --- Function to increment the number of boxes ---\n",
    "# This function will be called when the button is clicked.\n",
    "def add_paper_title_box():\n",
    "    st.session_state['num_title_input_boxes'] += 1\n",
    "\n",
    "with st.sidebar:\n",
    "    st.header(\"Inputs\")\n",
    "    st.text(\"Let's start from some seed papers:\")\n",
    "\n",
    "    # for research topics\n",
    "    with st.container():\n",
    "        topic_input = st.text_input(\"Research Topic\", \"Input research topic you interested in\")\n",
    "\n",
    "    # for seed paper titles\n",
    "    seed_title_widgets = []\n",
    "    seed_title_inputs = {}\n",
    "    with st.container():\n",
    "        # Loop based on the number stored in session state\n",
    "        for i in range(st.session_state['num_input_boxes']):\n",
    "            key = f\"seed_paper_title_{i}\"\n",
    "            label = f\"Input seed paper title #{i + 1}\"\n",
    "            user_input = st.text_input(label, key=key)\n",
    "\n",
    "            # Store the widget or its value if you need to process them later\n",
    "            seed_title_widgets.append(user_input) # Note: this stores the *current* value, not the widget object itself\n",
    "            seed_title_inputs[key] = st.session_state[key] # More reliable way to get current value\n",
    "\n",
    "    st.button(\"➕ Add More Input Boxes\", on_click=add_paper_title_box, type=\"primary\")\n",
    "\n",
    "    # for seed paper dois\n",
    "    with st.container():\n",
    "        dois_input = st.text_area(\n",
    "            \"Input seed paper dois here:\",\n",
    "            \"Example like 'https://doi.org/10.7717/peerj.4375, 10.7717/peerj.4375, 2406.10252' would be accepted.\"\n",
    "            \"Make sure to intercept each doi with ','. \"\n",
    "        )\n",
    "\n",
    "with st.container():\n",
    "    st.header(\"Outputs\")\n",
    "    with st.contain():\n",
    "        st.writes(topic_input)\n",
    "\n",
    "    with st.contain():\n",
    "        # Access values directly from session state using the keys we generated\n",
    "        if st.session_state['num_input_boxes'] > 0:\n",
    "            for i in range(st.session_state['num_input_boxes']):\n",
    "                key = f\"input_{i}\"\n",
    "                st.write(f\"Box #{i + 1} (Key: `{key}`): **{st.session_state[key]}**\")\n",
    "        else:\n",
    "            st.write(\"No input boxes yet.\")\n",
    "\n",
    "    with st.contain():\n",
    "        st.write(dois_input)"
   ]
  },
  {
   "cell_type": "code",
   "execution_count": null,
   "id": "9e28000a",
   "metadata": {},
   "outputs": [],
   "source": [
    "import streamlit as st\n",
    "\n",
    "st.header(\"_Streamlit_ is :blue[cool] :sunglasses:\")\n",
    "st.header(\"This is a header with a divider\", divider=\"gray\")\n",
    "st.header(\"These headers have rotating dividers\", divider=True)\n",
    "st.header(\"One\", divider=True)\n",
    "st.header(\"Two\", divider=True)\n",
    "st.header(\"Three\", divider=True)\n",
    "st.header(\"Four\", divider=True)"
   ]
  },
  {
   "cell_type": "code",
   "execution_count": null,
   "id": "13eb9fe7",
   "metadata": {},
   "outputs": [],
   "source": [
    "help(st)"
   ]
  },
  {
   "cell_type": "code",
   "execution_count": null,
   "id": "f65596d5",
   "metadata": {},
   "outputs": [],
   "source": []
  }
 ],
 "metadata": {
  "kernelspec": {
   "display_name": "ai4fun",
   "language": "python",
   "name": "python3"
  },
  "language_info": {
   "codemirror_mode": {
    "name": "ipython",
    "version": 3
   },
   "file_extension": ".py",
   "mimetype": "text/x-python",
   "name": "python",
   "nbconvert_exporter": "python",
   "pygments_lexer": "ipython3",
   "version": "3.10.13"
  }
 },
 "nbformat": 4,
 "nbformat_minor": 5
}
