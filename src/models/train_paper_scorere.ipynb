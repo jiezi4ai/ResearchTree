{
 "cells": [
  {
   "cell_type": "markdown",
   "id": "e48ee146",
   "metadata": {},
   "source": [
    "# Preparation"
   ]
  },
  {
   "cell_type": "markdown",
   "id": "a14659a0",
   "metadata": {},
   "source": [
    "## Background"
   ]
  },
  {
   "cell_type": "markdown",
   "id": "1405db59",
   "metadata": {},
   "source": [
    "Train a model scorer to filter papers based on its metadata and semantic information (title & abstract)\n",
    "- Data\n",
    "  - utilize [OpenReivew data](https://huggingface.co/datasets/nhop/OpenReview)\n",
    "  - be aware that the data might be biased towards Computer Science and contains fewer works from other domains\n",
    "- Target\n",
    "  - predict if the paper is significant or not. Target label could be determined by the following rules:\n",
    "    -  citation\n",
    "    -  review score\n",
    "    -  discussing trend?\n",
    "- Variables\n",
    "  - paper metadata\n",
    "  - paper semantic information\n",
    "  - paper related information (graph information)\n",
    "  - previous citation information "
   ]
  },
  {
   "cell_type": "markdown",
   "id": "4855a0bb",
   "metadata": {},
   "source": [
    "## Data"
   ]
  },
  {
   "cell_type": "code",
   "execution_count": 3,
   "id": "87023676",
   "metadata": {},
   "outputs": [
    {
     "name": "stdout",
     "output_type": "stream",
     "text": [
      "   count_star()\n",
      "0         34638\n"
     ]
    }
   ],
   "source": [
    "import duckdb\n",
    "import pandas as pd\n",
    "\n",
    "# 创建一个 DuckDB 数据库连接\n",
    "con = duckdb.connect(\"/Users/jiezi/Documents/Local Code/Backup/ResearchTree/data/openreview.duckdb\")\n",
    "table_name = 'openreview_data_20250424'\n",
    "# 执行一些简单的查询以验证数据是否正确加载\n",
    "result_df = con.execute(f\"SELECT COUNT(*) FROM {table_name}\").fetchdf()\n",
    "print(result_df)"
   ]
  },
  {
   "cell_type": "markdown",
   "id": "89416fe1",
   "metadata": {},
   "source": []
  }
 ],
 "metadata": {
  "kernelspec": {
   "display_name": "jiezi4ai",
   "language": "python",
   "name": "python3"
  },
  "language_info": {
   "codemirror_mode": {
    "name": "ipython",
    "version": 3
   },
   "file_extension": ".py",
   "mimetype": "text/x-python",
   "name": "python",
   "nbconvert_exporter": "python",
   "pygments_lexer": "ipython3",
   "version": "3.10.16"
  }
 },
 "nbformat": 4,
 "nbformat_minor": 5
}
