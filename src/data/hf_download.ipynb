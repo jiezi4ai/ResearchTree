{
 "cells": [
  {
   "cell_type": "code",
   "execution_count": null,
   "id": "24fc8765",
   "metadata": {},
   "outputs": [],
   "source": [
    "from huggingface_hub import snapshot_download\n",
    "snapshot_download(repo_id=\"nhop/OpenReview\", \n",
    "                  repo_type=\"dataset\", \n",
    "                  local_dir=\"/Users/jiezi/Documents/Local Code/Project/ResearchTree/src/data\")"
   ]
  },
  {
   "cell_type": "code",
   "execution_count": null,
   "id": "f21c2045",
   "metadata": {},
   "outputs": [],
   "source": [
    "import duckdb\n",
    "import pandas as pd\n",
    "\n",
    "# 创建一个 DuckDB 数据库连接\n",
    "con = duckdb.connect(\"~/openreview.duckdb\")\n",
    "\n",
    "# 假设所有的 parquet 文件都在同一个目录下\n",
    "import os\n",
    "directory_path = './openreview/data/'\n",
    "\n",
    "# 获取所有匹配的 .parquet 文件路径\n",
    "file_paths = [os.path.join(directory_path, f) for f in os.listdir(directory_path) if f.endswith('.parquet')]\n",
    "\n",
    "# 将所有的 parquet 文件合并成一个表\n",
    "table_name = 'openreview_data_20250424'\n",
    "for i, file_path in enumerate(file_paths):\n",
    "    # 如果是第一个文件，则创建一个新的表\n",
    "    if i == 0:\n",
    "        con.execute(f\"CREATE TABLE {table_name} AS SELECT * FROM read_parquet('{file_path}')\")\n",
    "    else:\n",
    "        # 否则，将数据追加到现有的表中\n",
    "        con.execute(f\"INSERT INTO {table_name} SELECT * FROM read_parquet('{file_path}')\")\n",
    "\n"
   ]
  },
  {
   "cell_type": "code",
   "execution_count": null,
   "id": "739ae04c",
   "metadata": {},
   "outputs": [],
   "source": [
    "# 执行一些简单的查询以验证数据是否正确加载\n",
    "result_df = con.execute(f\"SELECT COUNT(*) FROM {table_name}\").fetchdf()\n",
    "print(result_df)"
   ]
  },
  {
   "cell_type": "code",
   "execution_count": null,
   "id": "dd9a5d71",
   "metadata": {},
   "outputs": [],
   "source": [
    "# 将整个表转换为 Pandas DataFrame\n",
    "full_data_df = con.execute(f\"SELECT * FROM {table_name}\").fetchdf()\n",
    "\n",
    "# 现在可以在 Pandas 中对 full_data_df 进行进一步的分析和计算\n",
    "# 示例：打印前5行数据\n",
    "print(full_data_df.head())"
   ]
  },
  {
   "cell_type": "code",
   "execution_count": null,
   "id": "e6db0123",
   "metadata": {},
   "outputs": [],
   "source": []
  }
 ],
 "metadata": {
  "kernelspec": {
   "display_name": "jiezi4ai",
   "language": "python",
   "name": "python3"
  },
  "language_info": {
   "codemirror_mode": {
    "name": "ipython",
    "version": 3
   },
   "file_extension": ".py",
   "mimetype": "text/x-python",
   "name": "python",
   "nbconvert_exporter": "python",
   "pygments_lexer": "ipython3",
   "version": "3.10.16"
  }
 },
 "nbformat": 4,
 "nbformat_minor": 5
}
