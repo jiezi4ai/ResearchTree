{
 "cells": [
  {
   "cell_type": "code",
   "execution_count": null,
   "id": "3aabc725",
   "metadata": {},
   "outputs": [],
   "source": [
    "import copy\n",
    "from typing import List, Dict, Optional, Union, Tuple, Literal # Added Tuple"
   ]
  },
  {
   "cell_type": "code",
   "execution_count": null,
   "id": "3375619b",
   "metadata": {},
   "outputs": [],
   "source": [
    "import os\n",
    "import json\n",
    "\n",
    "import sys\n",
    "import os\n",
    "\n",
    "parent_dir = os.path.dirname(os.getcwd())\n",
    "sys.path.append(parent_dir)"
   ]
  },
  {
   "cell_type": "code",
   "execution_count": null,
   "id": "9623dad7",
   "metadata": {},
   "outputs": [],
   "source": [
    "from graph.paper_graph import PaperGraph\n",
    "from graph.graph_viz import GraphViz"
   ]
  },
  {
   "cell_type": "code",
   "execution_count": null,
   "id": "f57ad172",
   "metadata": {},
   "outputs": [],
   "source": [
    "# driving examples\n",
    "llm_api_key = os.getenv('GEMINI_API_KEY_3')\n",
    "llm_model_name=\"gemini-2.0-flash\"\n",
    "embed_api_key = os.getenv('GEMINI_API_KEY_3')\n",
    "embed_model_name=\"models/text-embedding-004\"\n",
    "\n",
    "research_topics = [\"llm literature review\"]\n",
    "seed_dois = ['10.48550/arXiv.2406.10252',  # AutoSurvey: Large Language Models Can Automatically Write Surveys\n",
    "            '10.48550/arXiv.2412.10415',  # Generative Adversarial Reviews: When LLMs Become the Critic\n",
    "            '10.48550/arXiv.2402.12928',  # A Literature Review of Literature Reviews in Pattern Analysis and Machine Intelligence \n",
    "            ]\n",
    "seed_titles = ['PaperRobot: Incremental Draft Generation of Scientific Ideas',\n",
    "            'From Hypothesis to Publication: A Comprehensive Survey of AI-Driven Research Support Systems'\n",
    "            ]"
   ]
  },
  {
   "cell_type": "code",
   "execution_count": null,
   "id": "4216dec0",
   "metadata": {},
   "outputs": [],
   "source": [
    "citation_limit = 100\n",
    "author_paper_limit = 10\n",
    "\n",
    "if len(seed_dois) < 10 or len(seed_titles) < 10:\n",
    "    search_limit = 100\n",
    "    recommend_limit = 100\n",
    "else:\n",
    "    search_limit = 50\n",
    "    recommend_limit = 50"
   ]
  },
  {
   "cell_type": "code",
   "execution_count": null,
   "id": "0a365f3d",
   "metadata": {},
   "outputs": [],
   "source": [
    "from collect.paper_data_collect import PaperCollector\n",
    "\n",
    "ps = PaperCollector(   \n",
    "    seed_research_topics = research_topics,   \n",
    "    seed_paper_titles = seed_titles, \n",
    "    seed_paper_ids = seed_dois,\n",
    "    from_dt = '2020-01-01',\n",
    "    to_dt = '2025-04-30',\n",
    "    fields_of_study = ['Computer Science'],\n",
    "    author_paper_limit = author_paper_limit,\n",
    "    search_limit = search_limit,\n",
    "    recommend_limit = recommend_limit,\n",
    "    citation_limit = citation_limit\n",
    "    )"
   ]
  },
  {
   "cell_type": "code",
   "execution_count": null,
   "id": "400a22ea",
   "metadata": {},
   "outputs": [],
   "source": [
    "await ps.paper_search(seed_titles, seed_dois)"
   ]
  },
  {
   "cell_type": "code",
   "execution_count": null,
   "id": "a681592b",
   "metadata": {},
   "outputs": [],
   "source": [
    "await ps.topic_search(\n",
    "    topics = research_topics, \n",
    "    search_limit = search_limit, \n",
    "    from_dt = ps.from_dt,\n",
    "    to_dt = ps.to_dt,\n",
    "    fields_of_study = ps.fields_of_study\n",
    "    )"
   ]
  },
  {
   "cell_type": "code",
   "execution_count": null,
   "id": "3294421b",
   "metadata": {},
   "outputs": [],
   "source": [
    "await ps.authors_search(author_ids=['2280370148', '2220362282'])\n"
   ]
  },
  {
   "cell_type": "code",
   "execution_count": null,
   "id": "40a51321",
   "metadata": {},
   "outputs": [],
   "source": [
    "await ps.paper_author_search(paper_ids=['arXiv:2504.16828', 'arXiv:2504.16084'])"
   ]
  },
  {
   "cell_type": "code",
   "execution_count": null,
   "id": "65becd56",
   "metadata": {},
   "outputs": [],
   "source": [
    "await ps.reference_search(paper_ids=['arXiv:2504.16828', 'arXiv:2504.16084'])"
   ]
  },
  {
   "cell_type": "code",
   "execution_count": null,
   "id": "082038f6",
   "metadata": {},
   "outputs": [],
   "source": [
    "await ps.citing_search(paper_ids=['arXiv:2402.03300', 'arXiv:1707.06347'])"
   ]
  },
  {
   "cell_type": "code",
   "execution_count": null,
   "id": "526378be",
   "metadata": {},
   "outputs": [],
   "source": [
    "await ps.paper_recommendation(\n",
    "    pos_paper_ids=['arXiv:2504.16084', 'arXiv:2502.01456'], \n",
    "    neg_paper_ids=['arXiv:2209.15073', 'arXiv:2206.13717'])"
   ]
  },
  {
   "cell_type": "code",
   "execution_count": null,
   "id": "8b7a55e3",
   "metadata": {},
   "outputs": [],
   "source": [
    "from semanticscholar import AsyncSemanticScholar \n",
    "s2 = AsyncSemanticScholar()\n",
    "test = await s2.get_paper_citations(paper_id='arXiv:2402.03300')"
   ]
  },
  {
   "cell_type": "code",
   "execution_count": null,
   "id": "b84599cf",
   "metadata": {},
   "outputs": [],
   "source": [
    "from semanticscholar.Paper import Paper\n",
    "from semanticscholar.Author import Author\n",
    "from semanticscholar.Citation import Citation\n",
    "from semanticscholar.Reference import Reference\n",
    "from semanticscholar.PaginatedResults import PaginatedResults"
   ]
  },
  {
   "cell_type": "code",
   "execution_count": null,
   "id": "a5516d7f",
   "metadata": {},
   "outputs": [],
   "source": [
    "if isinstance(test, PaginatedResults) and test._items:\n",
    "    for cit_item in test._items:\n",
    "        print(cit_item)\n",
    "        if not isinstance(cit_item, Citation) or not hasattr(cit_item, 'raw_data'): continue\n",
    "        print(cit_item.paper)\n",
    "        print(cit_item.paper)\n",
    "        # get paper\n",
    "        citing_paper = cit_item.paper if hasattr(cit_item, 'paper') else None"
   ]
  },
  {
   "cell_type": "code",
   "execution_count": null,
   "id": "0f6835a8",
   "metadata": {},
   "outputs": [],
   "source": [
    "citing_paper"
   ]
  },
  {
   "cell_type": "code",
   "execution_count": null,
   "id": "bfa25fef",
   "metadata": {},
   "outputs": [],
   "source": [
    "ref_item"
   ]
  },
  {
   "cell_type": "code",
   "execution_count": null,
   "id": "66860706",
   "metadata": {},
   "outputs": [],
   "source": [
    "ref_item.paper"
   ]
  },
  {
   "cell_type": "code",
   "execution_count": null,
   "id": "e40ec60c",
   "metadata": {},
   "outputs": [],
   "source": [
    "help(ref_item)"
   ]
  },
  {
   "cell_type": "code",
   "execution_count": null,
   "id": "71bbd046",
   "metadata": {},
   "outputs": [],
   "source": [
    "from semanticscholar import SemanticScholar \n",
    "s1 = SemanticScholar()\n",
    "test1 = s1.get_paper_references(paper_id='arXiv:2504.16828')"
   ]
  },
  {
   "cell_type": "code",
   "execution_count": null,
   "id": "30e2c840",
   "metadata": {},
   "outputs": [],
   "source": [
    "test1[0]"
   ]
  },
  {
   "cell_type": "code",
   "execution_count": null,
   "id": "a680ed09",
   "metadata": {},
   "outputs": [],
   "source": [
    "test.items"
   ]
  },
  {
   "cell_type": "code",
   "execution_count": null,
   "id": "a9203538",
   "metadata": {},
   "outputs": [],
   "source": [
    "ps.explored_nodes"
   ]
  },
  {
   "cell_type": "code",
   "execution_count": null,
   "id": "7c4ec128",
   "metadata": {},
   "outputs": [],
   "source": [
    "ps.not_found_nodes"
   ]
  },
  {
   "cell_type": "code",
   "execution_count": null,
   "id": "829515c9",
   "metadata": {},
   "outputs": [],
   "source": [
    "for item in ps.data_pool['paper']:\n",
    "    if item['paperId'] in ['da65443c52f3ec97215769fefa917f0a1156acff', \n",
    "                           '0d9e5e63df3a96c96ccf1a5931ae2fc1d6f5e414',\n",
    "                           'ad10dddb8090bed89314ace1e658fc9dd504a8e7',\n",
    "                           'c3be597fcaca180d4601c2ff72c6b380de1258ca',\n",
    "                           '1fc6f990d01d4428533c3834d8cb5ba4820f8e36'\n",
    "                           ]:\n",
    "        print(item['title'])"
   ]
  },
  {
   "cell_type": "code",
   "execution_count": null,
   "id": "3d5135a4",
   "metadata": {},
   "outputs": [],
   "source": [
    "len(ps.data_pool['author'])"
   ]
  },
  {
   "cell_type": "code",
   "execution_count": null,
   "id": "28fd7820",
   "metadata": {},
   "outputs": [],
   "source": [
    "len(ps.data_pool['paper'])"
   ]
  },
  {
   "cell_type": "code",
   "execution_count": null,
   "id": "336ec904",
   "metadata": {},
   "outputs": [],
   "source": [
    "len(ps.data_pool['paper']"
   ]
  },
  {
   "cell_type": "code",
   "execution_count": null,
   "id": "a0f9311e",
   "metadata": {},
   "outputs": [],
   "source": []
  }
 ],
 "metadata": {
  "kernelspec": {
   "display_name": "ai4fun",
   "language": "python",
   "name": "python3"
  },
  "language_info": {
   "codemirror_mode": {
    "name": "ipython",
    "version": 3
   },
   "file_extension": ".py",
   "mimetype": "text/x-python",
   "name": "python",
   "nbconvert_exporter": "python",
   "pygments_lexer": "ipython3",
   "version": "3.10.13"
  }
 },
 "nbformat": 4,
 "nbformat_minor": 5
}
