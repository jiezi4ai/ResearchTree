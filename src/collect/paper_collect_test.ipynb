{
 "cells": [
  {
   "cell_type": "markdown",
   "id": "a9db46f5",
   "metadata": {},
   "source": [
    "# Setup"
   ]
  },
  {
   "cell_type": "code",
   "execution_count": null,
   "id": "3aabc725",
   "metadata": {},
   "outputs": [],
   "source": [
    "import copy\n",
    "from typing import List, Dict, Optional, Union, Tuple, Literal"
   ]
  },
  {
   "cell_type": "code",
   "execution_count": null,
   "id": "3375619b",
   "metadata": {},
   "outputs": [],
   "source": [
    "import os\n",
    "import json\n",
    "\n",
    "import sys\n",
    "import os\n",
    "\n",
    "parent_dir = os.path.dirname(os.getcwd())\n",
    "sys.path.append(parent_dir)"
   ]
  },
  {
   "cell_type": "code",
   "execution_count": null,
   "id": "9623dad7",
   "metadata": {},
   "outputs": [],
   "source": [
    "from graph.paper_graph import PaperGraph\n",
    "from graph.graph_viz import GraphViz"
   ]
  },
  {
   "cell_type": "code",
   "execution_count": null,
   "id": "f57ad172",
   "metadata": {},
   "outputs": [],
   "source": [
    "# driving examples\n",
    "llm_api_key = os.getenv('GEMINI_API_KEY_3')\n",
    "llm_model_name=\"gemini-2.0-flash\"\n",
    "embed_api_key = os.getenv('GEMINI_API_KEY_3')\n",
    "embed_model_name=\"models/text-embedding-004\"\n",
    "\n",
    "research_topics = [\"llm literature review\"]\n",
    "seed_dois = ['10.48550/arXiv.2406.10252',  # AutoSurvey: Large Language Models Can Automatically Write Surveys\n",
    "            '10.48550/arXiv.2412.10415',  # Generative Adversarial Reviews: When LLMs Become the Critic\n",
    "            '10.48550/arXiv.2402.12928',  # A Literature Review of Literature Reviews in Pattern Analysis and Machine Intelligence \n",
    "            ]\n",
    "seed_titles = ['PaperRobot: Incremental Draft Generation of Scientific Ideas',\n",
    "            'From Hypothesis to Publication: A Comprehensive Survey of AI-Driven Research Support Systems'\n",
    "            ]"
   ]
  },
  {
   "cell_type": "code",
   "execution_count": null,
   "id": "4216dec0",
   "metadata": {},
   "outputs": [],
   "source": [
    "citation_limit = 100\n",
    "author_paper_limit = 10\n",
    "\n",
    "if len(seed_dois) < 10 or len(seed_titles) < 10:\n",
    "    search_limit = 100\n",
    "    recommend_limit = 100\n",
    "else:\n",
    "    search_limit = 50\n",
    "    recommend_limit = 50"
   ]
  },
  {
   "cell_type": "code",
   "execution_count": null,
   "id": "0a365f3d",
   "metadata": {},
   "outputs": [],
   "source": [
    "from collect.paper_data_collect import PaperCollector\n",
    "\n",
    "ps = PaperCollector(   \n",
    "    seed_research_topics = research_topics,   \n",
    "    seed_paper_titles = seed_titles, \n",
    "    seed_paper_ids = seed_dois,\n",
    "    from_dt = '2020-01-01',\n",
    "    to_dt = '2025-04-30',\n",
    "    fields_of_study = ['Computer Science'],\n",
    "    author_paper_limit = author_paper_limit,\n",
    "    search_limit = search_limit,\n",
    "    recommend_limit = recommend_limit,\n",
    "    citation_limit = citation_limit\n",
    "    )"
   ]
  },
  {
   "cell_type": "markdown",
   "id": "b96de119",
   "metadata": {},
   "source": [
    "# Data Collection"
   ]
  },
  {
   "cell_type": "markdown",
   "id": "5791ec28",
   "metadata": {},
   "source": [
    "## Initial Search"
   ]
  },
  {
   "cell_type": "markdown",
   "id": "2bfe7dd3",
   "metadata": {},
   "source": [
    "### Data Generation"
   ]
  },
  {
   "cell_type": "markdown",
   "id": "d0ed374b",
   "metadata": {},
   "source": [
    "Get paper data"
   ]
  },
  {
   "cell_type": "code",
   "execution_count": null,
   "id": "6407d846",
   "metadata": {},
   "outputs": [],
   "source": [
    "await ps.consolidated_search(\n",
    "    paper_titles = seed_titles,\n",
    "    paper_ids = seed_dois\n",
    ")"
   ]
  },
  {
   "cell_type": "markdown",
   "id": "ebb8be95",
   "metadata": {},
   "source": [
    "### Post-Processing"
   ]
  },
  {
   "cell_type": "markdown",
   "id": "5f64688e",
   "metadata": {},
   "source": [
    "Paper post process"
   ]
  },
  {
   "cell_type": "code",
   "execution_count": null,
   "id": "fccfdb75",
   "metadata": {},
   "outputs": [],
   "source": [
    "await ps.post_process(if_supplement_abstract=True)"
   ]
  },
  {
   "cell_type": "markdown",
   "id": "0e069bd0",
   "metadata": {},
   "source": [
    "### Routing"
   ]
  },
  {
   "cell_type": "markdown",
   "id": "2daf6947",
   "metadata": {},
   "source": [
    "Plan next move"
   ]
  },
  {
   "cell_type": "code",
   "execution_count": null,
   "id": "698fba67",
   "metadata": {},
   "outputs": [],
   "source": [
    "# core papers and core authors nodes\n",
    "core_paper_ids = set(node['id'] for node in ps.nodes_json if node['labels'] == ['Paper'])\n",
    "core_author_ids = set(node['id'] for node in ps.nodes_json if node['labels'] == ['Author'])\n",
    "print(len(core_paper_ids), len(core_author_ids))"
   ]
  },
  {
   "cell_type": "code",
   "execution_count": null,
   "id": "61975557",
   "metadata": {},
   "outputs": [],
   "source": [
    "ps.explored_nodes['paper'].update(core_paper_ids)"
   ]
  },
  {
   "cell_type": "code",
   "execution_count": null,
   "id": "57faf91a",
   "metadata": {},
   "outputs": [],
   "source": [
    "# for authors\n",
    "author_ids = [author_id for author_id in core_author_ids if author_id not in ps.explored_nodes['author']]"
   ]
  },
  {
   "cell_type": "code",
   "execution_count": null,
   "id": "0b88a95f",
   "metadata": {},
   "outputs": [],
   "source": [
    "# for reference and citings\n",
    "ref_ids = [pid for pid in core_paper_ids if pid not in ps.explored_nodes['reference']]\n",
    "cit_ids = [pid for pid in core_paper_ids if pid not in ps.explored_nodes['citing']]"
   ]
  },
  {
   "cell_type": "code",
   "execution_count": null,
   "id": "cf3c6a45",
   "metadata": {},
   "outputs": [],
   "source": [
    "# recommendation \n",
    "# if len(ps.explored_nodes['recommendation']) == 0:\n",
    "if len(core_paper_ids) > 3:\n",
    "    pos_paper_ids = list(core_paper_ids)\n",
    "    neg_paper_ids = []"
   ]
  },
  {
   "cell_type": "code",
   "execution_count": null,
   "id": "24fffd37",
   "metadata": {},
   "outputs": [],
   "source": [
    "# topics generation\n",
    "core_paper_json = [x for x in ps.nodes_json if x['id'] in core_paper_ids]\n",
    "if len(ps.explored_nodes['topic']) < 4:  # explored topic less than 4, generate new topics\n",
    "    await ps.topic_generation(\n",
    "        paper_json = core_paper_json,\n",
    "        llm_api_key = llm_api_key,\n",
    "        llm_model_name = llm_model_name,\n",
    "        )"
   ]
  },
  {
   "cell_type": "code",
   "execution_count": null,
   "id": "2a088be8",
   "metadata": {},
   "outputs": [],
   "source": [
    "# identify unexplored topics\n",
    "# covert topic data to k-v format\n",
    "topic_pids = {}\n",
    "\n",
    "for item in ps.data_pool['topic']:\n",
    "    topic = item['topic']\n",
    "    paper_id = item['paperId']\n",
    "    \n",
    "    if topic not in topic_pids:\n",
    "        topic_pids[topic] = []\n",
    "        \n",
    "    topic_pids[topic].append(paper_id)\n",
    "\n",
    "# identify topics with insufficient papers\n",
    "topics = []\n",
    "for topic, pids in topic_pids.items():\n",
    "    if len(pids) < 10:\n",
    "        topics.append(topic)\n",
    "print(topics)\n",
    "    "
   ]
  },
  {
   "cell_type": "markdown",
   "id": "624cc912",
   "metadata": {},
   "source": [
    "## Expanded Search"
   ]
  },
  {
   "cell_type": "markdown",
   "id": "214cdf07",
   "metadata": {},
   "source": [
    "### Data Generation"
   ]
  },
  {
   "cell_type": "code",
   "execution_count": null,
   "id": "253541e8",
   "metadata": {},
   "outputs": [],
   "source": [
    "await ps.consolidated_search(\n",
    "    topics = topics,\n",
    "    paper_titles = None,\n",
    "    paper_ids = None,\n",
    "    author_ids = author_ids,\n",
    "    author_paper_ids = None,\n",
    "    ref_paper_ids = ref_ids,\n",
    "    cit_paper_ids = cit_ids,\n",
    "    pos_paper_ids = pos_paper_ids,\n",
    "    neg_paper_ids = neg_paper_ids,\n",
    "    author_limit = 10,\n",
    "    search_limit = ps.search_limit,\n",
    "    citation_limit = ps.citation_limit,\n",
    "    recommend_limit = ps.recommend_limit,\n",
    "    from_dt = ps.from_dt,\n",
    "    to_dt = ps.to_dt,\n",
    "    fields_of_study = ps.fields_of_study\n",
    ")"
   ]
  },
  {
   "cell_type": "markdown",
   "id": "a55d4636",
   "metadata": {},
   "source": [
    "Paper Post-progress"
   ]
  },
  {
   "cell_type": "code",
   "execution_count": null,
   "id": "ac2cd4e9",
   "metadata": {},
   "outputs": [],
   "source": [
    "await ps.post_process(if_supplement_abstract=True)"
   ]
  },
  {
   "cell_type": "code",
   "execution_count": null,
   "id": "c576144f",
   "metadata": {},
   "outputs": [],
   "source": [
    "print(len(ps.data_pool['paper']), len(ps.data_pool['author']))"
   ]
  },
  {
   "cell_type": "code",
   "execution_count": null,
   "id": "f329f73b",
   "metadata": {},
   "outputs": [],
   "source": [
    "# generate paper graph from nodes / edges json\n",
    "G_pre = PaperGraph(name='Paper Graph 1')\n",
    "G_pre.add_graph_nodes(ps.nodes_json)\n",
    "G_pre.add_graph_edges(ps.edges_json)"
   ]
  },
  {
   "cell_type": "code",
   "execution_count": null,
   "id": "c3a1a7ed",
   "metadata": {},
   "outputs": [],
   "source": [
    "# --- Graph Stat ---\n",
    "from graph.graph_stats import get_graph_stats, get_author_stats, get_paper_stats\n",
    "g_stat = get_graph_stats(G_pre)   # graph stats"
   ]
  },
  {
   "cell_type": "code",
   "execution_count": null,
   "id": "92016abb",
   "metadata": {},
   "outputs": [],
   "source": [
    "paper_stats = get_paper_stats(G_pre, core_paper_ids)  # paper stats on graph\n",
    "author_stats = get_author_stats(G_pre, core_author_ids)  # author stats on graph"
   ]
  },
  {
   "cell_type": "code",
   "execution_count": null,
   "id": "fe03bc0f",
   "metadata": {},
   "outputs": [],
   "source": [
    "# check crossref\n",
    "crossref_stats = []\n",
    "for x in paper_stats:\n",
    "    if (x['if_seed'] == False  # exclude seed papers \n",
    "        and x['local_citation_cnt'] > min(len(core_paper_ids),  5)):  # select most refered papers in graph\n",
    "        crossref_stats.append(x)"
   ]
  },
  {
   "cell_type": "code",
   "execution_count": null,
   "id": "d9ad8841",
   "metadata": {},
   "outputs": [],
   "source": [
    "# calculate similarity\n",
    "from collect.paper_similarity_calculation import PaperSim\n",
    "\n",
    "sim = PaperSim(\n",
    "    embed_api_key = embed_api_key,\n",
    "    embed_model_name = embed_model_name\n",
    ")\n",
    "\n",
    "# --- SIMILARITY CALCULATION ---\n",
    "# check if similarity with edge type\n",
    "edge_types = [x[0] for x in g_stat['edge_type']]\n",
    "\n",
    "# valid paper with abstracts\n",
    "complete_paper_json = [node for node in ps.nodes_json \n",
    "                        if node['labels'] == ['Paper'] \n",
    "                        and node['properties'].get('title') is not None and node['properties'].get('abstract') is not None]\n",
    "complete_paper_dois = [node['id'] for node in complete_paper_json]\n",
    "\n",
    "if 'SIMILAR_TO' not in edge_types:\n",
    "    # calculate paper nodes similarity\n",
    "    semantic_similar_pool = await sim.cal_embed_and_similarity(\n",
    "        paper_nodes_json = complete_paper_json,\n",
    "        paper_dois_1 = complete_paper_dois, \n",
    "        paper_dois_2 = complete_paper_dois,\n",
    "        similarity_threshold = 0.7,\n",
    "        )\n",
    "\n",
    "    # add similarity edges to graph\n",
    "    G_pre.add_graph_edges(semantic_similar_pool)  "
   ]
  },
  {
   "cell_type": "code",
   "execution_count": null,
   "id": "8af6a468",
   "metadata": {},
   "outputs": [],
   "source": [
    "# --- PRUNNING ---\n",
    "# pruning by connectivity\n",
    "sub_graphs = G_pre.find_wcc_subgraphs(target_nodes=core_paper_ids)\n",
    "if sub_graphs is not None and len(sub_graphs) > 0:\n",
    "    G_post  = sub_graphs[0]\n",
    "    # get stats after prunning\n",
    "    g_stat = get_graph_stats(G_post)\n",
    "else:\n",
    "    G_post = G_pre"
   ]
  },
  {
   "cell_type": "code",
   "execution_count": null,
   "id": "a267b0dc",
   "metadata": {},
   "outputs": [],
   "source": [
    "paper_stats = get_paper_stats(G_post, core_paper_ids)  # paper stats on graph\n",
    "author_stats = get_author_stats(G_post, core_author_ids)  # author stats on graph\n",
    "\n",
    "# check crossref\n",
    "crossref_stats = []\n",
    "for x in paper_stats:\n",
    "    if (x['if_seed'] == False  # exclude seed papers \n",
    "        and x['local_citation_cnt'] > min(len(core_paper_ids),  5)):  # select most refered papers in graph\n",
    "        crossref_stats.append(x)\n",
    "\n",
    "# check key authors\n",
    "key_authors_stats = []\n",
    "for x in author_stats:\n",
    "    if (x['if_seed'] == False  # exclude seed authors \n",
    "        and x['local_paper_cnt'] > min(len(core_paper_ids), 5)):  # select most refered papers in graph\n",
    "        key_authors_stats.append(x)"
   ]
  },
  {
   "cell_type": "code",
   "execution_count": null,
   "id": "5f649431",
   "metadata": {},
   "outputs": [],
   "source": [
    "# check paper similarity\n",
    "sorted_paper_similarity = sorted(paper_stats, key=lambda x:x['max_sim_to_seed'], reverse=True)"
   ]
  },
  {
   "cell_type": "code",
   "execution_count": null,
   "id": "7516043a",
   "metadata": {},
   "outputs": [],
   "source": [
    "ref_ids = []\n",
    "# if cross ref insufficient, further expand similar papers on citation chain\n",
    "if len(crossref_stats) < 20:\n",
    "    # filter top similar papers (to help build crossref)\n",
    "    for item in sorted_paper_similarity:\n",
    "        if item['if_seed'] == False and item['doi'] not in ps.explored_nodes['reference']:\n",
    "            if item['max_sim_to_seed'] > 0.7 and item['global_citaion_cnt'] > 10:\n",
    "                ref_ids.append(item['doi'])\n",
    "        else:\n",
    "            break"
   ]
  },
  {
   "cell_type": "code",
   "execution_count": null,
   "id": "2a18e115",
   "metadata": {},
   "outputs": [],
   "source": [
    "ref_ids = ref_ids[0:20]"
   ]
  },
  {
   "cell_type": "code",
   "execution_count": null,
   "id": "3f4b66e6",
   "metadata": {},
   "outputs": [],
   "source": [
    "# if key authors not have complete information\n",
    "author_ids = []\n",
    "if len(key_authors_stats) > 20:\n",
    "    sorted_key_authors = sorted(key_authors_stats, key=lambda x:x['local_paper_cnt'], reverse=True)\n",
    "    # filter key authors (to amplify information)\n",
    "    for item in sorted_key_authors:\n",
    "        if item['if_seed'] == False and item['author_id'] not in ps.explored_nodes['author']:\n",
    "            author_ids.append(item['author_id'])\n",
    "\n",
    "author_ids = author_ids[0:50]"
   ]
  },
  {
   "cell_type": "code",
   "execution_count": null,
   "id": "f1e45d4d",
   "metadata": {},
   "outputs": [],
   "source": [
    "for item in ps.nodes_json:\n",
    "    if item['labels'] == ['Paper']:\n",
    "        print(item['properties']['title'])\n",
    "        # print(item.get('title'))"
   ]
  },
  {
   "cell_type": "code",
   "execution_count": null,
   "id": "a3163461",
   "metadata": {},
   "outputs": [],
   "source": [
    "hop_1_sim_paper_ids = []\n",
    "for u, v, edge_data in G_post.edges(data=True):\n",
    "    if edge_data.get('relationshipType') == 'SIMILAR_TO' and edge_data.get('weight') > 0.7:\n",
    "        if u in core_paper_ids and v not in core_paper_ids:\n",
    "            hop_1_sim_paper_ids.append(v)\n",
    "        elif u not in core_paper_ids and v in core_paper_ids:\n",
    "            hop_1_sim_paper_ids.append(u)"
   ]
  },
  {
   "cell_type": "code",
   "execution_count": null,
   "id": "b00f546b",
   "metadata": {},
   "outputs": [],
   "source": [
    "len(hop_1_sim_paper_ids)"
   ]
  },
  {
   "cell_type": "code",
   "execution_count": null,
   "id": "92714e14",
   "metadata": {},
   "outputs": [],
   "source": [
    "hop_1_citation_paper_ids = []\n",
    "for u, v, edge_data in G_post.edges(data=True):\n",
    "    if edge_data.get('relationshipType') == 'CITES':\n",
    "        if u in core_paper_ids and v not in core_paper_ids:\n",
    "            hop_1_citation_paper_ids.append(v)\n",
    "        elif u not in core_paper_ids and v in core_paper_ids:\n",
    "            hop_1_citation_paper_ids.append(u)"
   ]
  },
  {
   "cell_type": "code",
   "execution_count": null,
   "id": "2ba6dea6",
   "metadata": {},
   "outputs": [],
   "source": [
    "hop_1_topic_paper_ids = []\n",
    "for u, v, edge_data in G_post.edges(data=True):\n",
    "    if edge_data.get('relationshipType') == 'DISCUSS':\n",
    "        topic = G_post.nodes[v].get('name')\n",
    "        if u not in core_paper_ids:\n",
    "            title = G_post.nodes[u].get('title')\n",
    "            gloabl_citation = G_post.nodes[u].get('citationCount')\n",
    "            if gloabl_citation > 10 and u in hop_1_sim_paper_ids:\n",
    "                print(topic, title, gloabl_citation)\n",
    "                # hop_1_topic_paper_ids.append(u)"
   ]
  },
  {
   "cell_type": "code",
   "execution_count": null,
   "id": "3599d4b1",
   "metadata": {},
   "outputs": [],
   "source": [
    "# recommendation, author papers\n",
    "hop_1_expand_papers = set(list(core_paper_ids) + hop_1_sim_paper_ids + hop_1_citation_paper_ids)"
   ]
  },
  {
   "cell_type": "code",
   "execution_count": null,
   "id": "45c24836",
   "metadata": {},
   "outputs": [],
   "source": [
    "hop_2_sim_paper_ids = []\n",
    "for u, v, edge_data in G_post.edges(data=True):\n",
    "    if edge_data.get('relationshipType') == 'SIMILAR_TO' and edge_data.get('weight') > 0.7:\n",
    "        if u in hop_1_expand_papers and v not in hop_1_expand_papers:\n",
    "            hop_2_sim_paper_ids.append(v)\n",
    "        elif u not in hop_1_expand_papers and v in hop_1_expand_papers:\n",
    "            hop_2_sim_paper_ids.append(u)"
   ]
  },
  {
   "cell_type": "code",
   "execution_count": null,
   "id": "580c2036",
   "metadata": {},
   "outputs": [],
   "source": [
    "len(hop_1_expand_papers)"
   ]
  },
  {
   "cell_type": "code",
   "execution_count": null,
   "id": "290326f1",
   "metadata": {},
   "outputs": [],
   "source": [
    "len(set(hop_2_sim_paper_ids))"
   ]
  },
  {
   "cell_type": "code",
   "execution_count": null,
   "id": "748c524f",
   "metadata": {},
   "outputs": [],
   "source": [
    "for id not in hop_2_sim_paper_ids"
   ]
  },
  {
   "cell_type": "code",
   "execution_count": null,
   "id": "d6bbc5a3",
   "metadata": {},
   "outputs": [],
   "source": [
    "There are 6 node types in this graph, they are:\n",
    "[('Author', 5560), ('Paper', 1933), ('Journal', 513), ('Venue', 380), ('Institution', 5), ('Topic', 4)]\n",
    "There are 7 edge types in this graph, they are:\n",
    "[('SIMILAR_TO', 20872), ('WRITES', 9366), ('RELEASES_IN', 1244), ('PRINTS_ON', 702), ('DISCUSS', 419), ('CITES', 288), ('WORKS_IN', 5)]"
   ]
  }
 ],
 "metadata": {
  "kernelspec": {
   "display_name": "jiezi4ai",
   "language": "python",
   "name": "python3"
  },
  "language_info": {
   "codemirror_mode": {
    "name": "ipython",
    "version": 3
   },
   "file_extension": ".py",
   "mimetype": "text/x-python",
   "name": "python",
   "nbconvert_exporter": "python",
   "pygments_lexer": "ipython3",
   "version": "3.10.16"
  }
 },
 "nbformat": 4,
 "nbformat_minor": 5
}
