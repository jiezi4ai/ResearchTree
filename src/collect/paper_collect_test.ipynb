{
 "cells": [
  {
   "cell_type": "markdown",
   "id": "a9db46f5",
   "metadata": {},
   "source": [
    "# Setup"
   ]
  },
  {
   "cell_type": "code",
   "execution_count": 1,
   "id": "3aabc725",
   "metadata": {},
   "outputs": [],
   "source": [
    "import copy\n",
    "from typing import List, Dict, Optional, Union, Tuple, Literal"
   ]
  },
  {
   "cell_type": "code",
   "execution_count": 2,
   "id": "3375619b",
   "metadata": {},
   "outputs": [],
   "source": [
    "import os\n",
    "import json\n",
    "\n",
    "import sys\n",
    "import os\n",
    "\n",
    "parent_dir = os.path.dirname(os.getcwd())\n",
    "sys.path.append(parent_dir)"
   ]
  },
  {
   "cell_type": "code",
   "execution_count": 3,
   "id": "9623dad7",
   "metadata": {},
   "outputs": [],
   "source": [
    "from graph.paper_graph import PaperGraph\n",
    "from graph.graph_viz import GraphViz"
   ]
  },
  {
   "cell_type": "code",
   "execution_count": 4,
   "id": "f57ad172",
   "metadata": {},
   "outputs": [],
   "source": [
    "# driving examples\n",
    "llm_api_key = os.getenv('GEMINI_API_KEY_3')\n",
    "llm_model_name=\"gemini-2.0-flash\"\n",
    "embed_api_key = os.getenv('GEMINI_API_KEY_3')\n",
    "embed_model_name=\"models/text-embedding-004\"\n",
    "\n",
    "research_topics = [\"llm literature review\"]\n",
    "seed_dois = ['10.48550/arXiv.2406.10252',  # AutoSurvey: Large Language Models Can Automatically Write Surveys\n",
    "            '10.48550/arXiv.2412.10415',  # Generative Adversarial Reviews: When LLMs Become the Critic\n",
    "            '10.48550/arXiv.2402.12928',  # A Literature Review of Literature Reviews in Pattern Analysis and Machine Intelligence \n",
    "            ]\n",
    "seed_titles = ['PaperRobot: Incremental Draft Generation of Scientific Ideas',\n",
    "            'From Hypothesis to Publication: A Comprehensive Survey of AI-Driven Research Support Systems'\n",
    "            ]"
   ]
  },
  {
   "cell_type": "code",
   "execution_count": 5,
   "id": "4216dec0",
   "metadata": {},
   "outputs": [],
   "source": [
    "citation_limit = 100\n",
    "author_paper_limit = 10\n",
    "\n",
    "if len(seed_dois) < 10 or len(seed_titles) < 10:\n",
    "    search_limit = 100\n",
    "    recommend_limit = 100\n",
    "else:\n",
    "    search_limit = 50\n",
    "    recommend_limit = 50"
   ]
  },
  {
   "cell_type": "code",
   "execution_count": 6,
   "id": "0a365f3d",
   "metadata": {},
   "outputs": [
    {
     "name": "stderr",
     "output_type": "stream",
     "text": [
      "2025-04-29 10:08:04,985 - SemanticScholarKit - INFO - SemanticScholarKit initialized with: max_concurrency=20, max_retry=20, sleep_interval=3.0s\n",
      "2025-04-29 10:08:04,985 - INFO - SemanticScholarKit initialized with: max_concurrency=20, max_retry=20, sleep_interval=3.0s\n",
      "2025-04-29 10:08:04,985 - SemanticScholarKit - INFO - SemanticScholarKit initialized with: max_concurrency=20, max_retry=20, sleep_interval=3.0s\n",
      "2025-04-29 10:08:04,985 - INFO - SemanticScholarKit initialized with: max_concurrency=20, max_retry=20, sleep_interval=3.0s\n"
     ]
    }
   ],
   "source": [
    "from collect.paper_data_collect import PaperCollector\n",
    "\n",
    "ps = PaperCollector(   \n",
    "    seed_research_topics = research_topics,   \n",
    "    seed_paper_titles = seed_titles, \n",
    "    seed_paper_ids = seed_dois,\n",
    "    from_dt = '2020-01-01',\n",
    "    to_dt = '2025-04-30',\n",
    "    fields_of_study = ['Computer Science'],\n",
    "    author_paper_limit = author_paper_limit,\n",
    "    search_limit = search_limit,\n",
    "    recommend_limit = recommend_limit,\n",
    "    citation_limit = citation_limit\n",
    "    )"
   ]
  },
  {
   "cell_type": "markdown",
   "id": "b96de119",
   "metadata": {},
   "source": [
    "# Data Collection"
   ]
  },
  {
   "cell_type": "markdown",
   "id": "5791ec28",
   "metadata": {},
   "source": [
    "## Initial Search"
   ]
  },
  {
   "cell_type": "markdown",
   "id": "2bfe7dd3",
   "metadata": {},
   "source": [
    "### Data Generation"
   ]
  },
  {
   "cell_type": "markdown",
   "id": "d0ed374b",
   "metadata": {},
   "source": [
    "Get paper data"
   ]
  },
  {
   "cell_type": "code",
   "execution_count": 7,
   "id": "ea2e2f91",
   "metadata": {},
   "outputs": [],
   "source": [
    "iteration = 1"
   ]
  },
  {
   "cell_type": "code",
   "execution_count": 8,
   "id": "6407d846",
   "metadata": {},
   "outputs": [
    {
     "name": "stderr",
     "output_type": "stream",
     "text": [
      "2025-04-29 10:08:06,770 - SemanticScholarKit - INFO - consolidated_search: Starting...\n",
      "2025-04-29 10:08:06,770 - INFO - consolidated_search: Starting...\n",
      "2025-04-29 10:08:06,772 - SemanticScholarKit - INFO - consolidated_search: Running 1 sub-tasks concurrently...\n",
      "2025-04-29 10:08:06,772 - INFO - consolidated_search: Running 1 sub-tasks concurrently...\n",
      "2025-04-29 10:08:06,773 - INFO - Search 2 paper titles and 3 for paper information.\n",
      "2025-04-29 10:08:06,774 - INFO - paper_search: Creating task for 3 IDs...\n",
      "2025-04-29 10:08:06,774 - INFO - paper_search: Creating 2 tasks for titles...\n",
      "2025-04-29 10:08:06,775 - INFO - paper_search: Running 3 query tasks concurrently...\n",
      "2025-04-29 10:08:06,776 - SemanticScholarKit - INFO - get_papers: Creating 1 tasks for 1 IDs.\n",
      "2025-04-29 10:08:06,776 - INFO - get_papers: Creating 1 tasks for 1 IDs.\n",
      "2025-04-29 10:08:06,776 - SemanticScholarKit - INFO - get_papers: Gathering 1 tasks...\n",
      "2025-04-29 10:08:06,776 - INFO - get_papers: Gathering 1 tasks...\n",
      "2025-04-29 10:08:07,699 - INFO - HTTP Request: POST https://api.semanticscholar.org/graph/v1/paper/batch?fields=abstract%2Cauthors%2CcitationCount%2CcitationStyles%2CcorpusId%2CexternalIds%2CfieldsOfStudy%2CinfluentialCitationCount%2CisOpenAccess%2Cjournal%2CopenAccessPdf%2CpaperId%2CpublicationDate%2CpublicationTypes%2CpublicationVenue%2CreferenceCount%2Cs2FieldsOfStudy%2Ctitle%2Curl%2Cvenue%2Cyear \"HTTP/1.1 200 OK\"\n",
      "2025-04-29 10:08:07,702 - SemanticScholarKit - INFO - get_papers: Gather complete. Processing results.\n",
      "2025-04-29 10:08:07,702 - INFO - get_papers: Gather complete. Processing results.\n",
      "2025-04-29 10:08:08,129 - INFO - HTTP Request: GET https://api.semanticscholar.org/graph/v1/paper/search/match?query=From%20Hypothesis%20to%20Publication%3A%20A%20Comprehensive%20Survey%20of%20AI-Driven%20Research%20Support%20Systems&fields=abstract%2Cauthors%2CcitationCount%2CcitationStyles%2CcorpusId%2CexternalIds%2CfieldsOfStudy%2CinfluentialCitationCount%2CisOpenAccess%2Cjournal%2CopenAccessPdf%2CpaperId%2CpublicationDate%2CpublicationTypes%2CpublicationVenue%2CreferenceCount%2Cs2FieldsOfStudy%2Ctitle%2Curl%2Cvenue%2Cyear&offset=0&limit=5 \"HTTP/1.1 200 OK\"\n",
      "2025-04-29 10:08:08,170 - INFO - HTTP Request: GET https://api.semanticscholar.org/graph/v1/paper/search/match?query=PaperRobot%3A%20Incremental%20Draft%20Generation%20of%20Scientific%20Ideas&fields=abstract%2Cauthors%2CcitationCount%2CcitationStyles%2CcorpusId%2CexternalIds%2CfieldsOfStudy%2CinfluentialCitationCount%2CisOpenAccess%2Cjournal%2CopenAccessPdf%2CpaperId%2CpublicationDate%2CpublicationTypes%2CpublicationVenue%2CreferenceCount%2Cs2FieldsOfStudy%2Ctitle%2Curl%2Cvenue%2Cyear&offset=0&limit=5 \"HTTP/1.1 200 OK\"\n",
      "2025-04-29 10:08:08,173 - SemanticScholarKit - INFO - consolidated_search: Sub-tasks finished.\n",
      "2025-04-29 10:08:08,173 - INFO - consolidated_search: Sub-tasks finished.\n",
      "2025-04-29 10:08:08,174 - SemanticScholarKit - INFO - consolidated_search: Finished.\n",
      "2025-04-29 10:08:08,174 - INFO - consolidated_search: Finished.\n"
     ]
    }
   ],
   "source": [
    "await ps.consolidated_search(\n",
    "    paper_titles = seed_titles,\n",
    "    paper_ids = seed_dois\n",
    ")"
   ]
  },
  {
   "cell_type": "markdown",
   "id": "ebb8be95",
   "metadata": {},
   "source": [
    "### Post-Processing"
   ]
  },
  {
   "cell_type": "markdown",
   "id": "5f64688e",
   "metadata": {},
   "source": [
    "Paper post process"
   ]
  },
  {
   "cell_type": "code",
   "execution_count": 9,
   "id": "fccfdb75",
   "metadata": {},
   "outputs": [
    {
     "name": "stderr",
     "output_type": "stream",
     "text": [
      "2025-04-29 10:08:08,397 - SemanticScholarKit - INFO - post_process: Starting data processing...\n",
      "2025-04-29 10:08:08,397 - INFO - post_process: Starting data processing...\n",
      "2025-04-29 10:08:08,398 - SemanticScholarKit - INFO - Processing 5 raw paper entries...\n",
      "2025-04-29 10:08:08,398 - INFO - Processing 5 raw paper entries...\n",
      "2025-04-29 10:08:08,400 - SemanticScholarKit - INFO - Generated 75 nodes/edges from papers.\n",
      "2025-04-29 10:08:08,400 - INFO - Generated 75 nodes/edges from papers.\n",
      "2025-04-29 10:08:08,401 - SemanticScholarKit - INFO - Total items after paper processing: 75\n",
      "2025-04-29 10:08:08,401 - INFO - Total items after paper processing: 75\n",
      "2025-04-29 10:08:08,402 - SemanticScholarKit - INFO - No author data in pool to process.\n",
      "2025-04-29 10:08:08,402 - INFO - No author data in pool to process.\n",
      "2025-04-29 10:08:08,403 - SemanticScholarKit - INFO - No topic data in pool to process.\n",
      "2025-04-29 10:08:08,403 - INFO - No topic data in pool to process.\n",
      "2025-04-29 10:08:08,405 - SemanticScholarKit - INFO - No citation data (references or citings) in pool to process.\n",
      "2025-04-29 10:08:08,405 - INFO - No citation data (references or citings) in pool to process.\n"
     ]
    }
   ],
   "source": [
    "await ps.post_process(if_supplement_abstract=True)"
   ]
  },
  {
   "cell_type": "markdown",
   "id": "0e069bd0",
   "metadata": {},
   "source": [
    "### Routing"
   ]
  },
  {
   "cell_type": "markdown",
   "id": "2daf6947",
   "metadata": {},
   "source": [
    "Plan next move"
   ]
  },
  {
   "cell_type": "code",
   "execution_count": 10,
   "id": "698fba67",
   "metadata": {},
   "outputs": [
    {
     "name": "stdout",
     "output_type": "stream",
     "text": [
      "5 33\n"
     ]
    }
   ],
   "source": [
    "# core papers and core authors nodes\n",
    "if iteration == 1:\n",
    "    core_paper_ids = set(node['id'] for node in ps.nodes_json if node['labels'] == ['Paper'])\n",
    "    core_author_ids = set(node['id'] for node in ps.nodes_json if node['labels'] == ['Author'])\n",
    "    print(len(core_paper_ids), len(core_author_ids))"
   ]
  },
  {
   "cell_type": "code",
   "execution_count": 11,
   "id": "61975557",
   "metadata": {},
   "outputs": [],
   "source": [
    "ps.explored_nodes['paper'].update(core_paper_ids)"
   ]
  },
  {
   "cell_type": "code",
   "execution_count": 12,
   "id": "57faf91a",
   "metadata": {},
   "outputs": [],
   "source": [
    "# for authors\n",
    "author_ids = [author_id for author_id in core_author_ids if author_id not in ps.explored_nodes['author']]"
   ]
  },
  {
   "cell_type": "code",
   "execution_count": 13,
   "id": "0b88a95f",
   "metadata": {},
   "outputs": [],
   "source": [
    "# for reference and citings\n",
    "ref_ids = [pid for pid in core_paper_ids if pid not in ps.explored_nodes['reference']]\n",
    "cit_ids = [pid for pid in core_paper_ids if pid not in ps.explored_nodes['citing']]"
   ]
  },
  {
   "cell_type": "code",
   "execution_count": 14,
   "id": "cf3c6a45",
   "metadata": {},
   "outputs": [],
   "source": [
    "# recommendation \n",
    "if len(ps.explored_nodes['recommendation']) == 0:\n",
    "    if len(core_paper_ids) > 3:\n",
    "        pos_paper_ids = list(core_paper_ids)\n",
    "        neg_paper_ids = []"
   ]
  },
  {
   "cell_type": "code",
   "execution_count": 15,
   "id": "24fffd37",
   "metadata": {},
   "outputs": [
    {
     "name": "stderr",
     "output_type": "stream",
     "text": [
      "2025-04-29 10:08:14,309 - INFO - Use LLM to identify key related topics.\n",
      "2025-04-29 10:08:14,311 - SemanticScholarKit - INFO - Generating related topics for 5 seed papers...\n",
      "2025-04-29 10:08:14,311 - INFO - Generating related topics for 5 seed papers...\n",
      "2025-04-29 10:08:14,313 - SemanticScholarKit - INFO - Calling LLM to generate topics...\n",
      "2025-04-29 10:08:14,313 - INFO - Calling LLM to generate topics...\n",
      "2025-04-29 10:08:14,315 - INFO - AFC is enabled with max remote calls: 10.\n",
      "2025-04-29 10:08:16,785 - SemanticScholarKit - INFO - LLM generated topics: {\"field_of_study\": [\"Natural Language Processing\", \"Artificial Intelligence\", \"Information Retrieval\", \"Meta-Research\"], \"keywords_and_topics\": [\"large language models\", \"literature review automation\", \"peer review process\", \"AI-driven research support systems\", \"knowledge graph\"], \"tags\": [\"generative adversarial networks\", \"AutoSurvey\", \"PaperRobot\", \"LLM agents\", \"scientific knowledge synthesis\"], \"queries\": [\"automated literature review generation\", \"LLM for peer review\", \"AI research assistant\", \"knowledge graph scientific discovery\"]}\n",
      "2025-04-29 10:08:16,785 - INFO - LLM generated topics: {\"field_of_study\": [\"Natural Language Processing\", \"Artificial Intelligence\", \"Information Retrieval\", \"Meta-Research\"], \"keywords_and_topics\": [\"large language models\", \"literature review automation\", \"peer review process\", \"AI-driven research support systems\", \"knowledge graph\"], \"tags\": [\"generative adversarial networks\", \"AutoSurvey\", \"PaperRobot\", \"LLM agents\", \"scientific knowledge synthesis\"], \"queries\": [\"automated literature review generation\", \"LLM for peer review\", \"AI research assistant\", \"knowledge graph scientific discovery\"]}\n"
     ]
    }
   ],
   "source": [
    "# topics generation\n",
    "core_paper_json = [x for x in ps.nodes_json if x['id'] in core_paper_ids]\n",
    "if len(ps.explored_nodes['topic']) < 4:  # explored topic less than 4, generate new topics\n",
    "    await ps.topic_generation(\n",
    "        paper_json = core_paper_json,\n",
    "        llm_api_key = llm_api_key,\n",
    "        llm_model_name = llm_model_name,\n",
    "        )"
   ]
  },
  {
   "cell_type": "code",
   "execution_count": 16,
   "id": "2a088be8",
   "metadata": {},
   "outputs": [
    {
     "name": "stdout",
     "output_type": "stream",
     "text": [
      "['LLM for peer review', 'AI research assistant', 'automated literature review generation', 'knowledge graph scientific discovery']\n"
     ]
    }
   ],
   "source": [
    "# identify unexplored topics\n",
    "# covert topic data to k-v format\n",
    "topic_pids = {}\n",
    "\n",
    "for item in ps.data_pool['topic']:\n",
    "    topic = item['topic']\n",
    "    paper_id = item['paperId']\n",
    "    \n",
    "    if topic not in topic_pids:\n",
    "        topic_pids[topic] = []\n",
    "        \n",
    "    topic_pids[topic].append(paper_id)\n",
    "\n",
    "# identify topics with insufficient papers\n",
    "topics = []\n",
    "for topic, pids in topic_pids.items():\n",
    "    if len(pids) < 10:\n",
    "        topics.append(topic)\n",
    "print(topics)\n",
    "    "
   ]
  },
  {
   "cell_type": "markdown",
   "id": "624cc912",
   "metadata": {},
   "source": [
    "## Expanded Search"
   ]
  },
  {
   "cell_type": "markdown",
   "id": "214cdf07",
   "metadata": {},
   "source": [
    "### Data Generation"
   ]
  },
  {
   "cell_type": "code",
   "execution_count": 17,
   "id": "253541e8",
   "metadata": {},
   "outputs": [
    {
     "name": "stderr",
     "output_type": "stream",
     "text": [
      "2025-04-29 10:11:03,787 - SemanticScholarKit - INFO - consolidated_search: Starting...\n",
      "2025-04-29 10:11:03,787 - INFO - consolidated_search: Starting...\n",
      "2025-04-29 10:11:03,788 - SemanticScholarKit - INFO - consolidated_search: Running 5 sub-tasks concurrently...\n",
      "2025-04-29 10:11:03,788 - INFO - consolidated_search: Running 5 sub-tasks concurrently...\n",
      "2025-04-29 10:11:03,790 - INFO - topic_search: Searching 4 topics.\n",
      "2025-04-29 10:11:03,790 - INFO - topic_search: Running 4 topic search tasks concurrently...\n",
      "2025-04-29 10:11:03,792 - INFO - authors_search: Searching 33 authors.\n",
      "2025-04-29 10:11:03,793 - SemanticScholarKit - INFO - get_authors: Creating 1 tasks for 1 IDs.\n",
      "2025-04-29 10:11:03,793 - INFO - get_authors: Creating 1 tasks for 1 IDs.\n",
      "2025-04-29 10:11:03,795 - SemanticScholarKit - INFO - get_authors: Gathering 1 tasks...\n",
      "2025-04-29 10:11:03,795 - INFO - get_authors: Gathering 1 tasks...\n",
      "2025-04-29 10:11:03,796 - INFO - reference_search: Fetching references for 5 papers (limit per paper: 100).\n",
      "2025-04-29 10:11:03,797 - INFO - reference_search: Running 5 reference search tasks concurrently...\n",
      "2025-04-29 10:11:03,797 - INFO - citing_search: Fetching citations for 5 papers (limit per paper: 100).\n",
      "2025-04-29 10:11:03,797 - INFO - Preparing citing for 5 papers ...\n",
      "2025-04-29 10:11:03,798 - INFO - citing_search: Running 5 citation search tasks concurrently...\n",
      "2025-04-29 10:11:03,798 - INFO - paper_recommendation: Fetching 100 recommendations based on 5 positive and 0 negative papers.\n",
      "2025-04-29 10:11:04,780 - INFO - HTTP Request: GET https://api.semanticscholar.org/graph/v1/paper/9e57dda195973c4b6c81386b1cc44595ecfd4697/references?fields=contexts%2Cintents%2CcontextsWithIntent%2CisInfluential%2Cabstract%2Cauthors%2CcitationCount%2CcitationStyles%2CcorpusId%2CexternalIds%2CfieldsOfStudy%2CinfluentialCitationCount%2CisOpenAccess%2Cjournal%2CopenAccessPdf%2CpaperId%2CpublicationDate%2CpublicationTypes%2CpublicationVenue%2CreferenceCount%2Cs2FieldsOfStudy%2Ctitle%2Curl%2Cvenue%2Cyear&offset=0&limit=100 \"HTTP/1.1 429 \"\n",
      "2025-04-29 10:11:04,783 - SemanticScholarKit - WARNING - Rate limit (429) hit (via RetryError) for get_paper_references (ID/Query/URL: 9e57dda195973c4b6c81386b1cc44595ecfd4697). Underlying tenacity retries failed. Attempting outer retry 1/21. Retrying after 3.0 seconds...\n",
      "2025-04-29 10:11:04,783 - WARNING - Rate limit (429) hit (via RetryError) for get_paper_references (ID/Query/URL: 9e57dda195973c4b6c81386b1cc44595ecfd4697). Underlying tenacity retries failed. Attempting outer retry 1/21. Retrying after 3.0 seconds...\n",
      "2025-04-29 10:11:04,785 - INFO - HTTP Request: GET https://api.semanticscholar.org/graph/v1/paper/a6aed0c4e0f39a55edb407f492e41f178a62907f/references?fields=contexts%2Cintents%2CcontextsWithIntent%2CisInfluential%2Cabstract%2Cauthors%2CcitationCount%2CcitationStyles%2CcorpusId%2CexternalIds%2CfieldsOfStudy%2CinfluentialCitationCount%2CisOpenAccess%2Cjournal%2CopenAccessPdf%2CpaperId%2CpublicationDate%2CpublicationTypes%2CpublicationVenue%2CreferenceCount%2Cs2FieldsOfStudy%2Ctitle%2Curl%2Cvenue%2Cyear&offset=0&limit=100 \"HTTP/1.1 429 \"\n",
      "2025-04-29 10:11:04,787 - SemanticScholarKit - WARNING - Rate limit (429) hit (via RetryError) for get_paper_references (ID/Query/URL: a6aed0c4e0f39a55edb407f492e41f178a62907f). Underlying tenacity retries failed. Attempting outer retry 1/21. Retrying after 3.0 seconds...\n",
      "2025-04-29 10:11:04,787 - WARNING - Rate limit (429) hit (via RetryError) for get_paper_references (ID/Query/URL: a6aed0c4e0f39a55edb407f492e41f178a62907f). Underlying tenacity retries failed. Attempting outer retry 1/21. Retrying after 3.0 seconds...\n",
      "2025-04-29 10:11:04,797 - INFO - HTTP Request: GET https://api.semanticscholar.org/graph/v1/paper/search?query=LLM%20for%20peer%20review&fieldsOfStudy=Computer%20Science&publicationDateOrYear=2020-01-01%3A2025-04-30&fields=abstract%2Cauthors%2CcitationCount%2CcitationStyles%2CcorpusId%2CexternalIds%2CfieldsOfStudy%2CinfluentialCitationCount%2CisOpenAccess%2Cjournal%2CopenAccessPdf%2CpaperId%2CpublicationDate%2CpublicationTypes%2CpublicationVenue%2CreferenceCount%2Cs2FieldsOfStudy%2Ctitle%2Curl%2Cvenue%2Cyear&offset=0&limit=100 \"HTTP/1.1 429 \"\n",
      "2025-04-29 10:11:04,799 - SemanticScholarKit - WARNING - Rate limit (429) hit (via RetryError) for search_paper (ID/Query/URL: query:'LLM for peer review...'). Underlying tenacity retries failed. Attempting outer retry 1/21. Retrying after 3.0 seconds...\n",
      "2025-04-29 10:11:04,799 - WARNING - Rate limit (429) hit (via RetryError) for search_paper (ID/Query/URL: query:'LLM for peer review...'). Underlying tenacity retries failed. Attempting outer retry 1/21. Retrying after 3.0 seconds...\n",
      "2025-04-29 10:11:04,811 - INFO - HTTP Request: GET https://api.semanticscholar.org/graph/v1/paper/cdb34c0092a767848ca1de6fa7e3a6b822585fa4/citations?fields=contexts%2Cintents%2CcontextsWithIntent%2CisInfluential%2Cabstract%2Cauthors%2CcitationCount%2CcitationStyles%2CcorpusId%2CexternalIds%2CfieldsOfStudy%2CinfluentialCitationCount%2CisOpenAccess%2Cjournal%2CopenAccessPdf%2CpaperId%2CpublicationDate%2CpublicationTypes%2CpublicationVenue%2CreferenceCount%2Cs2FieldsOfStudy%2Ctitle%2Curl%2Cvenue%2Cyear&offset=0&limit=100 \"HTTP/1.1 200 OK\"\n",
      "2025-04-29 10:11:04,826 - INFO - HTTP Request: GET https://api.semanticscholar.org/graph/v1/paper/69b53faee7ce5c007e4d3e3ea532818ed8d0645d/citations?fields=contexts%2Cintents%2CcontextsWithIntent%2CisInfluential%2Cabstract%2Cauthors%2CcitationCount%2CcitationStyles%2CcorpusId%2CexternalIds%2CfieldsOfStudy%2CinfluentialCitationCount%2CisOpenAccess%2Cjournal%2CopenAccessPdf%2CpaperId%2CpublicationDate%2CpublicationTypes%2CpublicationVenue%2CreferenceCount%2Cs2FieldsOfStudy%2Ctitle%2Curl%2Cvenue%2Cyear&offset=0&limit=100 \"HTTP/1.1 200 OK\"\n",
      "2025-04-29 10:11:04,834 - INFO - HTTP Request: GET https://api.semanticscholar.org/graph/v1/paper/9f3ae8055e227edb413c54417c9c216f1f554f52/citations?fields=contexts%2Cintents%2CcontextsWithIntent%2CisInfluential%2Cabstract%2Cauthors%2CcitationCount%2CcitationStyles%2CcorpusId%2CexternalIds%2CfieldsOfStudy%2CinfluentialCitationCount%2CisOpenAccess%2Cjournal%2CopenAccessPdf%2CpaperId%2CpublicationDate%2CpublicationTypes%2CpublicationVenue%2CreferenceCount%2Cs2FieldsOfStudy%2Ctitle%2Curl%2Cvenue%2Cyear&offset=0&limit=100 \"HTTP/1.1 200 OK\"\n",
      "2025-04-29 10:11:04,843 - INFO - HTTP Request: GET https://api.semanticscholar.org/graph/v1/paper/69b53faee7ce5c007e4d3e3ea532818ed8d0645d/references?fields=contexts%2Cintents%2CcontextsWithIntent%2CisInfluential%2Cabstract%2Cauthors%2CcitationCount%2CcitationStyles%2CcorpusId%2CexternalIds%2CfieldsOfStudy%2CinfluentialCitationCount%2CisOpenAccess%2Cjournal%2CopenAccessPdf%2CpaperId%2CpublicationDate%2CpublicationTypes%2CpublicationVenue%2CreferenceCount%2Cs2FieldsOfStudy%2Ctitle%2Curl%2Cvenue%2Cyear&offset=0&limit=100 \"HTTP/1.1 429 \"\n",
      "2025-04-29 10:11:04,844 - SemanticScholarKit - WARNING - Rate limit (429) hit (via RetryError) for get_paper_references (ID/Query/URL: 69b53faee7ce5c007e4d3e3ea532818ed8d0645d). Underlying tenacity retries failed. Attempting outer retry 1/21. Retrying after 3.0 seconds...\n",
      "2025-04-29 10:11:04,844 - WARNING - Rate limit (429) hit (via RetryError) for get_paper_references (ID/Query/URL: 69b53faee7ce5c007e4d3e3ea532818ed8d0645d). Underlying tenacity retries failed. Attempting outer retry 1/21. Retrying after 3.0 seconds...\n",
      "2025-04-29 10:11:04,889 - INFO - HTTP Request: GET https://api.semanticscholar.org/graph/v1/paper/cdb34c0092a767848ca1de6fa7e3a6b822585fa4/references?fields=contexts%2Cintents%2CcontextsWithIntent%2CisInfluential%2Cabstract%2Cauthors%2CcitationCount%2CcitationStyles%2CcorpusId%2CexternalIds%2CfieldsOfStudy%2CinfluentialCitationCount%2CisOpenAccess%2Cjournal%2CopenAccessPdf%2CpaperId%2CpublicationDate%2CpublicationTypes%2CpublicationVenue%2CreferenceCount%2Cs2FieldsOfStudy%2Ctitle%2Curl%2Cvenue%2Cyear&offset=0&limit=100 \"HTTP/1.1 429 \"\n",
      "2025-04-29 10:11:04,890 - SemanticScholarKit - WARNING - Rate limit (429) hit (via RetryError) for get_paper_references (ID/Query/URL: cdb34c0092a767848ca1de6fa7e3a6b822585fa4). Underlying tenacity retries failed. Attempting outer retry 1/21. Retrying after 3.0 seconds...\n",
      "2025-04-29 10:11:04,890 - WARNING - Rate limit (429) hit (via RetryError) for get_paper_references (ID/Query/URL: cdb34c0092a767848ca1de6fa7e3a6b822585fa4). Underlying tenacity retries failed. Attempting outer retry 1/21. Retrying after 3.0 seconds...\n",
      "2025-04-29 10:11:04,976 - INFO - HTTP Request: GET https://api.semanticscholar.org/graph/v1/paper/9e57dda195973c4b6c81386b1cc44595ecfd4697/citations?fields=contexts%2Cintents%2CcontextsWithIntent%2CisInfluential%2Cabstract%2Cauthors%2CcitationCount%2CcitationStyles%2CcorpusId%2CexternalIds%2CfieldsOfStudy%2CinfluentialCitationCount%2CisOpenAccess%2Cjournal%2CopenAccessPdf%2CpaperId%2CpublicationDate%2CpublicationTypes%2CpublicationVenue%2CreferenceCount%2Cs2FieldsOfStudy%2Ctitle%2Curl%2Cvenue%2Cyear&offset=0&limit=100 \"HTTP/1.1 200 OK\"\n",
      "2025-04-29 10:11:05,178 - INFO - HTTP Request: GET https://api.semanticscholar.org/graph/v1/paper/a6aed0c4e0f39a55edb407f492e41f178a62907f/citations?fields=contexts%2Cintents%2CcontextsWithIntent%2CisInfluential%2Cabstract%2Cauthors%2CcitationCount%2CcitationStyles%2CcorpusId%2CexternalIds%2CfieldsOfStudy%2CinfluentialCitationCount%2CisOpenAccess%2Cjournal%2CopenAccessPdf%2CpaperId%2CpublicationDate%2CpublicationTypes%2CpublicationVenue%2CreferenceCount%2Cs2FieldsOfStudy%2Ctitle%2Curl%2Cvenue%2Cyear&offset=0&limit=100 \"HTTP/1.1 200 OK\"\n",
      "2025-04-29 10:11:05,410 - INFO - HTTP Request: GET https://api.semanticscholar.org/graph/v1/paper/9f3ae8055e227edb413c54417c9c216f1f554f52/references?fields=contexts%2Cintents%2CcontextsWithIntent%2CisInfluential%2Cabstract%2Cauthors%2CcitationCount%2CcitationStyles%2CcorpusId%2CexternalIds%2CfieldsOfStudy%2CinfluentialCitationCount%2CisOpenAccess%2Cjournal%2CopenAccessPdf%2CpaperId%2CpublicationDate%2CpublicationTypes%2CpublicationVenue%2CreferenceCount%2Cs2FieldsOfStudy%2Ctitle%2Curl%2Cvenue%2Cyear&offset=0&limit=100 \"HTTP/1.1 200 OK\"\n",
      "2025-04-29 10:11:05,573 - WARNING - citing_search: Task for paper '69b53faee7ce5c007e4d3e3ea532818ed8d0645d' returned no results or failed silently.\n",
      "2025-04-29 10:11:05,574 - WARNING - citing_search: Task for paper 'cdb34c0092a767848ca1de6fa7e3a6b822585fa4' returned no results or failed silently.\n",
      "2025-04-29 10:11:05,575 - INFO - citing_search: Added 73 new unique citing papers and 73 citation relationships.\n",
      "2025-04-29 10:11:05,694 - INFO - HTTP Request: POST https://api.semanticscholar.org/graph/v1/author/batch?fields=affiliations%2CauthorId%2CcitationCount%2CexternalIds%2ChIndex%2Chomepage%2Cname%2CpaperCount%2Cpapers%2Cpapers.abstract%2Cpapers.authors%2Cpapers.citationCount%2Cpapers.corpusId%2Cpapers.externalIds%2Cpapers.fieldsOfStudy%2Cpapers.influentialCitationCount%2Cpapers.isOpenAccess%2Cpapers.journal%2Cpapers.openAccessPdf%2Cpapers.paperId%2Cpapers.publicationDate%2Cpapers.publicationTypes%2Cpapers.publicationVenue%2Cpapers.referenceCount%2Cpapers.s2FieldsOfStudy%2Cpapers.title%2Cpapers.url%2Cpapers.venue%2Cpapers.year%2Curl \"HTTP/1.1 200 OK\"\n",
      "2025-04-29 10:11:06,471 - INFO - HTTP Request: GET https://api.semanticscholar.org/graph/v1/paper/search?query=knowledge%20graph%20scientific%20discovery&fieldsOfStudy=Computer%20Science&publicationDateOrYear=2020-01-01%3A2025-04-30&fields=abstract%2Cauthors%2CcitationCount%2CcitationStyles%2CcorpusId%2CexternalIds%2CfieldsOfStudy%2CinfluentialCitationCount%2CisOpenAccess%2Cjournal%2CopenAccessPdf%2CpaperId%2CpublicationDate%2CpublicationTypes%2CpublicationVenue%2CreferenceCount%2Cs2FieldsOfStudy%2Ctitle%2Curl%2Cvenue%2Cyear&offset=0&limit=100 \"HTTP/1.1 200 OK\"\n",
      "2025-04-29 10:11:06,482 - INFO - HTTP Request: GET https://api.semanticscholar.org/graph/v1/paper/search?query=AI%20research%20assistant&fieldsOfStudy=Computer%20Science&publicationDateOrYear=2020-01-01%3A2025-04-30&fields=abstract%2Cauthors%2CcitationCount%2CcitationStyles%2CcorpusId%2CexternalIds%2CfieldsOfStudy%2CinfluentialCitationCount%2CisOpenAccess%2Cjournal%2CopenAccessPdf%2CpaperId%2CpublicationDate%2CpublicationTypes%2CpublicationVenue%2CreferenceCount%2Cs2FieldsOfStudy%2Ctitle%2Curl%2Cvenue%2Cyear&offset=0&limit=100 \"HTTP/1.1 200 OK\"\n",
      "2025-04-29 10:11:06,940 - SemanticScholarKit - INFO - get_authors: Gather complete. Processing results.\n",
      "2025-04-29 10:11:06,940 - INFO - get_authors: Gather complete. Processing results.\n",
      "2025-04-29 10:11:06,941 - INFO - authors_search: Added 33 new authors and 1183 new papers to data pool.\n",
      "2025-04-29 10:11:07,167 - INFO - HTTP Request: GET https://api.semanticscholar.org/graph/v1/paper/search?query=automated%20literature%20review%20generation&fieldsOfStudy=Computer%20Science&publicationDateOrYear=2020-01-01%3A2025-04-30&fields=abstract%2Cauthors%2CcitationCount%2CcitationStyles%2CcorpusId%2CexternalIds%2CfieldsOfStudy%2CinfluentialCitationCount%2CisOpenAccess%2Cjournal%2CopenAccessPdf%2CpaperId%2CpublicationDate%2CpublicationTypes%2CpublicationVenue%2CreferenceCount%2Cs2FieldsOfStudy%2Ctitle%2Curl%2Cvenue%2Cyear&offset=0&limit=100 \"HTTP/1.1 200 OK\"\n",
      "2025-04-29 10:11:08,437 - INFO - HTTP Request: GET https://api.semanticscholar.org/graph/v1/paper/a6aed0c4e0f39a55edb407f492e41f178a62907f/references?fields=contexts%2Cintents%2CcontextsWithIntent%2CisInfluential%2Cabstract%2Cauthors%2CcitationCount%2CcitationStyles%2CcorpusId%2CexternalIds%2CfieldsOfStudy%2CinfluentialCitationCount%2CisOpenAccess%2Cjournal%2CopenAccessPdf%2CpaperId%2CpublicationDate%2CpublicationTypes%2CpublicationVenue%2CreferenceCount%2Cs2FieldsOfStudy%2Ctitle%2Curl%2Cvenue%2Cyear&offset=0&limit=100 \"HTTP/1.1 429 \"\n",
      "2025-04-29 10:11:08,441 - SemanticScholarKit - WARNING - Rate limit (429) hit (via RetryError) for get_paper_references (ID/Query/URL: a6aed0c4e0f39a55edb407f492e41f178a62907f). Underlying tenacity retries failed. Attempting outer retry 2/21. Retrying after 3.0 seconds...\n",
      "2025-04-29 10:11:08,441 - WARNING - Rate limit (429) hit (via RetryError) for get_paper_references (ID/Query/URL: a6aed0c4e0f39a55edb407f492e41f178a62907f). Underlying tenacity retries failed. Attempting outer retry 2/21. Retrying after 3.0 seconds...\n",
      "2025-04-29 10:11:08,485 - INFO - HTTP Request: GET https://api.semanticscholar.org/graph/v1/paper/69b53faee7ce5c007e4d3e3ea532818ed8d0645d/references?fields=contexts%2Cintents%2CcontextsWithIntent%2CisInfluential%2Cabstract%2Cauthors%2CcitationCount%2CcitationStyles%2CcorpusId%2CexternalIds%2CfieldsOfStudy%2CinfluentialCitationCount%2CisOpenAccess%2Cjournal%2CopenAccessPdf%2CpaperId%2CpublicationDate%2CpublicationTypes%2CpublicationVenue%2CreferenceCount%2Cs2FieldsOfStudy%2Ctitle%2Curl%2Cvenue%2Cyear&offset=0&limit=100 \"HTTP/1.1 429 \"\n",
      "2025-04-29 10:11:08,487 - SemanticScholarKit - WARNING - Rate limit (429) hit (via RetryError) for get_paper_references (ID/Query/URL: 69b53faee7ce5c007e4d3e3ea532818ed8d0645d). Underlying tenacity retries failed. Attempting outer retry 2/21. Retrying after 3.0 seconds...\n",
      "2025-04-29 10:11:08,487 - WARNING - Rate limit (429) hit (via RetryError) for get_paper_references (ID/Query/URL: 69b53faee7ce5c007e4d3e3ea532818ed8d0645d). Underlying tenacity retries failed. Attempting outer retry 2/21. Retrying after 3.0 seconds...\n",
      "2025-04-29 10:11:08,508 - INFO - HTTP Request: GET https://api.semanticscholar.org/graph/v1/paper/cdb34c0092a767848ca1de6fa7e3a6b822585fa4/references?fields=contexts%2Cintents%2CcontextsWithIntent%2CisInfluential%2Cabstract%2Cauthors%2CcitationCount%2CcitationStyles%2CcorpusId%2CexternalIds%2CfieldsOfStudy%2CinfluentialCitationCount%2CisOpenAccess%2Cjournal%2CopenAccessPdf%2CpaperId%2CpublicationDate%2CpublicationTypes%2CpublicationVenue%2CreferenceCount%2Cs2FieldsOfStudy%2Ctitle%2Curl%2Cvenue%2Cyear&offset=0&limit=100 \"HTTP/1.1 429 \"\n",
      "2025-04-29 10:11:08,510 - SemanticScholarKit - WARNING - Rate limit (429) hit (via RetryError) for get_paper_references (ID/Query/URL: cdb34c0092a767848ca1de6fa7e3a6b822585fa4). Underlying tenacity retries failed. Attempting outer retry 2/21. Retrying after 3.0 seconds...\n",
      "2025-04-29 10:11:08,510 - WARNING - Rate limit (429) hit (via RetryError) for get_paper_references (ID/Query/URL: cdb34c0092a767848ca1de6fa7e3a6b822585fa4). Underlying tenacity retries failed. Attempting outer retry 2/21. Retrying after 3.0 seconds...\n",
      "2025-04-29 10:11:09,025 - INFO - HTTP Request: GET https://api.semanticscholar.org/graph/v1/paper/9e57dda195973c4b6c81386b1cc44595ecfd4697/references?fields=contexts%2Cintents%2CcontextsWithIntent%2CisInfluential%2Cabstract%2Cauthors%2CcitationCount%2CcitationStyles%2CcorpusId%2CexternalIds%2CfieldsOfStudy%2CinfluentialCitationCount%2CisOpenAccess%2Cjournal%2CopenAccessPdf%2CpaperId%2CpublicationDate%2CpublicationTypes%2CpublicationVenue%2CreferenceCount%2Cs2FieldsOfStudy%2Ctitle%2Curl%2Cvenue%2Cyear&offset=0&limit=100 \"HTTP/1.1 200 OK\"\n",
      "2025-04-29 10:11:09,310 - INFO - HTTP Request: GET https://api.semanticscholar.org/graph/v1/paper/search?query=LLM%20for%20peer%20review&fieldsOfStudy=Computer%20Science&publicationDateOrYear=2020-01-01%3A2025-04-30&fields=abstract%2Cauthors%2CcitationCount%2CcitationStyles%2CcorpusId%2CexternalIds%2CfieldsOfStudy%2CinfluentialCitationCount%2CisOpenAccess%2Cjournal%2CopenAccessPdf%2CpaperId%2CpublicationDate%2CpublicationTypes%2CpublicationVenue%2CreferenceCount%2Cs2FieldsOfStudy%2Ctitle%2Curl%2Cvenue%2Cyear&offset=0&limit=100 \"HTTP/1.1 200 OK\"\n",
      "2025-04-29 10:11:09,825 - INFO - HTTP Request: POST https://api.semanticscholar.org/recommendations/v1/papers/?fields=abstract%2Cauthors%2CcitationCount%2CcitationStyles%2CcorpusId%2CexternalIds%2CfieldsOfStudy%2CinfluentialCitationCount%2CisOpenAccess%2Cjournal%2CopenAccessPdf%2CpaperId%2CpublicationDate%2CpublicationTypes%2CpublicationVenue%2CreferenceCount%2Cs2FieldsOfStudy%2Ctitle%2Curl%2Cvenue%2Cyear&limit=100 \"HTTP/1.1 200 OK\"\n",
      "2025-04-29 10:11:09,955 - INFO - topic_search: Added 394 new papers and 400 topic links to data pool.\n",
      "2025-04-29 10:11:12,099 - INFO - HTTP Request: GET https://api.semanticscholar.org/graph/v1/paper/cdb34c0092a767848ca1de6fa7e3a6b822585fa4/references?fields=contexts%2Cintents%2CcontextsWithIntent%2CisInfluential%2Cabstract%2Cauthors%2CcitationCount%2CcitationStyles%2CcorpusId%2CexternalIds%2CfieldsOfStudy%2CinfluentialCitationCount%2CisOpenAccess%2Cjournal%2CopenAccessPdf%2CpaperId%2CpublicationDate%2CpublicationTypes%2CpublicationVenue%2CreferenceCount%2Cs2FieldsOfStudy%2Ctitle%2Curl%2Cvenue%2Cyear&offset=0&limit=100 \"HTTP/1.1 429 \"\n",
      "2025-04-29 10:11:12,102 - SemanticScholarKit - WARNING - Rate limit (429) hit (via RetryError) for get_paper_references (ID/Query/URL: cdb34c0092a767848ca1de6fa7e3a6b822585fa4). Underlying tenacity retries failed. Attempting outer retry 3/21. Retrying after 3.0 seconds...\n",
      "2025-04-29 10:11:12,102 - WARNING - Rate limit (429) hit (via RetryError) for get_paper_references (ID/Query/URL: cdb34c0092a767848ca1de6fa7e3a6b822585fa4). Underlying tenacity retries failed. Attempting outer retry 3/21. Retrying after 3.0 seconds...\n",
      "2025-04-29 10:11:12,134 - INFO - HTTP Request: GET https://api.semanticscholar.org/graph/v1/paper/69b53faee7ce5c007e4d3e3ea532818ed8d0645d/references?fields=contexts%2Cintents%2CcontextsWithIntent%2CisInfluential%2Cabstract%2Cauthors%2CcitationCount%2CcitationStyles%2CcorpusId%2CexternalIds%2CfieldsOfStudy%2CinfluentialCitationCount%2CisOpenAccess%2Cjournal%2CopenAccessPdf%2CpaperId%2CpublicationDate%2CpublicationTypes%2CpublicationVenue%2CreferenceCount%2Cs2FieldsOfStudy%2Ctitle%2Curl%2Cvenue%2Cyear&offset=0&limit=100 \"HTTP/1.1 429 \"\n",
      "2025-04-29 10:11:12,136 - SemanticScholarKit - WARNING - Rate limit (429) hit (via RetryError) for get_paper_references (ID/Query/URL: 69b53faee7ce5c007e4d3e3ea532818ed8d0645d). Underlying tenacity retries failed. Attempting outer retry 3/21. Retrying after 3.0 seconds...\n",
      "2025-04-29 10:11:12,136 - WARNING - Rate limit (429) hit (via RetryError) for get_paper_references (ID/Query/URL: 69b53faee7ce5c007e4d3e3ea532818ed8d0645d). Underlying tenacity retries failed. Attempting outer retry 3/21. Retrying after 3.0 seconds...\n",
      "2025-04-29 10:11:12,142 - INFO - HTTP Request: GET https://api.semanticscholar.org/graph/v1/paper/a6aed0c4e0f39a55edb407f492e41f178a62907f/references?fields=contexts%2Cintents%2CcontextsWithIntent%2CisInfluential%2Cabstract%2Cauthors%2CcitationCount%2CcitationStyles%2CcorpusId%2CexternalIds%2CfieldsOfStudy%2CinfluentialCitationCount%2CisOpenAccess%2Cjournal%2CopenAccessPdf%2CpaperId%2CpublicationDate%2CpublicationTypes%2CpublicationVenue%2CreferenceCount%2Cs2FieldsOfStudy%2Ctitle%2Curl%2Cvenue%2Cyear&offset=0&limit=100 \"HTTP/1.1 429 \"\n",
      "2025-04-29 10:11:12,144 - SemanticScholarKit - WARNING - Rate limit (429) hit (via RetryError) for get_paper_references (ID/Query/URL: a6aed0c4e0f39a55edb407f492e41f178a62907f). Underlying tenacity retries failed. Attempting outer retry 3/21. Retrying after 3.0 seconds...\n",
      "2025-04-29 10:11:12,144 - WARNING - Rate limit (429) hit (via RetryError) for get_paper_references (ID/Query/URL: a6aed0c4e0f39a55edb407f492e41f178a62907f). Underlying tenacity retries failed. Attempting outer retry 3/21. Retrying after 3.0 seconds...\n",
      "2025-04-29 10:11:15,753 - INFO - HTTP Request: GET https://api.semanticscholar.org/graph/v1/paper/69b53faee7ce5c007e4d3e3ea532818ed8d0645d/references?fields=contexts%2Cintents%2CcontextsWithIntent%2CisInfluential%2Cabstract%2Cauthors%2CcitationCount%2CcitationStyles%2CcorpusId%2CexternalIds%2CfieldsOfStudy%2CinfluentialCitationCount%2CisOpenAccess%2Cjournal%2CopenAccessPdf%2CpaperId%2CpublicationDate%2CpublicationTypes%2CpublicationVenue%2CreferenceCount%2Cs2FieldsOfStudy%2Ctitle%2Curl%2Cvenue%2Cyear&offset=0&limit=100 \"HTTP/1.1 429 \"\n",
      "2025-04-29 10:11:15,757 - SemanticScholarKit - WARNING - Rate limit (429) hit (via RetryError) for get_paper_references (ID/Query/URL: 69b53faee7ce5c007e4d3e3ea532818ed8d0645d). Underlying tenacity retries failed. Attempting outer retry 4/21. Retrying after 3.0 seconds...\n",
      "2025-04-29 10:11:15,757 - WARNING - Rate limit (429) hit (via RetryError) for get_paper_references (ID/Query/URL: 69b53faee7ce5c007e4d3e3ea532818ed8d0645d). Underlying tenacity retries failed. Attempting outer retry 4/21. Retrying after 3.0 seconds...\n",
      "2025-04-29 10:11:15,785 - INFO - HTTP Request: GET https://api.semanticscholar.org/graph/v1/paper/cdb34c0092a767848ca1de6fa7e3a6b822585fa4/references?fields=contexts%2Cintents%2CcontextsWithIntent%2CisInfluential%2Cabstract%2Cauthors%2CcitationCount%2CcitationStyles%2CcorpusId%2CexternalIds%2CfieldsOfStudy%2CinfluentialCitationCount%2CisOpenAccess%2Cjournal%2CopenAccessPdf%2CpaperId%2CpublicationDate%2CpublicationTypes%2CpublicationVenue%2CreferenceCount%2Cs2FieldsOfStudy%2Ctitle%2Curl%2Cvenue%2Cyear&offset=0&limit=100 \"HTTP/1.1 429 \"\n",
      "2025-04-29 10:11:15,787 - SemanticScholarKit - WARNING - Rate limit (429) hit (via RetryError) for get_paper_references (ID/Query/URL: cdb34c0092a767848ca1de6fa7e3a6b822585fa4). Underlying tenacity retries failed. Attempting outer retry 4/21. Retrying after 3.0 seconds...\n",
      "2025-04-29 10:11:15,787 - WARNING - Rate limit (429) hit (via RetryError) for get_paper_references (ID/Query/URL: cdb34c0092a767848ca1de6fa7e3a6b822585fa4). Underlying tenacity retries failed. Attempting outer retry 4/21. Retrying after 3.0 seconds...\n",
      "2025-04-29 10:11:15,797 - INFO - HTTP Request: GET https://api.semanticscholar.org/graph/v1/paper/a6aed0c4e0f39a55edb407f492e41f178a62907f/references?fields=contexts%2Cintents%2CcontextsWithIntent%2CisInfluential%2Cabstract%2Cauthors%2CcitationCount%2CcitationStyles%2CcorpusId%2CexternalIds%2CfieldsOfStudy%2CinfluentialCitationCount%2CisOpenAccess%2Cjournal%2CopenAccessPdf%2CpaperId%2CpublicationDate%2CpublicationTypes%2CpublicationVenue%2CreferenceCount%2Cs2FieldsOfStudy%2Ctitle%2Curl%2Cvenue%2Cyear&offset=0&limit=100 \"HTTP/1.1 429 \"\n",
      "2025-04-29 10:11:15,798 - SemanticScholarKit - WARNING - Rate limit (429) hit (via RetryError) for get_paper_references (ID/Query/URL: a6aed0c4e0f39a55edb407f492e41f178a62907f). Underlying tenacity retries failed. Attempting outer retry 4/21. Retrying after 3.0 seconds...\n",
      "2025-04-29 10:11:15,798 - WARNING - Rate limit (429) hit (via RetryError) for get_paper_references (ID/Query/URL: a6aed0c4e0f39a55edb407f492e41f178a62907f). Underlying tenacity retries failed. Attempting outer retry 4/21. Retrying after 3.0 seconds...\n",
      "2025-04-29 10:11:19,406 - INFO - HTTP Request: GET https://api.semanticscholar.org/graph/v1/paper/cdb34c0092a767848ca1de6fa7e3a6b822585fa4/references?fields=contexts%2Cintents%2CcontextsWithIntent%2CisInfluential%2Cabstract%2Cauthors%2CcitationCount%2CcitationStyles%2CcorpusId%2CexternalIds%2CfieldsOfStudy%2CinfluentialCitationCount%2CisOpenAccess%2Cjournal%2CopenAccessPdf%2CpaperId%2CpublicationDate%2CpublicationTypes%2CpublicationVenue%2CreferenceCount%2Cs2FieldsOfStudy%2Ctitle%2Curl%2Cvenue%2Cyear&offset=0&limit=100 \"HTTP/1.1 429 \"\n",
      "2025-04-29 10:11:19,409 - SemanticScholarKit - WARNING - Rate limit (429) hit (via RetryError) for get_paper_references (ID/Query/URL: cdb34c0092a767848ca1de6fa7e3a6b822585fa4). Underlying tenacity retries failed. Attempting outer retry 5/21. Retrying after 3.0 seconds...\n",
      "2025-04-29 10:11:19,409 - WARNING - Rate limit (429) hit (via RetryError) for get_paper_references (ID/Query/URL: cdb34c0092a767848ca1de6fa7e3a6b822585fa4). Underlying tenacity retries failed. Attempting outer retry 5/21. Retrying after 3.0 seconds...\n",
      "2025-04-29 10:11:19,412 - INFO - HTTP Request: GET https://api.semanticscholar.org/graph/v1/paper/a6aed0c4e0f39a55edb407f492e41f178a62907f/references?fields=contexts%2Cintents%2CcontextsWithIntent%2CisInfluential%2Cabstract%2Cauthors%2CcitationCount%2CcitationStyles%2CcorpusId%2CexternalIds%2CfieldsOfStudy%2CinfluentialCitationCount%2CisOpenAccess%2Cjournal%2CopenAccessPdf%2CpaperId%2CpublicationDate%2CpublicationTypes%2CpublicationVenue%2CreferenceCount%2Cs2FieldsOfStudy%2Ctitle%2Curl%2Cvenue%2Cyear&offset=0&limit=100 \"HTTP/1.1 429 \"\n",
      "2025-04-29 10:11:19,415 - SemanticScholarKit - WARNING - Rate limit (429) hit (via RetryError) for get_paper_references (ID/Query/URL: a6aed0c4e0f39a55edb407f492e41f178a62907f). Underlying tenacity retries failed. Attempting outer retry 5/21. Retrying after 3.0 seconds...\n",
      "2025-04-29 10:11:19,415 - WARNING - Rate limit (429) hit (via RetryError) for get_paper_references (ID/Query/URL: a6aed0c4e0f39a55edb407f492e41f178a62907f). Underlying tenacity retries failed. Attempting outer retry 5/21. Retrying after 3.0 seconds...\n",
      "2025-04-29 10:11:19,417 - INFO - HTTP Request: GET https://api.semanticscholar.org/graph/v1/paper/69b53faee7ce5c007e4d3e3ea532818ed8d0645d/references?fields=contexts%2Cintents%2CcontextsWithIntent%2CisInfluential%2Cabstract%2Cauthors%2CcitationCount%2CcitationStyles%2CcorpusId%2CexternalIds%2CfieldsOfStudy%2CinfluentialCitationCount%2CisOpenAccess%2Cjournal%2CopenAccessPdf%2CpaperId%2CpublicationDate%2CpublicationTypes%2CpublicationVenue%2CreferenceCount%2Cs2FieldsOfStudy%2Ctitle%2Curl%2Cvenue%2Cyear&offset=0&limit=100 \"HTTP/1.1 429 \"\n",
      "2025-04-29 10:11:19,419 - SemanticScholarKit - WARNING - Rate limit (429) hit (via RetryError) for get_paper_references (ID/Query/URL: 69b53faee7ce5c007e4d3e3ea532818ed8d0645d). Underlying tenacity retries failed. Attempting outer retry 5/21. Retrying after 3.0 seconds...\n",
      "2025-04-29 10:11:19,419 - WARNING - Rate limit (429) hit (via RetryError) for get_paper_references (ID/Query/URL: 69b53faee7ce5c007e4d3e3ea532818ed8d0645d). Underlying tenacity retries failed. Attempting outer retry 5/21. Retrying after 3.0 seconds...\n",
      "2025-04-29 10:11:23,156 - INFO - HTTP Request: GET https://api.semanticscholar.org/graph/v1/paper/69b53faee7ce5c007e4d3e3ea532818ed8d0645d/references?fields=contexts%2Cintents%2CcontextsWithIntent%2CisInfluential%2Cabstract%2Cauthors%2CcitationCount%2CcitationStyles%2CcorpusId%2CexternalIds%2CfieldsOfStudy%2CinfluentialCitationCount%2CisOpenAccess%2Cjournal%2CopenAccessPdf%2CpaperId%2CpublicationDate%2CpublicationTypes%2CpublicationVenue%2CreferenceCount%2Cs2FieldsOfStudy%2Ctitle%2Curl%2Cvenue%2Cyear&offset=0&limit=100 \"HTTP/1.1 429 \"\n",
      "2025-04-29 10:11:23,160 - SemanticScholarKit - WARNING - Rate limit (429) hit (via RetryError) for get_paper_references (ID/Query/URL: 69b53faee7ce5c007e4d3e3ea532818ed8d0645d). Underlying tenacity retries failed. Attempting outer retry 6/21. Retrying after 3.0 seconds...\n",
      "2025-04-29 10:11:23,160 - WARNING - Rate limit (429) hit (via RetryError) for get_paper_references (ID/Query/URL: 69b53faee7ce5c007e4d3e3ea532818ed8d0645d). Underlying tenacity retries failed. Attempting outer retry 6/21. Retrying after 3.0 seconds...\n",
      "2025-04-29 10:11:23,176 - INFO - HTTP Request: GET https://api.semanticscholar.org/graph/v1/paper/cdb34c0092a767848ca1de6fa7e3a6b822585fa4/references?fields=contexts%2Cintents%2CcontextsWithIntent%2CisInfluential%2Cabstract%2Cauthors%2CcitationCount%2CcitationStyles%2CcorpusId%2CexternalIds%2CfieldsOfStudy%2CinfluentialCitationCount%2CisOpenAccess%2Cjournal%2CopenAccessPdf%2CpaperId%2CpublicationDate%2CpublicationTypes%2CpublicationVenue%2CreferenceCount%2Cs2FieldsOfStudy%2Ctitle%2Curl%2Cvenue%2Cyear&offset=0&limit=100 \"HTTP/1.1 429 \"\n",
      "2025-04-29 10:11:23,178 - SemanticScholarKit - WARNING - Rate limit (429) hit (via RetryError) for get_paper_references (ID/Query/URL: cdb34c0092a767848ca1de6fa7e3a6b822585fa4). Underlying tenacity retries failed. Attempting outer retry 6/21. Retrying after 3.0 seconds...\n",
      "2025-04-29 10:11:23,178 - WARNING - Rate limit (429) hit (via RetryError) for get_paper_references (ID/Query/URL: cdb34c0092a767848ca1de6fa7e3a6b822585fa4). Underlying tenacity retries failed. Attempting outer retry 6/21. Retrying after 3.0 seconds...\n",
      "2025-04-29 10:11:23,193 - INFO - HTTP Request: GET https://api.semanticscholar.org/graph/v1/paper/a6aed0c4e0f39a55edb407f492e41f178a62907f/references?fields=contexts%2Cintents%2CcontextsWithIntent%2CisInfluential%2Cabstract%2Cauthors%2CcitationCount%2CcitationStyles%2CcorpusId%2CexternalIds%2CfieldsOfStudy%2CinfluentialCitationCount%2CisOpenAccess%2Cjournal%2CopenAccessPdf%2CpaperId%2CpublicationDate%2CpublicationTypes%2CpublicationVenue%2CreferenceCount%2Cs2FieldsOfStudy%2Ctitle%2Curl%2Cvenue%2Cyear&offset=0&limit=100 \"HTTP/1.1 429 \"\n",
      "2025-04-29 10:11:23,195 - SemanticScholarKit - WARNING - Rate limit (429) hit (via RetryError) for get_paper_references (ID/Query/URL: a6aed0c4e0f39a55edb407f492e41f178a62907f). Underlying tenacity retries failed. Attempting outer retry 6/21. Retrying after 3.0 seconds...\n",
      "2025-04-29 10:11:23,195 - WARNING - Rate limit (429) hit (via RetryError) for get_paper_references (ID/Query/URL: a6aed0c4e0f39a55edb407f492e41f178a62907f). Underlying tenacity retries failed. Attempting outer retry 6/21. Retrying after 3.0 seconds...\n",
      "2025-04-29 10:11:26,867 - INFO - HTTP Request: GET https://api.semanticscholar.org/graph/v1/paper/a6aed0c4e0f39a55edb407f492e41f178a62907f/references?fields=contexts%2Cintents%2CcontextsWithIntent%2CisInfluential%2Cabstract%2Cauthors%2CcitationCount%2CcitationStyles%2CcorpusId%2CexternalIds%2CfieldsOfStudy%2CinfluentialCitationCount%2CisOpenAccess%2Cjournal%2CopenAccessPdf%2CpaperId%2CpublicationDate%2CpublicationTypes%2CpublicationVenue%2CreferenceCount%2Cs2FieldsOfStudy%2Ctitle%2Curl%2Cvenue%2Cyear&offset=0&limit=100 \"HTTP/1.1 429 \"\n",
      "2025-04-29 10:11:26,870 - SemanticScholarKit - WARNING - Rate limit (429) hit (via RetryError) for get_paper_references (ID/Query/URL: a6aed0c4e0f39a55edb407f492e41f178a62907f). Underlying tenacity retries failed. Attempting outer retry 7/21. Retrying after 3.0 seconds...\n",
      "2025-04-29 10:11:26,870 - WARNING - Rate limit (429) hit (via RetryError) for get_paper_references (ID/Query/URL: a6aed0c4e0f39a55edb407f492e41f178a62907f). Underlying tenacity retries failed. Attempting outer retry 7/21. Retrying after 3.0 seconds...\n",
      "2025-04-29 10:11:26,873 - INFO - HTTP Request: GET https://api.semanticscholar.org/graph/v1/paper/cdb34c0092a767848ca1de6fa7e3a6b822585fa4/references?fields=contexts%2Cintents%2CcontextsWithIntent%2CisInfluential%2Cabstract%2Cauthors%2CcitationCount%2CcitationStyles%2CcorpusId%2CexternalIds%2CfieldsOfStudy%2CinfluentialCitationCount%2CisOpenAccess%2Cjournal%2CopenAccessPdf%2CpaperId%2CpublicationDate%2CpublicationTypes%2CpublicationVenue%2CreferenceCount%2Cs2FieldsOfStudy%2Ctitle%2Curl%2Cvenue%2Cyear&offset=0&limit=100 \"HTTP/1.1 429 \"\n",
      "2025-04-29 10:11:26,875 - SemanticScholarKit - WARNING - Rate limit (429) hit (via RetryError) for get_paper_references (ID/Query/URL: cdb34c0092a767848ca1de6fa7e3a6b822585fa4). Underlying tenacity retries failed. Attempting outer retry 7/21. Retrying after 3.0 seconds...\n",
      "2025-04-29 10:11:26,875 - WARNING - Rate limit (429) hit (via RetryError) for get_paper_references (ID/Query/URL: cdb34c0092a767848ca1de6fa7e3a6b822585fa4). Underlying tenacity retries failed. Attempting outer retry 7/21. Retrying after 3.0 seconds...\n",
      "2025-04-29 10:11:27,047 - INFO - HTTP Request: GET https://api.semanticscholar.org/graph/v1/paper/69b53faee7ce5c007e4d3e3ea532818ed8d0645d/references?fields=contexts%2Cintents%2CcontextsWithIntent%2CisInfluential%2Cabstract%2Cauthors%2CcitationCount%2CcitationStyles%2CcorpusId%2CexternalIds%2CfieldsOfStudy%2CinfluentialCitationCount%2CisOpenAccess%2Cjournal%2CopenAccessPdf%2CpaperId%2CpublicationDate%2CpublicationTypes%2CpublicationVenue%2CreferenceCount%2Cs2FieldsOfStudy%2Ctitle%2Curl%2Cvenue%2Cyear&offset=0&limit=100 \"HTTP/1.1 429 \"\n",
      "2025-04-29 10:11:27,051 - SemanticScholarKit - WARNING - Rate limit (429) hit (via RetryError) for get_paper_references (ID/Query/URL: 69b53faee7ce5c007e4d3e3ea532818ed8d0645d). Underlying tenacity retries failed. Attempting outer retry 7/21. Retrying after 3.0 seconds...\n",
      "2025-04-29 10:11:27,051 - WARNING - Rate limit (429) hit (via RetryError) for get_paper_references (ID/Query/URL: 69b53faee7ce5c007e4d3e3ea532818ed8d0645d). Underlying tenacity retries failed. Attempting outer retry 7/21. Retrying after 3.0 seconds...\n",
      "2025-04-29 10:11:30,546 - INFO - HTTP Request: GET https://api.semanticscholar.org/graph/v1/paper/a6aed0c4e0f39a55edb407f492e41f178a62907f/references?fields=contexts%2Cintents%2CcontextsWithIntent%2CisInfluential%2Cabstract%2Cauthors%2CcitationCount%2CcitationStyles%2CcorpusId%2CexternalIds%2CfieldsOfStudy%2CinfluentialCitationCount%2CisOpenAccess%2Cjournal%2CopenAccessPdf%2CpaperId%2CpublicationDate%2CpublicationTypes%2CpublicationVenue%2CreferenceCount%2Cs2FieldsOfStudy%2Ctitle%2Curl%2Cvenue%2Cyear&offset=0&limit=100 \"HTTP/1.1 429 \"\n",
      "2025-04-29 10:11:30,549 - SemanticScholarKit - WARNING - Rate limit (429) hit (via RetryError) for get_paper_references (ID/Query/URL: a6aed0c4e0f39a55edb407f492e41f178a62907f). Underlying tenacity retries failed. Attempting outer retry 8/21. Retrying after 3.0 seconds...\n",
      "2025-04-29 10:11:30,549 - WARNING - Rate limit (429) hit (via RetryError) for get_paper_references (ID/Query/URL: a6aed0c4e0f39a55edb407f492e41f178a62907f). Underlying tenacity retries failed. Attempting outer retry 8/21. Retrying after 3.0 seconds...\n",
      "2025-04-29 10:11:30,611 - INFO - HTTP Request: GET https://api.semanticscholar.org/graph/v1/paper/cdb34c0092a767848ca1de6fa7e3a6b822585fa4/references?fields=contexts%2Cintents%2CcontextsWithIntent%2CisInfluential%2Cabstract%2Cauthors%2CcitationCount%2CcitationStyles%2CcorpusId%2CexternalIds%2CfieldsOfStudy%2CinfluentialCitationCount%2CisOpenAccess%2Cjournal%2CopenAccessPdf%2CpaperId%2CpublicationDate%2CpublicationTypes%2CpublicationVenue%2CreferenceCount%2Cs2FieldsOfStudy%2Ctitle%2Curl%2Cvenue%2Cyear&offset=0&limit=100 \"HTTP/1.1 429 \"\n",
      "2025-04-29 10:11:30,614 - SemanticScholarKit - WARNING - Rate limit (429) hit (via RetryError) for get_paper_references (ID/Query/URL: cdb34c0092a767848ca1de6fa7e3a6b822585fa4). Underlying tenacity retries failed. Attempting outer retry 8/21. Retrying after 3.0 seconds...\n",
      "2025-04-29 10:11:30,614 - WARNING - Rate limit (429) hit (via RetryError) for get_paper_references (ID/Query/URL: cdb34c0092a767848ca1de6fa7e3a6b822585fa4). Underlying tenacity retries failed. Attempting outer retry 8/21. Retrying after 3.0 seconds...\n",
      "2025-04-29 10:11:30,702 - INFO - HTTP Request: GET https://api.semanticscholar.org/graph/v1/paper/69b53faee7ce5c007e4d3e3ea532818ed8d0645d/references?fields=contexts%2Cintents%2CcontextsWithIntent%2CisInfluential%2Cabstract%2Cauthors%2CcitationCount%2CcitationStyles%2CcorpusId%2CexternalIds%2CfieldsOfStudy%2CinfluentialCitationCount%2CisOpenAccess%2Cjournal%2CopenAccessPdf%2CpaperId%2CpublicationDate%2CpublicationTypes%2CpublicationVenue%2CreferenceCount%2Cs2FieldsOfStudy%2Ctitle%2Curl%2Cvenue%2Cyear&offset=0&limit=100 \"HTTP/1.1 429 \"\n",
      "2025-04-29 10:11:30,705 - SemanticScholarKit - WARNING - Rate limit (429) hit (via RetryError) for get_paper_references (ID/Query/URL: 69b53faee7ce5c007e4d3e3ea532818ed8d0645d). Underlying tenacity retries failed. Attempting outer retry 8/21. Retrying after 3.0 seconds...\n",
      "2025-04-29 10:11:30,705 - WARNING - Rate limit (429) hit (via RetryError) for get_paper_references (ID/Query/URL: 69b53faee7ce5c007e4d3e3ea532818ed8d0645d). Underlying tenacity retries failed. Attempting outer retry 8/21. Retrying after 3.0 seconds...\n",
      "2025-04-29 10:11:34,151 - INFO - HTTP Request: GET https://api.semanticscholar.org/graph/v1/paper/a6aed0c4e0f39a55edb407f492e41f178a62907f/references?fields=contexts%2Cintents%2CcontextsWithIntent%2CisInfluential%2Cabstract%2Cauthors%2CcitationCount%2CcitationStyles%2CcorpusId%2CexternalIds%2CfieldsOfStudy%2CinfluentialCitationCount%2CisOpenAccess%2Cjournal%2CopenAccessPdf%2CpaperId%2CpublicationDate%2CpublicationTypes%2CpublicationVenue%2CreferenceCount%2Cs2FieldsOfStudy%2Ctitle%2Curl%2Cvenue%2Cyear&offset=0&limit=100 \"HTTP/1.1 429 \"\n",
      "2025-04-29 10:11:34,155 - SemanticScholarKit - WARNING - Rate limit (429) hit (via RetryError) for get_paper_references (ID/Query/URL: a6aed0c4e0f39a55edb407f492e41f178a62907f). Underlying tenacity retries failed. Attempting outer retry 9/21. Retrying after 3.0 seconds...\n",
      "2025-04-29 10:11:34,155 - WARNING - Rate limit (429) hit (via RetryError) for get_paper_references (ID/Query/URL: a6aed0c4e0f39a55edb407f492e41f178a62907f). Underlying tenacity retries failed. Attempting outer retry 9/21. Retrying after 3.0 seconds...\n",
      "2025-04-29 10:11:34,192 - INFO - HTTP Request: GET https://api.semanticscholar.org/graph/v1/paper/cdb34c0092a767848ca1de6fa7e3a6b822585fa4/references?fields=contexts%2Cintents%2CcontextsWithIntent%2CisInfluential%2Cabstract%2Cauthors%2CcitationCount%2CcitationStyles%2CcorpusId%2CexternalIds%2CfieldsOfStudy%2CinfluentialCitationCount%2CisOpenAccess%2Cjournal%2CopenAccessPdf%2CpaperId%2CpublicationDate%2CpublicationTypes%2CpublicationVenue%2CreferenceCount%2Cs2FieldsOfStudy%2Ctitle%2Curl%2Cvenue%2Cyear&offset=0&limit=100 \"HTTP/1.1 429 \"\n",
      "2025-04-29 10:11:34,194 - SemanticScholarKit - WARNING - Rate limit (429) hit (via RetryError) for get_paper_references (ID/Query/URL: cdb34c0092a767848ca1de6fa7e3a6b822585fa4). Underlying tenacity retries failed. Attempting outer retry 9/21. Retrying after 3.0 seconds...\n",
      "2025-04-29 10:11:34,194 - WARNING - Rate limit (429) hit (via RetryError) for get_paper_references (ID/Query/URL: cdb34c0092a767848ca1de6fa7e3a6b822585fa4). Underlying tenacity retries failed. Attempting outer retry 9/21. Retrying after 3.0 seconds...\n",
      "2025-04-29 10:11:34,278 - INFO - HTTP Request: GET https://api.semanticscholar.org/graph/v1/paper/69b53faee7ce5c007e4d3e3ea532818ed8d0645d/references?fields=contexts%2Cintents%2CcontextsWithIntent%2CisInfluential%2Cabstract%2Cauthors%2CcitationCount%2CcitationStyles%2CcorpusId%2CexternalIds%2CfieldsOfStudy%2CinfluentialCitationCount%2CisOpenAccess%2Cjournal%2CopenAccessPdf%2CpaperId%2CpublicationDate%2CpublicationTypes%2CpublicationVenue%2CreferenceCount%2Cs2FieldsOfStudy%2Ctitle%2Curl%2Cvenue%2Cyear&offset=0&limit=100 \"HTTP/1.1 429 \"\n",
      "2025-04-29 10:11:34,280 - SemanticScholarKit - WARNING - Rate limit (429) hit (via RetryError) for get_paper_references (ID/Query/URL: 69b53faee7ce5c007e4d3e3ea532818ed8d0645d). Underlying tenacity retries failed. Attempting outer retry 9/21. Retrying after 3.0 seconds...\n",
      "2025-04-29 10:11:34,280 - WARNING - Rate limit (429) hit (via RetryError) for get_paper_references (ID/Query/URL: 69b53faee7ce5c007e4d3e3ea532818ed8d0645d). Underlying tenacity retries failed. Attempting outer retry 9/21. Retrying after 3.0 seconds...\n",
      "2025-04-29 10:11:37,812 - INFO - HTTP Request: GET https://api.semanticscholar.org/graph/v1/paper/cdb34c0092a767848ca1de6fa7e3a6b822585fa4/references?fields=contexts%2Cintents%2CcontextsWithIntent%2CisInfluential%2Cabstract%2Cauthors%2CcitationCount%2CcitationStyles%2CcorpusId%2CexternalIds%2CfieldsOfStudy%2CinfluentialCitationCount%2CisOpenAccess%2Cjournal%2CopenAccessPdf%2CpaperId%2CpublicationDate%2CpublicationTypes%2CpublicationVenue%2CreferenceCount%2Cs2FieldsOfStudy%2Ctitle%2Curl%2Cvenue%2Cyear&offset=0&limit=100 \"HTTP/1.1 429 \"\n",
      "2025-04-29 10:11:37,816 - SemanticScholarKit - WARNING - Rate limit (429) hit (via RetryError) for get_paper_references (ID/Query/URL: cdb34c0092a767848ca1de6fa7e3a6b822585fa4). Underlying tenacity retries failed. Attempting outer retry 10/21. Retrying after 3.0 seconds...\n",
      "2025-04-29 10:11:37,816 - WARNING - Rate limit (429) hit (via RetryError) for get_paper_references (ID/Query/URL: cdb34c0092a767848ca1de6fa7e3a6b822585fa4). Underlying tenacity retries failed. Attempting outer retry 10/21. Retrying after 3.0 seconds...\n",
      "2025-04-29 10:11:37,851 - INFO - HTTP Request: GET https://api.semanticscholar.org/graph/v1/paper/a6aed0c4e0f39a55edb407f492e41f178a62907f/references?fields=contexts%2Cintents%2CcontextsWithIntent%2CisInfluential%2Cabstract%2Cauthors%2CcitationCount%2CcitationStyles%2CcorpusId%2CexternalIds%2CfieldsOfStudy%2CinfluentialCitationCount%2CisOpenAccess%2Cjournal%2CopenAccessPdf%2CpaperId%2CpublicationDate%2CpublicationTypes%2CpublicationVenue%2CreferenceCount%2Cs2FieldsOfStudy%2Ctitle%2Curl%2Cvenue%2Cyear&offset=0&limit=100 \"HTTP/1.1 429 \"\n",
      "2025-04-29 10:11:37,853 - SemanticScholarKit - WARNING - Rate limit (429) hit (via RetryError) for get_paper_references (ID/Query/URL: a6aed0c4e0f39a55edb407f492e41f178a62907f). Underlying tenacity retries failed. Attempting outer retry 10/21. Retrying after 3.0 seconds...\n",
      "2025-04-29 10:11:37,853 - WARNING - Rate limit (429) hit (via RetryError) for get_paper_references (ID/Query/URL: a6aed0c4e0f39a55edb407f492e41f178a62907f). Underlying tenacity retries failed. Attempting outer retry 10/21. Retrying after 3.0 seconds...\n",
      "2025-04-29 10:11:37,883 - INFO - HTTP Request: GET https://api.semanticscholar.org/graph/v1/paper/69b53faee7ce5c007e4d3e3ea532818ed8d0645d/references?fields=contexts%2Cintents%2CcontextsWithIntent%2CisInfluential%2Cabstract%2Cauthors%2CcitationCount%2CcitationStyles%2CcorpusId%2CexternalIds%2CfieldsOfStudy%2CinfluentialCitationCount%2CisOpenAccess%2Cjournal%2CopenAccessPdf%2CpaperId%2CpublicationDate%2CpublicationTypes%2CpublicationVenue%2CreferenceCount%2Cs2FieldsOfStudy%2Ctitle%2Curl%2Cvenue%2Cyear&offset=0&limit=100 \"HTTP/1.1 429 \"\n",
      "2025-04-29 10:11:37,885 - SemanticScholarKit - WARNING - Rate limit (429) hit (via RetryError) for get_paper_references (ID/Query/URL: 69b53faee7ce5c007e4d3e3ea532818ed8d0645d). Underlying tenacity retries failed. Attempting outer retry 10/21. Retrying after 3.0 seconds...\n",
      "2025-04-29 10:11:37,885 - WARNING - Rate limit (429) hit (via RetryError) for get_paper_references (ID/Query/URL: 69b53faee7ce5c007e4d3e3ea532818ed8d0645d). Underlying tenacity retries failed. Attempting outer retry 10/21. Retrying after 3.0 seconds...\n",
      "2025-04-29 10:11:41,535 - INFO - HTTP Request: GET https://api.semanticscholar.org/graph/v1/paper/a6aed0c4e0f39a55edb407f492e41f178a62907f/references?fields=contexts%2Cintents%2CcontextsWithIntent%2CisInfluential%2Cabstract%2Cauthors%2CcitationCount%2CcitationStyles%2CcorpusId%2CexternalIds%2CfieldsOfStudy%2CinfluentialCitationCount%2CisOpenAccess%2Cjournal%2CopenAccessPdf%2CpaperId%2CpublicationDate%2CpublicationTypes%2CpublicationVenue%2CreferenceCount%2Cs2FieldsOfStudy%2Ctitle%2Curl%2Cvenue%2Cyear&offset=0&limit=100 \"HTTP/1.1 429 \"\n",
      "2025-04-29 10:11:41,538 - SemanticScholarKit - WARNING - Rate limit (429) hit (via RetryError) for get_paper_references (ID/Query/URL: a6aed0c4e0f39a55edb407f492e41f178a62907f). Underlying tenacity retries failed. Attempting outer retry 11/21. Retrying after 3.0 seconds...\n",
      "2025-04-29 10:11:41,538 - WARNING - Rate limit (429) hit (via RetryError) for get_paper_references (ID/Query/URL: a6aed0c4e0f39a55edb407f492e41f178a62907f). Underlying tenacity retries failed. Attempting outer retry 11/21. Retrying after 3.0 seconds...\n",
      "2025-04-29 10:11:41,545 - INFO - HTTP Request: GET https://api.semanticscholar.org/graph/v1/paper/69b53faee7ce5c007e4d3e3ea532818ed8d0645d/references?fields=contexts%2Cintents%2CcontextsWithIntent%2CisInfluential%2Cabstract%2Cauthors%2CcitationCount%2CcitationStyles%2CcorpusId%2CexternalIds%2CfieldsOfStudy%2CinfluentialCitationCount%2CisOpenAccess%2Cjournal%2CopenAccessPdf%2CpaperId%2CpublicationDate%2CpublicationTypes%2CpublicationVenue%2CreferenceCount%2Cs2FieldsOfStudy%2Ctitle%2Curl%2Cvenue%2Cyear&offset=0&limit=100 \"HTTP/1.1 429 \"\n",
      "2025-04-29 10:11:41,547 - SemanticScholarKit - WARNING - Rate limit (429) hit (via RetryError) for get_paper_references (ID/Query/URL: 69b53faee7ce5c007e4d3e3ea532818ed8d0645d). Underlying tenacity retries failed. Attempting outer retry 11/21. Retrying after 3.0 seconds...\n",
      "2025-04-29 10:11:41,547 - WARNING - Rate limit (429) hit (via RetryError) for get_paper_references (ID/Query/URL: 69b53faee7ce5c007e4d3e3ea532818ed8d0645d). Underlying tenacity retries failed. Attempting outer retry 11/21. Retrying after 3.0 seconds...\n",
      "2025-04-29 10:11:41,549 - INFO - HTTP Request: GET https://api.semanticscholar.org/graph/v1/paper/cdb34c0092a767848ca1de6fa7e3a6b822585fa4/references?fields=contexts%2Cintents%2CcontextsWithIntent%2CisInfluential%2Cabstract%2Cauthors%2CcitationCount%2CcitationStyles%2CcorpusId%2CexternalIds%2CfieldsOfStudy%2CinfluentialCitationCount%2CisOpenAccess%2Cjournal%2CopenAccessPdf%2CpaperId%2CpublicationDate%2CpublicationTypes%2CpublicationVenue%2CreferenceCount%2Cs2FieldsOfStudy%2Ctitle%2Curl%2Cvenue%2Cyear&offset=0&limit=100 \"HTTP/1.1 429 \"\n",
      "2025-04-29 10:11:41,552 - SemanticScholarKit - WARNING - Rate limit (429) hit (via RetryError) for get_paper_references (ID/Query/URL: cdb34c0092a767848ca1de6fa7e3a6b822585fa4). Underlying tenacity retries failed. Attempting outer retry 11/21. Retrying after 3.0 seconds...\n",
      "2025-04-29 10:11:41,552 - WARNING - Rate limit (429) hit (via RetryError) for get_paper_references (ID/Query/URL: cdb34c0092a767848ca1de6fa7e3a6b822585fa4). Underlying tenacity retries failed. Attempting outer retry 11/21. Retrying after 3.0 seconds...\n",
      "2025-04-29 10:11:45,212 - INFO - HTTP Request: GET https://api.semanticscholar.org/graph/v1/paper/cdb34c0092a767848ca1de6fa7e3a6b822585fa4/references?fields=contexts%2Cintents%2CcontextsWithIntent%2CisInfluential%2Cabstract%2Cauthors%2CcitationCount%2CcitationStyles%2CcorpusId%2CexternalIds%2CfieldsOfStudy%2CinfluentialCitationCount%2CisOpenAccess%2Cjournal%2CopenAccessPdf%2CpaperId%2CpublicationDate%2CpublicationTypes%2CpublicationVenue%2CreferenceCount%2Cs2FieldsOfStudy%2Ctitle%2Curl%2Cvenue%2Cyear&offset=0&limit=100 \"HTTP/1.1 429 \"\n",
      "2025-04-29 10:11:45,217 - SemanticScholarKit - WARNING - Rate limit (429) hit (via RetryError) for get_paper_references (ID/Query/URL: cdb34c0092a767848ca1de6fa7e3a6b822585fa4). Underlying tenacity retries failed. Attempting outer retry 12/21. Retrying after 3.0 seconds...\n",
      "2025-04-29 10:11:45,217 - WARNING - Rate limit (429) hit (via RetryError) for get_paper_references (ID/Query/URL: cdb34c0092a767848ca1de6fa7e3a6b822585fa4). Underlying tenacity retries failed. Attempting outer retry 12/21. Retrying after 3.0 seconds...\n",
      "2025-04-29 10:11:45,219 - INFO - HTTP Request: GET https://api.semanticscholar.org/graph/v1/paper/a6aed0c4e0f39a55edb407f492e41f178a62907f/references?fields=contexts%2Cintents%2CcontextsWithIntent%2CisInfluential%2Cabstract%2Cauthors%2CcitationCount%2CcitationStyles%2CcorpusId%2CexternalIds%2CfieldsOfStudy%2CinfluentialCitationCount%2CisOpenAccess%2Cjournal%2CopenAccessPdf%2CpaperId%2CpublicationDate%2CpublicationTypes%2CpublicationVenue%2CreferenceCount%2Cs2FieldsOfStudy%2Ctitle%2Curl%2Cvenue%2Cyear&offset=0&limit=100 \"HTTP/1.1 429 \"\n",
      "2025-04-29 10:11:45,222 - INFO - HTTP Request: GET https://api.semanticscholar.org/graph/v1/paper/69b53faee7ce5c007e4d3e3ea532818ed8d0645d/references?fields=contexts%2Cintents%2CcontextsWithIntent%2CisInfluential%2Cabstract%2Cauthors%2CcitationCount%2CcitationStyles%2CcorpusId%2CexternalIds%2CfieldsOfStudy%2CinfluentialCitationCount%2CisOpenAccess%2Cjournal%2CopenAccessPdf%2CpaperId%2CpublicationDate%2CpublicationTypes%2CpublicationVenue%2CreferenceCount%2Cs2FieldsOfStudy%2Ctitle%2Curl%2Cvenue%2Cyear&offset=0&limit=100 \"HTTP/1.1 429 \"\n",
      "2025-04-29 10:11:45,225 - SemanticScholarKit - WARNING - Rate limit (429) hit (via RetryError) for get_paper_references (ID/Query/URL: a6aed0c4e0f39a55edb407f492e41f178a62907f). Underlying tenacity retries failed. Attempting outer retry 12/21. Retrying after 3.0 seconds...\n",
      "2025-04-29 10:11:45,225 - WARNING - Rate limit (429) hit (via RetryError) for get_paper_references (ID/Query/URL: a6aed0c4e0f39a55edb407f492e41f178a62907f). Underlying tenacity retries failed. Attempting outer retry 12/21. Retrying after 3.0 seconds...\n",
      "2025-04-29 10:11:45,226 - SemanticScholarKit - WARNING - Rate limit (429) hit (via RetryError) for get_paper_references (ID/Query/URL: 69b53faee7ce5c007e4d3e3ea532818ed8d0645d). Underlying tenacity retries failed. Attempting outer retry 12/21. Retrying after 3.0 seconds...\n",
      "2025-04-29 10:11:45,226 - WARNING - Rate limit (429) hit (via RetryError) for get_paper_references (ID/Query/URL: 69b53faee7ce5c007e4d3e3ea532818ed8d0645d). Underlying tenacity retries failed. Attempting outer retry 12/21. Retrying after 3.0 seconds...\n",
      "2025-04-29 10:11:48,862 - INFO - HTTP Request: GET https://api.semanticscholar.org/graph/v1/paper/69b53faee7ce5c007e4d3e3ea532818ed8d0645d/references?fields=contexts%2Cintents%2CcontextsWithIntent%2CisInfluential%2Cabstract%2Cauthors%2CcitationCount%2CcitationStyles%2CcorpusId%2CexternalIds%2CfieldsOfStudy%2CinfluentialCitationCount%2CisOpenAccess%2Cjournal%2CopenAccessPdf%2CpaperId%2CpublicationDate%2CpublicationTypes%2CpublicationVenue%2CreferenceCount%2Cs2FieldsOfStudy%2Ctitle%2Curl%2Cvenue%2Cyear&offset=0&limit=100 \"HTTP/1.1 429 \"\n",
      "2025-04-29 10:11:48,867 - SemanticScholarKit - WARNING - Rate limit (429) hit (via RetryError) for get_paper_references (ID/Query/URL: 69b53faee7ce5c007e4d3e3ea532818ed8d0645d). Underlying tenacity retries failed. Attempting outer retry 13/21. Retrying after 3.0 seconds...\n",
      "2025-04-29 10:11:48,867 - WARNING - Rate limit (429) hit (via RetryError) for get_paper_references (ID/Query/URL: 69b53faee7ce5c007e4d3e3ea532818ed8d0645d). Underlying tenacity retries failed. Attempting outer retry 13/21. Retrying after 3.0 seconds...\n",
      "2025-04-29 10:11:48,921 - INFO - HTTP Request: GET https://api.semanticscholar.org/graph/v1/paper/a6aed0c4e0f39a55edb407f492e41f178a62907f/references?fields=contexts%2Cintents%2CcontextsWithIntent%2CisInfluential%2Cabstract%2Cauthors%2CcitationCount%2CcitationStyles%2CcorpusId%2CexternalIds%2CfieldsOfStudy%2CinfluentialCitationCount%2CisOpenAccess%2Cjournal%2CopenAccessPdf%2CpaperId%2CpublicationDate%2CpublicationTypes%2CpublicationVenue%2CreferenceCount%2Cs2FieldsOfStudy%2Ctitle%2Curl%2Cvenue%2Cyear&offset=0&limit=100 \"HTTP/1.1 429 \"\n",
      "2025-04-29 10:11:48,923 - SemanticScholarKit - WARNING - Rate limit (429) hit (via RetryError) for get_paper_references (ID/Query/URL: a6aed0c4e0f39a55edb407f492e41f178a62907f). Underlying tenacity retries failed. Attempting outer retry 13/21. Retrying after 3.0 seconds...\n",
      "2025-04-29 10:11:48,923 - WARNING - Rate limit (429) hit (via RetryError) for get_paper_references (ID/Query/URL: a6aed0c4e0f39a55edb407f492e41f178a62907f). Underlying tenacity retries failed. Attempting outer retry 13/21. Retrying after 3.0 seconds...\n",
      "2025-04-29 10:11:48,928 - INFO - HTTP Request: GET https://api.semanticscholar.org/graph/v1/paper/cdb34c0092a767848ca1de6fa7e3a6b822585fa4/references?fields=contexts%2Cintents%2CcontextsWithIntent%2CisInfluential%2Cabstract%2Cauthors%2CcitationCount%2CcitationStyles%2CcorpusId%2CexternalIds%2CfieldsOfStudy%2CinfluentialCitationCount%2CisOpenAccess%2Cjournal%2CopenAccessPdf%2CpaperId%2CpublicationDate%2CpublicationTypes%2CpublicationVenue%2CreferenceCount%2Cs2FieldsOfStudy%2Ctitle%2Curl%2Cvenue%2Cyear&offset=0&limit=100 \"HTTP/1.1 429 \"\n",
      "2025-04-29 10:11:48,930 - SemanticScholarKit - WARNING - Rate limit (429) hit (via RetryError) for get_paper_references (ID/Query/URL: cdb34c0092a767848ca1de6fa7e3a6b822585fa4). Underlying tenacity retries failed. Attempting outer retry 13/21. Retrying after 3.0 seconds...\n",
      "2025-04-29 10:11:48,930 - WARNING - Rate limit (429) hit (via RetryError) for get_paper_references (ID/Query/URL: cdb34c0092a767848ca1de6fa7e3a6b822585fa4). Underlying tenacity retries failed. Attempting outer retry 13/21. Retrying after 3.0 seconds...\n",
      "2025-04-29 10:11:52,634 - INFO - HTTP Request: GET https://api.semanticscholar.org/graph/v1/paper/69b53faee7ce5c007e4d3e3ea532818ed8d0645d/references?fields=contexts%2Cintents%2CcontextsWithIntent%2CisInfluential%2Cabstract%2Cauthors%2CcitationCount%2CcitationStyles%2CcorpusId%2CexternalIds%2CfieldsOfStudy%2CinfluentialCitationCount%2CisOpenAccess%2Cjournal%2CopenAccessPdf%2CpaperId%2CpublicationDate%2CpublicationTypes%2CpublicationVenue%2CreferenceCount%2Cs2FieldsOfStudy%2Ctitle%2Curl%2Cvenue%2Cyear&offset=0&limit=100 \"HTTP/1.1 429 \"\n",
      "2025-04-29 10:11:52,637 - INFO - HTTP Request: GET https://api.semanticscholar.org/graph/v1/paper/cdb34c0092a767848ca1de6fa7e3a6b822585fa4/references?fields=contexts%2Cintents%2CcontextsWithIntent%2CisInfluential%2Cabstract%2Cauthors%2CcitationCount%2CcitationStyles%2CcorpusId%2CexternalIds%2CfieldsOfStudy%2CinfluentialCitationCount%2CisOpenAccess%2Cjournal%2CopenAccessPdf%2CpaperId%2CpublicationDate%2CpublicationTypes%2CpublicationVenue%2CreferenceCount%2Cs2FieldsOfStudy%2Ctitle%2Curl%2Cvenue%2Cyear&offset=0&limit=100 \"HTTP/1.1 429 \"\n",
      "2025-04-29 10:11:52,638 - SemanticScholarKit - WARNING - Rate limit (429) hit (via RetryError) for get_paper_references (ID/Query/URL: 69b53faee7ce5c007e4d3e3ea532818ed8d0645d). Underlying tenacity retries failed. Attempting outer retry 14/21. Retrying after 3.0 seconds...\n",
      "2025-04-29 10:11:52,638 - WARNING - Rate limit (429) hit (via RetryError) for get_paper_references (ID/Query/URL: 69b53faee7ce5c007e4d3e3ea532818ed8d0645d). Underlying tenacity retries failed. Attempting outer retry 14/21. Retrying after 3.0 seconds...\n",
      "2025-04-29 10:11:52,640 - SemanticScholarKit - WARNING - Rate limit (429) hit (via RetryError) for get_paper_references (ID/Query/URL: cdb34c0092a767848ca1de6fa7e3a6b822585fa4). Underlying tenacity retries failed. Attempting outer retry 14/21. Retrying after 3.0 seconds...\n",
      "2025-04-29 10:11:52,640 - WARNING - Rate limit (429) hit (via RetryError) for get_paper_references (ID/Query/URL: cdb34c0092a767848ca1de6fa7e3a6b822585fa4). Underlying tenacity retries failed. Attempting outer retry 14/21. Retrying after 3.0 seconds...\n",
      "2025-04-29 10:11:52,704 - INFO - HTTP Request: GET https://api.semanticscholar.org/graph/v1/paper/a6aed0c4e0f39a55edb407f492e41f178a62907f/references?fields=contexts%2Cintents%2CcontextsWithIntent%2CisInfluential%2Cabstract%2Cauthors%2CcitationCount%2CcitationStyles%2CcorpusId%2CexternalIds%2CfieldsOfStudy%2CinfluentialCitationCount%2CisOpenAccess%2Cjournal%2CopenAccessPdf%2CpaperId%2CpublicationDate%2CpublicationTypes%2CpublicationVenue%2CreferenceCount%2Cs2FieldsOfStudy%2Ctitle%2Curl%2Cvenue%2Cyear&offset=0&limit=100 \"HTTP/1.1 429 \"\n",
      "2025-04-29 10:11:52,706 - SemanticScholarKit - WARNING - Rate limit (429) hit (via RetryError) for get_paper_references (ID/Query/URL: a6aed0c4e0f39a55edb407f492e41f178a62907f). Underlying tenacity retries failed. Attempting outer retry 14/21. Retrying after 3.0 seconds...\n",
      "2025-04-29 10:11:52,706 - WARNING - Rate limit (429) hit (via RetryError) for get_paper_references (ID/Query/URL: a6aed0c4e0f39a55edb407f492e41f178a62907f). Underlying tenacity retries failed. Attempting outer retry 14/21. Retrying after 3.0 seconds...\n",
      "2025-04-29 10:11:56,370 - INFO - HTTP Request: GET https://api.semanticscholar.org/graph/v1/paper/cdb34c0092a767848ca1de6fa7e3a6b822585fa4/references?fields=contexts%2Cintents%2CcontextsWithIntent%2CisInfluential%2Cabstract%2Cauthors%2CcitationCount%2CcitationStyles%2CcorpusId%2CexternalIds%2CfieldsOfStudy%2CinfluentialCitationCount%2CisOpenAccess%2Cjournal%2CopenAccessPdf%2CpaperId%2CpublicationDate%2CpublicationTypes%2CpublicationVenue%2CreferenceCount%2Cs2FieldsOfStudy%2Ctitle%2Curl%2Cvenue%2Cyear&offset=0&limit=100 \"HTTP/1.1 429 \"\n",
      "2025-04-29 10:11:56,372 - SemanticScholarKit - WARNING - Rate limit (429) hit (via RetryError) for get_paper_references (ID/Query/URL: cdb34c0092a767848ca1de6fa7e3a6b822585fa4). Underlying tenacity retries failed. Attempting outer retry 15/21. Retrying after 3.0 seconds...\n",
      "2025-04-29 10:11:56,372 - WARNING - Rate limit (429) hit (via RetryError) for get_paper_references (ID/Query/URL: cdb34c0092a767848ca1de6fa7e3a6b822585fa4). Underlying tenacity retries failed. Attempting outer retry 15/21. Retrying after 3.0 seconds...\n",
      "2025-04-29 10:11:56,374 - INFO - HTTP Request: GET https://api.semanticscholar.org/graph/v1/paper/69b53faee7ce5c007e4d3e3ea532818ed8d0645d/references?fields=contexts%2Cintents%2CcontextsWithIntent%2CisInfluential%2Cabstract%2Cauthors%2CcitationCount%2CcitationStyles%2CcorpusId%2CexternalIds%2CfieldsOfStudy%2CinfluentialCitationCount%2CisOpenAccess%2Cjournal%2CopenAccessPdf%2CpaperId%2CpublicationDate%2CpublicationTypes%2CpublicationVenue%2CreferenceCount%2Cs2FieldsOfStudy%2Ctitle%2Curl%2Cvenue%2Cyear&offset=0&limit=100 \"HTTP/1.1 429 \"\n",
      "2025-04-29 10:11:56,376 - SemanticScholarKit - WARNING - Rate limit (429) hit (via RetryError) for get_paper_references (ID/Query/URL: 69b53faee7ce5c007e4d3e3ea532818ed8d0645d). Underlying tenacity retries failed. Attempting outer retry 15/21. Retrying after 3.0 seconds...\n",
      "2025-04-29 10:11:56,376 - WARNING - Rate limit (429) hit (via RetryError) for get_paper_references (ID/Query/URL: 69b53faee7ce5c007e4d3e3ea532818ed8d0645d). Underlying tenacity retries failed. Attempting outer retry 15/21. Retrying after 3.0 seconds...\n",
      "2025-04-29 10:11:56,378 - INFO - HTTP Request: GET https://api.semanticscholar.org/graph/v1/paper/a6aed0c4e0f39a55edb407f492e41f178a62907f/references?fields=contexts%2Cintents%2CcontextsWithIntent%2CisInfluential%2Cabstract%2Cauthors%2CcitationCount%2CcitationStyles%2CcorpusId%2CexternalIds%2CfieldsOfStudy%2CinfluentialCitationCount%2CisOpenAccess%2Cjournal%2CopenAccessPdf%2CpaperId%2CpublicationDate%2CpublicationTypes%2CpublicationVenue%2CreferenceCount%2Cs2FieldsOfStudy%2Ctitle%2Curl%2Cvenue%2Cyear&offset=0&limit=100 \"HTTP/1.1 429 \"\n",
      "2025-04-29 10:11:56,379 - SemanticScholarKit - WARNING - Rate limit (429) hit (via RetryError) for get_paper_references (ID/Query/URL: a6aed0c4e0f39a55edb407f492e41f178a62907f). Underlying tenacity retries failed. Attempting outer retry 15/21. Retrying after 3.0 seconds...\n",
      "2025-04-29 10:11:56,379 - WARNING - Rate limit (429) hit (via RetryError) for get_paper_references (ID/Query/URL: a6aed0c4e0f39a55edb407f492e41f178a62907f). Underlying tenacity retries failed. Attempting outer retry 15/21. Retrying after 3.0 seconds...\n",
      "2025-04-29 10:12:00,131 - INFO - HTTP Request: GET https://api.semanticscholar.org/graph/v1/paper/a6aed0c4e0f39a55edb407f492e41f178a62907f/references?fields=contexts%2Cintents%2CcontextsWithIntent%2CisInfluential%2Cabstract%2Cauthors%2CcitationCount%2CcitationStyles%2CcorpusId%2CexternalIds%2CfieldsOfStudy%2CinfluentialCitationCount%2CisOpenAccess%2Cjournal%2CopenAccessPdf%2CpaperId%2CpublicationDate%2CpublicationTypes%2CpublicationVenue%2CreferenceCount%2Cs2FieldsOfStudy%2Ctitle%2Curl%2Cvenue%2Cyear&offset=0&limit=100 \"HTTP/1.1 429 \"\n",
      "2025-04-29 10:12:00,135 - SemanticScholarKit - WARNING - Rate limit (429) hit (via RetryError) for get_paper_references (ID/Query/URL: a6aed0c4e0f39a55edb407f492e41f178a62907f). Underlying tenacity retries failed. Attempting outer retry 16/21. Retrying after 3.0 seconds...\n",
      "2025-04-29 10:12:00,135 - WARNING - Rate limit (429) hit (via RetryError) for get_paper_references (ID/Query/URL: a6aed0c4e0f39a55edb407f492e41f178a62907f). Underlying tenacity retries failed. Attempting outer retry 16/21. Retrying after 3.0 seconds...\n",
      "2025-04-29 10:12:00,138 - INFO - HTTP Request: GET https://api.semanticscholar.org/graph/v1/paper/69b53faee7ce5c007e4d3e3ea532818ed8d0645d/references?fields=contexts%2Cintents%2CcontextsWithIntent%2CisInfluential%2Cabstract%2Cauthors%2CcitationCount%2CcitationStyles%2CcorpusId%2CexternalIds%2CfieldsOfStudy%2CinfluentialCitationCount%2CisOpenAccess%2Cjournal%2CopenAccessPdf%2CpaperId%2CpublicationDate%2CpublicationTypes%2CpublicationVenue%2CreferenceCount%2Cs2FieldsOfStudy%2Ctitle%2Curl%2Cvenue%2Cyear&offset=0&limit=100 \"HTTP/1.1 429 \"\n",
      "2025-04-29 10:12:00,141 - SemanticScholarKit - WARNING - Rate limit (429) hit (via RetryError) for get_paper_references (ID/Query/URL: 69b53faee7ce5c007e4d3e3ea532818ed8d0645d). Underlying tenacity retries failed. Attempting outer retry 16/21. Retrying after 3.0 seconds...\n",
      "2025-04-29 10:12:00,141 - WARNING - Rate limit (429) hit (via RetryError) for get_paper_references (ID/Query/URL: 69b53faee7ce5c007e4d3e3ea532818ed8d0645d). Underlying tenacity retries failed. Attempting outer retry 16/21. Retrying after 3.0 seconds...\n",
      "2025-04-29 10:12:00,184 - INFO - HTTP Request: GET https://api.semanticscholar.org/graph/v1/paper/cdb34c0092a767848ca1de6fa7e3a6b822585fa4/references?fields=contexts%2Cintents%2CcontextsWithIntent%2CisInfluential%2Cabstract%2Cauthors%2CcitationCount%2CcitationStyles%2CcorpusId%2CexternalIds%2CfieldsOfStudy%2CinfluentialCitationCount%2CisOpenAccess%2Cjournal%2CopenAccessPdf%2CpaperId%2CpublicationDate%2CpublicationTypes%2CpublicationVenue%2CreferenceCount%2Cs2FieldsOfStudy%2Ctitle%2Curl%2Cvenue%2Cyear&offset=0&limit=100 \"HTTP/1.1 429 \"\n",
      "2025-04-29 10:12:00,186 - SemanticScholarKit - WARNING - Rate limit (429) hit (via RetryError) for get_paper_references (ID/Query/URL: cdb34c0092a767848ca1de6fa7e3a6b822585fa4). Underlying tenacity retries failed. Attempting outer retry 16/21. Retrying after 3.0 seconds...\n",
      "2025-04-29 10:12:00,186 - WARNING - Rate limit (429) hit (via RetryError) for get_paper_references (ID/Query/URL: cdb34c0092a767848ca1de6fa7e3a6b822585fa4). Underlying tenacity retries failed. Attempting outer retry 16/21. Retrying after 3.0 seconds...\n",
      "2025-04-29 10:12:03,765 - INFO - HTTP Request: GET https://api.semanticscholar.org/graph/v1/paper/a6aed0c4e0f39a55edb407f492e41f178a62907f/references?fields=contexts%2Cintents%2CcontextsWithIntent%2CisInfluential%2Cabstract%2Cauthors%2CcitationCount%2CcitationStyles%2CcorpusId%2CexternalIds%2CfieldsOfStudy%2CinfluentialCitationCount%2CisOpenAccess%2Cjournal%2CopenAccessPdf%2CpaperId%2CpublicationDate%2CpublicationTypes%2CpublicationVenue%2CreferenceCount%2Cs2FieldsOfStudy%2Ctitle%2Curl%2Cvenue%2Cyear&offset=0&limit=100 \"HTTP/1.1 429 \"\n",
      "2025-04-29 10:12:03,767 - SemanticScholarKit - WARNING - Rate limit (429) hit (via RetryError) for get_paper_references (ID/Query/URL: a6aed0c4e0f39a55edb407f492e41f178a62907f). Underlying tenacity retries failed. Attempting outer retry 17/21. Retrying after 3.0 seconds...\n",
      "2025-04-29 10:12:03,767 - WARNING - Rate limit (429) hit (via RetryError) for get_paper_references (ID/Query/URL: a6aed0c4e0f39a55edb407f492e41f178a62907f). Underlying tenacity retries failed. Attempting outer retry 17/21. Retrying after 3.0 seconds...\n",
      "2025-04-29 10:12:03,770 - INFO - HTTP Request: GET https://api.semanticscholar.org/graph/v1/paper/cdb34c0092a767848ca1de6fa7e3a6b822585fa4/references?fields=contexts%2Cintents%2CcontextsWithIntent%2CisInfluential%2Cabstract%2Cauthors%2CcitationCount%2CcitationStyles%2CcorpusId%2CexternalIds%2CfieldsOfStudy%2CinfluentialCitationCount%2CisOpenAccess%2Cjournal%2CopenAccessPdf%2CpaperId%2CpublicationDate%2CpublicationTypes%2CpublicationVenue%2CreferenceCount%2Cs2FieldsOfStudy%2Ctitle%2Curl%2Cvenue%2Cyear&offset=0&limit=100 \"HTTP/1.1 429 \"\n",
      "2025-04-29 10:12:03,772 - SemanticScholarKit - WARNING - Rate limit (429) hit (via RetryError) for get_paper_references (ID/Query/URL: cdb34c0092a767848ca1de6fa7e3a6b822585fa4). Underlying tenacity retries failed. Attempting outer retry 17/21. Retrying after 3.0 seconds...\n",
      "2025-04-29 10:12:03,772 - WARNING - Rate limit (429) hit (via RetryError) for get_paper_references (ID/Query/URL: cdb34c0092a767848ca1de6fa7e3a6b822585fa4). Underlying tenacity retries failed. Attempting outer retry 17/21. Retrying after 3.0 seconds...\n",
      "2025-04-29 10:12:03,847 - INFO - HTTP Request: GET https://api.semanticscholar.org/graph/v1/paper/69b53faee7ce5c007e4d3e3ea532818ed8d0645d/references?fields=contexts%2Cintents%2CcontextsWithIntent%2CisInfluential%2Cabstract%2Cauthors%2CcitationCount%2CcitationStyles%2CcorpusId%2CexternalIds%2CfieldsOfStudy%2CinfluentialCitationCount%2CisOpenAccess%2Cjournal%2CopenAccessPdf%2CpaperId%2CpublicationDate%2CpublicationTypes%2CpublicationVenue%2CreferenceCount%2Cs2FieldsOfStudy%2Ctitle%2Curl%2Cvenue%2Cyear&offset=0&limit=100 \"HTTP/1.1 429 \"\n",
      "2025-04-29 10:12:03,849 - SemanticScholarKit - WARNING - Rate limit (429) hit (via RetryError) for get_paper_references (ID/Query/URL: 69b53faee7ce5c007e4d3e3ea532818ed8d0645d). Underlying tenacity retries failed. Attempting outer retry 17/21. Retrying after 3.0 seconds...\n",
      "2025-04-29 10:12:03,849 - WARNING - Rate limit (429) hit (via RetryError) for get_paper_references (ID/Query/URL: 69b53faee7ce5c007e4d3e3ea532818ed8d0645d). Underlying tenacity retries failed. Attempting outer retry 17/21. Retrying after 3.0 seconds...\n",
      "2025-04-29 10:12:07,445 - INFO - HTTP Request: GET https://api.semanticscholar.org/graph/v1/paper/69b53faee7ce5c007e4d3e3ea532818ed8d0645d/references?fields=contexts%2Cintents%2CcontextsWithIntent%2CisInfluential%2Cabstract%2Cauthors%2CcitationCount%2CcitationStyles%2CcorpusId%2CexternalIds%2CfieldsOfStudy%2CinfluentialCitationCount%2CisOpenAccess%2Cjournal%2CopenAccessPdf%2CpaperId%2CpublicationDate%2CpublicationTypes%2CpublicationVenue%2CreferenceCount%2Cs2FieldsOfStudy%2Ctitle%2Curl%2Cvenue%2Cyear&offset=0&limit=100 \"HTTP/1.1 429 \"\n",
      "2025-04-29 10:12:07,447 - SemanticScholarKit - WARNING - Rate limit (429) hit (via RetryError) for get_paper_references (ID/Query/URL: 69b53faee7ce5c007e4d3e3ea532818ed8d0645d). Underlying tenacity retries failed. Attempting outer retry 18/21. Retrying after 3.0 seconds...\n",
      "2025-04-29 10:12:07,447 - WARNING - Rate limit (429) hit (via RetryError) for get_paper_references (ID/Query/URL: 69b53faee7ce5c007e4d3e3ea532818ed8d0645d). Underlying tenacity retries failed. Attempting outer retry 18/21. Retrying after 3.0 seconds...\n",
      "2025-04-29 10:12:07,467 - INFO - HTTP Request: GET https://api.semanticscholar.org/graph/v1/paper/cdb34c0092a767848ca1de6fa7e3a6b822585fa4/references?fields=contexts%2Cintents%2CcontextsWithIntent%2CisInfluential%2Cabstract%2Cauthors%2CcitationCount%2CcitationStyles%2CcorpusId%2CexternalIds%2CfieldsOfStudy%2CinfluentialCitationCount%2CisOpenAccess%2Cjournal%2CopenAccessPdf%2CpaperId%2CpublicationDate%2CpublicationTypes%2CpublicationVenue%2CreferenceCount%2Cs2FieldsOfStudy%2Ctitle%2Curl%2Cvenue%2Cyear&offset=0&limit=100 \"HTTP/1.1 429 \"\n",
      "2025-04-29 10:12:07,470 - SemanticScholarKit - WARNING - Rate limit (429) hit (via RetryError) for get_paper_references (ID/Query/URL: cdb34c0092a767848ca1de6fa7e3a6b822585fa4). Underlying tenacity retries failed. Attempting outer retry 18/21. Retrying after 3.0 seconds...\n",
      "2025-04-29 10:12:07,470 - WARNING - Rate limit (429) hit (via RetryError) for get_paper_references (ID/Query/URL: cdb34c0092a767848ca1de6fa7e3a6b822585fa4). Underlying tenacity retries failed. Attempting outer retry 18/21. Retrying after 3.0 seconds...\n",
      "2025-04-29 10:12:07,472 - INFO - HTTP Request: GET https://api.semanticscholar.org/graph/v1/paper/a6aed0c4e0f39a55edb407f492e41f178a62907f/references?fields=contexts%2Cintents%2CcontextsWithIntent%2CisInfluential%2Cabstract%2Cauthors%2CcitationCount%2CcitationStyles%2CcorpusId%2CexternalIds%2CfieldsOfStudy%2CinfluentialCitationCount%2CisOpenAccess%2Cjournal%2CopenAccessPdf%2CpaperId%2CpublicationDate%2CpublicationTypes%2CpublicationVenue%2CreferenceCount%2Cs2FieldsOfStudy%2Ctitle%2Curl%2Cvenue%2Cyear&offset=0&limit=100 \"HTTP/1.1 429 \"\n",
      "2025-04-29 10:12:07,473 - SemanticScholarKit - WARNING - Rate limit (429) hit (via RetryError) for get_paper_references (ID/Query/URL: a6aed0c4e0f39a55edb407f492e41f178a62907f). Underlying tenacity retries failed. Attempting outer retry 18/21. Retrying after 3.0 seconds...\n",
      "2025-04-29 10:12:07,473 - WARNING - Rate limit (429) hit (via RetryError) for get_paper_references (ID/Query/URL: a6aed0c4e0f39a55edb407f492e41f178a62907f). Underlying tenacity retries failed. Attempting outer retry 18/21. Retrying after 3.0 seconds...\n",
      "2025-04-29 10:12:11,159 - INFO - HTTP Request: GET https://api.semanticscholar.org/graph/v1/paper/a6aed0c4e0f39a55edb407f492e41f178a62907f/references?fields=contexts%2Cintents%2CcontextsWithIntent%2CisInfluential%2Cabstract%2Cauthors%2CcitationCount%2CcitationStyles%2CcorpusId%2CexternalIds%2CfieldsOfStudy%2CinfluentialCitationCount%2CisOpenAccess%2Cjournal%2CopenAccessPdf%2CpaperId%2CpublicationDate%2CpublicationTypes%2CpublicationVenue%2CreferenceCount%2Cs2FieldsOfStudy%2Ctitle%2Curl%2Cvenue%2Cyear&offset=0&limit=100 \"HTTP/1.1 429 \"\n",
      "2025-04-29 10:12:11,164 - SemanticScholarKit - WARNING - Rate limit (429) hit (via RetryError) for get_paper_references (ID/Query/URL: a6aed0c4e0f39a55edb407f492e41f178a62907f). Underlying tenacity retries failed. Attempting outer retry 19/21. Retrying after 3.0 seconds...\n",
      "2025-04-29 10:12:11,164 - WARNING - Rate limit (429) hit (via RetryError) for get_paper_references (ID/Query/URL: a6aed0c4e0f39a55edb407f492e41f178a62907f). Underlying tenacity retries failed. Attempting outer retry 19/21. Retrying after 3.0 seconds...\n",
      "2025-04-29 10:12:11,207 - INFO - HTTP Request: GET https://api.semanticscholar.org/graph/v1/paper/69b53faee7ce5c007e4d3e3ea532818ed8d0645d/references?fields=contexts%2Cintents%2CcontextsWithIntent%2CisInfluential%2Cabstract%2Cauthors%2CcitationCount%2CcitationStyles%2CcorpusId%2CexternalIds%2CfieldsOfStudy%2CinfluentialCitationCount%2CisOpenAccess%2Cjournal%2CopenAccessPdf%2CpaperId%2CpublicationDate%2CpublicationTypes%2CpublicationVenue%2CreferenceCount%2Cs2FieldsOfStudy%2Ctitle%2Curl%2Cvenue%2Cyear&offset=0&limit=100 \"HTTP/1.1 429 \"\n",
      "2025-04-29 10:12:11,209 - SemanticScholarKit - WARNING - Rate limit (429) hit (via RetryError) for get_paper_references (ID/Query/URL: 69b53faee7ce5c007e4d3e3ea532818ed8d0645d). Underlying tenacity retries failed. Attempting outer retry 19/21. Retrying after 3.0 seconds...\n",
      "2025-04-29 10:12:11,209 - WARNING - Rate limit (429) hit (via RetryError) for get_paper_references (ID/Query/URL: 69b53faee7ce5c007e4d3e3ea532818ed8d0645d). Underlying tenacity retries failed. Attempting outer retry 19/21. Retrying after 3.0 seconds...\n",
      "2025-04-29 10:12:11,378 - INFO - HTTP Request: GET https://api.semanticscholar.org/graph/v1/paper/cdb34c0092a767848ca1de6fa7e3a6b822585fa4/references?fields=contexts%2Cintents%2CcontextsWithIntent%2CisInfluential%2Cabstract%2Cauthors%2CcitationCount%2CcitationStyles%2CcorpusId%2CexternalIds%2CfieldsOfStudy%2CinfluentialCitationCount%2CisOpenAccess%2Cjournal%2CopenAccessPdf%2CpaperId%2CpublicationDate%2CpublicationTypes%2CpublicationVenue%2CreferenceCount%2Cs2FieldsOfStudy%2Ctitle%2Curl%2Cvenue%2Cyear&offset=0&limit=100 \"HTTP/1.1 429 \"\n",
      "2025-04-29 10:12:11,382 - SemanticScholarKit - WARNING - Rate limit (429) hit (via RetryError) for get_paper_references (ID/Query/URL: cdb34c0092a767848ca1de6fa7e3a6b822585fa4). Underlying tenacity retries failed. Attempting outer retry 19/21. Retrying after 3.0 seconds...\n",
      "2025-04-29 10:12:11,382 - WARNING - Rate limit (429) hit (via RetryError) for get_paper_references (ID/Query/URL: cdb34c0092a767848ca1de6fa7e3a6b822585fa4). Underlying tenacity retries failed. Attempting outer retry 19/21. Retrying after 3.0 seconds...\n",
      "2025-04-29 10:12:14,843 - INFO - HTTP Request: GET https://api.semanticscholar.org/graph/v1/paper/a6aed0c4e0f39a55edb407f492e41f178a62907f/references?fields=contexts%2Cintents%2CcontextsWithIntent%2CisInfluential%2Cabstract%2Cauthors%2CcitationCount%2CcitationStyles%2CcorpusId%2CexternalIds%2CfieldsOfStudy%2CinfluentialCitationCount%2CisOpenAccess%2Cjournal%2CopenAccessPdf%2CpaperId%2CpublicationDate%2CpublicationTypes%2CpublicationVenue%2CreferenceCount%2Cs2FieldsOfStudy%2Ctitle%2Curl%2Cvenue%2Cyear&offset=0&limit=100 \"HTTP/1.1 429 \"\n",
      "2025-04-29 10:12:14,845 - SemanticScholarKit - WARNING - Rate limit (429) hit (via RetryError) for get_paper_references (ID/Query/URL: a6aed0c4e0f39a55edb407f492e41f178a62907f). Underlying tenacity retries failed. Attempting outer retry 20/21. Retrying after 3.0 seconds...\n",
      "2025-04-29 10:12:14,845 - WARNING - Rate limit (429) hit (via RetryError) for get_paper_references (ID/Query/URL: a6aed0c4e0f39a55edb407f492e41f178a62907f). Underlying tenacity retries failed. Attempting outer retry 20/21. Retrying after 3.0 seconds...\n",
      "2025-04-29 10:12:14,848 - INFO - HTTP Request: GET https://api.semanticscholar.org/graph/v1/paper/69b53faee7ce5c007e4d3e3ea532818ed8d0645d/references?fields=contexts%2Cintents%2CcontextsWithIntent%2CisInfluential%2Cabstract%2Cauthors%2CcitationCount%2CcitationStyles%2CcorpusId%2CexternalIds%2CfieldsOfStudy%2CinfluentialCitationCount%2CisOpenAccess%2Cjournal%2CopenAccessPdf%2CpaperId%2CpublicationDate%2CpublicationTypes%2CpublicationVenue%2CreferenceCount%2Cs2FieldsOfStudy%2Ctitle%2Curl%2Cvenue%2Cyear&offset=0&limit=100 \"HTTP/1.1 429 \"\n",
      "2025-04-29 10:12:14,850 - SemanticScholarKit - WARNING - Rate limit (429) hit (via RetryError) for get_paper_references (ID/Query/URL: 69b53faee7ce5c007e4d3e3ea532818ed8d0645d). Underlying tenacity retries failed. Attempting outer retry 20/21. Retrying after 3.0 seconds...\n",
      "2025-04-29 10:12:14,850 - WARNING - Rate limit (429) hit (via RetryError) for get_paper_references (ID/Query/URL: 69b53faee7ce5c007e4d3e3ea532818ed8d0645d). Underlying tenacity retries failed. Attempting outer retry 20/21. Retrying after 3.0 seconds...\n",
      "2025-04-29 10:12:15,046 - INFO - HTTP Request: GET https://api.semanticscholar.org/graph/v1/paper/cdb34c0092a767848ca1de6fa7e3a6b822585fa4/references?fields=contexts%2Cintents%2CcontextsWithIntent%2CisInfluential%2Cabstract%2Cauthors%2CcitationCount%2CcitationStyles%2CcorpusId%2CexternalIds%2CfieldsOfStudy%2CinfluentialCitationCount%2CisOpenAccess%2Cjournal%2CopenAccessPdf%2CpaperId%2CpublicationDate%2CpublicationTypes%2CpublicationVenue%2CreferenceCount%2Cs2FieldsOfStudy%2Ctitle%2Curl%2Cvenue%2Cyear&offset=0&limit=100 \"HTTP/1.1 429 \"\n",
      "2025-04-29 10:12:15,050 - SemanticScholarKit - WARNING - Rate limit (429) hit (via RetryError) for get_paper_references (ID/Query/URL: cdb34c0092a767848ca1de6fa7e3a6b822585fa4). Underlying tenacity retries failed. Attempting outer retry 20/21. Retrying after 3.0 seconds...\n",
      "2025-04-29 10:12:15,050 - WARNING - Rate limit (429) hit (via RetryError) for get_paper_references (ID/Query/URL: cdb34c0092a767848ca1de6fa7e3a6b822585fa4). Underlying tenacity retries failed. Attempting outer retry 20/21. Retrying after 3.0 seconds...\n",
      "2025-04-29 10:12:18,515 - INFO - HTTP Request: GET https://api.semanticscholar.org/graph/v1/paper/a6aed0c4e0f39a55edb407f492e41f178a62907f/references?fields=contexts%2Cintents%2CcontextsWithIntent%2CisInfluential%2Cabstract%2Cauthors%2CcitationCount%2CcitationStyles%2CcorpusId%2CexternalIds%2CfieldsOfStudy%2CinfluentialCitationCount%2CisOpenAccess%2Cjournal%2CopenAccessPdf%2CpaperId%2CpublicationDate%2CpublicationTypes%2CpublicationVenue%2CreferenceCount%2Cs2FieldsOfStudy%2Ctitle%2Curl%2Cvenue%2Cyear&offset=0&limit=100 \"HTTP/1.1 429 \"\n",
      "2025-04-29 10:12:18,518 - SemanticScholarKit - ERROR - Rate limit (429) hit (via RetryError) for get_paper_references (ID/Query/URL: a6aed0c4e0f39a55edb407f492e41f178a62907f). Max outer retries (20) exceeded after underlying tenacity retries failed.\n",
      "2025-04-29 10:12:18,518 - ERROR - Rate limit (429) hit (via RetryError) for get_paper_references (ID/Query/URL: a6aed0c4e0f39a55edb407f492e41f178a62907f). Max outer retries (20) exceeded after underlying tenacity retries failed.\n",
      "2025-04-29 10:12:18,580 - INFO - HTTP Request: GET https://api.semanticscholar.org/graph/v1/paper/69b53faee7ce5c007e4d3e3ea532818ed8d0645d/references?fields=contexts%2Cintents%2CcontextsWithIntent%2CisInfluential%2Cabstract%2Cauthors%2CcitationCount%2CcitationStyles%2CcorpusId%2CexternalIds%2CfieldsOfStudy%2CinfluentialCitationCount%2CisOpenAccess%2Cjournal%2CopenAccessPdf%2CpaperId%2CpublicationDate%2CpublicationTypes%2CpublicationVenue%2CreferenceCount%2Cs2FieldsOfStudy%2Ctitle%2Curl%2Cvenue%2Cyear&offset=0&limit=100 \"HTTP/1.1 429 \"\n",
      "2025-04-29 10:12:18,583 - SemanticScholarKit - ERROR - Rate limit (429) hit (via RetryError) for get_paper_references (ID/Query/URL: 69b53faee7ce5c007e4d3e3ea532818ed8d0645d). Max outer retries (20) exceeded after underlying tenacity retries failed.\n",
      "2025-04-29 10:12:18,583 - ERROR - Rate limit (429) hit (via RetryError) for get_paper_references (ID/Query/URL: 69b53faee7ce5c007e4d3e3ea532818ed8d0645d). Max outer retries (20) exceeded after underlying tenacity retries failed.\n",
      "2025-04-29 10:12:18,705 - INFO - HTTP Request: GET https://api.semanticscholar.org/graph/v1/paper/cdb34c0092a767848ca1de6fa7e3a6b822585fa4/references?fields=contexts%2Cintents%2CcontextsWithIntent%2CisInfluential%2Cabstract%2Cauthors%2CcitationCount%2CcitationStyles%2CcorpusId%2CexternalIds%2CfieldsOfStudy%2CinfluentialCitationCount%2CisOpenAccess%2Cjournal%2CopenAccessPdf%2CpaperId%2CpublicationDate%2CpublicationTypes%2CpublicationVenue%2CreferenceCount%2Cs2FieldsOfStudy%2Ctitle%2Curl%2Cvenue%2Cyear&offset=0&limit=100 \"HTTP/1.1 429 \"\n",
      "2025-04-29 10:12:18,707 - SemanticScholarKit - ERROR - Rate limit (429) hit (via RetryError) for get_paper_references (ID/Query/URL: cdb34c0092a767848ca1de6fa7e3a6b822585fa4). Max outer retries (20) exceeded after underlying tenacity retries failed.\n",
      "2025-04-29 10:12:18,707 - ERROR - Rate limit (429) hit (via RetryError) for get_paper_references (ID/Query/URL: cdb34c0092a767848ca1de6fa7e3a6b822585fa4). Max outer retries (20) exceeded after underlying tenacity retries failed.\n",
      "2025-04-29 10:12:18,709 - ERROR - reference_search: Task for paper '69b53faee7ce5c007e4d3e3ea532818ed8d0645d' failed: RetryError[<Future at 0x1684c5360 state=finished raised ConnectionRefusedError>]\n",
      "2025-04-29 10:12:18,709 - ERROR - reference_search: Task for paper 'cdb34c0092a767848ca1de6fa7e3a6b822585fa4' failed: RetryError[<Future at 0x14eb7b6a0 state=finished raised ConnectionRefusedError>]\n",
      "2025-04-29 10:12:18,710 - ERROR - reference_search: Task for paper 'a6aed0c4e0f39a55edb407f492e41f178a62907f' failed: RetryError[<Future at 0x168128700 state=finished raised ConnectionRefusedError>]\n",
      "2025-04-29 10:12:18,710 - INFO - reference_search: Retrieving reference for paper '9e57dda195973c4b6c81386b1cc44595ecfd4697'\n",
      "2025-04-29 10:12:18,711 - INFO - reference_search: Retrieving reference for paper '9f3ae8055e227edb413c54417c9c216f1f554f52'\n",
      "2025-04-29 10:12:18,712 - INFO - reference_search: Added 107 new unique referenced papers and 107 reference relationships.\n",
      "2025-04-29 10:12:18,713 - SemanticScholarKit - INFO - consolidated_search: Sub-tasks finished.\n",
      "2025-04-29 10:12:18,713 - INFO - consolidated_search: Sub-tasks finished.\n",
      "2025-04-29 10:12:18,713 - SemanticScholarKit - INFO - consolidated_search: Finished.\n",
      "2025-04-29 10:12:18,713 - INFO - consolidated_search: Finished.\n"
     ]
    }
   ],
   "source": [
    "await ps.consolidated_search(\n",
    "    topics = topics,\n",
    "    paper_titles = None,\n",
    "    paper_ids = None,\n",
    "    author_ids = author_ids,\n",
    "    author_paper_ids = None,\n",
    "    ref_paper_ids = ref_ids,\n",
    "    cit_paper_ids = cit_ids,\n",
    "    pos_paper_ids = pos_paper_ids,\n",
    "    neg_paper_ids = neg_paper_ids,\n",
    "    author_limit = 10,\n",
    "    search_limit = ps.search_limit,\n",
    "    citation_limit = ps.citation_limit,\n",
    "    recommend_limit = ps.recommend_limit,\n",
    "    from_dt = ps.from_dt,\n",
    "    to_dt = ps.to_dt,\n",
    "    fields_of_study = ps.fields_of_study\n",
    ")"
   ]
  },
  {
   "cell_type": "markdown",
   "id": "a55d4636",
   "metadata": {},
   "source": [
    "Paper Post-progress"
   ]
  },
  {
   "cell_type": "code",
   "execution_count": 18,
   "id": "ac2cd4e9",
   "metadata": {},
   "outputs": [
    {
     "name": "stderr",
     "output_type": "stream",
     "text": [
      "2025-04-29 10:23:30,224 - SemanticScholarKit - INFO - post_process: Starting data processing...\n",
      "2025-04-29 10:23:30,224 - INFO - post_process: Starting data processing...\n",
      "2025-04-29 10:23:30,226 - SemanticScholarKit - INFO - Processing 1862 raw paper entries...\n",
      "2025-04-29 10:23:30,226 - INFO - Processing 1862 raw paper entries...\n",
      "2025-04-29 10:23:30,293 - SemanticScholarKit - INFO - Generated 18884 nodes/edges from papers.\n",
      "2025-04-29 10:23:30,293 - INFO - Generated 18884 nodes/edges from papers.\n",
      "2025-04-29 10:23:30,296 - SemanticScholarKit - INFO - Found 1150 paper nodes missing abstracts. Attempting to supplement...\n",
      "2025-04-29 10:23:30,296 - INFO - Found 1150 paper nodes missing abstracts. Attempting to supplement...\n",
      "2025-04-29 10:23:30,297 - SemanticScholarKit - INFO - supplement_abstract: Fetching abstracts for 1150 papers...\n",
      "2025-04-29 10:23:30,297 - INFO - supplement_abstract: Fetching abstracts for 1150 papers...\n",
      "2025-04-29 10:23:30,297 - SemanticScholarKit - INFO - get_papers: Creating 12 tasks for 12 IDs.\n",
      "2025-04-29 10:23:30,297 - INFO - get_papers: Creating 12 tasks for 12 IDs.\n",
      "2025-04-29 10:23:30,298 - SemanticScholarKit - INFO - get_papers: Gathering 12 tasks...\n",
      "2025-04-29 10:23:30,298 - INFO - get_papers: Gathering 12 tasks...\n",
      "2025-04-29 10:23:31,813 - INFO - HTTP Request: POST https://api.semanticscholar.org/graph/v1/paper/batch?fields=paperId%2Cabstract \"HTTP/1.1 200 OK\"\n",
      "2025-04-29 10:23:31,815 - INFO - HTTP Request: POST https://api.semanticscholar.org/graph/v1/paper/batch?fields=paperId%2Cabstract \"HTTP/1.1 200 OK\"\n",
      "2025-04-29 10:23:31,817 - INFO - HTTP Request: POST https://api.semanticscholar.org/graph/v1/paper/batch?fields=paperId%2Cabstract \"HTTP/1.1 200 OK\"\n",
      "2025-04-29 10:23:31,820 - INFO - HTTP Request: POST https://api.semanticscholar.org/graph/v1/paper/batch?fields=paperId%2Cabstract \"HTTP/1.1 200 OK\"\n",
      "2025-04-29 10:23:31,843 - INFO - HTTP Request: POST https://api.semanticscholar.org/graph/v1/paper/batch?fields=paperId%2Cabstract \"HTTP/1.1 200 OK\"\n",
      "2025-04-29 10:23:31,859 - INFO - HTTP Request: POST https://api.semanticscholar.org/graph/v1/paper/batch?fields=paperId%2Cabstract \"HTTP/1.1 200 OK\"\n",
      "2025-04-29 10:23:31,862 - INFO - HTTP Request: POST https://api.semanticscholar.org/graph/v1/paper/batch?fields=paperId%2Cabstract \"HTTP/1.1 200 OK\"\n",
      "2025-04-29 10:23:31,866 - INFO - HTTP Request: POST https://api.semanticscholar.org/graph/v1/paper/batch?fields=paperId%2Cabstract \"HTTP/1.1 200 OK\"\n",
      "2025-04-29 10:23:31,902 - INFO - HTTP Request: POST https://api.semanticscholar.org/graph/v1/paper/batch?fields=paperId%2Cabstract \"HTTP/1.1 200 OK\"\n",
      "2025-04-29 10:23:31,911 - INFO - HTTP Request: POST https://api.semanticscholar.org/graph/v1/paper/batch?fields=paperId%2Cabstract \"HTTP/1.1 200 OK\"\n",
      "2025-04-29 10:23:31,916 - INFO - HTTP Request: POST https://api.semanticscholar.org/graph/v1/paper/batch?fields=paperId%2Cabstract \"HTTP/1.1 200 OK\"\n",
      "2025-04-29 10:23:32,454 - INFO - HTTP Request: POST https://api.semanticscholar.org/graph/v1/paper/batch?fields=paperId%2Cabstract \"HTTP/1.1 200 OK\"\n",
      "2025-04-29 10:23:32,991 - SemanticScholarKit - INFO - get_papers: Gather complete. Processing results.\n",
      "2025-04-29 10:23:32,991 - INFO - get_papers: Gather complete. Processing results.\n",
      "2025-04-29 10:23:32,993 - SemanticScholarKit - INFO - supplement_abstract: Found abstracts for 838/1150 papers.\n",
      "2025-04-29 10:23:32,993 - INFO - supplement_abstract: Found abstracts for 838/1150 papers.\n",
      "2025-04-29 10:23:32,995 - SemanticScholarKit - INFO - Successfully supplemented abstracts for 838 papers.\n",
      "2025-04-29 10:23:32,995 - INFO - Successfully supplemented abstracts for 838 papers.\n",
      "2025-04-29 10:23:32,997 - SemanticScholarKit - INFO - Total items after paper processing: 18884\n",
      "2025-04-29 10:23:32,997 - INFO - Total items after paper processing: 18884\n",
      "2025-04-29 10:23:32,999 - SemanticScholarKit - INFO - Processing 33 raw author entries...\n",
      "2025-04-29 10:23:32,999 - INFO - Processing 33 raw author entries...\n",
      "2025-04-29 10:23:33,000 - SemanticScholarKit - INFO - Generated 43 nodes/edges from authors. Total items: 18927\n",
      "2025-04-29 10:23:33,000 - INFO - Generated 43 nodes/edges from authors. Total items: 18927\n",
      "2025-04-29 10:23:33,001 - SemanticScholarKit - INFO - Processing 420 raw topic link entries...\n",
      "2025-04-29 10:23:33,001 - INFO - Processing 420 raw topic link entries...\n",
      "2025-04-29 10:23:33,004 - SemanticScholarKit - INFO - Generated 423 nodes/edges from topics. Total items: 19350\n",
      "2025-04-29 10:23:33,004 - INFO - Generated 423 nodes/edges from topics. Total items: 19350\n",
      "2025-04-29 10:23:33,005 - SemanticScholarKit - INFO - Processing 180 raw citation entries (107 refs, 73 citings)...\n",
      "2025-04-29 10:23:33,005 - INFO - Processing 180 raw citation entries (107 refs, 73 citings)...\n",
      "2025-04-29 10:23:33,007 - SemanticScholarKit - INFO - Generated 178 citation relationships. Total items: 19528\n",
      "2025-04-29 10:23:33,007 - INFO - Generated 178 citation relationships. Total items: 19528\n"
     ]
    }
   ],
   "source": [
    "await ps.post_process(if_supplement_abstract=True)"
   ]
  },
  {
   "cell_type": "code",
   "execution_count": null,
   "id": "c576144f",
   "metadata": {},
   "outputs": [],
   "source": [
    "print(len(ps.data_pool['paper']), len(ps.data_pool['author']))"
   ]
  },
  {
   "cell_type": "code",
   "execution_count": 23,
   "id": "f329f73b",
   "metadata": {},
   "outputs": [],
   "source": [
    "# generate paper graph from nodes / edges json\n",
    "G_pre = PaperGraph(name='Paper Graph 1')\n",
    "G_pre.add_graph_nodes(ps.nodes_json)\n",
    "G_pre.add_graph_edges(ps.edges_json)"
   ]
  },
  {
   "cell_type": "code",
   "execution_count": 31,
   "id": "7e95db7c",
   "metadata": {},
   "outputs": [
    {
     "data": {
      "text/plain": [
       "array([1, 2])"
      ]
     },
     "execution_count": 31,
     "metadata": {},
     "output_type": "execute_result"
    }
   ],
   "source": [
    "import numpy as np\n",
    "np.array(list({'a':1, 'b':2}.values()))"
   ]
  },
  {
   "cell_type": "code",
   "execution_count": 28,
   "id": "6d2c8a52",
   "metadata": {},
   "outputs": [
    {
     "data": {
      "text/plain": [
       "{'authorId': '2335569348',\n",
       " 'name': 'Narimasa Watanabe',\n",
       " 'nodeType': 'Author',\n",
       " 'externalIds': {'DBLP': ['Narimasa Watanabe']},\n",
       " 'url': 'https://www.semanticscholar.org/author/2335569348',\n",
       " 'paperCount': 3,\n",
       " 'citationCount': 1,\n",
       " 'hIndex': 1}"
      ]
     },
     "execution_count": 28,
     "metadata": {},
     "output_type": "execute_result"
    }
   ],
   "source": [
    "G_pre.nodes['2335569348']"
   ]
  },
  {
   "cell_type": "code",
   "execution_count": 26,
   "id": "f0ace20a",
   "metadata": {},
   "outputs": [
    {
     "data": {
      "text/plain": [
       "{'type': 'node',\n",
       " 'id': '2108024279',\n",
       " 'labels': ['Author'],\n",
       " 'properties': {'authorId': '2108024279',\n",
       "  'name': 'Yidong Wang',\n",
       "  'nodeType': 'Author'}}"
      ]
     },
     "execution_count": 26,
     "metadata": {},
     "output_type": "execute_result"
    }
   ],
   "source": [
    "ps.nodes_json[1]"
   ]
  },
  {
   "cell_type": "code",
   "execution_count": 27,
   "id": "630dbb2e",
   "metadata": {},
   "outputs": [
    {
     "data": {
      "text/plain": [
       "['2335569348',\n",
       " '51056442',\n",
       " '2118640235',\n",
       " '152971314',\n",
       " '2337225259',\n",
       " '2293356300',\n",
       " '2216503559',\n",
       " '2674998',\n",
       " '2265930173',\n",
       " '2257010530',\n",
       " '2284827556',\n",
       " '2349068478',\n",
       " '34170717',\n",
       " '2112678409',\n",
       " '2335566763',\n",
       " '145081697',\n",
       " '144016781',\n",
       " '2307012818',\n",
       " '2328342585',\n",
       " '2273779175',\n",
       " '2268132119',\n",
       " '2286328804',\n",
       " '143977268',\n",
       " '2116271777',\n",
       " '2265878959',\n",
       " '1786863',\n",
       " '2259709647',\n",
       " '2108024279',\n",
       " '2275569993',\n",
       " '2262020955',\n",
       " '2284825678',\n",
       " '2289004972',\n",
       " '2284824283']"
      ]
     },
     "execution_count": 27,
     "metadata": {},
     "output_type": "execute_result"
    }
   ],
   "source": [
    "author_ids"
   ]
  },
  {
   "cell_type": "code",
   "execution_count": 21,
   "id": "f16633a4",
   "metadata": {},
   "outputs": [
    {
     "name": "stdout",
     "output_type": "stream",
     "text": [
      "日期 2024-01-15 距今有 15 个月。\n",
      "输入的日期格式 '2024/01/15' 不正确，请使用 'yyyy-mm-dd' 格式。\n"
     ]
    }
   ],
   "source": [
    "from datetime import datetime\n",
    "from dateutil.relativedelta import relativedelta\n",
    "\n",
    "def calculate_months_since(date_str):\n",
    "    \"\"\"\n",
    "    计算给定 'yyyy-mm-dd' 格式的日期距今的月份数。\n",
    "\n",
    "    Args:\n",
    "        date_str (str): 'yyyy-mm-dd' 格式的日期字符串。\n",
    "\n",
    "    Returns:\n",
    "        int: 给定日期距今的月份数。如果输入格式错误，返回 None。\n",
    "    \"\"\"\n",
    "    try:\n",
    "        given_date = datetime.strptime(date_str, '%Y-%m-%d').date()\n",
    "        today = datetime.now().date()\n",
    "        difference = relativedelta(today, given_date)\n",
    "        return difference.years * 12 + difference.months\n",
    "    except ValueError:\n",
    "        return None\n",
    "\n",
    "# 示例用法\n",
    "date_to_calculate = '2024-01-15'\n",
    "months = calculate_months_since(date_to_calculate)\n",
    "\n",
    "if months is not None:\n",
    "    print(f\"日期 {date_to_calculate} 距今有 {months} 个月。\")\n",
    "else:\n",
    "    print(\"输入的日期格式不正确，请使用 'yyyy-mm-dd' 格式。\")\n",
    "\n",
    "date_to_calculate_invalid = '2024/01/15'\n",
    "months_invalid = calculate_months_since(date_to_calculate_invalid)\n",
    "\n",
    "if months_invalid is not None:\n",
    "    print(f\"日期 {date_to_calculate_invalid} 距今有 {months_invalid} 个月。\")\n",
    "else:\n",
    "    print(f\"输入的日期格式 '{date_to_calculate_invalid}' 不正确，请使用 'yyyy-mm-dd' 格式。\")"
   ]
  },
  {
   "cell_type": "code",
   "execution_count": 19,
   "id": "396eb711",
   "metadata": {},
   "outputs": [
    {
     "data": {
      "text/plain": [
       "{'type': 'relationship',\n",
       " 'relationshipType': 'WRITES',\n",
       " 'startNodeId': '2108024279',\n",
       " 'endNodeId': '9e57dda195973c4b6c81386b1cc44595ecfd4697',\n",
       " 'properties': {'authorOrder': 1}}"
      ]
     },
     "execution_count": 19,
     "metadata": {},
     "output_type": "execute_result"
    }
   ],
   "source": [
    "ps.edges_json[0]"
   ]
  },
  {
   "cell_type": "code",
   "execution_count": null,
   "id": "c3a1a7ed",
   "metadata": {},
   "outputs": [],
   "source": [
    "# --- Graph Stat ---\n",
    "from graph.graph_stats import get_graph_stats, get_author_stats, get_paper_stats\n",
    "g_stat = get_graph_stats(G_pre)   # graph stats"
   ]
  },
  {
   "cell_type": "code",
   "execution_count": null,
   "id": "92016abb",
   "metadata": {},
   "outputs": [],
   "source": [
    "paper_stats = get_paper_stats(G_pre, core_paper_ids)  # paper stats on graph\n",
    "author_stats = get_author_stats(G_pre, core_author_ids)  # author stats on graph"
   ]
  },
  {
   "cell_type": "code",
   "execution_count": null,
   "id": "fe03bc0f",
   "metadata": {},
   "outputs": [],
   "source": [
    "# check crossref\n",
    "crossref_stats = []\n",
    "for x in paper_stats:\n",
    "    if (x['if_seed'] == False  # exclude seed papers \n",
    "        and x['local_citation_cnt'] > min(len(core_paper_ids),  5)):  # select most refered papers in graph\n",
    "        crossref_stats.append(x)"
   ]
  },
  {
   "cell_type": "code",
   "execution_count": null,
   "id": "d9ad8841",
   "metadata": {},
   "outputs": [],
   "source": [
    "# calculate similarity\n",
    "from collect.paper_similarity_calculation import PaperSim\n",
    "\n",
    "sim = PaperSim(\n",
    "    embed_api_key = embed_api_key,\n",
    "    embed_model_name = embed_model_name\n",
    ")\n",
    "\n",
    "# --- SIMILARITY CALCULATION ---\n",
    "# check if similarity with edge type\n",
    "edge_types = [x[0] for x in g_stat['edge_type']]\n",
    "\n",
    "# valid paper with abstracts\n",
    "complete_paper_json = [node for node in ps.nodes_json \n",
    "                        if node['labels'] == ['Paper'] \n",
    "                        and node['properties'].get('title') is not None and node['properties'].get('abstract') is not None]\n",
    "complete_paper_dois = [node['id'] for node in complete_paper_json]\n",
    "\n",
    "if 'SIMILAR_TO' not in edge_types:\n",
    "    # calculate paper nodes similarity\n",
    "    semantic_similar_pool = await sim.cal_embed_and_similarity(\n",
    "        paper_nodes_json = complete_paper_json,\n",
    "        paper_dois_1 = complete_paper_dois, \n",
    "        paper_dois_2 = complete_paper_dois,\n",
    "        similarity_threshold = 0.7,\n",
    "        )\n",
    "\n",
    "    # add similarity edges to graph\n",
    "    G_pre.add_graph_edges(semantic_similar_pool)  "
   ]
  },
  {
   "cell_type": "code",
   "execution_count": null,
   "id": "8af6a468",
   "metadata": {},
   "outputs": [],
   "source": [
    "# --- PRUNNING ---\n",
    "# pruning by connectivity\n",
    "sub_graphs = G_pre.find_wcc_subgraphs(target_nodes=core_paper_ids)\n",
    "if sub_graphs is not None and len(sub_graphs) > 0:\n",
    "    G_post  = sub_graphs[0]\n",
    "    # get stats after prunning\n",
    "    g_stat = get_graph_stats(G_post)\n",
    "else:\n",
    "    G_post = G_pre"
   ]
  },
  {
   "cell_type": "code",
   "execution_count": null,
   "id": "a267b0dc",
   "metadata": {},
   "outputs": [],
   "source": [
    "paper_stats = get_paper_stats(G_post, core_paper_ids)  # paper stats on graph\n",
    "author_stats = get_author_stats(G_post, core_author_ids)  # author stats on graph\n",
    "\n",
    "# check crossref\n",
    "crossref_stats = []\n",
    "for x in paper_stats:\n",
    "    if (x['if_seed'] == False  # exclude seed papers \n",
    "        and x['local_citation_cnt'] > min(len(core_paper_ids),  5)):  # select most refered papers in graph\n",
    "        crossref_stats.append(x)\n",
    "\n",
    "# check key authors\n",
    "key_authors_stats = []\n",
    "for x in author_stats:\n",
    "    if (x['if_seed'] == False  # exclude seed authors \n",
    "        and x['local_paper_cnt'] > min(len(core_paper_ids), 5)):  # select most refered papers in graph\n",
    "        key_authors_stats.append(x)"
   ]
  },
  {
   "cell_type": "code",
   "execution_count": null,
   "id": "5f649431",
   "metadata": {},
   "outputs": [],
   "source": [
    "# check paper similarity\n",
    "sorted_paper_similarity = sorted(paper_stats, key=lambda x:x['max_sim_to_seed'], reverse=True)"
   ]
  },
  {
   "cell_type": "code",
   "execution_count": null,
   "id": "7516043a",
   "metadata": {},
   "outputs": [],
   "source": [
    "ref_ids = []\n",
    "# if cross ref insufficient, further expand similar papers on citation chain\n",
    "if len(crossref_stats) < 20:\n",
    "    # filter top similar papers (to help build crossref)\n",
    "    for item in sorted_paper_similarity:\n",
    "        if item['if_seed'] == False and item['doi'] not in ps.explored_nodes['reference']:\n",
    "            if item['max_sim_to_seed'] > 0.7 and item['global_citaion_cnt'] > 10:\n",
    "                ref_ids.append(item['doi'])\n",
    "        else:\n",
    "            break"
   ]
  },
  {
   "cell_type": "code",
   "execution_count": null,
   "id": "2a18e115",
   "metadata": {},
   "outputs": [],
   "source": [
    "ref_ids = ref_ids[0:20]"
   ]
  },
  {
   "cell_type": "code",
   "execution_count": null,
   "id": "3f4b66e6",
   "metadata": {},
   "outputs": [],
   "source": [
    "# if key authors not have complete information\n",
    "author_ids = []\n",
    "if len(key_authors_stats) > 20:\n",
    "    sorted_key_authors = sorted(key_authors_stats, key=lambda x:x['local_paper_cnt'], reverse=True)\n",
    "    # filter key authors (to amplify information)\n",
    "    for item in sorted_key_authors:\n",
    "        if item['if_seed'] == False and item['author_id'] not in ps.explored_nodes['author']:\n",
    "            author_ids.append(item['author_id'])\n",
    "\n",
    "author_ids = author_ids[0:50]"
   ]
  },
  {
   "cell_type": "code",
   "execution_count": null,
   "id": "f1e45d4d",
   "metadata": {},
   "outputs": [],
   "source": [
    "for item in ps.nodes_json:\n",
    "    if item['labels'] == ['Paper']:\n",
    "        print(item['properties']['title'])\n",
    "        # print(item.get('title'))"
   ]
  },
  {
   "cell_type": "code",
   "execution_count": null,
   "id": "a3163461",
   "metadata": {},
   "outputs": [],
   "source": [
    "hop_1_sim_paper_ids = []\n",
    "for u, v, edge_data in G_post.edges(data=True):\n",
    "    if edge_data.get('relationshipType') == 'SIMILAR_TO' and edge_data.get('weight') > 0.7:\n",
    "        if u in core_paper_ids and v not in core_paper_ids:\n",
    "            hop_1_sim_paper_ids.append(v)\n",
    "        elif u not in core_paper_ids and v in core_paper_ids:\n",
    "            hop_1_sim_paper_ids.append(u)"
   ]
  },
  {
   "cell_type": "code",
   "execution_count": null,
   "id": "b00f546b",
   "metadata": {},
   "outputs": [],
   "source": [
    "len(hop_1_sim_paper_ids)"
   ]
  },
  {
   "cell_type": "code",
   "execution_count": null,
   "id": "92714e14",
   "metadata": {},
   "outputs": [],
   "source": [
    "hop_1_citation_paper_ids = []\n",
    "for u, v, edge_data in G_post.edges(data=True):\n",
    "    if edge_data.get('relationshipType') == 'CITES':\n",
    "        if u in core_paper_ids and v not in core_paper_ids:\n",
    "            hop_1_citation_paper_ids.append(v)\n",
    "        elif u not in core_paper_ids and v in core_paper_ids:\n",
    "            hop_1_citation_paper_ids.append(u)"
   ]
  },
  {
   "cell_type": "code",
   "execution_count": null,
   "id": "2ba6dea6",
   "metadata": {},
   "outputs": [],
   "source": [
    "hop_1_topic_paper_ids = []\n",
    "for u, v, edge_data in G_post.edges(data=True):\n",
    "    if edge_data.get('relationshipType') == 'DISCUSS':\n",
    "        topic = G_post.nodes[v].get('name')\n",
    "        if u not in core_paper_ids:\n",
    "            title = G_post.nodes[u].get('title')\n",
    "            gloabl_citation = G_post.nodes[u].get('citationCount')\n",
    "            if gloabl_citation > 10 and u in hop_1_sim_paper_ids:\n",
    "                print(topic, title, gloabl_citation)\n",
    "                # hop_1_topic_paper_ids.append(u)"
   ]
  },
  {
   "cell_type": "code",
   "execution_count": null,
   "id": "3599d4b1",
   "metadata": {},
   "outputs": [],
   "source": [
    "# recommendation, author papers\n",
    "hop_1_expand_papers = set(list(core_paper_ids) + hop_1_sim_paper_ids + hop_1_citation_paper_ids)"
   ]
  },
  {
   "cell_type": "code",
   "execution_count": null,
   "id": "45c24836",
   "metadata": {},
   "outputs": [],
   "source": [
    "hop_2_sim_paper_ids = []\n",
    "for u, v, edge_data in G_post.edges(data=True):\n",
    "    if edge_data.get('relationshipType') == 'SIMILAR_TO' and edge_data.get('weight') > 0.7:\n",
    "        if u in hop_1_expand_papers and v not in hop_1_expand_papers:\n",
    "            hop_2_sim_paper_ids.append(v)\n",
    "        elif u not in hop_1_expand_papers and v in hop_1_expand_papers:\n",
    "            hop_2_sim_paper_ids.append(u)"
   ]
  },
  {
   "cell_type": "code",
   "execution_count": null,
   "id": "580c2036",
   "metadata": {},
   "outputs": [],
   "source": [
    "len(hop_1_expand_papers)"
   ]
  },
  {
   "cell_type": "code",
   "execution_count": null,
   "id": "290326f1",
   "metadata": {},
   "outputs": [],
   "source": [
    "len(set(hop_2_sim_paper_ids))"
   ]
  },
  {
   "cell_type": "code",
   "execution_count": null,
   "id": "748c524f",
   "metadata": {},
   "outputs": [],
   "source": [
    "for id not in hop_2_sim_paper_ids"
   ]
  },
  {
   "cell_type": "code",
   "execution_count": null,
   "id": "d6bbc5a3",
   "metadata": {},
   "outputs": [],
   "source": [
    "There are 6 node types in this graph, they are:\n",
    "[('Author', 5560), ('Paper', 1933), ('Journal', 513), ('Venue', 380), ('Institution', 5), ('Topic', 4)]\n",
    "There are 7 edge types in this graph, they are:\n",
    "[('SIMILAR_TO', 20872), ('WRITES', 9366), ('RELEASES_IN', 1244), ('PRINTS_ON', 702), ('DISCUSS', 419), ('CITES', 288), ('WORKS_IN', 5)]"
   ]
  },
  {
   "cell_type": "code",
   "execution_count": 39,
   "id": "fac5f1bf",
   "metadata": {},
   "outputs": [],
   "source": [
    "x = {'a':2, 'b':1, 'c':3}"
   ]
  },
  {
   "cell_type": "code",
   "execution_count": 40,
   "id": "8b31d980",
   "metadata": {},
   "outputs": [],
   "source": [
    "x_sorted = sorted(x.items(), key=lambda x:x[1], reverse=True)"
   ]
  },
  {
   "cell_type": "code",
   "execution_count": 42,
   "id": "7d0e4ede",
   "metadata": {},
   "outputs": [],
   "source": [
    "ranked_keys = {}\n",
    "for index, (key, value) in enumerate(x_sorted):\n",
    "    ranked_keys[key] = index"
   ]
  },
  {
   "cell_type": "code",
   "execution_count": 43,
   "id": "651a61fc",
   "metadata": {},
   "outputs": [
    {
     "data": {
      "text/plain": [
       "{'c': 0, 'a': 1, 'b': 2}"
      ]
     },
     "execution_count": 43,
     "metadata": {},
     "output_type": "execute_result"
    }
   ],
   "source": [
    "ranked_keys"
   ]
  },
  {
   "cell_type": "code",
   "execution_count": null,
   "id": "7b6da680",
   "metadata": {},
   "outputs": [],
   "source": []
  }
 ],
 "metadata": {
  "kernelspec": {
   "display_name": "jiezi4ai",
   "language": "python",
   "name": "python3"
  },
  "language_info": {
   "codemirror_mode": {
    "name": "ipython",
    "version": 3
   },
   "file_extension": ".py",
   "mimetype": "text/x-python",
   "name": "python",
   "nbconvert_exporter": "python",
   "pygments_lexer": "ipython3",
   "version": "3.10.16"
  }
 },
 "nbformat": 4,
 "nbformat_minor": 5
}
