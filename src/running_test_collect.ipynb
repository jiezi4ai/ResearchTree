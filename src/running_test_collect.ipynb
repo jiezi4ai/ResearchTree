{
 "cells": [
  {
   "cell_type": "markdown",
   "id": "9e2ffaa5",
   "metadata": {},
   "source": [
    "# Test"
   ]
  },
  {
   "cell_type": "markdown",
   "id": "f670ae1b",
   "metadata": {},
   "source": [
    "## Paper Collection"
   ]
  },
  {
   "cell_type": "code",
   "execution_count": null,
   "id": "eaeef614",
   "metadata": {},
   "outputs": [],
   "source": [
    "import os\n",
    "import json\n",
    "\n",
    "from paper_collect import PaperCollector"
   ]
  },
  {
   "cell_type": "code",
   "execution_count": null,
   "id": "abd73eaa",
   "metadata": {},
   "outputs": [],
   "source": [
    "llm_api_key = os.getenv('GEMINI_API_KEY_3')\n",
    "llm_model_name=\"gemini-2.0-flash\"\n",
    "embed_api_key = os.getenv('GEMINI_API_KEY_3')\n",
    "embed_model_name=\"models/text-embedding-004\"\n",
    "\n",
    "research_topic = \"llm literature review\"\n",
    "seed_dois = ['10.48550/arXiv.2406.10252',  # AutoSurvey: Large Language Models Can Automatically Write Surveys\n",
    "            '10.48550/arXiv.2412.10415',  # Generative Adversarial Reviews: When LLMs Become the Critic\n",
    "            '10.48550/arXiv.2402.12928',  # A Literature Review of Literature Reviews in Pattern Analysis and Machine Intelligence \n",
    "            ]\n",
    "seed_titles = ['PaperRobot: Incremental Draft Generation of Scientific Ideas',\n",
    "            'From Hypothesis to Publication: A Comprehensive Survey of AI-Driven Research Support Systems'\n",
    "            ]"
   ]
  },
  {
   "cell_type": "code",
   "execution_count": null,
   "id": "41739da1",
   "metadata": {},
   "outputs": [],
   "source": [
    "ps = PaperCollector(   \n",
    "    research_topic = research_topic,   \n",
    "    seed_paper_titles = seed_titles, \n",
    "    seed_paper_dois = seed_dois,\n",
    "    llm_api_key = llm_api_key,\n",
    "    llm_model_name = llm_model_name,\n",
    "    embed_api_key = embed_api_key,\n",
    "    embed_model_name = embed_model_name,\n",
    "    from_dt = '2020-01-01',\n",
    "    to_dt = '2025-04-30',\n",
    "    fields_of_study = ['Computer Science'])"
   ]
  },
  {
   "cell_type": "code",
   "execution_count": null,
   "id": "f8e019df",
   "metadata": {},
   "outputs": [],
   "source": [
    "await ps.construct_paper_graph(\n",
    "    search_citation = 'both',  # 'both',\n",
    "    search_author = True,\n",
    "    find_recommend = True,\n",
    "    if_related_topic = True,\n",
    "    if_expanded_citations  = 'reference',  #  'reference',\n",
    "    if_expanded_authors = True,\n",
    "    if_add_similarity = True,\n",
    "    similarity_threshold = 0.7,\n",
    "    expanded_k_papers = 10,\n",
    "    expanded_l_authors = 50,\n",
    ")"
   ]
  },
  {
   "cell_type": "markdown",
   "id": "1913e721",
   "metadata": {},
   "source": [
    "## Basic Stats"
   ]
  },
  {
   "cell_type": "code",
   "execution_count": null,
   "id": "c8528b26",
   "metadata": {},
   "outputs": [],
   "source": [
    "len(ps.nodes_json)"
   ]
  },
  {
   "cell_type": "code",
   "execution_count": null,
   "id": "c28ad6c4",
   "metadata": {},
   "outputs": [],
   "source": [
    "len(ps.edges_json)"
   ]
  },
  {
   "cell_type": "code",
   "execution_count": null,
   "id": "30642b02",
   "metadata": {},
   "outputs": [],
   "source": [
    "g = ps.pg.graph"
   ]
  },
  {
   "cell_type": "code",
   "execution_count": null,
   "id": "3a4824d2",
   "metadata": {},
   "outputs": [],
   "source": [
    "len(g.nodes)"
   ]
  },
  {
   "cell_type": "code",
   "execution_count": null,
   "id": "75aa4eb6",
   "metadata": {},
   "outputs": [],
   "source": [
    "len(g.edges)"
   ]
  },
  {
   "cell_type": "code",
   "execution_count": null,
   "id": "0b36911a",
   "metadata": {},
   "outputs": [],
   "source": [
    "# check node types\n",
    "set([g.nodes[nid].get('nodeType') for nid in g.nodes])"
   ]
  },
  {
   "cell_type": "code",
   "execution_count": null,
   "id": "88de0b2d",
   "metadata": {},
   "outputs": [],
   "source": [
    "# stats of node types\n",
    "node_types = [g.nodes[nid].get('nodeType') for nid in g.nodes]\n",
    "\n",
    "from collections import Counter\n",
    "counts = Counter(node_types)\n",
    "\n",
    "# 按计数降序排序\n",
    "sorted_counts = counts.most_common()\n",
    "sorted_counts"
   ]
  },
  {
   "cell_type": "code",
   "execution_count": null,
   "id": "1f6f7903",
   "metadata": {},
   "outputs": [],
   "source": [
    "# stats of edge types\n",
    "edge_types = [d.get('relationshipType') for u, v, d in g.edges(data=True)]\n",
    "print(set(edge_types))\n",
    "\n",
    "from collections import Counter\n",
    "counts = Counter(edge_types)\n",
    "\n",
    "# 按计数降序排序\n",
    "sorted_counts = counts.most_common()\n",
    "print(sorted_counts)"
   ]
  },
  {
   "cell_type": "markdown",
   "id": "1431f5fe",
   "metadata": {},
   "source": [
    "## Key Nodes"
   ]
  },
  {
   "cell_type": "code",
   "execution_count": null,
   "id": "84ba695e",
   "metadata": {},
   "outputs": [],
   "source": [
    "# seed papers\n",
    "seed_paper_dois = [nid for nid in g.nodes \n",
    "                        if g.nodes[nid].get('nodeType')=='Paper' and\n",
    "                           g.nodes[nid].get('from_seed') == True]\n",
    "seed_paper_nodes = [g.nodes[nid] for nid in g.nodes \n",
    "                        if g.nodes[nid].get('nodeType')=='Paper' and\n",
    "                           g.nodes[nid].get('from_seed') == True]"
   ]
  },
  {
   "cell_type": "code",
   "execution_count": null,
   "id": "a87510ae",
   "metadata": {},
   "outputs": [],
   "source": [
    "print(seed_paper_dois)"
   ]
  },
  {
   "cell_type": "code",
   "execution_count": null,
   "id": "d9822600",
   "metadata": {},
   "outputs": [],
   "source": [
    "# expanded papers with citation chain\n",
    "# paper with cites but no citing, paper not in seed dois\n",
    "paper_w_ref_dois = []\n",
    "paper_w_ref_nodes = []\n",
    "\n",
    "for nid in g.nodes:\n",
    "    node = g.nodes[nid]\n",
    "    if node.get('nodeType')=='Paper' and nid not in seed_paper_dois:\n",
    "        out_edges_info = g.out_edges(nid, data=True)\n",
    "        cnt = 0\n",
    "        for u, v, data in out_edges_info:\n",
    "            if data.get('relationshipType') == 'CITES':\n",
    "               cnt += 1\n",
    "        if cnt > 0:\n",
    "            paper_w_ref_dois.append(nid)\n",
    "            paper_w_ref_nodes.append(node)\n",
    "\n",
    "print(paper_w_ref_dois)"
   ]
  },
  {
   "cell_type": "code",
   "execution_count": null,
   "id": "1cc02382",
   "metadata": {},
   "outputs": [],
   "source": [
    "expanded_paper_w_ref_dois = [x for x in paper_w_ref_dois if x not in seed_paper_dois]"
   ]
  },
  {
   "cell_type": "code",
   "execution_count": null,
   "id": "fb6bb94e",
   "metadata": {},
   "outputs": [],
   "source": [
    "filtered_dois = []\n",
    "for doi in expanded_paper_w_ref_dois:\n",
    "    out_edges_info = g.out_edges(doi, data=True)\n",
    "    ref_cnt = sum([1 for u, v, data in out_edges_info if data.get('relationshipType') == 'CITES'])\n",
    "    print(doi, ref_cnt)\n",
    "    if ref_cnt > 2:\n",
    "        filtered_dois.append(doi)"
   ]
  },
  {
   "cell_type": "code",
   "execution_count": null,
   "id": "f39b93a3",
   "metadata": {},
   "outputs": [],
   "source": [
    "g.out_edges('10.48550/arXiv.2408.16498', data=True)"
   ]
  },
  {
   "cell_type": "code",
   "execution_count": null,
   "id": "b9aa46b4",
   "metadata": {},
   "outputs": [],
   "source": [
    "n = '10.48550/arXiv.2408.16498'\n",
    "for v in g.successors(n):\n",
    "    data = g[n][v]\n",
    "    if data.get('relationshipType') == 'CITES':\n",
    "        print(g.nodes[v])"
   ]
  },
  {
   "cell_type": "code",
   "execution_count": null,
   "id": "62f45f8b",
   "metadata": {},
   "outputs": [],
   "source": [
    "len(filtered_dois)"
   ]
  },
  {
   "cell_type": "markdown",
   "id": "0ff27070",
   "metadata": {},
   "source": [
    "Check cross refs  \n",
    "- most refered to\n",
    "- precessor of seed dois"
   ]
  },
  {
   "cell_type": "code",
   "execution_count": null,
   "id": "6f1ea0d7",
   "metadata": {},
   "outputs": [],
   "source": [
    "paper_stat = []\n",
    "for n in g.nodes:\n",
    "    if g.nodes[n].get('nodeType') == 'Paper':\n",
    "        in_edges_info = g.in_edges(n, data=True)\n",
    "        cite_cnt = sum([1 for u, v, data in in_edges_info if data.get('relationshipType') == 'CITES'])\n",
    "        sim_cnt = sum([1 for u, v, data in in_edges_info if data.get('relationshipType') == 'SIMILAR_TO'])\n",
    "        paper_stat.append((n, cite_cnt, sim_cnt))"
   ]
  },
  {
   "cell_type": "code",
   "execution_count": null,
   "id": "d85a5f7e",
   "metadata": {},
   "outputs": [],
   "source": [
    "import numpy as np\n",
    "np.average([1, None, 2])"
   ]
  },
  {
   "cell_type": "code",
   "execution_count": null,
   "id": "ea8f8e25",
   "metadata": {},
   "outputs": [],
   "source": [
    "sorted_by_cite = sorted(paper_stat, key=lambda item: item[1], reverse=True)\n",
    "print(sorted_by_cite[0:20])\n",
    "\n",
    "for item in sorted_by_cite[0:20]:\n",
    "    n = item[0]\n",
    "    cite_cnt = item[1]\n",
    "    # paper infos\n",
    "    title = g.nodes[n].get('title')\n",
    "    overall_cite_cnt = g.nodes[n].get('citationCount')\n",
    "    influential_cite_cnt = g.nodes[n].get('influentialCitationCount')\n",
    "    # author infors\n",
    "    hindex_lst = []\n",
    "    for u in g.predecessors(n):\n",
    "        if g.nodes[u].get('nodeType') == 'Author':\n",
    "            hIndex = g.nodes[u].get('hIndex')\n",
    "            if hIndex:\n",
    "                hindex_lst.append(hIndex)\n",
    "            paperCount = g.nodes[u].get('paperCount')\n",
    "            citationCount = g.nodes[u].get('citationCount')\n",
    "    h_index = np.average(hindex_lst)\n",
    "\n",
    "\n",
    "    paper_info = {\"doi\":n, \"title\":title, \n",
    "                  \"local_refs\":cite_cnt, \"global_refs\":overall_cite_cnt, \"inf_cite_cnt\":influential_cite_cnt,\n",
    "                  \"h_index\": h_index}\n",
    "    print(paper_info)"
   ]
  },
  {
   "cell_type": "code",
   "execution_count": null,
   "id": "3dc7b7ec",
   "metadata": {},
   "outputs": [],
   "source": [
    "sorted_by_sim = sorted(paper_stat, key=lambda item: item[2], reverse=True)\n",
    "print(sorted_by_sim[0:20])\n",
    "\n",
    "for item in sorted_by_sim[0:20]:\n",
    "    n = item[0]\n",
    "    sim_cnt = item[2]\n",
    "    title = g.nodes[n].get('title')\n",
    "    overall_cite_cnt = g.nodes[n].get('citationCount')\n",
    "    # author infors\n",
    "    hindex_lst = []\n",
    "    for u in g.predecessors(n):\n",
    "        if g.nodes[u].get('nodeType') == 'Author':\n",
    "            hIndex = g.nodes[u].get('hIndex')\n",
    "            if hIndex:\n",
    "                hindex_lst.append(hIndex)\n",
    "            paperCount = g.nodes[u].get('paperCount')\n",
    "            citationCount = g.nodes[u].get('citationCount')\n",
    "    h_index = np.average(hindex_lst)\n",
    "\n",
    "\n",
    "    paper_info = {\"doi\":n, \"title\":title, \n",
    "                  \"local_sims\":sim_cnt, \"global_refs\":overall_cite_cnt, \"inf_cite_cnt\":influential_cite_cnt,\n",
    "                  \"h_index\": h_index}\n",
    "    print(paper_info)"
   ]
  },
  {
   "cell_type": "code",
   "execution_count": null,
   "id": "e5ea649a",
   "metadata": {},
   "outputs": [],
   "source": [
    "for id in graph[0].graph.nodes:\n",
    "    item = graph[0].graph.nodes[id]\n",
    "    if item.get('nodeType') is None:\n",
    "        print(id, item)"
   ]
  },
  {
   "cell_type": "code",
   "execution_count": null,
   "id": "14049e72",
   "metadata": {},
   "outputs": [],
   "source": [
    "set(nodes_types)"
   ]
  },
  {
   "cell_type": "code",
   "execution_count": null,
   "id": "6e42ad93",
   "metadata": {},
   "outputs": [],
   "source": [
    "set([d['relationshipType'] for u, v, d in graph[0].graph.edges(data=True)])"
   ]
  },
  {
   "cell_type": "code",
   "execution_count": null,
   "id": "44a2c951",
   "metadata": {},
   "outputs": [],
   "source": [
    "# node types and edges types to keep\n",
    "filtered_node_labels = ['Paper', 'Topic', 'Author']\n",
    "filtered_edges_labels = ['CITES', 'DISCUSS', 'WRITES']"
   ]
  },
  {
   "cell_type": "code",
   "execution_count": null,
   "id": "f52f4213",
   "metadata": {},
   "outputs": [],
   "source": [
    "G = graph[0].graph"
   ]
  },
  {
   "cell_type": "code",
   "execution_count": null,
   "id": "339de557",
   "metadata": {},
   "outputs": [],
   "source": [
    "# Create a list of node IDs to iterate over\n",
    "node_ids_to_check = list(G.nodes) # <--- Create a static list here\n",
    "\n",
    "# filter node types\n",
    "for id in node_ids_to_check: # <-- Iterate over the list\n",
    "    # Check if the node still exists (important if edges might remove nodes indirectly, though less likely here)\n",
    "    if id in G:\n",
    "        item = G.nodes[id]\n",
    "        node_type = item.get('nodeType')\n",
    "        if node_type not in filtered_node_labels:\n",
    "            G.remove_node(id) # Modify the original graph G"
   ]
  },
  {
   "cell_type": "code",
   "execution_count": null,
   "id": "4cf9baea",
   "metadata": {},
   "outputs": [],
   "source": [
    "# Create a list of edge tuples (u, v, data) to iterate over\n",
    "edge_list_copy = list(G.edges(data=True)) # <--- Create a static list here\n",
    "\n",
    "# filter edge types\n",
    "for u, v, d in edge_list_copy: # <-- Iterate over the copy\n",
    "    edge_type = d.get('relationshipType') # Use .get() for safety if attr might be missing\n",
    "    if edge_type not in filtered_edges_labels:\n",
    "         # Check if edge still exists (might have been removed if graph allows parallel edges and one was removed)\n",
    "         if G.has_edge(u, v):\n",
    "            G.remove_edge(u, v) # Modify the original graph G"
   ]
  },
  {
   "cell_type": "code",
   "execution_count": null,
   "id": "94c8ef4b",
   "metadata": {},
   "outputs": [],
   "source": [
    "\n",
    "G.remove_edge(1, 3)"
   ]
  },
  {
   "cell_type": "code",
   "execution_count": null,
   "id": "6e861433",
   "metadata": {},
   "outputs": [],
   "source": [
    "set([graph[0].graph.nodes[x]['nodeType'] for x in graph[0].graph.nodes])"
   ]
  },
  {
   "cell_type": "code",
   "execution_count": null,
   "id": "c4dac349",
   "metadata": {},
   "outputs": [],
   "source": [
    "a = False\n",
    "if a:\n",
    "    print(111)"
   ]
  },
  {
   "cell_type": "code",
   "execution_count": null,
   "id": "e25d68d5",
   "metadata": {},
   "outputs": [],
   "source": [
    "import networkx as nx\n",
    "G = nx.Graph()"
   ]
  },
  {
   "cell_type": "code",
   "execution_count": null,
   "id": "1501a5b3",
   "metadata": {},
   "outputs": [],
   "source": [
    "G.add_nodes_from([(4, {\"color\": \"red\"}), (5, {\"color\": \"green\"})])"
   ]
  },
  {
   "cell_type": "code",
   "execution_count": null,
   "id": "8d767059",
   "metadata": {},
   "outputs": [],
   "source": [
    "G.nodes[4]"
   ]
  },
  {
   "cell_type": "code",
   "execution_count": null,
   "id": "3e50252b",
   "metadata": {},
   "outputs": [],
   "source": [
    "G.add_nodes_from([(4, {\"color\": \"blue\"})])"
   ]
  },
  {
   "cell_type": "code",
   "execution_count": null,
   "id": "af1e8da8",
   "metadata": {},
   "outputs": [],
   "source": [
    "G.nodes[4]"
   ]
  },
  {
   "cell_type": "code",
   "execution_count": null,
   "id": "c418ac40",
   "metadata": {},
   "outputs": [],
   "source": [
    "G.add_nodes_from([(4, {\"name\": \"No.4\"})])"
   ]
  },
  {
   "cell_type": "code",
   "execution_count": null,
   "id": "7c017868",
   "metadata": {},
   "outputs": [],
   "source": [
    "G.nodes[4]"
   ]
  },
  {
   "cell_type": "code",
   "execution_count": null,
   "id": "0a1110a4",
   "metadata": {},
   "outputs": [],
   "source": []
  }
 ],
 "metadata": {
  "kernelspec": {
   "display_name": "ai4fun",
   "language": "python",
   "name": "python3"
  },
  "language_info": {
   "codemirror_mode": {
    "name": "ipython",
    "version": 3
   },
   "file_extension": ".py",
   "mimetype": "text/x-python",
   "name": "python",
   "nbconvert_exporter": "python",
   "pygments_lexer": "ipython3",
   "version": "3.10.13"
  }
 },
 "nbformat": 4,
 "nbformat_minor": 5
}
