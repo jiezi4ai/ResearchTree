{
 "cells": [
  {
   "cell_type": "markdown",
   "id": "f670ae1b",
   "metadata": {},
   "source": [
    "# Paper Collection"
   ]
  },
  {
   "cell_type": "markdown",
   "id": "24acc952",
   "metadata": {},
   "source": [
    "## Setup"
   ]
  },
  {
   "cell_type": "code",
   "execution_count": 1,
   "id": "eaeef614",
   "metadata": {},
   "outputs": [],
   "source": [
    "import os\n",
    "import json\n",
    "\n",
    "from paper_collect import PaperCollector"
   ]
  },
  {
   "cell_type": "code",
   "execution_count": 7,
   "id": "9754fc44",
   "metadata": {},
   "outputs": [
    {
     "data": {
      "text/plain": [
       "True"
      ]
     },
     "execution_count": 7,
     "metadata": {},
     "output_type": "execute_result"
    }
   ],
   "source": [
    "'abc'.startswith('a')"
   ]
  },
  {
   "cell_type": "code",
   "execution_count": 2,
   "id": "abd73eaa",
   "metadata": {},
   "outputs": [],
   "source": [
    "llm_api_key = os.getenv('GEMINI_API_KEY_3')\n",
    "llm_model_name=\"gemini-2.0-flash\"\n",
    "embed_api_key = os.getenv('GEMINI_API_KEY_3')\n",
    "embed_model_name=\"models/text-embedding-004\"\n",
    "\n",
    "research_topic = \"llm literature review\"\n",
    "seed_dois = ['10.48550/arXiv.2406.10252',  # AutoSurvey: Large Language Models Can Automatically Write Surveys\n",
    "            '10.48550/arXiv.2412.10415',  # Generative Adversarial Reviews: When LLMs Become the Critic\n",
    "            '10.48550/arXiv.2402.12928',  # A Literature Review of Literature Reviews in Pattern Analysis and Machine Intelligence \n",
    "            ]\n",
    "seed_titles = ['PaperRobot: Incremental Draft Generation of Scientific Ideas',\n",
    "            'From Hypothesis to Publication: A Comprehensive Survey of AI-Driven Research Support Systems'\n",
    "            ]"
   ]
  },
  {
   "cell_type": "code",
   "execution_count": 3,
   "id": "41739da1",
   "metadata": {},
   "outputs": [],
   "source": [
    "ps = PaperCollector(   \n",
    "    research_topic = research_topic,   \n",
    "    seed_paper_titles = seed_titles, \n",
    "    seed_paper_dois = seed_dois,\n",
    "    llm_api_key = llm_api_key,\n",
    "    llm_model_name = llm_model_name,\n",
    "    embed_api_key = embed_api_key,\n",
    "    embed_model_name = embed_model_name,\n",
    "    from_dt = '2020-01-01',\n",
    "    to_dt = '2025-04-30',\n",
    "    fields_of_study = ['Computer Science'])"
   ]
  },
  {
   "cell_type": "markdown",
   "id": "705bb1bc",
   "metadata": {},
   "source": [
    "## Inital Search\n",
    "- initial search for seed paper metadata\n",
    "- basic search takes about 30-60 seconds "
   ]
  },
  {
   "cell_type": "markdown",
   "id": "bcb61e95",
   "metadata": {},
   "source": [
    "### Paper Search"
   ]
  },
  {
   "cell_type": "code",
   "execution_count": 4,
   "id": "d26918ea",
   "metadata": {},
   "outputs": [
    {
     "name": "stderr",
     "output_type": "stream",
     "text": [
      "2025-04-15 09:14:51,604 - INFO - SemanticScholarKit initialized with max_concurrency=10, sleep_interval=3.0s\n",
      "2025-04-15 09:14:51,605 - INFO - Fetching papers by 3 DOIs...\n",
      "2025-04-15 09:14:51,606 - INFO - Fetching papers by title: 'PaperRobot: Incremental Draft Generation of Scientific Ideas...'\n",
      "2025-04-15 09:14:51,606 - INFO - Fetching papers by title: 'From Hypothesis to Publication: A Comprehensive Survey of AI-Driven Research Support Systems...'\n",
      "2025-04-15 09:14:51,606 - INFO - Fetching papers by topic: 'llm literature review...'\n",
      "2025-04-15 09:14:51,606 - INFO - Running 4 initial query tasks concurrently...\n",
      "2025-04-15 09:14:51,606 - INFO - async_search_paper_by_ids: Creating 1 tasks for 3 IDs.\n",
      "2025-04-15 09:14:51,607 - INFO - async_search_paper_by_ids: Gathering 1 tasks...\n",
      "2025-04-15 09:14:51,607 - INFO - async_search_paper_by_keywords: Searching papers by keyword: 'PaperRobot: Incremental Draft Generation of Scient...' with effective limit 50.\n",
      "2025-04-15 09:14:51,607 - INFO - _sync_search_paper_by_keywords: Thread started for query 'PaperRobot: Incremental Draft Generation of Scient...' with limit 50.\n",
      "2025-04-15 09:14:51,607 - INFO - async_search_paper_by_keywords: Searching papers by keyword: 'From Hypothesis to Publication: A Comprehensive Su...' with effective limit 50.\n",
      "2025-04-15 09:14:51,610 - INFO - _sync_search_paper_by_keywords: Thread started for query 'From Hypothesis to Publication: A Comprehensive Su...' with limit 50.\n",
      "2025-04-15 09:14:51,611 - INFO - async_search_paper_by_keywords: Searching papers by keyword: 'llm literature review...' with effective limit 50.\n",
      "2025-04-15 09:14:51,612 - INFO - _sync_search_paper_by_keywords: Thread started for query 'llm literature review...' with limit 50.\n",
      "2025-04-15 09:14:51,614 - INFO - _sync_get_papers: Thread started for batch (3 IDs, first 5: ['10.48550/arXiv.2406.10252', '10.48550/arXiv.2412.10415', '10.48550/arXiv.2402.12928']...).\n"
     ]
    },
    {
     "name": "stdout",
     "output_type": "stream",
     "text": [
      "--- Running Initial Query for Seed Papers Information ---\n"
     ]
    },
    {
     "name": "stderr",
     "output_type": "stream",
     "text": [
      "2025-04-15 09:14:52,708 - INFO - HTTP Request: POST https://api.semanticscholar.org/graph/v1/paper/batch?fields=abstract%2Cauthors%2CcitationCount%2CcitationStyles%2CcorpusId%2CexternalIds%2CfieldsOfStudy%2CinfluentialCitationCount%2CisOpenAccess%2Cjournal%2CopenAccessPdf%2CpaperId%2CpublicationDate%2CpublicationTypes%2CpublicationVenue%2CreferenceCount%2Cs2FieldsOfStudy%2Ctitle%2Curl%2Cvenue%2Cyear \"HTTP/1.1 200 OK\"\n",
      "2025-04-15 09:14:52,715 - INFO - _sync_get_papers: API call successful for batch (first 5: ['10.48550/arXiv.2406.10252', '10.48550/arXiv.2412.10415', '10.48550/arXiv.2402.12928']...), returning 3 items.\n",
      "2025-04-15 09:14:52,886 - INFO - HTTP Request: GET https://api.semanticscholar.org/graph/v1/paper/search?query=PaperRobot%3A+Incremental+Draft+Generation+of+Scientific+Ideas&fields=abstract%2Cauthors%2CcitationCount%2CcitationStyles%2CcorpusId%2CexternalIds%2CfieldsOfStudy%2CinfluentialCitationCount%2CisOpenAccess%2Cjournal%2CopenAccessPdf%2CpaperId%2CpublicationDate%2CpublicationTypes%2CpublicationVenue%2CreferenceCount%2Cs2FieldsOfStudy%2Ctitle%2Curl%2Cvenue%2Cyear&offset=0&limit=50 \"HTTP/1.1 200 OK\"\n",
      "2025-04-15 09:14:52,888 - INFO - _sync_search_paper_by_keywords: API call successful for query 'PaperRobot: Incremental Draft Generation of Scient...', returning 1 items.\n",
      "2025-04-15 09:14:52,975 - INFO - HTTP Request: GET https://api.semanticscholar.org/graph/v1/paper/search?query=From+Hypothesis+to+Publication%3A+A+Comprehensive+Survey+of+AI-Driven+Research+Support+Systems&fields=abstract%2Cauthors%2CcitationCount%2CcitationStyles%2CcorpusId%2CexternalIds%2CfieldsOfStudy%2CinfluentialCitationCount%2CisOpenAccess%2Cjournal%2CopenAccessPdf%2CpaperId%2CpublicationDate%2CpublicationTypes%2CpublicationVenue%2CreferenceCount%2Cs2FieldsOfStudy%2Ctitle%2Curl%2Cvenue%2Cyear&offset=0&limit=50 \"HTTP/1.1 200 OK\"\n",
      "2025-04-15 09:14:52,987 - INFO - _sync_search_paper_by_keywords: API call successful for query 'From Hypothesis to Publication: A Comprehensive Su...', returning 3 items.\n",
      "2025-04-15 09:14:53,917 - INFO - HTTP Request: GET https://api.semanticscholar.org/graph/v1/paper/search?query=llm+literature+review&fields=abstract%2Cauthors%2CcitationCount%2CcitationStyles%2CcorpusId%2CexternalIds%2CfieldsOfStudy%2CinfluentialCitationCount%2CisOpenAccess%2Cjournal%2CopenAccessPdf%2CpaperId%2CpublicationDate%2CpublicationTypes%2CpublicationVenue%2CreferenceCount%2Cs2FieldsOfStudy%2Ctitle%2Curl%2Cvenue%2Cyear&offset=0&limit=50 \"HTTP/1.1 200 OK\"\n",
      "2025-04-15 09:14:55,720 - INFO - async_search_paper_by_ids: Gather complete. Processing results.\n",
      "2025-04-15 09:14:56,365 - INFO - HTTP Request: GET https://api.semanticscholar.org/graph/v1/paper/search?query=llm+literature+review&fields=abstract%2Cauthors%2CcitationCount%2CcitationStyles%2CcorpusId%2CexternalIds%2CfieldsOfStudy%2CinfluentialCitationCount%2CisOpenAccess%2Cjournal%2CopenAccessPdf%2CpaperId%2CpublicationDate%2CpublicationTypes%2CpublicationVenue%2CreferenceCount%2Cs2FieldsOfStudy%2Ctitle%2Curl%2Cvenue%2Cyear&offset=50&limit=50 \"HTTP/1.1 200 OK\"\n",
      "2025-04-15 09:14:56,946 - INFO - _sync_search_paper_by_keywords: API call successful for query 'llm literature review...', returning 50 items.\n",
      "2025-04-15 09:14:59,955 - INFO - Graph state after initial search tasks. Nodes: 373, Edges: 321\n"
     ]
    }
   ],
   "source": [
    "# --- INITIAL QUERY on SEED ---\n",
    "# initial query for seed papers basic information\n",
    "print(\"--- Running Initial Query for Seed Papers Information ---\")\n",
    "await ps.init_search(\n",
    "    ps.research_topic,\n",
    "    ps.seed_paper_titles,\n",
    "    ps.seed_paper_dois,\n",
    "    ps.search_limit,\n",
    "    ps.from_dt,\n",
    "    ps.to_dt\n",
    ")\n",
    "# get seed DOIs\n",
    "seed_paper_dois = [node['id'] for node in ps.nodes_json if node['labels'] == ['Paper'] and node['properties'].get('from_seed')==True]\n",
    "seed_author_ids = []\n",
    "for node in ps.nodes_json:\n",
    "    if node['labels'] == ['Paper'] and node['properties'].get('from_seed')==True and isinstance(node['properties'].get('authors'), list):\n",
    "        authors_id = [x['authorId'] for x in node['properties']['authors'] if x['authorId'] is not None] \n",
    "        seed_author_ids.extend(authors_id)\n",
    "seed_paper_json = [node for node in ps.nodes_json if node['labels'] == ['Paper'] and node['properties'].get('from_seed')==True]\n",
    "ps.explored_nodes['seed'].extend(seed_paper_dois) "
   ]
  },
  {
   "cell_type": "markdown",
   "id": "55fd06b8",
   "metadata": {},
   "source": [
    "### Graph Stats"
   ]
  },
  {
   "cell_type": "code",
   "execution_count": 5,
   "id": "9c28ae7a",
   "metadata": {},
   "outputs": [
    {
     "name": "stdout",
     "output_type": "stream",
     "text": [
      "373 321 373 321\n",
      "[('Author', 258), ('Paper', 56), ('Journal', 31), ('Venue', 28)]\n",
      "[('WRITES', 262), ('PRINTS_ON', 30), ('RELEASES_IN', 29)]\n"
     ]
    }
   ],
   "source": [
    "import copy\n",
    "from collections import Counter\n",
    "\n",
    "g = copy.deepcopy(ps.pg.graph)\n",
    "print(len(ps.nodes_json), len(ps.edges_json), len(g.nodes), len(g.edges))\n",
    "\n",
    "# check node types\n",
    "node_types = [g.nodes[nid].get('nodeType') for nid in g.nodes]\n",
    "node_types_cnt = Counter(node_types)\n",
    "# 按计数降序排序\n",
    "sorted_node_counts = node_types_cnt.most_common()\n",
    "print(sorted_node_counts)\n",
    "\n",
    "# check node types\n",
    "edge_types = [d.get('relationshipType') for u, v, d in g.edges(data=True)]\n",
    "edge_types_cnt = Counter(edge_types)\n",
    "# 按计数降序排序\n",
    "sorted_egdes_counts = edge_types_cnt.most_common()\n",
    "print(sorted_egdes_counts)"
   ]
  },
  {
   "cell_type": "markdown",
   "id": "fbb9e8b4",
   "metadata": {},
   "source": [
    "### Graph Viz"
   ]
  },
  {
   "cell_type": "code",
   "execution_count": 6,
   "id": "c8ab8de1",
   "metadata": {},
   "outputs": [
    {
     "name": "stdout",
     "output_type": "stream",
     "text": [
      "Running preprocessing...\n",
      "Preprocessing complete.\n",
      "Calculating layout...\n",
      "Layout calculated using kamada_kawai_layout.\n",
      "Preparing data sources...\n",
      "Creating plot...\n",
      "Creating search widgets...\n",
      "Creating legends...\n",
      "Arranging layout...\n",
      "Displaying plot.\n"
     ]
    }
   ],
   "source": [
    "import sys\n",
    "import os\n",
    "\n",
    "parent_dir = os.path.dirname(os.getcwd())\n",
    "sys.path.append(parent_dir)\n",
    "\n",
    "from graph.graph_viz import GraphViz\n",
    "viz = GraphViz(g, 'test')\n",
    "viz.preprocessing()\n",
    "viz.visulization()"
   ]
  },
  {
   "cell_type": "markdown",
   "id": "df28f699",
   "metadata": {},
   "source": [
    "## Basic Search\n",
    "- basic search for the following information based on user input:\n",
    "    - search_citation: enable search along citation chain\n",
    "        - 'reference': papers cited by seeds\n",
    "        - 'citing': papers cites seeds\n",
    "        - 'both': all of the above\n",
    "    - search_author: search on seed papers authors\n",
    "        - would get authors information and other publications from the authors\n",
    "    - find_recommend: get recommended papers based on seed papers\n",
    "    "
   ]
  },
  {
   "cell_type": "markdown",
   "id": "33a1dc74",
   "metadata": {},
   "source": [
    "### Paper Search"
   ]
  },
  {
   "cell_type": "code",
   "execution_count": 8,
   "id": "8eefe5e0",
   "metadata": {},
   "outputs": [],
   "source": [
    "search_citation = \"both\"\n",
    "search_author = True\n",
    "find_recommend = True"
   ]
  },
  {
   "cell_type": "code",
   "execution_count": null,
   "id": "3586ee7c",
   "metadata": {},
   "outputs": [
    {
     "name": "stderr",
     "output_type": "stream",
     "text": [
      "2025-04-15 09:16:42,883 - INFO - Preparing author info task for 27 authors.\n",
      "2025-04-15 09:16:42,883 - INFO - SemanticScholarKit initialized with max_concurrency=10, sleep_interval=3.0s\n",
      "2025-04-15 09:16:42,884 - INFO - Preparing reference/citation tasks for 4 seed papers.\n",
      "2025-04-15 09:16:42,884 - INFO - SemanticScholarKit initialized with max_concurrency=10, sleep_interval=3.0s\n",
      "2025-04-15 09:16:42,884 - INFO - Preparing recommendations task.\n",
      "2025-04-15 09:16:42,884 - INFO - SemanticScholarKit initialized with max_concurrency=10, sleep_interval=3.0s\n",
      "2025-04-15 09:16:42,885 - INFO - Running 10 main data collection tasks concurrently...\n",
      "2025-04-15 09:16:42,885 - INFO - Fetching info for 27 authors...\n",
      "2025-04-15 09:16:42,885 - INFO - async_search_author_by_ids: Fetching 27 authors by ID in 1 batches.\n",
      "2025-04-15 09:16:42,885 - INFO - async_search_author_by_ids: Gathering 1 tasks...\n",
      "2025-04-15 09:16:42,886 - INFO - Fetching papers cited by 10.48550/arXiv.2406.10252...\n",
      "2025-04-15 09:16:42,886 - INFO - async_get_s2_cited_papers: Fetching references for paper 10.48550/arXiv.2406.10252 with effective limit 100.\n",
      "2025-04-15 09:16:42,886 - INFO - Fetching papers citing 10.48550/arXiv.2406.10252...\n",
      "2025-04-15 09:16:42,886 - INFO - _sync_get_paper_references: Thread started for paper 10.48550/arXiv.2406.10252 with limit 100.\n",
      "2025-04-15 09:16:42,886 - INFO - async_get_s2_citing_papers: Fetching citations for paper 10.48550/arXiv.2406.10252 with effective limit 100.\n",
      "2025-04-15 09:16:42,887 - INFO - Fetching papers cited by 10.48550/arXiv.2412.10415...\n",
      "2025-04-15 09:16:42,887 - INFO - _sync_get_paper_citations: Thread started for paper 10.48550/arXiv.2406.10252 with limit 100.\n",
      "2025-04-15 09:16:42,887 - INFO - async_get_s2_cited_papers: Fetching references for paper 10.48550/arXiv.2412.10415 with effective limit 100.\n",
      "2025-04-15 09:16:42,888 - INFO - Fetching papers citing 10.48550/arXiv.2412.10415...\n",
      "2025-04-15 09:16:42,888 - INFO - async_get_s2_citing_papers: Fetching citations for paper 10.48550/arXiv.2412.10415 with effective limit 100.\n",
      "2025-04-15 09:16:42,888 - INFO - Fetching papers cited by 10.48550/arXiv.2402.12928...\n",
      "2025-04-15 09:16:42,888 - INFO - _sync_get_paper_references: Thread started for paper 10.48550/arXiv.2412.10415 with limit 100.\n",
      "2025-04-15 09:16:42,889 - INFO - _sync_get_paper_citations: Thread started for paper 10.48550/arXiv.2412.10415 with limit 100.\n",
      "2025-04-15 09:16:42,889 - INFO - async_get_s2_cited_papers: Fetching references for paper 10.48550/arXiv.2402.12928 with effective limit 100.\n",
      "2025-04-15 09:16:42,891 - INFO - _sync_get_paper_references: Thread started for paper 10.48550/arXiv.2402.12928 with limit 100.\n",
      "2025-04-15 09:16:42,891 - INFO - Fetching papers citing 10.48550/arXiv.2402.12928...\n",
      "2025-04-15 09:16:42,893 - INFO - async_get_s2_citing_papers: Fetching citations for paper 10.48550/arXiv.2402.12928 with effective limit 100.\n",
      "2025-04-15 09:16:42,894 - INFO - _sync_get_paper_citations: Thread started for paper 10.48550/arXiv.2402.12928 with limit 100.\n",
      "2025-04-15 09:16:42,895 - INFO - Fetching papers cited by 10.48550/arXiv.2503.01424...\n",
      "2025-04-15 09:16:42,895 - INFO - async_get_s2_cited_papers: Fetching references for paper 10.48550/arXiv.2503.01424 with effective limit 100.\n",
      "2025-04-15 09:16:42,896 - INFO - _sync_get_paper_references: Thread started for paper 10.48550/arXiv.2503.01424 with limit 100.\n",
      "2025-04-15 09:16:42,897 - INFO - Fetching papers citing 10.48550/arXiv.2503.01424...\n",
      "2025-04-15 09:16:42,898 - INFO - async_get_s2_citing_papers: Fetching citations for paper 10.48550/arXiv.2503.01424 with effective limit 100.\n",
      "2025-04-15 09:16:42,899 - INFO - _sync_get_paper_citations: Thread started for paper 10.48550/arXiv.2503.01424 with limit 100.\n",
      "2025-04-15 09:16:42,900 - INFO - Fetching recommendations based on 4 papers...\n",
      "2025-04-15 09:16:42,902 - INFO - async_get_s2_recommended_papers: Fetching recommendations based on 4 positive IDs with effective limit 50.\n",
      "2025-04-15 09:16:42,903 - INFO - _sync_get_recommended_papers: Thread started based on 4 positive IDs (first 5: ['10.48550/arXiv.2406.10252', '10.48550/arXiv.2412.10415', '10.48550/arXiv.2402.12928', '10.48550/arXiv.2503.01424']...) with limit 50.\n",
      "2025-04-15 09:16:42,904 - INFO - _sync_get_authors: Thread started for batch (27 IDs, first 5: ['2108024279', '2273779175', '2286328804', '2116271777', '2262020955']...).\n"
     ]
    },
    {
     "name": "stdout",
     "output_type": "stream",
     "text": [
      "--- Getting More Information Related to Seed Papers ---\n"
     ]
    },
    {
     "name": "stderr",
     "output_type": "stream",
     "text": [
      "2025-04-15 09:16:43,952 - INFO - HTTP Request: GET https://api.semanticscholar.org/graph/v1/paper/10.48550/arXiv.2412.10415/citations?fields=contexts%2Cintents%2CcontextsWithIntent%2CisInfluential%2Cabstract%2Cauthors%2CcitationCount%2CcitationStyles%2CcorpusId%2CexternalIds%2CfieldsOfStudy%2CinfluentialCitationCount%2CisOpenAccess%2Cjournal%2CopenAccessPdf%2CpaperId%2CpublicationDate%2CpublicationTypes%2CpublicationVenue%2CreferenceCount%2Cs2FieldsOfStudy%2Ctitle%2Curl%2Cvenue%2Cyear&offset=0&limit=100 \"HTTP/1.1 200 OK\"\n",
      "2025-04-15 09:16:43,953 - INFO - HTTP Request: GET https://api.semanticscholar.org/graph/v1/paper/10.48550/arXiv.2402.12928/citations?fields=contexts%2Cintents%2CcontextsWithIntent%2CisInfluential%2Cabstract%2Cauthors%2CcitationCount%2CcitationStyles%2CcorpusId%2CexternalIds%2CfieldsOfStudy%2CinfluentialCitationCount%2CisOpenAccess%2Cjournal%2CopenAccessPdf%2CpaperId%2CpublicationDate%2CpublicationTypes%2CpublicationVenue%2CreferenceCount%2Cs2FieldsOfStudy%2Ctitle%2Curl%2Cvenue%2Cyear&offset=0&limit=100 \"HTTP/1.1 200 OK\"\n",
      "2025-04-15 09:16:43,953 - INFO - HTTP Request: GET https://api.semanticscholar.org/graph/v1/paper/10.48550/arXiv.2503.01424/citations?fields=contexts%2Cintents%2CcontextsWithIntent%2CisInfluential%2Cabstract%2Cauthors%2CcitationCount%2CcitationStyles%2CcorpusId%2CexternalIds%2CfieldsOfStudy%2CinfluentialCitationCount%2CisOpenAccess%2Cjournal%2CopenAccessPdf%2CpaperId%2CpublicationDate%2CpublicationTypes%2CpublicationVenue%2CreferenceCount%2Cs2FieldsOfStudy%2Ctitle%2Curl%2Cvenue%2Cyear&offset=0&limit=100 \"HTTP/1.1 200 OK\"\n",
      "2025-04-15 09:16:43,954 - INFO - _sync_get_paper_citations: API call successful for paper 10.48550/arXiv.2412.10415, returning 1 items.\n",
      "2025-04-15 09:16:43,955 - INFO - _sync_get_paper_citations: API call successful for paper 10.48550/arXiv.2402.12928, returning 0 items.\n",
      "2025-04-15 09:16:43,956 - INFO - _sync_get_paper_citations: API call successful for paper 10.48550/arXiv.2503.01424, returning 0 items.\n",
      "2025-04-15 09:16:44,204 - INFO - HTTP Request: GET https://api.semanticscholar.org/graph/v1/paper/10.48550/arXiv.2406.10252/citations?fields=contexts%2Cintents%2CcontextsWithIntent%2CisInfluential%2Cabstract%2Cauthors%2CcitationCount%2CcitationStyles%2CcorpusId%2CexternalIds%2CfieldsOfStudy%2CinfluentialCitationCount%2CisOpenAccess%2Cjournal%2CopenAccessPdf%2CpaperId%2CpublicationDate%2CpublicationTypes%2CpublicationVenue%2CreferenceCount%2Cs2FieldsOfStudy%2Ctitle%2Curl%2Cvenue%2Cyear&offset=0&limit=100 \"HTTP/1.1 200 OK\"\n",
      "2025-04-15 09:16:44,289 - INFO - _sync_get_paper_citations: API call successful for paper 10.48550/arXiv.2406.10252, returning 14 items.\n",
      "2025-04-15 09:16:44,304 - INFO - HTTP Request: GET https://api.semanticscholar.org/graph/v1/paper/10.48550/arXiv.2412.10415/references?fields=contexts%2Cintents%2CcontextsWithIntent%2CisInfluential%2Cabstract%2Cauthors%2CcitationCount%2CcitationStyles%2CcorpusId%2CexternalIds%2CfieldsOfStudy%2CinfluentialCitationCount%2CisOpenAccess%2Cjournal%2CopenAccessPdf%2CpaperId%2CpublicationDate%2CpublicationTypes%2CpublicationVenue%2CreferenceCount%2Cs2FieldsOfStudy%2Ctitle%2Curl%2Cvenue%2Cyear&offset=0&limit=100 \"HTTP/1.1 200 OK\"\n",
      "2025-04-15 09:16:44,330 - INFO - HTTP Request: POST https://api.semanticscholar.org/graph/v1/author/batch?fields=affiliations%2CauthorId%2CcitationCount%2CexternalIds%2ChIndex%2Chomepage%2Cname%2CpaperCount%2Cpapers%2Cpapers.abstract%2Cpapers.authors%2Cpapers.citationCount%2Cpapers.corpusId%2Cpapers.externalIds%2Cpapers.fieldsOfStudy%2Cpapers.influentialCitationCount%2Cpapers.isOpenAccess%2Cpapers.journal%2Cpapers.openAccessPdf%2Cpapers.paperId%2Cpapers.publicationDate%2Cpapers.publicationTypes%2Cpapers.publicationVenue%2Cpapers.referenceCount%2Cpapers.s2FieldsOfStudy%2Cpapers.title%2Cpapers.url%2Cpapers.venue%2Cpapers.year%2Curl \"HTTP/1.1 200 OK\"\n",
      "2025-04-15 09:16:44,351 - INFO - HTTP Request: GET https://api.semanticscholar.org/graph/v1/paper/10.48550/arXiv.2406.10252/references?fields=contexts%2Cintents%2CcontextsWithIntent%2CisInfluential%2Cabstract%2Cauthors%2CcitationCount%2CcitationStyles%2CcorpusId%2CexternalIds%2CfieldsOfStudy%2CinfluentialCitationCount%2CisOpenAccess%2Cjournal%2CopenAccessPdf%2CpaperId%2CpublicationDate%2CpublicationTypes%2CpublicationVenue%2CreferenceCount%2Cs2FieldsOfStudy%2Ctitle%2Curl%2Cvenue%2Cyear&offset=0&limit=100 \"HTTP/1.1 200 OK\"\n",
      "2025-04-15 09:16:44,809 - INFO - HTTP Request: GET https://api.semanticscholar.org/graph/v1/paper/10.48550/arXiv.2503.01424/references?fields=contexts%2Cintents%2CcontextsWithIntent%2CisInfluential%2Cabstract%2Cauthors%2CcitationCount%2CcitationStyles%2CcorpusId%2CexternalIds%2CfieldsOfStudy%2CinfluentialCitationCount%2CisOpenAccess%2Cjournal%2CopenAccessPdf%2CpaperId%2CpublicationDate%2CpublicationTypes%2CpublicationVenue%2CreferenceCount%2Cs2FieldsOfStudy%2Ctitle%2Curl%2Cvenue%2Cyear&offset=0&limit=100 \"HTTP/1.1 200 OK\"\n",
      "2025-04-15 09:16:44,838 - INFO - HTTP Request: GET https://api.semanticscholar.org/graph/v1/paper/10.48550/arXiv.2402.12928/references?fields=contexts%2Cintents%2CcontextsWithIntent%2CisInfluential%2Cabstract%2Cauthors%2CcitationCount%2CcitationStyles%2CcorpusId%2CexternalIds%2CfieldsOfStudy%2CinfluentialCitationCount%2CisOpenAccess%2Cjournal%2CopenAccessPdf%2CpaperId%2CpublicationDate%2CpublicationTypes%2CpublicationVenue%2CreferenceCount%2Cs2FieldsOfStudy%2Ctitle%2Curl%2Cvenue%2Cyear&offset=0&limit=100 \"HTTP/1.1 200 OK\"\n",
      "2025-04-15 09:16:44,863 - INFO - _sync_get_paper_references: API call successful for paper 10.48550/arXiv.2412.10415, returning 67 items.\n",
      "2025-04-15 09:16:44,872 - INFO - _sync_get_paper_references: API call successful for paper 10.48550/arXiv.2406.10252, returning 54 items.\n",
      "2025-04-15 09:16:45,322 - INFO - _sync_get_authors: API call successful for batch (first 5: ['2108024279', '2273779175', '2286328804', '2116271777', '2262020955']...), returning 27 items.\n",
      "2025-04-15 09:16:46,923 - INFO - HTTP Request: GET https://api.semanticscholar.org/graph/v1/paper/10.48550/arXiv.2402.12928/references?fields=contexts%2Cintents%2CcontextsWithIntent%2CisInfluential%2Cabstract%2Cauthors%2CcitationCount%2CcitationStyles%2CcorpusId%2CexternalIds%2CfieldsOfStudy%2CinfluentialCitationCount%2CisOpenAccess%2Cjournal%2CopenAccessPdf%2CpaperId%2CpublicationDate%2CpublicationTypes%2CpublicationVenue%2CreferenceCount%2Cs2FieldsOfStudy%2Ctitle%2Curl%2Cvenue%2Cyear&offset=100&limit=100 \"HTTP/1.1 200 OK\"\n",
      "2025-04-15 09:16:46,958 - INFO - Fetching abstracts for 1 citing papers.\n",
      "2025-04-15 09:16:46,959 - INFO - async_search_paper_by_ids: Creating 1 tasks for 1 IDs.\n",
      "2025-04-15 09:16:46,959 - INFO - async_search_paper_by_ids: Gathering 1 tasks...\n",
      "2025-04-15 09:16:46,959 - INFO - Processing 0 citing papers for 10.48550/arXiv.2402.12928.\n",
      "2025-04-15 09:16:46,959 - INFO - Processing 0 citing papers for 10.48550/arXiv.2503.01424.\n",
      "2025-04-15 09:16:46,960 - INFO - _sync_get_papers: Thread started for batch (1 IDs, first 5: ['987d0cbe751780b9b993ebf8e670fb0d18fdaabe']...).\n",
      "2025-04-15 09:16:47,290 - INFO - Fetching abstracts for 14 citing papers.\n",
      "2025-04-15 09:16:47,291 - INFO - async_search_paper_by_ids: Creating 1 tasks for 14 IDs.\n",
      "2025-04-15 09:16:47,292 - INFO - async_search_paper_by_ids: Gathering 1 tasks...\n",
      "2025-04-15 09:16:47,293 - INFO - _sync_get_papers: Thread started for batch (14 IDs, first 5: ['374d1e5fd7385353a4a0add1fadce23667662265', 'd6f12d83ccf1d8201922fd63e37679188e9043c2', '9f3ae8055e227edb413c54417c9c216f1f554f52', 'a69660612c4845e7b7aa6a38aa43cf3fa1f8c717', '990f27e2ed2ceeadae4b4b7fe3ba38ae6a6cefce']...).\n",
      "2025-04-15 09:16:47,491 - INFO - HTTP Request: POST https://api.semanticscholar.org/recommendations/v1/papers/?fields=abstract%2Cauthors%2CcitationCount%2CcitationStyles%2CcorpusId%2CexternalIds%2CfieldsOfStudy%2CinfluentialCitationCount%2CisOpenAccess%2Cjournal%2CopenAccessPdf%2CpaperId%2CpublicationDate%2CpublicationTypes%2CpublicationVenue%2CreferenceCount%2Cs2FieldsOfStudy%2Ctitle%2Curl%2Cvenue%2Cyear&limit=50 \"HTTP/1.1 200 OK\"\n",
      "2025-04-15 09:16:47,507 - INFO - _sync_get_paper_references: API call successful for paper 10.48550/arXiv.2402.12928, returning 163 items.\n",
      "2025-04-15 09:16:47,513 - INFO - HTTP Request: GET https://api.semanticscholar.org/graph/v1/paper/10.48550/arXiv.2503.01424/references?fields=contexts%2Cintents%2CcontextsWithIntent%2CisInfluential%2Cabstract%2Cauthors%2CcitationCount%2CcitationStyles%2CcorpusId%2CexternalIds%2CfieldsOfStudy%2CinfluentialCitationCount%2CisOpenAccess%2Cjournal%2CopenAccessPdf%2CpaperId%2CpublicationDate%2CpublicationTypes%2CpublicationVenue%2CreferenceCount%2Cs2FieldsOfStudy%2Ctitle%2Curl%2Cvenue%2Cyear&offset=100&limit=100 \"HTTP/1.1 200 OK\"\n",
      "2025-04-15 09:16:47,862 - INFO - _sync_get_recommended_papers: API call successful, returning 50 items.\n",
      "2025-04-15 09:16:47,865 - INFO - Fetching abstracts for 45 cited papers (references).\n",
      "2025-04-15 09:16:47,865 - INFO - async_search_paper_by_ids: Creating 1 tasks for 45 IDs.\n",
      "2025-04-15 09:16:47,866 - INFO - async_search_paper_by_ids: Gathering 1 tasks...\n",
      "2025-04-15 09:16:47,867 - INFO - _sync_get_papers: Thread started for batch (45 IDs, first 5: ['f08060425aa8a212d74185ee23a08329b89abcd2', 'ac746dbd1b1c9544c4c24b5bbbb5431ac3b5d601', '20d0dbcdcf9356396086fe1bbd77637f65b9da1f', '62729cff7dda7614f648a84e8967076d8878a5ff', 'f3bcb9395d8b912361cc534f00e837c832000150']...).\n",
      "2025-04-15 09:16:47,874 - INFO - Fetching abstracts for 41 cited papers (references).\n",
      "2025-04-15 09:16:47,874 - INFO - async_search_paper_by_ids: Creating 1 tasks for 41 IDs.\n",
      "2025-04-15 09:16:47,875 - INFO - async_search_paper_by_ids: Gathering 1 tasks...\n",
      "2025-04-15 09:16:47,875 - INFO - _sync_get_papers: Thread started for batch (41 IDs, first 5: ['e7c97e953849f1a8e5d85ceb4cfcc0a5d54d2365', 'ed0d0f6a16909543706b8ea66a8fe50bc3416e34', '3def68bd0f856886d34272840a7f81588f2bc082', '121aef49e5fbe8d9dc829adaa472a44aff84f4f5', 'b31a5884a8ebe96b6300839b28608b97f8f8ef76']...).\n",
      "2025-04-15 09:16:47,992 - INFO - HTTP Request: POST https://api.semanticscholar.org/graph/v1/paper/batch?fields=abstract%2Cauthors%2CcitationCount%2CcitationStyles%2CcorpusId%2CexternalIds%2CfieldsOfStudy%2CinfluentialCitationCount%2CisOpenAccess%2Cjournal%2CopenAccessPdf%2CpaperId%2CpublicationDate%2CpublicationTypes%2CpublicationVenue%2CreferenceCount%2Cs2FieldsOfStudy%2Ctitle%2Curl%2Cvenue%2Cyear \"HTTP/1.1 200 OK\"\n",
      "2025-04-15 09:16:47,994 - INFO - _sync_get_papers: API call successful for batch (first 5: ['987d0cbe751780b9b993ebf8e670fb0d18fdaabe']...), returning 1 items.\n",
      "2025-04-15 09:16:48,324 - INFO - async_search_author_by_ids: Gather complete. Processing results.\n",
      "2025-04-15 09:16:48,326 - INFO - Fetching abstracts for 208 papers from authors (using controlled search).\n",
      "2025-04-15 09:16:48,326 - INFO - async_search_paper_by_ids: Creating 3 tasks for 208 IDs.\n",
      "2025-04-15 09:16:48,327 - INFO - async_search_paper_by_ids: Gathering 3 tasks...\n",
      "2025-04-15 09:16:48,328 - INFO - _sync_get_papers: Thread started for batch (100 IDs, first 5: ['303cee259e056ee2c27f5609ff5b0001d0e4317b', '2b84a5f8a62464df648f7a8278175de1e8bf2e1a', 'b92766380b6a161fcb34434a088a339ff49c2226', 'eafd785386b036520bd1d260c25c09eb1bd8de7d', '44a517b5d9acdcc032c7001a034ba953d9aa787e']...).\n",
      "2025-04-15 09:16:48,328 - INFO - _sync_get_papers: Thread started for batch (100 IDs, first 5: ['39acaf86de56a9054ccab9af1594395e2991c9ac', 'd868b47145323e06302c6bc6b29139cf4075626c', '218956012927bbc0dbbfd94354a56e16a6f38489', 'fde6d38cc1655fa7bf24b6fc5405382c77879e26', '80d189e5fb45a8b66956758bf75ec2f2cd9f6317']...).\n",
      "2025-04-15 09:16:48,328 - INFO - _sync_get_papers: Thread started for batch (8 IDs, first 5: ['d15091e73f7295ba8c0bdbabe0b7188307c96039', 'c2d140865e25bbb5a76e167baf48083cb38066dd', '37ba1833e844f5178f91f50d82bfff616551e6ad', '982fd080ff62faef5f81c6d9bf4c03e65d733475', '9262890ea10dbf0746cb6b0c34215aafe930fe83']...).\n",
      "2025-04-15 09:16:48,371 - INFO - HTTP Request: POST https://api.semanticscholar.org/graph/v1/paper/batch?fields=abstract%2Cauthors%2CcitationCount%2CcitationStyles%2CcorpusId%2CexternalIds%2CfieldsOfStudy%2CinfluentialCitationCount%2CisOpenAccess%2Cjournal%2CopenAccessPdf%2CpaperId%2CpublicationDate%2CpublicationTypes%2CpublicationVenue%2CreferenceCount%2Cs2FieldsOfStudy%2Ctitle%2Curl%2Cvenue%2Cyear \"HTTP/1.1 200 OK\"\n",
      "2025-04-15 09:16:48,574 - INFO - _sync_get_papers: API call successful for batch (first 5: ['374d1e5fd7385353a4a0add1fadce23667662265', 'd6f12d83ccf1d8201922fd63e37679188e9043c2', '9f3ae8055e227edb413c54417c9c216f1f554f52', 'a69660612c4845e7b7aa6a38aa43cf3fa1f8c717', '990f27e2ed2ceeadae4b4b7fe3ba38ae6a6cefce']...), returning 14 items.\n",
      "2025-04-15 09:16:49,101 - INFO - HTTP Request: POST https://api.semanticscholar.org/graph/v1/paper/batch?fields=abstract%2Cauthors%2CcitationCount%2CcitationStyles%2CcorpusId%2CexternalIds%2CfieldsOfStudy%2CinfluentialCitationCount%2CisOpenAccess%2Cjournal%2CopenAccessPdf%2CpaperId%2CpublicationDate%2CpublicationTypes%2CpublicationVenue%2CreferenceCount%2Cs2FieldsOfStudy%2Ctitle%2Curl%2Cvenue%2Cyear \"HTTP/1.1 200 OK\"\n",
      "2025-04-15 09:16:49,152 - INFO - HTTP Request: POST https://api.semanticscholar.org/graph/v1/paper/batch?fields=abstract%2Cauthors%2CcitationCount%2CcitationStyles%2CcorpusId%2CexternalIds%2CfieldsOfStudy%2CinfluentialCitationCount%2CisOpenAccess%2Cjournal%2CopenAccessPdf%2CpaperId%2CpublicationDate%2CpublicationTypes%2CpublicationVenue%2CreferenceCount%2Cs2FieldsOfStudy%2Ctitle%2Curl%2Cvenue%2Cyear \"HTTP/1.1 200 OK\"\n",
      "2025-04-15 09:16:49,443 - INFO - HTTP Request: POST https://api.semanticscholar.org/graph/v1/paper/batch?fields=abstract%2Cauthors%2CcitationCount%2CcitationStyles%2CcorpusId%2CexternalIds%2CfieldsOfStudy%2CinfluentialCitationCount%2CisOpenAccess%2Cjournal%2CopenAccessPdf%2CpaperId%2CpublicationDate%2CpublicationTypes%2CpublicationVenue%2CreferenceCount%2Cs2FieldsOfStudy%2Ctitle%2Curl%2Cvenue%2Cyear \"HTTP/1.1 200 OK\"\n",
      "2025-04-15 09:16:49,495 - INFO - _sync_get_papers: API call successful for batch (first 5: ['d15091e73f7295ba8c0bdbabe0b7188307c96039', 'c2d140865e25bbb5a76e167baf48083cb38066dd', '37ba1833e844f5178f91f50d82bfff616551e6ad', '982fd080ff62faef5f81c6d9bf4c03e65d733475', '9262890ea10dbf0746cb6b0c34215aafe930fe83']...), returning 8 items.\n",
      "2025-04-15 09:16:49,588 - INFO - _sync_get_papers: API call successful for batch (first 5: ['e7c97e953849f1a8e5d85ceb4cfcc0a5d54d2365', 'ed0d0f6a16909543706b8ea66a8fe50bc3416e34', '3def68bd0f856886d34272840a7f81588f2bc082', '121aef49e5fbe8d9dc829adaa472a44aff84f4f5', 'b31a5884a8ebe96b6300839b28608b97f8f8ef76']...), returning 41 items.\n",
      "2025-04-15 09:16:49,633 - INFO - _sync_get_papers: API call successful for batch (first 5: ['f08060425aa8a212d74185ee23a08329b89abcd2', 'ac746dbd1b1c9544c4c24b5bbbb5431ac3b5d601', '20d0dbcdcf9356396086fe1bbd77637f65b9da1f', '62729cff7dda7614f648a84e8967076d8878a5ff', 'f3bcb9395d8b912361cc534f00e837c832000150']...), returning 45 items.\n",
      "2025-04-15 09:16:49,638 - INFO - HTTP Request: GET https://api.semanticscholar.org/graph/v1/paper/10.48550/arXiv.2503.01424/references?fields=contexts%2Cintents%2CcontextsWithIntent%2CisInfluential%2Cabstract%2Cauthors%2CcitationCount%2CcitationStyles%2CcorpusId%2CexternalIds%2CfieldsOfStudy%2CinfluentialCitationCount%2CisOpenAccess%2Cjournal%2CopenAccessPdf%2CpaperId%2CpublicationDate%2CpublicationTypes%2CpublicationVenue%2CreferenceCount%2Cs2FieldsOfStudy%2Ctitle%2Curl%2Cvenue%2Cyear&offset=200&limit=100 \"HTTP/1.1 200 OK\"\n",
      "2025-04-15 09:16:49,968 - INFO - _sync_get_paper_references: API call successful for paper 10.48550/arXiv.2503.01424, returning 252 items.\n",
      "2025-04-15 09:16:50,047 - INFO - HTTP Request: POST https://api.semanticscholar.org/graph/v1/paper/batch?fields=abstract%2Cauthors%2CcitationCount%2CcitationStyles%2CcorpusId%2CexternalIds%2CfieldsOfStudy%2CinfluentialCitationCount%2CisOpenAccess%2Cjournal%2CopenAccessPdf%2CpaperId%2CpublicationDate%2CpublicationTypes%2CpublicationVenue%2CreferenceCount%2Cs2FieldsOfStudy%2Ctitle%2Curl%2Cvenue%2Cyear \"HTTP/1.1 200 OK\"\n",
      "2025-04-15 09:16:50,152 - INFO - HTTP Request: POST https://api.semanticscholar.org/graph/v1/paper/batch?fields=abstract%2Cauthors%2CcitationCount%2CcitationStyles%2CcorpusId%2CexternalIds%2CfieldsOfStudy%2CinfluentialCitationCount%2CisOpenAccess%2Cjournal%2CopenAccessPdf%2CpaperId%2CpublicationDate%2CpublicationTypes%2CpublicationVenue%2CreferenceCount%2Cs2FieldsOfStudy%2Ctitle%2Curl%2Cvenue%2Cyear \"HTTP/1.1 200 OK\"\n",
      "2025-04-15 09:16:50,510 - INFO - Fetching abstracts for 128 cited papers (references).\n",
      "2025-04-15 09:16:50,511 - INFO - async_search_paper_by_ids: Creating 2 tasks for 128 IDs.\n",
      "2025-04-15 09:16:50,512 - INFO - async_search_paper_by_ids: Gathering 2 tasks...\n",
      "2025-04-15 09:16:50,512 - INFO - _sync_get_papers: Thread started for batch (100 IDs, first 5: ['9d748af3521b51648a91a7e807db4d5270d2e240', 'cd91eb2089108661fda9fd4daff32b08418f995e', 'dcb74fb63acd87d3db0a77de89720300fb28b50a', '55635aac4cd439a00356f83dad52bd8d7b0ea87e', 'd40c77c010c8dbef6142903a02f2a73a85012d5d']...).\n",
      "2025-04-15 09:16:50,513 - INFO - _sync_get_papers: Thread started for batch (28 IDs, first 5: ['c916f21c327bd9dd95033aa584d9fe774a96a3b0', 'c5de8b8d1ca58bca4f6edf4238bfb5c4332ed598', '17dfbf1234e87e9286e1adccc19aa1d15e541aa7', 'af5e925496940771c51146922fddf3c2886cec78', 'af6dcc563ffbe665ddf561f66a1e3fbb6f28bb2d']...).\n",
      "2025-04-15 09:16:50,780 - INFO - _sync_get_papers: API call successful for batch (first 5: ['39acaf86de56a9054ccab9af1594395e2991c9ac', 'd868b47145323e06302c6bc6b29139cf4075626c', '218956012927bbc0dbbfd94354a56e16a6f38489', 'fde6d38cc1655fa7bf24b6fc5405382c77879e26', '80d189e5fb45a8b66956758bf75ec2f2cd9f6317']...), returning 100 items.\n",
      "2025-04-15 09:16:50,864 - INFO - Fetching abstracts for 46 recommended papers.\n",
      "2025-04-15 09:16:50,866 - INFO - async_search_paper_by_ids: Creating 1 tasks for 46 IDs.\n",
      "2025-04-15 09:16:50,866 - INFO - async_search_paper_by_ids: Gathering 1 tasks...\n",
      "2025-04-15 09:16:50,867 - INFO - _sync_get_papers: Thread started for batch (46 IDs, first 5: ['210cbfb52fd03f2c75e01efe4157e7ff3e032e91', '235992701c6e70872f5292fd5818d5c5719063de', '0f5978f91ea75524fa2bb20af5cdb34709b9771f', '61a3d27beacc14303d3500ac647122fd32329b35', '4f8c74bb3d4100c6ef0831e8b7901c6f8dff5573']...).\n",
      "2025-04-15 09:16:50,894 - INFO - _sync_get_papers: API call successful for batch (first 5: ['303cee259e056ee2c27f5609ff5b0001d0e4317b', '2b84a5f8a62464df648f7a8278175de1e8bf2e1a', 'b92766380b6a161fcb34434a088a339ff49c2226', 'eafd785386b036520bd1d260c25c09eb1bd8de7d', '44a517b5d9acdcc032c7001a034ba953d9aa787e']...), returning 100 items.\n",
      "2025-04-15 09:16:50,996 - INFO - async_search_paper_by_ids: Gather complete. Processing results.\n",
      "2025-04-15 09:16:50,997 - INFO - Found abstracts for 1 citing papers.\n",
      "2025-04-15 09:16:50,997 - INFO - Processing 1 citing papers for 10.48550/arXiv.2412.10415.\n",
      "2025-04-15 09:16:51,576 - INFO - async_search_paper_by_ids: Gather complete. Processing results.\n",
      "2025-04-15 09:16:51,577 - INFO - Found abstracts for 14 citing papers.\n",
      "2025-04-15 09:16:51,577 - INFO - Processing 14 citing papers for 10.48550/arXiv.2406.10252.\n",
      "2025-04-15 09:16:51,729 - INFO - HTTP Request: POST https://api.semanticscholar.org/graph/v1/paper/batch?fields=abstract%2Cauthors%2CcitationCount%2CcitationStyles%2CcorpusId%2CexternalIds%2CfieldsOfStudy%2CinfluentialCitationCount%2CisOpenAccess%2Cjournal%2CopenAccessPdf%2CpaperId%2CpublicationDate%2CpublicationTypes%2CpublicationVenue%2CreferenceCount%2Cs2FieldsOfStudy%2Ctitle%2Curl%2Cvenue%2Cyear \"HTTP/1.1 200 OK\"\n",
      "2025-04-15 09:16:51,990 - INFO - HTTP Request: POST https://api.semanticscholar.org/graph/v1/paper/batch?fields=abstract%2Cauthors%2CcitationCount%2CcitationStyles%2CcorpusId%2CexternalIds%2CfieldsOfStudy%2CinfluentialCitationCount%2CisOpenAccess%2Cjournal%2CopenAccessPdf%2CpaperId%2CpublicationDate%2CpublicationTypes%2CpublicationVenue%2CreferenceCount%2Cs2FieldsOfStudy%2Ctitle%2Curl%2Cvenue%2Cyear \"HTTP/1.1 200 OK\"\n",
      "2025-04-15 09:16:52,031 - INFO - _sync_get_papers: API call successful for batch (first 5: ['c916f21c327bd9dd95033aa584d9fe774a96a3b0', 'c5de8b8d1ca58bca4f6edf4238bfb5c4332ed598', '17dfbf1234e87e9286e1adccc19aa1d15e541aa7', 'af5e925496940771c51146922fddf3c2886cec78', 'af6dcc563ffbe665ddf561f66a1e3fbb6f28bb2d']...), returning 28 items.\n",
      "2025-04-15 09:16:52,181 - INFO - HTTP Request: POST https://api.semanticscholar.org/graph/v1/paper/batch?fields=abstract%2Cauthors%2CcitationCount%2CcitationStyles%2CcorpusId%2CexternalIds%2CfieldsOfStudy%2CinfluentialCitationCount%2CisOpenAccess%2Cjournal%2CopenAccessPdf%2CpaperId%2CpublicationDate%2CpublicationTypes%2CpublicationVenue%2CreferenceCount%2Cs2FieldsOfStudy%2Ctitle%2Curl%2Cvenue%2Cyear \"HTTP/1.1 200 OK\"\n",
      "2025-04-15 09:16:52,589 - INFO - async_search_paper_by_ids: Gather complete. Processing results.\n",
      "2025-04-15 09:16:52,590 - INFO - Found abstracts for 39 cited papers.\n",
      "2025-04-15 09:16:52,590 - INFO - Processing 54 cited papers for 10.48550/arXiv.2406.10252.\n",
      "2025-04-15 09:16:52,635 - INFO - async_search_paper_by_ids: Gather complete. Processing results.\n",
      "2025-04-15 09:16:52,635 - INFO - Found abstracts for 39 cited papers.\n",
      "2025-04-15 09:16:52,636 - INFO - Processing 67 cited papers for 10.48550/arXiv.2412.10415.\n",
      "2025-04-15 09:16:52,645 - INFO - _sync_get_papers: API call successful for batch (first 5: ['210cbfb52fd03f2c75e01efe4157e7ff3e032e91', '235992701c6e70872f5292fd5818d5c5719063de', '0f5978f91ea75524fa2bb20af5cdb34709b9771f', '61a3d27beacc14303d3500ac647122fd32329b35', '4f8c74bb3d4100c6ef0831e8b7901c6f8dff5573']...), returning 46 items.\n",
      "2025-04-15 09:16:52,686 - INFO - _sync_get_papers: API call successful for batch (first 5: ['9d748af3521b51648a91a7e807db4d5270d2e240', 'cd91eb2089108661fda9fd4daff32b08418f995e', 'dcb74fb63acd87d3db0a77de89720300fb28b50a', '55635aac4cd439a00356f83dad52bd8d7b0ea87e', 'd40c77c010c8dbef6142903a02f2a73a85012d5d']...), returning 100 items.\n",
      "2025-04-15 09:16:52,971 - INFO - Fetching abstracts for 178 cited papers (references).\n",
      "2025-04-15 09:16:52,971 - INFO - async_search_paper_by_ids: Creating 2 tasks for 178 IDs.\n",
      "2025-04-15 09:16:52,972 - INFO - async_search_paper_by_ids: Gathering 2 tasks...\n",
      "2025-04-15 09:16:52,972 - INFO - _sync_get_papers: Thread started for batch (100 IDs, first 5: ['dfab0f3ee6f47e36cccee145794cd117773e6f73', '229b5ad502b2ad028f8474d6abc5bac092d1dcf1', '6f419a8b6a4a3b63287829f2235041853105b657', '77f1d48ecf615eb5403f5256da4e6c2a7e2f58b8', 'e07e9a54f71c598e01f3d868bd02cfec7362eaa4']...).\n",
      "2025-04-15 09:16:52,972 - INFO - _sync_get_papers: Thread started for batch (78 IDs, first 5: ['b40df4b273f255b3cb5639e220c8ab7b1bdb313e', 'fd8c64d0b912795e1cefc0aba4c6d90499132755', 'da17ec7b2867c3e02951c5598936b891ebe865ce', '110f5dc6d5bfe67138d64c261d6851c727021d1f', '7dfbe4882188dbac938306be93bc58b34450b87f']...).\n",
      "2025-04-15 09:16:53,895 - INFO - async_search_paper_by_ids: Gather complete. Processing results.\n",
      "2025-04-15 09:16:53,897 - INFO - Found abstracts for 184 papers.\n",
      "2025-04-15 09:16:53,898 - INFO - Processing metadata for 27 authors.\n",
      "2025-04-15 09:16:54,905 - INFO - HTTP Request: POST https://api.semanticscholar.org/graph/v1/paper/batch?fields=abstract%2Cauthors%2CcitationCount%2CcitationStyles%2CcorpusId%2CexternalIds%2CfieldsOfStudy%2CinfluentialCitationCount%2CisOpenAccess%2Cjournal%2CopenAccessPdf%2CpaperId%2CpublicationDate%2CpublicationTypes%2CpublicationVenue%2CreferenceCount%2Cs2FieldsOfStudy%2Ctitle%2Curl%2Cvenue%2Cyear \"HTTP/1.1 200 OK\"\n",
      "2025-04-15 09:16:55,648 - INFO - async_search_paper_by_ids: Gather complete. Processing results.\n",
      "2025-04-15 09:16:55,649 - INFO - Found abstracts for 46 recommended papers.\n",
      "2025-04-15 09:16:55,649 - INFO - Processing 50 recommended papers.\n",
      "2025-04-15 09:16:55,688 - INFO - async_search_paper_by_ids: Gather complete. Processing results.\n",
      "2025-04-15 09:16:55,689 - INFO - Found abstracts for 77 cited papers.\n",
      "2025-04-15 09:16:55,690 - INFO - Processing 163 cited papers for 10.48550/arXiv.2402.12928.\n",
      "2025-04-15 09:16:55,916 - INFO - _sync_get_papers: API call successful for batch (first 5: ['dfab0f3ee6f47e36cccee145794cd117773e6f73', '229b5ad502b2ad028f8474d6abc5bac092d1dcf1', '6f419a8b6a4a3b63287829f2235041853105b657', '77f1d48ecf615eb5403f5256da4e6c2a7e2f58b8', 'e07e9a54f71c598e01f3d868bd02cfec7362eaa4']...), returning 100 items.\n",
      "2025-04-15 09:16:59,725 - INFO - HTTP Request: POST https://api.semanticscholar.org/graph/v1/paper/batch?fields=abstract%2Cauthors%2CcitationCount%2CcitationStyles%2CcorpusId%2CexternalIds%2CfieldsOfStudy%2CinfluentialCitationCount%2CisOpenAccess%2Cjournal%2CopenAccessPdf%2CpaperId%2CpublicationDate%2CpublicationTypes%2CpublicationVenue%2CreferenceCount%2Cs2FieldsOfStudy%2Ctitle%2Curl%2Cvenue%2Cyear \"HTTP/1.1 200 OK\"\n",
      "2025-04-15 09:17:00,770 - INFO - _sync_get_papers: API call successful for batch (first 5: ['b40df4b273f255b3cb5639e220c8ab7b1bdb313e', 'fd8c64d0b912795e1cefc0aba4c6d90499132755', 'da17ec7b2867c3e02951c5598936b891ebe865ce', '110f5dc6d5bfe67138d64c261d6851c727021d1f', '7dfbe4882188dbac938306be93bc58b34450b87f']...), returning 78 items.\n",
      "2025-04-15 09:17:03,774 - INFO - async_search_paper_by_ids: Gather complete. Processing results.\n",
      "2025-04-15 09:17:03,775 - INFO - Found abstracts for 153 cited papers.\n",
      "2025-04-15 09:17:03,776 - INFO - Processing 252 cited papers for 10.48550/arXiv.2503.01424.\n",
      "2025-04-15 09:17:03,829 - INFO - Main data collection tasks finished.\n",
      "2025-04-15 09:17:03,830 - INFO - Main data collection tasks finished.\n",
      "2025-04-15 09:17:03,830 - INFO - Main data collection tasks finished.\n",
      "2025-04-15 09:17:03,830 - INFO - Main data collection tasks finished.\n",
      "2025-04-15 09:17:03,831 - INFO - Main data collection tasks finished.\n",
      "2025-04-15 09:17:03,831 - INFO - Main data collection tasks finished.\n",
      "2025-04-15 09:17:03,831 - INFO - Main data collection tasks finished.\n",
      "2025-04-15 09:17:03,831 - INFO - Main data collection tasks finished.\n",
      "2025-04-15 09:17:03,831 - INFO - Main data collection tasks finished.\n",
      "2025-04-15 09:17:03,832 - INFO - Main data collection tasks finished.\n",
      "2025-04-15 09:17:03,854 - INFO - Graph state after collection tasks. Nodes: 3986, Edges: 4794\n"
     ]
    }
   ],
   "source": [
    "# --- MORE INFORMATION on SEED ---\n",
    "print(\"--- Getting More Information Related to Seed Papers ---\")\n",
    "# basic search for seed papers\n",
    "# may include seed paper authors, seed paper citation chain, recommendations based on seed papers \n",
    "await ps.collect(\n",
    "    seed_paper_dois=seed_paper_dois,\n",
    "    seed_author_ids=seed_author_ids,\n",
    "    search_citation = search_citation,\n",
    "    search_author = search_author,\n",
    "    find_recommend = find_recommend,\n",
    "    recommend_limit = ps.recommend_limit,\n",
    "    citation_limit = ps.citation_limit,\n",
    "    from_dt = ps.from_dt,\n",
    "    to_dt = ps.to_dt,\n",
    "    fields_of_study = ps.fields_of_study,\n",
    "    )\n",
    "\n",
    "if search_citation in ['reference', 'both']:\n",
    "    ps.explored_nodes['reference'].extend(seed_paper_dois) \n",
    "if search_citation in ['citing', 'both']:\n",
    "    ps.explored_nodes['citing'].extend(seed_paper_dois) \n",
    "if search_author:\n",
    "    ps.explored_nodes['author'].extend(seed_author_ids) "
   ]
  },
  {
   "cell_type": "markdown",
   "id": "9ec67615",
   "metadata": {},
   "source": [
    "### Graph Stat"
   ]
  },
  {
   "cell_type": "code",
   "execution_count": 10,
   "id": "3668f7ff",
   "metadata": {},
   "outputs": [
    {
     "name": "stdout",
     "output_type": "stream",
     "text": [
      "3986 4794 3717 4794\n",
      "[('Author', 2821), ('Paper', 652), ('Journal', 123), ('Venue', 118), ('Affiliation', 3)]\n",
      "[('WRITES', 3882), ('CITES', 377), ('RELEASES_IN', 349), ('PRINTS_ON', 183), ('WORKS_IN', 3)]\n"
     ]
    }
   ],
   "source": [
    "import copy\n",
    "from collections import Counter\n",
    "\n",
    "g = copy.deepcopy(ps.pg.graph)\n",
    "print(len(ps.nodes_json), len(ps.edges_json), len(g.nodes), len(g.edges))\n",
    "\n",
    "# check node types\n",
    "node_types = [g.nodes[nid].get('nodeType') for nid in g.nodes]\n",
    "node_types_cnt = Counter(node_types)\n",
    "# 按计数降序排序\n",
    "sorted_node_counts = node_types_cnt.most_common()\n",
    "print(sorted_node_counts)\n",
    "\n",
    "# check node types\n",
    "edge_types = [d.get('relationshipType') for u, v, d in g.edges(data=True)]\n",
    "edge_types_cnt = Counter(edge_types)\n",
    "# 按计数降序排序\n",
    "sorted_egdes_counts = edge_types_cnt.most_common()\n",
    "print(sorted_egdes_counts)"
   ]
  },
  {
   "cell_type": "markdown",
   "id": "eb88619c",
   "metadata": {},
   "source": [
    "### Graph Viz"
   ]
  },
  {
   "cell_type": "code",
   "execution_count": 11,
   "id": "08e5e31a",
   "metadata": {},
   "outputs": [
    {
     "name": "stdout",
     "output_type": "stream",
     "text": [
      "Running preprocessing...\n",
      "Preprocessing complete.\n",
      "Calculating layout...\n",
      "Graph is large, using spring_layout (may take time)...\n",
      "Layout calculated using spring_layout.\n",
      "Preparing data sources...\n",
      "Creating plot...\n",
      "Creating search widgets...\n",
      "Creating legends...\n",
      "Arranging layout...\n",
      "Displaying plot.\n"
     ]
    }
   ],
   "source": [
    "import sys\n",
    "import os\n",
    "\n",
    "parent_dir = os.path.dirname(os.getcwd())\n",
    "sys.path.append(parent_dir)\n",
    "\n",
    "# from graph.graph_viz import GraphViz\n",
    "viz = GraphViz(g, 'paper graph after basic search')\n",
    "viz.preprocessing()\n",
    "viz.visulization()"
   ]
  },
  {
   "cell_type": "markdown",
   "id": "5a482bd1",
   "metadata": {},
   "source": [
    "### Filter & Ranking"
   ]
  },
  {
   "cell_type": "code",
   "execution_count": 12,
   "id": "a177f7a2",
   "metadata": {},
   "outputs": [],
   "source": [
    "# seed papers\n",
    "seed_paper_dois = [nid for nid in g.nodes \n",
    "                   if g.nodes[nid].get('nodeType')=='Paper' and\n",
    "                      g.nodes[nid].get('from_seed') == True]\n",
    "seed_paper_nodes = [g.nodes[nid] for nid in g.nodes \n",
    "                    if g.nodes[nid].get('nodeType')=='Paper' and\n",
    "                        g.nodes[nid].get('from_seed') == True]\n",
    "\n",
    "seed_author_ids, seed_author_nodes = [], []\n",
    "for doi in seed_paper_dois:\n",
    "    pre_ids = g.predecessors(doi)\n",
    "    for id in pre_ids:\n",
    "        if g.nodes[id].get('nodeType')=='Author':\n",
    "            seed_author_ids.append(id)\n",
    "            seed_author_nodes.append(g.nodes[id])"
   ]
  },
  {
   "cell_type": "markdown",
   "id": "6d8e2c62",
   "metadata": {},
   "source": [
    "Paper Ranking  \n",
    "- most cited papers\n"
   ]
  },
  {
   "cell_type": "markdown",
   "id": "588f51a3",
   "metadata": {},
   "source": [
    "The purpose of most cited papers is to build a common citation chain for seed papers.  \n",
    "A filtering condition is:  \n",
    "- paper cited more than min(# of seed papers, 4)  \n",
    "- rank order by cited in descending, get more than 10 of the papers  \n",
    "- not in seed papers  \n",
    "- may add significance citeria in the future"
   ]
  },
  {
   "cell_type": "code",
   "execution_count": 13,
   "id": "d768b09c",
   "metadata": {},
   "outputs": [],
   "source": [
    "paper_stat = []\n",
    "for n in g.nodes:\n",
    "    if g.nodes[n].get('nodeType') == 'Paper':\n",
    "        in_edges_info = g.in_edges(n, data=True)\n",
    "        cite_cnt = sum([1 for u, v, data in in_edges_info if data.get('relationshipType') == 'CITES'])\n",
    "        paper_stat.append((n, cite_cnt))"
   ]
  },
  {
   "cell_type": "code",
   "execution_count": 15,
   "id": "28c5b241",
   "metadata": {},
   "outputs": [
    {
     "name": "stdout",
     "output_type": "stream",
     "text": [
      "4 652\n"
     ]
    }
   ],
   "source": [
    "tot_seed_paper_cnt = len(seed_paper_dois)\n",
    "tot_paper_cnt = len([nid for nid in g.nodes if g.nodes[nid].get('nodeType')=='Paper'])\n",
    "print(tot_seed_paper_cnt, tot_paper_cnt)"
   ]
  },
  {
   "cell_type": "code",
   "execution_count": 14,
   "id": "fe986657",
   "metadata": {},
   "outputs": [
    {
     "name": "stdout",
     "output_type": "stream",
     "text": [
      "[('10.48550/arXiv.2406.10252', 14), ('10.48550/arXiv.2312.10997', 2), ('10.48550/arXiv.2305.14627', 2), ('10.48550/arXiv.2303.18223', 2), ('10.48550/arXiv.2302.13971', 2), ('10.1145/3505244', 2), ('10.48550/arXiv.2408.07884', 2), ('10.48550/arXiv.2410.09403', 2), ('10.48550/arXiv.2408.06292', 2), ('10.48550/arXiv.2406.05688', 2), ('10.48550/arXiv.2310.07984', 2), ('10.48550/arXiv.2310.03302', 2), ('10.48550/arXiv.2310.01783', 2), ('10.48550/arXiv.2307.05492', 2), ('10.48550/arXiv.2306.00622', 2), ('10.18653/v1/2024.acl-long.18', 2), ('10.48550/arXiv.2305.16960', 2), ('10.2139/ssrn.4526071', 2), ('10.1007/978-981-97-9443-0_35', 2), ('10.48550/arXiv.2412.10415', 1)]\n",
      "{'doi': '10.48550/arXiv.2406.10252', 'title': 'AutoSurvey: Large Language Models Can Automatically Write Surveys', 'if_seed': True, 'local_refs': 14, 'global_refs': 14, 'inf_cite_cnt': 2, 'h_index': 17.0}\n",
      "{'doi': '10.48550/arXiv.2312.10997', 'title': 'Retrieval-Augmented Generation for Large Language Models: A Survey', 'if_seed': False, 'local_refs': 2, 'global_refs': 1278, 'inf_cite_cnt': 71, 'h_index': nan}\n",
      "{'doi': '10.48550/arXiv.2305.14627', 'title': 'Enabling Large Language Models to Generate Text with Citations', 'if_seed': False, 'local_refs': 2, 'global_refs': 289, 'inf_cite_cnt': 58, 'h_index': nan}\n",
      "{'doi': '10.48550/arXiv.2303.18223', 'title': 'A Survey of Large Language Models', 'if_seed': False, 'local_refs': 2, 'global_refs': 2344, 'inf_cite_cnt': 116, 'h_index': nan}\n",
      "{'doi': '10.48550/arXiv.2302.13971', 'title': 'LLaMA: Open and Efficient Foundation Language Models', 'if_seed': False, 'local_refs': 2, 'global_refs': 11371, 'inf_cite_cnt': 1433, 'h_index': nan}\n",
      "{'doi': '10.1145/3505244', 'title': 'Transformers in Vision: A Survey', 'if_seed': False, 'local_refs': 2, 'global_refs': 2330, 'inf_cite_cnt': 45, 'h_index': nan}\n",
      "{'doi': '10.48550/arXiv.2408.07884', 'title': 'Instruct Large Language Models to Generate Scientific Literature Survey Step by Step', 'if_seed': False, 'local_refs': 2, 'global_refs': 2, 'inf_cite_cnt': 0, 'h_index': nan}\n",
      "{'doi': '10.48550/arXiv.2410.09403', 'title': 'Many Heads Are Better Than One: Improved Scientific Idea Generation by A LLM-Based Multi-Agent System', 'if_seed': False, 'local_refs': 2, 'global_refs': 2, 'inf_cite_cnt': 0, 'h_index': nan}\n",
      "{'doi': '10.48550/arXiv.2408.06292', 'title': 'The AI Scientist: Towards Fully Automated Open-Ended Scientific Discovery', 'if_seed': False, 'local_refs': 2, 'global_refs': 114, 'inf_cite_cnt': 17, 'h_index': nan}\n",
      "{'doi': '10.48550/arXiv.2406.05688', 'title': 'Peer Review as A Multi-Turn and Long-Context Dialogue with Role-Based Interactions', 'if_seed': False, 'local_refs': 2, 'global_refs': 7, 'inf_cite_cnt': 0, 'h_index': nan}\n",
      "{'doi': '10.48550/arXiv.2310.07984', 'title': 'Large Language Models for Scientific Synthesis, Inference and Explanation', 'if_seed': False, 'local_refs': 2, 'global_refs': 29, 'inf_cite_cnt': 0, 'h_index': nan}\n",
      "{'doi': '10.48550/arXiv.2310.03302', 'title': 'MLAgentBench: Evaluating Language Agents on Machine Learning Experimentation', 'if_seed': False, 'local_refs': 2, 'global_refs': 54, 'inf_cite_cnt': 9, 'h_index': nan}\n",
      "{'doi': '10.48550/arXiv.2310.01783', 'title': 'Can large language models provide useful feedback on research papers? A large-scale empirical analysis', 'if_seed': False, 'local_refs': 2, 'global_refs': 107, 'inf_cite_cnt': 9, 'h_index': nan}\n",
      "{'doi': '10.48550/arXiv.2307.05492', 'title': 'GPT4 is Slightly Helpful for Peer-Review Assistance: A Pilot Study', 'if_seed': False, 'local_refs': 2, 'global_refs': 21, 'inf_cite_cnt': 0, 'h_index': nan}\n",
      "{'doi': '10.48550/arXiv.2306.00622', 'title': 'ReviewerGPT? An Exploratory Study on Using Large Language Models for Paper Reviewing', 'if_seed': False, 'local_refs': 2, 'global_refs': 59, 'inf_cite_cnt': 10, 'h_index': nan}\n",
      "{'doi': '10.18653/v1/2024.acl-long.18', 'title': 'SciMON: Scientific Inspiration Machines Optimized for Novelty', 'if_seed': False, 'local_refs': 2, 'global_refs': 48, 'inf_cite_cnt': 7, 'h_index': nan}\n",
      "{'doi': '10.48550/arXiv.2305.16960', 'title': 'Training Socially Aligned Language Models in Simulated Human Society', 'if_seed': False, 'local_refs': 2, 'global_refs': 106, 'inf_cite_cnt': 8, 'h_index': nan}\n",
      "{'doi': '10.2139/ssrn.4526071', 'title': 'Ideas are Dimes a Dozen: Large Language Models for Idea Generation in Innovation', 'if_seed': False, 'local_refs': 2, 'global_refs': 77, 'inf_cite_cnt': 1, 'h_index': nan}\n",
      "{'doi': '10.1007/978-981-97-9443-0_35', 'title': 'Overview of the NLPCC2024 Shared Task 6: Scientific Literature Survey Generation', 'if_seed': False, 'local_refs': 2, 'global_refs': 4, 'inf_cite_cnt': 0, 'h_index': nan}\n",
      "{'doi': '10.48550/arXiv.2412.10415', 'title': 'Generative Adversarial Reviews: When LLMs Become the Critic', 'if_seed': True, 'local_refs': 1, 'global_refs': 1, 'inf_cite_cnt': 0, 'h_index': 1.0}\n"
     ]
    },
    {
     "name": "stderr",
     "output_type": "stream",
     "text": [
      "/home/jiezi/miniconda3/envs/ai4fun/lib/python3.10/site-packages/numpy/lib/function_base.py:520: RuntimeWarning: Mean of empty slice.\n",
      "  avg = a.mean(axis, **keepdims_kw)\n",
      "/home/jiezi/miniconda3/envs/ai4fun/lib/python3.10/site-packages/numpy/core/_methods.py:129: RuntimeWarning: invalid value encountered in scalar divide\n",
      "  ret = ret.dtype.type(ret / rcount)\n"
     ]
    }
   ],
   "source": [
    "import numpy as np\n",
    "sorted_by_cite = sorted(paper_stat, key=lambda item: item[1], reverse=True)\n",
    "print(sorted_by_cite[0:20])\n",
    "\n",
    "for item in sorted_by_cite[0:20]:\n",
    "    n = item[0]\n",
    "    cite_cnt = item[1]\n",
    "    # paper infos\n",
    "    title = g.nodes[n].get('title')\n",
    "    in_seed = True if item[0] in seed_paper_dois else False\n",
    "    overall_cite_cnt = g.nodes[n].get('citationCount')\n",
    "    influential_cite_cnt = g.nodes[n].get('influentialCitationCount')\n",
    "    # author infors\n",
    "    hindex_lst = []\n",
    "    for u in g.predecessors(n):\n",
    "        if g.nodes[u].get('nodeType') == 'Author':\n",
    "            hIndex = g.nodes[u].get('hIndex')\n",
    "            if hIndex:\n",
    "                hindex_lst.append(hIndex)\n",
    "            paperCount = g.nodes[u].get('paperCount')\n",
    "            citationCount = g.nodes[u].get('citationCount')\n",
    "    h_index = np.average(hindex_lst)\n",
    "\n",
    "    paper_info = {\"doi\":n, \"title\":title, \"if_seed\": in_seed,\n",
    "                  \"local_refs\":cite_cnt, \"global_refs\":overall_cite_cnt, \"inf_cite_cnt\":influential_cite_cnt,\n",
    "                  \"h_index\": h_index}\n",
    "    print(paper_info)"
   ]
  },
  {
   "cell_type": "markdown",
   "id": "181a4d0e",
   "metadata": {},
   "source": [
    "Author Ranking  \n",
    "- most cited authors"
   ]
  },
  {
   "cell_type": "markdown",
   "id": "a42e519f",
   "metadata": {},
   "source": [
    "The purpose of most cited authors is to get key authors info, which may lead to further investigation.  \n",
    "A filtering condition is:  \n",
    "- author cited more than min(0.1 * total papers, 10)  \n",
    "- rank order by cited in descending, get more than 10 of the authors  \n",
    "- not in seed authors  \n",
    "- may add significance citeria in the future"
   ]
  },
  {
   "cell_type": "code",
   "execution_count": 16,
   "id": "86f90049",
   "metadata": {},
   "outputs": [],
   "source": [
    "author_stat = []\n",
    "for n in g.nodes:\n",
    "    if g.nodes[n].get('nodeType') == 'Author':\n",
    "        out_edges_info = g.out_edges(n, data=True)\n",
    "        write_cnt = sum([1 for u, v, data in out_edges_info if data.get('relationshipType') == 'WRITES'])\n",
    "        author_stat.append((n, write_cnt))"
   ]
  },
  {
   "cell_type": "code",
   "execution_count": 19,
   "id": "dc9897aa",
   "metadata": {},
   "outputs": [
    {
     "name": "stdout",
     "output_type": "stream",
     "text": [
      "{'author_id': '2674998', 'author_name': 'Xiaocheng Feng', 'write_cnt': 60, 'is_seed': True, 'hIndex': None, 'global_paper_cnt': None, 'global_citation_cnt': None}\n",
      "{'author_id': '2108024279', 'author_name': 'Yidong Wang', 'write_cnt': 39, 'is_seed': True, 'hIndex': 17, 'global_paper_cnt': 42, 'global_citation_cnt': 3711}\n",
      "{'author_id': '152277111', 'author_name': 'Bing Qin', 'write_cnt': 31, 'is_seed': False, 'hIndex': None, 'global_paper_cnt': None, 'global_citation_cnt': None}\n",
      "{'author_id': '2257010530', 'author_name': 'Xinyu Dai', 'write_cnt': 25, 'is_seed': True, 'hIndex': None, 'global_paper_cnt': None, 'global_citation_cnt': None}\n",
      "{'author_id': '2259709647', 'author_name': 'Min Zhang', 'write_cnt': 24, 'is_seed': True, 'hIndex': None, 'global_paper_cnt': None, 'global_citation_cnt': None}\n",
      "{'author_id': '51056442', 'author_name': 'Xiachong Feng', 'write_cnt': 20, 'is_seed': True, 'hIndex': None, 'global_paper_cnt': None, 'global_citation_cnt': None}\n",
      "{'author_id': '2118640235', 'author_name': 'Baoxin Wang', 'write_cnt': 20, 'is_seed': True, 'hIndex': None, 'global_paper_cnt': None, 'global_citation_cnt': None}\n",
      "{'author_id': '2257004102', 'author_name': 'Bing Qin', 'write_cnt': 20, 'is_seed': False, 'hIndex': None, 'global_paper_cnt': None, 'global_citation_cnt': None}\n",
      "{'author_id': '2250121772', 'author_name': 'Zhen Wu', 'write_cnt': 19, 'is_seed': False, 'hIndex': None, 'global_paper_cnt': None, 'global_citation_cnt': None}\n",
      "{'author_id': '2118208508', 'author_name': 'Dayong Wu', 'write_cnt': 19, 'is_seed': False, 'hIndex': None, 'global_paper_cnt': None, 'global_citation_cnt': None}\n",
      "{'author_id': '1519290245', 'author_name': 'Jindong Wang', 'write_cnt': 17, 'is_seed': False, 'hIndex': None, 'global_paper_cnt': None, 'global_citation_cnt': None}\n",
      "{'author_id': '2257796182', 'author_name': 'Meishan Zhang', 'write_cnt': 16, 'is_seed': False, 'hIndex': None, 'global_paper_cnt': None, 'global_citation_cnt': None}\n",
      "{'author_id': '2145500840', 'author_name': 'Linyi Yang', 'write_cnt': 13, 'is_seed': False, 'hIndex': None, 'global_paper_cnt': None, 'global_citation_cnt': None}\n",
      "{'author_id': '2208739098', 'author_name': 'Weihong Zhong', 'write_cnt': 13, 'is_seed': False, 'hIndex': None, 'global_paper_cnt': None, 'global_citation_cnt': None}\n",
      "{'author_id': '2118138548', 'author_name': 'Yi-Chong Huang', 'write_cnt': 13, 'is_seed': False, 'hIndex': None, 'global_paper_cnt': None, 'global_citation_cnt': None}\n",
      "{'author_id': '2116271777', 'author_name': 'Hongbo Zhang', 'write_cnt': 12, 'is_seed': True, 'hIndex': None, 'global_paper_cnt': None, 'global_citation_cnt': None}\n",
      "{'author_id': '2265930173', 'author_name': 'Lei Huang', 'write_cnt': 12, 'is_seed': True, 'hIndex': None, 'global_paper_cnt': None, 'global_citation_cnt': None}\n",
      "{'author_id': '2275569993', 'author_name': 'Ming-Ming Cheng', 'write_cnt': 11, 'is_seed': True, 'hIndex': None, 'global_paper_cnt': None, 'global_citation_cnt': None}\n",
      "{'author_id': '2112678409', 'author_name': 'Yuxuan Gu', 'write_cnt': 11, 'is_seed': True, 'hIndex': None, 'global_paper_cnt': None, 'global_citation_cnt': None}\n",
      "{'author_id': '2265878959', 'author_name': 'Weitao Ma', 'write_cnt': 10, 'is_seed': True, 'hIndex': None, 'global_paper_cnt': None, 'global_citation_cnt': None}\n"
     ]
    }
   ],
   "source": [
    "sorted_by_writes = sorted(author_stat, key=lambda item: item[1], reverse=True)\n",
    "for item in sorted_by_writes[0:20]:\n",
    "    aid = item[0]\n",
    "    a_name = g.nodes[aid].get('name')\n",
    "    hIndex = g.nodes[aid].get('hIndex')\n",
    "    in_seed = True if aid in seed_author_ids else False\n",
    "    global_paper_cnt = g.nodes[aid].get('paperCount')\n",
    "    global_citation_cnt = g.nodes[aid].get('citationCount')\n",
    "    print({\"author_id\":aid, \"author_name\":a_name, \"write_cnt\":item[1], \"is_seed\":in_seed,\n",
    "           \"hIndex\":hIndex, \"global_paper_cnt\":global_paper_cnt, \"global_citation_cnt\":global_citation_cnt, })\n"
   ]
  },
  {
   "cell_type": "markdown",
   "id": "0fd1c5ac",
   "metadata": {},
   "source": [
    "### Similarity Check\n",
    "- check similar papers to seed, see if they are worth exploration"
   ]
  },
  {
   "cell_type": "code",
   "execution_count": 20,
   "id": "7de649c3",
   "metadata": {},
   "outputs": [],
   "source": [
    "similarity_threshold = 0.7\n",
    "expanded_k_papers = 20\n",
    "non_seed_paper_dois = [node['id'] for node in ps.nodes_json if node['labels'] == ['Paper'] and node['id'] not in seed_paper_dois]\n",
    "paper_nodes_json = [node for node in ps.nodes_json \n",
    "                    if node['labels'] == ['Paper'] and \n",
    "                    node['properties'].get('title') is not None and node['properties'].get('abstract') is not None]"
   ]
  },
  {
   "cell_type": "code",
   "execution_count": 21,
   "id": "7b0b0db7",
   "metadata": {},
   "outputs": [
    {
     "name": "stderr",
     "output_type": "stream",
     "text": [
      "2025-04-15 09:51:44,678 - INFO - Generating embeddings for 586 papers...\n",
      "2025-04-15 09:51:53,770 - INFO - Shape of embeds_1: (4, 768)\n",
      "2025-04-15 09:51:53,770 - INFO - Shape of embeds_2: (582, 768)\n",
      "2025-04-15 09:51:53,771 - INFO - Calculating similarity matrix...\n",
      "2025-04-15 09:51:53,785 - INFO - Processing similarity matrix to create relationships...\n"
     ]
    }
   ],
   "source": [
    "# calculate paper nodes similarity\n",
    "semantic_similar_pool = await ps.cal_embed_and_similarity(\n",
    "    paper_nodes_json=paper_nodes_json,\n",
    "    paper_dois_1=seed_paper_dois, \n",
    "    paper_dois_2=non_seed_paper_dois,\n",
    "    similarity_threshold=similarity_threshold,\n",
    "    )\n",
    "\n",
    "if len(semantic_similar_pool) > 0:\n",
    "    candit_items = []\n",
    "    for item in semantic_similar_pool:\n",
    "        wt = item.get('properties', {}).get('weight')\n",
    "        if (wt > 0.7 and wt < 0.95) or (wt > 0.7 and wt < 0.95):\n",
    "            if item['startNodeId'] in seed_paper_dois and item['endNodeId'] not in seed_paper_dois:\n",
    "                candit_items.append((item['endNodeId'], wt))\n",
    "            elif item['startNodeId'] not in seed_paper_dois and item['endNodeId'] in seed_paper_dois:\n",
    "                candit_items.append((item['startNodeId'], wt))\n",
    "    sorted_items = sorted(candit_items, key=lambda item: item[1], reverse=True)\n",
    "\n",
    "    # filter top k similarities\n",
    "    expanded_paper_dois = [x[0] for x in sorted_items[0:expanded_k_papers]]"
   ]
  },
  {
   "cell_type": "code",
   "execution_count": 24,
   "id": "2d2fffa8",
   "metadata": {},
   "outputs": [
    {
     "name": "stdout",
     "output_type": "stream",
     "text": [
      "{'doi': '10.48550/arXiv.2401.04259', 'title': 'MARG: Multi-Agent Review Generation for Scientific Papers', 'if_seed': False, 'global_refs': 25, 'inf_cite_cnt': 0, 'h_index': nan}\n",
      "{'doi': '10.48550/arXiv.2408.10365', 'title': 'AI-Driven Review Systems: Evaluating LLMs in Scalable and Bias-Aware Academic Reviews', 'if_seed': False, 'global_refs': 11, 'inf_cite_cnt': 0, 'h_index': nan}\n",
      "{'doi': '10.48550/arXiv.2503.08506', 'title': 'ReviewAgents: Bridging the Gap Between Human and AI-Generated Paper Reviews', 'if_seed': False, 'global_refs': 1, 'inf_cite_cnt': 0, 'h_index': nan}\n",
      "{'doi': '10.48550/arXiv.2502.14776', 'title': 'SurveyX: Academic Survey Automation via Large Language Models', 'if_seed': False, 'global_refs': 0, 'inf_cite_cnt': 0, 'h_index': nan}\n",
      "{'doi': '10.48550/arXiv.2502.17086', 'title': 'Automatically Evaluating the Paper Reviewing Capability of Large Language Models', 'if_seed': False, 'global_refs': 0, 'inf_cite_cnt': 0, 'h_index': nan}\n",
      "{'doi': '10.48550/arXiv.2502.11736', 'title': 'ReviewEval: An Evaluation Framework for AI-Generated Reviews', 'if_seed': False, 'global_refs': 0, 'inf_cite_cnt': 0, 'h_index': nan}\n",
      "{'doi': '10.48550/arXiv.2409.16813', 'title': 'PeerArg: Argumentative Peer Review with LLMs', 'if_seed': False, 'global_refs': 2, 'inf_cite_cnt': 0, 'h_index': nan}\n",
      "{'doi': '10.48550/arXiv.2503.04629', 'title': 'SurveyForge: On the Outline Heuristics, Memory-Driven Generation, and Multi-dimensional Evaluation for Automated Survey Writing', 'if_seed': False, 'global_refs': 0, 'inf_cite_cnt': 0, 'h_index': nan}\n",
      "{'doi': '10.48550/arXiv.2410.03019', 'title': 'Is Your Paper Being Reviewed by an LLM? Investigating AI Text Detectability in Peer Review', 'if_seed': False, 'global_refs': 6, 'inf_cite_cnt': 0, 'h_index': nan}\n",
      "{'doi': '10.48550/arXiv.2306.00622', 'title': 'ReviewerGPT? An Exploratory Study on Using Large Language Models for Paper Reviewing', 'if_seed': False, 'global_refs': 59, 'inf_cite_cnt': 10, 'h_index': nan}\n",
      "{'doi': '10.48550/arXiv.2404.07738', 'title': 'ResearchAgent: Iterative Research Idea Generation over Scientific Literature with Large Language Models', 'if_seed': False, 'global_refs': 29, 'inf_cite_cnt': 5, 'h_index': nan}\n",
      "{'doi': '10.48550/arXiv.2404.17605', 'title': 'Autonomous LLM-driven research from data to human-verifiable research papers', 'if_seed': False, 'global_refs': 10, 'inf_cite_cnt': 0, 'h_index': nan}\n",
      "{'doi': '10.48550/arXiv.2502.19614', 'title': 'Is Your Paper Being Reviewed by an LLM? A New Benchmark Dataset and Approach for Detecting AI Text in Peer Review', 'if_seed': False, 'global_refs': 1, 'inf_cite_cnt': 0, 'h_index': nan}\n",
      "{'doi': '10.48550/arXiv.2410.22394', 'title': \"AAAR-1.0: Assessing AI's Potential to Assist Research\", 'if_seed': False, 'global_refs': 4, 'inf_cite_cnt': 1, 'h_index': nan}\n",
      "{'doi': '10.48550/arXiv.2503.08569', 'title': 'DeepReview: Improving LLM-based Paper Review with Human-like Deep Thinking Process', 'if_seed': False, 'global_refs': 1, 'inf_cite_cnt': 0, 'h_index': nan}\n",
      "{'doi': '10.48550/arXiv.2501.04306', 'title': 'LLM4SR: A Survey on Large Language Models for Scientific Research', 'if_seed': False, 'global_refs': 7, 'inf_cite_cnt': 0, 'h_index': nan}\n",
      "{'doi': '10.48550/arXiv.2307.05492', 'title': 'GPT4 is Slightly Helpful for Peer-Review Assistance: A Pilot Study', 'if_seed': False, 'global_refs': 21, 'inf_cite_cnt': 0, 'h_index': nan}\n",
      "{'doi': '10.48550/arXiv.2406.05688', 'title': 'Peer Review as A Multi-Turn and Long-Context Dialogue with Role-Based Interactions', 'if_seed': False, 'global_refs': 7, 'inf_cite_cnt': 0, 'h_index': nan}\n",
      "{'doi': '10.48550/arXiv.2411.00816', 'title': 'CycleResearcher: Improving Automated Research via Automated Review', 'if_seed': False, 'global_refs': 6, 'inf_cite_cnt': 1, 'h_index': nan}\n",
      "{'doi': '10.48550/arXiv.2408.07884', 'title': 'Instruct Large Language Models to Generate Scientific Literature Survey Step by Step', 'if_seed': False, 'global_refs': 2, 'inf_cite_cnt': 0, 'h_index': nan}\n"
     ]
    },
    {
     "name": "stderr",
     "output_type": "stream",
     "text": [
      "/home/jiezi/miniconda3/envs/ai4fun/lib/python3.10/site-packages/numpy/lib/function_base.py:520: RuntimeWarning: Mean of empty slice.\n",
      "  avg = a.mean(axis, **keepdims_kw)\n",
      "/home/jiezi/miniconda3/envs/ai4fun/lib/python3.10/site-packages/numpy/core/_methods.py:129: RuntimeWarning: invalid value encountered in scalar divide\n",
      "  ret = ret.dtype.type(ret / rcount)\n"
     ]
    }
   ],
   "source": [
    "for doi in expanded_paper_dois:\n",
    "    # paper infos\n",
    "    title = g.nodes[doi].get('title')\n",
    "    in_seed = True if doi in seed_paper_dois else False\n",
    "    overall_cite_cnt = g.nodes[doi].get('citationCount')\n",
    "    influential_cite_cnt = g.nodes[doi].get('influentialCitationCount')\n",
    "    # author infors\n",
    "    hindex_lst = []\n",
    "    for u in g.predecessors(doi):\n",
    "        if g.nodes[u].get('nodeType') == 'Author':\n",
    "            hIndex = g.nodes[u].get('hIndex')\n",
    "            if hIndex:\n",
    "                hindex_lst.append(hIndex)\n",
    "            paperCount = g.nodes[u].get('paperCount')\n",
    "            citationCount = g.nodes[u].get('citationCount')\n",
    "    h_index = np.average(hindex_lst)\n",
    "\n",
    "    paper_info = {\"doi\":doi, \"title\":title, \"if_seed\": in_seed,\n",
    "                  \"global_refs\":overall_cite_cnt, \"inf_cite_cnt\":influential_cite_cnt,\n",
    "                  \"h_index\": h_index}\n",
    "    print(paper_info)"
   ]
  },
  {
   "cell_type": "markdown",
   "id": "0509d52a",
   "metadata": {},
   "source": [
    "## Expanded Search － Related Topics"
   ]
  },
  {
   "cell_type": "code",
   "execution_count": 26,
   "id": "e706371f",
   "metadata": {},
   "outputs": [],
   "source": [
    "if_related_topic = True"
   ]
  },
  {
   "cell_type": "code",
   "execution_count": 27,
   "id": "e2b0d95c",
   "metadata": {},
   "outputs": [
    {
     "name": "stderr",
     "output_type": "stream",
     "text": [
      "2025-04-15 10:00:45,502 - INFO - SemanticScholarKit initialized with max_concurrency=10, sleep_interval=3.0s\n",
      "2025-04-15 10:00:45,502 - INFO - Waiting for expanded search task to complete...\n",
      "2025-04-15 10:00:45,502 - INFO - Starting expanded search sub-task...\n",
      "2025-04-15 10:00:45,503 - INFO - Generating related topics for 4 seed papers...\n",
      "2025-04-15 10:00:45,503 - INFO - Calling LLM to generate topics...\n",
      "2025-04-15 10:00:45,504 - INFO - AFC is enabled with max remote calls: 10.\n",
      "2025-04-15 10:00:48,079 - INFO - LLM generated topics: {\"field_of_study\": [\"Artificial Intelligence\", \"Natural Language Processing\", \"Information Retrieval\", \"Meta-Science & Science of Science\"], \"keywords_and_topics\": [\"large language models (LLMs)\", \"automated literature review generation\", \"AI-driven research support systems\", \"peer review process\", \"generative adversarial reviewers\"], \"tags\": [\"AutoSurvey\", \"Generative Agent Reviewers (GAR)\", \"PRISMA standards\", \"AI-generated reviews\", \"hypothesis formulation\"], \"queries\": [\"automated literature review LLM\", \"AI peer review system\", \"LLM meta-reviewer\", \"AI research support system survey\"]}\n",
      "2025-04-15 10:00:48,080 - INFO - Running 4 related paper search tasks concurrently...\n",
      "2025-04-15 10:00:48,081 - INFO - Fetching related papers for query: 'automated literature review LLM...'\n",
      "2025-04-15 10:00:48,081 - INFO - async_search_paper_by_keywords: Searching papers by keyword: 'automated literature review LLM...' with effective limit 50.\n",
      "2025-04-15 10:00:48,082 - INFO - Fetching related papers for query: 'AI peer review system...'\n",
      "2025-04-15 10:00:48,082 - INFO - async_search_paper_by_keywords: Searching papers by keyword: 'AI peer review system...' with effective limit 50.\n",
      "2025-04-15 10:00:48,082 - INFO - _sync_search_paper_by_keywords: Thread started for query 'automated literature review LLM...' with limit 50.\n",
      "2025-04-15 10:00:48,082 - INFO - Fetching related papers for query: 'LLM meta-reviewer...'\n",
      "2025-04-15 10:00:48,083 - INFO - _sync_search_paper_by_keywords: Thread started for query 'AI peer review system...' with limit 50.\n",
      "2025-04-15 10:00:48,084 - INFO - async_search_paper_by_keywords: Searching papers by keyword: 'LLM meta-reviewer...' with effective limit 50.\n",
      "2025-04-15 10:00:48,085 - INFO - Fetching related papers for query: 'AI research support system survey...'\n",
      "2025-04-15 10:00:48,085 - INFO - _sync_search_paper_by_keywords: Thread started for query 'LLM meta-reviewer...' with limit 50.\n",
      "2025-04-15 10:00:48,085 - INFO - async_search_paper_by_keywords: Searching papers by keyword: 'AI research support system survey...' with effective limit 50.\n",
      "2025-04-15 10:00:48,087 - INFO - _sync_search_paper_by_keywords: Thread started for query 'AI research support system survey...' with limit 50.\n"
     ]
    },
    {
     "name": "stdout",
     "output_type": "stream",
     "text": [
      "{'field_of_study': ['Artificial Intelligence', 'Natural Language Processing', 'Information Retrieval', 'Meta-Science & Science of Science'], 'keywords_and_topics': ['large language models (LLMs)', 'automated literature review generation', 'AI-driven research support systems', 'peer review process', 'generative adversarial reviewers'], 'tags': ['AutoSurvey', 'Generative Agent Reviewers (GAR)', 'PRISMA standards', 'AI-generated reviews', 'hypothesis formulation'], 'queries': ['automated literature review LLM', 'AI peer review system', 'LLM meta-reviewer', 'AI research support system survey']}\n"
     ]
    },
    {
     "name": "stderr",
     "output_type": "stream",
     "text": [
      "2025-04-15 10:00:49,986 - INFO - HTTP Request: GET https://api.semanticscholar.org/graph/v1/paper/search?query=AI+peer+review+system&fieldsOfStudy=Computer+Science&fields=abstract%2Cauthors%2CcitationCount%2CcitationStyles%2CcorpusId%2CexternalIds%2CfieldsOfStudy%2CinfluentialCitationCount%2CisOpenAccess%2Cjournal%2CopenAccessPdf%2CpaperId%2CpublicationDate%2CpublicationTypes%2CpublicationVenue%2CreferenceCount%2Cs2FieldsOfStudy%2Ctitle%2Curl%2Cvenue%2Cyear&offset=0&limit=50 \"HTTP/1.1 200 OK\"\n",
      "2025-04-15 10:00:50,081 - INFO - HTTP Request: GET https://api.semanticscholar.org/graph/v1/paper/search?query=automated+literature+review+LLM&fieldsOfStudy=Computer+Science&fields=abstract%2Cauthors%2CcitationCount%2CcitationStyles%2CcorpusId%2CexternalIds%2CfieldsOfStudy%2CinfluentialCitationCount%2CisOpenAccess%2Cjournal%2CopenAccessPdf%2CpaperId%2CpublicationDate%2CpublicationTypes%2CpublicationVenue%2CreferenceCount%2Cs2FieldsOfStudy%2Ctitle%2Curl%2Cvenue%2Cyear&offset=0&limit=50 \"HTTP/1.1 200 OK\"\n",
      "2025-04-15 10:00:50,199 - INFO - HTTP Request: GET https://api.semanticscholar.org/graph/v1/paper/search?query=AI+research+support+system+survey&fieldsOfStudy=Computer+Science&fields=abstract%2Cauthors%2CcitationCount%2CcitationStyles%2CcorpusId%2CexternalIds%2CfieldsOfStudy%2CinfluentialCitationCount%2CisOpenAccess%2Cjournal%2CopenAccessPdf%2CpaperId%2CpublicationDate%2CpublicationTypes%2CpublicationVenue%2CreferenceCount%2Cs2FieldsOfStudy%2Ctitle%2Curl%2Cvenue%2Cyear&offset=0&limit=50 \"HTTP/1.1 200 OK\"\n",
      "2025-04-15 10:00:50,290 - INFO - HTTP Request: GET https://api.semanticscholar.org/graph/v1/paper/search?query=LLM+meta-reviewer&fieldsOfStudy=Computer+Science&fields=abstract%2Cauthors%2CcitationCount%2CcitationStyles%2CcorpusId%2CexternalIds%2CfieldsOfStudy%2CinfluentialCitationCount%2CisOpenAccess%2Cjournal%2CopenAccessPdf%2CpaperId%2CpublicationDate%2CpublicationTypes%2CpublicationVenue%2CreferenceCount%2Cs2FieldsOfStudy%2Ctitle%2Curl%2Cvenue%2Cyear&offset=0&limit=50 \"HTTP/1.1 200 OK\"\n",
      "2025-04-15 10:00:51,627 - INFO - HTTP Request: GET https://api.semanticscholar.org/graph/v1/paper/search?query=AI+peer+review+system&fieldsOfStudy=Computer+Science&fields=abstract%2Cauthors%2CcitationCount%2CcitationStyles%2CcorpusId%2CexternalIds%2CfieldsOfStudy%2CinfluentialCitationCount%2CisOpenAccess%2Cjournal%2CopenAccessPdf%2CpaperId%2CpublicationDate%2CpublicationTypes%2CpublicationVenue%2CreferenceCount%2Cs2FieldsOfStudy%2Ctitle%2Curl%2Cvenue%2Cyear&offset=50&limit=50 \"HTTP/1.1 429 \"\n",
      "2025-04-15 10:00:51,926 - INFO - HTTP Request: GET https://api.semanticscholar.org/graph/v1/paper/search?query=LLM+meta-reviewer&fieldsOfStudy=Computer+Science&fields=abstract%2Cauthors%2CcitationCount%2CcitationStyles%2CcorpusId%2CexternalIds%2CfieldsOfStudy%2CinfluentialCitationCount%2CisOpenAccess%2Cjournal%2CopenAccessPdf%2CpaperId%2CpublicationDate%2CpublicationTypes%2CpublicationVenue%2CreferenceCount%2Cs2FieldsOfStudy%2Ctitle%2Curl%2Cvenue%2Cyear&offset=50&limit=50 \"HTTP/1.1 429 \"\n",
      "2025-04-15 10:00:51,943 - INFO - HTTP Request: GET https://api.semanticscholar.org/graph/v1/paper/search?query=AI+research+support+system+survey&fieldsOfStudy=Computer+Science&fields=abstract%2Cauthors%2CcitationCount%2CcitationStyles%2CcorpusId%2CexternalIds%2CfieldsOfStudy%2CinfluentialCitationCount%2CisOpenAccess%2Cjournal%2CopenAccessPdf%2CpaperId%2CpublicationDate%2CpublicationTypes%2CpublicationVenue%2CreferenceCount%2Cs2FieldsOfStudy%2Ctitle%2Curl%2Cvenue%2Cyear&offset=50&limit=50 \"HTTP/1.1 429 \"\n",
      "2025-04-15 10:00:52,650 - INFO - HTTP Request: GET https://api.semanticscholar.org/graph/v1/paper/search?query=automated+literature+review+LLM&fieldsOfStudy=Computer+Science&fields=abstract%2Cauthors%2CcitationCount%2CcitationStyles%2CcorpusId%2CexternalIds%2CfieldsOfStudy%2CinfluentialCitationCount%2CisOpenAccess%2Cjournal%2CopenAccessPdf%2CpaperId%2CpublicationDate%2CpublicationTypes%2CpublicationVenue%2CreferenceCount%2Cs2FieldsOfStudy%2Ctitle%2Curl%2Cvenue%2Cyear&offset=50&limit=50 \"HTTP/1.1 200 OK\"\n",
      "2025-04-15 10:00:53,335 - INFO - _sync_search_paper_by_keywords: API call successful for query 'automated literature review LLM...', returning 50 items.\n",
      "2025-04-15 10:00:56,339 - INFO - Processing 50 related papers for query 'automated literature review LLM...'\n",
      "2025-04-15 10:01:22,757 - INFO - HTTP Request: GET https://api.semanticscholar.org/graph/v1/paper/search?query=AI+peer+review+system&fieldsOfStudy=Computer+Science&fields=abstract%2Cauthors%2CcitationCount%2CcitationStyles%2CcorpusId%2CexternalIds%2CfieldsOfStudy%2CinfluentialCitationCount%2CisOpenAccess%2Cjournal%2CopenAccessPdf%2CpaperId%2CpublicationDate%2CpublicationTypes%2CpublicationVenue%2CreferenceCount%2Cs2FieldsOfStudy%2Ctitle%2Curl%2Cvenue%2Cyear&offset=50&limit=50 \"HTTP/1.1 429 \"\n",
      "2025-04-15 10:01:23,060 - INFO - HTTP Request: GET https://api.semanticscholar.org/graph/v1/paper/search?query=AI+research+support+system+survey&fieldsOfStudy=Computer+Science&fields=abstract%2Cauthors%2CcitationCount%2CcitationStyles%2CcorpusId%2CexternalIds%2CfieldsOfStudy%2CinfluentialCitationCount%2CisOpenAccess%2Cjournal%2CopenAccessPdf%2CpaperId%2CpublicationDate%2CpublicationTypes%2CpublicationVenue%2CreferenceCount%2Cs2FieldsOfStudy%2Ctitle%2Curl%2Cvenue%2Cyear&offset=50&limit=50 \"HTTP/1.1 429 \"\n",
      "2025-04-15 10:01:23,079 - INFO - HTTP Request: GET https://api.semanticscholar.org/graph/v1/paper/search?query=LLM+meta-reviewer&fieldsOfStudy=Computer+Science&fields=abstract%2Cauthors%2CcitationCount%2CcitationStyles%2CcorpusId%2CexternalIds%2CfieldsOfStudy%2CinfluentialCitationCount%2CisOpenAccess%2Cjournal%2CopenAccessPdf%2CpaperId%2CpublicationDate%2CpublicationTypes%2CpublicationVenue%2CreferenceCount%2Cs2FieldsOfStudy%2Ctitle%2Curl%2Cvenue%2Cyear&offset=50&limit=50 \"HTTP/1.1 429 \"\n",
      "2025-04-15 10:01:53,882 - INFO - HTTP Request: GET https://api.semanticscholar.org/graph/v1/paper/search?query=AI+peer+review+system&fieldsOfStudy=Computer+Science&fields=abstract%2Cauthors%2CcitationCount%2CcitationStyles%2CcorpusId%2CexternalIds%2CfieldsOfStudy%2CinfluentialCitationCount%2CisOpenAccess%2Cjournal%2CopenAccessPdf%2CpaperId%2CpublicationDate%2CpublicationTypes%2CpublicationVenue%2CreferenceCount%2Cs2FieldsOfStudy%2Ctitle%2Curl%2Cvenue%2Cyear&offset=50&limit=50 \"HTTP/1.1 429 \"\n",
      "2025-04-15 10:01:55,216 - INFO - HTTP Request: GET https://api.semanticscholar.org/graph/v1/paper/search?query=AI+research+support+system+survey&fieldsOfStudy=Computer+Science&fields=abstract%2Cauthors%2CcitationCount%2CcitationStyles%2CcorpusId%2CexternalIds%2CfieldsOfStudy%2CinfluentialCitationCount%2CisOpenAccess%2Cjournal%2CopenAccessPdf%2CpaperId%2CpublicationDate%2CpublicationTypes%2CpublicationVenue%2CreferenceCount%2Cs2FieldsOfStudy%2Ctitle%2Curl%2Cvenue%2Cyear&offset=50&limit=50 \"HTTP/1.1 200 OK\"\n",
      "2025-04-15 10:01:55,221 - INFO - HTTP Request: GET https://api.semanticscholar.org/graph/v1/paper/search?query=LLM+meta-reviewer&fieldsOfStudy=Computer+Science&fields=abstract%2Cauthors%2CcitationCount%2CcitationStyles%2CcorpusId%2CexternalIds%2CfieldsOfStudy%2CinfluentialCitationCount%2CisOpenAccess%2Cjournal%2CopenAccessPdf%2CpaperId%2CpublicationDate%2CpublicationTypes%2CpublicationVenue%2CreferenceCount%2Cs2FieldsOfStudy%2Ctitle%2Curl%2Cvenue%2Cyear&offset=50&limit=50 \"HTTP/1.1 200 OK\"\n",
      "2025-04-15 10:01:56,143 - INFO - _sync_search_paper_by_keywords: API call successful for query 'LLM meta-reviewer...', returning 50 items.\n",
      "2025-04-15 10:01:57,264 - INFO - _sync_search_paper_by_keywords: API call successful for query 'AI research support system survey...', returning 50 items.\n",
      "2025-04-15 10:01:59,146 - INFO - Processing 50 related papers for query 'LLM meta-reviewer...'\n",
      "2025-04-15 10:02:00,268 - INFO - Processing 50 related papers for query 'AI research support system survey...'\n",
      "2025-04-15 10:02:25,833 - INFO - HTTP Request: GET https://api.semanticscholar.org/graph/v1/paper/search?query=AI+peer+review+system&fieldsOfStudy=Computer+Science&fields=abstract%2Cauthors%2CcitationCount%2CcitationStyles%2CcorpusId%2CexternalIds%2CfieldsOfStudy%2CinfluentialCitationCount%2CisOpenAccess%2Cjournal%2CopenAccessPdf%2CpaperId%2CpublicationDate%2CpublicationTypes%2CpublicationVenue%2CreferenceCount%2Cs2FieldsOfStudy%2Ctitle%2Curl%2Cvenue%2Cyear&offset=50&limit=50 \"HTTP/1.1 200 OK\"\n",
      "2025-04-15 10:02:26,471 - INFO - _sync_search_paper_by_keywords: API call successful for query 'AI peer review system...', returning 50 items.\n",
      "2025-04-15 10:02:29,476 - INFO - Processing 50 related papers for query 'AI peer review system...'\n",
      "2025-04-15 10:02:29,480 - INFO - Expanded search task finished.\n",
      "2025-04-15 10:02:29,488 - INFO - Graph state after expansion tasks. Nodes: 4982, Edges: 5782\n"
     ]
    }
   ],
   "source": [
    "# --- EXPAND to RELATED TOPICS over SEED ---\n",
    "# get related topics based on abstracts of seed papers\n",
    "# search for related topics for more papers\n",
    "if if_related_topic:\n",
    "    await ps.expand(\n",
    "        seed_paper_json=seed_paper_json, \n",
    "        llm_api_key=ps.llm_api_key, \n",
    "        llm_model_name=ps.llm_model_name,\n",
    "        search_limit=ps.search_limit,\n",
    "        from_dt=ps.from_dt,\n",
    "        to_dt=ps.to_dt,\n",
    "        fields_of_study = ps.fields_of_study,\n",
    "        )\n"
   ]
  },
  {
   "cell_type": "markdown",
   "id": "b19afd6a",
   "metadata": {},
   "source": [
    "### Graph Stats"
   ]
  },
  {
   "cell_type": "code",
   "execution_count": 28,
   "id": "52a4c02e",
   "metadata": {},
   "outputs": [
    {
     "name": "stdout",
     "output_type": "stream",
     "text": [
      "4982 5782 4586 5782\n",
      "[('Author', 3417), ('Paper', 799), ('Journal', 196), ('Venue', 167), ('Topic', 4), ('Affiliation', 3)]\n",
      "[('WRITES', 4516), ('RELEASES_IN', 425), ('CITES', 377), ('PRINTS_ON', 275), ('DISCUSS', 186), ('WORKS_IN', 3)]\n"
     ]
    }
   ],
   "source": [
    "import copy\n",
    "from collections import Counter\n",
    "\n",
    "g2 = copy.deepcopy(ps.pg.graph)\n",
    "print(len(ps.nodes_json), len(ps.edges_json), len(g2.nodes), len(g2.edges))\n",
    "\n",
    "# check node types\n",
    "node_types = [g2.nodes[nid].get('nodeType') for nid in g2.nodes]\n",
    "node_types_cnt = Counter(node_types)\n",
    "# 按计数降序排序\n",
    "sorted_node_counts = node_types_cnt.most_common()\n",
    "print(sorted_node_counts)\n",
    "\n",
    "# check node types\n",
    "edge_types = [d.get('relationshipType') for u, v, d in g2.edges(data=True)]\n",
    "edge_types_cnt = Counter(edge_types)\n",
    "# 按计数降序排序\n",
    "sorted_egdes_counts = edge_types_cnt.most_common()\n",
    "print(sorted_egdes_counts)"
   ]
  },
  {
   "cell_type": "markdown",
   "id": "7fd78677",
   "metadata": {},
   "source": [
    "### Filter & Ranking"
   ]
  },
  {
   "cell_type": "markdown",
   "id": "378a06b8",
   "metadata": {},
   "source": [
    "Expanded topic would not affect paper citation information.  \n",
    "It may impact author stats.\n",
    "Since only seed author explored, the top authors cited would also tend to be seed authors."
   ]
  },
  {
   "cell_type": "code",
   "execution_count": 34,
   "id": "3915b361",
   "metadata": {},
   "outputs": [],
   "source": [
    "author_stat2 = []\n",
    "for n in g2.nodes:\n",
    "    if g2.nodes[n].get('nodeType') == 'Author':\n",
    "        out_edges_info = g2.out_edges(n, data=True)\n",
    "        write_cnt = sum([1 for u, v, data in out_edges_info if data.get('relationshipType') == 'WRITES'])\n",
    "        author_stat2.append((n, write_cnt))"
   ]
  },
  {
   "cell_type": "code",
   "execution_count": 35,
   "id": "02935344",
   "metadata": {},
   "outputs": [
    {
     "name": "stdout",
     "output_type": "stream",
     "text": [
      "{'author_id': '2674998', 'author_name': 'Xiaocheng Feng', 'write_cnt': 60, 'is_seed': True, 'hIndex': None, 'global_paper_cnt': None, 'global_citation_cnt': None}\n",
      "{'author_id': '2108024279', 'author_name': 'Yidong Wang', 'write_cnt': 39, 'is_seed': True, 'hIndex': 17, 'global_paper_cnt': 42, 'global_citation_cnt': 3711}\n",
      "{'author_id': '152277111', 'author_name': 'Bing Qin', 'write_cnt': 31, 'is_seed': False, 'hIndex': None, 'global_paper_cnt': None, 'global_citation_cnt': None}\n",
      "{'author_id': '2257010530', 'author_name': 'Xinyu Dai', 'write_cnt': 25, 'is_seed': True, 'hIndex': None, 'global_paper_cnt': None, 'global_citation_cnt': None}\n",
      "{'author_id': '2259709647', 'author_name': 'Min Zhang', 'write_cnt': 24, 'is_seed': True, 'hIndex': None, 'global_paper_cnt': None, 'global_citation_cnt': None}\n",
      "{'author_id': '51056442', 'author_name': 'Xiachong Feng', 'write_cnt': 20, 'is_seed': True, 'hIndex': None, 'global_paper_cnt': None, 'global_citation_cnt': None}\n",
      "{'author_id': '2118640235', 'author_name': 'Baoxin Wang', 'write_cnt': 20, 'is_seed': True, 'hIndex': None, 'global_paper_cnt': None, 'global_citation_cnt': None}\n",
      "{'author_id': '2257004102', 'author_name': 'Bing Qin', 'write_cnt': 20, 'is_seed': False, 'hIndex': None, 'global_paper_cnt': None, 'global_citation_cnt': None}\n",
      "{'author_id': '2250121772', 'author_name': 'Zhen Wu', 'write_cnt': 19, 'is_seed': False, 'hIndex': None, 'global_paper_cnt': None, 'global_citation_cnt': None}\n",
      "{'author_id': '2118208508', 'author_name': 'Dayong Wu', 'write_cnt': 19, 'is_seed': False, 'hIndex': None, 'global_paper_cnt': None, 'global_citation_cnt': None}\n",
      "{'author_id': '1519290245', 'author_name': 'Jindong Wang', 'write_cnt': 17, 'is_seed': False, 'hIndex': None, 'global_paper_cnt': None, 'global_citation_cnt': None}\n",
      "{'author_id': '2257796182', 'author_name': 'Meishan Zhang', 'write_cnt': 16, 'is_seed': False, 'hIndex': None, 'global_paper_cnt': None, 'global_citation_cnt': None}\n",
      "{'author_id': '2145500840', 'author_name': 'Linyi Yang', 'write_cnt': 13, 'is_seed': False, 'hIndex': None, 'global_paper_cnt': None, 'global_citation_cnt': None}\n",
      "{'author_id': '2208739098', 'author_name': 'Weihong Zhong', 'write_cnt': 13, 'is_seed': False, 'hIndex': None, 'global_paper_cnt': None, 'global_citation_cnt': None}\n",
      "{'author_id': '2118138548', 'author_name': 'Yi-Chong Huang', 'write_cnt': 13, 'is_seed': False, 'hIndex': None, 'global_paper_cnt': None, 'global_citation_cnt': None}\n",
      "{'author_id': '2116271777', 'author_name': 'Hongbo Zhang', 'write_cnt': 12, 'is_seed': True, 'hIndex': None, 'global_paper_cnt': None, 'global_citation_cnt': None}\n",
      "{'author_id': '2265930173', 'author_name': 'Lei Huang', 'write_cnt': 12, 'is_seed': True, 'hIndex': None, 'global_paper_cnt': None, 'global_citation_cnt': None}\n",
      "{'author_id': '2275569993', 'author_name': 'Ming-Ming Cheng', 'write_cnt': 11, 'is_seed': True, 'hIndex': None, 'global_paper_cnt': None, 'global_citation_cnt': None}\n",
      "{'author_id': '2112678409', 'author_name': 'Yuxuan Gu', 'write_cnt': 11, 'is_seed': True, 'hIndex': None, 'global_paper_cnt': None, 'global_citation_cnt': None}\n",
      "{'author_id': '2265878959', 'author_name': 'Weitao Ma', 'write_cnt': 10, 'is_seed': True, 'hIndex': None, 'global_paper_cnt': None, 'global_citation_cnt': None}\n"
     ]
    }
   ],
   "source": [
    "sorted_by_writes2 = sorted(author_stat2, key=lambda item: item[1], reverse=True)\n",
    "for item in sorted_by_writes2[0:20]:\n",
    "    aid = item[0]\n",
    "    a_name = g2.nodes[aid].get('name')\n",
    "    hIndex = g2.nodes[aid].get('hIndex')\n",
    "    in_seed = True if aid in seed_author_ids else False\n",
    "    global_paper_cnt = g2.nodes[aid].get('paperCount')\n",
    "    global_citation_cnt = g2.nodes[aid].get('citationCount')\n",
    "    print({\"author_id\":aid, \"author_name\":a_name, \"write_cnt\":item[1], \"is_seed\":in_seed,\n",
    "           \"hIndex\":hIndex, \"global_paper_cnt\":global_paper_cnt, \"global_citation_cnt\":global_citation_cnt, })"
   ]
  },
  {
   "cell_type": "markdown",
   "id": "385f936f",
   "metadata": {},
   "source": [
    "### Similarity Check\n",
    "- data reveals that after topic expansion, the top similar papers does not change much from original ones.\n",
    "- Hence, the topic expansion is relatively isolated from author expansion and citation expansion."
   ]
  },
  {
   "cell_type": "code",
   "execution_count": 36,
   "id": "873b60b6",
   "metadata": {},
   "outputs": [],
   "source": [
    "similarity_threshold = 0.7\n",
    "expanded_k_papers = 20\n",
    "non_seed_paper_dois = [node['id'] for node in ps.nodes_json if node['labels'] == ['Paper'] and node['id'] not in seed_paper_dois]\n",
    "paper_nodes_json = [node for node in ps.nodes_json \n",
    "                    if node['labels'] == ['Paper'] and \n",
    "                    node['properties'].get('title') is not None and node['properties'].get('abstract') is not None]"
   ]
  },
  {
   "cell_type": "code",
   "execution_count": 37,
   "id": "cfc98c95",
   "metadata": {},
   "outputs": [
    {
     "name": "stderr",
     "output_type": "stream",
     "text": [
      "2025-04-15 10:30:20,074 - INFO - Generating embeddings for 140 papers...\n",
      "2025-04-15 10:30:28,949 - INFO - Shape of embeds_1: (4, 768)\n",
      "2025-04-15 10:30:28,950 - INFO - Shape of embeds_2: (722, 768)\n",
      "2025-04-15 10:30:28,950 - INFO - Calculating similarity matrix...\n",
      "2025-04-15 10:30:28,952 - INFO - Processing similarity matrix to create relationships...\n"
     ]
    }
   ],
   "source": [
    "# calculate paper nodes similarity\n",
    "semantic_similar_pool = await ps.cal_embed_and_similarity(\n",
    "    paper_nodes_json=paper_nodes_json,\n",
    "    paper_dois_1=seed_paper_dois, \n",
    "    paper_dois_2=non_seed_paper_dois,\n",
    "    similarity_threshold=similarity_threshold,\n",
    "    )\n",
    "\n",
    "if len(semantic_similar_pool) > 0:\n",
    "    candit_items = []\n",
    "    for item in semantic_similar_pool:\n",
    "        wt = item.get('properties', {}).get('weight')\n",
    "        if (wt > 0.7 and wt < 0.95) or (wt > 0.7 and wt < 0.95):\n",
    "            if item['startNodeId'] in seed_paper_dois and item['endNodeId'] not in seed_paper_dois:\n",
    "                candit_items.append((item['endNodeId'], wt))\n",
    "            elif item['startNodeId'] not in seed_paper_dois and item['endNodeId'] in seed_paper_dois:\n",
    "                candit_items.append((item['startNodeId'], wt))\n",
    "    sorted_items = sorted(candit_items, key=lambda item: item[1], reverse=True)\n",
    "\n",
    "    # filter top k similarities\n",
    "    expanded_paper_dois = [x[0] for x in sorted_items[0:expanded_k_papers]]"
   ]
  },
  {
   "cell_type": "code",
   "execution_count": 38,
   "id": "07c2b302",
   "metadata": {},
   "outputs": [
    {
     "name": "stdout",
     "output_type": "stream",
     "text": [
      "{'doi': '10.48550/arXiv.2401.04259', 'title': 'MARG: Multi-Agent Review Generation for Scientific Papers', 'if_seed': False, 'global_refs': 25, 'inf_cite_cnt': 0, 'h_index': nan}\n",
      "{'doi': '10.48550/arXiv.2408.10365', 'title': 'AI-Driven Review Systems: Evaluating LLMs in Scalable and Bias-Aware Academic Reviews', 'if_seed': False, 'global_refs': 11, 'inf_cite_cnt': 0, 'h_index': nan}\n",
      "{'doi': '10.48550/arXiv.2503.08506', 'title': 'ReviewAgents: Bridging the Gap Between Human and AI-Generated Paper Reviews', 'if_seed': False, 'global_refs': 1, 'inf_cite_cnt': 0, 'h_index': nan}\n",
      "{'doi': '10.48550/arXiv.2502.14776', 'title': 'SurveyX: Academic Survey Automation via Large Language Models', 'if_seed': False, 'global_refs': 0, 'inf_cite_cnt': 0, 'h_index': nan}\n",
      "{'doi': '10.48550/arXiv.2502.17086', 'title': 'Automatically Evaluating the Paper Reviewing Capability of Large Language Models', 'if_seed': False, 'global_refs': 0, 'inf_cite_cnt': 0, 'h_index': nan}\n",
      "{'doi': '10.48550/arXiv.2502.11736', 'title': 'ReviewEval: An Evaluation Framework for AI-Generated Reviews', 'if_seed': False, 'global_refs': 0, 'inf_cite_cnt': 0, 'h_index': nan}\n",
      "{'doi': '10.48550/arXiv.2409.16813', 'title': 'PeerArg: Argumentative Peer Review with LLMs', 'if_seed': False, 'global_refs': 2, 'inf_cite_cnt': 0, 'h_index': nan}\n",
      "{'doi': '10.48550/arXiv.2503.04629', 'title': 'SurveyForge: On the Outline Heuristics, Memory-Driven Generation, and Multi-dimensional Evaluation for Automated Survey Writing', 'if_seed': False, 'global_refs': 0, 'inf_cite_cnt': 0, 'h_index': nan}\n",
      "{'doi': '10.48550/arXiv.2410.03019', 'title': 'Is Your Paper Being Reviewed by an LLM? Investigating AI Text Detectability in Peer Review', 'if_seed': False, 'global_refs': 6, 'inf_cite_cnt': 0, 'h_index': nan}\n",
      "{'doi': '10.48550/arXiv.2502.12510', 'title': 'Aspect-Guided Multi-Level Perturbation Analysis of Large Language Models in Automated Peer Review', 'if_seed': False, 'global_refs': 0, 'inf_cite_cnt': 0, 'h_index': nan}\n",
      "{'doi': '10.48550/arXiv.2306.00622', 'title': 'ReviewerGPT? An Exploratory Study on Using Large Language Models for Paper Reviewing', 'if_seed': False, 'global_refs': 59, 'inf_cite_cnt': 10, 'h_index': nan}\n",
      "{'doi': '10.48550/arXiv.2404.07738', 'title': 'ResearchAgent: Iterative Research Idea Generation over Scientific Literature with Large Language Models', 'if_seed': False, 'global_refs': 29, 'inf_cite_cnt': 5, 'h_index': nan}\n",
      "{'doi': '10.48550/arXiv.2406.16253', 'title': 'LLMs Assist NLP Researchers: Critique Paper (Meta-)Reviewing', 'if_seed': False, 'global_refs': 22, 'inf_cite_cnt': 1, 'h_index': nan}\n",
      "{'doi': '10.48550/arXiv.2404.17605', 'title': 'Autonomous LLM-driven research from data to human-verifiable research papers', 'if_seed': False, 'global_refs': 10, 'inf_cite_cnt': 0, 'h_index': nan}\n",
      "{'doi': '10.48550/arXiv.2405.02150', 'title': 'The AI Review Lottery: Widespread AI-Assisted Peer Reviews Boost Paper Scores and Acceptance Rates', 'if_seed': False, 'global_refs': 21, 'inf_cite_cnt': 7, 'h_index': nan}\n",
      "{'doi': '10.48550/arXiv.2502.19614', 'title': 'Is Your Paper Being Reviewed by an LLM? A New Benchmark Dataset and Approach for Detecting AI Text in Peer Review', 'if_seed': False, 'global_refs': 1, 'inf_cite_cnt': 0, 'h_index': nan}\n",
      "{'doi': '10.48550/arXiv.2410.22394', 'title': \"AAAR-1.0: Assessing AI's Potential to Assist Research\", 'if_seed': False, 'global_refs': 4, 'inf_cite_cnt': 1, 'h_index': nan}\n",
      "{'doi': '10.48550/arXiv.2503.08569', 'title': 'DeepReview: Improving LLM-based Paper Review with Human-like Deep Thinking Process', 'if_seed': False, 'global_refs': 1, 'inf_cite_cnt': 0, 'h_index': nan}\n",
      "{'doi': '10.48550/arXiv.2501.04306', 'title': 'LLM4SR: A Survey on Large Language Models for Scientific Research', 'if_seed': False, 'global_refs': 7, 'inf_cite_cnt': 0, 'h_index': nan}\n",
      "{'doi': '10.48550/arXiv.2307.05492', 'title': 'GPT4 is Slightly Helpful for Peer-Review Assistance: A Pilot Study', 'if_seed': False, 'global_refs': 21, 'inf_cite_cnt': 0, 'h_index': nan}\n"
     ]
    },
    {
     "name": "stderr",
     "output_type": "stream",
     "text": [
      "/home/jiezi/miniconda3/envs/ai4fun/lib/python3.10/site-packages/numpy/lib/function_base.py:520: RuntimeWarning: Mean of empty slice.\n",
      "  avg = a.mean(axis, **keepdims_kw)\n",
      "/home/jiezi/miniconda3/envs/ai4fun/lib/python3.10/site-packages/numpy/core/_methods.py:129: RuntimeWarning: invalid value encountered in scalar divide\n",
      "  ret = ret.dtype.type(ret / rcount)\n"
     ]
    }
   ],
   "source": [
    "for doi in expanded_paper_dois:\n",
    "    # paper infos\n",
    "    title = g2.nodes[doi].get('title')\n",
    "    in_seed = True if doi in seed_paper_dois else False\n",
    "    overall_cite_cnt = g2.nodes[doi].get('citationCount')\n",
    "    influential_cite_cnt = g2.nodes[doi].get('influentialCitationCount')\n",
    "    # author infors\n",
    "    hindex_lst = []\n",
    "    for u in g2.predecessors(doi):\n",
    "        if g2.nodes[u].get('nodeType') == 'Author':\n",
    "            hIndex = g2.nodes[u].get('hIndex')\n",
    "            if hIndex:\n",
    "                hindex_lst.append(hIndex)\n",
    "            paperCount = g2.nodes[u].get('paperCount')\n",
    "            citationCount = g2.nodes[u].get('citationCount')\n",
    "    h_index = np.average(hindex_lst)\n",
    "\n",
    "    paper_info = {\"doi\":doi, \"title\":title, \"if_seed\": in_seed,\n",
    "                  \"global_refs\":overall_cite_cnt, \"inf_cite_cnt\":influential_cite_cnt,\n",
    "                  \"h_index\": h_index}\n",
    "    print(paper_info)"
   ]
  },
  {
   "cell_type": "markdown",
   "id": "ed78fa7d",
   "metadata": {},
   "source": [
    "### Grpah Viz"
   ]
  },
  {
   "cell_type": "code",
   "execution_count": 39,
   "id": "2f8b014e",
   "metadata": {},
   "outputs": [
    {
     "name": "stdout",
     "output_type": "stream",
     "text": [
      "Running preprocessing...\n",
      "Preprocessing complete.\n",
      "Calculating layout...\n",
      "Graph is large, using spring_layout (may take time)...\n",
      "Layout calculated using spring_layout.\n",
      "Preparing data sources...\n",
      "Creating plot...\n",
      "Creating search widgets...\n",
      "Creating legends...\n",
      "Arranging layout...\n",
      "Displaying plot.\n"
     ]
    }
   ],
   "source": [
    "import sys\n",
    "import os\n",
    "\n",
    "parent_dir = os.path.dirname(os.getcwd())\n",
    "sys.path.append(parent_dir)\n",
    "\n",
    "# from graph.graph_viz import GraphViz\n",
    "viz2 = GraphViz(g2, 'paper graph after topic expansion')\n",
    "viz2.preprocessing()\n",
    "viz2.visulization()"
   ]
  },
  {
   "cell_type": "markdown",
   "id": "d553b0b2",
   "metadata": {},
   "source": [
    "## Expanded Search - Similar Papers Citation Search"
   ]
  },
  {
   "cell_type": "code",
   "execution_count": 42,
   "id": "5b266842",
   "metadata": {},
   "outputs": [
    {
     "name": "stdout",
     "output_type": "stream",
     "text": [
      "['10.48550/arXiv.2401.04259', '10.48550/arXiv.2408.10365', '10.48550/arXiv.2503.08506', '10.48550/arXiv.2502.14776', '10.48550/arXiv.2502.17086', '10.48550/arXiv.2502.11736', '10.48550/arXiv.2409.16813', '10.48550/arXiv.2503.04629', '10.48550/arXiv.2410.03019', '10.48550/arXiv.2502.12510', '10.48550/arXiv.2306.00622', '10.48550/arXiv.2404.07738', '10.48550/arXiv.2406.16253', '10.48550/arXiv.2404.17605', '10.48550/arXiv.2405.02150', '10.48550/arXiv.2502.19614', '10.48550/arXiv.2410.22394', '10.48550/arXiv.2503.08569', '10.48550/arXiv.2501.04306', '10.48550/arXiv.2307.05492']\n"
     ]
    }
   ],
   "source": [
    "if_expanded_citations = 'reference' # by default search only reference for similar papers\n",
    "print(expanded_paper_dois)"
   ]
  },
  {
   "cell_type": "code",
   "execution_count": 43,
   "id": "8fddd2ed",
   "metadata": {},
   "outputs": [
    {
     "name": "stderr",
     "output_type": "stream",
     "text": [
      "2025-04-15 10:43:38,470 - INFO - Preparing reference/citation tasks for 20 seed papers.\n",
      "2025-04-15 10:43:38,472 - INFO - SemanticScholarKit initialized with max_concurrency=10, sleep_interval=3.0s\n",
      "2025-04-15 10:43:38,472 - INFO - Running 20 main data collection tasks concurrently...\n",
      "2025-04-15 10:43:38,472 - INFO - Fetching papers cited by 10.48550/arXiv.2401.04259...\n",
      "2025-04-15 10:43:38,473 - INFO - async_get_s2_cited_papers: Fetching references for paper 10.48550/arXiv.2401.04259 with effective limit 100.\n",
      "2025-04-15 10:43:38,473 - INFO - Fetching papers cited by 10.48550/arXiv.2408.10365...\n",
      "2025-04-15 10:43:38,473 - INFO - async_get_s2_cited_papers: Fetching references for paper 10.48550/arXiv.2408.10365 with effective limit 100.\n",
      "2025-04-15 10:43:38,473 - INFO - _sync_get_paper_references: Thread started for paper 10.48550/arXiv.2401.04259 with limit 100.\n",
      "2025-04-15 10:43:38,473 - INFO - Fetching papers cited by 10.48550/arXiv.2503.08506...\n",
      "2025-04-15 10:43:38,473 - INFO - _sync_get_paper_references: Thread started for paper 10.48550/arXiv.2408.10365 with limit 100.\n",
      "2025-04-15 10:43:38,474 - INFO - async_get_s2_cited_papers: Fetching references for paper 10.48550/arXiv.2503.08506 with effective limit 100.\n",
      "2025-04-15 10:43:38,475 - INFO - Fetching papers cited by 10.48550/arXiv.2502.14776...\n",
      "2025-04-15 10:43:38,475 - INFO - async_get_s2_cited_papers: Fetching references for paper 10.48550/arXiv.2502.14776 with effective limit 100.\n",
      "2025-04-15 10:43:38,475 - INFO - Fetching papers cited by 10.48550/arXiv.2502.17086...\n",
      "2025-04-15 10:43:38,476 - INFO - _sync_get_paper_references: Thread started for paper 10.48550/arXiv.2503.08506 with limit 100.\n",
      "2025-04-15 10:43:38,476 - INFO - async_get_s2_cited_papers: Fetching references for paper 10.48550/arXiv.2502.17086 with effective limit 100.\n",
      "2025-04-15 10:43:38,476 - INFO - _sync_get_paper_references: Thread started for paper 10.48550/arXiv.2502.14776 with limit 100.\n",
      "2025-04-15 10:43:38,477 - INFO - Fetching papers cited by 10.48550/arXiv.2502.11736...\n",
      "2025-04-15 10:43:38,477 - INFO - _sync_get_paper_references: Thread started for paper 10.48550/arXiv.2502.17086 with limit 100.\n",
      "2025-04-15 10:43:38,477 - INFO - async_get_s2_cited_papers: Fetching references for paper 10.48550/arXiv.2502.11736 with effective limit 100.\n",
      "2025-04-15 10:43:38,478 - INFO - Fetching papers cited by 10.48550/arXiv.2409.16813...\n",
      "2025-04-15 10:43:38,478 - INFO - async_get_s2_cited_papers: Fetching references for paper 10.48550/arXiv.2409.16813 with effective limit 100.\n",
      "2025-04-15 10:43:38,478 - INFO - _sync_get_paper_references: Thread started for paper 10.48550/arXiv.2502.11736 with limit 100.\n",
      "2025-04-15 10:43:38,479 - INFO - Fetching papers cited by 10.48550/arXiv.2503.04629...\n",
      "2025-04-15 10:43:38,479 - INFO - _sync_get_paper_references: Thread started for paper 10.48550/arXiv.2409.16813 with limit 100.\n",
      "2025-04-15 10:43:38,481 - INFO - async_get_s2_cited_papers: Fetching references for paper 10.48550/arXiv.2503.04629 with effective limit 100.\n",
      "2025-04-15 10:43:38,483 - INFO - Fetching papers cited by 10.48550/arXiv.2410.03019...\n",
      "2025-04-15 10:43:38,483 - INFO - _sync_get_paper_references: Thread started for paper 10.48550/arXiv.2503.04629 with limit 100.\n",
      "2025-04-15 10:43:38,483 - INFO - async_get_s2_cited_papers: Fetching references for paper 10.48550/arXiv.2410.03019 with effective limit 100.\n",
      "2025-04-15 10:43:38,485 - INFO - Fetching papers cited by 10.48550/arXiv.2502.12510...\n",
      "2025-04-15 10:43:38,485 - INFO - async_get_s2_cited_papers: Fetching references for paper 10.48550/arXiv.2502.12510 with effective limit 100.\n",
      "2025-04-15 10:43:38,489 - INFO - Fetching papers cited by 10.48550/arXiv.2306.00622...\n",
      "2025-04-15 10:43:38,489 - INFO - async_get_s2_cited_papers: Fetching references for paper 10.48550/arXiv.2306.00622 with effective limit 100.\n",
      "2025-04-15 10:43:38,488 - INFO - _sync_get_paper_references: Thread started for paper 10.48550/arXiv.2410.03019 with limit 100.\n",
      "2025-04-15 10:43:38,490 - INFO - Fetching papers cited by 10.48550/arXiv.2404.07738...\n",
      "2025-04-15 10:43:38,491 - INFO - _sync_get_paper_references: Thread started for paper 10.48550/arXiv.2502.12510 with limit 100.\n",
      "2025-04-15 10:43:38,493 - INFO - async_get_s2_cited_papers: Fetching references for paper 10.48550/arXiv.2404.07738 with effective limit 100.\n",
      "2025-04-15 10:43:38,494 - INFO - Fetching papers cited by 10.48550/arXiv.2406.16253...\n",
      "2025-04-15 10:43:38,494 - INFO - async_get_s2_cited_papers: Fetching references for paper 10.48550/arXiv.2406.16253 with effective limit 100.\n",
      "2025-04-15 10:43:38,495 - INFO - Fetching papers cited by 10.48550/arXiv.2404.17605...\n",
      "2025-04-15 10:43:38,495 - INFO - async_get_s2_cited_papers: Fetching references for paper 10.48550/arXiv.2404.17605 with effective limit 100.\n",
      "2025-04-15 10:43:38,495 - INFO - Fetching papers cited by 10.48550/arXiv.2405.02150...\n",
      "2025-04-15 10:43:38,495 - INFO - async_get_s2_cited_papers: Fetching references for paper 10.48550/arXiv.2405.02150 with effective limit 100.\n",
      "2025-04-15 10:43:38,496 - INFO - Fetching papers cited by 10.48550/arXiv.2502.19614...\n",
      "2025-04-15 10:43:38,496 - INFO - async_get_s2_cited_papers: Fetching references for paper 10.48550/arXiv.2502.19614 with effective limit 100.\n",
      "2025-04-15 10:43:38,496 - INFO - Fetching papers cited by 10.48550/arXiv.2410.22394...\n",
      "2025-04-15 10:43:38,496 - INFO - async_get_s2_cited_papers: Fetching references for paper 10.48550/arXiv.2410.22394 with effective limit 100.\n",
      "2025-04-15 10:43:38,497 - INFO - Fetching papers cited by 10.48550/arXiv.2503.08569...\n",
      "2025-04-15 10:43:38,497 - INFO - async_get_s2_cited_papers: Fetching references for paper 10.48550/arXiv.2503.08569 with effective limit 100.\n",
      "2025-04-15 10:43:38,498 - INFO - Fetching papers cited by 10.48550/arXiv.2501.04306...\n",
      "2025-04-15 10:43:38,499 - INFO - async_get_s2_cited_papers: Fetching references for paper 10.48550/arXiv.2501.04306 with effective limit 100.\n",
      "2025-04-15 10:43:38,499 - INFO - Fetching papers cited by 10.48550/arXiv.2307.05492...\n",
      "2025-04-15 10:43:38,500 - INFO - async_get_s2_cited_papers: Fetching references for paper 10.48550/arXiv.2307.05492 with effective limit 100.\n",
      "2025-04-15 10:43:39,626 - INFO - HTTP Request: GET https://api.semanticscholar.org/graph/v1/paper/10.48550/arXiv.2401.04259/references?fields=contexts%2Cintents%2CcontextsWithIntent%2CisInfluential%2Cabstract%2Cauthors%2CcitationCount%2CcitationStyles%2CcorpusId%2CexternalIds%2CfieldsOfStudy%2CinfluentialCitationCount%2CisOpenAccess%2Cjournal%2CopenAccessPdf%2CpaperId%2CpublicationDate%2CpublicationTypes%2CpublicationVenue%2CreferenceCount%2Cs2FieldsOfStudy%2Ctitle%2Curl%2Cvenue%2Cyear&offset=0&limit=100 \"HTTP/1.1 200 OK\"\n",
      "2025-04-15 10:43:39,627 - INFO - HTTP Request: GET https://api.semanticscholar.org/graph/v1/paper/10.48550/arXiv.2502.12510/references?fields=contexts%2Cintents%2CcontextsWithIntent%2CisInfluential%2Cabstract%2Cauthors%2CcitationCount%2CcitationStyles%2CcorpusId%2CexternalIds%2CfieldsOfStudy%2CinfluentialCitationCount%2CisOpenAccess%2Cjournal%2CopenAccessPdf%2CpaperId%2CpublicationDate%2CpublicationTypes%2CpublicationVenue%2CreferenceCount%2Cs2FieldsOfStudy%2Ctitle%2Curl%2Cvenue%2Cyear&offset=0&limit=100 \"HTTP/1.1 200 OK\"\n",
      "2025-04-15 10:43:39,629 - INFO - _sync_get_paper_references: API call successful for paper 10.48550/arXiv.2401.04259, returning 0 items.\n",
      "2025-04-15 10:43:39,629 - INFO - _sync_get_paper_references: API call successful for paper 10.48550/arXiv.2502.12510, returning 0 items.\n",
      "2025-04-15 10:43:39,823 - INFO - HTTP Request: GET https://api.semanticscholar.org/graph/v1/paper/10.48550/arXiv.2502.17086/references?fields=contexts%2Cintents%2CcontextsWithIntent%2CisInfluential%2Cabstract%2Cauthors%2CcitationCount%2CcitationStyles%2CcorpusId%2CexternalIds%2CfieldsOfStudy%2CinfluentialCitationCount%2CisOpenAccess%2Cjournal%2CopenAccessPdf%2CpaperId%2CpublicationDate%2CpublicationTypes%2CpublicationVenue%2CreferenceCount%2Cs2FieldsOfStudy%2Ctitle%2Curl%2Cvenue%2Cyear&offset=0&limit=100 \"HTTP/1.1 200 OK\"\n",
      "2025-04-15 10:43:39,840 - INFO - HTTP Request: GET https://api.semanticscholar.org/graph/v1/paper/10.48550/arXiv.2408.10365/references?fields=contexts%2Cintents%2CcontextsWithIntent%2CisInfluential%2Cabstract%2Cauthors%2CcitationCount%2CcitationStyles%2CcorpusId%2CexternalIds%2CfieldsOfStudy%2CinfluentialCitationCount%2CisOpenAccess%2Cjournal%2CopenAccessPdf%2CpaperId%2CpublicationDate%2CpublicationTypes%2CpublicationVenue%2CreferenceCount%2Cs2FieldsOfStudy%2Ctitle%2Curl%2Cvenue%2Cyear&offset=0&limit=100 \"HTTP/1.1 200 OK\"\n",
      "2025-04-15 10:43:39,848 - INFO - HTTP Request: GET https://api.semanticscholar.org/graph/v1/paper/10.48550/arXiv.2502.11736/references?fields=contexts%2Cintents%2CcontextsWithIntent%2CisInfluential%2Cabstract%2Cauthors%2CcitationCount%2CcitationStyles%2CcorpusId%2CexternalIds%2CfieldsOfStudy%2CinfluentialCitationCount%2CisOpenAccess%2Cjournal%2CopenAccessPdf%2CpaperId%2CpublicationDate%2CpublicationTypes%2CpublicationVenue%2CreferenceCount%2Cs2FieldsOfStudy%2Ctitle%2Curl%2Cvenue%2Cyear&offset=0&limit=100 \"HTTP/1.1 200 OK\"\n",
      "2025-04-15 10:43:39,849 - INFO - HTTP Request: GET https://api.semanticscholar.org/graph/v1/paper/10.48550/arXiv.2409.16813/references?fields=contexts%2Cintents%2CcontextsWithIntent%2CisInfluential%2Cabstract%2Cauthors%2CcitationCount%2CcitationStyles%2CcorpusId%2CexternalIds%2CfieldsOfStudy%2CinfluentialCitationCount%2CisOpenAccess%2Cjournal%2CopenAccessPdf%2CpaperId%2CpublicationDate%2CpublicationTypes%2CpublicationVenue%2CreferenceCount%2Cs2FieldsOfStudy%2Ctitle%2Curl%2Cvenue%2Cyear&offset=0&limit=100 \"HTTP/1.1 200 OK\"\n",
      "2025-04-15 10:43:39,870 - INFO - HTTP Request: GET https://api.semanticscholar.org/graph/v1/paper/10.48550/arXiv.2502.14776/references?fields=contexts%2Cintents%2CcontextsWithIntent%2CisInfluential%2Cabstract%2Cauthors%2CcitationCount%2CcitationStyles%2CcorpusId%2CexternalIds%2CfieldsOfStudy%2CinfluentialCitationCount%2CisOpenAccess%2Cjournal%2CopenAccessPdf%2CpaperId%2CpublicationDate%2CpublicationTypes%2CpublicationVenue%2CreferenceCount%2Cs2FieldsOfStudy%2Ctitle%2Curl%2Cvenue%2Cyear&offset=0&limit=100 \"HTTP/1.1 200 OK\"\n",
      "2025-04-15 10:43:39,888 - INFO - HTTP Request: GET https://api.semanticscholar.org/graph/v1/paper/10.48550/arXiv.2503.04629/references?fields=contexts%2Cintents%2CcontextsWithIntent%2CisInfluential%2Cabstract%2Cauthors%2CcitationCount%2CcitationStyles%2CcorpusId%2CexternalIds%2CfieldsOfStudy%2CinfluentialCitationCount%2CisOpenAccess%2Cjournal%2CopenAccessPdf%2CpaperId%2CpublicationDate%2CpublicationTypes%2CpublicationVenue%2CreferenceCount%2Cs2FieldsOfStudy%2Ctitle%2Curl%2Cvenue%2Cyear&offset=0&limit=100 \"HTTP/1.1 200 OK\"\n",
      "2025-04-15 10:43:39,912 - INFO - HTTP Request: GET https://api.semanticscholar.org/graph/v1/paper/10.48550/arXiv.2503.08506/references?fields=contexts%2Cintents%2CcontextsWithIntent%2CisInfluential%2Cabstract%2Cauthors%2CcitationCount%2CcitationStyles%2CcorpusId%2CexternalIds%2CfieldsOfStudy%2CinfluentialCitationCount%2CisOpenAccess%2Cjournal%2CopenAccessPdf%2CpaperId%2CpublicationDate%2CpublicationTypes%2CpublicationVenue%2CreferenceCount%2Cs2FieldsOfStudy%2Ctitle%2Curl%2Cvenue%2Cyear&offset=0&limit=100 \"HTTP/1.1 200 OK\"\n",
      "2025-04-15 10:43:39,912 - INFO - HTTP Request: GET https://api.semanticscholar.org/graph/v1/paper/10.48550/arXiv.2410.03019/references?fields=contexts%2Cintents%2CcontextsWithIntent%2CisInfluential%2Cabstract%2Cauthors%2CcitationCount%2CcitationStyles%2CcorpusId%2CexternalIds%2CfieldsOfStudy%2CinfluentialCitationCount%2CisOpenAccess%2Cjournal%2CopenAccessPdf%2CpaperId%2CpublicationDate%2CpublicationTypes%2CpublicationVenue%2CreferenceCount%2Cs2FieldsOfStudy%2Ctitle%2Curl%2Cvenue%2Cyear&offset=0&limit=100 \"HTTP/1.1 200 OK\"\n",
      "2025-04-15 10:43:40,117 - INFO - _sync_get_paper_references: API call successful for paper 10.48550/arXiv.2502.11736, returning 34 items.\n",
      "2025-04-15 10:43:40,132 - INFO - _sync_get_paper_references: API call successful for paper 10.48550/arXiv.2502.14776, returning 38 items.\n",
      "2025-04-15 10:43:40,138 - INFO - _sync_get_paper_references: API call successful for paper 10.48550/arXiv.2409.16813, returning 23 items.\n",
      "2025-04-15 10:43:40,152 - INFO - _sync_get_paper_references: API call successful for paper 10.48550/arXiv.2502.17086, returning 25 items.\n",
      "2025-04-15 10:43:40,164 - INFO - _sync_get_paper_references: API call successful for paper 10.48550/arXiv.2408.10365, returning 37 items.\n",
      "2025-04-15 10:43:40,227 - INFO - _sync_get_paper_references: API call successful for paper 10.48550/arXiv.2503.04629, returning 32 items.\n",
      "2025-04-15 10:43:40,262 - INFO - _sync_get_paper_references: API call successful for paper 10.48550/arXiv.2503.08506, returning 32 items.\n",
      "2025-04-15 10:43:40,391 - INFO - _sync_get_paper_references: API call successful for paper 10.48550/arXiv.2410.03019, returning 29 items.\n",
      "2025-04-15 10:43:42,633 - INFO - Processing 0 cited papers for 10.48550/arXiv.2401.04259.\n",
      "2025-04-15 10:43:42,634 - INFO - Processing 0 cited papers for 10.48550/arXiv.2502.12510.\n",
      "2025-04-15 10:43:42,635 - INFO - _sync_get_paper_references: Thread started for paper 10.48550/arXiv.2306.00622 with limit 100.\n",
      "2025-04-15 10:43:42,637 - INFO - _sync_get_paper_references: Thread started for paper 10.48550/arXiv.2404.07738 with limit 100.\n",
      "2025-04-15 10:43:43,119 - INFO - Fetching abstracts for 14 cited papers (references).\n",
      "2025-04-15 10:43:43,120 - INFO - async_search_paper_by_ids: Creating 1 tasks for 14 IDs.\n",
      "2025-04-15 10:43:43,121 - INFO - async_search_paper_by_ids: Gathering 1 tasks...\n",
      "2025-04-15 10:43:43,122 - INFO - _sync_get_paper_references: Thread started for paper 10.48550/arXiv.2406.16253 with limit 100.\n",
      "2025-04-15 10:43:43,133 - INFO - Fetching abstracts for 21 cited papers (references).\n",
      "2025-04-15 10:43:43,133 - INFO - async_search_paper_by_ids: Creating 1 tasks for 21 IDs.\n",
      "2025-04-15 10:43:43,134 - INFO - async_search_paper_by_ids: Gathering 1 tasks...\n",
      "2025-04-15 10:43:43,134 - INFO - _sync_get_paper_references: Thread started for paper 10.48550/arXiv.2404.17605 with limit 100.\n",
      "2025-04-15 10:43:43,141 - INFO - Fetching abstracts for 15 cited papers (references).\n",
      "2025-04-15 10:43:43,141 - INFO - async_search_paper_by_ids: Creating 1 tasks for 15 IDs.\n",
      "2025-04-15 10:43:43,142 - INFO - async_search_paper_by_ids: Gathering 1 tasks...\n",
      "2025-04-15 10:43:43,142 - INFO - _sync_get_paper_references: Thread started for paper 10.48550/arXiv.2405.02150 with limit 100.\n",
      "2025-04-15 10:43:43,153 - INFO - Fetching abstracts for 16 cited papers (references).\n",
      "2025-04-15 10:43:43,154 - INFO - async_search_paper_by_ids: Creating 1 tasks for 16 IDs.\n",
      "2025-04-15 10:43:43,154 - INFO - async_search_paper_by_ids: Gathering 1 tasks...\n",
      "2025-04-15 10:43:43,155 - INFO - _sync_get_paper_references: Thread started for paper 10.48550/arXiv.2502.19614 with limit 100.\n",
      "2025-04-15 10:43:43,165 - INFO - Fetching abstracts for 20 cited papers (references).\n",
      "2025-04-15 10:43:43,166 - INFO - async_search_paper_by_ids: Creating 1 tasks for 20 IDs.\n",
      "2025-04-15 10:43:43,166 - INFO - async_search_paper_by_ids: Gathering 1 tasks...\n",
      "2025-04-15 10:43:43,166 - INFO - _sync_get_paper_references: Thread started for paper 10.48550/arXiv.2410.22394 with limit 100.\n",
      "2025-04-15 10:43:43,230 - INFO - Fetching abstracts for 23 cited papers (references).\n",
      "2025-04-15 10:43:43,231 - INFO - async_search_paper_by_ids: Creating 1 tasks for 23 IDs.\n",
      "2025-04-15 10:43:43,232 - INFO - async_search_paper_by_ids: Gathering 1 tasks...\n",
      "2025-04-15 10:43:43,233 - INFO - _sync_get_paper_references: Thread started for paper 10.48550/arXiv.2503.08569 with limit 100.\n",
      "2025-04-15 10:43:43,264 - INFO - Fetching abstracts for 24 cited papers (references).\n",
      "2025-04-15 10:43:43,265 - INFO - async_search_paper_by_ids: Creating 1 tasks for 24 IDs.\n",
      "2025-04-15 10:43:43,266 - INFO - async_search_paper_by_ids: Gathering 1 tasks...\n",
      "2025-04-15 10:43:43,267 - INFO - _sync_get_paper_references: Thread started for paper 10.48550/arXiv.2501.04306 with limit 100.\n",
      "2025-04-15 10:43:43,393 - INFO - Fetching abstracts for 20 cited papers (references).\n",
      "2025-04-15 10:43:43,394 - INFO - async_search_paper_by_ids: Creating 1 tasks for 20 IDs.\n",
      "2025-04-15 10:43:43,395 - INFO - async_search_paper_by_ids: Gathering 1 tasks...\n",
      "2025-04-15 10:43:43,396 - INFO - _sync_get_paper_references: Thread started for paper 10.48550/arXiv.2307.05492 with limit 100.\n",
      "2025-04-15 10:43:44,123 - INFO - HTTP Request: GET https://api.semanticscholar.org/graph/v1/paper/10.48550/arXiv.2404.07738/references?fields=contexts%2Cintents%2CcontextsWithIntent%2CisInfluential%2Cabstract%2Cauthors%2CcitationCount%2CcitationStyles%2CcorpusId%2CexternalIds%2CfieldsOfStudy%2CinfluentialCitationCount%2CisOpenAccess%2Cjournal%2CopenAccessPdf%2CpaperId%2CpublicationDate%2CpublicationTypes%2CpublicationVenue%2CreferenceCount%2Cs2FieldsOfStudy%2Ctitle%2Curl%2Cvenue%2Cyear&offset=0&limit=100 \"HTTP/1.1 200 OK\"\n",
      "2025-04-15 10:43:44,230 - INFO - HTTP Request: GET https://api.semanticscholar.org/graph/v1/paper/10.48550/arXiv.2501.04306/references?fields=contexts%2Cintents%2CcontextsWithIntent%2CisInfluential%2Cabstract%2Cauthors%2CcitationCount%2CcitationStyles%2CcorpusId%2CexternalIds%2CfieldsOfStudy%2CinfluentialCitationCount%2CisOpenAccess%2Cjournal%2CopenAccessPdf%2CpaperId%2CpublicationDate%2CpublicationTypes%2CpublicationVenue%2CreferenceCount%2Cs2FieldsOfStudy%2Ctitle%2Curl%2Cvenue%2Cyear&offset=0&limit=100 \"HTTP/1.1 200 OK\"\n",
      "2025-04-15 10:43:44,231 - INFO - _sync_get_paper_references: API call successful for paper 10.48550/arXiv.2501.04306, returning 0 items.\n",
      "2025-04-15 10:43:44,450 - INFO - HTTP Request: GET https://api.semanticscholar.org/graph/v1/paper/10.48550/arXiv.2306.00622/references?fields=contexts%2Cintents%2CcontextsWithIntent%2CisInfluential%2Cabstract%2Cauthors%2CcitationCount%2CcitationStyles%2CcorpusId%2CexternalIds%2CfieldsOfStudy%2CinfluentialCitationCount%2CisOpenAccess%2Cjournal%2CopenAccessPdf%2CpaperId%2CpublicationDate%2CpublicationTypes%2CpublicationVenue%2CreferenceCount%2Cs2FieldsOfStudy%2Ctitle%2Curl%2Cvenue%2Cyear&offset=0&limit=100 \"HTTP/1.1 200 OK\"\n",
      "2025-04-15 10:43:44,489 - INFO - HTTP Request: GET https://api.semanticscholar.org/graph/v1/paper/10.48550/arXiv.2406.16253/references?fields=contexts%2Cintents%2CcontextsWithIntent%2CisInfluential%2Cabstract%2Cauthors%2CcitationCount%2CcitationStyles%2CcorpusId%2CexternalIds%2CfieldsOfStudy%2CinfluentialCitationCount%2CisOpenAccess%2Cjournal%2CopenAccessPdf%2CpaperId%2CpublicationDate%2CpublicationTypes%2CpublicationVenue%2CreferenceCount%2Cs2FieldsOfStudy%2Ctitle%2Curl%2Cvenue%2Cyear&offset=0&limit=100 \"HTTP/1.1 200 OK\"\n",
      "2025-04-15 10:43:44,578 - INFO - HTTP Request: GET https://api.semanticscholar.org/graph/v1/paper/10.48550/arXiv.2410.22394/references?fields=contexts%2Cintents%2CcontextsWithIntent%2CisInfluential%2Cabstract%2Cauthors%2CcitationCount%2CcitationStyles%2CcorpusId%2CexternalIds%2CfieldsOfStudy%2CinfluentialCitationCount%2CisOpenAccess%2Cjournal%2CopenAccessPdf%2CpaperId%2CpublicationDate%2CpublicationTypes%2CpublicationVenue%2CreferenceCount%2Cs2FieldsOfStudy%2Ctitle%2Curl%2Cvenue%2Cyear&offset=0&limit=100 \"HTTP/1.1 200 OK\"\n",
      "2025-04-15 10:43:44,650 - INFO - HTTP Request: GET https://api.semanticscholar.org/graph/v1/paper/10.48550/arXiv.2502.19614/references?fields=contexts%2Cintents%2CcontextsWithIntent%2CisInfluential%2Cabstract%2Cauthors%2CcitationCount%2CcitationStyles%2CcorpusId%2CexternalIds%2CfieldsOfStudy%2CinfluentialCitationCount%2CisOpenAccess%2Cjournal%2CopenAccessPdf%2CpaperId%2CpublicationDate%2CpublicationTypes%2CpublicationVenue%2CreferenceCount%2Cs2FieldsOfStudy%2Ctitle%2Curl%2Cvenue%2Cyear&offset=0&limit=100 \"HTTP/1.1 200 OK\"\n",
      "2025-04-15 10:43:44,652 - INFO - HTTP Request: GET https://api.semanticscholar.org/graph/v1/paper/10.48550/arXiv.2503.08569/references?fields=contexts%2Cintents%2CcontextsWithIntent%2CisInfluential%2Cabstract%2Cauthors%2CcitationCount%2CcitationStyles%2CcorpusId%2CexternalIds%2CfieldsOfStudy%2CinfluentialCitationCount%2CisOpenAccess%2Cjournal%2CopenAccessPdf%2CpaperId%2CpublicationDate%2CpublicationTypes%2CpublicationVenue%2CreferenceCount%2Cs2FieldsOfStudy%2Ctitle%2Curl%2Cvenue%2Cyear&offset=0&limit=100 \"HTTP/1.1 200 OK\"\n",
      "2025-04-15 10:43:44,673 - INFO - _sync_get_paper_references: API call successful for paper 10.48550/arXiv.2404.07738, returning 41 items.\n",
      "2025-04-15 10:43:44,715 - INFO - HTTP Request: GET https://api.semanticscholar.org/graph/v1/paper/10.48550/arXiv.2404.17605/references?fields=contexts%2Cintents%2CcontextsWithIntent%2CisInfluential%2Cabstract%2Cauthors%2CcitationCount%2CcitationStyles%2CcorpusId%2CexternalIds%2CfieldsOfStudy%2CinfluentialCitationCount%2CisOpenAccess%2Cjournal%2CopenAccessPdf%2CpaperId%2CpublicationDate%2CpublicationTypes%2CpublicationVenue%2CreferenceCount%2Cs2FieldsOfStudy%2Ctitle%2Curl%2Cvenue%2Cyear&offset=0&limit=100 \"HTTP/1.1 200 OK\"\n",
      "2025-04-15 10:43:44,845 - INFO - _sync_get_paper_references: API call successful for paper 10.48550/arXiv.2406.16253, returning 41 items.\n",
      "2025-04-15 10:43:45,094 - INFO - _sync_get_paper_references: API call successful for paper 10.48550/arXiv.2410.22394, returning 49 items.\n",
      "2025-04-15 10:43:45,131 - INFO - HTTP Request: GET https://api.semanticscholar.org/graph/v1/paper/10.48550/arXiv.2307.05492/references?fields=contexts%2Cintents%2CcontextsWithIntent%2CisInfluential%2Cabstract%2Cauthors%2CcitationCount%2CcitationStyles%2CcorpusId%2CexternalIds%2CfieldsOfStudy%2CinfluentialCitationCount%2CisOpenAccess%2Cjournal%2CopenAccessPdf%2CpaperId%2CpublicationDate%2CpublicationTypes%2CpublicationVenue%2CreferenceCount%2Cs2FieldsOfStudy%2Ctitle%2Curl%2Cvenue%2Cyear&offset=0&limit=100 \"HTTP/1.1 200 OK\"\n",
      "2025-04-15 10:43:45,172 - INFO - _sync_get_paper_references: API call successful for paper 10.48550/arXiv.2306.00622, returning 92 items.\n",
      "2025-04-15 10:43:45,223 - INFO - _sync_get_paper_references: API call successful for paper 10.48550/arXiv.2404.17605, returning 55 items.\n",
      "2025-04-15 10:43:45,229 - INFO - HTTP Request: GET https://api.semanticscholar.org/graph/v1/paper/10.48550/arXiv.2405.02150/references?fields=contexts%2Cintents%2CcontextsWithIntent%2CisInfluential%2Cabstract%2Cauthors%2CcitationCount%2CcitationStyles%2CcorpusId%2CexternalIds%2CfieldsOfStudy%2CinfluentialCitationCount%2CisOpenAccess%2Cjournal%2CopenAccessPdf%2CpaperId%2CpublicationDate%2CpublicationTypes%2CpublicationVenue%2CreferenceCount%2Cs2FieldsOfStudy%2Ctitle%2Curl%2Cvenue%2Cyear&offset=0&limit=100 \"HTTP/1.1 200 OK\"\n",
      "2025-04-15 10:43:45,235 - INFO - _sync_get_paper_references: API call successful for paper 10.48550/arXiv.2503.08569, returning 65 items.\n",
      "2025-04-15 10:43:45,245 - INFO - _sync_get_paper_references: API call successful for paper 10.48550/arXiv.2502.19614, returning 58 items.\n",
      "2025-04-15 10:43:45,390 - INFO - _sync_get_paper_references: API call successful for paper 10.48550/arXiv.2307.05492, returning 22 items.\n",
      "2025-04-15 10:43:45,692 - INFO - _sync_get_paper_references: API call successful for paper 10.48550/arXiv.2405.02150, returning 46 items.\n",
      "2025-04-15 10:43:47,234 - INFO - Processing 0 cited papers for 10.48550/arXiv.2501.04306.\n",
      "2025-04-15 10:43:47,235 - INFO - _sync_get_papers: Thread started for batch (14 IDs, first 5: ['3a7fa673ff8ec4ec2f322473de005f3cd09ea820', 'b55e490637babd50dab3cdaaa3a60a2be6eb1cbb', '403c9b2f2eb2d6ca4f9be20f8dc45726d5299396', '295065d942abca0711300b2b4c39829551060578', '62729cff7dda7614f648a84e8967076d8878a5ff']...).\n",
      "2025-04-15 10:43:47,676 - INFO - Fetching abstracts for 25 cited papers (references).\n",
      "2025-04-15 10:43:47,677 - INFO - async_search_paper_by_ids: Creating 1 tasks for 25 IDs.\n",
      "2025-04-15 10:43:47,677 - INFO - async_search_paper_by_ids: Gathering 1 tasks...\n",
      "2025-04-15 10:43:47,678 - INFO - _sync_get_papers: Thread started for batch (21 IDs, first 5: ['9c5609baff6175b0a2e436bb69e89737c4be3cf4', 'f7212245d3787c66b8dc1e9fa4bc48349cef1155', '2fcad63cc68ca74acdfafdbc145325ee59952f24', 'ea4fa9e7155cf064de19862e41a6e63738770012', '3b25891de34ff5699bac1dc4c896c671412ab13e']...).\n",
      "2025-04-15 10:43:47,848 - INFO - Fetching abstracts for 18 cited papers (references).\n",
      "2025-04-15 10:43:47,849 - INFO - async_search_paper_by_ids: Creating 1 tasks for 18 IDs.\n",
      "2025-04-15 10:43:47,850 - INFO - async_search_paper_by_ids: Gathering 1 tasks...\n",
      "2025-04-15 10:43:47,850 - INFO - _sync_get_papers: Thread started for batch (15 IDs, first 5: ['f38b2f1a5280bd2f8e0a7c754782843fb4cb28f6', '7c2b3c4ab6d701de7bd9df91d7448f3c06a1e9d7', 'd670f9998be7e9ac0682a18d75a7474ebb1d4084', '2b4edb9515a26561ea3f9ee2a63a506721c8369e', 'afd2dce7ed091edbc2bbf7b1dec0f04f0a3256dc']...).\n",
      "2025-04-15 10:43:48,097 - INFO - Fetching abstracts for 34 cited papers (references).\n",
      "2025-04-15 10:43:48,097 - INFO - async_search_paper_by_ids: Creating 1 tasks for 34 IDs.\n",
      "2025-04-15 10:43:48,098 - INFO - async_search_paper_by_ids: Gathering 1 tasks...\n",
      "2025-04-15 10:43:48,098 - INFO - _sync_get_papers: Thread started for batch (16 IDs, first 5: ['924956d6c788c9ea67ecdc80b63742d74350549e', '80dd4038248f20eda7a69f682258df04e8d774f6', 'd4ccd259f790942b6e25c302c86a97387ebfb4dd', '9f3ae8055e227edb413c54417c9c216f1f554f52', 'c476c92f86c590ada95421cf597910259927771b']...).\n",
      "2025-04-15 10:43:48,175 - INFO - Fetching abstracts for 55 cited papers (references).\n",
      "2025-04-15 10:43:48,175 - INFO - async_search_paper_by_ids: Creating 1 tasks for 55 IDs.\n",
      "2025-04-15 10:43:48,176 - INFO - async_search_paper_by_ids: Gathering 1 tasks...\n",
      "2025-04-15 10:43:48,177 - INFO - _sync_get_papers: Thread started for batch (20 IDs, first 5: ['4a5e4ddfb61ef7124673d29a3490b2ed4d2aa946', '8919cffde95c0e2494f51056f585e1d67e2e9869', '68c03788224000794d5491ab459be0b2a2c38677', '22a39c01eabc7b6abfe81130fae8d53f5ea20d52', '62729cff7dda7614f648a84e8967076d8878a5ff']...).\n",
      "2025-04-15 10:43:48,225 - INFO - Fetching abstracts for 37 cited papers (references).\n",
      "2025-04-15 10:43:48,226 - INFO - async_search_paper_by_ids: Creating 1 tasks for 37 IDs.\n",
      "2025-04-15 10:43:48,227 - INFO - async_search_paper_by_ids: Gathering 1 tasks...\n",
      "2025-04-15 10:43:48,228 - INFO - _sync_get_papers: Thread started for batch (23 IDs, first 5: ['99e5d27e6af6f6a53d23ceb0c53e09503c4b6403', 'b31cdc16c09cabd0f27e6c20b5bc6dda655db82e', '163b4d6a79a5b19af88b8585456363340d9efd04', '57e849d0de13ed5f91d086936296721d4ff75a75', '84109e1235b725f4bb44a54bab8b493bd723fdd3']...).\n",
      "2025-04-15 10:43:48,236 - INFO - Fetching abstracts for 52 cited papers (references).\n",
      "2025-04-15 10:43:48,237 - INFO - async_search_paper_by_ids: Creating 1 tasks for 52 IDs.\n",
      "2025-04-15 10:43:48,237 - INFO - async_search_paper_by_ids: Gathering 1 tasks...\n",
      "2025-04-15 10:43:48,237 - INFO - _sync_get_papers: Thread started for batch (24 IDs, first 5: ['df2b0e26d0599ce3e70df8a9da02e51594e0e992', '62729cff7dda7614f648a84e8967076d8878a5ff', '8728a996ceddd79eda7280608e61b11e5f993715', '63aa9598da11da04d044ecf7211b2055b7a1775c', 'f2209eb5ac6747319a29b87dedabb97770be3243']...).\n",
      "2025-04-15 10:43:48,248 - INFO - Fetching abstracts for 33 cited papers (references).\n",
      "2025-04-15 10:43:48,249 - INFO - async_search_paper_by_ids: Creating 1 tasks for 33 IDs.\n",
      "2025-04-15 10:43:48,249 - INFO - async_search_paper_by_ids: Gathering 1 tasks...\n",
      "2025-04-15 10:43:48,249 - INFO - _sync_get_papers: Thread started for batch (20 IDs, first 5: ['e8e068349efc114589042f30e888b81ea58db86e', 'e2352eb8e69d7cc0d98f9b13eae33f9c02310ad4', '163b4d6a79a5b19af88b8585456363340d9efd04', '67f211fa66335dc32be2ec630b85a6f9026fa9de', 'f2209eb5ac6747319a29b87dedabb97770be3243']...).\n",
      "2025-04-15 10:43:48,393 - INFO - Fetching abstracts for 15 cited papers (references).\n",
      "2025-04-15 10:43:48,394 - INFO - async_search_paper_by_ids: Creating 1 tasks for 15 IDs.\n",
      "2025-04-15 10:43:48,394 - INFO - async_search_paper_by_ids: Gathering 1 tasks...\n",
      "2025-04-15 10:43:48,395 - INFO - _sync_get_papers: Thread started for batch (25 IDs, first 5: ['63aa9598da11da04d044ecf7211b2055b7a1775c', '785c0d4efd3aaa946f8bdcd12b38a147cc36b794', '6c5c6f883604a3abaa829b83d2958de8c343beeb', '35d93d342d873a3a57a8731c375f755b986820de', 'b5904cd5dbf73b8d5ff13517de490c292d877ee0']...).\n",
      "2025-04-15 10:43:48,428 - INFO - HTTP Request: POST https://api.semanticscholar.org/graph/v1/paper/batch?fields=abstract%2Cauthors%2CcitationCount%2CcitationStyles%2CcorpusId%2CexternalIds%2CfieldsOfStudy%2CinfluentialCitationCount%2CisOpenAccess%2Cjournal%2CopenAccessPdf%2CpaperId%2CpublicationDate%2CpublicationTypes%2CpublicationVenue%2CreferenceCount%2Cs2FieldsOfStudy%2Ctitle%2Curl%2Cvenue%2Cyear \"HTTP/1.1 200 OK\"\n",
      "2025-04-15 10:43:48,435 - INFO - _sync_get_papers: API call successful for batch (first 5: ['3a7fa673ff8ec4ec2f322473de005f3cd09ea820', 'b55e490637babd50dab3cdaaa3a60a2be6eb1cbb', '403c9b2f2eb2d6ca4f9be20f8dc45726d5299396', '295065d942abca0711300b2b4c39829551060578', '62729cff7dda7614f648a84e8967076d8878a5ff']...), returning 14 items.\n",
      "2025-04-15 10:43:48,693 - INFO - Fetching abstracts for 29 cited papers (references).\n",
      "2025-04-15 10:43:48,694 - INFO - async_search_paper_by_ids: Creating 1 tasks for 29 IDs.\n",
      "2025-04-15 10:43:48,694 - INFO - async_search_paper_by_ids: Gathering 1 tasks...\n",
      "2025-04-15 10:43:48,695 - INFO - _sync_get_papers: Thread started for batch (18 IDs, first 5: ['60b05f32c32519a809f21642ef1eb3eaf3848008', '89d008f2262f3fd6810f13483f900bf45c368a01', '8ad673e230e6541d281107f73ebd32a46d6051d3', 'ac8c5a87ea8faebfa5a96d6a38b692c88a2928db', '7c2b3c4ab6d701de7bd9df91d7448f3c06a1e9d7']...).\n",
      "2025-04-15 10:43:48,941 - INFO - HTTP Request: POST https://api.semanticscholar.org/graph/v1/paper/batch?fields=abstract%2Cauthors%2CcitationCount%2CcitationStyles%2CcorpusId%2CexternalIds%2CfieldsOfStudy%2CinfluentialCitationCount%2CisOpenAccess%2Cjournal%2CopenAccessPdf%2CpaperId%2CpublicationDate%2CpublicationTypes%2CpublicationVenue%2CreferenceCount%2Cs2FieldsOfStudy%2Ctitle%2Curl%2Cvenue%2Cyear \"HTTP/1.1 200 OK\"\n",
      "2025-04-15 10:43:48,944 - INFO - HTTP Request: POST https://api.semanticscholar.org/graph/v1/paper/batch?fields=abstract%2Cauthors%2CcitationCount%2CcitationStyles%2CcorpusId%2CexternalIds%2CfieldsOfStudy%2CinfluentialCitationCount%2CisOpenAccess%2Cjournal%2CopenAccessPdf%2CpaperId%2CpublicationDate%2CpublicationTypes%2CpublicationVenue%2CreferenceCount%2Cs2FieldsOfStudy%2Ctitle%2Curl%2Cvenue%2Cyear \"HTTP/1.1 200 OK\"\n",
      "2025-04-15 10:43:49,206 - INFO - _sync_get_papers: API call successful for batch (first 5: ['f38b2f1a5280bd2f8e0a7c754782843fb4cb28f6', '7c2b3c4ab6d701de7bd9df91d7448f3c06a1e9d7', 'd670f9998be7e9ac0682a18d75a7474ebb1d4084', '2b4edb9515a26561ea3f9ee2a63a506721c8369e', 'afd2dce7ed091edbc2bbf7b1dec0f04f0a3256dc']...), returning 15 items.\n",
      "2025-04-15 10:43:49,229 - INFO - _sync_get_papers: API call successful for batch (first 5: ['9c5609baff6175b0a2e436bb69e89737c4be3cf4', 'f7212245d3787c66b8dc1e9fa4bc48349cef1155', '2fcad63cc68ca74acdfafdbc145325ee59952f24', 'ea4fa9e7155cf064de19862e41a6e63738770012', '3b25891de34ff5699bac1dc4c896c671412ab13e']...), returning 21 items.\n",
      "2025-04-15 10:43:49,455 - INFO - HTTP Request: POST https://api.semanticscholar.org/graph/v1/paper/batch?fields=abstract%2Cauthors%2CcitationCount%2CcitationStyles%2CcorpusId%2CexternalIds%2CfieldsOfStudy%2CinfluentialCitationCount%2CisOpenAccess%2Cjournal%2CopenAccessPdf%2CpaperId%2CpublicationDate%2CpublicationTypes%2CpublicationVenue%2CreferenceCount%2Cs2FieldsOfStudy%2Ctitle%2Curl%2Cvenue%2Cyear \"HTTP/1.1 200 OK\"\n",
      "2025-04-15 10:43:49,460 - INFO - HTTP Request: POST https://api.semanticscholar.org/graph/v1/paper/batch?fields=abstract%2Cauthors%2CcitationCount%2CcitationStyles%2CcorpusId%2CexternalIds%2CfieldsOfStudy%2CinfluentialCitationCount%2CisOpenAccess%2Cjournal%2CopenAccessPdf%2CpaperId%2CpublicationDate%2CpublicationTypes%2CpublicationVenue%2CreferenceCount%2Cs2FieldsOfStudy%2Ctitle%2Curl%2Cvenue%2Cyear \"HTTP/1.1 200 OK\"\n",
      "2025-04-15 10:43:49,460 - INFO - HTTP Request: POST https://api.semanticscholar.org/graph/v1/paper/batch?fields=abstract%2Cauthors%2CcitationCount%2CcitationStyles%2CcorpusId%2CexternalIds%2CfieldsOfStudy%2CinfluentialCitationCount%2CisOpenAccess%2Cjournal%2CopenAccessPdf%2CpaperId%2CpublicationDate%2CpublicationTypes%2CpublicationVenue%2CreferenceCount%2Cs2FieldsOfStudy%2Ctitle%2Curl%2Cvenue%2Cyear \"HTTP/1.1 200 OK\"\n",
      "2025-04-15 10:43:49,762 - INFO - HTTP Request: POST https://api.semanticscholar.org/graph/v1/paper/batch?fields=abstract%2Cauthors%2CcitationCount%2CcitationStyles%2CcorpusId%2CexternalIds%2CfieldsOfStudy%2CinfluentialCitationCount%2CisOpenAccess%2Cjournal%2CopenAccessPdf%2CpaperId%2CpublicationDate%2CpublicationTypes%2CpublicationVenue%2CreferenceCount%2Cs2FieldsOfStudy%2Ctitle%2Curl%2Cvenue%2Cyear \"HTTP/1.1 200 OK\"\n",
      "2025-04-15 10:43:49,769 - INFO - _sync_get_papers: API call successful for batch (first 5: ['924956d6c788c9ea67ecdc80b63742d74350549e', '80dd4038248f20eda7a69f682258df04e8d774f6', 'd4ccd259f790942b6e25c302c86a97387ebfb4dd', '9f3ae8055e227edb413c54417c9c216f1f554f52', 'c476c92f86c590ada95421cf597910259927771b']...), returning 16 items.\n",
      "2025-04-15 10:43:49,897 - INFO - HTTP Request: POST https://api.semanticscholar.org/graph/v1/paper/batch?fields=abstract%2Cauthors%2CcitationCount%2CcitationStyles%2CcorpusId%2CexternalIds%2CfieldsOfStudy%2CinfluentialCitationCount%2CisOpenAccess%2Cjournal%2CopenAccessPdf%2CpaperId%2CpublicationDate%2CpublicationTypes%2CpublicationVenue%2CreferenceCount%2Cs2FieldsOfStudy%2Ctitle%2Curl%2Cvenue%2Cyear \"HTTP/1.1 200 OK\"\n",
      "2025-04-15 10:43:49,980 - INFO - _sync_get_papers: API call successful for batch (first 5: ['4a5e4ddfb61ef7124673d29a3490b2ed4d2aa946', '8919cffde95c0e2494f51056f585e1d67e2e9869', '68c03788224000794d5491ab459be0b2a2c38677', '22a39c01eabc7b6abfe81130fae8d53f5ea20d52', '62729cff7dda7614f648a84e8967076d8878a5ff']...), returning 20 items.\n",
      "2025-04-15 10:43:49,985 - INFO - HTTP Request: POST https://api.semanticscholar.org/graph/v1/paper/batch?fields=abstract%2Cauthors%2CcitationCount%2CcitationStyles%2CcorpusId%2CexternalIds%2CfieldsOfStudy%2CinfluentialCitationCount%2CisOpenAccess%2Cjournal%2CopenAccessPdf%2CpaperId%2CpublicationDate%2CpublicationTypes%2CpublicationVenue%2CreferenceCount%2Cs2FieldsOfStudy%2Ctitle%2Curl%2Cvenue%2Cyear \"HTTP/1.1 200 OK\"\n",
      "2025-04-15 10:43:50,003 - INFO - HTTP Request: POST https://api.semanticscholar.org/graph/v1/paper/batch?fields=abstract%2Cauthors%2CcitationCount%2CcitationStyles%2CcorpusId%2CexternalIds%2CfieldsOfStudy%2CinfluentialCitationCount%2CisOpenAccess%2Cjournal%2CopenAccessPdf%2CpaperId%2CpublicationDate%2CpublicationTypes%2CpublicationVenue%2CreferenceCount%2Cs2FieldsOfStudy%2Ctitle%2Curl%2Cvenue%2Cyear \"HTTP/1.1 200 OK\"\n",
      "2025-04-15 10:43:50,026 - INFO - _sync_get_papers: API call successful for batch (first 5: ['df2b0e26d0599ce3e70df8a9da02e51594e0e992', '62729cff7dda7614f648a84e8967076d8878a5ff', '8728a996ceddd79eda7280608e61b11e5f993715', '63aa9598da11da04d044ecf7211b2055b7a1775c', 'f2209eb5ac6747319a29b87dedabb97770be3243']...), returning 24 items.\n",
      "2025-04-15 10:43:50,140 - INFO - _sync_get_papers: API call successful for batch (first 5: ['60b05f32c32519a809f21642ef1eb3eaf3848008', '89d008f2262f3fd6810f13483f900bf45c368a01', '8ad673e230e6541d281107f73ebd32a46d6051d3', 'ac8c5a87ea8faebfa5a96d6a38b692c88a2928db', '7c2b3c4ab6d701de7bd9df91d7448f3c06a1e9d7']...), returning 18 items.\n",
      "2025-04-15 10:43:50,192 - INFO - _sync_get_papers: API call successful for batch (first 5: ['99e5d27e6af6f6a53d23ceb0c53e09503c4b6403', 'b31cdc16c09cabd0f27e6c20b5bc6dda655db82e', '163b4d6a79a5b19af88b8585456363340d9efd04', '57e849d0de13ed5f91d086936296721d4ff75a75', '84109e1235b725f4bb44a54bab8b493bd723fdd3']...), returning 23 items.\n",
      "2025-04-15 10:43:50,221 - INFO - _sync_get_papers: API call successful for batch (first 5: ['63aa9598da11da04d044ecf7211b2055b7a1775c', '785c0d4efd3aaa946f8bdcd12b38a147cc36b794', '6c5c6f883604a3abaa829b83d2958de8c343beeb', '35d93d342d873a3a57a8731c375f755b986820de', 'b5904cd5dbf73b8d5ff13517de490c292d877ee0']...), returning 25 items.\n",
      "2025-04-15 10:43:50,299 - INFO - _sync_get_papers: API call successful for batch (first 5: ['e8e068349efc114589042f30e888b81ea58db86e', 'e2352eb8e69d7cc0d98f9b13eae33f9c02310ad4', '163b4d6a79a5b19af88b8585456363340d9efd04', '67f211fa66335dc32be2ec630b85a6f9026fa9de', 'f2209eb5ac6747319a29b87dedabb97770be3243']...), returning 20 items.\n",
      "2025-04-15 10:43:51,439 - INFO - async_search_paper_by_ids: Gather complete. Processing results.\n",
      "2025-04-15 10:43:51,439 - INFO - _sync_get_papers: Thread started for batch (34 IDs, first 5: ['9073bbdd55d6999e6717f92bfb7764d947642660', '6f19f604d250e50315d38a8f9a3edd84161ce8cb', 'febe219ed403e502413988fd4c779dcc61bf6b85', '8d806a91e5f2166ee6823eb7e6e8e56826b6776d', '163b4d6a79a5b19af88b8585456363340d9efd04']...).\n",
      "2025-04-15 10:43:51,440 - INFO - Found abstracts for 8 cited papers.\n",
      "2025-04-15 10:43:51,441 - INFO - Processing 34 cited papers for 10.48550/arXiv.2502.11736.\n",
      "2025-04-15 10:43:52,208 - INFO - async_search_paper_by_ids: Gather complete. Processing results.\n",
      "2025-04-15 10:43:52,210 - INFO - _sync_get_papers: Thread started for batch (55 IDs, first 5: ['f197bf0fc2f228483f6af3285000d54d8d97f9eb', 'f32c67daa6a93281bd8645fc2fa423dca67aea00', 'c65ccede97dff47d41fa63706591f7136a67accb', 'd5fa5bd2ae89296acbfd9766f50c909f2c42effe', 'be8c089b8dbad9eeab0b7095733bc8517780686e']...).\n",
      "2025-04-15 10:43:52,210 - INFO - Found abstracts for 11 cited papers.\n",
      "2025-04-15 10:43:52,212 - INFO - Processing 23 cited papers for 10.48550/arXiv.2409.16813.\n",
      "2025-04-15 10:43:52,231 - INFO - async_search_paper_by_ids: Gather complete. Processing results.\n",
      "2025-04-15 10:43:52,231 - INFO - _sync_get_papers: Thread started for batch (37 IDs, first 5: ['a8fc2bef3eabe018fef37e7aa35a45df25b54670', '8b7fee2d868132955d0eed1ef33d49b49c5f456e', '872ea68fa5ddb070c671c44b321d63415d153742', 'b104285af9034964fdc1c5d7864908a34212d1fe', '3def68bd0f856886d34272840a7f81588f2bc082']...).\n",
      "2025-04-15 10:43:52,232 - INFO - Found abstracts for 20 cited papers.\n",
      "2025-04-15 10:43:52,233 - INFO - Processing 38 cited papers for 10.48550/arXiv.2502.14776.\n",
      "2025-04-15 10:43:52,773 - INFO - async_search_paper_by_ids: Gather complete. Processing results.\n",
      "2025-04-15 10:43:52,773 - INFO - _sync_get_papers: Thread started for batch (52 IDs, first 5: ['985298bd0b6f4c84ab34bb15cfed0b092f43b83a', 'f51ecc29f205468c736cea9acb5612b1a0a48ba9', '92173d081b15824d22a9ef070e118744ceee8052', '92c82a51ad13c361d052987694cf93d6a72d5789', '163b4d6a79a5b19af88b8585456363340d9efd04']...).\n",
      "2025-04-15 10:43:52,774 - INFO - Found abstracts for 15 cited papers.\n",
      "2025-04-15 10:43:52,776 - INFO - Processing 25 cited papers for 10.48550/arXiv.2502.17086.\n",
      "2025-04-15 10:43:52,829 - INFO - HTTP Request: POST https://api.semanticscholar.org/graph/v1/paper/batch?fields=abstract%2Cauthors%2CcitationCount%2CcitationStyles%2CcorpusId%2CexternalIds%2CfieldsOfStudy%2CinfluentialCitationCount%2CisOpenAccess%2Cjournal%2CopenAccessPdf%2CpaperId%2CpublicationDate%2CpublicationTypes%2CpublicationVenue%2CreferenceCount%2Cs2FieldsOfStudy%2Ctitle%2Curl%2Cvenue%2Cyear \"HTTP/1.1 200 OK\"\n",
      "2025-04-15 10:43:52,982 - INFO - async_search_paper_by_ids: Gather complete. Processing results.\n",
      "2025-04-15 10:43:52,983 - INFO - Found abstracts for 17 cited papers.\n",
      "2025-04-15 10:43:52,984 - INFO - _sync_get_papers: Thread started for batch (33 IDs, first 5: ['08145978da4c8912f4a05444a6bbf048778dc4af', 'e8e068349efc114589042f30e888b81ea58db86e', '62729cff7dda7614f648a84e8967076d8878a5ff', '163b4d6a79a5b19af88b8585456363340d9efd04', 'f2209eb5ac6747319a29b87dedabb97770be3243']...).\n",
      "2025-04-15 10:43:52,985 - INFO - Processing 37 cited papers for 10.48550/arXiv.2408.10365.\n",
      "2025-04-15 10:43:53,028 - INFO - async_search_paper_by_ids: Gather complete. Processing results.\n",
      "2025-04-15 10:43:53,028 - INFO - _sync_get_papers: Thread started for batch (15 IDs, first 5: ['f3edb73e9267d64ef2a88785cdae7194320fc152', 'b708d10d166e533521e8e323c4ec73e706a5d343', '8919cffde95c0e2494f51056f585e1d67e2e9869', '991107dd70aa3f31615bcdaa6ba154a7a8ec8535', '43f9b9b7dd6e891ec4a65053769dba6d578e4876']...).\n",
      "2025-04-15 10:43:53,029 - INFO - Found abstracts for 23 cited papers.\n",
      "2025-04-15 10:43:53,031 - INFO - Processing 32 cited papers for 10.48550/arXiv.2503.08506.\n",
      "2025-04-15 10:43:53,142 - INFO - async_search_paper_by_ids: Gather complete. Processing results.\n",
      "2025-04-15 10:43:53,142 - INFO - _sync_get_papers: Thread started for batch (29 IDs, first 5: ['44580ac1d4ce5e5cc9cf726836b7d69ded7bcb21', '816bf8ea01fa3140397a6ea9129018c40c0c6f44', '6a84ce99d864be8baa72f011cd8bd5dee3738239', '8f65d64721380f4d9111322391504f5efbee84a9', '54c80345582c48f0a567b77ae341879f515a352e']...).\n",
      "2025-04-15 10:43:53,143 - INFO - Found abstracts for 14 cited papers.\n",
      "2025-04-15 10:43:53,145 - INFO - Processing 41 cited papers for 10.48550/arXiv.2406.16253.\n",
      "2025-04-15 10:43:53,193 - INFO - async_search_paper_by_ids: Gather complete. Processing results.\n",
      "2025-04-15 10:43:53,194 - INFO - Found abstracts for 21 cited papers.\n",
      "2025-04-15 10:43:53,195 - INFO - Processing 32 cited papers for 10.48550/arXiv.2503.04629.\n",
      "2025-04-15 10:43:53,222 - INFO - async_search_paper_by_ids: Gather complete. Processing results.\n",
      "2025-04-15 10:43:53,223 - INFO - Found abstracts for 21 cited papers.\n",
      "2025-04-15 10:43:53,223 - INFO - Processing 41 cited papers for 10.48550/arXiv.2404.07738.\n",
      "2025-04-15 10:43:53,283 - INFO - _sync_get_papers: API call successful for batch (first 5: ['9073bbdd55d6999e6717f92bfb7764d947642660', '6f19f604d250e50315d38a8f9a3edd84161ce8cb', 'febe219ed403e502413988fd4c779dcc61bf6b85', '8d806a91e5f2166ee6823eb7e6e8e56826b6776d', '163b4d6a79a5b19af88b8585456363340d9efd04']...), returning 34 items.\n",
      "2025-04-15 10:43:53,301 - INFO - async_search_paper_by_ids: Gather complete. Processing results.\n",
      "2025-04-15 10:43:53,301 - INFO - Found abstracts for 19 cited papers.\n",
      "2025-04-15 10:43:53,302 - INFO - Processing 29 cited papers for 10.48550/arXiv.2410.03019.\n",
      "2025-04-15 10:43:53,530 - INFO - HTTP Request: POST https://api.semanticscholar.org/graph/v1/paper/batch?fields=abstract%2Cauthors%2CcitationCount%2CcitationStyles%2CcorpusId%2CexternalIds%2CfieldsOfStudy%2CinfluentialCitationCount%2CisOpenAccess%2Cjournal%2CopenAccessPdf%2CpaperId%2CpublicationDate%2CpublicationTypes%2CpublicationVenue%2CreferenceCount%2Cs2FieldsOfStudy%2Ctitle%2Curl%2Cvenue%2Cyear \"HTTP/1.1 200 OK\"\n",
      "2025-04-15 10:43:53,711 - INFO - HTTP Request: POST https://api.semanticscholar.org/graph/v1/paper/batch?fields=abstract%2Cauthors%2CcitationCount%2CcitationStyles%2CcorpusId%2CexternalIds%2CfieldsOfStudy%2CinfluentialCitationCount%2CisOpenAccess%2Cjournal%2CopenAccessPdf%2CpaperId%2CpublicationDate%2CpublicationTypes%2CpublicationVenue%2CreferenceCount%2Cs2FieldsOfStudy%2Ctitle%2Curl%2Cvenue%2Cyear \"HTTP/1.1 200 OK\"\n",
      "2025-04-15 10:43:53,962 - INFO - _sync_get_papers: API call successful for batch (first 5: ['a8fc2bef3eabe018fef37e7aa35a45df25b54670', '8b7fee2d868132955d0eed1ef33d49b49c5f456e', '872ea68fa5ddb070c671c44b321d63415d153742', 'b104285af9034964fdc1c5d7864908a34212d1fe', '3def68bd0f856886d34272840a7f81588f2bc082']...), returning 37 items.\n",
      "2025-04-15 10:43:54,057 - INFO - HTTP Request: POST https://api.semanticscholar.org/graph/v1/paper/batch?fields=abstract%2Cauthors%2CcitationCount%2CcitationStyles%2CcorpusId%2CexternalIds%2CfieldsOfStudy%2CinfluentialCitationCount%2CisOpenAccess%2Cjournal%2CopenAccessPdf%2CpaperId%2CpublicationDate%2CpublicationTypes%2CpublicationVenue%2CreferenceCount%2Cs2FieldsOfStudy%2Ctitle%2Curl%2Cvenue%2Cyear \"HTTP/1.1 200 OK\"\n",
      "2025-04-15 10:43:54,115 - INFO - HTTP Request: POST https://api.semanticscholar.org/graph/v1/paper/batch?fields=abstract%2Cauthors%2CcitationCount%2CcitationStyles%2CcorpusId%2CexternalIds%2CfieldsOfStudy%2CinfluentialCitationCount%2CisOpenAccess%2Cjournal%2CopenAccessPdf%2CpaperId%2CpublicationDate%2CpublicationTypes%2CpublicationVenue%2CreferenceCount%2Cs2FieldsOfStudy%2Ctitle%2Curl%2Cvenue%2Cyear \"HTTP/1.1 200 OK\"\n",
      "2025-04-15 10:43:54,183 - INFO - HTTP Request: POST https://api.semanticscholar.org/graph/v1/paper/batch?fields=abstract%2Cauthors%2CcitationCount%2CcitationStyles%2CcorpusId%2CexternalIds%2CfieldsOfStudy%2CinfluentialCitationCount%2CisOpenAccess%2Cjournal%2CopenAccessPdf%2CpaperId%2CpublicationDate%2CpublicationTypes%2CpublicationVenue%2CreferenceCount%2Cs2FieldsOfStudy%2Ctitle%2Curl%2Cvenue%2Cyear \"HTTP/1.1 200 OK\"\n",
      "2025-04-15 10:43:54,259 - INFO - HTTP Request: POST https://api.semanticscholar.org/graph/v1/paper/batch?fields=abstract%2Cauthors%2CcitationCount%2CcitationStyles%2CcorpusId%2CexternalIds%2CfieldsOfStudy%2CinfluentialCitationCount%2CisOpenAccess%2Cjournal%2CopenAccessPdf%2CpaperId%2CpublicationDate%2CpublicationTypes%2CpublicationVenue%2CreferenceCount%2Cs2FieldsOfStudy%2Ctitle%2Curl%2Cvenue%2Cyear \"HTTP/1.1 200 OK\"\n",
      "2025-04-15 10:43:54,321 - INFO - _sync_get_papers: API call successful for batch (first 5: ['f3edb73e9267d64ef2a88785cdae7194320fc152', 'b708d10d166e533521e8e323c4ec73e706a5d343', '8919cffde95c0e2494f51056f585e1d67e2e9869', '991107dd70aa3f31615bcdaa6ba154a7a8ec8535', '43f9b9b7dd6e891ec4a65053769dba6d578e4876']...), returning 15 items.\n",
      "2025-04-15 10:43:54,325 - INFO - _sync_get_papers: API call successful for batch (first 5: ['f197bf0fc2f228483f6af3285000d54d8d97f9eb', 'f32c67daa6a93281bd8645fc2fa423dca67aea00', 'c65ccede97dff47d41fa63706591f7136a67accb', 'd5fa5bd2ae89296acbfd9766f50c909f2c42effe', 'be8c089b8dbad9eeab0b7095733bc8517780686e']...), returning 55 items.\n",
      "2025-04-15 10:43:54,536 - INFO - _sync_get_papers: API call successful for batch (first 5: ['44580ac1d4ce5e5cc9cf726836b7d69ded7bcb21', '816bf8ea01fa3140397a6ea9129018c40c0c6f44', '6a84ce99d864be8baa72f011cd8bd5dee3738239', '8f65d64721380f4d9111322391504f5efbee84a9', '54c80345582c48f0a567b77ae341879f515a352e']...), returning 29 items.\n",
      "2025-04-15 10:43:54,588 - INFO - _sync_get_papers: API call successful for batch (first 5: ['08145978da4c8912f4a05444a6bbf048778dc4af', 'e8e068349efc114589042f30e888b81ea58db86e', '62729cff7dda7614f648a84e8967076d8878a5ff', '163b4d6a79a5b19af88b8585456363340d9efd04', 'f2209eb5ac6747319a29b87dedabb97770be3243']...), returning 33 items.\n",
      "2025-04-15 10:43:54,810 - INFO - _sync_get_papers: API call successful for batch (first 5: ['985298bd0b6f4c84ab34bb15cfed0b092f43b83a', 'f51ecc29f205468c736cea9acb5612b1a0a48ba9', '92173d081b15824d22a9ef070e118744ceee8052', '92c82a51ad13c361d052987694cf93d6a72d5789', '163b4d6a79a5b19af88b8585456363340d9efd04']...), returning 52 items.\n",
      "2025-04-15 10:43:56,286 - INFO - async_search_paper_by_ids: Gather complete. Processing results.\n",
      "2025-04-15 10:43:56,287 - INFO - Found abstracts for 31 cited papers.\n",
      "2025-04-15 10:43:56,288 - INFO - Processing 49 cited papers for 10.48550/arXiv.2410.22394.\n",
      "2025-04-15 10:43:56,964 - INFO - async_search_paper_by_ids: Gather complete. Processing results.\n",
      "2025-04-15 10:43:56,965 - INFO - Found abstracts for 21 cited papers.\n",
      "2025-04-15 10:43:56,965 - INFO - Processing 55 cited papers for 10.48550/arXiv.2404.17605.\n",
      "2025-04-15 10:43:57,327 - INFO - async_search_paper_by_ids: Gather complete. Processing results.\n",
      "2025-04-15 10:43:57,328 - INFO - Found abstracts for 9 cited papers.\n",
      "2025-04-15 10:43:57,329 - INFO - Processing 22 cited papers for 10.48550/arXiv.2307.05492.\n",
      "2025-04-15 10:43:57,330 - INFO - async_search_paper_by_ids: Gather complete. Processing results.\n",
      "2025-04-15 10:43:57,331 - INFO - Found abstracts for 49 cited papers.\n",
      "2025-04-15 10:43:57,331 - INFO - Processing 92 cited papers for 10.48550/arXiv.2306.00622.\n",
      "2025-04-15 10:43:57,538 - INFO - async_search_paper_by_ids: Gather complete. Processing results.\n",
      "2025-04-15 10:43:57,539 - INFO - Found abstracts for 17 cited papers.\n",
      "2025-04-15 10:43:57,540 - INFO - Processing 46 cited papers for 10.48550/arXiv.2405.02150.\n",
      "2025-04-15 10:43:57,590 - INFO - async_search_paper_by_ids: Gather complete. Processing results.\n",
      "2025-04-15 10:43:57,591 - INFO - Found abstracts for 33 cited papers.\n",
      "2025-04-15 10:43:57,591 - INFO - Processing 58 cited papers for 10.48550/arXiv.2502.19614.\n",
      "2025-04-15 10:43:57,811 - INFO - async_search_paper_by_ids: Gather complete. Processing results.\n",
      "2025-04-15 10:43:57,812 - INFO - Found abstracts for 48 cited papers.\n",
      "2025-04-15 10:43:57,813 - INFO - Processing 65 cited papers for 10.48550/arXiv.2503.08569.\n",
      "2025-04-15 10:43:57,821 - INFO - Main data collection tasks finished.\n",
      "2025-04-15 10:43:57,821 - INFO - Main data collection tasks finished.\n",
      "2025-04-15 10:43:57,821 - INFO - Main data collection tasks finished.\n",
      "2025-04-15 10:43:57,822 - INFO - Main data collection tasks finished.\n",
      "2025-04-15 10:43:57,822 - INFO - Main data collection tasks finished.\n",
      "2025-04-15 10:43:57,822 - INFO - Main data collection tasks finished.\n",
      "2025-04-15 10:43:57,823 - INFO - Main data collection tasks finished.\n",
      "2025-04-15 10:43:57,823 - INFO - Main data collection tasks finished.\n",
      "2025-04-15 10:43:57,823 - INFO - Main data collection tasks finished.\n",
      "2025-04-15 10:43:57,824 - INFO - Main data collection tasks finished.\n",
      "2025-04-15 10:43:57,824 - INFO - Main data collection tasks finished.\n",
      "2025-04-15 10:43:57,824 - INFO - Main data collection tasks finished.\n",
      "2025-04-15 10:43:57,824 - INFO - Main data collection tasks finished.\n",
      "2025-04-15 10:43:57,825 - INFO - Main data collection tasks finished.\n",
      "2025-04-15 10:43:57,825 - INFO - Main data collection tasks finished.\n",
      "2025-04-15 10:43:57,825 - INFO - Main data collection tasks finished.\n",
      "2025-04-15 10:43:57,825 - INFO - Main data collection tasks finished.\n",
      "2025-04-15 10:43:57,825 - INFO - Main data collection tasks finished.\n",
      "2025-04-15 10:43:57,825 - INFO - Main data collection tasks finished.\n",
      "2025-04-15 10:43:57,825 - INFO - Main data collection tasks finished.\n",
      "2025-04-15 10:43:57,845 - INFO - Graph state after collection tasks. Nodes: 7564, Edges: 7580\n"
     ]
    }
   ],
   "source": [
    "# --- CHECK CROSSREF PAPERS ---\n",
    "# get most similar papers to seed papers\n",
    "# track citation chain of these papers\n",
    "# retrieve citation for top k similar papers\n",
    "await ps.collect(\n",
    "    seed_paper_dois=expanded_paper_dois,\n",
    "    search_citation = if_expanded_citations,\n",
    "    citation_limit = ps.citation_limit,\n",
    "    from_dt=ps.from_dt,\n",
    "    to_dt=ps.to_dt,\n",
    "    fields_of_study = ps.fields_of_study,\n",
    "    )\n",
    "if if_expanded_citations in ['reference', 'both']:\n",
    "    ps.explored_nodes['reference'].extend(expanded_paper_dois) \n",
    "if if_expanded_citations in ['citing', 'both']:\n",
    "    ps.explored_nodes['citing'].extend(expanded_paper_dois) "
   ]
  },
  {
   "cell_type": "markdown",
   "id": "3a8d0278",
   "metadata": {},
   "source": [
    "### Graph Stats"
   ]
  },
  {
   "cell_type": "code",
   "execution_count": 44,
   "id": "b9d982df",
   "metadata": {},
   "outputs": [
    {
     "name": "stdout",
     "output_type": "stream",
     "text": [
      "7564 7580 5844 7580\n",
      "[('Author', 4394), ('Paper', 1010), ('Journal', 236), ('Venue', 197), ('Topic', 4), ('Affiliation', 3)]\n",
      "[('WRITES', 5728), ('CITES', 771), ('RELEASES_IN', 557), ('PRINTS_ON', 335), ('DISCUSS', 186), ('WORKS_IN', 3)]\n"
     ]
    }
   ],
   "source": [
    "import copy\n",
    "from collections import Counter\n",
    "\n",
    "g3 = copy.deepcopy(ps.pg.graph)\n",
    "print(len(ps.nodes_json), len(ps.edges_json), len(g3.nodes), len(g3.edges))\n",
    "\n",
    "# check node types\n",
    "node_types = [g3.nodes[nid].get('nodeType') for nid in g3.nodes]\n",
    "node_types_cnt = Counter(node_types)\n",
    "# 按计数降序排序\n",
    "sorted_node_counts = node_types_cnt.most_common()\n",
    "print(sorted_node_counts)\n",
    "\n",
    "# check node types\n",
    "edge_types = [d.get('relationshipType') for u, v, d in g3.edges(data=True)]\n",
    "edge_types_cnt = Counter(edge_types)\n",
    "# 按计数降序排序\n",
    "sorted_egdes_counts = edge_types_cnt.most_common()\n",
    "print(sorted_egdes_counts)"
   ]
  },
  {
   "cell_type": "markdown",
   "id": "c1d540f2",
   "metadata": {},
   "source": [
    "### Filtering and Ranking"
   ]
  },
  {
   "cell_type": "markdown",
   "id": "2e008c7c",
   "metadata": {},
   "source": [
    "Author  \n",
    "- not impacted much"
   ]
  },
  {
   "cell_type": "code",
   "execution_count": 45,
   "id": "dfe21da6",
   "metadata": {},
   "outputs": [],
   "source": [
    "author_stat3 = []\n",
    "for n in g3.nodes:\n",
    "    if g3.nodes[n].get('nodeType') == 'Author':\n",
    "        out_edges_info = g3.out_edges(n, data=True)\n",
    "        write_cnt = sum([1 for u, v, data in out_edges_info if data.get('relationshipType') == 'WRITES'])\n",
    "        author_stat3.append((n, write_cnt))"
   ]
  },
  {
   "cell_type": "code",
   "execution_count": 46,
   "id": "1fb92bb1",
   "metadata": {},
   "outputs": [
    {
     "name": "stdout",
     "output_type": "stream",
     "text": [
      "{'author_id': '2674998', 'author_name': 'Xiaocheng Feng', 'write_cnt': 60, 'is_seed': True, 'hIndex': None, 'global_paper_cnt': None, 'global_citation_cnt': None}\n",
      "{'author_id': '2108024279', 'author_name': 'Yidong Wang', 'write_cnt': 39, 'is_seed': True, 'hIndex': 17, 'global_paper_cnt': 42, 'global_citation_cnt': 3711}\n",
      "{'author_id': '152277111', 'author_name': 'Bing Qin', 'write_cnt': 31, 'is_seed': False, 'hIndex': None, 'global_paper_cnt': None, 'global_citation_cnt': None}\n",
      "{'author_id': '2257010530', 'author_name': 'Xinyu Dai', 'write_cnt': 25, 'is_seed': True, 'hIndex': None, 'global_paper_cnt': None, 'global_citation_cnt': None}\n",
      "{'author_id': '2259709647', 'author_name': 'Min Zhang', 'write_cnt': 24, 'is_seed': True, 'hIndex': None, 'global_paper_cnt': None, 'global_citation_cnt': None}\n",
      "{'author_id': '51056442', 'author_name': 'Xiachong Feng', 'write_cnt': 20, 'is_seed': True, 'hIndex': None, 'global_paper_cnt': None, 'global_citation_cnt': None}\n",
      "{'author_id': '2118640235', 'author_name': 'Baoxin Wang', 'write_cnt': 20, 'is_seed': True, 'hIndex': None, 'global_paper_cnt': None, 'global_citation_cnt': None}\n",
      "{'author_id': '2257004102', 'author_name': 'Bing Qin', 'write_cnt': 20, 'is_seed': False, 'hIndex': None, 'global_paper_cnt': None, 'global_citation_cnt': None}\n",
      "{'author_id': '2250121772', 'author_name': 'Zhen Wu', 'write_cnt': 19, 'is_seed': False, 'hIndex': None, 'global_paper_cnt': None, 'global_citation_cnt': None}\n",
      "{'author_id': '2118208508', 'author_name': 'Dayong Wu', 'write_cnt': 19, 'is_seed': False, 'hIndex': None, 'global_paper_cnt': None, 'global_citation_cnt': None}\n",
      "{'author_id': '1519290245', 'author_name': 'Jindong Wang', 'write_cnt': 17, 'is_seed': False, 'hIndex': None, 'global_paper_cnt': None, 'global_citation_cnt': None}\n",
      "{'author_id': '2257796182', 'author_name': 'Meishan Zhang', 'write_cnt': 16, 'is_seed': False, 'hIndex': None, 'global_paper_cnt': None, 'global_citation_cnt': None}\n",
      "{'author_id': '2145500840', 'author_name': 'Linyi Yang', 'write_cnt': 15, 'is_seed': False, 'hIndex': None, 'global_paper_cnt': None, 'global_citation_cnt': None}\n",
      "{'author_id': '2208739098', 'author_name': 'Weihong Zhong', 'write_cnt': 13, 'is_seed': False, 'hIndex': None, 'global_paper_cnt': None, 'global_citation_cnt': None}\n",
      "{'author_id': '2118138548', 'author_name': 'Yi-Chong Huang', 'write_cnt': 13, 'is_seed': False, 'hIndex': None, 'global_paper_cnt': None, 'global_citation_cnt': None}\n",
      "{'author_id': '2116271777', 'author_name': 'Hongbo Zhang', 'write_cnt': 12, 'is_seed': True, 'hIndex': None, 'global_paper_cnt': None, 'global_citation_cnt': None}\n",
      "{'author_id': '2265930173', 'author_name': 'Lei Huang', 'write_cnt': 12, 'is_seed': True, 'hIndex': None, 'global_paper_cnt': None, 'global_citation_cnt': None}\n",
      "{'author_id': '2275569993', 'author_name': 'Ming-Ming Cheng', 'write_cnt': 11, 'is_seed': True, 'hIndex': None, 'global_paper_cnt': None, 'global_citation_cnt': None}\n",
      "{'author_id': '2112678409', 'author_name': 'Yuxuan Gu', 'write_cnt': 11, 'is_seed': True, 'hIndex': None, 'global_paper_cnt': None, 'global_citation_cnt': None}\n",
      "{'author_id': '2265878959', 'author_name': 'Weitao Ma', 'write_cnt': 10, 'is_seed': True, 'hIndex': None, 'global_paper_cnt': None, 'global_citation_cnt': None}\n"
     ]
    }
   ],
   "source": [
    "sorted_by_writes3 = sorted(author_stat3, key=lambda item: item[1], reverse=True)\n",
    "for item in sorted_by_writes3[0:20]:\n",
    "    aid = item[0]\n",
    "    a_name = g3.nodes[aid].get('name')\n",
    "    hIndex = g3.nodes[aid].get('hIndex')\n",
    "    in_seed = True if aid in seed_author_ids else False\n",
    "    global_paper_cnt = g3.nodes[aid].get('paperCount')\n",
    "    global_citation_cnt = g3.nodes[aid].get('citationCount')\n",
    "    print({\"author_id\":aid, \"author_name\":a_name, \"write_cnt\":item[1], \"is_seed\":in_seed,\n",
    "           \"hIndex\":hIndex, \"global_paper_cnt\":global_paper_cnt, \"global_citation_cnt\":global_citation_cnt, })"
   ]
  },
  {
   "cell_type": "markdown",
   "id": "14190df5",
   "metadata": {},
   "source": [
    "Paper  \n",
    "- most cited papers changed moderately\n",
    "- more reliable to serve as cross ref"
   ]
  },
  {
   "cell_type": "code",
   "execution_count": 48,
   "id": "b8ba32b9",
   "metadata": {},
   "outputs": [],
   "source": [
    "paper_stat = []\n",
    "for n in g3.nodes:\n",
    "    if g3.nodes[n].get('nodeType') == 'Paper':\n",
    "        in_edges_info = g3.in_edges(n, data=True)\n",
    "        cite_cnt = sum([1 for u, v, data in in_edges_info if data.get('relationshipType') == 'CITES'])\n",
    "        paper_stat.append((n, cite_cnt))"
   ]
  },
  {
   "cell_type": "code",
   "execution_count": 49,
   "id": "fa1ef491",
   "metadata": {},
   "outputs": [
    {
     "name": "stdout",
     "output_type": "stream",
     "text": [
      "4 1010\n"
     ]
    }
   ],
   "source": [
    "tot_seed_paper_cnt = len(seed_paper_dois)\n",
    "tot_paper_cnt = len([nid for nid in g3.nodes if g3.nodes[nid].get('nodeType')=='Paper'])\n",
    "print(tot_seed_paper_cnt, tot_paper_cnt)"
   ]
  },
  {
   "cell_type": "code",
   "execution_count": 50,
   "id": "d7ceefde",
   "metadata": {},
   "outputs": [
    {
     "name": "stdout",
     "output_type": "stream",
     "text": [
      "[('10.48550/arXiv.2406.10252', 14), ('10.48550/arXiv.2408.06292', 11), ('10.48550/arXiv.2310.01783', 11), ('10.48550/arXiv.2306.00622', 8), ('10.48550/arXiv.2303.08774', 7), ('10.48550/arXiv.2307.05492', 7), ('7c2b3c4ab6d701de7bd9df91d7448f3c06a1e9d7', 7), ('10.48550/arXiv.2306.05685', 5), ('10.48550/arXiv.2302.13971', 5), ('10.48550/arXiv.2406.05688', 5), ('10.48550/arXiv.2403.07183', 5), ('10.48550/arXiv.2303.17651', 5), ('10.48550/arXiv.2405.02150', 5), ('10.1162/tacl_a_00638', 4), ('10.48550/arXiv.2410.09403', 4), ('10.48550/arXiv.2408.10365', 4), ('10.48550/arXiv.2310.03302', 4), ('10.48550/arXiv.2401.04259', 4), ('10.18653/v1/2023.findings-emnlp.472', 4), ('10.48550/arXiv.2309.16609', 4), ('10.48550/arXiv.2312.10997', 3), ('10.1145/3571730', 3), ('10.18653/v1/2024.acl-long.18', 3), ('10.48550/arXiv.2201.11903', 3), ('10.18653/v1/2020.acl-main.207', 3), ('10.48550/arXiv.2410.14255', 3), ('10.48550/arXiv.2410.13185', 3), ('10.48550/arXiv.2409.05556', 3), ('10.48550/arXiv.2409.04109', 3), ('10.48550/arXiv.2405.20477', 3)]\n",
      "{'doi': '10.48550/arXiv.2406.10252', 'title': 'AutoSurvey: Large Language Models Can Automatically Write Surveys', 'if_seed': True, 'local_refs': 14, 'global_refs': 14, 'inf_cite_cnt': 2, 'h_index': 17.0}\n",
      "{'doi': '10.48550/arXiv.2408.06292', 'title': 'The AI Scientist: Towards Fully Automated Open-Ended Scientific Discovery', 'if_seed': False, 'local_refs': 11, 'global_refs': 114, 'inf_cite_cnt': 17, 'h_index': nan}\n",
      "{'doi': '10.48550/arXiv.2310.01783', 'title': 'Can large language models provide useful feedback on research papers? A large-scale empirical analysis', 'if_seed': False, 'local_refs': 11, 'global_refs': 107, 'inf_cite_cnt': 9, 'h_index': nan}\n",
      "{'doi': '10.48550/arXiv.2306.00622', 'title': 'ReviewerGPT? An Exploratory Study on Using Large Language Models for Paper Reviewing', 'if_seed': False, 'local_refs': 8, 'global_refs': 59, 'inf_cite_cnt': 10, 'h_index': nan}\n",
      "{'doi': '10.48550/arXiv.2303.08774', 'title': 'GPT-4 Technical Report', 'if_seed': False, 'local_refs': 7, 'global_refs': 11745, 'inf_cite_cnt': 1726, 'h_index': nan}\n",
      "{'doi': '10.48550/arXiv.2307.05492', 'title': 'GPT4 is Slightly Helpful for Peer-Review Assistance: A Pilot Study', 'if_seed': False, 'local_refs': 7, 'global_refs': 21, 'inf_cite_cnt': 0, 'h_index': nan}\n",
      "{'doi': '7c2b3c4ab6d701de7bd9df91d7448f3c06a1e9d7', 'title': 'Is LLM a Reliable Reviewer? A Comprehensive Evaluation of LLM on Automatic Paper Reviewing Tasks', 'if_seed': False, 'local_refs': 7, 'global_refs': 22, 'inf_cite_cnt': 3, 'h_index': nan}\n",
      "{'doi': '10.48550/arXiv.2306.05685', 'title': 'Judging LLM-as-a-judge with MT-Bench and Chatbot Arena', 'if_seed': False, 'local_refs': 5, 'global_refs': 3455, 'inf_cite_cnt': 525, 'h_index': nan}\n",
      "{'doi': '10.48550/arXiv.2302.13971', 'title': 'LLaMA: Open and Efficient Foundation Language Models', 'if_seed': False, 'local_refs': 5, 'global_refs': 11371, 'inf_cite_cnt': 1433, 'h_index': nan}\n",
      "{'doi': '10.48550/arXiv.2406.05688', 'title': 'Peer Review as A Multi-Turn and Long-Context Dialogue with Role-Based Interactions', 'if_seed': False, 'local_refs': 5, 'global_refs': 7, 'inf_cite_cnt': 0, 'h_index': nan}\n",
      "{'doi': '10.48550/arXiv.2403.07183', 'title': 'Monitoring AI-Modified Content at Scale: A Case Study on the Impact of ChatGPT on AI Conference Peer Reviews', 'if_seed': False, 'local_refs': 5, 'global_refs': 65, 'inf_cite_cnt': 6, 'h_index': nan}\n",
      "{'doi': '10.48550/arXiv.2303.17651', 'title': 'Self-Refine: Iterative Refinement with Self-Feedback', 'if_seed': False, 'local_refs': 5, 'global_refs': 1298, 'inf_cite_cnt': 105, 'h_index': nan}\n",
      "{'doi': '10.48550/arXiv.2405.02150', 'title': 'The AI Review Lottery: Widespread AI-Assisted Peer Reviews Boost Paper Scores and Acceptance Rates', 'if_seed': False, 'local_refs': 5, 'global_refs': 21, 'inf_cite_cnt': 7, 'h_index': nan}\n",
      "{'doi': '10.1162/tacl_a_00638', 'title': 'Lost in the Middle: How Language Models Use Long Contexts', 'if_seed': False, 'local_refs': 4, 'global_refs': 1270, 'inf_cite_cnt': 86, 'h_index': nan}\n",
      "{'doi': '10.48550/arXiv.2410.09403', 'title': 'Many Heads Are Better Than One: Improved Scientific Idea Generation by A LLM-Based Multi-Agent System', 'if_seed': False, 'local_refs': 4, 'global_refs': 2, 'inf_cite_cnt': 0, 'h_index': nan}\n",
      "{'doi': '10.48550/arXiv.2408.10365', 'title': 'AI-Driven Review Systems: Evaluating LLMs in Scalable and Bias-Aware Academic Reviews', 'if_seed': False, 'local_refs': 4, 'global_refs': 11, 'inf_cite_cnt': 0, 'h_index': nan}\n",
      "{'doi': '10.48550/arXiv.2310.03302', 'title': 'MLAgentBench: Evaluating Language Agents on Machine Learning Experimentation', 'if_seed': False, 'local_refs': 4, 'global_refs': 54, 'inf_cite_cnt': 9, 'h_index': nan}\n",
      "{'doi': '10.48550/arXiv.2401.04259', 'title': 'MARG: Multi-Agent Review Generation for Scientific Papers', 'if_seed': False, 'local_refs': 4, 'global_refs': 25, 'inf_cite_cnt': 0, 'h_index': nan}\n",
      "{'doi': '10.18653/v1/2023.findings-emnlp.472', 'title': 'Summarizing Multiple Documents with Conversational Structure for Meta-Review Generation', 'if_seed': False, 'local_refs': 4, 'global_refs': 13, 'inf_cite_cnt': 1, 'h_index': nan}\n",
      "{'doi': '10.48550/arXiv.2309.16609', 'title': 'Qwen Technical Report', 'if_seed': False, 'local_refs': 4, 'global_refs': 1412, 'inf_cite_cnt': 179, 'h_index': nan}\n",
      "{'doi': '10.48550/arXiv.2312.10997', 'title': 'Retrieval-Augmented Generation for Large Language Models: A Survey', 'if_seed': False, 'local_refs': 3, 'global_refs': 1278, 'inf_cite_cnt': 71, 'h_index': nan}\n",
      "{'doi': '10.1145/3571730', 'title': 'Survey of Hallucination in Natural Language Generation', 'if_seed': False, 'local_refs': 3, 'global_refs': 2074, 'inf_cite_cnt': 82, 'h_index': nan}\n",
      "{'doi': '10.18653/v1/2024.acl-long.18', 'title': 'SciMON: Scientific Inspiration Machines Optimized for Novelty', 'if_seed': False, 'local_refs': 3, 'global_refs': 48, 'inf_cite_cnt': 7, 'h_index': nan}\n",
      "{'doi': '10.48550/arXiv.2201.11903', 'title': 'Chain of Thought Prompting Elicits Reasoning in Large Language Models', 'if_seed': False, 'local_refs': 3, 'global_refs': 7758, 'inf_cite_cnt': 759, 'h_index': nan}\n",
      "{'doi': '10.18653/v1/2020.acl-main.207', 'title': 'SPECTER: Document-level Representation Learning using Citation-informed Transformers', 'if_seed': False, 'local_refs': 3, 'global_refs': 507, 'inf_cite_cnt': 95, 'h_index': nan}\n",
      "{'doi': '10.48550/arXiv.2410.14255', 'title': 'Nova: An Iterative Planning and Search Approach to Enhance Novelty and Diversity of LLM Generated Ideas', 'if_seed': False, 'local_refs': 3, 'global_refs': 9, 'inf_cite_cnt': 1, 'h_index': nan}\n",
      "{'doi': '10.48550/arXiv.2410.13185', 'title': 'Chain of Ideas: Revolutionizing Research Via Novel Idea Development with LLM Agents', 'if_seed': False, 'local_refs': 3, 'global_refs': 10, 'inf_cite_cnt': 3, 'h_index': nan}\n",
      "{'doi': '10.48550/arXiv.2409.05556', 'title': 'SciAgents: Automating scientific discovery through multi-agent intelligent graph reasoning', 'if_seed': False, 'local_refs': 3, 'global_refs': 22, 'inf_cite_cnt': 2, 'h_index': nan}\n",
      "{'doi': '10.48550/arXiv.2409.04109', 'title': 'Can LLMs Generate Novel Research Ideas? A Large-Scale Human Study with 100+ NLP Researchers', 'if_seed': False, 'local_refs': 3, 'global_refs': 79, 'inf_cite_cnt': 8, 'h_index': nan}\n",
      "{'doi': '10.48550/arXiv.2405.20477', 'title': 'Automated Focused Feedback Generation for Scientific Writing Assistance', 'if_seed': False, 'local_refs': 3, 'global_refs': 8, 'inf_cite_cnt': 1, 'h_index': nan}\n"
     ]
    },
    {
     "name": "stderr",
     "output_type": "stream",
     "text": [
      "/home/jiezi/miniconda3/envs/ai4fun/lib/python3.10/site-packages/numpy/lib/function_base.py:520: RuntimeWarning: Mean of empty slice.\n",
      "  avg = a.mean(axis, **keepdims_kw)\n",
      "/home/jiezi/miniconda3/envs/ai4fun/lib/python3.10/site-packages/numpy/core/_methods.py:129: RuntimeWarning: invalid value encountered in scalar divide\n",
      "  ret = ret.dtype.type(ret / rcount)\n"
     ]
    }
   ],
   "source": [
    "import numpy as np\n",
    "sorted_by_cite = sorted(paper_stat, key=lambda item: item[1], reverse=True)\n",
    "print(sorted_by_cite[0:30])\n",
    "\n",
    "for item in sorted_by_cite[0:30]:\n",
    "    n = item[0]\n",
    "    cite_cnt = item[1]\n",
    "    # paper infos\n",
    "    title = g3.nodes[n].get('title')\n",
    "    in_seed = True if item[0] in seed_paper_dois else False\n",
    "    overall_cite_cnt = g3.nodes[n].get('citationCount')\n",
    "    influential_cite_cnt = g3.nodes[n].get('influentialCitationCount')\n",
    "    # author infors\n",
    "    hindex_lst = []\n",
    "    for u in g3.predecessors(n):\n",
    "        if g3.nodes[u].get('nodeType') == 'Author':\n",
    "            hIndex = g3.nodes[u].get('hIndex')\n",
    "            if hIndex:\n",
    "                hindex_lst.append(hIndex)\n",
    "            paperCount = g3.nodes[u].get('paperCount')\n",
    "            citationCount = g3.nodes[u].get('citationCount')\n",
    "    h_index = np.average(hindex_lst)\n",
    "\n",
    "    paper_info = {\"doi\":n, \"title\":title, \"if_seed\": in_seed,\n",
    "                  \"local_refs\":cite_cnt, \"global_refs\":overall_cite_cnt, \"inf_cite_cnt\":influential_cite_cnt,\n",
    "                  \"h_index\": h_index}\n",
    "    print(paper_info)"
   ]
  },
  {
   "cell_type": "markdown",
   "id": "1615a8e4",
   "metadata": {},
   "source": [
    "### Graph Viz"
   ]
  },
  {
   "cell_type": "code",
   "execution_count": 54,
   "id": "7bce1eca",
   "metadata": {},
   "outputs": [
    {
     "name": "stdout",
     "output_type": "stream",
     "text": [
      "Running preprocessing...\n",
      "Preprocessing complete.\n",
      "Calculating layout...\n",
      "Graph is large, using spring_layout (may take time)...\n",
      "Layout calculated using spring_layout.\n",
      "Preparing data sources...\n",
      "Creating plot...\n",
      "Creating search widgets...\n",
      "Creating legends...\n",
      "Arranging layout...\n",
      "Displaying plot.\n"
     ]
    }
   ],
   "source": [
    "# from graph.graph_viz import GraphViz\n",
    "viz3 = GraphViz(g3, 'paper graph after topic expansion')\n",
    "viz3.preprocessing()\n",
    "viz3.visulization()"
   ]
  },
  {
   "cell_type": "markdown",
   "id": "649944ff",
   "metadata": {},
   "source": [
    "## Expanded Search - High Impact Authors"
   ]
  },
  {
   "cell_type": "code",
   "execution_count": 59,
   "id": "ff33c0be",
   "metadata": {},
   "outputs": [],
   "source": [
    "if_expanded_authors = True\n",
    "expanded_l_authors = 50\n"
   ]
  },
  {
   "cell_type": "code",
   "execution_count": 60,
   "id": "eb090823",
   "metadata": {},
   "outputs": [
    {
     "name": "stdout",
     "output_type": "stream",
     "text": [
      "{'author_id': '152277111', 'author_name': 'Bing Qin', 'write_cnt': 31, 'hIndex': None, 'global_paper_cnt': None, 'global_citation_cnt': None}\n",
      "{'author_id': '2257004102', 'author_name': 'Bing Qin', 'write_cnt': 20, 'hIndex': None, 'global_paper_cnt': None, 'global_citation_cnt': None}\n",
      "{'author_id': '2250121772', 'author_name': 'Zhen Wu', 'write_cnt': 19, 'hIndex': None, 'global_paper_cnt': None, 'global_citation_cnt': None}\n",
      "{'author_id': '2118208508', 'author_name': 'Dayong Wu', 'write_cnt': 19, 'hIndex': None, 'global_paper_cnt': None, 'global_citation_cnt': None}\n",
      "{'author_id': '1519290245', 'author_name': 'Jindong Wang', 'write_cnt': 17, 'hIndex': None, 'global_paper_cnt': None, 'global_citation_cnt': None}\n",
      "{'author_id': '2257796182', 'author_name': 'Meishan Zhang', 'write_cnt': 16, 'hIndex': None, 'global_paper_cnt': None, 'global_citation_cnt': None}\n",
      "{'author_id': '2145500840', 'author_name': 'Linyi Yang', 'write_cnt': 15, 'hIndex': None, 'global_paper_cnt': None, 'global_citation_cnt': None}\n",
      "{'author_id': '2208739098', 'author_name': 'Weihong Zhong', 'write_cnt': 13, 'hIndex': None, 'global_paper_cnt': None, 'global_citation_cnt': None}\n",
      "{'author_id': '2118138548', 'author_name': 'Yi-Chong Huang', 'write_cnt': 13, 'hIndex': None, 'global_paper_cnt': None, 'global_citation_cnt': None}\n",
      "{'author_id': '2273553706', 'author_name': 'Jindong Wang', 'write_cnt': 10, 'hIndex': None, 'global_paper_cnt': None, 'global_citation_cnt': None}\n",
      "{'author_id': '8427191', 'author_name': 'Dingkun Long', 'write_cnt': 10, 'hIndex': None, 'global_paper_cnt': None, 'global_citation_cnt': None}\n",
      "{'author_id': '3194553', 'author_name': 'Heng Gong', 'write_cnt': 10, 'hIndex': None, 'global_paper_cnt': None, 'global_citation_cnt': None}\n",
      "{'author_id': '40282288', 'author_name': 'Ting Liu', 'write_cnt': 10, 'hIndex': None, 'global_paper_cnt': None, 'global_citation_cnt': None}\n",
      "{'author_id': '2051536212', 'author_name': 'Hao Chen', 'write_cnt': 9, 'hIndex': None, 'global_paper_cnt': None, 'global_citation_cnt': None}\n",
      "{'author_id': '2107949588', 'author_name': 'Yanzhao Zhang', 'write_cnt': 9, 'hIndex': None, 'global_paper_cnt': None, 'global_citation_cnt': None}\n",
      "{'author_id': '2257348206', 'author_name': 'Pengjun Xie', 'write_cnt': 9, 'hIndex': None, 'global_paper_cnt': None, 'global_citation_cnt': None}\n",
      "{'author_id': '51056532', 'author_name': 'Zhangyin Feng', 'write_cnt': 9, 'hIndex': None, 'global_paper_cnt': None, 'global_citation_cnt': None}\n",
      "{'author_id': '1737249', 'author_name': 'Nihar B. Shah', 'write_cnt': 9, 'hIndex': None, 'global_paper_cnt': None, 'global_citation_cnt': None}\n",
      "{'author_id': '32216189', 'author_name': 'Wenxin Hou', 'write_cnt': 8, 'hIndex': None, 'global_paper_cnt': None, 'global_citation_cnt': None}\n",
      "{'author_id': '2307582945', 'author_name': 'Meishan Zhang', 'write_cnt': 8, 'hIndex': None, 'global_paper_cnt': None, 'global_citation_cnt': None}\n",
      "{'author_id': '2152335026', 'author_name': 'Fei Zhao', 'write_cnt': 8, 'hIndex': None, 'global_paper_cnt': None, 'global_citation_cnt': None}\n",
      "{'author_id': '2164113313', 'author_name': 'Zhuohao Yu', 'write_cnt': 7, 'hIndex': None, 'global_paper_cnt': None, 'global_citation_cnt': None}\n",
      "{'author_id': '145235149', 'author_name': 'Wei Ye', 'write_cnt': 7, 'hIndex': None, 'global_paper_cnt': None, 'global_citation_cnt': None}\n",
      "{'author_id': '1576441343', 'author_name': 'Xingxu Xie', 'write_cnt': 7, 'hIndex': None, 'global_paper_cnt': None, 'global_citation_cnt': None}\n",
      "{'author_id': '2257123504', 'author_name': 'Jianbing Zhang', 'write_cnt': 7, 'hIndex': None, 'global_paper_cnt': None, 'global_citation_cnt': None}\n",
      "{'author_id': '2288034519', 'author_name': 'Yuxuan Li', 'write_cnt': 7, 'hIndex': None, 'global_paper_cnt': None, 'global_citation_cnt': None}\n",
      "{'author_id': '2218245357', 'author_name': 'Baohang Li', 'write_cnt': 7, 'hIndex': None, 'global_paper_cnt': None, 'global_citation_cnt': None}\n",
      "{'author_id': '39483833', 'author_name': 'Duyu Tang', 'write_cnt': 7, 'hIndex': None, 'global_paper_cnt': None, 'global_citation_cnt': None}\n",
      "{'author_id': '1732454', 'author_name': 'T. Shinozaki', 'write_cnt': 6, 'hIndex': None, 'global_paper_cnt': None, 'global_citation_cnt': None}\n",
      "{'author_id': '1488944173', 'author_name': 'Chen Tang', 'write_cnt': 6, 'hIndex': None, 'global_paper_cnt': None, 'global_citation_cnt': None}\n",
      "{'author_id': '2216505879', 'author_name': 'Yangfan Ye', 'write_cnt': 6, 'hIndex': None, 'global_paper_cnt': None, 'global_citation_cnt': None}\n",
      "{'author_id': '2273693564', 'author_name': 'Wenshuai Huo', 'write_cnt': 6, 'hIndex': None, 'global_paper_cnt': None, 'global_citation_cnt': None}\n",
      "{'author_id': '2274097873', 'author_name': 'Chengpeng Fu', 'write_cnt': 6, 'hIndex': None, 'global_paper_cnt': None, 'global_citation_cnt': None}\n",
      "{'author_id': '2274093523', 'author_name': 'Ting Liu', 'write_cnt': 6, 'hIndex': None, 'global_paper_cnt': None, 'global_citation_cnt': None}\n",
      "{'author_id': '2075336379', 'author_name': 'Xinwei Geng', 'write_cnt': 6, 'hIndex': None, 'global_paper_cnt': None, 'global_citation_cnt': None}\n",
      "{'author_id': '2256319', 'author_name': 'Wanxiang Che', 'write_cnt': 6, 'hIndex': None, 'global_paper_cnt': None, 'global_citation_cnt': None}\n",
      "{'author_id': '2108620507', 'author_name': 'Shijin Wang', 'write_cnt': 6, 'hIndex': None, 'global_paper_cnt': None, 'global_citation_cnt': None}\n",
      "{'author_id': '2527954', 'author_name': 'Arman Cohan', 'write_cnt': 6, 'hIndex': None, 'global_paper_cnt': None, 'global_citation_cnt': None}\n",
      "{'author_id': '2203427167', 'author_name': 'Erin Bransom', 'write_cnt': 5, 'hIndex': None, 'global_paper_cnt': None, 'global_citation_cnt': None}\n",
      "{'author_id': '30051202', 'author_name': 'David Wadden', 'write_cnt': 5, 'hIndex': None, 'global_paper_cnt': None, 'global_citation_cnt': None}\n",
      "{'author_id': '2293666521', 'author_name': 'Zhengran Zeng', 'write_cnt': 5, 'hIndex': None, 'global_paper_cnt': None, 'global_citation_cnt': None}\n",
      "{'author_id': '2145403564', 'author_name': 'Shi-Bo Zhang', 'write_cnt': 5, 'hIndex': None, 'global_paper_cnt': None, 'global_citation_cnt': None}\n",
      "{'author_id': '35504092', 'author_name': 'Cunxiang Wang', 'write_cnt': 5, 'hIndex': None, 'global_paper_cnt': None, 'global_citation_cnt': None}\n",
      "{'author_id': '1993226927', 'author_name': 'Guangsheng Bao', 'write_cnt': 5, 'hIndex': None, 'global_paper_cnt': None, 'global_citation_cnt': None}\n",
      "{'author_id': '2147205193', 'author_name': 'Weirong Ye', 'write_cnt': 5, 'hIndex': None, 'global_paper_cnt': None, 'global_citation_cnt': None}\n",
      "{'author_id': '2257131229', 'author_name': 'Chunhui Li', 'write_cnt': 5, 'hIndex': None, 'global_paper_cnt': None, 'global_citation_cnt': None}\n",
      "{'author_id': '2259032775', 'author_name': 'Huiyao Chen', 'write_cnt': 5, 'hIndex': None, 'global_paper_cnt': None, 'global_citation_cnt': None}\n",
      "{'author_id': '2146248526', 'author_name': 'Zheng Li', 'write_cnt': 5, 'hIndex': None, 'global_paper_cnt': None, 'global_citation_cnt': None}\n",
      "{'author_id': '2261253733', 'author_name': 'Xiang Li', 'write_cnt': 5, 'hIndex': None, 'global_paper_cnt': None, 'global_citation_cnt': None}\n",
      "{'author_id': '2273977295', 'author_name': 'Hui Wang', 'write_cnt': 5, 'hIndex': None, 'global_paper_cnt': None, 'global_citation_cnt': None}\n"
     ]
    }
   ],
   "source": [
    "i = 0\n",
    "expanded_author_ids = []\n",
    "for item in sorted_by_writes3:\n",
    "    if i < expanded_l_authors:\n",
    "        aid = item[0]\n",
    "        if aid not in seed_author_ids:\n",
    "            a_name = g3.nodes[aid].get('name')\n",
    "            hIndex = g3.nodes[aid].get('hIndex')\n",
    "            global_paper_cnt = g3.nodes[aid].get('paperCount')\n",
    "            global_citation_cnt = g3.nodes[aid].get('citationCount')\n",
    "            print({\"author_id\":aid, \"author_name\":a_name, \"write_cnt\":item[1],\n",
    "                \"hIndex\":hIndex, \"global_paper_cnt\":global_paper_cnt, \"global_citation_cnt\":global_citation_cnt, })\n",
    "            expanded_author_ids.append(aid)\n",
    "            i += 1"
   ]
  },
  {
   "cell_type": "code",
   "execution_count": 62,
   "id": "4e7a2f4f",
   "metadata": {},
   "outputs": [
    {
     "name": "stderr",
     "output_type": "stream",
     "text": [
      "2025-04-15 11:15:06,257 - INFO - Preparing author info task for 50 authors.\n",
      "2025-04-15 11:15:06,257 - INFO - SemanticScholarKit initialized with max_concurrency=10, sleep_interval=3.0s\n",
      "2025-04-15 11:15:06,257 - INFO - Running 1 main data collection tasks concurrently...\n",
      "2025-04-15 11:15:06,258 - INFO - Fetching info for 50 authors...\n",
      "2025-04-15 11:15:06,258 - INFO - async_search_author_by_ids: Fetching 50 authors by ID in 1 batches.\n",
      "2025-04-15 11:15:06,258 - INFO - async_search_author_by_ids: Gathering 1 tasks...\n",
      "2025-04-15 11:15:06,258 - INFO - _sync_get_authors: Thread started for batch (50 IDs, first 5: ['152277111', '2257004102', '2250121772', '2118208508', '1519290245']...).\n"
     ]
    },
    {
     "name": "stdout",
     "output_type": "stream",
     "text": [
      "\n",
      "--- Get most cited authors: ---\n"
     ]
    },
    {
     "name": "stderr",
     "output_type": "stream",
     "text": [
      "2025-04-15 11:15:09,218 - INFO - HTTP Request: POST https://api.semanticscholar.org/graph/v1/author/batch?fields=affiliations%2CauthorId%2CcitationCount%2CexternalIds%2ChIndex%2Chomepage%2Cname%2CpaperCount%2Cpapers%2Cpapers.abstract%2Cpapers.authors%2Cpapers.citationCount%2Cpapers.corpusId%2Cpapers.externalIds%2Cpapers.fieldsOfStudy%2Cpapers.influentialCitationCount%2Cpapers.isOpenAccess%2Cpapers.journal%2Cpapers.openAccessPdf%2Cpapers.paperId%2Cpapers.publicationDate%2Cpapers.publicationTypes%2Cpapers.publicationVenue%2Cpapers.referenceCount%2Cpapers.s2FieldsOfStudy%2Cpapers.title%2Cpapers.url%2Cpapers.venue%2Cpapers.year%2Curl \"HTTP/1.1 200 OK\"\n",
      "2025-04-15 11:15:11,650 - INFO - _sync_get_authors: API call successful for batch (first 5: ['152277111', '2257004102', '2250121772', '2118208508', '1519290245']...), returning 50 items.\n",
      "2025-04-15 11:15:14,657 - INFO - async_search_author_by_ids: Gather complete. Processing results.\n",
      "2025-04-15 11:15:14,659 - INFO - Fetching abstracts for 1232 papers from authors (using controlled search).\n",
      "2025-04-15 11:15:14,660 - INFO - async_search_paper_by_ids: Creating 13 tasks for 1232 IDs.\n",
      "2025-04-15 11:15:14,660 - INFO - async_search_paper_by_ids: Gathering 13 tasks...\n",
      "2025-04-15 11:15:14,662 - INFO - _sync_get_papers: Thread started for batch (100 IDs, first 5: ['b543cb7691bd4407695249445d12d20594a6200e', '84bc747b3d6a6c280a204ed730de0fc93f20f05e', 'f20654f481843ec9eb11bcd00e418aec2470dfa5', '897625bd2170c385c1d67b7f3e80e885b9e02ca6', 'a712289f01a712ed07b7b6b385b3d60a2e38d1b0']...).\n",
      "2025-04-15 11:15:14,662 - INFO - _sync_get_papers: Thread started for batch (100 IDs, first 5: ['edb5495bc9081f2adfc8de51e0981510802e4090', '903cca1f0cecb66dae7315acfa03500a22948d95', '2ff41a463a374b138bb5a012e5a32bc4beefec20', '0c07cc7ba1b862556f5cfee0d5d849866d21a693', '09c8a576a6965778b8c884ac5126f82f0bb8d53d']...).\n",
      "2025-04-15 11:15:14,662 - INFO - _sync_get_papers: Thread started for batch (100 IDs, first 5: ['b518d511b7638a83659bc8088013810f48d92c86', '5d0808fc66e7206e72b4cde266adc668ba9c4f22', '8b73e226815d57bf66fc94905ebd063e4957b449', '759e7097c62e43fd4ee4d9af94969424d219ac3d', '4977dc46999fad4527c248bf6810d9d40a18dff8']...).\n",
      "2025-04-15 11:15:14,662 - INFO - _sync_get_papers: Thread started for batch (100 IDs, first 5: ['59eeeeac786d5bc7864669f4b9e63e0c9b728906', '14ef9418b34a1930d9f90399f5ae942fa99e25ff', '888728745dbb769e29ed475d4f7661eebe1a71cf', '2d9a0e0abdb8a34bcded395fb081868415d51808', 'd1e3e28b0e53b31730131f499a8c246c3fec2b04']...).\n",
      "2025-04-15 11:15:14,663 - INFO - _sync_get_papers: Thread started for batch (100 IDs, first 5: ['167e7a17730dcc7e0d3db5e16b050c284be08ff1', '86a7525fb3ef6c331edf0695886879e52ae5c353', '30f788c9d14b17836fc7e3ece64ae793b7e7dc9b', 'c1d3954b4b1951c8584d7feab94115b4816b577f', '473021db54cbae9c4546597cd7e4b5d687a51c7f']...).\n",
      "2025-04-15 11:15:14,663 - INFO - _sync_get_papers: Thread started for batch (100 IDs, first 5: ['387d17e3bc44ed4f81de25fc27fa1b8ab7d6bc8d', '96248047a6af4456ceb2f6af76d851051517b28c', '5732db17d9063b696431956d363b910a136044f2', '817632c42e735911e14b89e851ceaf54ba2ad25f', 'd847b9cfec1d3fcae36281a3e262fbc37a098043']...).\n",
      "2025-04-15 11:15:14,664 - INFO - _sync_get_papers: Thread started for batch (100 IDs, first 5: ['894df1b541ade34a0193b93670bf943c5a417878', 'eafd785386b036520bd1d260c25c09eb1bd8de7d', '7a448d63d0296f5d5ca98e4dc10c6fc1f902a048', 'feb61f5b93f74e1c210d296883500af468a9db31', '44a9eb0d9e6ff3ed077945d4e823e8eb02f61061']...).\n",
      "2025-04-15 11:15:14,664 - INFO - _sync_get_papers: Thread started for batch (100 IDs, first 5: ['c335be43056c9f7e239c80e8e78721eb562405f7', '25fec1e150a273b3bec3655ace0ff6b97c338a96', '4d7d22c16bccec50baddd57b5e3331633124e50a', '044bff0b129d4fcfafb6aae5a134d072d4d9318b', 'ff6e27198bc4d8686f83ea6fe52fdfc3f79a90f4']...).\n",
      "2025-04-15 11:15:14,665 - INFO - _sync_get_papers: Thread started for batch (100 IDs, first 5: ['47fcc878eff50a60613f4a8ce8cfd105f716bd88', '4554d78324412e814ad664192271b30ecd957160', '724606dd4cf2bd3a4bef46f5d3be556614058c02', '4cc6d310c0d5584f50836f1bd6bdbcac1c1c86a6', 'bfe1f58e0c0810fbe8337dba347bf4d2998f33fa']...).\n",
      "2025-04-15 11:15:14,665 - INFO - _sync_get_papers: Thread started for batch (100 IDs, first 5: ['e97c5b206c1f308b821917bc2f584b5f1faad547', 'c5ae0328f6f9b854d2575e812c43a55f003146cc', '5d0b03d545c6468c943858ce46a865380811d05b', '7ff271856b6719cbeb5c5f1c7c46dc185b945d51', 'c1be0c071946931fbe8c3d71a4253e4e708ee0f9']...).\n",
      "2025-04-15 11:15:16,385 - INFO - HTTP Request: POST https://api.semanticscholar.org/graph/v1/paper/batch?fields=abstract%2Cauthors%2CcitationCount%2CcitationStyles%2CcorpusId%2CexternalIds%2CfieldsOfStudy%2CinfluentialCitationCount%2CisOpenAccess%2Cjournal%2CopenAccessPdf%2CpaperId%2CpublicationDate%2CpublicationTypes%2CpublicationVenue%2CreferenceCount%2Cs2FieldsOfStudy%2Ctitle%2Curl%2Cvenue%2Cyear \"HTTP/1.1 200 OK\"\n",
      "2025-04-15 11:15:16,388 - INFO - HTTP Request: POST https://api.semanticscholar.org/graph/v1/paper/batch?fields=abstract%2Cauthors%2CcitationCount%2CcitationStyles%2CcorpusId%2CexternalIds%2CfieldsOfStudy%2CinfluentialCitationCount%2CisOpenAccess%2Cjournal%2CopenAccessPdf%2CpaperId%2CpublicationDate%2CpublicationTypes%2CpublicationVenue%2CreferenceCount%2Cs2FieldsOfStudy%2Ctitle%2Curl%2Cvenue%2Cyear \"HTTP/1.1 200 OK\"\n",
      "2025-04-15 11:15:16,389 - INFO - HTTP Request: POST https://api.semanticscholar.org/graph/v1/paper/batch?fields=abstract%2Cauthors%2CcitationCount%2CcitationStyles%2CcorpusId%2CexternalIds%2CfieldsOfStudy%2CinfluentialCitationCount%2CisOpenAccess%2Cjournal%2CopenAccessPdf%2CpaperId%2CpublicationDate%2CpublicationTypes%2CpublicationVenue%2CreferenceCount%2Cs2FieldsOfStudy%2Ctitle%2Curl%2Cvenue%2Cyear \"HTTP/1.1 200 OK\"\n",
      "2025-04-15 11:15:16,462 - INFO - HTTP Request: POST https://api.semanticscholar.org/graph/v1/paper/batch?fields=abstract%2Cauthors%2CcitationCount%2CcitationStyles%2CcorpusId%2CexternalIds%2CfieldsOfStudy%2CinfluentialCitationCount%2CisOpenAccess%2Cjournal%2CopenAccessPdf%2CpaperId%2CpublicationDate%2CpublicationTypes%2CpublicationVenue%2CreferenceCount%2Cs2FieldsOfStudy%2Ctitle%2Curl%2Cvenue%2Cyear \"HTTP/1.1 200 OK\"\n",
      "2025-04-15 11:15:16,481 - INFO - HTTP Request: POST https://api.semanticscholar.org/graph/v1/paper/batch?fields=abstract%2Cauthors%2CcitationCount%2CcitationStyles%2CcorpusId%2CexternalIds%2CfieldsOfStudy%2CinfluentialCitationCount%2CisOpenAccess%2Cjournal%2CopenAccessPdf%2CpaperId%2CpublicationDate%2CpublicationTypes%2CpublicationVenue%2CreferenceCount%2Cs2FieldsOfStudy%2Ctitle%2Curl%2Cvenue%2Cyear \"HTTP/1.1 200 OK\"\n",
      "2025-04-15 11:15:16,561 - INFO - HTTP Request: POST https://api.semanticscholar.org/graph/v1/paper/batch?fields=abstract%2Cauthors%2CcitationCount%2CcitationStyles%2CcorpusId%2CexternalIds%2CfieldsOfStudy%2CinfluentialCitationCount%2CisOpenAccess%2Cjournal%2CopenAccessPdf%2CpaperId%2CpublicationDate%2CpublicationTypes%2CpublicationVenue%2CreferenceCount%2Cs2FieldsOfStudy%2Ctitle%2Curl%2Cvenue%2Cyear \"HTTP/1.1 200 OK\"\n",
      "2025-04-15 11:15:16,605 - INFO - HTTP Request: POST https://api.semanticscholar.org/graph/v1/paper/batch?fields=abstract%2Cauthors%2CcitationCount%2CcitationStyles%2CcorpusId%2CexternalIds%2CfieldsOfStudy%2CinfluentialCitationCount%2CisOpenAccess%2Cjournal%2CopenAccessPdf%2CpaperId%2CpublicationDate%2CpublicationTypes%2CpublicationVenue%2CreferenceCount%2Cs2FieldsOfStudy%2Ctitle%2Curl%2Cvenue%2Cyear \"HTTP/1.1 200 OK\"\n",
      "2025-04-15 11:15:16,606 - INFO - HTTP Request: POST https://api.semanticscholar.org/graph/v1/paper/batch?fields=abstract%2Cauthors%2CcitationCount%2CcitationStyles%2CcorpusId%2CexternalIds%2CfieldsOfStudy%2CinfluentialCitationCount%2CisOpenAccess%2Cjournal%2CopenAccessPdf%2CpaperId%2CpublicationDate%2CpublicationTypes%2CpublicationVenue%2CreferenceCount%2Cs2FieldsOfStudy%2Ctitle%2Curl%2Cvenue%2Cyear \"HTTP/1.1 200 OK\"\n",
      "2025-04-15 11:15:16,845 - INFO - HTTP Request: POST https://api.semanticscholar.org/graph/v1/paper/batch?fields=abstract%2Cauthors%2CcitationCount%2CcitationStyles%2CcorpusId%2CexternalIds%2CfieldsOfStudy%2CinfluentialCitationCount%2CisOpenAccess%2Cjournal%2CopenAccessPdf%2CpaperId%2CpublicationDate%2CpublicationTypes%2CpublicationVenue%2CreferenceCount%2Cs2FieldsOfStudy%2Ctitle%2Curl%2Cvenue%2Cyear \"HTTP/1.1 200 OK\"\n",
      "2025-04-15 11:15:16,873 - INFO - HTTP Request: POST https://api.semanticscholar.org/graph/v1/paper/batch?fields=abstract%2Cauthors%2CcitationCount%2CcitationStyles%2CcorpusId%2CexternalIds%2CfieldsOfStudy%2CinfluentialCitationCount%2CisOpenAccess%2Cjournal%2CopenAccessPdf%2CpaperId%2CpublicationDate%2CpublicationTypes%2CpublicationVenue%2CreferenceCount%2Cs2FieldsOfStudy%2Ctitle%2Curl%2Cvenue%2Cyear \"HTTP/1.1 200 OK\"\n",
      "2025-04-15 11:15:17,310 - INFO - _sync_get_papers: API call successful for batch (first 5: ['edb5495bc9081f2adfc8de51e0981510802e4090', '903cca1f0cecb66dae7315acfa03500a22948d95', '2ff41a463a374b138bb5a012e5a32bc4beefec20', '0c07cc7ba1b862556f5cfee0d5d849866d21a693', '09c8a576a6965778b8c884ac5126f82f0bb8d53d']...), returning 100 items.\n",
      "2025-04-15 11:15:17,558 - INFO - _sync_get_papers: API call successful for batch (first 5: ['b518d511b7638a83659bc8088013810f48d92c86', '5d0808fc66e7206e72b4cde266adc668ba9c4f22', '8b73e226815d57bf66fc94905ebd063e4957b449', '759e7097c62e43fd4ee4d9af94969424d219ac3d', '4977dc46999fad4527c248bf6810d9d40a18dff8']...), returning 100 items.\n",
      "2025-04-15 11:15:17,565 - INFO - _sync_get_papers: API call successful for batch (first 5: ['e97c5b206c1f308b821917bc2f584b5f1faad547', 'c5ae0328f6f9b854d2575e812c43a55f003146cc', '5d0b03d545c6468c943858ce46a865380811d05b', '7ff271856b6719cbeb5c5f1c7c46dc185b945d51', 'c1be0c071946931fbe8c3d71a4253e4e708ee0f9']...), returning 100 items.\n",
      "2025-04-15 11:15:17,569 - INFO - _sync_get_papers: API call successful for batch (first 5: ['b543cb7691bd4407695249445d12d20594a6200e', '84bc747b3d6a6c280a204ed730de0fc93f20f05e', 'f20654f481843ec9eb11bcd00e418aec2470dfa5', '897625bd2170c385c1d67b7f3e80e885b9e02ca6', 'a712289f01a712ed07b7b6b385b3d60a2e38d1b0']...), returning 100 items.\n",
      "2025-04-15 11:15:17,572 - INFO - _sync_get_papers: API call successful for batch (first 5: ['59eeeeac786d5bc7864669f4b9e63e0c9b728906', '14ef9418b34a1930d9f90399f5ae942fa99e25ff', '888728745dbb769e29ed475d4f7661eebe1a71cf', '2d9a0e0abdb8a34bcded395fb081868415d51808', 'd1e3e28b0e53b31730131f499a8c246c3fec2b04']...), returning 100 items.\n",
      "2025-04-15 11:15:17,576 - INFO - _sync_get_papers: API call successful for batch (first 5: ['c335be43056c9f7e239c80e8e78721eb562405f7', '25fec1e150a273b3bec3655ace0ff6b97c338a96', '4d7d22c16bccec50baddd57b5e3331633124e50a', '044bff0b129d4fcfafb6aae5a134d072d4d9318b', 'ff6e27198bc4d8686f83ea6fe52fdfc3f79a90f4']...), returning 100 items.\n",
      "2025-04-15 11:15:17,584 - INFO - _sync_get_papers: API call successful for batch (first 5: ['167e7a17730dcc7e0d3db5e16b050c284be08ff1', '86a7525fb3ef6c331edf0695886879e52ae5c353', '30f788c9d14b17836fc7e3ece64ae793b7e7dc9b', 'c1d3954b4b1951c8584d7feab94115b4816b577f', '473021db54cbae9c4546597cd7e4b5d687a51c7f']...), returning 100 items.\n",
      "2025-04-15 11:15:17,589 - INFO - _sync_get_papers: API call successful for batch (first 5: ['47fcc878eff50a60613f4a8ce8cfd105f716bd88', '4554d78324412e814ad664192271b30ecd957160', '724606dd4cf2bd3a4bef46f5d3be556614058c02', '4cc6d310c0d5584f50836f1bd6bdbcac1c1c86a6', 'bfe1f58e0c0810fbe8337dba347bf4d2998f33fa']...), returning 100 items.\n",
      "2025-04-15 11:15:17,826 - INFO - _sync_get_papers: API call successful for batch (first 5: ['387d17e3bc44ed4f81de25fc27fa1b8ab7d6bc8d', '96248047a6af4456ceb2f6af76d851051517b28c', '5732db17d9063b696431956d363b910a136044f2', '817632c42e735911e14b89e851ceaf54ba2ad25f', 'd847b9cfec1d3fcae36281a3e262fbc37a098043']...), returning 100 items.\n",
      "2025-04-15 11:15:17,869 - INFO - _sync_get_papers: API call successful for batch (first 5: ['894df1b541ade34a0193b93670bf943c5a417878', 'eafd785386b036520bd1d260c25c09eb1bd8de7d', '7a448d63d0296f5d5ca98e4dc10c6fc1f902a048', 'feb61f5b93f74e1c210d296883500af468a9db31', '44a9eb0d9e6ff3ed077945d4e823e8eb02f61061']...), returning 100 items.\n",
      "2025-04-15 11:15:20,564 - INFO - _sync_get_papers: Thread started for batch (100 IDs, first 5: ['f1eeb6d03947514a611172c38f8febb38fa2d37e', '54dfb98841aa98b68492702ff3f67cd76090f3ac', 'd21332913c0b860fc400d51e764ff63a15266a26', 'fd78047e4b169c8dd67879524275d0ae35903354', '55379566a203498f06fae9b251e9a747e39d42bc']...).\n",
      "2025-04-15 11:15:20,578 - INFO - _sync_get_papers: Thread started for batch (100 IDs, first 5: ['096ca3c5da860d41811c741ddc29242d90d1ccea', '8f99f9409f254134aa32fbf072475100f688d613', '4b005dcb8d6ed936dc494528bf478c028caa1b68', '28a20e645e09e56167b9d7e2081f1e70f3766cd1', '367b1fa66cdb3c2243d8e4d4fa31fe1cc9ac6066']...).\n",
      "2025-04-15 11:15:20,586 - INFO - _sync_get_papers: Thread started for batch (32 IDs, first 5: ['79fcb2be164afe111a684a47bcfbde17e4586cb5', '39424070108220c600f67fa2dbd25f779a9fdb7a', '43b239a996358af9463689c3dbb080104e28f337', '0ea90d783a76b7c119fb5471fc71b6bc2defa06d', 'ba3975cd4dea504142b6d423c8b70790407cfb07']...).\n",
      "2025-04-15 11:15:22,021 - INFO - HTTP Request: POST https://api.semanticscholar.org/graph/v1/paper/batch?fields=abstract%2Cauthors%2CcitationCount%2CcitationStyles%2CcorpusId%2CexternalIds%2CfieldsOfStudy%2CinfluentialCitationCount%2CisOpenAccess%2Cjournal%2CopenAccessPdf%2CpaperId%2CpublicationDate%2CpublicationTypes%2CpublicationVenue%2CreferenceCount%2Cs2FieldsOfStudy%2Ctitle%2Curl%2Cvenue%2Cyear \"HTTP/1.1 200 OK\"\n",
      "2025-04-15 11:15:22,325 - INFO - HTTP Request: POST https://api.semanticscholar.org/graph/v1/paper/batch?fields=abstract%2Cauthors%2CcitationCount%2CcitationStyles%2CcorpusId%2CexternalIds%2CfieldsOfStudy%2CinfluentialCitationCount%2CisOpenAccess%2Cjournal%2CopenAccessPdf%2CpaperId%2CpublicationDate%2CpublicationTypes%2CpublicationVenue%2CreferenceCount%2Cs2FieldsOfStudy%2Ctitle%2Curl%2Cvenue%2Cyear \"HTTP/1.1 200 OK\"\n",
      "2025-04-15 11:15:22,396 - INFO - _sync_get_papers: API call successful for batch (first 5: ['79fcb2be164afe111a684a47bcfbde17e4586cb5', '39424070108220c600f67fa2dbd25f779a9fdb7a', '43b239a996358af9463689c3dbb080104e28f337', '0ea90d783a76b7c119fb5471fc71b6bc2defa06d', 'ba3975cd4dea504142b6d423c8b70790407cfb07']...), returning 32 items.\n",
      "2025-04-15 11:15:22,610 - INFO - HTTP Request: POST https://api.semanticscholar.org/graph/v1/paper/batch?fields=abstract%2Cauthors%2CcitationCount%2CcitationStyles%2CcorpusId%2CexternalIds%2CfieldsOfStudy%2CinfluentialCitationCount%2CisOpenAccess%2Cjournal%2CopenAccessPdf%2CpaperId%2CpublicationDate%2CpublicationTypes%2CpublicationVenue%2CreferenceCount%2Cs2FieldsOfStudy%2Ctitle%2Curl%2Cvenue%2Cyear \"HTTP/1.1 200 OK\"\n",
      "2025-04-15 11:15:23,057 - INFO - _sync_get_papers: API call successful for batch (first 5: ['096ca3c5da860d41811c741ddc29242d90d1ccea', '8f99f9409f254134aa32fbf072475100f688d613', '4b005dcb8d6ed936dc494528bf478c028caa1b68', '28a20e645e09e56167b9d7e2081f1e70f3766cd1', '367b1fa66cdb3c2243d8e4d4fa31fe1cc9ac6066']...), returning 100 items.\n",
      "2025-04-15 11:15:23,344 - INFO - _sync_get_papers: API call successful for batch (first 5: ['f1eeb6d03947514a611172c38f8febb38fa2d37e', '54dfb98841aa98b68492702ff3f67cd76090f3ac', 'd21332913c0b860fc400d51e764ff63a15266a26', 'fd78047e4b169c8dd67879524275d0ae35903354', '55379566a203498f06fae9b251e9a747e39d42bc']...), returning 100 items.\n",
      "2025-04-15 11:15:26,348 - INFO - async_search_paper_by_ids: Gather complete. Processing results.\n",
      "2025-04-15 11:15:26,350 - INFO - Found abstracts for 916 papers.\n",
      "2025-04-15 11:15:26,351 - INFO - Processing metadata for 50 authors.\n",
      "2025-04-15 11:15:26,826 - INFO - Main data collection tasks finished.\n",
      "2025-04-15 11:15:26,857 - INFO - Graph state after collection tasks. Nodes: 10246, Edges: 11645\n"
     ]
    }
   ],
   "source": [
    "# --- CHECK SIGNIFICANT AUTHORS ---\n",
    "# filter most refered papers from graph\n",
    "# then search for author information\n",
    "if if_expanded_authors:\n",
    "    print(f\"\\n--- Get most cited authors: ---\")\n",
    "\n",
    "    # retrieve citation for top l most significant authors\n",
    "    await ps.collect(\n",
    "        seed_author_ids=expanded_author_ids,\n",
    "        search_author = if_expanded_authors,\n",
    "        from_dt=ps.from_dt,\n",
    "        to_dt=ps.to_dt,\n",
    "        fields_of_study = ps.fields_of_study,\n",
    "        )\n",
    "    ps.explored_nodes['author'].extend(expanded_author_ids) "
   ]
  },
  {
   "cell_type": "markdown",
   "id": "786257f7",
   "metadata": {},
   "source": [
    "### Graph Stats"
   ]
  },
  {
   "cell_type": "code",
   "execution_count": 63,
   "id": "0ffe3842",
   "metadata": {},
   "outputs": [
    {
     "name": "stdout",
     "output_type": "stream",
     "text": [
      "10246 11645 7898 11645\n",
      "[('Author', 5696), ('Paper', 1615), ('Journal', 318), ('Venue', 258), ('Affiliation', 7), ('Topic', 4)]\n",
      "[('WRITES', 9205), ('RELEASES_IN', 971), ('CITES', 771), ('PRINTS_ON', 501), ('DISCUSS', 186), ('WORKS_IN', 11)]\n"
     ]
    }
   ],
   "source": [
    "import copy\n",
    "from collections import Counter\n",
    "\n",
    "g4 = copy.deepcopy(ps.pg.graph)\n",
    "print(len(ps.nodes_json), len(ps.edges_json), len(g4.nodes), len(g4.edges))\n",
    "\n",
    "# check node types\n",
    "node_types = [g4.nodes[nid].get('nodeType') for nid in g4.nodes]\n",
    "node_types_cnt = Counter(node_types)\n",
    "# 按计数降序排序\n",
    "sorted_node_counts = node_types_cnt.most_common()\n",
    "print(sorted_node_counts)\n",
    "\n",
    "# check node types\n",
    "edge_types = [d.get('relationshipType') for u, v, d in g4.edges(data=True)]\n",
    "edge_types_cnt = Counter(edge_types)\n",
    "# 按计数降序排序\n",
    "sorted_egdes_counts = edge_types_cnt.most_common()\n",
    "print(sorted_egdes_counts)"
   ]
  },
  {
   "cell_type": "markdown",
   "id": "92c63d4d",
   "metadata": {},
   "source": [
    "### Filtering & Ranking"
   ]
  },
  {
   "cell_type": "markdown",
   "id": "a8db2860",
   "metadata": {},
   "source": [
    "Author"
   ]
  },
  {
   "cell_type": "code",
   "execution_count": 64,
   "id": "66ee91bd",
   "metadata": {},
   "outputs": [],
   "source": [
    "author_stat4 = []\n",
    "for n in g4.nodes:\n",
    "    if g4.nodes[n].get('nodeType') == 'Author':\n",
    "        out_edges_info = g4.out_edges(n, data=True)\n",
    "        write_cnt = sum([1 for u, v, data in out_edges_info if data.get('relationshipType') == 'WRITES'])\n",
    "        author_stat4.append((n, write_cnt))"
   ]
  },
  {
   "cell_type": "code",
   "execution_count": 65,
   "id": "d97f1a60",
   "metadata": {},
   "outputs": [
    {
     "name": "stdout",
     "output_type": "stream",
     "text": [
      "{'author_id': '2256319', 'author_name': 'Wanxiang Che', 'write_cnt': 104, 'is_seed': False, 'hIndex': None, 'global_paper_cnt': None, 'global_citation_cnt': None}\n",
      "{'author_id': '152277111', 'author_name': 'Bing Qin', 'write_cnt': 100, 'is_seed': False, 'hIndex': 45, 'global_paper_cnt': 234, 'global_citation_cnt': 14744}\n",
      "{'author_id': '40282288', 'author_name': 'Ting Liu', 'write_cnt': 96, 'is_seed': False, 'hIndex': None, 'global_paper_cnt': None, 'global_citation_cnt': None}\n",
      "{'author_id': '2527954', 'author_name': 'Arman Cohan', 'write_cnt': 63, 'is_seed': False, 'hIndex': 36, 'global_paper_cnt': 106, 'global_citation_cnt': 12447}\n",
      "{'author_id': '1519290245', 'author_name': 'Jindong Wang', 'write_cnt': 61, 'is_seed': False, 'hIndex': 39, 'global_paper_cnt': 84, 'global_citation_cnt': 11185}\n",
      "{'author_id': '2674998', 'author_name': 'Xiaocheng Feng', 'write_cnt': 60, 'is_seed': True, 'hIndex': None, 'global_paper_cnt': None, 'global_citation_cnt': None}\n",
      "{'author_id': '1737249', 'author_name': 'Nihar B. Shah', 'write_cnt': 45, 'is_seed': False, 'hIndex': 39, 'global_paper_cnt': 124, 'global_citation_cnt': 5772}\n",
      "{'author_id': '2108024279', 'author_name': 'Yidong Wang', 'write_cnt': 39, 'is_seed': True, 'hIndex': 17, 'global_paper_cnt': 42, 'global_citation_cnt': 3711}\n",
      "{'author_id': '39483833', 'author_name': 'Duyu Tang', 'write_cnt': 38, 'is_seed': False, 'hIndex': None, 'global_paper_cnt': None, 'global_citation_cnt': None}\n",
      "{'author_id': '2145500840', 'author_name': 'Linyi Yang', 'write_cnt': 37, 'is_seed': False, 'hIndex': None, 'global_paper_cnt': None, 'global_citation_cnt': None}\n",
      "{'author_id': '1732454', 'author_name': 'T. Shinozaki', 'write_cnt': 36, 'is_seed': False, 'hIndex': None, 'global_paper_cnt': None, 'global_citation_cnt': None}\n",
      "{'author_id': '2108620507', 'author_name': 'Shijin Wang', 'write_cnt': 36, 'is_seed': False, 'hIndex': None, 'global_paper_cnt': None, 'global_citation_cnt': None}\n",
      "{'author_id': '145235149', 'author_name': 'Wei Ye', 'write_cnt': 30, 'is_seed': False, 'hIndex': None, 'global_paper_cnt': None, 'global_citation_cnt': None}\n",
      "{'author_id': '1576441343', 'author_name': 'Xingxu Xie', 'write_cnt': 27, 'is_seed': False, 'hIndex': None, 'global_paper_cnt': None, 'global_citation_cnt': None}\n",
      "{'author_id': '8427191', 'author_name': 'Dingkun Long', 'write_cnt': 26, 'is_seed': False, 'hIndex': None, 'global_paper_cnt': None, 'global_citation_cnt': None}\n",
      "{'author_id': '3043830', 'author_name': 'Yiming Cui', 'write_cnt': 26, 'is_seed': False, 'hIndex': None, 'global_paper_cnt': None, 'global_citation_cnt': None}\n",
      "{'author_id': '2257010530', 'author_name': 'Xinyu Dai', 'write_cnt': 25, 'is_seed': True, 'hIndex': None, 'global_paper_cnt': None, 'global_citation_cnt': None}\n",
      "{'author_id': '2259709647', 'author_name': 'Min Zhang', 'write_cnt': 24, 'is_seed': True, 'hIndex': None, 'global_paper_cnt': None, 'global_citation_cnt': None}\n",
      "{'author_id': '1705434', 'author_name': 'Shikun Zhang', 'write_cnt': 23, 'is_seed': False, 'hIndex': None, 'global_paper_cnt': None, 'global_citation_cnt': None}\n",
      "{'author_id': '30051202', 'author_name': 'David Wadden', 'write_cnt': 22, 'is_seed': False, 'hIndex': None, 'global_paper_cnt': None, 'global_citation_cnt': None}\n",
      "{'author_id': '46258841', 'author_name': 'Kyle Lo', 'write_cnt': 22, 'is_seed': False, 'hIndex': None, 'global_paper_cnt': None, 'global_citation_cnt': None}\n",
      "{'author_id': '2051536212', 'author_name': 'Hao Chen', 'write_cnt': 21, 'is_seed': False, 'hIndex': None, 'global_paper_cnt': None, 'global_citation_cnt': None}\n",
      "{'author_id': '46429989', 'author_name': 'Nan Duan', 'write_cnt': 21, 'is_seed': False, 'hIndex': None, 'global_paper_cnt': None, 'global_citation_cnt': None}\n",
      "{'author_id': '51056442', 'author_name': 'Xiachong Feng', 'write_cnt': 20, 'is_seed': True, 'hIndex': None, 'global_paper_cnt': None, 'global_citation_cnt': None}\n",
      "{'author_id': '2118640235', 'author_name': 'Baoxin Wang', 'write_cnt': 20, 'is_seed': True, 'hIndex': None, 'global_paper_cnt': None, 'global_citation_cnt': None}\n",
      "{'author_id': '35504092', 'author_name': 'Cunxiang Wang', 'write_cnt': 20, 'is_seed': False, 'hIndex': None, 'global_paper_cnt': None, 'global_citation_cnt': None}\n",
      "{'author_id': '2250121772', 'author_name': 'Zhen Wu', 'write_cnt': 20, 'is_seed': False, 'hIndex': 5, 'global_paper_cnt': 20, 'global_citation_cnt': 49}\n",
      "{'author_id': '2257004102', 'author_name': 'Bing Qin', 'write_cnt': 20, 'is_seed': False, 'hIndex': 6, 'global_paper_cnt': 22, 'global_citation_cnt': 613}\n",
      "{'author_id': '49339265', 'author_name': 'Yanyan Zhao', 'write_cnt': 20, 'is_seed': False, 'hIndex': None, 'global_paper_cnt': None, 'global_citation_cnt': None}\n",
      "{'author_id': '1993226927', 'author_name': 'Guangsheng Bao', 'write_cnt': 19, 'is_seed': False, 'hIndex': None, 'global_paper_cnt': None, 'global_citation_cnt': None}\n",
      "{'author_id': '2107949588', 'author_name': 'Yanzhao Zhang', 'write_cnt': 19, 'is_seed': False, 'hIndex': None, 'global_paper_cnt': None, 'global_citation_cnt': None}\n",
      "{'author_id': '2257796182', 'author_name': 'Meishan Zhang', 'write_cnt': 19, 'is_seed': False, 'hIndex': 6, 'global_paper_cnt': 20, 'global_citation_cnt': 113}\n",
      "{'author_id': '2118208508', 'author_name': 'Dayong Wu', 'write_cnt': 19, 'is_seed': False, 'hIndex': None, 'global_paper_cnt': None, 'global_citation_cnt': None}\n",
      "{'author_id': '2152335026', 'author_name': 'Fei Zhao', 'write_cnt': 18, 'is_seed': False, 'hIndex': None, 'global_paper_cnt': None, 'global_citation_cnt': None}\n",
      "{'author_id': '2140034231', 'author_name': 'Ting Liu', 'write_cnt': 17, 'is_seed': False, 'hIndex': None, 'global_paper_cnt': None, 'global_citation_cnt': None}\n",
      "{'author_id': '8471176', 'author_name': 'Yutai Hou', 'write_cnt': 17, 'is_seed': False, 'hIndex': None, 'global_paper_cnt': None, 'global_citation_cnt': None}\n",
      "{'author_id': '32216189', 'author_name': 'Wenxin Hou', 'write_cnt': 16, 'is_seed': False, 'hIndex': None, 'global_paper_cnt': None, 'global_citation_cnt': None}\n",
      "{'author_id': '1488944173', 'author_name': 'Chen Tang', 'write_cnt': 16, 'is_seed': False, 'hIndex': 9, 'global_paper_cnt': 16, 'global_citation_cnt': 163}\n",
      "{'author_id': '51056532', 'author_name': 'Zhangyin Feng', 'write_cnt': 16, 'is_seed': False, 'hIndex': None, 'global_paper_cnt': None, 'global_citation_cnt': None}\n",
      "{'author_id': '46181066', 'author_name': 'Iz Beltagy', 'write_cnt': 16, 'is_seed': False, 'hIndex': None, 'global_paper_cnt': None, 'global_citation_cnt': None}\n"
     ]
    }
   ],
   "source": [
    "sorted_by_writes4 = sorted(author_stat4, key=lambda item: item[1], reverse=True)\n",
    "for item in sorted_by_writes4[0:40]:\n",
    "    aid = item[0]\n",
    "    a_name = g4.nodes[aid].get('name')\n",
    "    hIndex = g4.nodes[aid].get('hIndex')\n",
    "    in_seed = True if aid in seed_author_ids else False\n",
    "    global_paper_cnt = g4.nodes[aid].get('paperCount')\n",
    "    global_citation_cnt = g4.nodes[aid].get('citationCount')\n",
    "    print({\"author_id\":aid, \"author_name\":a_name, \"write_cnt\":item[1], \"is_seed\":in_seed,\n",
    "           \"hIndex\":hIndex, \"global_paper_cnt\":global_paper_cnt, \"global_citation_cnt\":global_citation_cnt, })"
   ]
  },
  {
   "cell_type": "code",
   "execution_count": 68,
   "id": "833cdedc",
   "metadata": {},
   "outputs": [
    {
     "name": "stdout",
     "output_type": "stream",
     "text": [
      "2059027765 {'authorId': '2059027765', 'name': 'Wanxiang Che', 'nodeType': 'Author'}\n",
      "2283920108 {'authorId': '2283920108', 'name': 'Wanxiang Che', 'nodeType': 'Author'}\n",
      "2256319 {'authorId': '2256319', 'name': 'Wanxiang Che', 'nodeType': 'Author', 'is_complete': True}\n"
     ]
    }
   ],
   "source": [
    "# why there is duplicated names in S2 authors?\n",
    "for nid, data in g4.nodes(data=True):\n",
    "    if data.get('nodeType')=='Author' and data.get('name') == 'Wanxiang Che':\n",
    "        print(nid, data)"
   ]
  },
  {
   "cell_type": "code",
   "execution_count": 69,
   "id": "67811846",
   "metadata": {},
   "outputs": [
    {
     "name": "stderr",
     "output_type": "stream",
     "text": [
      "2025-04-15 11:26:53,147 - INFO - SemanticScholarKit initialized with max_concurrency=10, sleep_interval=3.0s\n",
      "2025-04-15 11:26:53,147 - INFO - async_search_author_by_ids: Fetching 3 authors by ID in 1 batches.\n",
      "2025-04-15 11:26:53,148 - INFO - async_search_author_by_ids: Gathering 1 tasks...\n",
      "2025-04-15 11:26:53,148 - INFO - _sync_get_authors: Thread started for batch (3 IDs, first 5: ['2059027765', '2283920108', '2256319']...).\n",
      "2025-04-15 11:26:54,242 - INFO - HTTP Request: POST https://api.semanticscholar.org/graph/v1/author/batch?fields=affiliations%2CauthorId%2CcitationCount%2CexternalIds%2ChIndex%2Chomepage%2Cname%2CpaperCount%2Cpapers%2Cpapers.abstract%2Cpapers.authors%2Cpapers.citationCount%2Cpapers.corpusId%2Cpapers.externalIds%2Cpapers.fieldsOfStudy%2Cpapers.influentialCitationCount%2Cpapers.isOpenAccess%2Cpapers.journal%2Cpapers.openAccessPdf%2Cpapers.paperId%2Cpapers.publicationDate%2Cpapers.publicationTypes%2Cpapers.publicationVenue%2Cpapers.referenceCount%2Cpapers.s2FieldsOfStudy%2Cpapers.title%2Cpapers.url%2Cpapers.venue%2Cpapers.year%2Curl \"HTTP/1.1 429 \"\n",
      "2025-04-15 11:27:25,684 - INFO - HTTP Request: POST https://api.semanticscholar.org/graph/v1/author/batch?fields=affiliations%2CauthorId%2CcitationCount%2CexternalIds%2ChIndex%2Chomepage%2Cname%2CpaperCount%2Cpapers%2Cpapers.abstract%2Cpapers.authors%2Cpapers.citationCount%2Cpapers.corpusId%2Cpapers.externalIds%2Cpapers.fieldsOfStudy%2Cpapers.influentialCitationCount%2Cpapers.isOpenAccess%2Cpapers.journal%2Cpapers.openAccessPdf%2Cpapers.paperId%2Cpapers.publicationDate%2Cpapers.publicationTypes%2Cpapers.publicationVenue%2Cpapers.referenceCount%2Cpapers.s2FieldsOfStudy%2Cpapers.title%2Cpapers.url%2Cpapers.venue%2Cpapers.year%2Curl \"HTTP/1.1 200 OK\"\n",
      "2025-04-15 11:27:26,863 - INFO - _sync_get_authors: API call successful for batch (first 5: ['2059027765', '2283920108', '2256319']...), returning 3 items.\n",
      "2025-04-15 11:27:29,866 - INFO - async_search_author_by_ids: Gather complete. Processing results.\n"
     ]
    }
   ],
   "source": [
    "from apis.s2_api import SemanticScholarKit\n",
    "tmp_author_ids = ['2059027765', '2283920108', '2256319']\n",
    "s2 = SemanticScholarKit()\n",
    "authors_info = await s2.async_search_author_by_ids(author_ids=tmp_author_ids, with_abstract=False)"
   ]
  },
  {
   "cell_type": "markdown",
   "id": "112696b8",
   "metadata": {},
   "source": [
    "Papers"
   ]
  },
  {
   "cell_type": "code",
   "execution_count": 74,
   "id": "48f9a824",
   "metadata": {},
   "outputs": [],
   "source": [
    "paper_stat4 = []\n",
    "for n in g4.nodes:\n",
    "    if g4.nodes[n].get('nodeType') == 'Paper':\n",
    "        in_edges_info = g4.in_edges(n, data=True)\n",
    "        cite_cnt = sum([1 for u, v, data in in_edges_info if data.get('relationshipType') == 'CITES'])\n",
    "        paper_stat4.append((n, cite_cnt))"
   ]
  },
  {
   "cell_type": "code",
   "execution_count": 75,
   "id": "f5ccb2a3",
   "metadata": {},
   "outputs": [
    {
     "name": "stdout",
     "output_type": "stream",
     "text": [
      "4 1615\n"
     ]
    }
   ],
   "source": [
    "tot_seed_paper_cnt = len(seed_paper_dois)\n",
    "tot_paper_cnt = len([nid for nid in g4.nodes if g4.nodes[nid].get('nodeType')=='Paper'])\n",
    "print(tot_seed_paper_cnt, tot_paper_cnt)"
   ]
  },
  {
   "cell_type": "code",
   "execution_count": 76,
   "id": "96944cbb",
   "metadata": {},
   "outputs": [
    {
     "name": "stdout",
     "output_type": "stream",
     "text": [
      "[('10.48550/arXiv.2406.10252', 14), ('10.48550/arXiv.2408.06292', 11), ('10.48550/arXiv.2310.01783', 11), ('10.48550/arXiv.2306.00622', 8), ('10.48550/arXiv.2303.08774', 7), ('10.48550/arXiv.2307.05492', 7), ('7c2b3c4ab6d701de7bd9df91d7448f3c06a1e9d7', 7), ('10.48550/arXiv.2306.05685', 5), ('10.48550/arXiv.2302.13971', 5), ('10.48550/arXiv.2406.05688', 5), ('10.48550/arXiv.2403.07183', 5), ('10.48550/arXiv.2303.17651', 5), ('10.48550/arXiv.2405.02150', 5), ('10.1162/tacl_a_00638', 4), ('10.48550/arXiv.2410.09403', 4), ('10.48550/arXiv.2408.10365', 4), ('10.48550/arXiv.2310.03302', 4), ('10.48550/arXiv.2401.04259', 4), ('10.18653/v1/2023.findings-emnlp.472', 4), ('10.48550/arXiv.2309.16609', 4), ('10.48550/arXiv.2312.10997', 3), ('10.1145/3571730', 3), ('10.18653/v1/2024.acl-long.18', 3), ('10.48550/arXiv.2201.11903', 3), ('10.18653/v1/2020.acl-main.207', 3), ('10.48550/arXiv.2410.14255', 3), ('10.48550/arXiv.2410.13185', 3), ('10.48550/arXiv.2409.05556', 3), ('10.48550/arXiv.2409.04109', 3), ('10.48550/arXiv.2405.20477', 3)]\n",
      "{'doi': '10.48550/arXiv.2406.10252', 'title': 'AutoSurvey: Large Language Models Can Automatically Write Surveys', 'if_seed': True, 'local_refs': 14, 'global_refs': 14, 'inf_cite_cnt': 2, 'h_index': 17.0}\n",
      "{'doi': '10.48550/arXiv.2408.06292', 'title': 'The AI Scientist: Towards Fully Automated Open-Ended Scientific Discovery', 'if_seed': False, 'local_refs': 11, 'global_refs': 114, 'inf_cite_cnt': 17, 'h_index': nan}\n",
      "{'doi': '10.48550/arXiv.2310.01783', 'title': 'Can large language models provide useful feedback on research papers? A large-scale empirical analysis', 'if_seed': False, 'local_refs': 11, 'global_refs': 107, 'inf_cite_cnt': 9, 'h_index': nan}\n",
      "{'doi': '10.48550/arXiv.2306.00622', 'title': 'ReviewerGPT? An Exploratory Study on Using Large Language Models for Paper Reviewing', 'if_seed': False, 'local_refs': 8, 'global_refs': 59, 'inf_cite_cnt': 10, 'h_index': 39.0}\n",
      "{'doi': '10.48550/arXiv.2303.08774', 'title': 'GPT-4 Technical Report', 'if_seed': False, 'local_refs': 7, 'global_refs': 11745, 'inf_cite_cnt': 1726, 'h_index': nan}\n",
      "{'doi': '10.48550/arXiv.2307.05492', 'title': 'GPT4 is Slightly Helpful for Peer-Review Assistance: A Pilot Study', 'if_seed': False, 'local_refs': 7, 'global_refs': 21, 'inf_cite_cnt': 0, 'h_index': nan}\n",
      "{'doi': '7c2b3c4ab6d701de7bd9df91d7448f3c06a1e9d7', 'title': 'Is LLM a Reliable Reviewer? A Comprehensive Evaluation of LLM on Automatic Paper Reviewing Tasks', 'if_seed': False, 'local_refs': 7, 'global_refs': 22, 'inf_cite_cnt': 3, 'h_index': nan}\n",
      "{'doi': '10.48550/arXiv.2306.05685', 'title': 'Judging LLM-as-a-judge with MT-Bench and Chatbot Arena', 'if_seed': False, 'local_refs': 5, 'global_refs': 3455, 'inf_cite_cnt': 525, 'h_index': nan}\n",
      "{'doi': '10.48550/arXiv.2302.13971', 'title': 'LLaMA: Open and Efficient Foundation Language Models', 'if_seed': False, 'local_refs': 5, 'global_refs': 11371, 'inf_cite_cnt': 1433, 'h_index': nan}\n",
      "{'doi': '10.48550/arXiv.2406.05688', 'title': 'Peer Review as A Multi-Turn and Long-Context Dialogue with Role-Based Interactions', 'if_seed': False, 'local_refs': 5, 'global_refs': 7, 'inf_cite_cnt': 0, 'h_index': nan}\n",
      "{'doi': '10.48550/arXiv.2403.07183', 'title': 'Monitoring AI-Modified Content at Scale: A Case Study on the Impact of ChatGPT on AI Conference Peer Reviews', 'if_seed': False, 'local_refs': 5, 'global_refs': 65, 'inf_cite_cnt': 6, 'h_index': nan}\n",
      "{'doi': '10.48550/arXiv.2303.17651', 'title': 'Self-Refine: Iterative Refinement with Self-Feedback', 'if_seed': False, 'local_refs': 5, 'global_refs': 1298, 'inf_cite_cnt': 105, 'h_index': nan}\n",
      "{'doi': '10.48550/arXiv.2405.02150', 'title': 'The AI Review Lottery: Widespread AI-Assisted Peer Reviews Boost Paper Scores and Acceptance Rates', 'if_seed': False, 'local_refs': 5, 'global_refs': 21, 'inf_cite_cnt': 7, 'h_index': nan}\n",
      "{'doi': '10.1162/tacl_a_00638', 'title': 'Lost in the Middle: How Language Models Use Long Contexts', 'if_seed': False, 'local_refs': 4, 'global_refs': 1270, 'inf_cite_cnt': 86, 'h_index': nan}\n",
      "{'doi': '10.48550/arXiv.2410.09403', 'title': 'Many Heads Are Better Than One: Improved Scientific Idea Generation by A LLM-Based Multi-Agent System', 'if_seed': False, 'local_refs': 4, 'global_refs': 2, 'inf_cite_cnt': 0, 'h_index': nan}\n",
      "{'doi': '10.48550/arXiv.2408.10365', 'title': 'AI-Driven Review Systems: Evaluating LLMs in Scalable and Bias-Aware Academic Reviews', 'if_seed': False, 'local_refs': 4, 'global_refs': 11, 'inf_cite_cnt': 0, 'h_index': nan}\n",
      "{'doi': '10.48550/arXiv.2310.03302', 'title': 'MLAgentBench: Evaluating Language Agents on Machine Learning Experimentation', 'if_seed': False, 'local_refs': 4, 'global_refs': 54, 'inf_cite_cnt': 9, 'h_index': nan}\n",
      "{'doi': '10.48550/arXiv.2401.04259', 'title': 'MARG: Multi-Agent Review Generation for Scientific Papers', 'if_seed': False, 'local_refs': 4, 'global_refs': 25, 'inf_cite_cnt': 0, 'h_index': nan}\n",
      "{'doi': '10.18653/v1/2023.findings-emnlp.472', 'title': 'Summarizing Multiple Documents with Conversational Structure for Meta-Review Generation', 'if_seed': False, 'local_refs': 4, 'global_refs': 13, 'inf_cite_cnt': 1, 'h_index': nan}\n",
      "{'doi': '10.48550/arXiv.2309.16609', 'title': 'Qwen Technical Report', 'if_seed': False, 'local_refs': 4, 'global_refs': 1412, 'inf_cite_cnt': 179, 'h_index': nan}\n",
      "{'doi': '10.48550/arXiv.2312.10997', 'title': 'Retrieval-Augmented Generation for Large Language Models: A Survey', 'if_seed': False, 'local_refs': 3, 'global_refs': 1278, 'inf_cite_cnt': 71, 'h_index': nan}\n",
      "{'doi': '10.1145/3571730', 'title': 'Survey of Hallucination in Natural Language Generation', 'if_seed': False, 'local_refs': 3, 'global_refs': 2074, 'inf_cite_cnt': 82, 'h_index': nan}\n",
      "{'doi': '10.18653/v1/2024.acl-long.18', 'title': 'SciMON: Scientific Inspiration Machines Optimized for Novelty', 'if_seed': False, 'local_refs': 3, 'global_refs': 48, 'inf_cite_cnt': 7, 'h_index': nan}\n",
      "{'doi': '10.48550/arXiv.2201.11903', 'title': 'Chain of Thought Prompting Elicits Reasoning in Large Language Models', 'if_seed': False, 'local_refs': 3, 'global_refs': 7758, 'inf_cite_cnt': 759, 'h_index': nan}\n",
      "{'doi': '10.18653/v1/2020.acl-main.207', 'title': 'SPECTER: Document-level Representation Learning using Citation-informed Transformers', 'if_seed': False, 'local_refs': 3, 'global_refs': 507, 'inf_cite_cnt': 95, 'h_index': 36.0}\n",
      "{'doi': '10.48550/arXiv.2410.14255', 'title': 'Nova: An Iterative Planning and Search Approach to Enhance Novelty and Diversity of LLM Generated Ideas', 'if_seed': False, 'local_refs': 3, 'global_refs': 9, 'inf_cite_cnt': 1, 'h_index': nan}\n",
      "{'doi': '10.48550/arXiv.2410.13185', 'title': 'Chain of Ideas: Revolutionizing Research Via Novel Idea Development with LLM Agents', 'if_seed': False, 'local_refs': 3, 'global_refs': 10, 'inf_cite_cnt': 3, 'h_index': nan}\n",
      "{'doi': '10.48550/arXiv.2409.05556', 'title': 'SciAgents: Automating scientific discovery through multi-agent intelligent graph reasoning', 'if_seed': False, 'local_refs': 3, 'global_refs': 22, 'inf_cite_cnt': 2, 'h_index': nan}\n",
      "{'doi': '10.48550/arXiv.2409.04109', 'title': 'Can LLMs Generate Novel Research Ideas? A Large-Scale Human Study with 100+ NLP Researchers', 'if_seed': False, 'local_refs': 3, 'global_refs': 79, 'inf_cite_cnt': 8, 'h_index': nan}\n",
      "{'doi': '10.48550/arXiv.2405.20477', 'title': 'Automated Focused Feedback Generation for Scientific Writing Assistance', 'if_seed': False, 'local_refs': 3, 'global_refs': 8, 'inf_cite_cnt': 1, 'h_index': nan}\n"
     ]
    },
    {
     "name": "stderr",
     "output_type": "stream",
     "text": [
      "/home/jiezi/miniconda3/envs/ai4fun/lib/python3.10/site-packages/numpy/lib/function_base.py:520: RuntimeWarning: Mean of empty slice.\n",
      "  avg = a.mean(axis, **keepdims_kw)\n",
      "/home/jiezi/miniconda3/envs/ai4fun/lib/python3.10/site-packages/numpy/core/_methods.py:129: RuntimeWarning: invalid value encountered in scalar divide\n",
      "  ret = ret.dtype.type(ret / rcount)\n"
     ]
    }
   ],
   "source": [
    "import numpy as np\n",
    "sorted_by_cite4 = sorted(paper_stat4, key=lambda item: item[1], reverse=True)\n",
    "print(sorted_by_cite4[0:30])\n",
    "\n",
    "for item in sorted_by_cite4[0:30]:\n",
    "    n = item[0]\n",
    "    cite_cnt = item[1]\n",
    "    # paper infos\n",
    "    title = g4.nodes[n].get('title')\n",
    "    in_seed = True if item[0] in seed_paper_dois else False\n",
    "    overall_cite_cnt = g4.nodes[n].get('citationCount')\n",
    "    influential_cite_cnt = g4.nodes[n].get('influentialCitationCount')\n",
    "    # author infors\n",
    "    hindex_lst = []\n",
    "    for u in g4.predecessors(n):\n",
    "        if g4.nodes[u].get('nodeType') == 'Author':\n",
    "            hIndex = g4.nodes[u].get('hIndex')\n",
    "            if hIndex:\n",
    "                hindex_lst.append(hIndex)\n",
    "            paperCount = g4.nodes[u].get('paperCount')\n",
    "            citationCount = g4.nodes[u].get('citationCount')\n",
    "    h_index = np.average(hindex_lst)\n",
    "\n",
    "    paper_info = {\"doi\":n, \"title\":title, \"if_seed\": in_seed,\n",
    "                  \"local_refs\":cite_cnt, \"global_refs\":overall_cite_cnt, \"inf_cite_cnt\":influential_cite_cnt,\n",
    "                  \"h_index\": h_index}\n",
    "    print(paper_info)"
   ]
  },
  {
   "cell_type": "markdown",
   "id": "5d1333ad",
   "metadata": {},
   "source": [
    "### Graph Viz"
   ]
  },
  {
   "cell_type": "code",
   "execution_count": 77,
   "id": "8fe63c17",
   "metadata": {},
   "outputs": [
    {
     "name": "stdout",
     "output_type": "stream",
     "text": [
      "Running preprocessing...\n",
      "Preprocessing complete.\n",
      "Calculating layout...\n",
      "Graph is large, using spring_layout (may take time)...\n",
      "Layout calculated using spring_layout.\n",
      "Preparing data sources...\n",
      "Creating plot...\n",
      "Creating search widgets...\n",
      "Creating legends...\n",
      "Arranging layout...\n",
      "Displaying plot.\n"
     ]
    }
   ],
   "source": [
    "# from graph.graph_viz import GraphViz\n",
    "viz4 = GraphViz(g4, 'paper graph after author expansion')\n",
    "viz4.preprocessing()\n",
    "viz4.visulization()"
   ]
  },
  {
   "cell_type": "markdown",
   "id": "ea5459d6",
   "metadata": {},
   "source": [
    "### Similarity Calculation"
   ]
  },
  {
   "cell_type": "code",
   "execution_count": 78,
   "id": "9fe61925",
   "metadata": {},
   "outputs": [],
   "source": [
    "similarity_threshold = 0.7\n",
    "expanded_k_papers = 20\n",
    "all_paper_dois = [node['id'] for node in ps.nodes_json if node['labels'] == ['Paper']]\n",
    "non_seed_paper_dois = [node['id'] for node in ps.nodes_json if node['labels'] == ['Paper'] and node['id'] not in seed_paper_dois]\n",
    "paper_nodes_json = [node for node in ps.nodes_json \n",
    "                    if node['labels'] == ['Paper'] and \n",
    "                    node['properties'].get('title') is not None and node['properties'].get('abstract') is not None]"
   ]
  },
  {
   "cell_type": "code",
   "execution_count": 79,
   "id": "80503813",
   "metadata": {},
   "outputs": [
    {
     "name": "stderr",
     "output_type": "stream",
     "text": [
      "2025-04-15 11:41:31,707 - INFO - Generating embeddings for 717 papers...\n",
      "2025-04-15 11:41:40,978 - INFO - Shape of embeds_1: (1443, 768)\n",
      "2025-04-15 11:41:40,979 - INFO - Shape of embeds_2: (1443, 768)\n",
      "2025-04-15 11:41:40,979 - INFO - Calculating similarity matrix...\n",
      "2025-04-15 11:41:41,001 - INFO - Processing similarity matrix to create relationships...\n"
     ]
    }
   ],
   "source": [
    "# calculate paper nodes similarity\n",
    "semantic_similar_pool = await ps.cal_embed_and_similarity(\n",
    "    paper_nodes_json=paper_nodes_json,\n",
    "    paper_dois_1=all_paper_dois, \n",
    "    paper_dois_2=all_paper_dois,\n",
    "    similarity_threshold=similarity_threshold,\n",
    "    )"
   ]
  },
  {
   "cell_type": "code",
   "execution_count": 83,
   "id": "9e8be805",
   "metadata": {},
   "outputs": [],
   "source": [
    "top_k_similar_papers = 20"
   ]
  },
  {
   "cell_type": "code",
   "execution_count": 84,
   "id": "d3430166",
   "metadata": {},
   "outputs": [],
   "source": [
    "if len(semantic_similar_pool) > 0:\n",
    "    candit_items = []\n",
    "    for item in semantic_similar_pool:\n",
    "        wt = item.get('properties', {}).get('weight')\n",
    "        if (wt > 0.7 and wt < 0.95) or (wt > 0.7 and wt < 0.95):\n",
    "            if item['startNodeId'] in seed_paper_dois and item['endNodeId'] not in seed_paper_dois:\n",
    "                candit_items.append((item['endNodeId'], wt))\n",
    "            elif item['startNodeId'] not in seed_paper_dois and item['endNodeId'] in seed_paper_dois:\n",
    "                candit_items.append((item['startNodeId'], wt))\n",
    "                \n",
    "sorted_items = sorted(candit_items, key=lambda item: item[1], reverse=True)\n",
    "\n",
    "# filter top k similarities\n",
    "similar_paper_dois = [x[0] for x in sorted_items[0:top_k_similar_papers]]"
   ]
  },
  {
   "cell_type": "code",
   "execution_count": 86,
   "id": "f6e4d5a8",
   "metadata": {},
   "outputs": [
    {
     "name": "stdout",
     "output_type": "stream",
     "text": [
      "{'doi': '10.48550/arXiv.2401.04259', 'title': 'MARG: Multi-Agent Review Generation for Scientific Papers', 'if_seed': False, 'global_refs': 25, 'inf_cite_cnt': 0, 'h_index': nan}\n",
      "{'doi': '10.48550/arXiv.2408.10365', 'title': 'AI-Driven Review Systems: Evaluating LLMs in Scalable and Bias-Aware Academic Reviews', 'if_seed': False, 'global_refs': 11, 'inf_cite_cnt': 0, 'h_index': nan}\n",
      "{'doi': '10.48550/arXiv.2503.08506', 'title': 'ReviewAgents: Bridging the Gap Between Human and AI-Generated Paper Reviews', 'if_seed': False, 'global_refs': 1, 'inf_cite_cnt': 0, 'h_index': nan}\n",
      "{'doi': '10.48550/arXiv.2502.14776', 'title': 'SurveyX: Academic Survey Automation via Large Language Models', 'if_seed': False, 'global_refs': 0, 'inf_cite_cnt': 0, 'h_index': nan}\n",
      "{'doi': '10.48550/arXiv.2502.17086', 'title': 'Automatically Evaluating the Paper Reviewing Capability of Large Language Models', 'if_seed': False, 'global_refs': 0, 'inf_cite_cnt': 0, 'h_index': nan}\n",
      "{'doi': '10.48550/arXiv.2406.12708', 'title': 'AgentReview: Exploring Peer Review Dynamics with LLM Agents', 'if_seed': False, 'global_refs': 11, 'inf_cite_cnt': 0, 'h_index': nan}\n",
      "{'doi': '10.48550/arXiv.2502.11736', 'title': 'ReviewEval: An Evaluation Framework for AI-Generated Reviews', 'if_seed': False, 'global_refs': 0, 'inf_cite_cnt': 0, 'h_index': nan}\n",
      "{'doi': '10.48550/arXiv.2409.16813', 'title': 'PeerArg: Argumentative Peer Review with LLMs', 'if_seed': False, 'global_refs': 2, 'inf_cite_cnt': 0, 'h_index': nan}\n",
      "{'doi': '10.48550/arXiv.2503.04629', 'title': 'SurveyForge: On the Outline Heuristics, Memory-Driven Generation, and Multi-dimensional Evaluation for Automated Survey Writing', 'if_seed': False, 'global_refs': 0, 'inf_cite_cnt': 0, 'h_index': nan}\n",
      "{'doi': '10.48550/arXiv.2410.03019', 'title': 'Is Your Paper Being Reviewed by an LLM? Investigating AI Text Detectability in Peer Review', 'if_seed': False, 'global_refs': 6, 'inf_cite_cnt': 0, 'h_index': nan}\n",
      "{'doi': '10.48550/arXiv.2502.12510', 'title': 'Aspect-Guided Multi-Level Perturbation Analysis of Large Language Models in Automated Peer Review', 'if_seed': False, 'global_refs': 0, 'inf_cite_cnt': 0, 'h_index': nan}\n",
      "{'doi': '10.48550/arXiv.2306.00622', 'title': 'ReviewerGPT? An Exploratory Study on Using Large Language Models for Paper Reviewing', 'if_seed': False, 'global_refs': 59, 'inf_cite_cnt': 10, 'h_index': 39.0}\n",
      "{'doi': '10.48550/arXiv.2404.07738', 'title': 'ResearchAgent: Iterative Research Idea Generation over Scientific Literature with Large Language Models', 'if_seed': False, 'global_refs': 29, 'inf_cite_cnt': 5, 'h_index': nan}\n",
      "{'doi': '10.48550/arXiv.2406.16253', 'title': 'LLMs Assist NLP Researchers: Critique Paper (Meta-)Reviewing', 'if_seed': False, 'global_refs': 22, 'inf_cite_cnt': 1, 'h_index': nan}\n",
      "{'doi': '10.48550/arXiv.2404.17605', 'title': 'Autonomous LLM-driven research from data to human-verifiable research papers', 'if_seed': False, 'global_refs': 10, 'inf_cite_cnt': 0, 'h_index': nan}\n",
      "{'doi': '10.48550/arXiv.2405.02150', 'title': 'The AI Review Lottery: Widespread AI-Assisted Peer Reviews Boost Paper Scores and Acceptance Rates', 'if_seed': False, 'global_refs': 21, 'inf_cite_cnt': 7, 'h_index': nan}\n",
      "{'doi': '10.48550/arXiv.2502.19614', 'title': 'Is Your Paper Being Reviewed by an LLM? A New Benchmark Dataset and Approach for Detecting AI Text in Peer Review', 'if_seed': False, 'global_refs': 1, 'inf_cite_cnt': 0, 'h_index': nan}\n",
      "{'doi': '10.1057/s41599-020-00703-8', 'title': 'AI-assisted peer review', 'if_seed': False, 'global_refs': 153, 'inf_cite_cnt': 5, 'h_index': nan}\n",
      "{'doi': '10.48550/arXiv.2410.22394', 'title': \"AAAR-1.0: Assessing AI's Potential to Assist Research\", 'if_seed': False, 'global_refs': 4, 'inf_cite_cnt': 1, 'h_index': nan}\n",
      "{'doi': '10.1613/jair.1.12862', 'title': 'Can We Automate Scientific Reviewing?', 'if_seed': False, 'global_refs': 81, 'inf_cite_cnt': 10, 'h_index': nan}\n"
     ]
    },
    {
     "name": "stderr",
     "output_type": "stream",
     "text": [
      "/home/jiezi/miniconda3/envs/ai4fun/lib/python3.10/site-packages/numpy/lib/function_base.py:520: RuntimeWarning: Mean of empty slice.\n",
      "  avg = a.mean(axis, **keepdims_kw)\n",
      "/home/jiezi/miniconda3/envs/ai4fun/lib/python3.10/site-packages/numpy/core/_methods.py:129: RuntimeWarning: invalid value encountered in scalar divide\n",
      "  ret = ret.dtype.type(ret / rcount)\n"
     ]
    }
   ],
   "source": [
    "for doi in similar_paper_dois:\n",
    "    # paper infos\n",
    "    title = g4.nodes[doi].get('title')\n",
    "    in_seed = True if doi in seed_paper_dois else False\n",
    "    overall_cite_cnt = g4.nodes[doi].get('citationCount')\n",
    "    influential_cite_cnt = g4.nodes[doi].get('influentialCitationCount')\n",
    "    # author infors\n",
    "    hindex_lst = []\n",
    "    for u in g4.predecessors(doi):\n",
    "        if g4.nodes[u].get('nodeType') == 'Author':\n",
    "            hIndex = g4.nodes[u].get('hIndex')\n",
    "            if hIndex:\n",
    "                hindex_lst.append(hIndex)\n",
    "            paperCount = g4.nodes[u].get('paperCount')\n",
    "            citationCount = g4.nodes[u].get('citationCount')\n",
    "    h_index = np.average(hindex_lst)\n",
    "\n",
    "    paper_info = {\"doi\":doi, \"title\":title, \"if_seed\": in_seed,\n",
    "                  \"global_refs\":overall_cite_cnt, \"inf_cite_cnt\":influential_cite_cnt,\n",
    "                  \"h_index\": h_index}\n",
    "    print(paper_info)"
   ]
  },
  {
   "cell_type": "markdown",
   "id": "000922c8",
   "metadata": {},
   "source": [
    "## Reduction"
   ]
  },
  {
   "cell_type": "markdown",
   "id": "203ad994",
   "metadata": {},
   "source": [
    "### Add Similar to Graph"
   ]
  },
  {
   "cell_type": "code",
   "execution_count": 89,
   "id": "c91cea1c",
   "metadata": {},
   "outputs": [
    {
     "data": {
      "text/plain": [
       "22084"
      ]
     },
     "execution_count": 89,
     "metadata": {},
     "output_type": "execute_result"
    }
   ],
   "source": [
    "len(semantic_similar_pool)"
   ]
  },
  {
   "cell_type": "code",
   "execution_count": 90,
   "id": "4495241f",
   "metadata": {},
   "outputs": [],
   "source": [
    "ps.pg.add_graph_edges(semantic_similar_pool)"
   ]
  },
  {
   "cell_type": "code",
   "execution_count": 91,
   "id": "8bd098d4",
   "metadata": {},
   "outputs": [],
   "source": [
    "ps._add_items_to_graph(semantic_similar_pool)"
   ]
  },
  {
   "cell_type": "markdown",
   "id": "02cfb4ff",
   "metadata": {},
   "source": [
    "### Graph Stats"
   ]
  },
  {
   "cell_type": "code",
   "execution_count": 99,
   "id": "e9a24102",
   "metadata": {},
   "outputs": [
    {
     "name": "stdout",
     "output_type": "stream",
     "text": [
      "10246 33729 7898 55813\n",
      "[('Author', 5696), ('Paper', 1615), ('Journal', 318), ('Venue', 258), ('Affiliation', 7), ('Topic', 4)]\n",
      "[('SIMILAR_TO', 44168), ('WRITES', 9205), ('RELEASES_IN', 971), ('CITES', 771), ('PRINTS_ON', 501), ('DISCUSS', 186), ('WORKS_IN', 11)]\n"
     ]
    }
   ],
   "source": [
    "import copy\n",
    "from collections import Counter\n",
    "\n",
    "g5 = copy.deepcopy(ps.pg.graph)\n",
    "print(len(ps.nodes_json), len(ps.edges_json), len(g5.nodes), len(g5.edges))\n",
    "\n",
    "# check node types\n",
    "node_types = [g5.nodes[nid].get('nodeType') for nid in g5.nodes]\n",
    "node_types_cnt = Counter(node_types)\n",
    "# 按计数降序排序\n",
    "sorted_node_counts = node_types_cnt.most_common()\n",
    "print(sorted_node_counts)\n",
    "\n",
    "# check node types\n",
    "edge_types = [d.get('relationshipType') for u, v, d in g5.edges(data=True)]\n",
    "edge_types_cnt = Counter(edge_types)\n",
    "# 按计数降序排序\n",
    "sorted_egdes_counts = edge_types_cnt.most_common()\n",
    "print(sorted_egdes_counts)"
   ]
  },
  {
   "cell_type": "markdown",
   "id": "d09a4746",
   "metadata": {},
   "source": [
    "Remove Isolated Nodes and Edges"
   ]
  },
  {
   "cell_type": "code",
   "execution_count": 100,
   "id": "e5eae53d",
   "metadata": {},
   "outputs": [],
   "source": [
    "import networkx as nx\n",
    "from typing import List, Dict, Union, List, Set, Tuple, Hashable, Literal, Optional\n",
    "\n",
    "NodeType = Hashable # 节点类型通常是可哈希的\n",
    "\n",
    "def find_wcc_subgraphs(\n",
    "    graph,\n",
    "    target_nodes: Union[NodeType, List[NodeType], Set[NodeType], Tuple[NodeType]]\n",
    ") -> List[nx.MultiDiGraph]:\n",
    "    \"\"\"查找包含一个或多个指定节点的弱连通分量对应的子图。\n",
    "    Args:\n",
    "        graph: NetworkX MultiDiGraph 图对象。\n",
    "        target_nodes: 一个节点 ID，或一个包含节点 ID 的列表、集合或元组。\n",
    "    Returns:\n",
    "        一个包含所有找到的弱连通分量子图 (作为独立的 MultiDiGraph 副本) 的列表。\n",
    "        如果目标节点不在图中或找不到对应的连通分量，则返回空列表。\n",
    "        注意：如果多个目标节点在同一个连通分量中，该分量的子图只会被返回一次。\n",
    "    \"\"\"\n",
    "    # 1. 标准化输入为集合\n",
    "    if isinstance(target_nodes, (list, set, tuple)):\n",
    "        target_nodes_set = set(target_nodes)\n",
    "    else:\n",
    "        # 假设是单个节点 ID\n",
    "        target_nodes_set = {target_nodes}\n",
    "\n",
    "    # 2. 检查所有目标节点是否存在于图中\n",
    "    missing_nodes = target_nodes_set - set(graph.nodes())\n",
    "    if missing_nodes:\n",
    "        print(f\"警告：以下目标节点不在图中，将被忽略: {missing_nodes}\")\n",
    "        target_nodes_set -= missing_nodes # 移除不存在的节点\n",
    "\n",
    "    if not target_nodes_set:\n",
    "        print(\"错误：没有有效的目标节点可供查找。\")\n",
    "        return []\n",
    "\n",
    "    # 3. 查找并收集包含任何目标节点的弱连通分量\n",
    "    found_subgraphs = []\n",
    "    found_components_nodes = set() # 用于跟踪已添加的分量的节点集，避免重复\n",
    "\n",
    "    for component_nodes in nx.weakly_connected_components(graph):\n",
    "        component_set = set(component_nodes)\n",
    "        # 4. 检查当前分量是否包含任何目标节点 (使用集合交集)\n",
    "        if not target_nodes_set.isdisjoint(component_set): # 如果交集非空\n",
    "            # 检查这个分量是否已经添加过 (基于其节点集合)\n",
    "            # frozenset 是可哈希的，可以放入集合中\n",
    "            component_frozenset = frozenset(component_set)\n",
    "            if component_frozenset not in found_components_nodes:\n",
    "                # 5. 提取子图并添加到结果列表\n",
    "                subgraph = graph.subgraph(component_nodes).copy()\n",
    "                found_subgraphs.append(subgraph)\n",
    "                found_components_nodes.add(component_frozenset)\n",
    "\n",
    "                # Optional: 如果我们确定一个目标节点只能属于一个WCC,\n",
    "                # 可以在这里从 target_nodes_set 中移除 component_set 里的目标节点\n",
    "                # 以可能稍微提高后续迭代的效率，但这通常不是必需的\n",
    "                # target_nodes_set -= component_set\n",
    "\n",
    "    return found_subgraphs"
   ]
  },
  {
   "cell_type": "code",
   "execution_count": 106,
   "id": "29114584",
   "metadata": {},
   "outputs": [],
   "source": [
    "g6 = find_wcc_subgraphs(graph=g5, target_nodes=seed_paper_dois)[0]"
   ]
  },
  {
   "cell_type": "code",
   "execution_count": 107,
   "id": "f479a719",
   "metadata": {},
   "outputs": [
    {
     "name": "stdout",
     "output_type": "stream",
     "text": [
      "10246 33729 7818 55741\n",
      "[('Author', 5631), ('Paper', 1607), ('Journal', 315), ('Venue', 254), ('Affiliation', 7), ('Topic', 4)]\n",
      "[('SIMILAR_TO', 44168), ('WRITES', 9138), ('RELEASES_IN', 968), ('CITES', 771), ('PRINTS_ON', 499), ('DISCUSS', 186), ('WORKS_IN', 11)]\n"
     ]
    }
   ],
   "source": [
    "import copy\n",
    "from collections import Counter\n",
    "\n",
    "print(len(ps.nodes_json), len(ps.edges_json), len(g6.nodes), len(g6.edges))\n",
    "\n",
    "# check node types\n",
    "node_types = [g6.nodes[nid].get('nodeType') for nid in g6.nodes]\n",
    "node_types_cnt = Counter(node_types)\n",
    "# 按计数降序排序\n",
    "sorted_node_counts = node_types_cnt.most_common()\n",
    "print(sorted_node_counts)\n",
    "\n",
    "# check node types\n",
    "edge_types = [d.get('relationshipType') for u, v, d in g6.edges(data=True)]\n",
    "edge_types_cnt = Counter(edge_types)\n",
    "# 按计数降序排序\n",
    "sorted_egdes_counts = edge_types_cnt.most_common()\n",
    "print(sorted_egdes_counts)"
   ]
  },
  {
   "cell_type": "markdown",
   "id": "317f3e6a",
   "metadata": {},
   "source": [
    "Seed Paper Similar To"
   ]
  },
  {
   "cell_type": "code",
   "execution_count": 171,
   "id": "a7e9601f",
   "metadata": {},
   "outputs": [
    {
     "name": "stdout",
     "output_type": "stream",
     "text": [
      "10.48550/arXiv.2402.01788 10.48550/arXiv.2406.10252\n",
      "10.48550/arXiv.2403.02574 10.48550/arXiv.2406.10252\n",
      "10.3390/fi16050167 10.48550/arXiv.2406.10252\n",
      "10.48550/arXiv.2403.02901 10.48550/arXiv.2406.10252\n",
      "10.48550/arXiv.2408.16498 10.48550/arXiv.2406.10252\n",
      "10.48550/arXiv.2310.07521 10.48550/arXiv.2406.10252\n",
      "10.48550/arXiv.2305.12421 10.48550/arXiv.2406.10252\n",
      "10.1145/3641289 10.48550/arXiv.2406.10252\n",
      "10.48550/arXiv.2311.05876 10.48550/arXiv.2406.10252\n",
      "10.48550/arXiv.2305.14627 10.48550/arXiv.2406.10252\n",
      "10.48550/arXiv.2303.18223 10.48550/arXiv.2406.10252\n",
      "10.48550/arXiv.2504.05732 10.48550/arXiv.2406.10252\n",
      "10.48550/arXiv.2503.19065 10.48550/arXiv.2406.10252\n",
      "10.48550/arXiv.2502.18209 10.48550/arXiv.2406.10252\n",
      "10.48550/arXiv.2502.12568 10.48550/arXiv.2406.10252\n",
      "10.48550/arXiv.2501.09751 10.48550/arXiv.2406.10252\n",
      "10.48550/arXiv.2411.00816 10.48550/arXiv.2406.10252\n",
      "10.48550/arXiv.2410.09510 10.48550/arXiv.2406.10252\n",
      "10.48550/arXiv.2410.07009 10.48550/arXiv.2406.10252\n",
      "10.1007/978-3-031-72567-8_12 10.48550/arXiv.2406.10252\n",
      "10.48550/arXiv.2408.07884 10.48550/arXiv.2406.10252\n",
      "10.1007/s11704-024-40231-1 10.48550/arXiv.2406.10252\n",
      "10.48550/arXiv.2404.17605 10.48550/arXiv.2406.10252\n",
      "10.1145/3637371 10.48550/arXiv.2406.10252\n",
      "10.1145/3715964 10.48550/arXiv.2406.10252\n",
      "10.18653/v1/2024.acl-long.547 10.48550/arXiv.2406.10252\n",
      "10.48550/arXiv.2311.04929 10.48550/arXiv.2406.10252\n",
      "10.48550/arXiv.2308.06610 10.48550/arXiv.2406.10252\n",
      "10.1007/978-981-97-9536-9_2 10.48550/arXiv.2406.10252\n",
      "10.48550/arXiv.2305.15186 10.48550/arXiv.2406.10252\n",
      "10.48550/arXiv.2305.02499 10.48550/arXiv.2406.10252\n",
      "10.24963/ijcai.2022/591 10.48550/arXiv.2406.10252\n",
      "10.48550/arXiv.2401.16788 10.48550/arXiv.2406.10252\n",
      "10.48550/arXiv.2405.10255 10.48550/arXiv.2406.10252\n",
      "10.48550/arXiv.2404.06364 10.48550/arXiv.2406.10252\n",
      "10.48550/arXiv.2403.07008 10.48550/arXiv.2406.10252\n",
      "10.1613/jair.1.12862 10.48550/arXiv.2406.10252\n",
      "10.1145/3637528.3671470 10.48550/arXiv.2406.10252\n",
      "10.48550/arXiv.2310.19736 10.48550/arXiv.2406.10252\n",
      "10.48550/arXiv.2308.08155 10.48550/arXiv.2406.10252\n",
      "10.48550/arXiv.2301.13298 10.48550/arXiv.2406.10252\n",
      "10.48550/arXiv.2311.09184 10.48550/arXiv.2406.10252\n",
      "10.48550/arXiv.2012.14136 10.48550/arXiv.2406.10252\n",
      "10.48550/arXiv.2402.01788 10.48550/arXiv.2412.10415\n",
      "10.48550/arXiv.2403.02574 10.48550/arXiv.2412.10415\n",
      "10.3390/fi16050167 10.48550/arXiv.2412.10415\n",
      "10.48550/arXiv.2403.02901 10.48550/arXiv.2412.10415\n"
     ]
    },
    {
     "ename": "KeyError",
     "evalue": "'10.48550/arXiv.2412.10415'",
     "output_type": "error",
     "traceback": [
      "\u001b[0;31m---------------------------------------------------------------------------\u001b[0m",
      "\u001b[0;31mKeyError\u001b[0m                                  Traceback (most recent call last)",
      "Cell \u001b[0;32mIn[171], line 8\u001b[0m\n\u001b[1;32m      6\u001b[0m \u001b[38;5;28;01mfor\u001b[39;00m pre_id \u001b[38;5;129;01min\u001b[39;00m pre_paper_ids:\n\u001b[1;32m      7\u001b[0m     \u001b[38;5;28mprint\u001b[39m(pre_id, nid)\n\u001b[0;32m----> 8\u001b[0m     edge_type \u001b[38;5;241m=\u001b[39m \u001b[43mg6\u001b[49m\u001b[43m[\u001b[49m\u001b[43mpre_id\u001b[49m\u001b[43m]\u001b[49m\u001b[43m[\u001b[49m\u001b[43mnid\u001b[49m\u001b[43m]\u001b[49m\u001b[38;5;241m.\u001b[39mget(\u001b[38;5;124m'\u001b[39m\u001b[38;5;124mrelationshipType\u001b[39m\u001b[38;5;124m'\u001b[39m)\n\u001b[1;32m      9\u001b[0m     \u001b[38;5;28;01mif\u001b[39;00m edge_type \u001b[38;5;241m==\u001b[39m \u001b[38;5;124m'\u001b[39m\u001b[38;5;124mSIMILAR_TO\u001b[39m\u001b[38;5;124m'\u001b[39m:\n\u001b[1;32m     10\u001b[0m         pre_sim_paper_ids\u001b[38;5;241m.\u001b[39mappend(pre_id)\n",
      "File \u001b[0;32m~/miniconda3/envs/ai4fun/lib/python3.10/site-packages/networkx/classes/coreviews.py:82\u001b[0m, in \u001b[0;36mAdjacencyView.__getitem__\u001b[0;34m(self, name)\u001b[0m\n\u001b[1;32m     81\u001b[0m \u001b[38;5;28;01mdef\u001b[39;00m\u001b[38;5;250m \u001b[39m\u001b[38;5;21m__getitem__\u001b[39m(\u001b[38;5;28mself\u001b[39m, name):\n\u001b[0;32m---> 82\u001b[0m     \u001b[38;5;28;01mreturn\u001b[39;00m AtlasView(\u001b[38;5;28;43mself\u001b[39;49m\u001b[38;5;241;43m.\u001b[39;49m\u001b[43m_atlas\u001b[49m\u001b[43m[\u001b[49m\u001b[43mname\u001b[49m\u001b[43m]\u001b[49m)\n",
      "\u001b[0;31mKeyError\u001b[0m: '10.48550/arXiv.2412.10415'"
     ]
    }
   ],
   "source": [
    "pre_paper_ids, after_paper_ids = [], []\n",
    "pre_sim_paper_ids, after_sim_paper_ids = [], []\n",
    "for nid in seed_paper_dois:\n",
    "    pre_nodes_ids = g6.predecessors(nid)\n",
    "    pre_paper_ids.extend([x for x in pre_nodes_ids if g6.nodes[x].get('nodeType') == 'Paper' and x not in seed_paper_dois]) \n",
    "    for pre_id in pre_paper_ids:\n",
    "        print(pre_id, nid)\n",
    "        edge_type = g6[pre_id][nid].get('relationshipType')\n",
    "        if edge_type == 'SIMILAR_TO':\n",
    "            pre_sim_paper_ids.append(pre_id)\n",
    "\n",
    "    after_nodes_ids = g6.successors(nid)\n",
    "    after_paper_ids.extend([x for x in after_nodes_ids if g6.nodes[x].get('nodeType') == 'Paper' and x not in seed_paper_dois]) \n",
    "    for after_id in after_paper_ids:\n",
    "        edge_type = g6[nid][after_id].get('relationshipType')\n",
    "        if edge_type == 'SIMILAR_TO':\n",
    "            after_sim_paper_ids.append(pre_id)\n",
    "\n",
    "print(len(pre_paper_ids), len(pre_sim_paper_ids), len(after_paper_ids), len(after_sim_paper_ids))"
   ]
  },
  {
   "cell_type": "code",
   "execution_count": 175,
   "id": "04779da5",
   "metadata": {},
   "outputs": [
    {
     "name": "stdout",
     "output_type": "stream",
     "text": [
      "2335566763\n",
      "2335569348\n",
      "10.1109/ICISET62123.2024.10939517\n",
      "10.48550/arXiv.2402.01788\n",
      "10.48550/arXiv.2409.04600\n",
      "10.48550/arXiv.2403.02574\n",
      "10.3390/fi16050167\n",
      "10.1109/FLLM63129.2024.10852447\n",
      "10.1145/3641289\n",
      "10.1109/ICASSP48485.2024.10448015\n",
      "10.48550/arXiv.2304.03512\n",
      "10.48550/arXiv.2312.10997\n",
      "10.48550/arXiv.2305.14627\n",
      "10.48550/arXiv.2305.06983\n",
      "10.48550/arXiv.2411.00816\n",
      "10.48550/arXiv.2410.09403\n",
      "10.48550/arXiv.2410.03019\n",
      "10.48550/arXiv.2408.10365\n",
      "10.48550/arXiv.2408.06292\n",
      "10.48550/arXiv.2406.05688\n",
      "10.48550/arXiv.2404.16130\n",
      "10.48550/arXiv.2404.07738\n",
      "10.48550/arXiv.2310.07984\n",
      "10.48550/arXiv.2310.01783\n",
      "10.48550/arXiv.2309.07864\n",
      "10.48550/arXiv.2307.05492\n",
      "10.48550/arXiv.2306.00622\n",
      "10.48550/arXiv.2305.01937\n",
      "10.48550/arXiv.2502.17086\n",
      "10.48550/arXiv.2408.15769\n",
      "10.1007/s11704-024-40231-1\n",
      "10.48550/arXiv.2411.14199\n",
      "10.48550/arXiv.2411.09763\n",
      "10.48550/arXiv.2411.02429\n",
      "10.48550/arXiv.2410.22394\n",
      "10.48550/arXiv.2410.13185\n",
      "10.48550/arXiv.2409.16813\n",
      "10.48550/arXiv.2409.13740\n",
      "10.48550/arXiv.2409.05556\n",
      "10.48550/arXiv.2409.04109\n",
      "10.48550/arXiv.2408.14033\n",
      "10.48550/arXiv.2408.14317\n",
      "10.1093/jamia/ocae139\n",
      "10.48550/arXiv.2406.10294\n",
      "10.48550/arXiv.2406.07359\n",
      "10.48550/arXiv.2405.20477\n",
      "10.48550/arXiv.2405.09783\n",
      "10.48550/arXiv.2404.17605\n",
      "10.1145/3637371\n",
      "10.1145/3715964\n",
      "10.48550/arXiv.2403.07183\n",
      "10.1145/3613904.3642196\n",
      "10.18653/v1/2024.acl-long.547\n",
      "10.48550/arXiv.2401.04259\n",
      "10.48550/arXiv.2311.04929\n",
      "10.48550/arXiv.2309.05457\n",
      "10.1002/leap.1570\n",
      "10.48550/arXiv.2306.12587\n",
      "10.48550/arXiv.2306.09928\n",
      "10.48550/arXiv.2305.15186\n",
      "10.18653/v1/2023.findings-emnlp.472\n",
      "10.1038/s41746-023-00819-6\n",
      "10.48550/arXiv.2304.01420\n",
      "10.48550/arXiv.2303.17651\n",
      "10.48550/arXiv.2303.07304\n",
      "10.48550/arXiv.2211.06651\n",
      "10.1609/aaai.v36i10.21418\n",
      "10.1109/ACCESS.2022.3225871\n",
      "10.48550/arXiv.2407.20906\n",
      "10.48550/arXiv.2411.02451\n",
      "10.1177/17470161231224552\n",
      "10.48550/arXiv.2405.02150\n",
      "10.1111/bjet.13540\n",
      "10.18653/v1/2023.bea-1.5\n",
      "10.14742/apubs.2023.482\n",
      "10.1002/leap.1638\n",
      "10.1109/ICIS57766.2023.10210243\n",
      "10.21649/akemu.v30i1.5692\n",
      "10.24059/olj.v28i3.4593\n",
      "10.48550/arXiv.2412.00281\n",
      "10.48550/arXiv.2311.11967\n",
      "10.1145/3624918.3625341\n",
      "10.48550/arXiv.2407.19594\n",
      "7c2b3c4ab6d701de7bd9df91d7448f3c06a1e9d7\n",
      "10.48550/arXiv.2412.05579\n",
      "10.48550/arXiv.2406.16253\n",
      "10.48550/arXiv.2401.16788\n",
      "10.48550/arXiv.2402.15589\n",
      "10.48550/arXiv.2311.09497\n",
      "10.1057/s41599-020-00703-8\n",
      "10.1613/jair.1.12862\n",
      "10.1145/3637528.3671470\n",
      "10.48550/arXiv.2401.06954\n",
      "10.48550/arXiv.2310.19736\n",
      "10.48550/arXiv.2310.15684\n",
      "10.48550/arXiv.2310.11511\n",
      "10.48550/arXiv.2412.01708\n",
      "10.48550/arXiv.2409.16605\n",
      "10.1145/3383583.3398541\n",
      "10.5281/zenodo.4314390\n",
      "10.1145/3397271.3401190\n",
      "10.18653/v1/2023.wiesp-1.14\n",
      "10.48550/arXiv.2410.05080\n",
      "10.48550/arXiv.2405.06563\n",
      "10.18653/v1/2023.trustnlp-1.17\n",
      "10.48550/arXiv.2305.14325\n",
      "10.48550/arXiv.2305.00050\n",
      "10.48550/arXiv.2211.06398\n",
      "10.1162/coli_a_00455\n",
      "10.18653/v1/2020.inlg-1.44\n",
      "10.48550/arXiv.2303.16634\n",
      "10.18653/V1/2020.COLING-MAIN.555\n",
      "10.48550/arXiv.2302.12813\n",
      "10.48550/arXiv.2406.12708\n",
      "10.48550/arXiv.2411.16594\n",
      "10.48550/arXiv.2407.12857\n",
      "10.48550/arXiv.2309.12356\n",
      "10.17705/1jais.00867\n",
      "10.18653/v1/2024.sdp-1.23\n",
      "10.48550/arXiv.2305.17339\n",
      "10.48550/arXiv.2404.01129\n",
      "10.48550/arXiv.2305.14239\n",
      "10.1609/aaaiss.v3i1.31209\n",
      "10.48550/arXiv.2408.08067\n"
     ]
    }
   ],
   "source": [
    "for item in g6.predecessors('10.48550/arXiv.2412.10415'):\n",
    "    print(item)"
   ]
  },
  {
   "cell_type": "code",
   "execution_count": 173,
   "id": "4f34350a",
   "metadata": {},
   "outputs": [
    {
     "ename": "KeyError",
     "evalue": "'10.48550/arXiv.2412.10415'",
     "output_type": "error",
     "traceback": [
      "\u001b[0;31m---------------------------------------------------------------------------\u001b[0m",
      "\u001b[0;31mKeyError\u001b[0m                                  Traceback (most recent call last)",
      "Cell \u001b[0;32mIn[173], line 1\u001b[0m\n\u001b[0;32m----> 1\u001b[0m \u001b[43mg6\u001b[49m\u001b[43m[\u001b[49m\u001b[38;5;124;43m'\u001b[39;49m\u001b[38;5;124;43m10.48550/arXiv.2403.02901\u001b[39;49m\u001b[38;5;124;43m'\u001b[39;49m\u001b[43m]\u001b[49m\u001b[43m[\u001b[49m\u001b[38;5;124;43m'\u001b[39;49m\u001b[38;5;124;43m10.48550/arXiv.2412.10415\u001b[39;49m\u001b[38;5;124;43m'\u001b[39;49m\u001b[43m]\u001b[49m\n",
      "File \u001b[0;32m~/miniconda3/envs/ai4fun/lib/python3.10/site-packages/networkx/classes/coreviews.py:82\u001b[0m, in \u001b[0;36mAdjacencyView.__getitem__\u001b[0;34m(self, name)\u001b[0m\n\u001b[1;32m     81\u001b[0m \u001b[38;5;28;01mdef\u001b[39;00m\u001b[38;5;250m \u001b[39m\u001b[38;5;21m__getitem__\u001b[39m(\u001b[38;5;28mself\u001b[39m, name):\n\u001b[0;32m---> 82\u001b[0m     \u001b[38;5;28;01mreturn\u001b[39;00m AtlasView(\u001b[38;5;28;43mself\u001b[39;49m\u001b[38;5;241;43m.\u001b[39;49m\u001b[43m_atlas\u001b[49m\u001b[43m[\u001b[49m\u001b[43mname\u001b[49m\u001b[43m]\u001b[49m)\n",
      "\u001b[0;31mKeyError\u001b[0m: '10.48550/arXiv.2412.10415'"
     ]
    }
   ],
   "source": [
    "g6['10.48550/arXiv.2403.02901']['10.48550/arXiv.2412.10415']"
   ]
  },
  {
   "cell_type": "markdown",
   "id": "b320381c",
   "metadata": {},
   "source": [
    "### Still Graph Stats"
   ]
  },
  {
   "cell_type": "markdown",
   "id": "b8e2180f",
   "metadata": {},
   "source": [
    "Get k-hop neighbor graph"
   ]
  },
  {
   "cell_type": "code",
   "execution_count": 110,
   "id": "485fa498",
   "metadata": {},
   "outputs": [],
   "source": [
    "import networkx as nx\n",
    "from typing import Iterable, Set, Hashable # For type hinting\n",
    "\n",
    "def get_k_hop_neighbors(graph: nx.MultiDiGraph,\n",
    "                        start_nodes: Iterable[Hashable],\n",
    "                        k: int) -> Set[Hashable]:\n",
    "    \"\"\"\n",
    "    查找 MultiDiGraph 中一个或多个起始节点的 k-hop 邻居（忽略边的方向）。\n",
    "    通过为每个起始节点计算 ego_graph 并合并结果实现。\n",
    "\n",
    "    Args:\n",
    "        graph: NetworkX MultiDiGraph 对象。\n",
    "        start_nodes: 一个包含一个或多个起始节点的可迭代对象 (如 list, set)。\n",
    "        k: 跳数 (hops)。\n",
    "\n",
    "    Returns:\n",
    "        一个包含所有距离任一<0xE8><0xB5><0xB7>始节点 k 跳内的节点的集合（包括起始节点）。\n",
    "    \"\"\"\n",
    "    # 1. 创建一个无向图视图/副本 (只做一次)\n",
    "    #    对于仅查找节点，nx.Graph 通常足够且更快\n",
    "    undirected_graph = nx.Graph(graph)\n",
    "    # 或者 undirected_graph = graph.to_undirected() # 转为 MultiGraph\n",
    "\n",
    "    all_k_hop_neighbors = set()\n",
    "    valid_start_nodes_found = False\n",
    "\n",
    "    for start_node in start_nodes:\n",
    "        if start_node not in undirected_graph:\n",
    "            print(f\"警告: 起始节点 {start_node} 不在图中，将被忽略。\")\n",
    "            continue # 跳过不在图中的起始节点\n",
    "\n",
    "        valid_start_nodes_found = True\n",
    "        # 2. 为当前有效的起始节点计算 ego_graph\n",
    "        #    ego_graph 包含中心节点和 k-hop 内的所有节点\n",
    "        ego = nx.ego_graph(undirected_graph, start_node, radius=k)\n",
    "\n",
    "        # 3. 将当前 ego_graph 的节点合并到总集合中\n",
    "        all_k_hop_neighbors.update(ego.nodes())\n",
    "\n",
    "    if not valid_start_nodes_found and start_nodes:\n",
    "         print(\"警告: 所有提供的起始节点都不在图中。\")\n",
    "\n",
    "    return all_k_hop_neighbors\n",
    "\n"
   ]
  },
  {
   "cell_type": "code",
   "execution_count": 118,
   "id": "989fcd2e",
   "metadata": {},
   "outputs": [],
   "source": [
    "start_nodes = seed_paper_dois\n",
    "\n",
    "k = 1\n",
    "hop_1_neighbors = get_k_hop_neighbors(g6, start_nodes, k)"
   ]
  },
  {
   "cell_type": "code",
   "execution_count": 120,
   "id": "bd8c9f51",
   "metadata": {},
   "outputs": [],
   "source": [
    "k = 2\n",
    "hop_2_neighbors = get_k_hop_neighbors(g6, start_nodes, k)"
   ]
  },
  {
   "cell_type": "code",
   "execution_count": 121,
   "id": "e66934c2",
   "metadata": {},
   "outputs": [],
   "source": [
    "k = 3\n",
    "hop_3_neighbors = get_k_hop_neighbors(g6, start_nodes, k)"
   ]
  },
  {
   "cell_type": "code",
   "execution_count": 122,
   "id": "a613a340",
   "metadata": {},
   "outputs": [],
   "source": [
    "k = 4\n",
    "hop_4_neighbors = get_k_hop_neighbors(g6, start_nodes, k)"
   ]
  },
  {
   "cell_type": "code",
   "execution_count": 123,
   "id": "510f3be8",
   "metadata": {},
   "outputs": [],
   "source": [
    "k = 5\n",
    "hop_5_neighbors = get_k_hop_neighbors(g6, start_nodes, k)"
   ]
  },
  {
   "cell_type": "code",
   "execution_count": 126,
   "id": "5fe1f293",
   "metadata": {},
   "outputs": [],
   "source": [
    "g_view = nx.Graph(g6)"
   ]
  },
  {
   "cell_type": "code",
   "execution_count": 149,
   "id": "c9c758a9",
   "metadata": {},
   "outputs": [
    {
     "data": {
      "text/plain": [
       "['10.1038/s42256-024-00832-8']"
      ]
     },
     "execution_count": 149,
     "metadata": {},
     "output_type": "execute_result"
    }
   ],
   "source": [
    "hop_1_paper_ids"
   ]
  },
  {
   "cell_type": "code",
   "execution_count": 154,
   "id": "9a15ee14",
   "metadata": {},
   "outputs": [
    {
     "data": {
      "text/plain": [
       "['10.48550/arXiv.2503.01424']"
      ]
     },
     "execution_count": 154,
     "metadata": {},
     "output_type": "execute_result"
    }
   ],
   "source": [
    "[x for x in g.predecessors('10.1038/s42256-024-00832-8') if x in seed_paper_dois]"
   ]
  },
  {
   "cell_type": "code",
   "execution_count": 155,
   "id": "9eccb2e5",
   "metadata": {},
   "outputs": [
    {
     "data": {
      "text/plain": [
       "AtlasView({0: {'isInfluential': False, 'contexts': [], 'intents': [], 'contextsWithIntent': [], 'relationshipType': 'CITES'}})"
      ]
     },
     "execution_count": 155,
     "metadata": {},
     "output_type": "execute_result"
    }
   ],
   "source": [
    "g6['10.48550/arXiv.2503.01424']['10.1038/s42256-024-00832-8']"
   ]
  },
  {
   "cell_type": "code",
   "execution_count": null,
   "id": "d074062e",
   "metadata": {},
   "outputs": [],
   "source": [
    "import networkx as nx\n",
    "from typing import List, Dict, Any, Optional\n",
    "\n",
    "def get_edge_data_for_paths(\n",
    "    graph: nx.MultiDiGraph,\n",
    "    paths: List[List[Any]]\n",
    ") -> List[List[Optional[Dict[str, Any]]]]:\n",
    "    \"\"\"\n",
    "    为给定的节点路径列表，从原始 MultiDiGraph 中提取对应的边数据。\n",
    "\n",
    "    对于路径中的每一步 (u, v)，它会尝试查找 u->v 或 v->u 的边，\n",
    "    并返回找到的第一个边的属性字典。\n",
    "\n",
    "    Args:\n",
    "        graph: 原始的 NetworkX MultiDiGraph 对象，包含边的属性数据。\n",
    "        paths: 一个列表，其中每个元素是表示一条路径的节点列表\n",
    "               (例如由 nx.all_simple_paths 找到)。\n",
    "\n",
    "    Returns:\n",
    "        一个列表，结构与 paths 对应。每个内部列表包含对应路径上\n",
    "        每条边的属性数据字典。如果在原始图中找不到对应步骤的边\n",
    "        (理论上不应发生，如果路径有效)，则该步骤的数据为 None。\n",
    "        如果 u 和 v 之间有多条边，默认返回找到的第一条边的数据。\n",
    "    \"\"\"\n",
    "    paths_info = []\n",
    "    if not graph.is_multigraph():\n",
    "        # 提示：虽然输入类型是 MultiDiGraph，做一个检查或转换可能更健壮\n",
    "        print(\"警告：输入图不是 MultiDiGraph，行为可能与预期不同。\")\n",
    "\n",
    "    for path in paths:\n",
    "        current_path_edge_data = []\n",
    "        # 遍历路径中的每对连续节点 (u, v)\n",
    "        for i in range(len(path) - 1):\n",
    "            u = path[i]\n",
    "            v = path[i+1]\n",
    "            edge_data = None\n",
    "\n",
    "            # 尝试查找 u -> v 的边\n",
    "            # graph.get_edge_data(u, v) 返回一个字典，key 是边的 key，value 是属性字典\n",
    "            # 如果不存在 u -> v 的边，返回 None\n",
    "            forward_edges_data = graph.get_edge_data(u, v)\n",
    "            if forward_edges_data:\n",
    "                # 获取找到的第一个前向边的数据 (任意 key)\n",
    "                # list(forward_edges_data.values())[0] 获取第一个key对应的值（属性字典）\n",
    "                edge_data = list(forward_edges_data.values())[0]\n",
    "                current_path_edge_data.append((u, v, edge_data))\n",
    "            else:\n",
    "                # 如果没有 u -> v，尝试查找 v -> u 的边\n",
    "                backward_edges_data = graph.get_edge_data(v, u)\n",
    "                if backward_edges_data:\n",
    "                    # 获取找到的第一个反向边的数据 (任意 key)\n",
    "                    edge_data = list(backward_edges_data.values())[0]\n",
    "                    current_path_edge_data.append((v, u, edge_data))\n",
    "                else:\n",
    "                    current_path_edge_data.append((None, None, None))\n",
    "\n",
    "            # 如果 edge_data 为 None，可能表示路径与原始图不一致或存在问题\n",
    "            if edge_data is None:\n",
    "                 print(f\"警告：在路径 {path} 中，未能在原始 MultiDiGraph 中找到节点对 ({u}, {v}) 或 ({v}, {u}) 之间的任何边。\")\n",
    "\n",
    "        # 将当前路径的所有边数据列表添加到总结果中\n",
    "        paths_info.append(current_path_edge_data)\n",
    "\n",
    "    return paths_info"
   ]
  },
  {
   "cell_type": "code",
   "execution_count": 157,
   "id": "cfce2c3d",
   "metadata": {},
   "outputs": [],
   "source": [
    "k = 1\n",
    "hop_1_paper_ids = []\n",
    "hop_1_paper_paths = []\n",
    "hop_1_paper_paths_info = []\n",
    "for id in hop_1_neighbors:\n",
    "    node_data = g6.nodes[id]\n",
    "    if node_data.get('nodeType') == 'Paper':\n",
    "        paths = []\n",
    "        for seed_doi in seed_paper_dois:\n",
    "            paths_generator = nx.all_simple_paths(\n",
    "                g_view,\n",
    "                source=id,\n",
    "                target=seed_doi,\n",
    "                cutoff=k\n",
    "            )\n",
    "            for path in paths_generator:\n",
    "                paths.append(path)\n",
    "        paths_info = get_edge_data_for_paths(g6, paths)\n",
    "\n",
    "        hop_1_paper_ids.append(id)\n",
    "        hop_1_paper_paths.append(paths)\n",
    "        hop_1_paper_paths_info.append(paths_info)"
   ]
  },
  {
   "cell_type": "code",
   "execution_count": 159,
   "id": "a5b938bf",
   "metadata": {},
   "outputs": [
    {
     "data": {
      "text/plain": [
       "[[{'isInfluential': False,\n",
       "   'contexts': [],\n",
       "   'intents': [],\n",
       "   'contextsWithIntent': [],\n",
       "   'relationshipType': 'CITES'}]]"
      ]
     },
     "execution_count": 159,
     "metadata": {},
     "output_type": "execute_result"
    }
   ],
   "source": [
    "hop_1_paper_paths_info[0]"
   ]
  },
  {
   "cell_type": "code",
   "execution_count": 161,
   "id": "e6e5ca48",
   "metadata": {},
   "outputs": [
    {
     "data": {
      "text/plain": [
       "[['10.1038/s42256-024-00832-8', '10.48550/arXiv.2503.01424']]"
      ]
     },
     "execution_count": 161,
     "metadata": {},
     "output_type": "execute_result"
    }
   ],
   "source": [
    "hop_1_paper_paths[0]"
   ]
  },
  {
   "cell_type": "code",
   "execution_count": 166,
   "id": "a86cfc83",
   "metadata": {},
   "outputs": [
    {
     "ename": "KeyboardInterrupt",
     "evalue": "",
     "output_type": "error",
     "traceback": [
      "\u001b[0;31m---------------------------------------------------------------------------\u001b[0m",
      "\u001b[0;31mKeyboardInterrupt\u001b[0m                         Traceback (most recent call last)",
      "Cell \u001b[0;32mIn[166], line 16\u001b[0m\n\u001b[1;32m      9\u001b[0m \u001b[38;5;28;01mfor\u001b[39;00m seed_doi \u001b[38;5;129;01min\u001b[39;00m seed_paper_dois:\n\u001b[1;32m     10\u001b[0m     paths_generator \u001b[38;5;241m=\u001b[39m nx\u001b[38;5;241m.\u001b[39mall_simple_paths(\n\u001b[1;32m     11\u001b[0m         g_view,\n\u001b[1;32m     12\u001b[0m         source\u001b[38;5;241m=\u001b[39m\u001b[38;5;28mid\u001b[39m,\n\u001b[1;32m     13\u001b[0m         target\u001b[38;5;241m=\u001b[39mseed_doi,\n\u001b[1;32m     14\u001b[0m         cutoff\u001b[38;5;241m=\u001b[39mk\n\u001b[1;32m     15\u001b[0m     )\n\u001b[0;32m---> 16\u001b[0m     \u001b[38;5;28;01mfor\u001b[39;00m path \u001b[38;5;129;01min\u001b[39;00m paths_generator:\n\u001b[1;32m     17\u001b[0m         paths\u001b[38;5;241m.\u001b[39mappend(path)\n\u001b[1;32m     18\u001b[0m paths_info \u001b[38;5;241m=\u001b[39m get_edge_data_for_paths(g6, paths)\n",
      "File \u001b[0;32m~/miniconda3/envs/ai4fun/lib/python3.10/site-packages/networkx/algorithms/simple_paths.py:256\u001b[0m, in \u001b[0;36mall_simple_paths\u001b[0;34m(G, source, target, cutoff)\u001b[0m\n\u001b[1;32m     94\u001b[0m \u001b[38;5;129m@nx\u001b[39m\u001b[38;5;241m.\u001b[39m_dispatchable\n\u001b[1;32m     95\u001b[0m \u001b[38;5;28;01mdef\u001b[39;00m\u001b[38;5;250m \u001b[39m\u001b[38;5;21mall_simple_paths\u001b[39m(G, source, target, cutoff\u001b[38;5;241m=\u001b[39m\u001b[38;5;28;01mNone\u001b[39;00m):\n\u001b[1;32m     96\u001b[0m \u001b[38;5;250m    \u001b[39m\u001b[38;5;124;03m\"\"\"Generate all simple paths in the graph G from source to target.\u001b[39;00m\n\u001b[1;32m     97\u001b[0m \n\u001b[1;32m     98\u001b[0m \u001b[38;5;124;03m    A simple path is a path with no repeated nodes.\u001b[39;00m\n\u001b[0;32m   (...)\u001b[0m\n\u001b[1;32m    254\u001b[0m \n\u001b[1;32m    255\u001b[0m \u001b[38;5;124;03m    \"\"\"\u001b[39;00m\n\u001b[0;32m--> 256\u001b[0m     \u001b[38;5;28;01mfor\u001b[39;00m edge_path \u001b[38;5;129;01min\u001b[39;00m all_simple_edge_paths(G, source, target, cutoff):\n\u001b[1;32m    257\u001b[0m         \u001b[38;5;28;01myield\u001b[39;00m [source] \u001b[38;5;241m+\u001b[39m [edge[\u001b[38;5;241m1\u001b[39m] \u001b[38;5;28;01mfor\u001b[39;00m edge \u001b[38;5;129;01min\u001b[39;00m edge_path]\n",
      "File \u001b[0;32m~/miniconda3/envs/ai4fun/lib/python3.10/site-packages/networkx/algorithms/simple_paths.py:359\u001b[0m, in \u001b[0;36mall_simple_edge_paths\u001b[0;34m(G, source, target, cutoff)\u001b[0m\n\u001b[1;32m    356\u001b[0m cutoff \u001b[38;5;241m=\u001b[39m cutoff \u001b[38;5;28;01mif\u001b[39;00m cutoff \u001b[38;5;129;01mis\u001b[39;00m \u001b[38;5;129;01mnot\u001b[39;00m \u001b[38;5;28;01mNone\u001b[39;00m \u001b[38;5;28;01melse\u001b[39;00m \u001b[38;5;28mlen\u001b[39m(G) \u001b[38;5;241m-\u001b[39m \u001b[38;5;241m1\u001b[39m\n\u001b[1;32m    358\u001b[0m \u001b[38;5;28;01mif\u001b[39;00m cutoff \u001b[38;5;241m>\u001b[39m\u001b[38;5;241m=\u001b[39m \u001b[38;5;241m0\u001b[39m \u001b[38;5;129;01mand\u001b[39;00m targets:\n\u001b[0;32m--> 359\u001b[0m     \u001b[38;5;28;01myield from\u001b[39;00m _all_simple_edge_paths(G, source, targets, cutoff)\n",
      "File \u001b[0;32m~/miniconda3/envs/ai4fun/lib/python3.10/site-packages/networkx/algorithms/simple_paths.py:384\u001b[0m, in \u001b[0;36m_all_simple_edge_paths\u001b[0;34m(G, source, targets, cutoff)\u001b[0m\n\u001b[1;32m    380\u001b[0m stack \u001b[38;5;241m=\u001b[39m [\u001b[38;5;28miter\u001b[39m([(\u001b[38;5;28;01mNone\u001b[39;00m, source)])]\n\u001b[1;32m    382\u001b[0m \u001b[38;5;28;01mwhile\u001b[39;00m stack:\n\u001b[1;32m    383\u001b[0m     \u001b[38;5;66;03m# 1. Try to extend the current path.\u001b[39;00m\n\u001b[0;32m--> 384\u001b[0m     next_edge \u001b[38;5;241m=\u001b[39m \u001b[38;5;28;43mnext\u001b[39;49m\u001b[43m(\u001b[49m\u001b[43m(\u001b[49m\u001b[43me\u001b[49m\u001b[43m \u001b[49m\u001b[38;5;28;43;01mfor\u001b[39;49;00m\u001b[43m \u001b[49m\u001b[43me\u001b[49m\u001b[43m \u001b[49m\u001b[38;5;129;43;01min\u001b[39;49;00m\u001b[43m \u001b[49m\u001b[43mstack\u001b[49m\u001b[43m[\u001b[49m\u001b[38;5;241;43m-\u001b[39;49m\u001b[38;5;241;43m1\u001b[39;49m\u001b[43m]\u001b[49m\u001b[43m \u001b[49m\u001b[38;5;28;43;01mif\u001b[39;49;00m\u001b[43m \u001b[49m\u001b[43me\u001b[49m\u001b[43m[\u001b[49m\u001b[38;5;241;43m1\u001b[39;49m\u001b[43m]\u001b[49m\u001b[43m \u001b[49m\u001b[38;5;129;43;01mnot\u001b[39;49;00m\u001b[43m \u001b[49m\u001b[38;5;129;43;01min\u001b[39;49;00m\u001b[43m \u001b[49m\u001b[43mcurrent_path\u001b[49m\u001b[43m)\u001b[49m\u001b[43m,\u001b[49m\u001b[43m \u001b[49m\u001b[38;5;28;43;01mNone\u001b[39;49;00m\u001b[43m)\u001b[49m\n\u001b[1;32m    385\u001b[0m     \u001b[38;5;28;01mif\u001b[39;00m next_edge \u001b[38;5;129;01mis\u001b[39;00m \u001b[38;5;28;01mNone\u001b[39;00m:\n\u001b[1;32m    386\u001b[0m         \u001b[38;5;66;03m# All edges of the last node in the current path have been explored.\u001b[39;00m\n\u001b[1;32m    387\u001b[0m         stack\u001b[38;5;241m.\u001b[39mpop()\n",
      "File \u001b[0;32m~/miniconda3/envs/ai4fun/lib/python3.10/site-packages/networkx/algorithms/simple_paths.py:384\u001b[0m, in \u001b[0;36m<genexpr>\u001b[0;34m(.0)\u001b[0m\n\u001b[1;32m    380\u001b[0m stack \u001b[38;5;241m=\u001b[39m [\u001b[38;5;28miter\u001b[39m([(\u001b[38;5;28;01mNone\u001b[39;00m, source)])]\n\u001b[1;32m    382\u001b[0m \u001b[38;5;28;01mwhile\u001b[39;00m stack:\n\u001b[1;32m    383\u001b[0m     \u001b[38;5;66;03m# 1. Try to extend the current path.\u001b[39;00m\n\u001b[0;32m--> 384\u001b[0m     next_edge \u001b[38;5;241m=\u001b[39m \u001b[38;5;28mnext\u001b[39m((e \u001b[38;5;28;01mfor\u001b[39;00m e \u001b[38;5;129;01min\u001b[39;00m stack[\u001b[38;5;241m-\u001b[39m\u001b[38;5;241m1\u001b[39m] \u001b[38;5;28;01mif\u001b[39;00m e[\u001b[38;5;241m1\u001b[39m] \u001b[38;5;129;01mnot\u001b[39;00m \u001b[38;5;129;01min\u001b[39;00m current_path), \u001b[38;5;28;01mNone\u001b[39;00m)\n\u001b[1;32m    385\u001b[0m     \u001b[38;5;28;01mif\u001b[39;00m next_edge \u001b[38;5;129;01mis\u001b[39;00m \u001b[38;5;28;01mNone\u001b[39;00m:\n\u001b[1;32m    386\u001b[0m         \u001b[38;5;66;03m# All edges of the last node in the current path have been explored.\u001b[39;00m\n\u001b[1;32m    387\u001b[0m         stack\u001b[38;5;241m.\u001b[39mpop()\n",
      "File \u001b[0;32m~/miniconda3/envs/ai4fun/lib/python3.10/site-packages/networkx/classes/reportviews.py:861\u001b[0m, in \u001b[0;36mEdgeDataView.__iter__\u001b[0;34m(self)\u001b[0m\n\u001b[1;32m    859\u001b[0m     \u001b[38;5;28;01mfor\u001b[39;00m nbr, dd \u001b[38;5;129;01min\u001b[39;00m nbrs\u001b[38;5;241m.\u001b[39mitems():\n\u001b[1;32m    860\u001b[0m         \u001b[38;5;28;01mif\u001b[39;00m nbr \u001b[38;5;129;01mnot\u001b[39;00m \u001b[38;5;129;01min\u001b[39;00m seen:\n\u001b[0;32m--> 861\u001b[0m             \u001b[38;5;28;01myield\u001b[39;00m \u001b[38;5;28;43mself\u001b[39;49m\u001b[38;5;241;43m.\u001b[39;49m\u001b[43m_report\u001b[49m\u001b[43m(\u001b[49m\u001b[43mn\u001b[49m\u001b[43m,\u001b[49m\u001b[43m \u001b[49m\u001b[43mnbr\u001b[49m\u001b[43m,\u001b[49m\u001b[43m \u001b[49m\u001b[43mdd\u001b[49m\u001b[43m)\u001b[49m\n\u001b[1;32m    862\u001b[0m     seen[n] \u001b[38;5;241m=\u001b[39m \u001b[38;5;241m1\u001b[39m\n\u001b[1;32m    863\u001b[0m \u001b[38;5;28;01mdel\u001b[39;00m seen\n",
      "File \u001b[0;32m~/miniconda3/envs/ai4fun/lib/python3.10/site-packages/networkx/classes/reportviews.py:787\u001b[0m, in \u001b[0;36mOutEdgeDataView.__init__.<locals>.<lambda>\u001b[0;34m(n, nbr, dd)\u001b[0m\n\u001b[1;32m    785\u001b[0m     \u001b[38;5;28mself\u001b[39m\u001b[38;5;241m.\u001b[39m_report \u001b[38;5;241m=\u001b[39m \u001b[38;5;28;01mlambda\u001b[39;00m n, nbr, dd: (n, nbr, dd)\n\u001b[1;32m    786\u001b[0m \u001b[38;5;28;01melif\u001b[39;00m data \u001b[38;5;129;01mis\u001b[39;00m \u001b[38;5;28;01mFalse\u001b[39;00m:\n\u001b[0;32m--> 787\u001b[0m     \u001b[38;5;28mself\u001b[39m\u001b[38;5;241m.\u001b[39m_report \u001b[38;5;241m=\u001b[39m \u001b[38;5;28;01mlambda\u001b[39;00m n, nbr, dd: (n, nbr)\n\u001b[1;32m    788\u001b[0m \u001b[38;5;28;01melse\u001b[39;00m:  \u001b[38;5;66;03m# data is attribute name\u001b[39;00m\n\u001b[1;32m    789\u001b[0m     \u001b[38;5;28mself\u001b[39m\u001b[38;5;241m.\u001b[39m_report \u001b[38;5;241m=\u001b[39m (\n\u001b[1;32m    790\u001b[0m         \u001b[38;5;28;01mlambda\u001b[39;00m n, nbr, dd: (n, nbr, dd[data])\n\u001b[1;32m    791\u001b[0m         \u001b[38;5;28;01mif\u001b[39;00m data \u001b[38;5;129;01min\u001b[39;00m dd\n\u001b[1;32m    792\u001b[0m         \u001b[38;5;28;01melse\u001b[39;00m (n, nbr, default)\n\u001b[1;32m    793\u001b[0m     )\n",
      "\u001b[0;31mKeyboardInterrupt\u001b[0m: "
     ]
    }
   ],
   "source": [
    "k = 3\n",
    "hop_3_paper_ids = []\n",
    "hop_3_paper_paths = []\n",
    "hop_3_paper_paths_info = []\n",
    "for id in hop_3_neighbors:\n",
    "    node_data = g6.nodes[id]\n",
    "    if node_data.get('nodeType') == 'Paper':\n",
    "        paths = []\n",
    "        for seed_doi in seed_paper_dois:\n",
    "            paths_generator = nx.all_simple_paths(\n",
    "                g_view,\n",
    "                source=id,\n",
    "                target=seed_doi,\n",
    "                cutoff=k\n",
    "            )\n",
    "            for path in paths_generator:\n",
    "                paths.append(path)\n",
    "        paths_info = get_edge_data_for_paths(g6, paths)\n",
    "\n",
    "        hop_3_paper_ids.append(id)\n",
    "        hop_3_paper_paths.append(paths)\n",
    "        hop_3_paper_paths_info.append(paths_info)"
   ]
  },
  {
   "cell_type": "code",
   "execution_count": null,
   "id": "f377c706",
   "metadata": {},
   "outputs": [
    {
     "data": {
      "text/plain": [
       "[[{'source': 'semantic similarity',\n",
       "   'weight': 0.7084,\n",
       "   'relationshipType': 'SIMILAR_TO'},\n",
       "  {'isInfluential': False,\n",
       "   'contexts': [],\n",
       "   'intents': [],\n",
       "   'contextsWithIntent': [],\n",
       "   'relationshipType': 'CITES'}],\n",
       " [{'source': 'semantic similarity',\n",
       "   'weight': 0.7111,\n",
       "   'relationshipType': 'SIMILAR_TO'},\n",
       "  {'source': 'semantic similarity',\n",
       "   'weight': 0.7364,\n",
       "   'relationshipType': 'SIMILAR_TO'}],\n",
       " [{'source': 'semantic similarity',\n",
       "   'weight': 0.706,\n",
       "   'relationshipType': 'SIMILAR_TO'},\n",
       "  {'isInfluential': False,\n",
       "   'contexts': [],\n",
       "   'intents': [],\n",
       "   'contextsWithIntent': [],\n",
       "   'relationshipType': 'CITES'}],\n",
       " [{'source': 'semantic similarity',\n",
       "   'weight': 0.7837,\n",
       "   'relationshipType': 'SIMILAR_TO'},\n",
       "  {'source': 'semantic similarity',\n",
       "   'weight': 0.7294,\n",
       "   'relationshipType': 'SIMILAR_TO'}],\n",
       " [{'source': 'semantic similarity',\n",
       "   'weight': 0.7116,\n",
       "   'relationshipType': 'SIMILAR_TO'},\n",
       "  {'source': 'semantic similarity',\n",
       "   'weight': 0.7004,\n",
       "   'relationshipType': 'SIMILAR_TO'}],\n",
       " [{'source': 'semantic similarity',\n",
       "   'weight': 0.7149,\n",
       "   'relationshipType': 'SIMILAR_TO'},\n",
       "  {'isInfluential': False,\n",
       "   'contexts': ['The explosive growth of scientific publications has created both unprecedented opportunities and significant challenges for researchers seeking to stay abreast of state-of-the-art methods (Bornmann et al., 2020; Wang et al., 2024; ¸Sahinuç et al., 2024).'],\n",
       "   'intents': [],\n",
       "   'contextsWithIntent': [{'context': 'The explosive growth of scientific publications has created both unprecedented opportunities and significant challenges for researchers seeking to stay abreast of state-of-the-art methods (Bornmann et al., 2020; Wang et al., 2024; ¸Sahinuç et al., 2024).',\n",
       "     'intents': []}],\n",
       "   'relationshipType': 'CITES'}],\n",
       " [{'source': 'semantic similarity',\n",
       "   'weight': 0.7265,\n",
       "   'relationshipType': 'SIMILAR_TO'},\n",
       "  {'source': 'semantic similarity',\n",
       "   'weight': 0.7038,\n",
       "   'relationshipType': 'SIMILAR_TO'}],\n",
       " [{'source': 'semantic similarity',\n",
       "   'weight': 0.7351,\n",
       "   'relationshipType': 'SIMILAR_TO'},\n",
       "  {'source': 'semantic similarity',\n",
       "   'weight': 0.7135,\n",
       "   'relationshipType': 'SIMILAR_TO'}],\n",
       " [{'source': 'semantic similarity',\n",
       "   'weight': 0.7279,\n",
       "   'relationshipType': 'SIMILAR_TO'},\n",
       "  {'source': 'semantic similarity',\n",
       "   'weight': 0.7337,\n",
       "   'relationshipType': 'SIMILAR_TO'}],\n",
       " [{'source': 'semantic similarity',\n",
       "   'weight': 0.7103,\n",
       "   'relationshipType': 'SIMILAR_TO'},\n",
       "  {'source': 'semantic similarity',\n",
       "   'weight': 0.7105,\n",
       "   'relationshipType': 'SIMILAR_TO'}],\n",
       " [{'source': 'semantic similarity',\n",
       "   'weight': 0.7383,\n",
       "   'relationshipType': 'SIMILAR_TO'},\n",
       "  {'source': 'semantic similarity',\n",
       "   'weight': 0.7054,\n",
       "   'relationshipType': 'SIMILAR_TO'}],\n",
       " [{'source': 'semantic similarity',\n",
       "   'weight': 0.8273,\n",
       "   'relationshipType': 'SIMILAR_TO'},\n",
       "  {'source': 'semantic similarity',\n",
       "   'weight': 0.7047,\n",
       "   'relationshipType': 'SIMILAR_TO'}],\n",
       " [{'source': 'semantic similarity',\n",
       "   'weight': 0.7276,\n",
       "   'relationshipType': 'SIMILAR_TO'},\n",
       "  {'source': 'semantic similarity',\n",
       "   'weight': 0.7142,\n",
       "   'relationshipType': 'SIMILAR_TO'}],\n",
       " [{'source': 'semantic similarity',\n",
       "   'weight': 0.7646,\n",
       "   'relationshipType': 'SIMILAR_TO'},\n",
       "  {'source': 'semantic similarity',\n",
       "   'weight': 0.7208,\n",
       "   'relationshipType': 'SIMILAR_TO'}],\n",
       " [{'source': 'semantic similarity',\n",
       "   'weight': 0.8225,\n",
       "   'relationshipType': 'SIMILAR_TO'},\n",
       "  {'source': 'semantic similarity',\n",
       "   'weight': 0.7094,\n",
       "   'relationshipType': 'SIMILAR_TO'}],\n",
       " [{'source': 'semantic similarity',\n",
       "   'weight': 0.7157,\n",
       "   'relationshipType': 'SIMILAR_TO'},\n",
       "  {'source': 'semantic similarity',\n",
       "   'weight': 0.7213,\n",
       "   'relationshipType': 'SIMILAR_TO'}],\n",
       " [{'source': 'semantic similarity',\n",
       "   'weight': 0.7425,\n",
       "   'relationshipType': 'SIMILAR_TO'},\n",
       "  {'source': 'semantic similarity',\n",
       "   'weight': 0.7095,\n",
       "   'relationshipType': 'SIMILAR_TO'}],\n",
       " [{'source': 'semantic similarity',\n",
       "   'weight': 0.7272,\n",
       "   'relationshipType': 'SIMILAR_TO'},\n",
       "  {'source': 'semantic similarity',\n",
       "   'weight': 0.704,\n",
       "   'relationshipType': 'SIMILAR_TO'}],\n",
       " [{'source': 'semantic similarity',\n",
       "   'weight': 0.7253,\n",
       "   'relationshipType': 'SIMILAR_TO'},\n",
       "  {'source': 'semantic similarity',\n",
       "   'weight': 0.7339,\n",
       "   'relationshipType': 'SIMILAR_TO'}],\n",
       " [{'source': 'semantic similarity',\n",
       "   'weight': 0.7156,\n",
       "   'relationshipType': 'SIMILAR_TO'},\n",
       "  {'source': 'semantic similarity',\n",
       "   'weight': 0.7715,\n",
       "   'relationshipType': 'SIMILAR_TO'}],\n",
       " [{'source': 'semantic similarity',\n",
       "   'weight': 0.8827,\n",
       "   'relationshipType': 'SIMILAR_TO'},\n",
       "  {'source': 'semantic similarity',\n",
       "   'weight': 0.7574,\n",
       "   'relationshipType': 'SIMILAR_TO'}],\n",
       " [{'isInfluential': False,\n",
       "   'contexts': [],\n",
       "   'intents': [],\n",
       "   'contextsWithIntent': [],\n",
       "   'relationshipType': 'CITES'},\n",
       "  {'source': 'semantic similarity',\n",
       "   'weight': 0.7228,\n",
       "   'relationshipType': 'SIMILAR_TO'}],\n",
       " [{'source': 'semantic similarity',\n",
       "   'weight': 0.7087,\n",
       "   'relationshipType': 'SIMILAR_TO'},\n",
       "  {'source': 'semantic similarity',\n",
       "   'weight': 0.7211,\n",
       "   'relationshipType': 'SIMILAR_TO'}],\n",
       " [{'source': 'semantic similarity',\n",
       "   'weight': 0.7084,\n",
       "   'relationshipType': 'SIMILAR_TO'}],\n",
       " [{'source': 'semantic similarity',\n",
       "   'weight': 0.7111,\n",
       "   'relationshipType': 'SIMILAR_TO'},\n",
       "  {'source': 'semantic similarity',\n",
       "   'weight': 0.7029,\n",
       "   'relationshipType': 'SIMILAR_TO'}],\n",
       " [{'source': 'semantic similarity',\n",
       "   'weight': 0.7149,\n",
       "   'relationshipType': 'SIMILAR_TO'},\n",
       "  {'source': 'semantic similarity',\n",
       "   'weight': 0.7376,\n",
       "   'relationshipType': 'SIMILAR_TO'}],\n",
       " [{'source': 'semantic similarity',\n",
       "   'weight': 0.7352,\n",
       "   'relationshipType': 'SIMILAR_TO'},\n",
       "  {'source': 'semantic similarity',\n",
       "   'weight': 0.7142,\n",
       "   'relationshipType': 'SIMILAR_TO'}],\n",
       " [{'source': 'semantic similarity',\n",
       "   'weight': 0.7714,\n",
       "   'relationshipType': 'SIMILAR_TO'},\n",
       "  {'source': 'semantic similarity',\n",
       "   'weight': 0.7949,\n",
       "   'relationshipType': 'SIMILAR_TO'}],\n",
       " [{'source': 'semantic similarity',\n",
       "   'weight': 0.7281,\n",
       "   'relationshipType': 'SIMILAR_TO'},\n",
       "  {'source': 'semantic similarity',\n",
       "   'weight': 0.7138,\n",
       "   'relationshipType': 'SIMILAR_TO'}],\n",
       " [{'source': 'semantic similarity',\n",
       "   'weight': 0.7251,\n",
       "   'relationshipType': 'SIMILAR_TO'},\n",
       "  {'source': 'semantic similarity',\n",
       "   'weight': 0.7068,\n",
       "   'relationshipType': 'SIMILAR_TO'}],\n",
       " [{'source': 'semantic similarity',\n",
       "   'weight': 0.7265,\n",
       "   'relationshipType': 'SIMILAR_TO'},\n",
       "  {'source': 'semantic similarity',\n",
       "   'weight': 0.7306,\n",
       "   'relationshipType': 'SIMILAR_TO'}],\n",
       " [{'source': 'semantic similarity',\n",
       "   'weight': 0.7223,\n",
       "   'relationshipType': 'SIMILAR_TO'},\n",
       "  {'source': 'semantic similarity',\n",
       "   'weight': 0.718,\n",
       "   'relationshipType': 'SIMILAR_TO'}],\n",
       " [{'source': 'semantic similarity',\n",
       "   'weight': 0.702,\n",
       "   'relationshipType': 'SIMILAR_TO'},\n",
       "  {'source': 'semantic similarity',\n",
       "   'weight': 0.7185,\n",
       "   'relationshipType': 'SIMILAR_TO'}],\n",
       " [{'source': 'semantic similarity',\n",
       "   'weight': 0.7528,\n",
       "   'relationshipType': 'SIMILAR_TO'},\n",
       "  {'source': 'semantic similarity',\n",
       "   'weight': 0.7291,\n",
       "   'relationshipType': 'SIMILAR_TO'}],\n",
       " [{'source': 'semantic similarity',\n",
       "   'weight': 0.711,\n",
       "   'relationshipType': 'SIMILAR_TO'},\n",
       "  {'source': 'semantic similarity',\n",
       "   'weight': 0.7229,\n",
       "   'relationshipType': 'SIMILAR_TO'}],\n",
       " [{'source': 'semantic similarity',\n",
       "   'weight': 0.7351,\n",
       "   'relationshipType': 'SIMILAR_TO'},\n",
       "  {'source': 'semantic similarity',\n",
       "   'weight': 0.7091,\n",
       "   'relationshipType': 'SIMILAR_TO'}],\n",
       " [{'source': 'semantic similarity',\n",
       "   'weight': 0.7224,\n",
       "   'relationshipType': 'SIMILAR_TO'},\n",
       "  {'source': 'semantic similarity',\n",
       "   'weight': 0.7185,\n",
       "   'relationshipType': 'SIMILAR_TO'}],\n",
       " [{'source': 'semantic similarity',\n",
       "   'weight': 0.7103,\n",
       "   'relationshipType': 'SIMILAR_TO'},\n",
       "  {'source': 'semantic similarity',\n",
       "   'weight': 0.712,\n",
       "   'relationshipType': 'SIMILAR_TO'}],\n",
       " [{'source': 'semantic similarity',\n",
       "   'weight': 0.7383,\n",
       "   'relationshipType': 'SIMILAR_TO'},\n",
       "  {'source': 'semantic similarity',\n",
       "   'weight': 0.8272,\n",
       "   'relationshipType': 'SIMILAR_TO'}],\n",
       " [{'source': 'semantic similarity',\n",
       "   'weight': 0.714,\n",
       "   'relationshipType': 'SIMILAR_TO'},\n",
       "  {'source': 'semantic similarity',\n",
       "   'weight': 0.7632,\n",
       "   'relationshipType': 'SIMILAR_TO'}],\n",
       " [{'source': 'semantic similarity',\n",
       "   'weight': 0.8273,\n",
       "   'relationshipType': 'SIMILAR_TO'},\n",
       "  {'source': 'semantic similarity',\n",
       "   'weight': 0.7657,\n",
       "   'relationshipType': 'SIMILAR_TO'}],\n",
       " [{'source': 'semantic similarity',\n",
       "   'weight': 0.7246,\n",
       "   'relationshipType': 'SIMILAR_TO'},\n",
       "  {'source': 'semantic similarity',\n",
       "   'weight': 0.7124,\n",
       "   'relationshipType': 'SIMILAR_TO'}],\n",
       " [{'source': 'semantic similarity',\n",
       "   'weight': 0.8225,\n",
       "   'relationshipType': 'SIMILAR_TO'},\n",
       "  {'source': 'semantic similarity',\n",
       "   'weight': 0.7016,\n",
       "   'relationshipType': 'SIMILAR_TO'}],\n",
       " [{'source': 'semantic similarity',\n",
       "   'weight': 0.7157,\n",
       "   'relationshipType': 'SIMILAR_TO'},\n",
       "  {'source': 'semantic similarity',\n",
       "   'weight': 0.7602,\n",
       "   'relationshipType': 'SIMILAR_TO'}],\n",
       " [{'source': 'semantic similarity',\n",
       "   'weight': 0.7272,\n",
       "   'relationshipType': 'SIMILAR_TO'},\n",
       "  {'source': 'semantic similarity',\n",
       "   'weight': 0.7377,\n",
       "   'relationshipType': 'SIMILAR_TO'}],\n",
       " [{'source': 'semantic similarity',\n",
       "   'weight': 0.7253,\n",
       "   'relationshipType': 'SIMILAR_TO'},\n",
       "  {'source': 'semantic similarity',\n",
       "   'weight': 0.7299,\n",
       "   'relationshipType': 'SIMILAR_TO'}],\n",
       " [{'source': 'semantic similarity',\n",
       "   'weight': 0.7156,\n",
       "   'relationshipType': 'SIMILAR_TO'},\n",
       "  {'source': 'semantic similarity',\n",
       "   'weight': 0.7715,\n",
       "   'relationshipType': 'SIMILAR_TO'}],\n",
       " [{'source': 'semantic similarity',\n",
       "   'weight': 0.7233,\n",
       "   'relationshipType': 'SIMILAR_TO'},\n",
       "  {'source': 'semantic similarity',\n",
       "   'weight': 0.8145,\n",
       "   'relationshipType': 'SIMILAR_TO'}],\n",
       " [{'source': 'semantic similarity',\n",
       "   'weight': 0.7263,\n",
       "   'relationshipType': 'SIMILAR_TO'},\n",
       "  {'source': 'semantic similarity',\n",
       "   'weight': 0.719,\n",
       "   'relationshipType': 'SIMILAR_TO'}],\n",
       " [{'source': 'semantic similarity',\n",
       "   'weight': 0.742,\n",
       "   'relationshipType': 'SIMILAR_TO'},\n",
       "  {'source': 'semantic similarity',\n",
       "   'weight': 0.719,\n",
       "   'relationshipType': 'SIMILAR_TO'}],\n",
       " [{'source': 'semantic similarity',\n",
       "   'weight': 0.7008,\n",
       "   'relationshipType': 'SIMILAR_TO'},\n",
       "  {'isInfluential': False,\n",
       "   'contexts': ['Despite efforts to reduce bias, AI models like GAR are not immune to inherent biases present in training data, which can impact the evaluation process and potentially disadvantage certain research fields or authors Gallegos et al. (2024).'],\n",
       "   'intents': [],\n",
       "   'contextsWithIntent': [{'context': 'Despite efforts to reduce bias, AI models like GAR are not immune to inherent biases present in training data, which can impact the evaluation process and potentially disadvantage certain research fields or authors Gallegos et al. (2024).',\n",
       "     'intents': []}],\n",
       "   'relationshipType': 'CITES'}],\n",
       " [{'source': 'semantic similarity',\n",
       "   'weight': 0.7469,\n",
       "   'relationshipType': 'SIMILAR_TO'},\n",
       "  {'isInfluential': False,\n",
       "   'contexts': ['A growing body of research has explored the application of these LLM-based agents in simulating diverse societal environments Park et al. (2023); Gao et al. (2023); T¨ornberg et al. (2023); Liu et al. (2023a); Akata et al. (2023), with primary emphasis on agents’ cooperation and collaboration…'],\n",
       "   'intents': [],\n",
       "   'contextsWithIntent': [{'context': 'A growing body of research has explored the application of these LLM-based agents in simulating diverse societal environments Park et al. (2023); Gao et al. (2023); T¨ornberg et al. (2023); Liu et al. (2023a); Akata et al. (2023), with primary emphasis on agents’ cooperation and collaboration…',\n",
       "     'intents': []}],\n",
       "   'relationshipType': 'CITES'}],\n",
       " [{'source': 'semantic similarity',\n",
       "   'weight': 0.7607,\n",
       "   'relationshipType': 'SIMILAR_TO'},\n",
       "  {'isInfluential': False,\n",
       "   'contexts': ['A growing body of research has explored the application of these LLM-based agents in simulating diverse societal environments Park et al. (2023); Gao et al. (2023); T¨ornberg et al. (2023); Liu et al. (2023a); Akata et al. (2023), with primary emphasis on agents’ cooperation and collaboration…'],\n",
       "   'intents': [],\n",
       "   'contextsWithIntent': [{'context': 'A growing body of research has explored the application of these LLM-based agents in simulating diverse societal environments Park et al. (2023); Gao et al. (2023); T¨ornberg et al. (2023); Liu et al. (2023a); Akata et al. (2023), with primary emphasis on agents’ cooperation and collaboration…',\n",
       "     'intents': []}],\n",
       "   'relationshipType': 'CITES'}],\n",
       " [{'source': 'semantic similarity',\n",
       "   'weight': 0.8048,\n",
       "   'relationshipType': 'SIMILAR_TO'},\n",
       "  {'isInfluential': False,\n",
       "   'contexts': [],\n",
       "   'intents': [],\n",
       "   'contextsWithIntent': [],\n",
       "   'relationshipType': 'CITES'}],\n",
       " [{'source': 'semantic similarity',\n",
       "   'weight': 0.8827,\n",
       "   'relationshipType': 'SIMILAR_TO'},\n",
       "  {'source': 'semantic similarity',\n",
       "   'weight': 0.7294,\n",
       "   'relationshipType': 'SIMILAR_TO'}],\n",
       " [{'isInfluential': False,\n",
       "   'contexts': [],\n",
       "   'intents': [],\n",
       "   'contextsWithIntent': [],\n",
       "   'relationshipType': 'CITES'},\n",
       "  {'source': 'semantic similarity',\n",
       "   'weight': 0.7237,\n",
       "   'relationshipType': 'SIMILAR_TO'}],\n",
       " [{'source': 'semantic similarity',\n",
       "   'weight': 0.7425,\n",
       "   'relationshipType': 'SIMILAR_TO'},\n",
       "  {'source': 'semantic similarity',\n",
       "   'weight': 0.7099,\n",
       "   'relationshipType': 'SIMILAR_TO'}],\n",
       " [{'source': 'semantic similarity',\n",
       "   'weight': 0.7108,\n",
       "   'relationshipType': 'SIMILAR_TO'},\n",
       "  {'source': 'semantic similarity',\n",
       "   'weight': 0.7077,\n",
       "   'relationshipType': 'SIMILAR_TO'}],\n",
       " [{'source': 'semantic similarity',\n",
       "   'weight': 0.7837,\n",
       "   'relationshipType': 'SIMILAR_TO'},\n",
       "  {'isInfluential': False,\n",
       "   'contexts': [],\n",
       "   'intents': [],\n",
       "   'contextsWithIntent': [],\n",
       "   'relationshipType': 'CITES'}],\n",
       " [{'source': 'semantic similarity',\n",
       "   'weight': 0.7251,\n",
       "   'relationshipType': 'SIMILAR_TO'},\n",
       "  {'isInfluential': False,\n",
       "   'contexts': [],\n",
       "   'intents': [],\n",
       "   'contextsWithIntent': [],\n",
       "   'relationshipType': 'CITES'}],\n",
       " [{'source': 'semantic similarity',\n",
       "   'weight': 0.7156,\n",
       "   'relationshipType': 'SIMILAR_TO'},\n",
       "  {'source': 'semantic similarity',\n",
       "   'weight': 0.7076,\n",
       "   'relationshipType': 'SIMILAR_TO'}],\n",
       " [{'source': 'semantic similarity',\n",
       "   'weight': 0.8827,\n",
       "   'relationshipType': 'SIMILAR_TO'},\n",
       "  {'isInfluential': False,\n",
       "   'contexts': ['Surveys [101] in some emerging fields reveal a significant increase in their IEI , as expected.'],\n",
       "   'intents': [],\n",
       "   'contextsWithIntent': [{'context': 'Surveys [101] in some emerging fields reveal a significant increase in their IEI , as expected.',\n",
       "     'intents': []}],\n",
       "   'relationshipType': 'CITES'}],\n",
       " [{'source': 'semantic similarity',\n",
       "   'weight': 0.7443,\n",
       "   'relationshipType': 'SIMILAR_TO'},\n",
       "  {'isInfluential': False,\n",
       "   'contexts': [],\n",
       "   'intents': [],\n",
       "   'contextsWithIntent': [],\n",
       "   'relationshipType': 'CITES'}],\n",
       " [{'source': 'semantic similarity',\n",
       "   'weight': 0.726,\n",
       "   'relationshipType': 'SIMILAR_TO'},\n",
       "  {'isInfluential': False,\n",
       "   'contexts': ['…reviews, especially for the rapidly developing field of pattern analysis and machine intelligence, including image classification [20], [61], [62], [64], image segmentation [35], [67], [70], [91], object detection [21], [47], [81], [116], natural language processing [36], [63], [69], etc.'],\n",
       "   'intents': [],\n",
       "   'contextsWithIntent': [{'context': '…reviews, especially for the rapidly developing field of pattern analysis and machine intelligence, including image classification [20], [61], [62], [64], image segmentation [35], [67], [70], [91], object detection [21], [47], [81], [116], natural language processing [36], [63], [69], etc.',\n",
       "     'intents': []}],\n",
       "   'relationshipType': 'CITES'}],\n",
       " [{'source': 'semantic similarity',\n",
       "   'weight': 0.7352,\n",
       "   'relationshipType': 'SIMILAR_TO'},\n",
       "  {'isInfluential': True,\n",
       "   'contexts': ['Input Data Quality SciPIP (Wang et al., 2024d), COI (Li et al., 2024a), SciAgents (Ghafarollahi and Buehler, 2024), DATAVOY-AGER (Majumder et al., 2024a), SciMON (Wang et al., 2024c), Buehler (2024), Liu et al. (2024a) Hypothesis Quality Dolphin (Yuan et al., 2025), VIRSCI (Su et al., 2024), Nova (Hu et al., 2024a), AI Scientist (Lu et al., 2024), SGA (Ma et al., 2024), HypoGeniC (Zhou et al., 2024), ResearchAgent (Baek et al., 2024), Ac-celeron (Nigam et al., 2024), MOOSE (Yang et al., 2024b) Hypothesis Validation (§3) Scientific Claim Verification (§3.1) Claim HiSS (Zhang and Gao, 2023), SFAVEL (Bazaga et al., 2024), ProToCo (Zeng and Gao, 2023 DeepSeek-Prover (Xin et al., 2024), Lean-STaR (Lin et al., 2024), Thor (Jiang et al., 2022a), COPRA (Thakur et al., 2024), Logo-power (Wang et al., 2024b), Baldur (First et al., 2023), Mustard (Huang et al., 2024c), DT-Solver (Wang et al., 2023b), HTPS (Lample et al., 2022), GPT-f (Polu and Sutskever, 2020 MatPilot (Ni et al., 2024), CRISPR-GPT (Huang et al., 2024a), AgentHPO (Liu et al., 2024c), AutoML-GPT (Zhang et al., 2023), ML-Copilot (Zhang et al., 2024a',\n",
       "    'VIRSCI (Su et al., 2024) further optimized this process by customizing knowledge for each agent.',\n",
       "    '…(Majumder et al., 2024a), SciMON (Wang et al., 2024c), Buehler (2024), Liu et al. (2024a) Hypothesis Quality Dolphin (Yuan et al., 2025), VIRSCI (Su et al., 2024), Nova (Hu et al., 2024a), AI Scientist (Lu et al., 2024), SGA (Ma et al., 2024), HypoGeniC (Zhou et al., 2024), ResearchAgent (Baek…'],\n",
       "   'intents': [],\n",
       "   'contextsWithIntent': [{'context': 'Input Data Quality SciPIP (Wang et al., 2024d), COI (Li et al., 2024a), SciAgents (Ghafarollahi and Buehler, 2024), DATAVOY-AGER (Majumder et al., 2024a), SciMON (Wang et al., 2024c), Buehler (2024), Liu et al. (2024a) Hypothesis Quality Dolphin (Yuan et al., 2025), VIRSCI (Su et al., 2024), Nova (Hu et al., 2024a), AI Scientist (Lu et al., 2024), SGA (Ma et al., 2024), HypoGeniC (Zhou et al., 2024), ResearchAgent (Baek et al., 2024), Ac-celeron (Nigam et al., 2024), MOOSE (Yang et al., 2024b) Hypothesis Validation (§3) Scientific Claim Verification (§3.1) Claim HiSS (Zhang and Gao, 2023), SFAVEL (Bazaga et al., 2024), ProToCo (Zeng and Gao, 2023 DeepSeek-Prover (Xin et al., 2024), Lean-STaR (Lin et al., 2024), Thor (Jiang et al., 2022a), COPRA (Thakur et al., 2024), Logo-power (Wang et al., 2024b), Baldur (First et al., 2023), Mustard (Huang et al., 2024c), DT-Solver (Wang et al., 2023b), HTPS (Lample et al., 2022), GPT-f (Polu and Sutskever, 2020 MatPilot (Ni et al., 2024), CRISPR-GPT (Huang et al., 2024a), AgentHPO (Liu et al., 2024c), AutoML-GPT (Zhang et al., 2023), ML-Copilot (Zhang et al., 2024a',\n",
       "     'intents': []},\n",
       "    {'context': 'VIRSCI (Su et al., 2024) further optimized this process by customizing knowledge for each agent.',\n",
       "     'intents': []},\n",
       "    {'context': '…(Majumder et al., 2024a), SciMON (Wang et al., 2024c), Buehler (2024), Liu et al. (2024a) Hypothesis Quality Dolphin (Yuan et al., 2025), VIRSCI (Su et al., 2024), Nova (Hu et al., 2024a), AI Scientist (Lu et al., 2024), SGA (Ma et al., 2024), HypoGeniC (Zhou et al., 2024), ResearchAgent (Baek…',\n",
       "     'intents': []}],\n",
       "   'relationshipType': 'CITES'}],\n",
       " [{'source': 'semantic similarity',\n",
       "   'weight': 0.7714,\n",
       "   'relationshipType': 'SIMILAR_TO'},\n",
       "  {'source': 'semantic similarity',\n",
       "   'weight': 0.766,\n",
       "   'relationshipType': 'SIMILAR_TO'}],\n",
       " [{'source': 'semantic similarity',\n",
       "   'weight': 0.7281,\n",
       "   'relationshipType': 'SIMILAR_TO'},\n",
       "  {'isInfluential': False,\n",
       "   'contexts': ['…AI for science extends beyond the research process to include result-oriented discovery processes within specific domains, such as materials design, drug discovery, biology, and the solution of partial differential equations (Zheng et al., 2023; AI4Science and Quantum, 2023; Zhang et al., 2024d).',\n",
       "    'Additionally, certain surveys emphasize the application of AI in scientific domains (Zheng et al., 2023; Zhang et al., 2024d).'],\n",
       "   'intents': [],\n",
       "   'contextsWithIntent': [{'context': '…AI for science extends beyond the research process to include result-oriented discovery processes within specific domains, such as materials design, drug discovery, biology, and the solution of partial differential equations (Zheng et al., 2023; AI4Science and Quantum, 2023; Zhang et al., 2024d).',\n",
       "     'intents': []},\n",
       "    {'context': 'Additionally, certain surveys emphasize the application of AI in scientific domains (Zheng et al., 2023; Zhang et al., 2024d).',\n",
       "     'intents': []}],\n",
       "   'relationshipType': 'CITES'}],\n",
       " [{'source': 'semantic similarity',\n",
       "   'weight': 0.7265,\n",
       "   'relationshipType': 'SIMILAR_TO'},\n",
       "  {'source': 'semantic similarity',\n",
       "   'weight': 0.737,\n",
       "   'relationshipType': 'SIMILAR_TO'}],\n",
       " [{'source': 'semantic similarity',\n",
       "   'weight': 0.7964,\n",
       "   'relationshipType': 'SIMILAR_TO'},\n",
       "  {'isInfluential': False,\n",
       "   'contexts': ['In contrast, social science research often uses LLMs as experimental subjects to simulate human participants (Liu et al., 2023b; Manning et al., 2024; Mou et al., 2024).'],\n",
       "   'intents': [],\n",
       "   'contextsWithIntent': [{'context': 'In contrast, social science research often uses LLMs as experimental subjects to simulate human participants (Liu et al., 2023b; Manning et al., 2024; Mou et al., 2024).',\n",
       "     'intents': []}],\n",
       "   'relationshipType': 'CITES'}],\n",
       " [{'source': 'semantic similarity',\n",
       "   'weight': 0.7223,\n",
       "   'relationshipType': 'SIMILAR_TO'},\n",
       "  {'isInfluential': True,\n",
       "   'contexts': ['Input Data Quality SciPIP (Wang et al., 2024d), COI (Li et al., 2024a), SciAgents (Ghafarollahi and Buehler, 2024), DATAVOY-AGER (Majumder et al., 2024a), SciMON (Wang et al., 2024c), Buehler (2024), Liu et al. (2024a) Hypothesis Quality Dolphin (Yuan et al., 2025), VIRSCI (Su et al., 2024), Nova (Hu et al., 2024a), AI Scientist (Lu et al., 2024), SGA (Ma et al., 2024), HypoGeniC (Zhou et al., 2024), ResearchAgent (Baek et al., 2024), Ac-celeron (Nigam et al., 2024), MOOSE (Yang et al., 2024b) Hypothesis Validation (§3) Scientific Claim Verification (§3.1) Claim HiSS (Zhang and Gao, 2023), SFAVEL (Bazaga et al., 2024), ProToCo (Zeng and Gao, 2023 DeepSeek-Prover (Xin et al., 2024), Lean-STaR (Lin et al., 2024), Thor (Jiang et al., 2022a), COPRA (Thakur et al., 2024), Logo-power (Wang et al., 2024b), Baldur (First et al., 2023), Mustard (Huang et al., 2024c), DT-Solver (Wang et al., 2023b), HTPS (Lample et al., 2022), GPT-f (Polu and Sutskever, 2020 MatPilot (Ni et al., 2024), CRISPR-GPT (Huang et al., 2024a), AgentHPO (Liu et al., 2024c), AutoML-GPT (Zhang et al., 2023), ML-Copilot (Zhang et al., 2024a',\n",
       "    'Literature organization strategies have evolved through various methodologies, including triplet representations (Wang et al., 2024c), chain-based architectures (Li et al., 2024a), and complex database systems (Wang et al., 2024d).',\n",
       "    'Input Data Quality SciPIP (Wang et al., 2024d), COI (Li et al., 2024a), SciAgents (Ghafarollahi and Buehler, 2024), DATAVOY-AGER (Majumder et al., 2024a), SciMON (Wang et al., 2024c), Buehler (2024), Liu et al. (2024a) Hypothesis Quality Dolphin (Yuan et al., 2025), VIRSCI (Su et al., 2024), Nova…'],\n",
       "   'intents': [],\n",
       "   'contextsWithIntent': [{'context': 'Input Data Quality SciPIP (Wang et al., 2024d), COI (Li et al., 2024a), SciAgents (Ghafarollahi and Buehler, 2024), DATAVOY-AGER (Majumder et al., 2024a), SciMON (Wang et al., 2024c), Buehler (2024), Liu et al. (2024a) Hypothesis Quality Dolphin (Yuan et al., 2025), VIRSCI (Su et al., 2024), Nova (Hu et al., 2024a), AI Scientist (Lu et al., 2024), SGA (Ma et al., 2024), HypoGeniC (Zhou et al., 2024), ResearchAgent (Baek et al., 2024), Ac-celeron (Nigam et al., 2024), MOOSE (Yang et al., 2024b) Hypothesis Validation (§3) Scientific Claim Verification (§3.1) Claim HiSS (Zhang and Gao, 2023), SFAVEL (Bazaga et al., 2024), ProToCo (Zeng and Gao, 2023 DeepSeek-Prover (Xin et al., 2024), Lean-STaR (Lin et al., 2024), Thor (Jiang et al., 2022a), COPRA (Thakur et al., 2024), Logo-power (Wang et al., 2024b), Baldur (First et al., 2023), Mustard (Huang et al., 2024c), DT-Solver (Wang et al., 2023b), HTPS (Lample et al., 2022), GPT-f (Polu and Sutskever, 2020 MatPilot (Ni et al., 2024), CRISPR-GPT (Huang et al., 2024a), AgentHPO (Liu et al., 2024c), AutoML-GPT (Zhang et al., 2023), ML-Copilot (Zhang et al., 2024a',\n",
       "     'intents': []},\n",
       "    {'context': 'Literature organization strategies have evolved through various methodologies, including triplet representations (Wang et al., 2024c), chain-based architectures (Li et al., 2024a), and complex database systems (Wang et al., 2024d).',\n",
       "     'intents': []},\n",
       "    {'context': 'Input Data Quality SciPIP (Wang et al., 2024d), COI (Li et al., 2024a), SciAgents (Ghafarollahi and Buehler, 2024), DATAVOY-AGER (Majumder et al., 2024a), SciMON (Wang et al., 2024c), Buehler (2024), Liu et al. (2024a) Hypothesis Quality Dolphin (Yuan et al., 2025), VIRSCI (Su et al., 2024), Nova…',\n",
       "     'intents': []}],\n",
       "   'relationshipType': 'CITES'}],\n",
       " [{'source': 'semantic similarity',\n",
       "   'weight': 0.702,\n",
       "   'relationshipType': 'SIMILAR_TO'},\n",
       "  {'isInfluential': False,\n",
       "   'contexts': ['This process assists scientists in verifying research hypothesis, discovering evidence, and advancing scientific work (Wadden et al., 2020; Vladika and Matthes, 2023; Skarlinski et al., 2024).',\n",
       "    'PaperQA2 (Skarlinski et al., 2024) introduced an iterative agent-based approach for generating reviews, while STORM employed multi-agent conversation data for this purpose.'],\n",
       "   'intents': [],\n",
       "   'contextsWithIntent': [{'context': 'This process assists scientists in verifying research hypothesis, discovering evidence, and advancing scientific work (Wadden et al., 2020; Vladika and Matthes, 2023; Skarlinski et al., 2024).',\n",
       "     'intents': []},\n",
       "    {'context': 'PaperQA2 (Skarlinski et al., 2024) introduced an iterative agent-based approach for generating reviews, while STORM employed multi-agent conversation data for this purpose.',\n",
       "     'intents': []}],\n",
       "   'relationshipType': 'CITES'}],\n",
       " [{'source': 'semantic similarity',\n",
       "   'weight': 0.7528,\n",
       "   'relationshipType': 'SIMILAR_TO'},\n",
       "  {'isInfluential': True,\n",
       "   'contexts': ['Input Data Quality SciPIP (Wang et al., 2024d), COI (Li et al., 2024a), SciAgents (Ghafarollahi and Buehler, 2024), DATAVOY-AGER (Majumder et al., 2024a), SciMON (Wang et al., 2024c), Buehler (2024), Liu et al. (2024a) Hypothesis Quality Dolphin (Yuan et al., 2025), VIRSCI (Su et al., 2024), Nova (Hu et al., 2024a), AI Scientist (Lu et al., 2024), SGA (Ma et al., 2024), HypoGeniC (Zhou et al., 2024), ResearchAgent (Baek et al., 2024), Ac-celeron (Nigam et al., 2024), MOOSE (Yang et al., 2024b) Hypothesis Validation (§3) Scientific Claim Verification (§3.1) Claim HiSS (Zhang and Gao, 2023), SFAVEL (Bazaga et al., 2024), ProToCo (Zeng and Gao, 2023 DeepSeek-Prover (Xin et al., 2024), Lean-STaR (Lin et al., 2024), Thor (Jiang et al., 2022a), COPRA (Thakur et al., 2024), Logo-power (Wang et al., 2024b), Baldur (First et al., 2023), Mustard (Huang et al., 2024c), DT-Solver (Wang et al., 2023b), HTPS (Lample et al., 2022), GPT-f (Polu and Sutskever, 2020 MatPilot (Ni et al., 2024), CRISPR-GPT (Huang et al., 2024a), AgentHPO (Liu et al., 2024c), AutoML-GPT (Zhang et al., 2023), ML-Copilot (Zhang et al., 2024a',\n",
       "    'Knowledge graphs emerge as critical infrastructure (Hogan et al., 2021), enabling semantic relationship mapping via subgraph identification (Buehler, 2024; Ghafarollahi and Buehler, 2024).',\n",
       "    'Input Data Quality SciPIP (Wang et al., 2024d), COI (Li et al., 2024a), SciAgents (Ghafarollahi and Buehler, 2024), DATAVOY-AGER (Majumder et al., 2024a), SciMON (Wang et al., 2024c), Buehler (2024), Liu et al. (2024a) Hypothesis Quality Dolphin (Yuan et al., 2025), VIRSCI (Su et al., 2024), Nova…',\n",
       "    'Beyond iterative feedback, collaborative efforts among researchers have also been recognized, leading to multi-agent hypothesis generation approaches (Nigam et al., 2024; Ghafarollahi and Buehler, 2024).'],\n",
       "   'intents': [],\n",
       "   'contextsWithIntent': [{'context': 'Input Data Quality SciPIP (Wang et al., 2024d), COI (Li et al., 2024a), SciAgents (Ghafarollahi and Buehler, 2024), DATAVOY-AGER (Majumder et al., 2024a), SciMON (Wang et al., 2024c), Buehler (2024), Liu et al. (2024a) Hypothesis Quality Dolphin (Yuan et al., 2025), VIRSCI (Su et al., 2024), Nova (Hu et al., 2024a), AI Scientist (Lu et al., 2024), SGA (Ma et al., 2024), HypoGeniC (Zhou et al., 2024), ResearchAgent (Baek et al., 2024), Ac-celeron (Nigam et al., 2024), MOOSE (Yang et al., 2024b) Hypothesis Validation (§3) Scientific Claim Verification (§3.1) Claim HiSS (Zhang and Gao, 2023), SFAVEL (Bazaga et al., 2024), ProToCo (Zeng and Gao, 2023 DeepSeek-Prover (Xin et al., 2024), Lean-STaR (Lin et al., 2024), Thor (Jiang et al., 2022a), COPRA (Thakur et al., 2024), Logo-power (Wang et al., 2024b), Baldur (First et al., 2023), Mustard (Huang et al., 2024c), DT-Solver (Wang et al., 2023b), HTPS (Lample et al., 2022), GPT-f (Polu and Sutskever, 2020 MatPilot (Ni et al., 2024), CRISPR-GPT (Huang et al., 2024a), AgentHPO (Liu et al., 2024c), AutoML-GPT (Zhang et al., 2023), ML-Copilot (Zhang et al., 2024a',\n",
       "     'intents': []},\n",
       "    {'context': 'Knowledge graphs emerge as critical infrastructure (Hogan et al., 2021), enabling semantic relationship mapping via subgraph identification (Buehler, 2024; Ghafarollahi and Buehler, 2024).',\n",
       "     'intents': []},\n",
       "    {'context': 'Input Data Quality SciPIP (Wang et al., 2024d), COI (Li et al., 2024a), SciAgents (Ghafarollahi and Buehler, 2024), DATAVOY-AGER (Majumder et al., 2024a), SciMON (Wang et al., 2024c), Buehler (2024), Liu et al. (2024a) Hypothesis Quality Dolphin (Yuan et al., 2025), VIRSCI (Su et al., 2024), Nova…',\n",
       "     'intents': []},\n",
       "    {'context': 'Beyond iterative feedback, collaborative efforts among researchers have also been recognized, leading to multi-agent hypothesis generation approaches (Nigam et al., 2024; Ghafarollahi and Buehler, 2024).',\n",
       "     'intents': []}],\n",
       "   'relationshipType': 'CITES'}],\n",
       " [{'source': 'semantic similarity',\n",
       "   'weight': 0.711,\n",
       "   'relationshipType': 'SIMILAR_TO'},\n",
       "  {'source': 'semantic similarity',\n",
       "   'weight': 0.7015,\n",
       "   'relationshipType': 'SIMILAR_TO'}],\n",
       " [{'source': 'semantic similarity',\n",
       "   'weight': 0.7351,\n",
       "   'relationshipType': 'SIMILAR_TO'},\n",
       "  {'source': 'semantic similarity',\n",
       "   'weight': 0.7362,\n",
       "   'relationshipType': 'SIMILAR_TO'}],\n",
       " [{'source': 'semantic similarity',\n",
       "   'weight': 0.7279,\n",
       "   'relationshipType': 'SIMILAR_TO'},\n",
       "  {'source': 'semantic similarity',\n",
       "   'weight': 0.7201,\n",
       "   'relationshipType': 'SIMILAR_TO'}],\n",
       " [{'source': 'semantic similarity',\n",
       "   'weight': 0.7224,\n",
       "   'relationshipType': 'SIMILAR_TO'},\n",
       "  {'isInfluential': True,\n",
       "   'contexts': ['Input Data Quality SciPIP (Wang et al., 2024d), COI (Li et al., 2024a), SciAgents (Ghafarollahi and Buehler, 2024), DATAVOY-AGER (Majumder et al., 2024a), SciMON (Wang et al., 2024c), Buehler (2024), Liu et al. (2024a) Hypothesis Quality Dolphin (Yuan et al., 2025), VIRSCI (Su et al., 2024), Nova (Hu et al., 2024a), AI Scientist (Lu et al., 2024), SGA (Ma et al., 2024), HypoGeniC (Zhou et al., 2024), ResearchAgent (Baek et al., 2024), Ac-celeron (Nigam et al., 2024), MOOSE (Yang et al., 2024b) Hypothesis Validation (§3) Scientific Claim Verification (§3.1) Claim HiSS (Zhang and Gao, 2023), SFAVEL (Bazaga et al., 2024), ProToCo (Zeng and Gao, 2023 DeepSeek-Prover (Xin et al., 2024), Lean-STaR (Lin et al., 2024), Thor (Jiang et al., 2022a), COPRA (Thakur et al., 2024), Logo-power (Wang et al., 2024b), Baldur (First et al., 2023), Mustard (Huang et al., 2024c), DT-Solver (Wang et al., 2023b), HTPS (Lample et al., 2022), GPT-f (Polu and Sutskever, 2020 MatPilot (Ni et al., 2024), CRISPR-GPT (Huang et al., 2024a), AgentHPO (Liu et al., 2024c), AutoML-GPT (Zhang et al., 2023), ML-Copilot (Zhang et al., 2024a',\n",
       "    'Feedback mechanisms include direct responses to hypothesis (Baek et al., 2024), experimental outcome evaluations (Ma et al., 2024; Yuan et al., 2025), and automated peer review comments (Lu et al., 2024).',\n",
       "    '…al. (2024a) Hypothesis Quality Dolphin (Yuan et al., 2025), VIRSCI (Su et al., 2024), Nova (Hu et al., 2024a), AI Scientist (Lu et al., 2024), SGA (Ma et al., 2024), HypoGeniC (Zhou et al., 2024), ResearchAgent (Baek et al., 2024), Ac-celeron (Nigam et al., 2024), MOOSE (Yang et al., 2024b)…'],\n",
       "   'intents': [],\n",
       "   'contextsWithIntent': [{'context': 'Input Data Quality SciPIP (Wang et al., 2024d), COI (Li et al., 2024a), SciAgents (Ghafarollahi and Buehler, 2024), DATAVOY-AGER (Majumder et al., 2024a), SciMON (Wang et al., 2024c), Buehler (2024), Liu et al. (2024a) Hypothesis Quality Dolphin (Yuan et al., 2025), VIRSCI (Su et al., 2024), Nova (Hu et al., 2024a), AI Scientist (Lu et al., 2024), SGA (Ma et al., 2024), HypoGeniC (Zhou et al., 2024), ResearchAgent (Baek et al., 2024), Ac-celeron (Nigam et al., 2024), MOOSE (Yang et al., 2024b) Hypothesis Validation (§3) Scientific Claim Verification (§3.1) Claim HiSS (Zhang and Gao, 2023), SFAVEL (Bazaga et al., 2024), ProToCo (Zeng and Gao, 2023 DeepSeek-Prover (Xin et al., 2024), Lean-STaR (Lin et al., 2024), Thor (Jiang et al., 2022a), COPRA (Thakur et al., 2024), Logo-power (Wang et al., 2024b), Baldur (First et al., 2023), Mustard (Huang et al., 2024c), DT-Solver (Wang et al., 2023b), HTPS (Lample et al., 2022), GPT-f (Polu and Sutskever, 2020 MatPilot (Ni et al., 2024), CRISPR-GPT (Huang et al., 2024a), AgentHPO (Liu et al., 2024c), AutoML-GPT (Zhang et al., 2023), ML-Copilot (Zhang et al., 2024a',\n",
       "     'intents': []},\n",
       "    {'context': 'Feedback mechanisms include direct responses to hypothesis (Baek et al., 2024), experimental outcome evaluations (Ma et al., 2024; Yuan et al., 2025), and automated peer review comments (Lu et al., 2024).',\n",
       "     'intents': []},\n",
       "    {'context': '…al. (2024a) Hypothesis Quality Dolphin (Yuan et al., 2025), VIRSCI (Su et al., 2024), Nova (Hu et al., 2024a), AI Scientist (Lu et al., 2024), SGA (Ma et al., 2024), HypoGeniC (Zhou et al., 2024), ResearchAgent (Baek et al., 2024), Ac-celeron (Nigam et al., 2024), MOOSE (Yang et al., 2024b)…',\n",
       "     'intents': []}],\n",
       "   'relationshipType': 'CITES'}],\n",
       " [{'source': 'semantic similarity',\n",
       "   'weight': 0.7317,\n",
       "   'relationshipType': 'SIMILAR_TO'},\n",
       "  {'isInfluential': False,\n",
       "   'contexts': [],\n",
       "   'intents': [],\n",
       "   'contextsWithIntent': [],\n",
       "   'relationshipType': 'CITES'}],\n",
       " [{'source': 'semantic similarity',\n",
       "   'weight': 0.7391,\n",
       "   'relationshipType': 'SIMILAR_TO'},\n",
       "  {'isInfluential': False,\n",
       "   'contexts': [],\n",
       "   'intents': [],\n",
       "   'contextsWithIntent': [],\n",
       "   'relationshipType': 'CITES'}],\n",
       " [{'source': 'semantic similarity',\n",
       "   'weight': 0.7103,\n",
       "   'relationshipType': 'SIMILAR_TO'},\n",
       "  {'source': 'semantic similarity',\n",
       "   'weight': 0.7026,\n",
       "   'relationshipType': 'SIMILAR_TO'}],\n",
       " [{'source': 'semantic similarity',\n",
       "   'weight': 0.7383,\n",
       "   'relationshipType': 'SIMILAR_TO'},\n",
       "  {'source': 'semantic similarity',\n",
       "   'weight': 0.7046,\n",
       "   'relationshipType': 'SIMILAR_TO'}],\n",
       " [{'source': 'semantic similarity',\n",
       "   'weight': 0.714,\n",
       "   'relationshipType': 'SIMILAR_TO'},\n",
       "  {'source': 'semantic similarity',\n",
       "   'weight': 0.7255,\n",
       "   'relationshipType': 'SIMILAR_TO'}],\n",
       " [{'source': 'semantic similarity',\n",
       "   'weight': 0.8273,\n",
       "   'relationshipType': 'SIMILAR_TO'},\n",
       "  {'source': 'semantic similarity',\n",
       "   'weight': 0.7217,\n",
       "   'relationshipType': 'SIMILAR_TO'}],\n",
       " [{'source': 'semantic similarity',\n",
       "   'weight': 0.7246,\n",
       "   'relationshipType': 'SIMILAR_TO'},\n",
       "  {'source': 'semantic similarity',\n",
       "   'weight': 0.7652,\n",
       "   'relationshipType': 'SIMILAR_TO'}],\n",
       " [{'source': 'semantic similarity',\n",
       "   'weight': 0.7156,\n",
       "   'relationshipType': 'SIMILAR_TO'},\n",
       "  {'source': 'semantic similarity',\n",
       "   'weight': 0.7402,\n",
       "   'relationshipType': 'SIMILAR_TO'}],\n",
       " [{'isInfluential': False,\n",
       "   'contexts': [],\n",
       "   'intents': [],\n",
       "   'contextsWithIntent': [],\n",
       "   'relationshipType': 'CITES'},\n",
       "  {'source': 'semantic similarity',\n",
       "   'weight': 0.7924,\n",
       "   'relationshipType': 'SIMILAR_TO'}],\n",
       " [{'source': 'semantic similarity',\n",
       "   'weight': 0.7283,\n",
       "   'relationshipType': 'SIMILAR_TO'},\n",
       "  {'isInfluential': False,\n",
       "   'contexts': ['Theorem proving constitutes a subtask of logical reasoning, aimed at reinforcing the validity of the underlying theory within a hypothesis (Yang et al., 2023c; Li et al., 2024e).'],\n",
       "   'intents': [],\n",
       "   'contextsWithIntent': [{'context': 'Theorem proving constitutes a subtask of logical reasoning, aimed at reinforcing the validity of the underlying theory within a hypothesis (Yang et al., 2023c; Li et al., 2024e).',\n",
       "     'intents': []}],\n",
       "   'relationshipType': 'CITES'}]]"
      ]
     },
     "execution_count": 165,
     "metadata": {},
     "output_type": "execute_result"
    }
   ],
   "source": [
    "hop_3_paper_paths_info[0]"
   ]
  },
  {
   "cell_type": "code",
   "execution_count": 164,
   "id": "024a3833",
   "metadata": {},
   "outputs": [
    {
     "data": {
      "text/plain": [
       "1345"
      ]
     },
     "execution_count": 164,
     "metadata": {},
     "output_type": "execute_result"
    }
   ],
   "source": [
    "len(hop_2_paper_paths_info)"
   ]
  },
  {
   "cell_type": "code",
   "execution_count": null,
   "id": "b371c5e7",
   "metadata": {},
   "outputs": [],
   "source": [
    "# 包含无效起始节点的示例\n",
    "start_nodes_with_invalid = [0, 99] # 99 不在图中\n",
    "k = 2\n",
    "k_hop_neighbors_invalid = get_k_hop_neighbors(graph: nx.MultiDiGraph,\n",
    "(G, start_nodes_with_invalid, k)\n",
    "print(f\"起始节点 {start_nodes_with_invalid} 的 {k}-hop 邻居 (Ego方法): {k_hop_neighbors_invalid}\")\n",
    "\n",
    "# 如果希望结果不包含起始节点本身\n",
    "k_hop_neighbors_excluding_starts = k_hop_neighbors - set(start_nodes)\n",
    "print(f\"起始节点 {start_nodes} 的 {k}-hop 邻居 (Ego方法, 不含自身): {k_hop_neighbors_excluding_starts}\")"
   ]
  },
  {
   "cell_type": "code",
   "execution_count": null,
   "id": "2da3a460",
   "metadata": {},
   "outputs": [],
   "source": [
    "    undirected_view = nx.Graph(graph)\n",
    "\n",
    "    # 3. 使用 networkx.all_simple_paths 查找无向视图中的所有简单路径。\n",
    "    #    这个函数保证了路径中没有重复的节点（即无环）。\n",
    "    #    它返回一个生成器，这对于可能存在大量路径的情况更节省内存。\n",
    "    paths_generator = nx.all_simple_paths(\n",
    "        undirected_view,\n",
    "        source=source,\n",
    "        target=target,\n",
    "        cutoff=cutoff\n",
    "    )"
   ]
  },
  {
   "cell_type": "code",
   "execution_count": null,
   "id": "2ea3aee0",
   "metadata": {},
   "outputs": [],
   "source": []
  },
  {
   "cell_type": "code",
   "execution_count": null,
   "id": "c0515660",
   "metadata": {},
   "outputs": [],
   "source": []
  },
  {
   "cell_type": "code",
   "execution_count": null,
   "id": "1f95e92f",
   "metadata": {},
   "outputs": [],
   "source": [
    "find_all_undirected_simple_paths"
   ]
  },
  {
   "cell_type": "code",
   "execution_count": 92,
   "id": "0776632f",
   "metadata": {},
   "outputs": [
    {
     "data": {
      "text/plain": [
       "['10.48550/arXiv.2406.10252',\n",
       " '10.48550/arXiv.2412.10415',\n",
       " '10.48550/arXiv.2402.12928',\n",
       " '10.48550/arXiv.2503.01424']"
      ]
     },
     "execution_count": 92,
     "metadata": {},
     "output_type": "execute_result"
    }
   ],
   "source": [
    "seed_paper_dois"
   ]
  },
  {
   "cell_type": "code",
   "execution_count": 98,
   "id": "a122b21d",
   "metadata": {},
   "outputs": [
    {
     "name": "stdout",
     "output_type": "stream",
     "text": [
      "查找从节点 '10.48550/arXiv.2302.00093' 到节点 '10.48550/arXiv.2406.10252' 的所有简单路径 (忽略方向):\n"
     ]
    },
    {
     "ename": "KeyboardInterrupt",
     "evalue": "",
     "output_type": "error",
     "traceback": [
      "\u001b[0;31m---------------------------------------------------------------------------\u001b[0m",
      "\u001b[0;31mKeyboardInterrupt\u001b[0m                         Traceback (most recent call last)",
      "Cell \u001b[0;32mIn[98], line 12\u001b[0m\n\u001b[1;32m      9\u001b[0m all_paths_gen \u001b[38;5;241m=\u001b[39m find_all_undirected_simple_paths(g5, start_node, end_node, \u001b[38;5;241m5\u001b[39m)\n\u001b[1;32m     11\u001b[0m \u001b[38;5;66;03m# 4. 遍历生成器并打印路径\u001b[39;00m\n\u001b[0;32m---> 12\u001b[0m found_paths_list \u001b[38;5;241m=\u001b[39m \u001b[38;5;28;43mlist\u001b[39;49m\u001b[43m(\u001b[49m\u001b[43mall_paths_gen\u001b[49m\u001b[43m)\u001b[49m \u001b[38;5;66;03m# 将生成器转换为列表以便计数和打印\u001b[39;00m\n\u001b[1;32m     14\u001b[0m \u001b[38;5;28;01mif\u001b[39;00m found_paths_list:\n\u001b[1;32m     15\u001b[0m     \u001b[38;5;28mprint\u001b[39m(\u001b[38;5;124mf\u001b[39m\u001b[38;5;124m\"\u001b[39m\u001b[38;5;124m共找到 \u001b[39m\u001b[38;5;132;01m{\u001b[39;00m\u001b[38;5;28mlen\u001b[39m(found_paths_list)\u001b[38;5;132;01m}\u001b[39;00m\u001b[38;5;124m 条路径:\u001b[39m\u001b[38;5;124m\"\u001b[39m)\n",
      "File \u001b[0;32m~/miniconda3/envs/ai4fun/lib/python3.10/site-packages/networkx/algorithms/simple_paths.py:256\u001b[0m, in \u001b[0;36mall_simple_paths\u001b[0;34m(G, source, target, cutoff)\u001b[0m\n\u001b[1;32m     94\u001b[0m \u001b[38;5;129m@nx\u001b[39m\u001b[38;5;241m.\u001b[39m_dispatchable\n\u001b[1;32m     95\u001b[0m \u001b[38;5;28;01mdef\u001b[39;00m\u001b[38;5;250m \u001b[39m\u001b[38;5;21mall_simple_paths\u001b[39m(G, source, target, cutoff\u001b[38;5;241m=\u001b[39m\u001b[38;5;28;01mNone\u001b[39;00m):\n\u001b[1;32m     96\u001b[0m \u001b[38;5;250m    \u001b[39m\u001b[38;5;124;03m\"\"\"Generate all simple paths in the graph G from source to target.\u001b[39;00m\n\u001b[1;32m     97\u001b[0m \n\u001b[1;32m     98\u001b[0m \u001b[38;5;124;03m    A simple path is a path with no repeated nodes.\u001b[39;00m\n\u001b[0;32m   (...)\u001b[0m\n\u001b[1;32m    254\u001b[0m \n\u001b[1;32m    255\u001b[0m \u001b[38;5;124;03m    \"\"\"\u001b[39;00m\n\u001b[0;32m--> 256\u001b[0m     \u001b[38;5;28;01mfor\u001b[39;00m edge_path \u001b[38;5;129;01min\u001b[39;00m all_simple_edge_paths(G, source, target, cutoff):\n\u001b[1;32m    257\u001b[0m         \u001b[38;5;28;01myield\u001b[39;00m [source] \u001b[38;5;241m+\u001b[39m [edge[\u001b[38;5;241m1\u001b[39m] \u001b[38;5;28;01mfor\u001b[39;00m edge \u001b[38;5;129;01min\u001b[39;00m edge_path]\n",
      "File \u001b[0;32m~/miniconda3/envs/ai4fun/lib/python3.10/site-packages/networkx/algorithms/simple_paths.py:359\u001b[0m, in \u001b[0;36mall_simple_edge_paths\u001b[0;34m(G, source, target, cutoff)\u001b[0m\n\u001b[1;32m    356\u001b[0m cutoff \u001b[38;5;241m=\u001b[39m cutoff \u001b[38;5;28;01mif\u001b[39;00m cutoff \u001b[38;5;129;01mis\u001b[39;00m \u001b[38;5;129;01mnot\u001b[39;00m \u001b[38;5;28;01mNone\u001b[39;00m \u001b[38;5;28;01melse\u001b[39;00m \u001b[38;5;28mlen\u001b[39m(G) \u001b[38;5;241m-\u001b[39m \u001b[38;5;241m1\u001b[39m\n\u001b[1;32m    358\u001b[0m \u001b[38;5;28;01mif\u001b[39;00m cutoff \u001b[38;5;241m>\u001b[39m\u001b[38;5;241m=\u001b[39m \u001b[38;5;241m0\u001b[39m \u001b[38;5;129;01mand\u001b[39;00m targets:\n\u001b[0;32m--> 359\u001b[0m     \u001b[38;5;28;01myield from\u001b[39;00m _all_simple_edge_paths(G, source, targets, cutoff)\n",
      "File \u001b[0;32m~/miniconda3/envs/ai4fun/lib/python3.10/site-packages/networkx/algorithms/simple_paths.py:385\u001b[0m, in \u001b[0;36m_all_simple_edge_paths\u001b[0;34m(G, source, targets, cutoff)\u001b[0m\n\u001b[1;32m    382\u001b[0m \u001b[38;5;28;01mwhile\u001b[39;00m stack:\n\u001b[1;32m    383\u001b[0m     \u001b[38;5;66;03m# 1. Try to extend the current path.\u001b[39;00m\n\u001b[1;32m    384\u001b[0m     next_edge \u001b[38;5;241m=\u001b[39m \u001b[38;5;28mnext\u001b[39m((e \u001b[38;5;28;01mfor\u001b[39;00m e \u001b[38;5;129;01min\u001b[39;00m stack[\u001b[38;5;241m-\u001b[39m\u001b[38;5;241m1\u001b[39m] \u001b[38;5;28;01mif\u001b[39;00m e[\u001b[38;5;241m1\u001b[39m] \u001b[38;5;129;01mnot\u001b[39;00m \u001b[38;5;129;01min\u001b[39;00m current_path), \u001b[38;5;28;01mNone\u001b[39;00m)\n\u001b[0;32m--> 385\u001b[0m     \u001b[38;5;28;01mif\u001b[39;00m next_edge \u001b[38;5;129;01mis\u001b[39;00m \u001b[38;5;28;01mNone\u001b[39;00m:\n\u001b[1;32m    386\u001b[0m         \u001b[38;5;66;03m# All edges of the last node in the current path have been explored.\u001b[39;00m\n\u001b[1;32m    387\u001b[0m         stack\u001b[38;5;241m.\u001b[39mpop()\n\u001b[1;32m    388\u001b[0m         current_path\u001b[38;5;241m.\u001b[39mpopitem()\n",
      "\u001b[0;31mKeyboardInterrupt\u001b[0m: "
     ]
    }
   ],
   "source": [
    "g5 = ps.pg.graph\n",
    "start_node = '10.48550/arXiv.2302.00093'\n",
    "end_node = seed_paper_dois[0]\n",
    "\n",
    "print(f\"查找从节点 '{start_node}' 到节点 '{end_node}' 的所有简单路径 (忽略方向):\")\n",
    "\n",
    "# 3. 调用函数查找路径\n",
    "try:\n",
    "    all_paths_gen = find_all_undirected_simple_paths(g5, start_node, end_node, 5)\n",
    "\n",
    "    # 4. 遍历生成器并打印路径\n",
    "    found_paths_list = list(all_paths_gen) # 将生成器转换为列表以便计数和打印\n",
    "\n",
    "    if found_paths_list:\n",
    "        print(f\"共找到 {len(found_paths_list)} 条路径:\")\n",
    "        for i, path in enumerate(found_paths_list):\n",
    "            print(f\"  路径 {i+1}: {path}\")\n",
    "    else:\n",
    "        print(\"未找到任何路径。\")\n",
    "\n",
    "except nx.NodeNotFound as e:\n",
    "    print(f\"错误: {e}\")"
   ]
  },
  {
   "cell_type": "code",
   "execution_count": null,
   "id": "911d197d",
   "metadata": {},
   "outputs": [],
   "source": []
  },
  {
   "cell_type": "code",
   "execution_count": null,
   "id": "b4be414c",
   "metadata": {},
   "outputs": [],
   "source": []
  },
  {
   "cell_type": "code",
   "execution_count": null,
   "id": "f8e019df",
   "metadata": {},
   "outputs": [],
   "source": [
    "await ps.construct_paper_graph(\n",
    "    search_citation = 'both',  # 'both',\n",
    "    search_author = True,\n",
    "    find_recommend = True,\n",
    "    if_related_topic = True,\n",
    "    if_expanded_citations  = 'reference',  #  'reference',\n",
    "    if_expanded_authors = True,\n",
    "    if_add_similarity = True,\n",
    "    similarity_threshold = 0.7,\n",
    "    expanded_k_papers = 20,\n",
    "    expanded_l_authors = 100,\n",
    ")"
   ]
  },
  {
   "cell_type": "code",
   "execution_count": null,
   "id": "c8528b26",
   "metadata": {},
   "outputs": [],
   "source": [
    "len(ps.nodes_json)"
   ]
  },
  {
   "cell_type": "code",
   "execution_count": null,
   "id": "c28ad6c4",
   "metadata": {},
   "outputs": [],
   "source": [
    "len(ps.edges_json)"
   ]
  },
  {
   "cell_type": "code",
   "execution_count": null,
   "id": "30642b02",
   "metadata": {},
   "outputs": [],
   "source": [
    "g = ps.pg.graph"
   ]
  },
  {
   "cell_type": "code",
   "execution_count": null,
   "id": "3a4824d2",
   "metadata": {},
   "outputs": [],
   "source": [
    "len(g.nodes)"
   ]
  },
  {
   "cell_type": "code",
   "execution_count": null,
   "id": "75aa4eb6",
   "metadata": {},
   "outputs": [],
   "source": [
    "len(g.edges)"
   ]
  },
  {
   "cell_type": "code",
   "execution_count": null,
   "id": "0b36911a",
   "metadata": {},
   "outputs": [],
   "source": [
    "# check node types\n",
    "set([g.nodes[nid].get('nodeType') for nid in g.nodes])"
   ]
  },
  {
   "cell_type": "code",
   "execution_count": null,
   "id": "88de0b2d",
   "metadata": {},
   "outputs": [],
   "source": [
    "# stats of node types\n",
    "node_types = [g.nodes[nid].get('nodeType') for nid in g.nodes]\n",
    "\n",
    "from collections import Counter\n",
    "counts = Counter(node_types)\n",
    "\n",
    "# 按计数降序排序\n",
    "sorted_counts = counts.most_common()\n",
    "sorted_counts"
   ]
  },
  {
   "cell_type": "code",
   "execution_count": null,
   "id": "1f6f7903",
   "metadata": {},
   "outputs": [],
   "source": [
    "# stats of edge types\n",
    "edge_types = [d.get('relationshipType') for u, v, d in g.edges(data=True)]\n",
    "print(set(edge_types))\n",
    "\n",
    "from collections import Counter\n",
    "counts = Counter(edge_types)\n",
    "\n",
    "# 按计数降序排序\n",
    "sorted_counts = counts.most_common()\n",
    "print(sorted_counts)"
   ]
  },
  {
   "cell_type": "code",
   "execution_count": null,
   "id": "84ba695e",
   "metadata": {},
   "outputs": [],
   "source": [
    "# seed papers\n",
    "seed_paper_dois = [nid for nid in g.nodes \n",
    "                        if g.nodes[nid].get('nodeType')=='Paper' and\n",
    "                           g.nodes[nid].get('from_seed') == True]\n",
    "seed_paper_nodes = [g.nodes[nid] for nid in g.nodes \n",
    "                        if g.nodes[nid].get('nodeType')=='Paper' and\n",
    "                           g.nodes[nid].get('from_seed') == True]"
   ]
  },
  {
   "cell_type": "code",
   "execution_count": null,
   "id": "a87510ae",
   "metadata": {},
   "outputs": [],
   "source": [
    "print(seed_paper_dois)"
   ]
  },
  {
   "cell_type": "code",
   "execution_count": null,
   "id": "d9822600",
   "metadata": {},
   "outputs": [],
   "source": [
    "# expanded papers with citation chain\n",
    "# paper with cites but no citing, paper not in seed dois\n",
    "paper_w_ref_dois = []\n",
    "paper_w_ref_nodes = []\n",
    "\n",
    "for nid in g.nodes:\n",
    "    node = g.nodes[nid]\n",
    "    if node.get('nodeType')=='Paper' and nid not in seed_paper_dois:\n",
    "        out_edges_info = g.out_edges(nid, data=True)\n",
    "        cnt = 0\n",
    "        for u, v, data in out_edges_info:\n",
    "            if data.get('relationshipType') == 'CITES':\n",
    "               cnt += 1\n",
    "        if cnt > 0:\n",
    "            paper_w_ref_dois.append(nid)\n",
    "            paper_w_ref_nodes.append(node)\n",
    "\n",
    "print(paper_w_ref_dois)"
   ]
  },
  {
   "cell_type": "code",
   "execution_count": null,
   "id": "1cc02382",
   "metadata": {},
   "outputs": [],
   "source": [
    "expanded_paper_w_ref_dois = [x for x in paper_w_ref_dois if x not in seed_paper_dois]"
   ]
  },
  {
   "cell_type": "code",
   "execution_count": null,
   "id": "fb6bb94e",
   "metadata": {},
   "outputs": [],
   "source": [
    "filtered_dois = []\n",
    "for doi in expanded_paper_w_ref_dois:\n",
    "    out_edges_info = g.out_edges(doi, data=True)\n",
    "    ref_cnt = sum([1 for u, v, data in out_edges_info if data.get('relationshipType') == 'CITES'])\n",
    "    print(doi, ref_cnt)\n",
    "    if ref_cnt > 2:\n",
    "        filtered_dois.append(doi)"
   ]
  },
  {
   "cell_type": "code",
   "execution_count": null,
   "id": "f39b93a3",
   "metadata": {},
   "outputs": [],
   "source": [
    "g.out_edges('10.48550/arXiv.2408.16498', data=True)"
   ]
  },
  {
   "cell_type": "code",
   "execution_count": null,
   "id": "b9aa46b4",
   "metadata": {},
   "outputs": [],
   "source": [
    "n = '10.48550/arXiv.2408.16498'\n",
    "for v in g.successors(n):\n",
    "    data = g[n][v]\n",
    "    if data.get('relationshipType') == 'CITES':\n",
    "        print(g.nodes[v])"
   ]
  },
  {
   "cell_type": "code",
   "execution_count": null,
   "id": "62f45f8b",
   "metadata": {},
   "outputs": [],
   "source": [
    "len(filtered_dois)"
   ]
  },
  {
   "cell_type": "markdown",
   "id": "0ff27070",
   "metadata": {},
   "source": [
    "Check cross refs  \n",
    "- most refered to\n",
    "- precessor of seed dois"
   ]
  },
  {
   "cell_type": "code",
   "execution_count": null,
   "id": "6f1ea0d7",
   "metadata": {},
   "outputs": [],
   "source": [
    "paper_stat = []\n",
    "for n in g.nodes:\n",
    "    if g.nodes[n].get('nodeType') == 'Paper':\n",
    "        in_edges_info = g.in_edges(n, data=True)\n",
    "        cite_cnt = sum([1 for u, v, data in in_edges_info if data.get('relationshipType') == 'CITES'])\n",
    "        sim_cnt = sum([1 for u, v, data in in_edges_info if data.get('relationshipType') == 'SIMILAR_TO'])\n",
    "        paper_stat.append((n, cite_cnt, sim_cnt))"
   ]
  },
  {
   "cell_type": "code",
   "execution_count": null,
   "id": "d85a5f7e",
   "metadata": {},
   "outputs": [],
   "source": [
    "import numpy as np"
   ]
  },
  {
   "cell_type": "code",
   "execution_count": null,
   "id": "ea8f8e25",
   "metadata": {},
   "outputs": [],
   "source": [
    "sorted_by_cite = sorted(paper_stat, key=lambda item: item[1], reverse=True)\n",
    "print(sorted_by_cite[0:20])\n",
    "\n",
    "for item in sorted_by_cite[0:20]:\n",
    "    n = item[0]\n",
    "    cite_cnt = item[1]\n",
    "    # paper infos\n",
    "    title = g.nodes[n].get('title')\n",
    "    overall_cite_cnt = g.nodes[n].get('citationCount')\n",
    "    influential_cite_cnt = g.nodes[n].get('influentialCitationCount')\n",
    "    # author infors\n",
    "    hindex_lst = []\n",
    "    for u in g.predecessors(n):\n",
    "        if g.nodes[u].get('nodeType') == 'Author':\n",
    "            hIndex = g.nodes[u].get('hIndex')\n",
    "            if hIndex:\n",
    "                hindex_lst.append(hIndex)\n",
    "            paperCount = g.nodes[u].get('paperCount')\n",
    "            citationCount = g.nodes[u].get('citationCount')\n",
    "    h_index = np.average(hindex_lst)\n",
    "\n",
    "    paper_info = {\"doi\":n, \"title\":title, \n",
    "                  \"local_refs\":cite_cnt, \"global_refs\":overall_cite_cnt, \"inf_cite_cnt\":influential_cite_cnt,\n",
    "                  \"h_index\": h_index}\n",
    "    print(paper_info)"
   ]
  },
  {
   "cell_type": "code",
   "execution_count": null,
   "id": "3dc7b7ec",
   "metadata": {},
   "outputs": [],
   "source": [
    "sorted_by_sim = sorted(paper_stat, key=lambda item: item[2], reverse=True)\n",
    "print(sorted_by_sim[0:20])\n",
    "\n",
    "for item in sorted_by_sim[0:20]:\n",
    "    n = item[0]\n",
    "    sim_cnt = item[2]\n",
    "    title = g.nodes[n].get('title')\n",
    "    overall_cite_cnt = g.nodes[n].get('citationCount')\n",
    "    influential_cite_cnt = g.nodes[n].get('influentialCitationCount')\n",
    "    # author infors\n",
    "    hindex_lst = []\n",
    "    for u in g.predecessors(n):\n",
    "        if g.nodes[u].get('nodeType') == 'Author':\n",
    "            hIndex = g.nodes[u].get('hIndex')\n",
    "            if hIndex:\n",
    "                hindex_lst.append(hIndex)\n",
    "            paperCount = g.nodes[u].get('paperCount')\n",
    "            citationCount = g.nodes[u].get('citationCount')\n",
    "    h_index = np.average(hindex_lst)\n",
    "\n",
    "    paper_info = {\"doi\":n, \"title\":title, \n",
    "                  \"local_sims\":sim_cnt, \"global_refs\":overall_cite_cnt, \"inf_cite_cnt\":influential_cite_cnt,\n",
    "                  \"h_index\": h_index}\n",
    "    print(paper_info)"
   ]
  },
  {
   "cell_type": "code",
   "execution_count": null,
   "id": "6982774e",
   "metadata": {},
   "outputs": [],
   "source": [
    "# check key authors in graph\n",
    "author_stat = []\n",
    "for n in g.nodes:\n",
    "    if g.nodes[n].get('nodeType') == 'Author':\n",
    "        out_edges_info = g.out_edges(n, data=True)\n",
    "        writes_cnt = sum([1 for u, v, data in out_edges_info if data.get('relationshipType') == 'WRITES'])\n",
    "        author_stat.append((n, writes_cnt))"
   ]
  },
  {
   "cell_type": "code",
   "execution_count": null,
   "id": "3d0b2a32",
   "metadata": {},
   "outputs": [],
   "source": [
    "sorted_by_writes = sorted(author_stat, key=lambda item: item[1], reverse=True)\n",
    "print(sorted_by_writes[0:20])\n",
    "\n",
    "for item in sorted_by_writes[0:20]:\n",
    "    n = item[0]\n",
    "    print(g.nodes[n])"
   ]
  },
  {
   "cell_type": "code",
   "execution_count": null,
   "id": "e838ea0f",
   "metadata": {},
   "outputs": [],
   "source": [
    "ps.explored_nodes"
   ]
  },
  {
   "cell_type": "code",
   "execution_count": null,
   "id": "e5ea649a",
   "metadata": {},
   "outputs": [],
   "source": [
    "for id in graph[0].graph.nodes:\n",
    "    item = graph[0].graph.nodes[id]\n",
    "    if item.get('nodeType') is None:\n",
    "        print(id, item)"
   ]
  },
  {
   "cell_type": "code",
   "execution_count": null,
   "id": "14049e72",
   "metadata": {},
   "outputs": [],
   "source": [
    "set(nodes_types)"
   ]
  },
  {
   "cell_type": "code",
   "execution_count": null,
   "id": "6e42ad93",
   "metadata": {},
   "outputs": [],
   "source": [
    "set([d['relationshipType'] for u, v, d in graph[0].graph.edges(data=True)])"
   ]
  },
  {
   "cell_type": "code",
   "execution_count": null,
   "id": "44a2c951",
   "metadata": {},
   "outputs": [],
   "source": [
    "# node types and edges types to keep\n",
    "filtered_node_labels = ['Paper', 'Topic', 'Author']\n",
    "filtered_edges_labels = ['CITES', 'DISCUSS', 'WRITES']"
   ]
  },
  {
   "cell_type": "code",
   "execution_count": null,
   "id": "f52f4213",
   "metadata": {},
   "outputs": [],
   "source": [
    "G = graph[0].graph"
   ]
  },
  {
   "cell_type": "code",
   "execution_count": null,
   "id": "339de557",
   "metadata": {},
   "outputs": [],
   "source": [
    "# Create a list of node IDs to iterate over\n",
    "node_ids_to_check = list(G.nodes) # <--- Create a static list here\n",
    "\n",
    "# filter node types\n",
    "for id in node_ids_to_check: # <-- Iterate over the list\n",
    "    # Check if the node still exists (important if edges might remove nodes indirectly, though less likely here)\n",
    "    if id in G:\n",
    "        item = G.nodes[id]\n",
    "        node_type = item.get('nodeType')\n",
    "        if node_type not in filtered_node_labels:\n",
    "            G.remove_node(id) # Modify the original graph G"
   ]
  },
  {
   "cell_type": "code",
   "execution_count": null,
   "id": "4cf9baea",
   "metadata": {},
   "outputs": [],
   "source": [
    "# Create a list of edge tuples (u, v, data) to iterate over\n",
    "edge_list_copy = list(G.edges(data=True)) # <--- Create a static list here\n",
    "\n",
    "# filter edge types\n",
    "for u, v, d in edge_list_copy: # <-- Iterate over the copy\n",
    "    edge_type = d.get('relationshipType') # Use .get() for safety if attr might be missing\n",
    "    if edge_type not in filtered_edges_labels:\n",
    "         # Check if edge still exists (might have been removed if graph allows parallel edges and one was removed)\n",
    "         if G.has_edge(u, v):\n",
    "            G.remove_edge(u, v) # Modify the original graph G"
   ]
  },
  {
   "cell_type": "code",
   "execution_count": 6,
   "id": "64c7ec79",
   "metadata": {},
   "outputs": [
    {
     "data": {
      "text/plain": [
       "0"
      ]
     },
     "execution_count": 6,
     "metadata": {},
     "output_type": "execute_result"
    }
   ],
   "source": [
    "len(set([1,2,3]) - set([1, 2,3,4, 5,6]))"
   ]
  },
  {
   "cell_type": "code",
   "execution_count": null,
   "id": "94c8ef4b",
   "metadata": {},
   "outputs": [],
   "source": [
    "\n",
    "G.remove_edge(1, 3)"
   ]
  },
  {
   "cell_type": "code",
   "execution_count": null,
   "id": "6e861433",
   "metadata": {},
   "outputs": [],
   "source": [
    "set([graph[0].graph.nodes[x]['nodeType'] for x in graph[0].graph.nodes])"
   ]
  },
  {
   "cell_type": "code",
   "execution_count": null,
   "id": "c4dac349",
   "metadata": {},
   "outputs": [],
   "source": [
    "a = False\n",
    "if a:\n",
    "    print(111)"
   ]
  },
  {
   "cell_type": "code",
   "execution_count": null,
   "id": "e25d68d5",
   "metadata": {},
   "outputs": [],
   "source": [
    "import networkx as nx\n",
    "G = nx.Graph()"
   ]
  },
  {
   "cell_type": "code",
   "execution_count": null,
   "id": "1501a5b3",
   "metadata": {},
   "outputs": [],
   "source": [
    "G.add_nodes_from([(4, {\"color\": \"red\"}), (5, {\"color\": \"green\"})])"
   ]
  },
  {
   "cell_type": "code",
   "execution_count": null,
   "id": "8d767059",
   "metadata": {},
   "outputs": [],
   "source": [
    "G.nodes[4]"
   ]
  },
  {
   "cell_type": "code",
   "execution_count": null,
   "id": "3e50252b",
   "metadata": {},
   "outputs": [],
   "source": [
    "G.add_nodes_from([(4, {\"color\": \"blue\"})])"
   ]
  },
  {
   "cell_type": "code",
   "execution_count": null,
   "id": "af1e8da8",
   "metadata": {},
   "outputs": [],
   "source": [
    "G.nodes[4]"
   ]
  },
  {
   "cell_type": "code",
   "execution_count": null,
   "id": "c418ac40",
   "metadata": {},
   "outputs": [],
   "source": [
    "G.add_nodes_from([(4, {\"name\": \"No.4\"})])"
   ]
  },
  {
   "cell_type": "code",
   "execution_count": null,
   "id": "7c017868",
   "metadata": {},
   "outputs": [],
   "source": [
    "G.nodes[4]"
   ]
  },
  {
   "cell_type": "code",
   "execution_count": null,
   "id": "0a1110a4",
   "metadata": {},
   "outputs": [],
   "source": []
  }
 ],
 "metadata": {
  "kernelspec": {
   "display_name": "jiezi4ai",
   "language": "python",
   "name": "python3"
  },
  "language_info": {
   "codemirror_mode": {
    "name": "ipython",
    "version": 3
   },
   "file_extension": ".py",
   "mimetype": "text/x-python",
   "name": "python",
   "nbconvert_exporter": "python",
   "pygments_lexer": "ipython3",
   "version": "3.10.16"
  }
 },
 "nbformat": 4,
 "nbformat_minor": 5
}
